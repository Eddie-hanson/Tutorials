{
 "cells": [
  {
   "cell_type": "code",
   "execution_count": 12,
   "metadata": {},
   "outputs": [
    {
     "name": "stdout",
     "output_type": "stream",
     "text": [
      "-98\n",
      "The number is Even\n"
     ]
    }
   ],
   "source": [
    "\"\"\"\n",
    "If Conditions\n",
    " User will enter a floating point number let say 238.913.\n",
    " Your task is to find out the integer before the point (in thus case 23)8 and\n",
    " then check if that integer portion is an even number or not.   \n",
    "\"\"\"\n",
    "x = float(input(\"Enter a real number: \"))\n",
    "Y = round(x)\n",
    "if x>0:\n",
    " \n",
    "  if Y>x:\n",
    "    IntPortion=Y-1\n",
    "  else:\n",
    "      IntPortion=Y      \n",
    "else:\n",
    "  if Y<x:\n",
    "   IntPortion=Y+1\n",
    "  else:\n",
    "    IntPortion=Y      \n",
    "print(IntPortion)\n",
    "\n",
    "if IntPortion%2==0:\n",
    "  print(\"The number is Even\")\n",
    "else:\n",
    "  print(\"The number is Odd\")"
   ]
  },
  {
   "cell_type": "code",
   "execution_count": null,
   "metadata": {},
   "outputs": [],
   "source": []
  }
 ],
 "metadata": {
  "kernelspec": {
   "display_name": "condaenv",
   "language": "python",
   "name": "python3"
  },
  "language_info": {
   "codemirror_mode": {
    "name": "ipython",
    "version": 3
   },
   "file_extension": ".py",
   "mimetype": "text/x-python",
   "name": "python",
   "nbconvert_exporter": "python",
   "pygments_lexer": "ipython3",
   "version": "3.12.1"
  }
 },
 "nbformat": 4,
 "nbformat_minor": 2
}
