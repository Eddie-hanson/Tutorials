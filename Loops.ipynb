{
 "cells": [
  {
   "cell_type": "code",
   "execution_count": 10,
   "metadata": {},
   "outputs": [],
   "source": [
    "# n = int(input(\"Max Iteration\"))\n",
    "# i = 0\n",
    "# while i<n:\n",
    "#     print (i)    \n",
    "#     i+=1\n",
    "# print (\"Done\")\n",
    "    "
   ]
  },
  {
   "cell_type": "code",
   "execution_count": 11,
   "metadata": {},
   "outputs": [
    {
     "name": "stdout",
     "output_type": "stream",
     "text": [
      "1\n",
      "2\n",
      "3\n",
      "4\n",
      "5\n",
      "6\n",
      "7\n",
      "8\n",
      "9\n",
      "10\n",
      "[0, 1, 4, 9, 16, 25, 36, 49, 64, 81]\n"
     ]
    }
   ],
   "source": [
    "\"\"\"\n",
    "    For loop\n",
    "    \"\"\"\n",
    "L =[]\n",
    "for i in range (10):\n",
    "    print (i +1)\n",
    "    L.append(i**2)\n",
    "    \n",
    "print (L)"
   ]
  },
  {
   "cell_type": "code",
   "execution_count": 12,
   "metadata": {},
   "outputs": [
    {
     "name": "stdout",
     "output_type": "stream",
     "text": [
      "1\n",
      "3\n",
      "5\n",
      "7\n",
      "9\n",
      "11\n",
      "13\n",
      "15\n",
      "17\n",
      "19\n",
      "21\n",
      "23\n",
      "25\n",
      "27\n",
      "29\n",
      "[0, 4, 16, 36, 64, 100, 144, 196, 256, 324, 400, 484, 576, 676, 784]\n"
     ]
    }
   ],
   "source": [
    "\"\"\"\"\n",
    "For Loop iterating through every second index\n",
    "\"\"\"\n",
    "\n",
    "L =[]\n",
    "for i in range (0,30,2):\n",
    "    print (i+1)\n",
    "    L.append(i**2)\n",
    "    \n",
    "print (L)"
   ]
  },
  {
   "cell_type": "code",
   "execution_count": 13,
   "metadata": {},
   "outputs": [
    {
     "name": "stdout",
     "output_type": "stream",
     "text": [
      "34\n",
      "Edward\n",
      "12\n",
      "Osu\n",
      "Mark\n",
      "Tema\n",
      "54\n",
      "Nungua\n",
      "Print x Successfull\n",
      "I am outside the loop\n"
     ]
    }
   ],
   "source": [
    "\"\"\"\n",
    "Else in for loop\n",
    "\"\"\"\n",
    "S= {\"Edward\",\"Mark\", 12,\"Tema\", 34, \"Osu\",54, \"Nungua\",}\n",
    "for x in S:\n",
    "    print (x)\n",
    "else:\n",
    "    print (\"Print x Successfull\")\n",
    "print (\"I am outside the loop\")"
   ]
  },
  {
   "cell_type": "code",
   "execution_count": 18,
   "metadata": {},
   "outputs": [
    {
     "name": "stdout",
     "output_type": "stream",
     "text": [
      "Edward is below the legal age\n",
      "Edward is 12\n",
      "Nick is above the legal age\n",
      "Nick is 32\n",
      "William is below the legal age\n",
      "William is 17\n",
      "Jude is above the legal age\n",
      "Jude is 37\n",
      "Queen is above the legal age\n",
      "Queen is 42\n",
      "Lizz is below the legal age\n",
      "Lizz is 11\n",
      "Kingsley is above the legal age\n",
      "Kingsley is 53\n",
      "Jake is above the legal age\n",
      "Jake is 31\n"
     ]
    }
   ],
   "source": [
    "\"\"\"\n",
    "Iterating over dictionaries.\n",
    "\"\"\"\n",
    "D = {\"Edward\":12, \"Nick\":32, \"William\":17, \"Jude\":37, \"Queen\":42, \"Lizz\":11, \"Kingsley\": 53,\"Jake\":31}\n",
    "for x in D:\n",
    "    if D[x]<18:\n",
    "        print (x, \"is below the legal age\")\n",
    "    else :\n",
    "        print (x, \"is above the legal age\")     \n",
    "    print (x, \"is\",D[x])"
   ]
  },
  {
   "cell_type": "code",
   "execution_count": 4,
   "metadata": {},
   "outputs": [
    {
     "name": "stdout",
     "output_type": "stream",
     "text": [
      "-13\n"
     ]
    }
   ],
   "source": [
    "\"\"\"Given a list of numbers ie [1,2,3,4,- 5, 7,-13,15], make another list that contains all the items in sorted order from min to max i.e your result will make another list\n",
    "\n",
    "\"\"\"\n",
    "L=[1,2,3,4,- 5, 7,-13,15]\n",
    "m=L[0]\n",
    "for i in L:\n",
    "    if i < m:\n",
    "        m = i\n",
    "print(m)       "
   ]
  }
 ],
 "metadata": {
  "kernelspec": {
   "display_name": "condaenv",
   "language": "python",
   "name": "python3"
  },
  "language_info": {
   "codemirror_mode": {
    "name": "ipython",
    "version": 3
   },
   "file_extension": ".py",
   "mimetype": "text/x-python",
   "name": "python",
   "nbconvert_exporter": "python",
   "pygments_lexer": "ipython3",
   "version": "3.12.1"
  }
 },
 "nbformat": 4,
 "nbformat_minor": 2
}
