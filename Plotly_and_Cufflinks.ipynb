{
 "cells": [
  {
   "cell_type": "markdown",
   "metadata": {},
   "source": [
    "# PLOTLY AND CUFFLINKS"
   ]
  },
  {
   "cell_type": "markdown",
   "metadata": {},
   "source": [
    "## Plotly is used to create inrteractive visualizations while Cufflinks connects plotly to pandas \n",
    "### Plotly connects pandas and python to a interractive javascript library"
   ]
  },
  {
   "cell_type": "code",
   "execution_count": 1,
   "metadata": {},
   "outputs": [],
   "source": [
    "import pandas as pd\n",
    "import numpy as np\n",
    "import matplotlib.pyplot as plt\n",
    "import cufflinks as cf\n",
    "from plotly.offline import download_plotlyjs, init_notebook_mode, plot, iplot\n",
    "%matplotlib inline\n"
   ]
  },
  {
   "cell_type": "code",
   "execution_count": 2,
   "metadata": {},
   "outputs": [
    {
     "data": {
      "text/html": [
       "        <script type=\"text/javascript\">\n",
       "        window.PlotlyConfig = {MathJaxConfig: 'local'};\n",
       "        if (window.MathJax && window.MathJax.Hub && window.MathJax.Hub.Config) {window.MathJax.Hub.Config({SVG: {font: \"STIX-Web\"}});}\n",
       "        if (typeof require !== 'undefined') {\n",
       "        require.undef(\"plotly\");\n",
       "        requirejs.config({\n",
       "            paths: {\n",
       "                'plotly': ['https://cdn.plot.ly/plotly-2.30.0.min']\n",
       "            }\n",
       "        });\n",
       "        require(['plotly'], function(Plotly) {\n",
       "            window._Plotly = Plotly;\n",
       "        });\n",
       "        }\n",
       "        </script>\n",
       "        "
      ]
     },
     "metadata": {},
     "output_type": "display_data"
    }
   ],
   "source": [
    "''''To connect javascript to yout notebook run init_notebook_mode(connected=True)'''\n",
    "init_notebook_mode(connected=True)"
   ]
  },
  {
   "cell_type": "code",
   "execution_count": 3,
   "metadata": {},
   "outputs": [
    {
     "data": {
      "text/html": [
       "        <script type=\"text/javascript\">\n",
       "        window.PlotlyConfig = {MathJaxConfig: 'local'};\n",
       "        if (window.MathJax && window.MathJax.Hub && window.MathJax.Hub.Config) {window.MathJax.Hub.Config({SVG: {font: \"STIX-Web\"}});}\n",
       "        if (typeof require !== 'undefined') {\n",
       "        require.undef(\"plotly\");\n",
       "        requirejs.config({\n",
       "            paths: {\n",
       "                'plotly': ['https://cdn.plot.ly/plotly-2.30.0.min']\n",
       "            }\n",
       "        });\n",
       "        require(['plotly'], function(Plotly) {\n",
       "            window._Plotly = Plotly;\n",
       "        });\n",
       "        }\n",
       "        </script>\n",
       "        "
      ]
     },
     "metadata": {},
     "output_type": "display_data"
    }
   ],
   "source": [
    "cf.go_offline()"
   ]
  },
  {
   "cell_type": "code",
   "execution_count": 4,
   "metadata": {},
   "outputs": [],
   "source": [
    "# DATA\n",
    "df1=pd.DataFrame(np.random.randn(100,4), columns='A B C D'.split())"
   ]
  },
  {
   "cell_type": "code",
   "execution_count": 5,
   "metadata": {},
   "outputs": [
    {
     "data": {
      "text/html": [
       "<div>\n",
       "<style scoped>\n",
       "    .dataframe tbody tr th:only-of-type {\n",
       "        vertical-align: middle;\n",
       "    }\n",
       "\n",
       "    .dataframe tbody tr th {\n",
       "        vertical-align: top;\n",
       "    }\n",
       "\n",
       "    .dataframe thead th {\n",
       "        text-align: right;\n",
       "    }\n",
       "</style>\n",
       "<table border=\"1\" class=\"dataframe\">\n",
       "  <thead>\n",
       "    <tr style=\"text-align: right;\">\n",
       "      <th></th>\n",
       "      <th>A</th>\n",
       "      <th>B</th>\n",
       "      <th>C</th>\n",
       "      <th>D</th>\n",
       "    </tr>\n",
       "  </thead>\n",
       "  <tbody>\n",
       "    <tr>\n",
       "      <th>0</th>\n",
       "      <td>-0.271642</td>\n",
       "      <td>-0.560685</td>\n",
       "      <td>-0.175101</td>\n",
       "      <td>0.028994</td>\n",
       "    </tr>\n",
       "    <tr>\n",
       "      <th>1</th>\n",
       "      <td>-1.325707</td>\n",
       "      <td>1.679224</td>\n",
       "      <td>1.028870</td>\n",
       "      <td>-0.671688</td>\n",
       "    </tr>\n",
       "    <tr>\n",
       "      <th>2</th>\n",
       "      <td>0.095091</td>\n",
       "      <td>-0.086617</td>\n",
       "      <td>0.729419</td>\n",
       "      <td>0.833444</td>\n",
       "    </tr>\n",
       "    <tr>\n",
       "      <th>3</th>\n",
       "      <td>0.567779</td>\n",
       "      <td>0.389873</td>\n",
       "      <td>-0.557886</td>\n",
       "      <td>-1.971677</td>\n",
       "    </tr>\n",
       "    <tr>\n",
       "      <th>4</th>\n",
       "      <td>-1.770200</td>\n",
       "      <td>0.014846</td>\n",
       "      <td>-1.442756</td>\n",
       "      <td>1.505324</td>\n",
       "    </tr>\n",
       "  </tbody>\n",
       "</table>\n",
       "</div>"
      ],
      "text/plain": [
       "          A         B         C         D\n",
       "0 -0.271642 -0.560685 -0.175101  0.028994\n",
       "1 -1.325707  1.679224  1.028870 -0.671688\n",
       "2  0.095091 -0.086617  0.729419  0.833444\n",
       "3  0.567779  0.389873 -0.557886 -1.971677\n",
       "4 -1.770200  0.014846 -1.442756  1.505324"
      ]
     },
     "execution_count": 5,
     "metadata": {},
     "output_type": "execute_result"
    }
   ],
   "source": [
    "df1.head()"
   ]
  },
  {
   "cell_type": "code",
   "execution_count": 6,
   "metadata": {},
   "outputs": [],
   "source": [
    "df2=pd.DataFrame({'Categories':['A','B','C'], 'values':[32,43,50]})"
   ]
  },
  {
   "cell_type": "code",
   "execution_count": 7,
   "metadata": {},
   "outputs": [
    {
     "data": {
      "text/html": [
       "<div>\n",
       "<style scoped>\n",
       "    .dataframe tbody tr th:only-of-type {\n",
       "        vertical-align: middle;\n",
       "    }\n",
       "\n",
       "    .dataframe tbody tr th {\n",
       "        vertical-align: top;\n",
       "    }\n",
       "\n",
       "    .dataframe thead th {\n",
       "        text-align: right;\n",
       "    }\n",
       "</style>\n",
       "<table border=\"1\" class=\"dataframe\">\n",
       "  <thead>\n",
       "    <tr style=\"text-align: right;\">\n",
       "      <th></th>\n",
       "      <th>Categories</th>\n",
       "      <th>values</th>\n",
       "    </tr>\n",
       "  </thead>\n",
       "  <tbody>\n",
       "    <tr>\n",
       "      <th>0</th>\n",
       "      <td>A</td>\n",
       "      <td>32</td>\n",
       "    </tr>\n",
       "    <tr>\n",
       "      <th>1</th>\n",
       "      <td>B</td>\n",
       "      <td>43</td>\n",
       "    </tr>\n",
       "    <tr>\n",
       "      <th>2</th>\n",
       "      <td>C</td>\n",
       "      <td>50</td>\n",
       "    </tr>\n",
       "  </tbody>\n",
       "</table>\n",
       "</div>"
      ],
      "text/plain": [
       "  Categories  values\n",
       "0          A      32\n",
       "1          B      43\n",
       "2          C      50"
      ]
     },
     "execution_count": 7,
     "metadata": {},
     "output_type": "execute_result"
    }
   ],
   "source": [
    "df2"
   ]
  },
  {
   "cell_type": "code",
   "execution_count": 8,
   "metadata": {},
   "outputs": [
    {
     "data": {
      "text/html": [
       "<div>\n",
       "<style scoped>\n",
       "    .dataframe tbody tr th:only-of-type {\n",
       "        vertical-align: middle;\n",
       "    }\n",
       "\n",
       "    .dataframe tbody tr th {\n",
       "        vertical-align: top;\n",
       "    }\n",
       "\n",
       "    .dataframe thead th {\n",
       "        text-align: right;\n",
       "    }\n",
       "</style>\n",
       "<table border=\"1\" class=\"dataframe\">\n",
       "  <thead>\n",
       "    <tr style=\"text-align: right;\">\n",
       "      <th></th>\n",
       "      <th>A</th>\n",
       "      <th>B</th>\n",
       "      <th>C</th>\n",
       "      <th>D</th>\n",
       "    </tr>\n",
       "  </thead>\n",
       "  <tbody>\n",
       "    <tr>\n",
       "      <th>0</th>\n",
       "      <td>-0.271642</td>\n",
       "      <td>-0.560685</td>\n",
       "      <td>-0.175101</td>\n",
       "      <td>0.028994</td>\n",
       "    </tr>\n",
       "    <tr>\n",
       "      <th>1</th>\n",
       "      <td>-1.325707</td>\n",
       "      <td>1.679224</td>\n",
       "      <td>1.028870</td>\n",
       "      <td>-0.671688</td>\n",
       "    </tr>\n",
       "    <tr>\n",
       "      <th>2</th>\n",
       "      <td>0.095091</td>\n",
       "      <td>-0.086617</td>\n",
       "      <td>0.729419</td>\n",
       "      <td>0.833444</td>\n",
       "    </tr>\n",
       "    <tr>\n",
       "      <th>3</th>\n",
       "      <td>0.567779</td>\n",
       "      <td>0.389873</td>\n",
       "      <td>-0.557886</td>\n",
       "      <td>-1.971677</td>\n",
       "    </tr>\n",
       "    <tr>\n",
       "      <th>4</th>\n",
       "      <td>-1.770200</td>\n",
       "      <td>0.014846</td>\n",
       "      <td>-1.442756</td>\n",
       "      <td>1.505324</td>\n",
       "    </tr>\n",
       "    <tr>\n",
       "      <th>...</th>\n",
       "      <td>...</td>\n",
       "      <td>...</td>\n",
       "      <td>...</td>\n",
       "      <td>...</td>\n",
       "    </tr>\n",
       "    <tr>\n",
       "      <th>95</th>\n",
       "      <td>-0.516389</td>\n",
       "      <td>-2.070418</td>\n",
       "      <td>1.169999</td>\n",
       "      <td>1.013420</td>\n",
       "    </tr>\n",
       "    <tr>\n",
       "      <th>96</th>\n",
       "      <td>0.532643</td>\n",
       "      <td>-0.612046</td>\n",
       "      <td>-0.549267</td>\n",
       "      <td>-1.400878</td>\n",
       "    </tr>\n",
       "    <tr>\n",
       "      <th>97</th>\n",
       "      <td>-0.234986</td>\n",
       "      <td>-1.690814</td>\n",
       "      <td>-0.467821</td>\n",
       "      <td>-0.535087</td>\n",
       "    </tr>\n",
       "    <tr>\n",
       "      <th>98</th>\n",
       "      <td>-0.007529</td>\n",
       "      <td>0.394593</td>\n",
       "      <td>-0.445720</td>\n",
       "      <td>-0.766922</td>\n",
       "    </tr>\n",
       "    <tr>\n",
       "      <th>99</th>\n",
       "      <td>1.180722</td>\n",
       "      <td>-0.840294</td>\n",
       "      <td>-0.497314</td>\n",
       "      <td>1.097043</td>\n",
       "    </tr>\n",
       "  </tbody>\n",
       "</table>\n",
       "<p>100 rows × 4 columns</p>\n",
       "</div>"
      ],
      "text/plain": [
       "           A         B         C         D\n",
       "0  -0.271642 -0.560685 -0.175101  0.028994\n",
       "1  -1.325707  1.679224  1.028870 -0.671688\n",
       "2   0.095091 -0.086617  0.729419  0.833444\n",
       "3   0.567779  0.389873 -0.557886 -1.971677\n",
       "4  -1.770200  0.014846 -1.442756  1.505324\n",
       "..       ...       ...       ...       ...\n",
       "95 -0.516389 -2.070418  1.169999  1.013420\n",
       "96  0.532643 -0.612046 -0.549267 -1.400878\n",
       "97 -0.234986 -1.690814 -0.467821 -0.535087\n",
       "98 -0.007529  0.394593 -0.445720 -0.766922\n",
       "99  1.180722 -0.840294 -0.497314  1.097043\n",
       "\n",
       "[100 rows x 4 columns]"
      ]
     },
     "execution_count": 8,
     "metadata": {},
     "output_type": "execute_result"
    }
   ],
   "source": [
    "df1"
   ]
  },
  {
   "cell_type": "code",
   "execution_count": 9,
   "metadata": {},
   "outputs": [
    {
     "data": {
      "text/plain": [
       "<Axes: >"
      ]
     },
     "execution_count": 9,
     "metadata": {},
     "output_type": "execute_result"
    },
    {
     "data": {
      "image/png": "[encoded data removed]",
      "text/plain": [
       "<Figure size 640x480 with 1 Axes>"
      ]
     },
     "metadata": {},
     "output_type": "display_data"
    }
   ],
   "source": [
    "df1.plot()"
   ]
  },
  {
   "cell_type": "code",
   "execution_count": 10,
   "metadata": {},
   "outputs": [
    {
     "data": {
      "application/vnd.plotly.v1+json": {
       "config": {
        "linkText": "Export to plot.ly",
        "plotlyServerURL": "https://plot.ly",
        "showLink": true
       },
       "data": [
        {
         "line": {
          "color": "rgba(255, 153, 51, 1.0)",
          "dash": "solid",
          "shape": "linear",
          "width": 1.3
         },
         "mode": "lines",
         "name": "A",
         "text": "",
         "type": "scatter",
         "x": [
          0,
          1,
          2,
          3,
          4,
          5,
          6,
          7,
          8,
          9,
          10,
          11,
          12,
          13,
          14,
          15,
          16,
          17,
          18,
          19,
          20,
          21,
          22,
          23,
          24,
          25,
          26,
          27,
          28,
          29,
          30,
          31,
          32,
          33,
          34,
          35,
          36,
          37,
          38,
          39,
          40,
          41,
          42,
          43,
          44,
          45,
          46,
          47,
          48,
          49,
          50,
          51,
          52,
          53,
          54,
          55,
          56,
          57,
          58,
          59,
          60,
          61,
          62,
          63,
          64,
          65,
          66,
          67,
          68,
          69,
          70,
          71,
          72,
          73,
          74,
          75,
          76,
          77,
          78,
          79,
          80,
          81,
          82,
          83,
          84,
          85,
          86,
          87,
          88,
          89,
          90,
          91,
          92,
          93,
          94,
          95,
          96,
          97,
          98,
          99
         ],
         "y": [
          -0.27164247126346136,
          -1.3257070606440196,
          0.09509138803241492,
          0.5677789260155507,
          -1.7702004827781839,
          0.8192901452031851,
          0.42843016749584817,
          0.48891810080098663,
          -0.13885574098913533,
          -1.6637758910766713,
          -0.687383321981337,
          0.9406647337380462,
          -0.690819839092722,
          1.2806354120967807,
          0.19519500649436486,
          -0.9617059095864561,
          -0.34082321440792496,
          0.40501808153456115,
          1.0256932200321933,
          0.19792777139922432,
          0.4473417964638847,
          -0.746357600971722,
          -0.7463331494444009,
          1.8614426561055353,
          -1.1921824686638272,
          0.33702637966918264,
          -0.019990132981849144,
          -1.0365459781316264,
          -0.9182930313854358,
          1.0514506561892487,
          1.4231033015561043,
          0.9388329560106634,
          -0.6005788533325781,
          -1.5577073542570385,
          0.7729435472995098,
          -0.7886108148794514,
          0.8276169458706734,
          -0.5887982618967834,
          0.6079822371177137,
          1.1815201552359502,
          -0.46765292959066734,
          -1.1747756877337578,
          0.12539506832767486,
          0.8444236630050397,
          0.4837479545939307,
          0.2626615850571374,
          0.25609179616383837,
          -0.34482586724742925,
          -1.0629525341853008,
          0.38530331033560733,
          1.6652564840701058,
          1.017710453432222,
          1.739805462678277,
          0.977218254223707,
          -0.11349498759333462,
          1.9125139328999086,
          -0.07919689362884139,
          0.19237236508550656,
          -1.218178626743223,
          1.5252495234723242,
          0.42515169637007116,
          -0.6917277873885234,
          -1.0914735632955341,
          0.1479495579758345,
          -0.769384799107449,
          -0.959114317069405,
          -0.11512199650222511,
          0.06717010137838174,
          -0.8100531665464591,
          0.7495654025364011,
          0.17261362176212222,
          -1.6122353899625055,
          2.0636152291749204,
          1.3542937788460374,
          0.3971750773103758,
          -1.6066263804550474,
          -0.847567402742816,
          2.2645832278875084,
          -0.04304356003073988,
          -1.3965861940480482,
          1.3607133938541376,
          -2.033089150596266,
          0.4936571407278187,
          -1.2255787715598412,
          -0.48127741316601513,
          3.05599930065596,
          -0.26528530741592665,
          -0.5031144218517964,
          2.0169311706777338,
          0.6137848243893546,
          0.5652221897804888,
          -0.7608485125554416,
          0.15896495846476275,
          -1.1521496906994413,
          -1.303672140570186,
          -0.5163893488317101,
          0.5326431891049507,
          -0.23498564823224072,
          -0.0075292175095747725,
          1.1807221464818747
         ]
        },
        {
         "line": {
          "color": "rgba(55, 128, 191, 1.0)",
          "dash": "solid",
          "shape": "linear",
          "width": 1.3
         },
         "mode": "lines",
         "name": "B",
         "text": "",
         "type": "scatter",
         "x": [
          0,
          1,
          2,
          3,
          4,
          5,
          6,
          7,
          8,
          9,
          10,
          11,
          12,
          13,
          14,
          15,
          16,
          17,
          18,
          19,
          20,
          21,
          22,
          23,
          24,
          25,
          26,
          27,
          28,
          29,
          30,
          31,
          32,
          33,
          34,
          35,
          36,
          37,
          38,
          39,
          40,
          41,
          42,
          43,
          44,
          45,
          46,
          47,
          48,
          49,
          50,
          51,
          52,
          53,
          54,
          55,
          56,
          57,
          58,
          59,
          60,
          61,
          62,
          63,
          64,
          65,
          66,
          67,
          68,
          69,
          70,
          71,
          72,
          73,
          74,
          75,
          76,
          77,
          78,
          79,
          80,
          81,
          82,
          83,
          84,
          85,
          86,
          87,
          88,
          89,
          90,
          91,
          92,
          93,
          94,
          95,
          96,
          97,
          98,
          99
         ],
         "y": [
          -0.5606845687001836,
          1.6792241184825982,
          -0.08661661904826148,
          0.3898727869993485,
          0.01484572176819306,
          1.2923784950415658,
          -0.7547121807613962,
          -0.17924041096584103,
          -2.079556271100031,
          1.3741475772876197,
          -0.7265727387037649,
          0.07795556662307522,
          -1.6984034926570812,
          0.9514332912763463,
          0.9208568312409571,
          0.8721149896398802,
          -1.2006034959932614,
          0.9698322836075526,
          -1.7348279414407843,
          -0.18045584815021679,
          -0.15534958173210708,
          0.5778707279835965,
          -0.31094304485398533,
          -0.22119039196159165,
          1.3577782715590458,
          0.5976119660885164,
          -0.33861814766618836,
          0.009153919545416113,
          -0.905349622590771,
          0.797128717357109,
          0.36614038340714694,
          -1.5116109210853086,
          0.36233320503932614,
          -1.286401592931063,
          0.8197727302603469,
          1.110110135760402,
          0.316814577082492,
          0.8162624495735802,
          1.3508787939093665,
          0.9370194953434611,
          1.748037798224933,
          0.5260329111423281,
          0.5837856131293094,
          1.627503056742485,
          0.7597512835732089,
          0.1195243454589661,
          1.1031778871431137,
          0.0732232025003497,
          -0.4392083678404856,
          -2.0005261017160803,
          0.15086645476505978,
          0.7707078145347047,
          0.39845934776015907,
          0.60503610907641,
          -0.5676790205343145,
          -0.08728334160333123,
          -0.6736473541810989,
          1.3469654155549382,
          -0.52895187800803,
          -0.7715416124924191,
          0.32992146618986257,
          -0.20511451718899026,
          0.8823370549505434,
          -1.6350359682122242,
          0.1998129876390042,
          -1.1175159253196678,
          -2.2548754117108527,
          0.3841331487228912,
          -0.5647053958800019,
          1.4138362030889675,
          -0.7336674767371699,
          -0.0994770805480279,
          1.4129817421869901,
          1.3279684648445662,
          -0.3426837583140145,
          0.7427901223026995,
          0.9562542554682181,
          1.662527972510784,
          1.654208700671479,
          1.6277836234752037,
          0.2622646773981404,
          1.1110417788709064,
          -1.0758423905400494,
          0.5866561856112027,
          -0.3632825296055402,
          -0.5092436817558994,
          0.9829762441659161,
          -0.9039318124721808,
          -0.8761259788070621,
          1.282766952219753,
          -1.2659129574243786,
          1.1388669103882356,
          0.031596317962045775,
          -1.0028678826990054,
          -0.203214798443493,
          -2.0704178554216046,
          -0.6120462001187992,
          -1.6908135230507628,
          0.3945926141835523,
          -0.8402938448734616
         ]
        },
        {
         "line": {
          "color": "rgba(50, 171, 96, 1.0)",
          "dash": "solid",
          "shape": "linear",
          "width": 1.3
         },
         "mode": "lines",
         "name": "C",
         "text": "",
         "type": "scatter",
         "x": [
          0,
          1,
          2,
          3,
          4,
          5,
          6,
          7,
          8,
          9,
          10,
          11,
          12,
          13,
          14,
          15,
          16,
          17,
          18,
          19,
          20,
          21,
          22,
          23,
          24,
          25,
          26,
          27,
          28,
          29,
          30,
          31,
          32,
          33,
          34,
          35,
          36,
          37,
          38,
          39,
          40,
          41,
          42,
          43,
          44,
          45,
          46,
          47,
          48,
          49,
          50,
          51,
          52,
          53,
          54,
          55,
          56,
          57,
          58,
          59,
          60,
          61,
          62,
          63,
          64,
          65,
          66,
          67,
          68,
          69,
          70,
          71,
          72,
          73,
          74,
          75,
          76,
          77,
          78,
          79,
          80,
          81,
          82,
          83,
          84,
          85,
          86,
          87,
          88,
          89,
          90,
          91,
          92,
          93,
          94,
          95,
          96,
          97,
          98,
          99
         ],
         "y": [
          -0.17510076833451887,
          1.0288698240177145,
          0.7294187475382269,
          -0.5578856629282004,
          -1.4427561070736776,
          0.4388161783702774,
          0.060563737566764815,
          1.1228360547515748,
          -1.1147708162876648,
          -1.2752660154204478,
          -1.7312113286523432,
          -0.82533168192219,
          0.8658741797078373,
          -0.41427836454014716,
          -0.9098894454547914,
          -1.800204706789089,
          0.6682338915047351,
          -0.20987374484294746,
          0.19598899319836607,
          -0.7669541641335651,
          0.4124924143896091,
          -1.8397233779403428,
          -2.4530517139415355,
          0.4424743832683385,
          -1.1279100199509753,
          0.8273645699863521,
          0.7060451811025258,
          -0.34841335926422856,
          -0.8179883446544839,
          -1.1938551743761843,
          0.23965205889367786,
          -0.003371851161309269,
          -0.3848283690882053,
          -0.3660579064690124,
          0.18789785147708796,
          1.6631657931534722,
          1.7407484140501224,
          1.4565488819779684,
          -0.6232723514435085,
          0.8486940617122866,
          -1.2524232797957384,
          1.0025461725315055,
          -1.6900742257435932,
          2.5965882936507287,
          0.8974446875412032,
          0.6409236834519745,
          -0.3004172819682092,
          -0.7308341507657704,
          -0.8473571913525139,
          0.18229635624312268,
          -1.4372588244194673,
          0.39970158575841475,
          1.4516847984516328,
          1.0026818566565996,
          1.6145013116745843,
          0.3370738959446078,
          0.9423240780645039,
          -0.6481922359095227,
          1.088239694258309,
          0.2757922834178292,
          0.05599297866846583,
          -0.5538316369091456,
          0.5839356030798746,
          3.77788003076131,
          -0.2814142162387364,
          -1.396739653898618,
          1.098733557716189,
          0.3481299362914519,
          0.5719545584678998,
          -1.1917432377063344,
          0.5562025971593422,
          0.2687526601731444,
          -0.6579484009003517,
          -0.2893864693705524,
          0.7529664222734219,
          0.5599036596190918,
          0.6972960000357077,
          -0.3165006408518295,
          0.12506772611635675,
          -0.1547960377329048,
          -0.19802705425048947,
          -1.7878921210147751,
          -0.7252978787352365,
          0.9169166661120889,
          -0.18418265183374585,
          0.9980844798991737,
          0.21372777438456053,
          0.1625712531452284,
          0.40518165848931825,
          -0.4024378051833785,
          0.034134439117629076,
          0.3801876036723134,
          -1.574634729531062,
          -1.279225040981382,
          1.9560622718390517,
          1.1699990486795044,
          -0.5492666922188294,
          -0.46782061675087566,
          -0.4457203824349354,
          -0.4973139229416746
         ]
        },
        {
         "line": {
          "color": "rgba(128, 0, 128, 1.0)",
          "dash": "solid",
          "shape": "linear",
          "width": 1.3
         },
         "mode": "lines",
         "name": "D",
         "text": "",
         "type": "scatter",
         "x": [
          0,
          1,
          2,
          3,
          4,
          5,
          6,
          7,
          8,
          9,
          10,
          11,
          12,
          13,
          14,
          15,
          16,
          17,
          18,
          19,
          20,
          21,
          22,
          23,
          24,
          25,
          26,
          27,
          28,
          29,
          30,
          31,
          32,
          33,
          34,
          35,
          36,
          37,
          38,
          39,
          40,
          41,
          42,
          43,
          44,
          45,
          46,
          47,
          48,
          49,
          50,
          51,
          52,
          53,
          54,
          55,
          56,
          57,
          58,
          59,
          60,
          61,
          62,
          63,
          64,
          65,
          66,
          67,
          68,
          69,
          70,
          71,
          72,
          73,
          74,
          75,
          76,
          77,
          78,
          79,
          80,
          81,
          82,
          83,
          84,
          85,
          86,
          87,
          88,
          89,
          90,
          91,
          92,
          93,
          94,
          95,
          96,
          97,
          98,
          99
         ],
         "y": [
          0.028993705037304567,
          -0.6716875531197293,
          0.8334435896917214,
          -1.9716771967264062,
          1.50532385374814,
          0.14956974745594662,
          -0.06939513333845235,
          -0.2815157688175154,
          0.38684784925404336,
          0.14381043854226855,
          1.4876554131996642,
          -0.7370660801991634,
          1.5404097323754171,
          0.2040380802866936,
          0.14168081298982785,
          -0.8250878115833602,
          -1.7320260569405233,
          0.6359832967253354,
          -0.4695872751400371,
          -0.2673988678442753,
          -0.9881864665743314,
          1.5061033230127938,
          0.10598331717029001,
          0.10931223800100075,
          0.7694644275917429,
          0.5182483641705755,
          -0.3071935056280965,
          -0.4665082690544789,
          0.9447249121081155,
          2.0425295696010743,
          -0.43698105003454357,
          -0.907598909077158,
          0.29462902502362,
          0.10190992720602601,
          -0.8174929595408008,
          -0.18001152313077143,
          0.15566515500727343,
          0.13196150538499757,
          -1.0575979330248275,
          -0.2625832388597864,
          -0.24847941451559766,
          2.1485331533935943,
          -0.08717358871212114,
          -0.30940859490619027,
          -2.0046227174032225,
          1.5083427558825817,
          -1.5139213190088612,
          0.01563324569264091,
          0.8616742568840906,
          -0.8525617560577919,
          -1.4248262474160276,
          -0.3605394147608612,
          0.37716297286280276,
          0.6258658201541683,
          0.2569647630992787,
          -1.6369203499044183,
          0.7871465171480043,
          0.7355463996487434,
          0.48596059901344485,
          1.252482630695332,
          0.4369197688828738,
          -0.11016987718728498,
          -1.2248590164464839,
          -0.37699173885758686,
          0.013267497344670701,
          -0.8385954164259339,
          -1.333902638527453,
          -1.0835532755477346,
          1.5605143000742498,
          -0.4152456441491844,
          0.5942036262360473,
          0.5434734806548989,
          -1.0542816433101314,
          0.9865682135617165,
          -1.8060658371376346,
          -0.04991907939054093,
          -0.14854389029313436,
          -0.5375389631592972,
          0.4245378412844418,
          0.3468493151487389,
          0.23489491445703792,
          0.24001963017549055,
          -1.7849754803006823,
          -0.029436562746093183,
          1.261992804620589,
          0.6149667944501315,
          -0.23557799300923188,
          0.6309302264213924,
          0.49159285635577266,
          -0.8530324387313918,
          -0.8386954461087648,
          0.17224056036045315,
          0.8512415447812286,
          0.2539718936206673,
          -1.8082627145838914,
          1.0134201851014084,
          -1.400878111327254,
          -0.5350870859857267,
          -0.7669223496683658,
          1.097042962574408
         ]
        }
       ],
       "layout": {
        "legend": {
         "bgcolor": "#F5F6F9",
         "font": {
          "color": "#4D5663"
         }
        },
        "paper_bgcolor": "#F5F6F9",
        "plot_bgcolor": "#F5F6F9",
        "template": {
         "data": {
          "bar": [
           {
            "error_x": {
             "color": "#2a3f5f"
            },
            "error_y": {
             "color": "#2a3f5f"
            },
            "marker": {
             "line": {
              "color": "#E5ECF6",
              "width": 0.5
             },
             "pattern": {
              "fillmode": "overlay",
              "size": 10,
              "solidity": 0.2
             }
            },
            "type": "bar"
           }
          ],
          "barpolar": [
           {
            "marker": {
             "line": {
              "color": "#E5ECF6",
              "width": 0.5
             },
             "pattern": {
              "fillmode": "overlay",
              "size": 10,
              "solidity": 0.2
             }
            },
            "type": "barpolar"
           }
          ],
          "carpet": [
           {
            "aaxis": {
             "endlinecolor": "#2a3f5f",
             "gridcolor": "white",
             "linecolor": "white",
             "minorgridcolor": "white",
             "startlinecolor": "#2a3f5f"
            },
            "baxis": {
             "endlinecolor": "#2a3f5f",
             "gridcolor": "white",
             "linecolor": "white",
             "minorgridcolor": "white",
             "startlinecolor": "#2a3f5f"
            },
            "type": "carpet"
           }
          ],
          "choropleth": [
           {
            "colorbar": {
             "outlinewidth": 0,
             "ticks": ""
            },
            "type": "choropleth"
           }
          ],
          "contour": [
           {
            "colorbar": {
             "outlinewidth": 0,
             "ticks": ""
            },
            "colorscale": [
             [
              0,
              "#0d0887"
             ],
             [
              0.1111111111111111,
              "#46039f"
             ],
             [
              0.2222222222222222,
              "#7201a8"
             ],
             [
              0.3333333333333333,
              "#9c179e"
             ],
             [
              0.4444444444444444,
              "#bd3786"
             ],
             [
              0.5555555555555556,
              "#d8576b"
             ],
             [
              0.6666666666666666,
              "#ed7953"
             ],
             [
              0.7777777777777778,
              "#fb9f3a"
             ],
             [
              0.8888888888888888,
              "#fdca26"
             ],
             [
              1,
              "#f0f921"
             ]
            ],
            "type": "contour"
           }
          ],
          "contourcarpet": [
           {
            "colorbar": {
             "outlinewidth": 0,
             "ticks": ""
            },
            "type": "contourcarpet"
           }
          ],
          "heatmap": [
           {
            "colorbar": {
             "outlinewidth": 0,
             "ticks": ""
            },
            "colorscale": [
             [
              0,
              "#0d0887"
             ],
             [
              0.1111111111111111,
              "#46039f"
             ],
             [
              0.2222222222222222,
              "#7201a8"
             ],
             [
              0.3333333333333333,
              "#9c179e"
             ],
             [
              0.4444444444444444,
              "#bd3786"
             ],
             [
              0.5555555555555556,
              "#d8576b"
             ],
             [
              0.6666666666666666,
              "#ed7953"
             ],
             [
              0.7777777777777778,
              "#fb9f3a"
             ],
             [
              0.8888888888888888,
              "#fdca26"
             ],
             [
              1,
              "#f0f921"
             ]
            ],
            "type": "heatmap"
           }
          ],
          "heatmapgl": [
           {
            "colorbar": {
             "outlinewidth": 0,
             "ticks": ""
            },
            "colorscale": [
             [
              0,
              "#0d0887"
             ],
             [
              0.1111111111111111,
              "#46039f"
             ],
             [
              0.2222222222222222,
              "#7201a8"
             ],
             [
              0.3333333333333333,
              "#9c179e"
             ],
             [
              0.4444444444444444,
              "#bd3786"
             ],
             [
              0.5555555555555556,
              "#d8576b"
             ],
             [
              0.6666666666666666,
              "#ed7953"
             ],
             [
              0.7777777777777778,
              "#fb9f3a"
             ],
             [
              0.8888888888888888,
              "#fdca26"
             ],
             [
              1,
              "#f0f921"
             ]
            ],
            "type": "heatmapgl"
           }
          ],
          "histogram": [
           {
            "marker": {
             "pattern": {
              "fillmode": "overlay",
              "size": 10,
              "solidity": 0.2
             }
            },
            "type": "histogram"
           }
          ],
          "histogram2d": [
           {
            "colorbar": {
             "outlinewidth": 0,
             "ticks": ""
            },
            "colorscale": [
             [
              0,
              "#0d0887"
             ],
             [
              0.1111111111111111,
              "#46039f"
             ],
             [
              0.2222222222222222,
              "#7201a8"
             ],
             [
              0.3333333333333333,
              "#9c179e"
             ],
             [
              0.4444444444444444,
              "#bd3786"
             ],
             [
              0.5555555555555556,
              "#d8576b"
             ],
             [
              0.6666666666666666,
              "#ed7953"
             ],
             [
              0.7777777777777778,
              "#fb9f3a"
             ],
             [
              0.8888888888888888,
              "#fdca26"
             ],
             [
              1,
              "#f0f921"
             ]
            ],
            "type": "histogram2d"
           }
          ],
          "histogram2dcontour": [
           {
            "colorbar": {
             "outlinewidth": 0,
             "ticks": ""
            },
            "colorscale": [
             [
              0,
              "#0d0887"
             ],
             [
              0.1111111111111111,
              "#46039f"
             ],
             [
              0.2222222222222222,
              "#7201a8"
             ],
             [
              0.3333333333333333,
              "#9c179e"
             ],
             [
              0.4444444444444444,
              "#bd3786"
             ],
             [
              0.5555555555555556,
              "#d8576b"
             ],
             [
              0.6666666666666666,
              "#ed7953"
             ],
             [
              0.7777777777777778,
              "#fb9f3a"
             ],
             [
              0.8888888888888888,
              "#fdca26"
             ],
             [
              1,
              "#f0f921"
             ]
            ],
            "type": "histogram2dcontour"
           }
          ],
          "mesh3d": [
           {
            "colorbar": {
             "outlinewidth": 0,
             "ticks": ""
            },
            "type": "mesh3d"
           }
          ],
          "parcoords": [
           {
            "line": {
             "colorbar": {
              "outlinewidth": 0,
              "ticks": ""
             }
            },
            "type": "parcoords"
           }
          ],
          "pie": [
           {
            "automargin": true,
            "type": "pie"
           }
          ],
          "scatter": [
           {
            "fillpattern": {
             "fillmode": "overlay",
             "size": 10,
             "solidity": 0.2
            },
            "type": "scatter"
           }
          ],
          "scatter3d": [
           {
            "line": {
             "colorbar": {
              "outlinewidth": 0,
              "ticks": ""
             }
            },
            "marker": {
             "colorbar": {
              "outlinewidth": 0,
              "ticks": ""
             }
            },
            "type": "scatter3d"
           }
          ],
          "scattercarpet": [
           {
            "marker": {
             "colorbar": {
              "outlinewidth": 0,
              "ticks": ""
             }
            },
            "type": "scattercarpet"
           }
          ],
          "scattergeo": [
           {
            "marker": {
             "colorbar": {
              "outlinewidth": 0,
              "ticks": ""
             }
            },
            "type": "scattergeo"
           }
          ],
          "scattergl": [
           {
            "marker": {
             "colorbar": {
              "outlinewidth": 0,
              "ticks": ""
             }
            },
            "type": "scattergl"
           }
          ],
          "scattermapbox": [
           {
            "marker": {
             "colorbar": {
              "outlinewidth": 0,
              "ticks": ""
             }
            },
            "type": "scattermapbox"
           }
          ],
          "scatterpolar": [
           {
            "marker": {
             "colorbar": {
              "outlinewidth": 0,
              "ticks": ""
             }
            },
            "type": "scatterpolar"
           }
          ],
          "scatterpolargl": [
           {
            "marker": {
             "colorbar": {
              "outlinewidth": 0,
              "ticks": ""
             }
            },
            "type": "scatterpolargl"
           }
          ],
          "scatterternary": [
           {
            "marker": {
             "colorbar": {
              "outlinewidth": 0,
              "ticks": ""
             }
            },
            "type": "scatterternary"
           }
          ],
          "surface": [
           {
            "colorbar": {
             "outlinewidth": 0,
             "ticks": ""
            },
            "colorscale": [
             [
              0,
              "#0d0887"
             ],
             [
              0.1111111111111111,
              "#46039f"
             ],
             [
              0.2222222222222222,
              "#7201a8"
             ],
             [
              0.3333333333333333,
              "#9c179e"
             ],
             [
              0.4444444444444444,
              "#bd3786"
             ],
             [
              0.5555555555555556,
              "#d8576b"
             ],
             [
              0.6666666666666666,
              "#ed7953"
             ],
             [
              0.7777777777777778,
              "#fb9f3a"
             ],
             [
              0.8888888888888888,
              "#fdca26"
             ],
             [
              1,
              "#f0f921"
             ]
            ],
            "type": "surface"
           }
          ],
          "table": [
           {
            "cells": {
             "fill": {
              "color": "#EBF0F8"
             },
             "line": {
              "color": "white"
             }
            },
            "header": {
             "fill": {
              "color": "#C8D4E3"
             },
             "line": {
              "color": "white"
             }
            },
            "type": "table"
           }
          ]
         },
         "layout": {
          "annotationdefaults": {
           "arrowcolor": "#2a3f5f",
           "arrowhead": 0,
           "arrowwidth": 1
          },
          "autotypenumbers": "strict",
          "coloraxis": {
           "colorbar": {
            "outlinewidth": 0,
            "ticks": ""
           }
          },
          "colorscale": {
           "diverging": [
            [
             0,
             "#8e0152"
            ],
            [
             0.1,
             "#c51b7d"
            ],
            [
             0.2,
             "#de77ae"
            ],
            [
             0.3,
             "#f1b6da"
            ],
            [
             0.4,
             "#fde0ef"
            ],
            [
             0.5,
             "#f7f7f7"
            ],
            [
             0.6,
             "#e6f5d0"
            ],
            [
             0.7,
             "#b8e186"
            ],
            [
             0.8,
             "#7fbc41"
            ],
            [
             0.9,
             "#4d9221"
            ],
            [
             1,
             "#276419"
            ]
           ],
           "sequential": [
            [
             0,
             "#0d0887"
            ],
            [
             0.1111111111111111,
             "#46039f"
            ],
            [
             0.2222222222222222,
             "#7201a8"
            ],
            [
             0.3333333333333333,
             "#9c179e"
            ],
            [
             0.4444444444444444,
             "#bd3786"
            ],
            [
             0.5555555555555556,
             "#d8576b"
            ],
            [
             0.6666666666666666,
             "#ed7953"
            ],
            [
             0.7777777777777778,
             "#fb9f3a"
            ],
            [
             0.8888888888888888,
             "#fdca26"
            ],
            [
             1,
             "#f0f921"
            ]
           ],
           "sequentialminus": [
            [
             0,
             "#0d0887"
            ],
            [
             0.1111111111111111,
             "#46039f"
            ],
            [
             0.2222222222222222,
             "#7201a8"
            ],
            [
             0.3333333333333333,
             "#9c179e"
            ],
            [
             0.4444444444444444,
             "#bd3786"
            ],
            [
             0.5555555555555556,
             "#d8576b"
            ],
            [
             0.6666666666666666,
             "#ed7953"
            ],
            [
             0.7777777777777778,
             "#fb9f3a"
            ],
            [
             0.8888888888888888,
             "#fdca26"
            ],
            [
             1,
             "#f0f921"
            ]
           ]
          },
          "colorway": [
           "#636efa",
           "#EF553B",
           "#00cc96",
           "#ab63fa",
           "#FFA15A",
           "#19d3f3",
           "#FF6692",
           "#B6E880",
           "#FF97FF",
           "#FECB52"
          ],
          "font": {
           "color": "#2a3f5f"
          },
          "geo": {
           "bgcolor": "white",
           "lakecolor": "white",
           "landcolor": "#E5ECF6",
           "showlakes": true,
           "showland": true,
           "subunitcolor": "white"
          },
          "hoverlabel": {
           "align": "left"
          },
          "hovermode": "closest",
          "mapbox": {
           "style": "light"
          },
          "paper_bgcolor": "white",
          "plot_bgcolor": "#E5ECF6",
          "polar": {
           "angularaxis": {
            "gridcolor": "white",
            "linecolor": "white",
            "ticks": ""
           },
           "bgcolor": "#E5ECF6",
           "radialaxis": {
            "gridcolor": "white",
            "linecolor": "white",
            "ticks": ""
           }
          },
          "scene": {
           "xaxis": {
            "backgroundcolor": "#E5ECF6",
            "gridcolor": "white",
            "gridwidth": 2,
            "linecolor": "white",
            "showbackground": true,
            "ticks": "",
            "zerolinecolor": "white"
           },
           "yaxis": {
            "backgroundcolor": "#E5ECF6",
            "gridcolor": "white",
            "gridwidth": 2,
            "linecolor": "white",
            "showbackground": true,
            "ticks": "",
            "zerolinecolor": "white"
           },
           "zaxis": {
            "backgroundcolor": "#E5ECF6",
            "gridcolor": "white",
            "gridwidth": 2,
            "linecolor": "white",
            "showbackground": true,
            "ticks": "",
            "zerolinecolor": "white"
           }
          },
          "shapedefaults": {
           "line": {
            "color": "#2a3f5f"
           }
          },
          "ternary": {
           "aaxis": {
            "gridcolor": "white",
            "linecolor": "white",
            "ticks": ""
           },
           "baxis": {
            "gridcolor": "white",
            "linecolor": "white",
            "ticks": ""
           },
           "bgcolor": "#E5ECF6",
           "caxis": {
            "gridcolor": "white",
            "linecolor": "white",
            "ticks": ""
           }
          },
          "title": {
           "x": 0.05
          },
          "xaxis": {
           "automargin": true,
           "gridcolor": "white",
           "linecolor": "white",
           "ticks": "",
           "title": {
            "standoff": 15
           },
           "zerolinecolor": "white",
           "zerolinewidth": 2
          },
          "yaxis": {
           "automargin": true,
           "gridcolor": "white",
           "linecolor": "white",
           "ticks": "",
           "title": {
            "standoff": 15
           },
           "zerolinecolor": "white",
           "zerolinewidth": 2
          }
         }
        },
        "title": {
         "font": {
          "color": "#4D5663"
         }
        },
        "xaxis": {
         "gridcolor": "#E1E5ED",
         "showgrid": true,
         "tickfont": {
          "color": "#4D5663"
         },
         "title": {
          "font": {
           "color": "#4D5663"
          },
          "text": ""
         },
         "zerolinecolor": "#E1E5ED"
        },
        "yaxis": {
         "gridcolor": "#E1E5ED",
         "showgrid": true,
         "tickfont": {
          "color": "#4D5663"
         },
         "title": {
          "font": {
           "color": "#4D5663"
          },
          "text": ""
         },
         "zerolinecolor": "#E1E5ED"
        }
       }
      },
      "text/html": [
       "<div>                            <div id=\"005d9fba-b992-48de-a0dd-b87bf5f3e5c7\" class=\"plotly-graph-div\" style=\"height:525px; width:100%;\"></div>            <script type=\"text/javascript\">                require([\"plotly\"], function(Plotly) {                    window.PLOTLYENV=window.PLOTLYENV || {};\n",
       "                    window.PLOTLYENV.BASE_URL='https://plot.ly';                                    if (document.getElementById(\"005d9fba-b992-48de-a0dd-b87bf5f3e5c7\")) {                    Plotly.newPlot(                        \"005d9fba-b992-48de-a0dd-b87bf5f3e5c7\",                        [{\"line\":{\"color\":\"rgba(255, 153, 51, 1.0)\",\"dash\":\"solid\",\"shape\":\"linear\",\"width\":1.3},\"mode\":\"lines\",\"name\":\"A\",\"text\":\"\",\"x\":[0,1,2,3,4,5,6,7,8,9,10,11,12,13,14,15,16,17,18,19,20,21,22,23,24,25,26,27,28,29,30,31,32,33,34,35,36,37,38,39,40,41,42,43,44,45,46,47,48,49,50,51,52,53,54,55,56,57,58,59,60,61,62,63,64,65,66,67,68,69,70,71,72,73,74,75,76,77,78,79,80,81,82,83,84,85,86,87,88,89,90,91,92,93,94,95,96,97,98,99],\"y\":[-0.27164247126346136,-1.3257070606440196,0.09509138803241492,0.5677789260155507,-1.7702004827781839,0.8192901452031851,0.42843016749584817,0.48891810080098663,-0.13885574098913533,-1.6637758910766713,-0.687383321981337,0.9406647337380462,-0.690819839092722,1.2806354120967807,0.19519500649436486,-0.9617059095864561,-0.34082321440792496,0.40501808153456115,1.0256932200321933,0.19792777139922432,0.4473417964638847,-0.746357600971722,-0.7463331494444009,1.8614426561055353,-1.1921824686638272,0.33702637966918264,-0.019990132981849144,-1.0365459781316264,-0.9182930313854358,1.0514506561892487,1.4231033015561043,0.9388329560106634,-0.6005788533325781,-1.5577073542570385,0.7729435472995098,-0.7886108148794514,0.8276169458706734,-0.5887982618967834,0.6079822371177137,1.1815201552359502,-0.46765292959066734,-1.1747756877337578,0.12539506832767486,0.8444236630050397,0.4837479545939307,0.2626615850571374,0.25609179616383837,-0.34482586724742925,-1.0629525341853008,0.38530331033560733,1.6652564840701058,1.017710453432222,1.739805462678277,0.977218254223707,-0.11349498759333462,1.9125139328999086,-0.07919689362884139,0.19237236508550656,-1.218178626743223,1.5252495234723242,0.42515169637007116,-0.6917277873885234,-1.0914735632955341,0.1479495579758345,-0.769384799107449,-0.959114317069405,-0.11512199650222511,0.06717010137838174,-0.8100531665464591,0.7495654025364011,0.17261362176212222,-1.6122353899625055,2.0636152291749204,1.3542937788460374,0.3971750773103758,-1.6066263804550474,-0.847567402742816,2.2645832278875084,-0.04304356003073988,-1.3965861940480482,1.3607133938541376,-2.033089150596266,0.4936571407278187,-1.2255787715598412,-0.48127741316601513,3.05599930065596,-0.26528530741592665,-0.5031144218517964,2.0169311706777338,0.6137848243893546,0.5652221897804888,-0.7608485125554416,0.15896495846476275,-1.1521496906994413,-1.303672140570186,-0.5163893488317101,0.5326431891049507,-0.23498564823224072,-0.0075292175095747725,1.1807221464818747],\"type\":\"scatter\"},{\"line\":{\"color\":\"rgba(55, 128, 191, 1.0)\",\"dash\":\"solid\",\"shape\":\"linear\",\"width\":1.3},\"mode\":\"lines\",\"name\":\"B\",\"text\":\"\",\"x\":[0,1,2,3,4,5,6,7,8,9,10,11,12,13,14,15,16,17,18,19,20,21,22,23,24,25,26,27,28,29,30,31,32,33,34,35,36,37,38,39,40,41,42,43,44,45,46,47,48,49,50,51,52,53,54,55,56,57,58,59,60,61,62,63,64,65,66,67,68,69,70,71,72,73,74,75,76,77,78,79,80,81,82,83,84,85,86,87,88,89,90,91,92,93,94,95,96,97,98,99],\"y\":[-0.5606845687001836,1.6792241184825982,-0.08661661904826148,0.3898727869993485,0.01484572176819306,1.2923784950415658,-0.7547121807613962,-0.17924041096584103,-2.079556271100031,1.3741475772876197,-0.7265727387037649,0.07795556662307522,-1.6984034926570812,0.9514332912763463,0.9208568312409571,0.8721149896398802,-1.2006034959932614,0.9698322836075526,-1.7348279414407843,-0.18045584815021679,-0.15534958173210708,0.5778707279835965,-0.31094304485398533,-0.22119039196159165,1.3577782715590458,0.5976119660885164,-0.33861814766618836,0.009153919545416113,-0.905349622590771,0.797128717357109,0.36614038340714694,-1.5116109210853086,0.36233320503932614,-1.286401592931063,0.8197727302603469,1.110110135760402,0.316814577082492,0.8162624495735802,1.3508787939093665,0.9370194953434611,1.748037798224933,0.5260329111423281,0.5837856131293094,1.627503056742485,0.7597512835732089,0.1195243454589661,1.1031778871431137,0.0732232025003497,-0.4392083678404856,-2.0005261017160803,0.15086645476505978,0.7707078145347047,0.39845934776015907,0.60503610907641,-0.5676790205343145,-0.08728334160333123,-0.6736473541810989,1.3469654155549382,-0.52895187800803,-0.7715416124924191,0.32992146618986257,-0.20511451718899026,0.8823370549505434,-1.6350359682122242,0.1998129876390042,-1.1175159253196678,-2.2548754117108527,0.3841331487228912,-0.5647053958800019,1.4138362030889675,-0.7336674767371699,-0.0994770805480279,1.4129817421869901,1.3279684648445662,-0.3426837583140145,0.7427901223026995,0.9562542554682181,1.662527972510784,1.654208700671479,1.6277836234752037,0.2622646773981404,1.1110417788709064,-1.0758423905400494,0.5866561856112027,-0.3632825296055402,-0.5092436817558994,0.9829762441659161,-0.9039318124721808,-0.8761259788070621,1.282766952219753,-1.2659129574243786,1.1388669103882356,0.031596317962045775,-1.0028678826990054,-0.203214798443493,-2.0704178554216046,-0.6120462001187992,-1.6908135230507628,0.3945926141835523,-0.8402938448734616],\"type\":\"scatter\"},{\"line\":{\"color\":\"rgba(50, 171, 96, 1.0)\",\"dash\":\"solid\",\"shape\":\"linear\",\"width\":1.3},\"mode\":\"lines\",\"name\":\"C\",\"text\":\"\",\"x\":[0,1,2,3,4,5,6,7,8,9,10,11,12,13,14,15,16,17,18,19,20,21,22,23,24,25,26,27,28,29,30,31,32,33,34,35,36,37,38,39,40,41,42,43,44,45,46,47,48,49,50,51,52,53,54,55,56,57,58,59,60,61,62,63,64,65,66,67,68,69,70,71,72,73,74,75,76,77,78,79,80,81,82,83,84,85,86,87,88,89,90,91,92,93,94,95,96,97,98,99],\"y\":[-0.17510076833451887,1.0288698240177145,0.7294187475382269,-0.5578856629282004,-1.4427561070736776,0.4388161783702774,0.060563737566764815,1.1228360547515748,-1.1147708162876648,-1.2752660154204478,-1.7312113286523432,-0.82533168192219,0.8658741797078373,-0.41427836454014716,-0.9098894454547914,-1.800204706789089,0.6682338915047351,-0.20987374484294746,0.19598899319836607,-0.7669541641335651,0.4124924143896091,-1.8397233779403428,-2.4530517139415355,0.4424743832683385,-1.1279100199509753,0.8273645699863521,0.7060451811025258,-0.34841335926422856,-0.8179883446544839,-1.1938551743761843,0.23965205889367786,-0.003371851161309269,-0.3848283690882053,-0.3660579064690124,0.18789785147708796,1.6631657931534722,1.7407484140501224,1.4565488819779684,-0.6232723514435085,0.8486940617122866,-1.2524232797957384,1.0025461725315055,-1.6900742257435932,2.5965882936507287,0.8974446875412032,0.6409236834519745,-0.3004172819682092,-0.7308341507657704,-0.8473571913525139,0.18229635624312268,-1.4372588244194673,0.39970158575841475,1.4516847984516328,1.0026818566565996,1.6145013116745843,0.3370738959446078,0.9423240780645039,-0.6481922359095227,1.088239694258309,0.2757922834178292,0.05599297866846583,-0.5538316369091456,0.5839356030798746,3.77788003076131,-0.2814142162387364,-1.396739653898618,1.098733557716189,0.3481299362914519,0.5719545584678998,-1.1917432377063344,0.5562025971593422,0.2687526601731444,-0.6579484009003517,-0.2893864693705524,0.7529664222734219,0.5599036596190918,0.6972960000357077,-0.3165006408518295,0.12506772611635675,-0.1547960377329048,-0.19802705425048947,-1.7878921210147751,-0.7252978787352365,0.9169166661120889,-0.18418265183374585,0.9980844798991737,0.21372777438456053,0.1625712531452284,0.40518165848931825,-0.4024378051833785,0.034134439117629076,0.3801876036723134,-1.574634729531062,-1.279225040981382,1.9560622718390517,1.1699990486795044,-0.5492666922188294,-0.46782061675087566,-0.4457203824349354,-0.4973139229416746],\"type\":\"scatter\"},{\"line\":{\"color\":\"rgba(128, 0, 128, 1.0)\",\"dash\":\"solid\",\"shape\":\"linear\",\"width\":1.3},\"mode\":\"lines\",\"name\":\"D\",\"text\":\"\",\"x\":[0,1,2,3,4,5,6,7,8,9,10,11,12,13,14,15,16,17,18,19,20,21,22,23,24,25,26,27,28,29,30,31,32,33,34,35,36,37,38,39,40,41,42,43,44,45,46,47,48,49,50,51,52,53,54,55,56,57,58,59,60,61,62,63,64,65,66,67,68,69,70,71,72,73,74,75,76,77,78,79,80,81,82,83,84,85,86,87,88,89,90,91,92,93,94,95,96,97,98,99],\"y\":[0.028993705037304567,-0.6716875531197293,0.8334435896917214,-1.9716771967264062,1.50532385374814,0.14956974745594662,-0.06939513333845235,-0.2815157688175154,0.38684784925404336,0.14381043854226855,1.4876554131996642,-0.7370660801991634,1.5404097323754171,0.2040380802866936,0.14168081298982785,-0.8250878115833602,-1.7320260569405233,0.6359832967253354,-0.4695872751400371,-0.2673988678442753,-0.9881864665743314,1.5061033230127938,0.10598331717029001,0.10931223800100075,0.7694644275917429,0.5182483641705755,-0.3071935056280965,-0.4665082690544789,0.9447249121081155,2.0425295696010743,-0.43698105003454357,-0.907598909077158,0.29462902502362,0.10190992720602601,-0.8174929595408008,-0.18001152313077143,0.15566515500727343,0.13196150538499757,-1.0575979330248275,-0.2625832388597864,-0.24847941451559766,2.1485331533935943,-0.08717358871212114,-0.30940859490619027,-2.0046227174032225,1.5083427558825817,-1.5139213190088612,0.01563324569264091,0.8616742568840906,-0.8525617560577919,-1.4248262474160276,-0.3605394147608612,0.37716297286280276,0.6258658201541683,0.2569647630992787,-1.6369203499044183,0.7871465171480043,0.7355463996487434,0.48596059901344485,1.252482630695332,0.4369197688828738,-0.11016987718728498,-1.2248590164464839,-0.37699173885758686,0.013267497344670701,-0.8385954164259339,-1.333902638527453,-1.0835532755477346,1.5605143000742498,-0.4152456441491844,0.5942036262360473,0.5434734806548989,-1.0542816433101314,0.9865682135617165,-1.8060658371376346,-0.04991907939054093,-0.14854389029313436,-0.5375389631592972,0.4245378412844418,0.3468493151487389,0.23489491445703792,0.24001963017549055,-1.7849754803006823,-0.029436562746093183,1.261992804620589,0.6149667944501315,-0.23557799300923188,0.6309302264213924,0.49159285635577266,-0.8530324387313918,-0.8386954461087648,0.17224056036045315,0.8512415447812286,0.2539718936206673,-1.8082627145838914,1.0134201851014084,-1.400878111327254,-0.5350870859857267,-0.7669223496683658,1.097042962574408],\"type\":\"scatter\"}],                        {\"legend\":{\"bgcolor\":\"#F5F6F9\",\"font\":{\"color\":\"#4D5663\"}},\"paper_bgcolor\":\"#F5F6F9\",\"plot_bgcolor\":\"#F5F6F9\",\"template\":{\"data\":{\"barpolar\":[{\"marker\":{\"line\":{\"color\":\"#E5ECF6\",\"width\":0.5},\"pattern\":{\"fillmode\":\"overlay\",\"size\":10,\"solidity\":0.2}},\"type\":\"barpolar\"}],\"bar\":[{\"error_x\":{\"color\":\"#2a3f5f\"},\"error_y\":{\"color\":\"#2a3f5f\"},\"marker\":{\"line\":{\"color\":\"#E5ECF6\",\"width\":0.5},\"pattern\":{\"fillmode\":\"overlay\",\"size\":10,\"solidity\":0.2}},\"type\":\"bar\"}],\"carpet\":[{\"aaxis\":{\"endlinecolor\":\"#2a3f5f\",\"gridcolor\":\"white\",\"linecolor\":\"white\",\"minorgridcolor\":\"white\",\"startlinecolor\":\"#2a3f5f\"},\"baxis\":{\"endlinecolor\":\"#2a3f5f\",\"gridcolor\":\"white\",\"linecolor\":\"white\",\"minorgridcolor\":\"white\",\"startlinecolor\":\"#2a3f5f\"},\"type\":\"carpet\"}],\"choropleth\":[{\"colorbar\":{\"outlinewidth\":0,\"ticks\":\"\"},\"type\":\"choropleth\"}],\"contourcarpet\":[{\"colorbar\":{\"outlinewidth\":0,\"ticks\":\"\"},\"type\":\"contourcarpet\"}],\"contour\":[{\"colorbar\":{\"outlinewidth\":0,\"ticks\":\"\"},\"colorscale\":[[0.0,\"#0d0887\"],[0.1111111111111111,\"#46039f\"],[0.2222222222222222,\"#7201a8\"],[0.3333333333333333,\"#9c179e\"],[0.4444444444444444,\"#bd3786\"],[0.5555555555555556,\"#d8576b\"],[0.6666666666666666,\"#ed7953\"],[0.7777777777777778,\"#fb9f3a\"],[0.8888888888888888,\"#fdca26\"],[1.0,\"#f0f921\"]],\"type\":\"contour\"}],\"heatmapgl\":[{\"colorbar\":{\"outlinewidth\":0,\"ticks\":\"\"},\"colorscale\":[[0.0,\"#0d0887\"],[0.1111111111111111,\"#46039f\"],[0.2222222222222222,\"#7201a8\"],[0.3333333333333333,\"#9c179e\"],[0.4444444444444444,\"#bd3786\"],[0.5555555555555556,\"#d8576b\"],[0.6666666666666666,\"#ed7953\"],[0.7777777777777778,\"#fb9f3a\"],[0.8888888888888888,\"#fdca26\"],[1.0,\"#f0f921\"]],\"type\":\"heatmapgl\"}],\"heatmap\":[{\"colorbar\":{\"outlinewidth\":0,\"ticks\":\"\"},\"colorscale\":[[0.0,\"#0d0887\"],[0.1111111111111111,\"#46039f\"],[0.2222222222222222,\"#7201a8\"],[0.3333333333333333,\"#9c179e\"],[0.4444444444444444,\"#bd3786\"],[0.5555555555555556,\"#d8576b\"],[0.6666666666666666,\"#ed7953\"],[0.7777777777777778,\"#fb9f3a\"],[0.8888888888888888,\"#fdca26\"],[1.0,\"#f0f921\"]],\"type\":\"heatmap\"}],\"histogram2dcontour\":[{\"colorbar\":{\"outlinewidth\":0,\"ticks\":\"\"},\"colorscale\":[[0.0,\"#0d0887\"],[0.1111111111111111,\"#46039f\"],[0.2222222222222222,\"#7201a8\"],[0.3333333333333333,\"#9c179e\"],[0.4444444444444444,\"#bd3786\"],[0.5555555555555556,\"#d8576b\"],[0.6666666666666666,\"#ed7953\"],[0.7777777777777778,\"#fb9f3a\"],[0.8888888888888888,\"#fdca26\"],[1.0,\"#f0f921\"]],\"type\":\"histogram2dcontour\"}],\"histogram2d\":[{\"colorbar\":{\"outlinewidth\":0,\"ticks\":\"\"},\"colorscale\":[[0.0,\"#0d0887\"],[0.1111111111111111,\"#46039f\"],[0.2222222222222222,\"#7201a8\"],[0.3333333333333333,\"#9c179e\"],[0.4444444444444444,\"#bd3786\"],[0.5555555555555556,\"#d8576b\"],[0.6666666666666666,\"#ed7953\"],[0.7777777777777778,\"#fb9f3a\"],[0.8888888888888888,\"#fdca26\"],[1.0,\"#f0f921\"]],\"type\":\"histogram2d\"}],\"histogram\":[{\"marker\":{\"pattern\":{\"fillmode\":\"overlay\",\"size\":10,\"solidity\":0.2}},\"type\":\"histogram\"}],\"mesh3d\":[{\"colorbar\":{\"outlinewidth\":0,\"ticks\":\"\"},\"type\":\"mesh3d\"}],\"parcoords\":[{\"line\":{\"colorbar\":{\"outlinewidth\":0,\"ticks\":\"\"}},\"type\":\"parcoords\"}],\"pie\":[{\"automargin\":true,\"type\":\"pie\"}],\"scatter3d\":[{\"line\":{\"colorbar\":{\"outlinewidth\":0,\"ticks\":\"\"}},\"marker\":{\"colorbar\":{\"outlinewidth\":0,\"ticks\":\"\"}},\"type\":\"scatter3d\"}],\"scattercarpet\":[{\"marker\":{\"colorbar\":{\"outlinewidth\":0,\"ticks\":\"\"}},\"type\":\"scattercarpet\"}],\"scattergeo\":[{\"marker\":{\"colorbar\":{\"outlinewidth\":0,\"ticks\":\"\"}},\"type\":\"scattergeo\"}],\"scattergl\":[{\"marker\":{\"colorbar\":{\"outlinewidth\":0,\"ticks\":\"\"}},\"type\":\"scattergl\"}],\"scattermapbox\":[{\"marker\":{\"colorbar\":{\"outlinewidth\":0,\"ticks\":\"\"}},\"type\":\"scattermapbox\"}],\"scatterpolargl\":[{\"marker\":{\"colorbar\":{\"outlinewidth\":0,\"ticks\":\"\"}},\"type\":\"scatterpolargl\"}],\"scatterpolar\":[{\"marker\":{\"colorbar\":{\"outlinewidth\":0,\"ticks\":\"\"}},\"type\":\"scatterpolar\"}],\"scatter\":[{\"fillpattern\":{\"fillmode\":\"overlay\",\"size\":10,\"solidity\":0.2},\"type\":\"scatter\"}],\"scatterternary\":[{\"marker\":{\"colorbar\":{\"outlinewidth\":0,\"ticks\":\"\"}},\"type\":\"scatterternary\"}],\"surface\":[{\"colorbar\":{\"outlinewidth\":0,\"ticks\":\"\"},\"colorscale\":[[0.0,\"#0d0887\"],[0.1111111111111111,\"#46039f\"],[0.2222222222222222,\"#7201a8\"],[0.3333333333333333,\"#9c179e\"],[0.4444444444444444,\"#bd3786\"],[0.5555555555555556,\"#d8576b\"],[0.6666666666666666,\"#ed7953\"],[0.7777777777777778,\"#fb9f3a\"],[0.8888888888888888,\"#fdca26\"],[1.0,\"#f0f921\"]],\"type\":\"surface\"}],\"table\":[{\"cells\":{\"fill\":{\"color\":\"#EBF0F8\"},\"line\":{\"color\":\"white\"}},\"header\":{\"fill\":{\"color\":\"#C8D4E3\"},\"line\":{\"color\":\"white\"}},\"type\":\"table\"}]},\"layout\":{\"annotationdefaults\":{\"arrowcolor\":\"#2a3f5f\",\"arrowhead\":0,\"arrowwidth\":1},\"autotypenumbers\":\"strict\",\"coloraxis\":{\"colorbar\":{\"outlinewidth\":0,\"ticks\":\"\"}},\"colorscale\":{\"diverging\":[[0,\"#8e0152\"],[0.1,\"#c51b7d\"],[0.2,\"#de77ae\"],[0.3,\"#f1b6da\"],[0.4,\"#fde0ef\"],[0.5,\"#f7f7f7\"],[0.6,\"#e6f5d0\"],[0.7,\"#b8e186\"],[0.8,\"#7fbc41\"],[0.9,\"#4d9221\"],[1,\"#276419\"]],\"sequential\":[[0.0,\"#0d0887\"],[0.1111111111111111,\"#46039f\"],[0.2222222222222222,\"#7201a8\"],[0.3333333333333333,\"#9c179e\"],[0.4444444444444444,\"#bd3786\"],[0.5555555555555556,\"#d8576b\"],[0.6666666666666666,\"#ed7953\"],[0.7777777777777778,\"#fb9f3a\"],[0.8888888888888888,\"#fdca26\"],[1.0,\"#f0f921\"]],\"sequentialminus\":[[0.0,\"#0d0887\"],[0.1111111111111111,\"#46039f\"],[0.2222222222222222,\"#7201a8\"],[0.3333333333333333,\"#9c179e\"],[0.4444444444444444,\"#bd3786\"],[0.5555555555555556,\"#d8576b\"],[0.6666666666666666,\"#ed7953\"],[0.7777777777777778,\"#fb9f3a\"],[0.8888888888888888,\"#fdca26\"],[1.0,\"#f0f921\"]]},\"colorway\":[\"#636efa\",\"#EF553B\",\"#00cc96\",\"#ab63fa\",\"#FFA15A\",\"#19d3f3\",\"#FF6692\",\"#B6E880\",\"#FF97FF\",\"#FECB52\"],\"font\":{\"color\":\"#2a3f5f\"},\"geo\":{\"bgcolor\":\"white\",\"lakecolor\":\"white\",\"landcolor\":\"#E5ECF6\",\"showlakes\":true,\"showland\":true,\"subunitcolor\":\"white\"},\"hoverlabel\":{\"align\":\"left\"},\"hovermode\":\"closest\",\"mapbox\":{\"style\":\"light\"},\"paper_bgcolor\":\"white\",\"plot_bgcolor\":\"#E5ECF6\",\"polar\":{\"angularaxis\":{\"gridcolor\":\"white\",\"linecolor\":\"white\",\"ticks\":\"\"},\"bgcolor\":\"#E5ECF6\",\"radialaxis\":{\"gridcolor\":\"white\",\"linecolor\":\"white\",\"ticks\":\"\"}},\"scene\":{\"xaxis\":{\"backgroundcolor\":\"#E5ECF6\",\"gridcolor\":\"white\",\"gridwidth\":2,\"linecolor\":\"white\",\"showbackground\":true,\"ticks\":\"\",\"zerolinecolor\":\"white\"},\"yaxis\":{\"backgroundcolor\":\"#E5ECF6\",\"gridcolor\":\"white\",\"gridwidth\":2,\"linecolor\":\"white\",\"showbackground\":true,\"ticks\":\"\",\"zerolinecolor\":\"white\"},\"zaxis\":{\"backgroundcolor\":\"#E5ECF6\",\"gridcolor\":\"white\",\"gridwidth\":2,\"linecolor\":\"white\",\"showbackground\":true,\"ticks\":\"\",\"zerolinecolor\":\"white\"}},\"shapedefaults\":{\"line\":{\"color\":\"#2a3f5f\"}},\"ternary\":{\"aaxis\":{\"gridcolor\":\"white\",\"linecolor\":\"white\",\"ticks\":\"\"},\"baxis\":{\"gridcolor\":\"white\",\"linecolor\":\"white\",\"ticks\":\"\"},\"bgcolor\":\"#E5ECF6\",\"caxis\":{\"gridcolor\":\"white\",\"linecolor\":\"white\",\"ticks\":\"\"}},\"title\":{\"x\":0.05},\"xaxis\":{\"automargin\":true,\"gridcolor\":\"white\",\"linecolor\":\"white\",\"ticks\":\"\",\"title\":{\"standoff\":15},\"zerolinecolor\":\"white\",\"zerolinewidth\":2},\"yaxis\":{\"automargin\":true,\"gridcolor\":\"white\",\"linecolor\":\"white\",\"ticks\":\"\",\"title\":{\"standoff\":15},\"zerolinecolor\":\"white\",\"zerolinewidth\":2}}},\"title\":{\"font\":{\"color\":\"#4D5663\"}},\"xaxis\":{\"gridcolor\":\"#E1E5ED\",\"showgrid\":true,\"tickfont\":{\"color\":\"#4D5663\"},\"title\":{\"font\":{\"color\":\"#4D5663\"},\"text\":\"\"},\"zerolinecolor\":\"#E1E5ED\"},\"yaxis\":{\"gridcolor\":\"#E1E5ED\",\"showgrid\":true,\"tickfont\":{\"color\":\"#4D5663\"},\"title\":{\"font\":{\"color\":\"#4D5663\"},\"text\":\"\"},\"zerolinecolor\":\"#E1E5ED\"}},                        {\"showLink\": true, \"linkText\": \"Export to plot.ly\", \"plotlyServerURL\": \"https://plot.ly\", \"responsive\": true}                    ).then(function(){\n",
       "                            \n",
       "var gd = document.getElementById('005d9fba-b992-48de-a0dd-b87bf5f3e5c7');\n",
       "var x = new MutationObserver(function (mutations, observer) {{\n",
       "        var display = window.getComputedStyle(gd).display;\n",
       "        if (!display || display === 'none') {{\n",
       "            console.log([gd, 'removed!']);\n",
       "            Plotly.purge(gd);\n",
       "            observer.disconnect();\n",
       "        }}\n",
       "}});\n",
       "\n",
       "// Listen for the removal of the full notebook cells\n",
       "var notebookContainer = gd.closest('#notebook-container');\n",
       "if (notebookContainer) {{\n",
       "    x.observe(notebookContainer, {childList: true});\n",
       "}}\n",
       "\n",
       "// Listen for the clearing of the current output cell\n",
       "var outputEl = gd.closest('.output');\n",
       "if (outputEl) {{\n",
       "    x.observe(outputEl, {childList: true});\n",
       "}}\n",
       "\n",
       "                        })                };                });            </script>        </div>"
      ]
     },
     "metadata": {},
     "output_type": "display_data"
    }
   ],
   "source": [
    "df1.iplot()"
   ]
  },
  {
   "cell_type": "code",
   "execution_count": 11,
   "metadata": {},
   "outputs": [
    {
     "data": {
      "application/vnd.plotly.v1+json": {
       "config": {
        "linkText": "Export to plot.ly",
        "plotlyServerURL": "https://plot.ly",
        "showLink": true
       },
       "data": [
        {
         "line": {
          "color": "rgba(255, 153, 51, 1.0)",
          "dash": "solid",
          "shape": "linear",
          "width": 1.3
         },
         "marker": {
          "size": 10,
          "symbol": "circle"
         },
         "mode": "markers",
         "name": "B",
         "text": "",
         "type": "scatter",
         "x": [
          -0.27164247126346136,
          -1.3257070606440196,
          0.09509138803241492,
          0.5677789260155507,
          -1.7702004827781839,
          0.8192901452031851,
          0.42843016749584817,
          0.48891810080098663,
          -0.13885574098913533,
          -1.6637758910766713,
          -0.687383321981337,
          0.9406647337380462,
          -0.690819839092722,
          1.2806354120967807,
          0.19519500649436486,
          -0.9617059095864561,
          -0.34082321440792496,
          0.40501808153456115,
          1.0256932200321933,
          0.19792777139922432,
          0.4473417964638847,
          -0.746357600971722,
          -0.7463331494444009,
          1.8614426561055353,
          -1.1921824686638272,
          0.33702637966918264,
          -0.019990132981849144,
          -1.0365459781316264,
          -0.9182930313854358,
          1.0514506561892487,
          1.4231033015561043,
          0.9388329560106634,
          -0.6005788533325781,
          -1.5577073542570385,
          0.7729435472995098,
          -0.7886108148794514,
          0.8276169458706734,
          -0.5887982618967834,
          0.6079822371177137,
          1.1815201552359502,
          -0.46765292959066734,
          -1.1747756877337578,
          0.12539506832767486,
          0.8444236630050397,
          0.4837479545939307,
          0.2626615850571374,
          0.25609179616383837,
          -0.34482586724742925,
          -1.0629525341853008,
          0.38530331033560733,
          1.6652564840701058,
          1.017710453432222,
          1.739805462678277,
          0.977218254223707,
          -0.11349498759333462,
          1.9125139328999086,
          -0.07919689362884139,
          0.19237236508550656,
          -1.218178626743223,
          1.5252495234723242,
          0.42515169637007116,
          -0.6917277873885234,
          -1.0914735632955341,
          0.1479495579758345,
          -0.769384799107449,
          -0.959114317069405,
          -0.11512199650222511,
          0.06717010137838174,
          -0.8100531665464591,
          0.7495654025364011,
          0.17261362176212222,
          -1.6122353899625055,
          2.0636152291749204,
          1.3542937788460374,
          0.3971750773103758,
          -1.6066263804550474,
          -0.847567402742816,
          2.2645832278875084,
          -0.04304356003073988,
          -1.3965861940480482,
          1.3607133938541376,
          -2.033089150596266,
          0.4936571407278187,
          -1.2255787715598412,
          -0.48127741316601513,
          3.05599930065596,
          -0.26528530741592665,
          -0.5031144218517964,
          2.0169311706777338,
          0.6137848243893546,
          0.5652221897804888,
          -0.7608485125554416,
          0.15896495846476275,
          -1.1521496906994413,
          -1.303672140570186,
          -0.5163893488317101,
          0.5326431891049507,
          -0.23498564823224072,
          -0.0075292175095747725,
          1.1807221464818747
         ],
         "y": [
          -0.5606845687001836,
          1.6792241184825982,
          -0.08661661904826148,
          0.3898727869993485,
          0.01484572176819306,
          1.2923784950415658,
          -0.7547121807613962,
          -0.17924041096584103,
          -2.079556271100031,
          1.3741475772876197,
          -0.7265727387037649,
          0.07795556662307522,
          -1.6984034926570812,
          0.9514332912763463,
          0.9208568312409571,
          0.8721149896398802,
          -1.2006034959932614,
          0.9698322836075526,
          -1.7348279414407843,
          -0.18045584815021679,
          -0.15534958173210708,
          0.5778707279835965,
          -0.31094304485398533,
          -0.22119039196159165,
          1.3577782715590458,
          0.5976119660885164,
          -0.33861814766618836,
          0.009153919545416113,
          -0.905349622590771,
          0.797128717357109,
          0.36614038340714694,
          -1.5116109210853086,
          0.36233320503932614,
          -1.286401592931063,
          0.8197727302603469,
          1.110110135760402,
          0.316814577082492,
          0.8162624495735802,
          1.3508787939093665,
          0.9370194953434611,
          1.748037798224933,
          0.5260329111423281,
          0.5837856131293094,
          1.627503056742485,
          0.7597512835732089,
          0.1195243454589661,
          1.1031778871431137,
          0.0732232025003497,
          -0.4392083678404856,
          -2.0005261017160803,
          0.15086645476505978,
          0.7707078145347047,
          0.39845934776015907,
          0.60503610907641,
          -0.5676790205343145,
          -0.08728334160333123,
          -0.6736473541810989,
          1.3469654155549382,
          -0.52895187800803,
          -0.7715416124924191,
          0.32992146618986257,
          -0.20511451718899026,
          0.8823370549505434,
          -1.6350359682122242,
          0.1998129876390042,
          -1.1175159253196678,
          -2.2548754117108527,
          0.3841331487228912,
          -0.5647053958800019,
          1.4138362030889675,
          -0.7336674767371699,
          -0.0994770805480279,
          1.4129817421869901,
          1.3279684648445662,
          -0.3426837583140145,
          0.7427901223026995,
          0.9562542554682181,
          1.662527972510784,
          1.654208700671479,
          1.6277836234752037,
          0.2622646773981404,
          1.1110417788709064,
          -1.0758423905400494,
          0.5866561856112027,
          -0.3632825296055402,
          -0.5092436817558994,
          0.9829762441659161,
          -0.9039318124721808,
          -0.8761259788070621,
          1.282766952219753,
          -1.2659129574243786,
          1.1388669103882356,
          0.031596317962045775,
          -1.0028678826990054,
          -0.203214798443493,
          -2.0704178554216046,
          -0.6120462001187992,
          -1.6908135230507628,
          0.3945926141835523,
          -0.8402938448734616
         ]
        }
       ],
       "layout": {
        "legend": {
         "bgcolor": "#F5F6F9",
         "font": {
          "color": "#4D5663"
         }
        },
        "paper_bgcolor": "#F5F6F9",
        "plot_bgcolor": "#F5F6F9",
        "template": {
         "data": {
          "bar": [
           {
            "error_x": {
             "color": "#2a3f5f"
            },
            "error_y": {
             "color": "#2a3f5f"
            },
            "marker": {
             "line": {
              "color": "#E5ECF6",
              "width": 0.5
             },
             "pattern": {
              "fillmode": "overlay",
              "size": 10,
              "solidity": 0.2
             }
            },
            "type": "bar"
           }
          ],
          "barpolar": [
           {
            "marker": {
             "line": {
              "color": "#E5ECF6",
              "width": 0.5
             },
             "pattern": {
              "fillmode": "overlay",
              "size": 10,
              "solidity": 0.2
             }
            },
            "type": "barpolar"
           }
          ],
          "carpet": [
           {
            "aaxis": {
             "endlinecolor": "#2a3f5f",
             "gridcolor": "white",
             "linecolor": "white",
             "minorgridcolor": "white",
             "startlinecolor": "#2a3f5f"
            },
            "baxis": {
             "endlinecolor": "#2a3f5f",
             "gridcolor": "white",
             "linecolor": "white",
             "minorgridcolor": "white",
             "startlinecolor": "#2a3f5f"
            },
            "type": "carpet"
           }
          ],
          "choropleth": [
           {
            "colorbar": {
             "outlinewidth": 0,
             "ticks": ""
            },
            "type": "choropleth"
           }
          ],
          "contour": [
           {
            "colorbar": {
             "outlinewidth": 0,
             "ticks": ""
            },
            "colorscale": [
             [
              0,
              "#0d0887"
             ],
             [
              0.1111111111111111,
              "#46039f"
             ],
             [
              0.2222222222222222,
              "#7201a8"
             ],
             [
              0.3333333333333333,
              "#9c179e"
             ],
             [
              0.4444444444444444,
              "#bd3786"
             ],
             [
              0.5555555555555556,
              "#d8576b"
             ],
             [
              0.6666666666666666,
              "#ed7953"
             ],
             [
              0.7777777777777778,
              "#fb9f3a"
             ],
             [
              0.8888888888888888,
              "#fdca26"
             ],
             [
              1,
              "#f0f921"
             ]
            ],
            "type": "contour"
           }
          ],
          "contourcarpet": [
           {
            "colorbar": {
             "outlinewidth": 0,
             "ticks": ""
            },
            "type": "contourcarpet"
           }
          ],
          "heatmap": [
           {
            "colorbar": {
             "outlinewidth": 0,
             "ticks": ""
            },
            "colorscale": [
             [
              0,
              "#0d0887"
             ],
             [
              0.1111111111111111,
              "#46039f"
             ],
             [
              0.2222222222222222,
              "#7201a8"
             ],
             [
              0.3333333333333333,
              "#9c179e"
             ],
             [
              0.4444444444444444,
              "#bd3786"
             ],
             [
              0.5555555555555556,
              "#d8576b"
             ],
             [
              0.6666666666666666,
              "#ed7953"
             ],
             [
              0.7777777777777778,
              "#fb9f3a"
             ],
             [
              0.8888888888888888,
              "#fdca26"
             ],
             [
              1,
              "#f0f921"
             ]
            ],
            "type": "heatmap"
           }
          ],
          "heatmapgl": [
           {
            "colorbar": {
             "outlinewidth": 0,
             "ticks": ""
            },
            "colorscale": [
             [
              0,
              "#0d0887"
             ],
             [
              0.1111111111111111,
              "#46039f"
             ],
             [
              0.2222222222222222,
              "#7201a8"
             ],
             [
              0.3333333333333333,
              "#9c179e"
             ],
             [
              0.4444444444444444,
              "#bd3786"
             ],
             [
              0.5555555555555556,
              "#d8576b"
             ],
             [
              0.6666666666666666,
              "#ed7953"
             ],
             [
              0.7777777777777778,
              "#fb9f3a"
             ],
             [
              0.8888888888888888,
              "#fdca26"
             ],
             [
              1,
              "#f0f921"
             ]
            ],
            "type": "heatmapgl"
           }
          ],
          "histogram": [
           {
            "marker": {
             "pattern": {
              "fillmode": "overlay",
              "size": 10,
              "solidity": 0.2
             }
            },
            "type": "histogram"
           }
          ],
          "histogram2d": [
           {
            "colorbar": {
             "outlinewidth": 0,
             "ticks": ""
            },
            "colorscale": [
             [
              0,
              "#0d0887"
             ],
             [
              0.1111111111111111,
              "#46039f"
             ],
             [
              0.2222222222222222,
              "#7201a8"
             ],
             [
              0.3333333333333333,
              "#9c179e"
             ],
             [
              0.4444444444444444,
              "#bd3786"
             ],
             [
              0.5555555555555556,
              "#d8576b"
             ],
             [
              0.6666666666666666,
              "#ed7953"
             ],
             [
              0.7777777777777778,
              "#fb9f3a"
             ],
             [
              0.8888888888888888,
              "#fdca26"
             ],
             [
              1,
              "#f0f921"
             ]
            ],
            "type": "histogram2d"
           }
          ],
          "histogram2dcontour": [
           {
            "colorbar": {
             "outlinewidth": 0,
             "ticks": ""
            },
            "colorscale": [
             [
              0,
              "#0d0887"
             ],
             [
              0.1111111111111111,
              "#46039f"
             ],
             [
              0.2222222222222222,
              "#7201a8"
             ],
             [
              0.3333333333333333,
              "#9c179e"
             ],
             [
              0.4444444444444444,
              "#bd3786"
             ],
             [
              0.5555555555555556,
              "#d8576b"
             ],
             [
              0.6666666666666666,
              "#ed7953"
             ],
             [
              0.7777777777777778,
              "#fb9f3a"
             ],
             [
              0.8888888888888888,
              "#fdca26"
             ],
             [
              1,
              "#f0f921"
             ]
            ],
            "type": "histogram2dcontour"
           }
          ],
          "mesh3d": [
           {
            "colorbar": {
             "outlinewidth": 0,
             "ticks": ""
            },
            "type": "mesh3d"
           }
          ],
          "parcoords": [
           {
            "line": {
             "colorbar": {
              "outlinewidth": 0,
              "ticks": ""
             }
            },
            "type": "parcoords"
           }
          ],
          "pie": [
           {
            "automargin": true,
            "type": "pie"
           }
          ],
          "scatter": [
           {
            "fillpattern": {
             "fillmode": "overlay",
             "size": 10,
             "solidity": 0.2
            },
            "type": "scatter"
           }
          ],
          "scatter3d": [
           {
            "line": {
             "colorbar": {
              "outlinewidth": 0,
              "ticks": ""
             }
            },
            "marker": {
             "colorbar": {
              "outlinewidth": 0,
              "ticks": ""
             }
            },
            "type": "scatter3d"
           }
          ],
          "scattercarpet": [
           {
            "marker": {
             "colorbar": {
              "outlinewidth": 0,
              "ticks": ""
             }
            },
            "type": "scattercarpet"
           }
          ],
          "scattergeo": [
           {
            "marker": {
             "colorbar": {
              "outlinewidth": 0,
              "ticks": ""
             }
            },
            "type": "scattergeo"
           }
          ],
          "scattergl": [
           {
            "marker": {
             "colorbar": {
              "outlinewidth": 0,
              "ticks": ""
             }
            },
            "type": "scattergl"
           }
          ],
          "scattermapbox": [
           {
            "marker": {
             "colorbar": {
              "outlinewidth": 0,
              "ticks": ""
             }
            },
            "type": "scattermapbox"
           }
          ],
          "scatterpolar": [
           {
            "marker": {
             "colorbar": {
              "outlinewidth": 0,
              "ticks": ""
             }
            },
            "type": "scatterpolar"
           }
          ],
          "scatterpolargl": [
           {
            "marker": {
             "colorbar": {
              "outlinewidth": 0,
              "ticks": ""
             }
            },
            "type": "scatterpolargl"
           }
          ],
          "scatterternary": [
           {
            "marker": {
             "colorbar": {
              "outlinewidth": 0,
              "ticks": ""
             }
            },
            "type": "scatterternary"
           }
          ],
          "surface": [
           {
            "colorbar": {
             "outlinewidth": 0,
             "ticks": ""
            },
            "colorscale": [
             [
              0,
              "#0d0887"
             ],
             [
              0.1111111111111111,
              "#46039f"
             ],
             [
              0.2222222222222222,
              "#7201a8"
             ],
             [
              0.3333333333333333,
              "#9c179e"
             ],
             [
              0.4444444444444444,
              "#bd3786"
             ],
             [
              0.5555555555555556,
              "#d8576b"
             ],
             [
              0.6666666666666666,
              "#ed7953"
             ],
             [
              0.7777777777777778,
              "#fb9f3a"
             ],
             [
              0.8888888888888888,
              "#fdca26"
             ],
             [
              1,
              "#f0f921"
             ]
            ],
            "type": "surface"
           }
          ],
          "table": [
           {
            "cells": {
             "fill": {
              "color": "#EBF0F8"
             },
             "line": {
              "color": "white"
             }
            },
            "header": {
             "fill": {
              "color": "#C8D4E3"
             },
             "line": {
              "color": "white"
             }
            },
            "type": "table"
           }
          ]
         },
         "layout": {
          "annotationdefaults": {
           "arrowcolor": "#2a3f5f",
           "arrowhead": 0,
           "arrowwidth": 1
          },
          "autotypenumbers": "strict",
          "coloraxis": {
           "colorbar": {
            "outlinewidth": 0,
            "ticks": ""
           }
          },
          "colorscale": {
           "diverging": [
            [
             0,
             "#8e0152"
            ],
            [
             0.1,
             "#c51b7d"
            ],
            [
             0.2,
             "#de77ae"
            ],
            [
             0.3,
             "#f1b6da"
            ],
            [
             0.4,
             "#fde0ef"
            ],
            [
             0.5,
             "#f7f7f7"
            ],
            [
             0.6,
             "#e6f5d0"
            ],
            [
             0.7,
             "#b8e186"
            ],
            [
             0.8,
             "#7fbc41"
            ],
            [
             0.9,
             "#4d9221"
            ],
            [
             1,
             "#276419"
            ]
           ],
           "sequential": [
            [
             0,
             "#0d0887"
            ],
            [
             0.1111111111111111,
             "#46039f"
            ],
            [
             0.2222222222222222,
             "#7201a8"
            ],
            [
             0.3333333333333333,
             "#9c179e"
            ],
            [
             0.4444444444444444,
             "#bd3786"
            ],
            [
             0.5555555555555556,
             "#d8576b"
            ],
            [
             0.6666666666666666,
             "#ed7953"
            ],
            [
             0.7777777777777778,
             "#fb9f3a"
            ],
            [
             0.8888888888888888,
             "#fdca26"
            ],
            [
             1,
             "#f0f921"
            ]
           ],
           "sequentialminus": [
            [
             0,
             "#0d0887"
            ],
            [
             0.1111111111111111,
             "#46039f"
            ],
            [
             0.2222222222222222,
             "#7201a8"
            ],
            [
             0.3333333333333333,
             "#9c179e"
            ],
            [
             0.4444444444444444,
             "#bd3786"
            ],
            [
             0.5555555555555556,
             "#d8576b"
            ],
            [
             0.6666666666666666,
             "#ed7953"
            ],
            [
             0.7777777777777778,
             "#fb9f3a"
            ],
            [
             0.8888888888888888,
             "#fdca26"
            ],
            [
             1,
             "#f0f921"
            ]
           ]
          },
          "colorway": [
           "#636efa",
           "#EF553B",
           "#00cc96",
           "#ab63fa",
           "#FFA15A",
           "#19d3f3",
           "#FF6692",
           "#B6E880",
           "#FF97FF",
           "#FECB52"
          ],
          "font": {
           "color": "#2a3f5f"
          },
          "geo": {
           "bgcolor": "white",
           "lakecolor": "white",
           "landcolor": "#E5ECF6",
           "showlakes": true,
           "showland": true,
           "subunitcolor": "white"
          },
          "hoverlabel": {
           "align": "left"
          },
          "hovermode": "closest",
          "mapbox": {
           "style": "light"
          },
          "paper_bgcolor": "white",
          "plot_bgcolor": "#E5ECF6",
          "polar": {
           "angularaxis": {
            "gridcolor": "white",
            "linecolor": "white",
            "ticks": ""
           },
           "bgcolor": "#E5ECF6",
           "radialaxis": {
            "gridcolor": "white",
            "linecolor": "white",
            "ticks": ""
           }
          },
          "scene": {
           "xaxis": {
            "backgroundcolor": "#E5ECF6",
            "gridcolor": "white",
            "gridwidth": 2,
            "linecolor": "white",
            "showbackground": true,
            "ticks": "",
            "zerolinecolor": "white"
           },
           "yaxis": {
            "backgroundcolor": "#E5ECF6",
            "gridcolor": "white",
            "gridwidth": 2,
            "linecolor": "white",
            "showbackground": true,
            "ticks": "",
            "zerolinecolor": "white"
           },
           "zaxis": {
            "backgroundcolor": "#E5ECF6",
            "gridcolor": "white",
            "gridwidth": 2,
            "linecolor": "white",
            "showbackground": true,
            "ticks": "",
            "zerolinecolor": "white"
           }
          },
          "shapedefaults": {
           "line": {
            "color": "#2a3f5f"
           }
          },
          "ternary": {
           "aaxis": {
            "gridcolor": "white",
            "linecolor": "white",
            "ticks": ""
           },
           "baxis": {
            "gridcolor": "white",
            "linecolor": "white",
            "ticks": ""
           },
           "bgcolor": "#E5ECF6",
           "caxis": {
            "gridcolor": "white",
            "linecolor": "white",
            "ticks": ""
           }
          },
          "title": {
           "x": 0.05
          },
          "xaxis": {
           "automargin": true,
           "gridcolor": "white",
           "linecolor": "white",
           "ticks": "",
           "title": {
            "standoff": 15
           },
           "zerolinecolor": "white",
           "zerolinewidth": 2
          },
          "yaxis": {
           "automargin": true,
           "gridcolor": "white",
           "linecolor": "white",
           "ticks": "",
           "title": {
            "standoff": 15
           },
           "zerolinecolor": "white",
           "zerolinewidth": 2
          }
         }
        },
        "title": {
         "font": {
          "color": "#4D5663"
         }
        },
        "xaxis": {
         "gridcolor": "#E1E5ED",
         "showgrid": true,
         "tickfont": {
          "color": "#4D5663"
         },
         "title": {
          "font": {
           "color": "#4D5663"
          },
          "text": ""
         },
         "zerolinecolor": "#E1E5ED"
        },
        "yaxis": {
         "gridcolor": "#E1E5ED",
         "showgrid": true,
         "tickfont": {
          "color": "#4D5663"
         },
         "title": {
          "font": {
           "color": "#4D5663"
          },
          "text": ""
         },
         "zerolinecolor": "#E1E5ED"
        }
       }
      },
      "text/html": [
       "<div>                            <div id=\"4f05ef53-e5e5-4ad7-aac0-a9d958345eb1\" class=\"plotly-graph-div\" style=\"height:525px; width:100%;\"></div>            <script type=\"text/javascript\">                require([\"plotly\"], function(Plotly) {                    window.PLOTLYENV=window.PLOTLYENV || {};\n",
       "                    window.PLOTLYENV.BASE_URL='https://plot.ly';                                    if (document.getElementById(\"4f05ef53-e5e5-4ad7-aac0-a9d958345eb1\")) {                    Plotly.newPlot(                        \"4f05ef53-e5e5-4ad7-aac0-a9d958345eb1\",                        [{\"line\":{\"color\":\"rgba(255, 153, 51, 1.0)\",\"dash\":\"solid\",\"shape\":\"linear\",\"width\":1.3},\"marker\":{\"size\":10,\"symbol\":\"circle\"},\"mode\":\"markers\",\"name\":\"B\",\"text\":\"\",\"x\":[-0.27164247126346136,-1.3257070606440196,0.09509138803241492,0.5677789260155507,-1.7702004827781839,0.8192901452031851,0.42843016749584817,0.48891810080098663,-0.13885574098913533,-1.6637758910766713,-0.687383321981337,0.9406647337380462,-0.690819839092722,1.2806354120967807,0.19519500649436486,-0.9617059095864561,-0.34082321440792496,0.40501808153456115,1.0256932200321933,0.19792777139922432,0.4473417964638847,-0.746357600971722,-0.7463331494444009,1.8614426561055353,-1.1921824686638272,0.33702637966918264,-0.019990132981849144,-1.0365459781316264,-0.9182930313854358,1.0514506561892487,1.4231033015561043,0.9388329560106634,-0.6005788533325781,-1.5577073542570385,0.7729435472995098,-0.7886108148794514,0.8276169458706734,-0.5887982618967834,0.6079822371177137,1.1815201552359502,-0.46765292959066734,-1.1747756877337578,0.12539506832767486,0.8444236630050397,0.4837479545939307,0.2626615850571374,0.25609179616383837,-0.34482586724742925,-1.0629525341853008,0.38530331033560733,1.6652564840701058,1.017710453432222,1.739805462678277,0.977218254223707,-0.11349498759333462,1.9125139328999086,-0.07919689362884139,0.19237236508550656,-1.218178626743223,1.5252495234723242,0.42515169637007116,-0.6917277873885234,-1.0914735632955341,0.1479495579758345,-0.769384799107449,-0.959114317069405,-0.11512199650222511,0.06717010137838174,-0.8100531665464591,0.7495654025364011,0.17261362176212222,-1.6122353899625055,2.0636152291749204,1.3542937788460374,0.3971750773103758,-1.6066263804550474,-0.847567402742816,2.2645832278875084,-0.04304356003073988,-1.3965861940480482,1.3607133938541376,-2.033089150596266,0.4936571407278187,-1.2255787715598412,-0.48127741316601513,3.05599930065596,-0.26528530741592665,-0.5031144218517964,2.0169311706777338,0.6137848243893546,0.5652221897804888,-0.7608485125554416,0.15896495846476275,-1.1521496906994413,-1.303672140570186,-0.5163893488317101,0.5326431891049507,-0.23498564823224072,-0.0075292175095747725,1.1807221464818747],\"y\":[-0.5606845687001836,1.6792241184825982,-0.08661661904826148,0.3898727869993485,0.01484572176819306,1.2923784950415658,-0.7547121807613962,-0.17924041096584103,-2.079556271100031,1.3741475772876197,-0.7265727387037649,0.07795556662307522,-1.6984034926570812,0.9514332912763463,0.9208568312409571,0.8721149896398802,-1.2006034959932614,0.9698322836075526,-1.7348279414407843,-0.18045584815021679,-0.15534958173210708,0.5778707279835965,-0.31094304485398533,-0.22119039196159165,1.3577782715590458,0.5976119660885164,-0.33861814766618836,0.009153919545416113,-0.905349622590771,0.797128717357109,0.36614038340714694,-1.5116109210853086,0.36233320503932614,-1.286401592931063,0.8197727302603469,1.110110135760402,0.316814577082492,0.8162624495735802,1.3508787939093665,0.9370194953434611,1.748037798224933,0.5260329111423281,0.5837856131293094,1.627503056742485,0.7597512835732089,0.1195243454589661,1.1031778871431137,0.0732232025003497,-0.4392083678404856,-2.0005261017160803,0.15086645476505978,0.7707078145347047,0.39845934776015907,0.60503610907641,-0.5676790205343145,-0.08728334160333123,-0.6736473541810989,1.3469654155549382,-0.52895187800803,-0.7715416124924191,0.32992146618986257,-0.20511451718899026,0.8823370549505434,-1.6350359682122242,0.1998129876390042,-1.1175159253196678,-2.2548754117108527,0.3841331487228912,-0.5647053958800019,1.4138362030889675,-0.7336674767371699,-0.0994770805480279,1.4129817421869901,1.3279684648445662,-0.3426837583140145,0.7427901223026995,0.9562542554682181,1.662527972510784,1.654208700671479,1.6277836234752037,0.2622646773981404,1.1110417788709064,-1.0758423905400494,0.5866561856112027,-0.3632825296055402,-0.5092436817558994,0.9829762441659161,-0.9039318124721808,-0.8761259788070621,1.282766952219753,-1.2659129574243786,1.1388669103882356,0.031596317962045775,-1.0028678826990054,-0.203214798443493,-2.0704178554216046,-0.6120462001187992,-1.6908135230507628,0.3945926141835523,-0.8402938448734616],\"type\":\"scatter\"}],                        {\"legend\":{\"bgcolor\":\"#F5F6F9\",\"font\":{\"color\":\"#4D5663\"}},\"paper_bgcolor\":\"#F5F6F9\",\"plot_bgcolor\":\"#F5F6F9\",\"template\":{\"data\":{\"barpolar\":[{\"marker\":{\"line\":{\"color\":\"#E5ECF6\",\"width\":0.5},\"pattern\":{\"fillmode\":\"overlay\",\"size\":10,\"solidity\":0.2}},\"type\":\"barpolar\"}],\"bar\":[{\"error_x\":{\"color\":\"#2a3f5f\"},\"error_y\":{\"color\":\"#2a3f5f\"},\"marker\":{\"line\":{\"color\":\"#E5ECF6\",\"width\":0.5},\"pattern\":{\"fillmode\":\"overlay\",\"size\":10,\"solidity\":0.2}},\"type\":\"bar\"}],\"carpet\":[{\"aaxis\":{\"endlinecolor\":\"#2a3f5f\",\"gridcolor\":\"white\",\"linecolor\":\"white\",\"minorgridcolor\":\"white\",\"startlinecolor\":\"#2a3f5f\"},\"baxis\":{\"endlinecolor\":\"#2a3f5f\",\"gridcolor\":\"white\",\"linecolor\":\"white\",\"minorgridcolor\":\"white\",\"startlinecolor\":\"#2a3f5f\"},\"type\":\"carpet\"}],\"choropleth\":[{\"colorbar\":{\"outlinewidth\":0,\"ticks\":\"\"},\"type\":\"choropleth\"}],\"contourcarpet\":[{\"colorbar\":{\"outlinewidth\":0,\"ticks\":\"\"},\"type\":\"contourcarpet\"}],\"contour\":[{\"colorbar\":{\"outlinewidth\":0,\"ticks\":\"\"},\"colorscale\":[[0.0,\"#0d0887\"],[0.1111111111111111,\"#46039f\"],[0.2222222222222222,\"#7201a8\"],[0.3333333333333333,\"#9c179e\"],[0.4444444444444444,\"#bd3786\"],[0.5555555555555556,\"#d8576b\"],[0.6666666666666666,\"#ed7953\"],[0.7777777777777778,\"#fb9f3a\"],[0.8888888888888888,\"#fdca26\"],[1.0,\"#f0f921\"]],\"type\":\"contour\"}],\"heatmapgl\":[{\"colorbar\":{\"outlinewidth\":0,\"ticks\":\"\"},\"colorscale\":[[0.0,\"#0d0887\"],[0.1111111111111111,\"#46039f\"],[0.2222222222222222,\"#7201a8\"],[0.3333333333333333,\"#9c179e\"],[0.4444444444444444,\"#bd3786\"],[0.5555555555555556,\"#d8576b\"],[0.6666666666666666,\"#ed7953\"],[0.7777777777777778,\"#fb9f3a\"],[0.8888888888888888,\"#fdca26\"],[1.0,\"#f0f921\"]],\"type\":\"heatmapgl\"}],\"heatmap\":[{\"colorbar\":{\"outlinewidth\":0,\"ticks\":\"\"},\"colorscale\":[[0.0,\"#0d0887\"],[0.1111111111111111,\"#46039f\"],[0.2222222222222222,\"#7201a8\"],[0.3333333333333333,\"#9c179e\"],[0.4444444444444444,\"#bd3786\"],[0.5555555555555556,\"#d8576b\"],[0.6666666666666666,\"#ed7953\"],[0.7777777777777778,\"#fb9f3a\"],[0.8888888888888888,\"#fdca26\"],[1.0,\"#f0f921\"]],\"type\":\"heatmap\"}],\"histogram2dcontour\":[{\"colorbar\":{\"outlinewidth\":0,\"ticks\":\"\"},\"colorscale\":[[0.0,\"#0d0887\"],[0.1111111111111111,\"#46039f\"],[0.2222222222222222,\"#7201a8\"],[0.3333333333333333,\"#9c179e\"],[0.4444444444444444,\"#bd3786\"],[0.5555555555555556,\"#d8576b\"],[0.6666666666666666,\"#ed7953\"],[0.7777777777777778,\"#fb9f3a\"],[0.8888888888888888,\"#fdca26\"],[1.0,\"#f0f921\"]],\"type\":\"histogram2dcontour\"}],\"histogram2d\":[{\"colorbar\":{\"outlinewidth\":0,\"ticks\":\"\"},\"colorscale\":[[0.0,\"#0d0887\"],[0.1111111111111111,\"#46039f\"],[0.2222222222222222,\"#7201a8\"],[0.3333333333333333,\"#9c179e\"],[0.4444444444444444,\"#bd3786\"],[0.5555555555555556,\"#d8576b\"],[0.6666666666666666,\"#ed7953\"],[0.7777777777777778,\"#fb9f3a\"],[0.8888888888888888,\"#fdca26\"],[1.0,\"#f0f921\"]],\"type\":\"histogram2d\"}],\"histogram\":[{\"marker\":{\"pattern\":{\"fillmode\":\"overlay\",\"size\":10,\"solidity\":0.2}},\"type\":\"histogram\"}],\"mesh3d\":[{\"colorbar\":{\"outlinewidth\":0,\"ticks\":\"\"},\"type\":\"mesh3d\"}],\"parcoords\":[{\"line\":{\"colorbar\":{\"outlinewidth\":0,\"ticks\":\"\"}},\"type\":\"parcoords\"}],\"pie\":[{\"automargin\":true,\"type\":\"pie\"}],\"scatter3d\":[{\"line\":{\"colorbar\":{\"outlinewidth\":0,\"ticks\":\"\"}},\"marker\":{\"colorbar\":{\"outlinewidth\":0,\"ticks\":\"\"}},\"type\":\"scatter3d\"}],\"scattercarpet\":[{\"marker\":{\"colorbar\":{\"outlinewidth\":0,\"ticks\":\"\"}},\"type\":\"scattercarpet\"}],\"scattergeo\":[{\"marker\":{\"colorbar\":{\"outlinewidth\":0,\"ticks\":\"\"}},\"type\":\"scattergeo\"}],\"scattergl\":[{\"marker\":{\"colorbar\":{\"outlinewidth\":0,\"ticks\":\"\"}},\"type\":\"scattergl\"}],\"scattermapbox\":[{\"marker\":{\"colorbar\":{\"outlinewidth\":0,\"ticks\":\"\"}},\"type\":\"scattermapbox\"}],\"scatterpolargl\":[{\"marker\":{\"colorbar\":{\"outlinewidth\":0,\"ticks\":\"\"}},\"type\":\"scatterpolargl\"}],\"scatterpolar\":[{\"marker\":{\"colorbar\":{\"outlinewidth\":0,\"ticks\":\"\"}},\"type\":\"scatterpolar\"}],\"scatter\":[{\"fillpattern\":{\"fillmode\":\"overlay\",\"size\":10,\"solidity\":0.2},\"type\":\"scatter\"}],\"scatterternary\":[{\"marker\":{\"colorbar\":{\"outlinewidth\":0,\"ticks\":\"\"}},\"type\":\"scatterternary\"}],\"surface\":[{\"colorbar\":{\"outlinewidth\":0,\"ticks\":\"\"},\"colorscale\":[[0.0,\"#0d0887\"],[0.1111111111111111,\"#46039f\"],[0.2222222222222222,\"#7201a8\"],[0.3333333333333333,\"#9c179e\"],[0.4444444444444444,\"#bd3786\"],[0.5555555555555556,\"#d8576b\"],[0.6666666666666666,\"#ed7953\"],[0.7777777777777778,\"#fb9f3a\"],[0.8888888888888888,\"#fdca26\"],[1.0,\"#f0f921\"]],\"type\":\"surface\"}],\"table\":[{\"cells\":{\"fill\":{\"color\":\"#EBF0F8\"},\"line\":{\"color\":\"white\"}},\"header\":{\"fill\":{\"color\":\"#C8D4E3\"},\"line\":{\"color\":\"white\"}},\"type\":\"table\"}]},\"layout\":{\"annotationdefaults\":{\"arrowcolor\":\"#2a3f5f\",\"arrowhead\":0,\"arrowwidth\":1},\"autotypenumbers\":\"strict\",\"coloraxis\":{\"colorbar\":{\"outlinewidth\":0,\"ticks\":\"\"}},\"colorscale\":{\"diverging\":[[0,\"#8e0152\"],[0.1,\"#c51b7d\"],[0.2,\"#de77ae\"],[0.3,\"#f1b6da\"],[0.4,\"#fde0ef\"],[0.5,\"#f7f7f7\"],[0.6,\"#e6f5d0\"],[0.7,\"#b8e186\"],[0.8,\"#7fbc41\"],[0.9,\"#4d9221\"],[1,\"#276419\"]],\"sequential\":[[0.0,\"#0d0887\"],[0.1111111111111111,\"#46039f\"],[0.2222222222222222,\"#7201a8\"],[0.3333333333333333,\"#9c179e\"],[0.4444444444444444,\"#bd3786\"],[0.5555555555555556,\"#d8576b\"],[0.6666666666666666,\"#ed7953\"],[0.7777777777777778,\"#fb9f3a\"],[0.8888888888888888,\"#fdca26\"],[1.0,\"#f0f921\"]],\"sequentialminus\":[[0.0,\"#0d0887\"],[0.1111111111111111,\"#46039f\"],[0.2222222222222222,\"#7201a8\"],[0.3333333333333333,\"#9c179e\"],[0.4444444444444444,\"#bd3786\"],[0.5555555555555556,\"#d8576b\"],[0.6666666666666666,\"#ed7953\"],[0.7777777777777778,\"#fb9f3a\"],[0.8888888888888888,\"#fdca26\"],[1.0,\"#f0f921\"]]},\"colorway\":[\"#636efa\",\"#EF553B\",\"#00cc96\",\"#ab63fa\",\"#FFA15A\",\"#19d3f3\",\"#FF6692\",\"#B6E880\",\"#FF97FF\",\"#FECB52\"],\"font\":{\"color\":\"#2a3f5f\"},\"geo\":{\"bgcolor\":\"white\",\"lakecolor\":\"white\",\"landcolor\":\"#E5ECF6\",\"showlakes\":true,\"showland\":true,\"subunitcolor\":\"white\"},\"hoverlabel\":{\"align\":\"left\"},\"hovermode\":\"closest\",\"mapbox\":{\"style\":\"light\"},\"paper_bgcolor\":\"white\",\"plot_bgcolor\":\"#E5ECF6\",\"polar\":{\"angularaxis\":{\"gridcolor\":\"white\",\"linecolor\":\"white\",\"ticks\":\"\"},\"bgcolor\":\"#E5ECF6\",\"radialaxis\":{\"gridcolor\":\"white\",\"linecolor\":\"white\",\"ticks\":\"\"}},\"scene\":{\"xaxis\":{\"backgroundcolor\":\"#E5ECF6\",\"gridcolor\":\"white\",\"gridwidth\":2,\"linecolor\":\"white\",\"showbackground\":true,\"ticks\":\"\",\"zerolinecolor\":\"white\"},\"yaxis\":{\"backgroundcolor\":\"#E5ECF6\",\"gridcolor\":\"white\",\"gridwidth\":2,\"linecolor\":\"white\",\"showbackground\":true,\"ticks\":\"\",\"zerolinecolor\":\"white\"},\"zaxis\":{\"backgroundcolor\":\"#E5ECF6\",\"gridcolor\":\"white\",\"gridwidth\":2,\"linecolor\":\"white\",\"showbackground\":true,\"ticks\":\"\",\"zerolinecolor\":\"white\"}},\"shapedefaults\":{\"line\":{\"color\":\"#2a3f5f\"}},\"ternary\":{\"aaxis\":{\"gridcolor\":\"white\",\"linecolor\":\"white\",\"ticks\":\"\"},\"baxis\":{\"gridcolor\":\"white\",\"linecolor\":\"white\",\"ticks\":\"\"},\"bgcolor\":\"#E5ECF6\",\"caxis\":{\"gridcolor\":\"white\",\"linecolor\":\"white\",\"ticks\":\"\"}},\"title\":{\"x\":0.05},\"xaxis\":{\"automargin\":true,\"gridcolor\":\"white\",\"linecolor\":\"white\",\"ticks\":\"\",\"title\":{\"standoff\":15},\"zerolinecolor\":\"white\",\"zerolinewidth\":2},\"yaxis\":{\"automargin\":true,\"gridcolor\":\"white\",\"linecolor\":\"white\",\"ticks\":\"\",\"title\":{\"standoff\":15},\"zerolinecolor\":\"white\",\"zerolinewidth\":2}}},\"title\":{\"font\":{\"color\":\"#4D5663\"}},\"xaxis\":{\"gridcolor\":\"#E1E5ED\",\"showgrid\":true,\"tickfont\":{\"color\":\"#4D5663\"},\"title\":{\"font\":{\"color\":\"#4D5663\"},\"text\":\"\"},\"zerolinecolor\":\"#E1E5ED\"},\"yaxis\":{\"gridcolor\":\"#E1E5ED\",\"showgrid\":true,\"tickfont\":{\"color\":\"#4D5663\"},\"title\":{\"font\":{\"color\":\"#4D5663\"},\"text\":\"\"},\"zerolinecolor\":\"#E1E5ED\"}},                        {\"showLink\": true, \"linkText\": \"Export to plot.ly\", \"plotlyServerURL\": \"https://plot.ly\", \"responsive\": true}                    ).then(function(){\n",
       "                            \n",
       "var gd = document.getElementById('4f05ef53-e5e5-4ad7-aac0-a9d958345eb1');\n",
       "var x = new MutationObserver(function (mutations, observer) {{\n",
       "        var display = window.getComputedStyle(gd).display;\n",
       "        if (!display || display === 'none') {{\n",
       "            console.log([gd, 'removed!']);\n",
       "            Plotly.purge(gd);\n",
       "            observer.disconnect();\n",
       "        }}\n",
       "}});\n",
       "\n",
       "// Listen for the removal of the full notebook cells\n",
       "var notebookContainer = gd.closest('#notebook-container');\n",
       "if (notebookContainer) {{\n",
       "    x.observe(notebookContainer, {childList: true});\n",
       "}}\n",
       "\n",
       "// Listen for the clearing of the current output cell\n",
       "var outputEl = gd.closest('.output');\n",
       "if (outputEl) {{\n",
       "    x.observe(outputEl, {childList: true});\n",
       "}}\n",
       "\n",
       "                        })                };                });            </script>        </div>"
      ]
     },
     "metadata": {},
     "output_type": "display_data"
    }
   ],
   "source": [
    "df1.iplot(kind='scatter',x='A',y='B',mode='markers' , size=10)"
   ]
  },
  {
   "cell_type": "code",
   "execution_count": 12,
   "metadata": {},
   "outputs": [
    {
     "data": {
      "application/vnd.plotly.v1+json": {
       "config": {
        "linkText": "Export to plot.ly",
        "plotlyServerURL": "https://plot.ly",
        "showLink": true
       },
       "data": [
        {
         "marker": {
          "color": "rgba(255, 153, 51, 0.6)",
          "line": {
           "color": "rgba(255, 153, 51, 1.0)",
           "width": 1
          }
         },
         "name": "values",
         "orientation": "v",
         "text": "",
         "type": "bar",
         "x": [
          "A",
          "B",
          "C"
         ],
         "y": [
          32,
          43,
          50
         ]
        }
       ],
       "layout": {
        "legend": {
         "bgcolor": "#F5F6F9",
         "font": {
          "color": "#4D5663"
         }
        },
        "paper_bgcolor": "#F5F6F9",
        "plot_bgcolor": "#F5F6F9",
        "template": {
         "data": {
          "bar": [
           {
            "error_x": {
             "color": "#2a3f5f"
            },
            "error_y": {
             "color": "#2a3f5f"
            },
            "marker": {
             "line": {
              "color": "#E5ECF6",
              "width": 0.5
             },
             "pattern": {
              "fillmode": "overlay",
              "size": 10,
              "solidity": 0.2
             }
            },
            "type": "bar"
           }
          ],
          "barpolar": [
           {
            "marker": {
             "line": {
              "color": "#E5ECF6",
              "width": 0.5
             },
             "pattern": {
              "fillmode": "overlay",
              "size": 10,
              "solidity": 0.2
             }
            },
            "type": "barpolar"
           }
          ],
          "carpet": [
           {
            "aaxis": {
             "endlinecolor": "#2a3f5f",
             "gridcolor": "white",
             "linecolor": "white",
             "minorgridcolor": "white",
             "startlinecolor": "#2a3f5f"
            },
            "baxis": {
             "endlinecolor": "#2a3f5f",
             "gridcolor": "white",
             "linecolor": "white",
             "minorgridcolor": "white",
             "startlinecolor": "#2a3f5f"
            },
            "type": "carpet"
           }
          ],
          "choropleth": [
           {
            "colorbar": {
             "outlinewidth": 0,
             "ticks": ""
            },
            "type": "choropleth"
           }
          ],
          "contour": [
           {
            "colorbar": {
             "outlinewidth": 0,
             "ticks": ""
            },
            "colorscale": [
             [
              0,
              "#0d0887"
             ],
             [
              0.1111111111111111,
              "#46039f"
             ],
             [
              0.2222222222222222,
              "#7201a8"
             ],
             [
              0.3333333333333333,
              "#9c179e"
             ],
             [
              0.4444444444444444,
              "#bd3786"
             ],
             [
              0.5555555555555556,
              "#d8576b"
             ],
             [
              0.6666666666666666,
              "#ed7953"
             ],
             [
              0.7777777777777778,
              "#fb9f3a"
             ],
             [
              0.8888888888888888,
              "#fdca26"
             ],
             [
              1,
              "#f0f921"
             ]
            ],
            "type": "contour"
           }
          ],
          "contourcarpet": [
           {
            "colorbar": {
             "outlinewidth": 0,
             "ticks": ""
            },
            "type": "contourcarpet"
           }
          ],
          "heatmap": [
           {
            "colorbar": {
             "outlinewidth": 0,
             "ticks": ""
            },
            "colorscale": [
             [
              0,
              "#0d0887"
             ],
             [
              0.1111111111111111,
              "#46039f"
             ],
             [
              0.2222222222222222,
              "#7201a8"
             ],
             [
              0.3333333333333333,
              "#9c179e"
             ],
             [
              0.4444444444444444,
              "#bd3786"
             ],
             [
              0.5555555555555556,
              "#d8576b"
             ],
             [
              0.6666666666666666,
              "#ed7953"
             ],
             [
              0.7777777777777778,
              "#fb9f3a"
             ],
             [
              0.8888888888888888,
              "#fdca26"
             ],
             [
              1,
              "#f0f921"
             ]
            ],
            "type": "heatmap"
           }
          ],
          "heatmapgl": [
           {
            "colorbar": {
             "outlinewidth": 0,
             "ticks": ""
            },
            "colorscale": [
             [
              0,
              "#0d0887"
             ],
             [
              0.1111111111111111,
              "#46039f"
             ],
             [
              0.2222222222222222,
              "#7201a8"
             ],
             [
              0.3333333333333333,
              "#9c179e"
             ],
             [
              0.4444444444444444,
              "#bd3786"
             ],
             [
              0.5555555555555556,
              "#d8576b"
             ],
             [
              0.6666666666666666,
              "#ed7953"
             ],
             [
              0.7777777777777778,
              "#fb9f3a"
             ],
             [
              0.8888888888888888,
              "#fdca26"
             ],
             [
              1,
              "#f0f921"
             ]
            ],
            "type": "heatmapgl"
           }
          ],
          "histogram": [
           {
            "marker": {
             "pattern": {
              "fillmode": "overlay",
              "size": 10,
              "solidity": 0.2
             }
            },
            "type": "histogram"
           }
          ],
          "histogram2d": [
           {
            "colorbar": {
             "outlinewidth": 0,
             "ticks": ""
            },
            "colorscale": [
             [
              0,
              "#0d0887"
             ],
             [
              0.1111111111111111,
              "#46039f"
             ],
             [
              0.2222222222222222,
              "#7201a8"
             ],
             [
              0.3333333333333333,
              "#9c179e"
             ],
             [
              0.4444444444444444,
              "#bd3786"
             ],
             [
              0.5555555555555556,
              "#d8576b"
             ],
             [
              0.6666666666666666,
              "#ed7953"
             ],
             [
              0.7777777777777778,
              "#fb9f3a"
             ],
             [
              0.8888888888888888,
              "#fdca26"
             ],
             [
              1,
              "#f0f921"
             ]
            ],
            "type": "histogram2d"
           }
          ],
          "histogram2dcontour": [
           {
            "colorbar": {
             "outlinewidth": 0,
             "ticks": ""
            },
            "colorscale": [
             [
              0,
              "#0d0887"
             ],
             [
              0.1111111111111111,
              "#46039f"
             ],
             [
              0.2222222222222222,
              "#7201a8"
             ],
             [
              0.3333333333333333,
              "#9c179e"
             ],
             [
              0.4444444444444444,
              "#bd3786"
             ],
             [
              0.5555555555555556,
              "#d8576b"
             ],
             [
              0.6666666666666666,
              "#ed7953"
             ],
             [
              0.7777777777777778,
              "#fb9f3a"
             ],
             [
              0.8888888888888888,
              "#fdca26"
             ],
             [
              1,
              "#f0f921"
             ]
            ],
            "type": "histogram2dcontour"
           }
          ],
          "mesh3d": [
           {
            "colorbar": {
             "outlinewidth": 0,
             "ticks": ""
            },
            "type": "mesh3d"
           }
          ],
          "parcoords": [
           {
            "line": {
             "colorbar": {
              "outlinewidth": 0,
              "ticks": ""
             }
            },
            "type": "parcoords"
           }
          ],
          "pie": [
           {
            "automargin": true,
            "type": "pie"
           }
          ],
          "scatter": [
           {
            "fillpattern": {
             "fillmode": "overlay",
             "size": 10,
             "solidity": 0.2
            },
            "type": "scatter"
           }
          ],
          "scatter3d": [
           {
            "line": {
             "colorbar": {
              "outlinewidth": 0,
              "ticks": ""
             }
            },
            "marker": {
             "colorbar": {
              "outlinewidth": 0,
              "ticks": ""
             }
            },
            "type": "scatter3d"
           }
          ],
          "scattercarpet": [
           {
            "marker": {
             "colorbar": {
              "outlinewidth": 0,
              "ticks": ""
             }
            },
            "type": "scattercarpet"
           }
          ],
          "scattergeo": [
           {
            "marker": {
             "colorbar": {
              "outlinewidth": 0,
              "ticks": ""
             }
            },
            "type": "scattergeo"
           }
          ],
          "scattergl": [
           {
            "marker": {
             "colorbar": {
              "outlinewidth": 0,
              "ticks": ""
             }
            },
            "type": "scattergl"
           }
          ],
          "scattermapbox": [
           {
            "marker": {
             "colorbar": {
              "outlinewidth": 0,
              "ticks": ""
             }
            },
            "type": "scattermapbox"
           }
          ],
          "scatterpolar": [
           {
            "marker": {
             "colorbar": {
              "outlinewidth": 0,
              "ticks": ""
             }
            },
            "type": "scatterpolar"
           }
          ],
          "scatterpolargl": [
           {
            "marker": {
             "colorbar": {
              "outlinewidth": 0,
              "ticks": ""
             }
            },
            "type": "scatterpolargl"
           }
          ],
          "scatterternary": [
           {
            "marker": {
             "colorbar": {
              "outlinewidth": 0,
              "ticks": ""
             }
            },
            "type": "scatterternary"
           }
          ],
          "surface": [
           {
            "colorbar": {
             "outlinewidth": 0,
             "ticks": ""
            },
            "colorscale": [
             [
              0,
              "#0d0887"
             ],
             [
              0.1111111111111111,
              "#46039f"
             ],
             [
              0.2222222222222222,
              "#7201a8"
             ],
             [
              0.3333333333333333,
              "#9c179e"
             ],
             [
              0.4444444444444444,
              "#bd3786"
             ],
             [
              0.5555555555555556,
              "#d8576b"
             ],
             [
              0.6666666666666666,
              "#ed7953"
             ],
             [
              0.7777777777777778,
              "#fb9f3a"
             ],
             [
              0.8888888888888888,
              "#fdca26"
             ],
             [
              1,
              "#f0f921"
             ]
            ],
            "type": "surface"
           }
          ],
          "table": [
           {
            "cells": {
             "fill": {
              "color": "#EBF0F8"
             },
             "line": {
              "color": "white"
             }
            },
            "header": {
             "fill": {
              "color": "#C8D4E3"
             },
             "line": {
              "color": "white"
             }
            },
            "type": "table"
           }
          ]
         },
         "layout": {
          "annotationdefaults": {
           "arrowcolor": "#2a3f5f",
           "arrowhead": 0,
           "arrowwidth": 1
          },
          "autotypenumbers": "strict",
          "coloraxis": {
           "colorbar": {
            "outlinewidth": 0,
            "ticks": ""
           }
          },
          "colorscale": {
           "diverging": [
            [
             0,
             "#8e0152"
            ],
            [
             0.1,
             "#c51b7d"
            ],
            [
             0.2,
             "#de77ae"
            ],
            [
             0.3,
             "#f1b6da"
            ],
            [
             0.4,
             "#fde0ef"
            ],
            [
             0.5,
             "#f7f7f7"
            ],
            [
             0.6,
             "#e6f5d0"
            ],
            [
             0.7,
             "#b8e186"
            ],
            [
             0.8,
             "#7fbc41"
            ],
            [
             0.9,
             "#4d9221"
            ],
            [
             1,
             "#276419"
            ]
           ],
           "sequential": [
            [
             0,
             "#0d0887"
            ],
            [
             0.1111111111111111,
             "#46039f"
            ],
            [
             0.2222222222222222,
             "#7201a8"
            ],
            [
             0.3333333333333333,
             "#9c179e"
            ],
            [
             0.4444444444444444,
             "#bd3786"
            ],
            [
             0.5555555555555556,
             "#d8576b"
            ],
            [
             0.6666666666666666,
             "#ed7953"
            ],
            [
             0.7777777777777778,
             "#fb9f3a"
            ],
            [
             0.8888888888888888,
             "#fdca26"
            ],
            [
             1,
             "#f0f921"
            ]
           ],
           "sequentialminus": [
            [
             0,
             "#0d0887"
            ],
            [
             0.1111111111111111,
             "#46039f"
            ],
            [
             0.2222222222222222,
             "#7201a8"
            ],
            [
             0.3333333333333333,
             "#9c179e"
            ],
            [
             0.4444444444444444,
             "#bd3786"
            ],
            [
             0.5555555555555556,
             "#d8576b"
            ],
            [
             0.6666666666666666,
             "#ed7953"
            ],
            [
             0.7777777777777778,
             "#fb9f3a"
            ],
            [
             0.8888888888888888,
             "#fdca26"
            ],
            [
             1,
             "#f0f921"
            ]
           ]
          },
          "colorway": [
           "#636efa",
           "#EF553B",
           "#00cc96",
           "#ab63fa",
           "#FFA15A",
           "#19d3f3",
           "#FF6692",
           "#B6E880",
           "#FF97FF",
           "#FECB52"
          ],
          "font": {
           "color": "#2a3f5f"
          },
          "geo": {
           "bgcolor": "white",
           "lakecolor": "white",
           "landcolor": "#E5ECF6",
           "showlakes": true,
           "showland": true,
           "subunitcolor": "white"
          },
          "hoverlabel": {
           "align": "left"
          },
          "hovermode": "closest",
          "mapbox": {
           "style": "light"
          },
          "paper_bgcolor": "white",
          "plot_bgcolor": "#E5ECF6",
          "polar": {
           "angularaxis": {
            "gridcolor": "white",
            "linecolor": "white",
            "ticks": ""
           },
           "bgcolor": "#E5ECF6",
           "radialaxis": {
            "gridcolor": "white",
            "linecolor": "white",
            "ticks": ""
           }
          },
          "scene": {
           "xaxis": {
            "backgroundcolor": "#E5ECF6",
            "gridcolor": "white",
            "gridwidth": 2,
            "linecolor": "white",
            "showbackground": true,
            "ticks": "",
            "zerolinecolor": "white"
           },
           "yaxis": {
            "backgroundcolor": "#E5ECF6",
            "gridcolor": "white",
            "gridwidth": 2,
            "linecolor": "white",
            "showbackground": true,
            "ticks": "",
            "zerolinecolor": "white"
           },
           "zaxis": {
            "backgroundcolor": "#E5ECF6",
            "gridcolor": "white",
            "gridwidth": 2,
            "linecolor": "white",
            "showbackground": true,
            "ticks": "",
            "zerolinecolor": "white"
           }
          },
          "shapedefaults": {
           "line": {
            "color": "#2a3f5f"
           }
          },
          "ternary": {
           "aaxis": {
            "gridcolor": "white",
            "linecolor": "white",
            "ticks": ""
           },
           "baxis": {
            "gridcolor": "white",
            "linecolor": "white",
            "ticks": ""
           },
           "bgcolor": "#E5ECF6",
           "caxis": {
            "gridcolor": "white",
            "linecolor": "white",
            "ticks": ""
           }
          },
          "title": {
           "x": 0.05
          },
          "xaxis": {
           "automargin": true,
           "gridcolor": "white",
           "linecolor": "white",
           "ticks": "",
           "title": {
            "standoff": 15
           },
           "zerolinecolor": "white",
           "zerolinewidth": 2
          },
          "yaxis": {
           "automargin": true,
           "gridcolor": "white",
           "linecolor": "white",
           "ticks": "",
           "title": {
            "standoff": 15
           },
           "zerolinecolor": "white",
           "zerolinewidth": 2
          }
         }
        },
        "title": {
         "font": {
          "color": "#4D5663"
         }
        },
        "xaxis": {
         "gridcolor": "#E1E5ED",
         "showgrid": true,
         "tickfont": {
          "color": "#4D5663"
         },
         "title": {
          "font": {
           "color": "#4D5663"
          },
          "text": ""
         },
         "zerolinecolor": "#E1E5ED"
        },
        "yaxis": {
         "gridcolor": "#E1E5ED",
         "showgrid": true,
         "tickfont": {
          "color": "#4D5663"
         },
         "title": {
          "font": {
           "color": "#4D5663"
          },
          "text": ""
         },
         "zerolinecolor": "#E1E5ED"
        }
       }
      },
      "text/html": [
       "<div>                            <div id=\"899fce0e-d363-4b3b-bfe2-a2dae8598dbc\" class=\"plotly-graph-div\" style=\"height:525px; width:100%;\"></div>            <script type=\"text/javascript\">                require([\"plotly\"], function(Plotly) {                    window.PLOTLYENV=window.PLOTLYENV || {};\n",
       "                    window.PLOTLYENV.BASE_URL='https://plot.ly';                                    if (document.getElementById(\"899fce0e-d363-4b3b-bfe2-a2dae8598dbc\")) {                    Plotly.newPlot(                        \"899fce0e-d363-4b3b-bfe2-a2dae8598dbc\",                        [{\"marker\":{\"color\":\"rgba(255, 153, 51, 0.6)\",\"line\":{\"color\":\"rgba(255, 153, 51, 1.0)\",\"width\":1}},\"name\":\"values\",\"orientation\":\"v\",\"text\":\"\",\"x\":[\"A\",\"B\",\"C\"],\"y\":[32,43,50],\"type\":\"bar\"}],                        {\"legend\":{\"bgcolor\":\"#F5F6F9\",\"font\":{\"color\":\"#4D5663\"}},\"paper_bgcolor\":\"#F5F6F9\",\"plot_bgcolor\":\"#F5F6F9\",\"template\":{\"data\":{\"barpolar\":[{\"marker\":{\"line\":{\"color\":\"#E5ECF6\",\"width\":0.5},\"pattern\":{\"fillmode\":\"overlay\",\"size\":10,\"solidity\":0.2}},\"type\":\"barpolar\"}],\"bar\":[{\"error_x\":{\"color\":\"#2a3f5f\"},\"error_y\":{\"color\":\"#2a3f5f\"},\"marker\":{\"line\":{\"color\":\"#E5ECF6\",\"width\":0.5},\"pattern\":{\"fillmode\":\"overlay\",\"size\":10,\"solidity\":0.2}},\"type\":\"bar\"}],\"carpet\":[{\"aaxis\":{\"endlinecolor\":\"#2a3f5f\",\"gridcolor\":\"white\",\"linecolor\":\"white\",\"minorgridcolor\":\"white\",\"startlinecolor\":\"#2a3f5f\"},\"baxis\":{\"endlinecolor\":\"#2a3f5f\",\"gridcolor\":\"white\",\"linecolor\":\"white\",\"minorgridcolor\":\"white\",\"startlinecolor\":\"#2a3f5f\"},\"type\":\"carpet\"}],\"choropleth\":[{\"colorbar\":{\"outlinewidth\":0,\"ticks\":\"\"},\"type\":\"choropleth\"}],\"contourcarpet\":[{\"colorbar\":{\"outlinewidth\":0,\"ticks\":\"\"},\"type\":\"contourcarpet\"}],\"contour\":[{\"colorbar\":{\"outlinewidth\":0,\"ticks\":\"\"},\"colorscale\":[[0.0,\"#0d0887\"],[0.1111111111111111,\"#46039f\"],[0.2222222222222222,\"#7201a8\"],[0.3333333333333333,\"#9c179e\"],[0.4444444444444444,\"#bd3786\"],[0.5555555555555556,\"#d8576b\"],[0.6666666666666666,\"#ed7953\"],[0.7777777777777778,\"#fb9f3a\"],[0.8888888888888888,\"#fdca26\"],[1.0,\"#f0f921\"]],\"type\":\"contour\"}],\"heatmapgl\":[{\"colorbar\":{\"outlinewidth\":0,\"ticks\":\"\"},\"colorscale\":[[0.0,\"#0d0887\"],[0.1111111111111111,\"#46039f\"],[0.2222222222222222,\"#7201a8\"],[0.3333333333333333,\"#9c179e\"],[0.4444444444444444,\"#bd3786\"],[0.5555555555555556,\"#d8576b\"],[0.6666666666666666,\"#ed7953\"],[0.7777777777777778,\"#fb9f3a\"],[0.8888888888888888,\"#fdca26\"],[1.0,\"#f0f921\"]],\"type\":\"heatmapgl\"}],\"heatmap\":[{\"colorbar\":{\"outlinewidth\":0,\"ticks\":\"\"},\"colorscale\":[[0.0,\"#0d0887\"],[0.1111111111111111,\"#46039f\"],[0.2222222222222222,\"#7201a8\"],[0.3333333333333333,\"#9c179e\"],[0.4444444444444444,\"#bd3786\"],[0.5555555555555556,\"#d8576b\"],[0.6666666666666666,\"#ed7953\"],[0.7777777777777778,\"#fb9f3a\"],[0.8888888888888888,\"#fdca26\"],[1.0,\"#f0f921\"]],\"type\":\"heatmap\"}],\"histogram2dcontour\":[{\"colorbar\":{\"outlinewidth\":0,\"ticks\":\"\"},\"colorscale\":[[0.0,\"#0d0887\"],[0.1111111111111111,\"#46039f\"],[0.2222222222222222,\"#7201a8\"],[0.3333333333333333,\"#9c179e\"],[0.4444444444444444,\"#bd3786\"],[0.5555555555555556,\"#d8576b\"],[0.6666666666666666,\"#ed7953\"],[0.7777777777777778,\"#fb9f3a\"],[0.8888888888888888,\"#fdca26\"],[1.0,\"#f0f921\"]],\"type\":\"histogram2dcontour\"}],\"histogram2d\":[{\"colorbar\":{\"outlinewidth\":0,\"ticks\":\"\"},\"colorscale\":[[0.0,\"#0d0887\"],[0.1111111111111111,\"#46039f\"],[0.2222222222222222,\"#7201a8\"],[0.3333333333333333,\"#9c179e\"],[0.4444444444444444,\"#bd3786\"],[0.5555555555555556,\"#d8576b\"],[0.6666666666666666,\"#ed7953\"],[0.7777777777777778,\"#fb9f3a\"],[0.8888888888888888,\"#fdca26\"],[1.0,\"#f0f921\"]],\"type\":\"histogram2d\"}],\"histogram\":[{\"marker\":{\"pattern\":{\"fillmode\":\"overlay\",\"size\":10,\"solidity\":0.2}},\"type\":\"histogram\"}],\"mesh3d\":[{\"colorbar\":{\"outlinewidth\":0,\"ticks\":\"\"},\"type\":\"mesh3d\"}],\"parcoords\":[{\"line\":{\"colorbar\":{\"outlinewidth\":0,\"ticks\":\"\"}},\"type\":\"parcoords\"}],\"pie\":[{\"automargin\":true,\"type\":\"pie\"}],\"scatter3d\":[{\"line\":{\"colorbar\":{\"outlinewidth\":0,\"ticks\":\"\"}},\"marker\":{\"colorbar\":{\"outlinewidth\":0,\"ticks\":\"\"}},\"type\":\"scatter3d\"}],\"scattercarpet\":[{\"marker\":{\"colorbar\":{\"outlinewidth\":0,\"ticks\":\"\"}},\"type\":\"scattercarpet\"}],\"scattergeo\":[{\"marker\":{\"colorbar\":{\"outlinewidth\":0,\"ticks\":\"\"}},\"type\":\"scattergeo\"}],\"scattergl\":[{\"marker\":{\"colorbar\":{\"outlinewidth\":0,\"ticks\":\"\"}},\"type\":\"scattergl\"}],\"scattermapbox\":[{\"marker\":{\"colorbar\":{\"outlinewidth\":0,\"ticks\":\"\"}},\"type\":\"scattermapbox\"}],\"scatterpolargl\":[{\"marker\":{\"colorbar\":{\"outlinewidth\":0,\"ticks\":\"\"}},\"type\":\"scatterpolargl\"}],\"scatterpolar\":[{\"marker\":{\"colorbar\":{\"outlinewidth\":0,\"ticks\":\"\"}},\"type\":\"scatterpolar\"}],\"scatter\":[{\"fillpattern\":{\"fillmode\":\"overlay\",\"size\":10,\"solidity\":0.2},\"type\":\"scatter\"}],\"scatterternary\":[{\"marker\":{\"colorbar\":{\"outlinewidth\":0,\"ticks\":\"\"}},\"type\":\"scatterternary\"}],\"surface\":[{\"colorbar\":{\"outlinewidth\":0,\"ticks\":\"\"},\"colorscale\":[[0.0,\"#0d0887\"],[0.1111111111111111,\"#46039f\"],[0.2222222222222222,\"#7201a8\"],[0.3333333333333333,\"#9c179e\"],[0.4444444444444444,\"#bd3786\"],[0.5555555555555556,\"#d8576b\"],[0.6666666666666666,\"#ed7953\"],[0.7777777777777778,\"#fb9f3a\"],[0.8888888888888888,\"#fdca26\"],[1.0,\"#f0f921\"]],\"type\":\"surface\"}],\"table\":[{\"cells\":{\"fill\":{\"color\":\"#EBF0F8\"},\"line\":{\"color\":\"white\"}},\"header\":{\"fill\":{\"color\":\"#C8D4E3\"},\"line\":{\"color\":\"white\"}},\"type\":\"table\"}]},\"layout\":{\"annotationdefaults\":{\"arrowcolor\":\"#2a3f5f\",\"arrowhead\":0,\"arrowwidth\":1},\"autotypenumbers\":\"strict\",\"coloraxis\":{\"colorbar\":{\"outlinewidth\":0,\"ticks\":\"\"}},\"colorscale\":{\"diverging\":[[0,\"#8e0152\"],[0.1,\"#c51b7d\"],[0.2,\"#de77ae\"],[0.3,\"#f1b6da\"],[0.4,\"#fde0ef\"],[0.5,\"#f7f7f7\"],[0.6,\"#e6f5d0\"],[0.7,\"#b8e186\"],[0.8,\"#7fbc41\"],[0.9,\"#4d9221\"],[1,\"#276419\"]],\"sequential\":[[0.0,\"#0d0887\"],[0.1111111111111111,\"#46039f\"],[0.2222222222222222,\"#7201a8\"],[0.3333333333333333,\"#9c179e\"],[0.4444444444444444,\"#bd3786\"],[0.5555555555555556,\"#d8576b\"],[0.6666666666666666,\"#ed7953\"],[0.7777777777777778,\"#fb9f3a\"],[0.8888888888888888,\"#fdca26\"],[1.0,\"#f0f921\"]],\"sequentialminus\":[[0.0,\"#0d0887\"],[0.1111111111111111,\"#46039f\"],[0.2222222222222222,\"#7201a8\"],[0.3333333333333333,\"#9c179e\"],[0.4444444444444444,\"#bd3786\"],[0.5555555555555556,\"#d8576b\"],[0.6666666666666666,\"#ed7953\"],[0.7777777777777778,\"#fb9f3a\"],[0.8888888888888888,\"#fdca26\"],[1.0,\"#f0f921\"]]},\"colorway\":[\"#636efa\",\"#EF553B\",\"#00cc96\",\"#ab63fa\",\"#FFA15A\",\"#19d3f3\",\"#FF6692\",\"#B6E880\",\"#FF97FF\",\"#FECB52\"],\"font\":{\"color\":\"#2a3f5f\"},\"geo\":{\"bgcolor\":\"white\",\"lakecolor\":\"white\",\"landcolor\":\"#E5ECF6\",\"showlakes\":true,\"showland\":true,\"subunitcolor\":\"white\"},\"hoverlabel\":{\"align\":\"left\"},\"hovermode\":\"closest\",\"mapbox\":{\"style\":\"light\"},\"paper_bgcolor\":\"white\",\"plot_bgcolor\":\"#E5ECF6\",\"polar\":{\"angularaxis\":{\"gridcolor\":\"white\",\"linecolor\":\"white\",\"ticks\":\"\"},\"bgcolor\":\"#E5ECF6\",\"radialaxis\":{\"gridcolor\":\"white\",\"linecolor\":\"white\",\"ticks\":\"\"}},\"scene\":{\"xaxis\":{\"backgroundcolor\":\"#E5ECF6\",\"gridcolor\":\"white\",\"gridwidth\":2,\"linecolor\":\"white\",\"showbackground\":true,\"ticks\":\"\",\"zerolinecolor\":\"white\"},\"yaxis\":{\"backgroundcolor\":\"#E5ECF6\",\"gridcolor\":\"white\",\"gridwidth\":2,\"linecolor\":\"white\",\"showbackground\":true,\"ticks\":\"\",\"zerolinecolor\":\"white\"},\"zaxis\":{\"backgroundcolor\":\"#E5ECF6\",\"gridcolor\":\"white\",\"gridwidth\":2,\"linecolor\":\"white\",\"showbackground\":true,\"ticks\":\"\",\"zerolinecolor\":\"white\"}},\"shapedefaults\":{\"line\":{\"color\":\"#2a3f5f\"}},\"ternary\":{\"aaxis\":{\"gridcolor\":\"white\",\"linecolor\":\"white\",\"ticks\":\"\"},\"baxis\":{\"gridcolor\":\"white\",\"linecolor\":\"white\",\"ticks\":\"\"},\"bgcolor\":\"#E5ECF6\",\"caxis\":{\"gridcolor\":\"white\",\"linecolor\":\"white\",\"ticks\":\"\"}},\"title\":{\"x\":0.05},\"xaxis\":{\"automargin\":true,\"gridcolor\":\"white\",\"linecolor\":\"white\",\"ticks\":\"\",\"title\":{\"standoff\":15},\"zerolinecolor\":\"white\",\"zerolinewidth\":2},\"yaxis\":{\"automargin\":true,\"gridcolor\":\"white\",\"linecolor\":\"white\",\"ticks\":\"\",\"title\":{\"standoff\":15},\"zerolinecolor\":\"white\",\"zerolinewidth\":2}}},\"title\":{\"font\":{\"color\":\"#4D5663\"}},\"xaxis\":{\"gridcolor\":\"#E1E5ED\",\"showgrid\":true,\"tickfont\":{\"color\":\"#4D5663\"},\"title\":{\"font\":{\"color\":\"#4D5663\"},\"text\":\"\"},\"zerolinecolor\":\"#E1E5ED\"},\"yaxis\":{\"gridcolor\":\"#E1E5ED\",\"showgrid\":true,\"tickfont\":{\"color\":\"#4D5663\"},\"title\":{\"font\":{\"color\":\"#4D5663\"},\"text\":\"\"},\"zerolinecolor\":\"#E1E5ED\"}},                        {\"showLink\": true, \"linkText\": \"Export to plot.ly\", \"plotlyServerURL\": \"https://plot.ly\", \"responsive\": true}                    ).then(function(){\n",
       "                            \n",
       "var gd = document.getElementById('899fce0e-d363-4b3b-bfe2-a2dae8598dbc');\n",
       "var x = new MutationObserver(function (mutations, observer) {{\n",
       "        var display = window.getComputedStyle(gd).display;\n",
       "        if (!display || display === 'none') {{\n",
       "            console.log([gd, 'removed!']);\n",
       "            Plotly.purge(gd);\n",
       "            observer.disconnect();\n",
       "        }}\n",
       "}});\n",
       "\n",
       "// Listen for the removal of the full notebook cells\n",
       "var notebookContainer = gd.closest('#notebook-container');\n",
       "if (notebookContainer) {{\n",
       "    x.observe(notebookContainer, {childList: true});\n",
       "}}\n",
       "\n",
       "// Listen for the clearing of the current output cell\n",
       "var outputEl = gd.closest('.output');\n",
       "if (outputEl) {{\n",
       "    x.observe(outputEl, {childList: true});\n",
       "}}\n",
       "\n",
       "                        })                };                });            </script>        </div>"
      ]
     },
     "metadata": {},
     "output_type": "display_data"
    }
   ],
   "source": [
    "df2.iplot(kind='bar', x='Categories', y='values')"
   ]
  },
  {
   "cell_type": "code",
   "execution_count": 13,
   "metadata": {},
   "outputs": [
    {
     "data": {
      "application/vnd.plotly.v1+json": {
       "config": {
        "linkText": "Export to plot.ly",
        "plotlyServerURL": "https://plot.ly",
        "showLink": true
       },
       "data": [
        {
         "boxpoints": false,
         "line": {
          "width": 1.3
         },
         "marker": {
          "color": "rgba(255, 153, 51, 1.0)"
         },
         "name": "A",
         "orientation": "v",
         "type": "box",
         "y": [
          -0.27164247126346136,
          -1.3257070606440196,
          0.09509138803241492,
          0.5677789260155507,
          -1.7702004827781839,
          0.8192901452031851,
          0.42843016749584817,
          0.48891810080098663,
          -0.13885574098913533,
          -1.6637758910766713,
          -0.687383321981337,
          0.9406647337380462,
          -0.690819839092722,
          1.2806354120967807,
          0.19519500649436486,
          -0.9617059095864561,
          -0.34082321440792496,
          0.40501808153456115,
          1.0256932200321933,
          0.19792777139922432,
          0.4473417964638847,
          -0.746357600971722,
          -0.7463331494444009,
          1.8614426561055353,
          -1.1921824686638272,
          0.33702637966918264,
          -0.019990132981849144,
          -1.0365459781316264,
          -0.9182930313854358,
          1.0514506561892487,
          1.4231033015561043,
          0.9388329560106634,
          -0.6005788533325781,
          -1.5577073542570385,
          0.7729435472995098,
          -0.7886108148794514,
          0.8276169458706734,
          -0.5887982618967834,
          0.6079822371177137,
          1.1815201552359502,
          -0.46765292959066734,
          -1.1747756877337578,
          0.12539506832767486,
          0.8444236630050397,
          0.4837479545939307,
          0.2626615850571374,
          0.25609179616383837,
          -0.34482586724742925,
          -1.0629525341853008,
          0.38530331033560733,
          1.6652564840701058,
          1.017710453432222,
          1.739805462678277,
          0.977218254223707,
          -0.11349498759333462,
          1.9125139328999086,
          -0.07919689362884139,
          0.19237236508550656,
          -1.218178626743223,
          1.5252495234723242,
          0.42515169637007116,
          -0.6917277873885234,
          -1.0914735632955341,
          0.1479495579758345,
          -0.769384799107449,
          -0.959114317069405,
          -0.11512199650222511,
          0.06717010137838174,
          -0.8100531665464591,
          0.7495654025364011,
          0.17261362176212222,
          -1.6122353899625055,
          2.0636152291749204,
          1.3542937788460374,
          0.3971750773103758,
          -1.6066263804550474,
          -0.847567402742816,
          2.2645832278875084,
          -0.04304356003073988,
          -1.3965861940480482,
          1.3607133938541376,
          -2.033089150596266,
          0.4936571407278187,
          -1.2255787715598412,
          -0.48127741316601513,
          3.05599930065596,
          -0.26528530741592665,
          -0.5031144218517964,
          2.0169311706777338,
          0.6137848243893546,
          0.5652221897804888,
          -0.7608485125554416,
          0.15896495846476275,
          -1.1521496906994413,
          -1.303672140570186,
          -0.5163893488317101,
          0.5326431891049507,
          -0.23498564823224072,
          -0.0075292175095747725,
          1.1807221464818747
         ]
        },
        {
         "boxpoints": false,
         "line": {
          "width": 1.3
         },
         "marker": {
          "color": "rgba(55, 128, 191, 1.0)"
         },
         "name": "B",
         "orientation": "v",
         "type": "box",
         "y": [
          -0.5606845687001836,
          1.6792241184825982,
          -0.08661661904826148,
          0.3898727869993485,
          0.01484572176819306,
          1.2923784950415658,
          -0.7547121807613962,
          -0.17924041096584103,
          -2.079556271100031,
          1.3741475772876197,
          -0.7265727387037649,
          0.07795556662307522,
          -1.6984034926570812,
          0.9514332912763463,
          0.9208568312409571,
          0.8721149896398802,
          -1.2006034959932614,
          0.9698322836075526,
          -1.7348279414407843,
          -0.18045584815021679,
          -0.15534958173210708,
          0.5778707279835965,
          -0.31094304485398533,
          -0.22119039196159165,
          1.3577782715590458,
          0.5976119660885164,
          -0.33861814766618836,
          0.009153919545416113,
          -0.905349622590771,
          0.797128717357109,
          0.36614038340714694,
          -1.5116109210853086,
          0.36233320503932614,
          -1.286401592931063,
          0.8197727302603469,
          1.110110135760402,
          0.316814577082492,
          0.8162624495735802,
          1.3508787939093665,
          0.9370194953434611,
          1.748037798224933,
          0.5260329111423281,
          0.5837856131293094,
          1.627503056742485,
          0.7597512835732089,
          0.1195243454589661,
          1.1031778871431137,
          0.0732232025003497,
          -0.4392083678404856,
          -2.0005261017160803,
          0.15086645476505978,
          0.7707078145347047,
          0.39845934776015907,
          0.60503610907641,
          -0.5676790205343145,
          -0.08728334160333123,
          -0.6736473541810989,
          1.3469654155549382,
          -0.52895187800803,
          -0.7715416124924191,
          0.32992146618986257,
          -0.20511451718899026,
          0.8823370549505434,
          -1.6350359682122242,
          0.1998129876390042,
          -1.1175159253196678,
          -2.2548754117108527,
          0.3841331487228912,
          -0.5647053958800019,
          1.4138362030889675,
          -0.7336674767371699,
          -0.0994770805480279,
          1.4129817421869901,
          1.3279684648445662,
          -0.3426837583140145,
          0.7427901223026995,
          0.9562542554682181,
          1.662527972510784,
          1.654208700671479,
          1.6277836234752037,
          0.2622646773981404,
          1.1110417788709064,
          -1.0758423905400494,
          0.5866561856112027,
          -0.3632825296055402,
          -0.5092436817558994,
          0.9829762441659161,
          -0.9039318124721808,
          -0.8761259788070621,
          1.282766952219753,
          -1.2659129574243786,
          1.1388669103882356,
          0.031596317962045775,
          -1.0028678826990054,
          -0.203214798443493,
          -2.0704178554216046,
          -0.6120462001187992,
          -1.6908135230507628,
          0.3945926141835523,
          -0.8402938448734616
         ]
        },
        {
         "boxpoints": false,
         "line": {
          "width": 1.3
         },
         "marker": {
          "color": "rgba(50, 171, 96, 1.0)"
         },
         "name": "C",
         "orientation": "v",
         "type": "box",
         "y": [
          -0.17510076833451887,
          1.0288698240177145,
          0.7294187475382269,
          -0.5578856629282004,
          -1.4427561070736776,
          0.4388161783702774,
          0.060563737566764815,
          1.1228360547515748,
          -1.1147708162876648,
          -1.2752660154204478,
          -1.7312113286523432,
          -0.82533168192219,
          0.8658741797078373,
          -0.41427836454014716,
          -0.9098894454547914,
          -1.800204706789089,
          0.6682338915047351,
          -0.20987374484294746,
          0.19598899319836607,
          -0.7669541641335651,
          0.4124924143896091,
          -1.8397233779403428,
          -2.4530517139415355,
          0.4424743832683385,
          -1.1279100199509753,
          0.8273645699863521,
          0.7060451811025258,
          -0.34841335926422856,
          -0.8179883446544839,
          -1.1938551743761843,
          0.23965205889367786,
          -0.003371851161309269,
          -0.3848283690882053,
          -0.3660579064690124,
          0.18789785147708796,
          1.6631657931534722,
          1.7407484140501224,
          1.4565488819779684,
          -0.6232723514435085,
          0.8486940617122866,
          -1.2524232797957384,
          1.0025461725315055,
          -1.6900742257435932,
          2.5965882936507287,
          0.8974446875412032,
          0.6409236834519745,
          -0.3004172819682092,
          -0.7308341507657704,
          -0.8473571913525139,
          0.18229635624312268,
          -1.4372588244194673,
          0.39970158575841475,
          1.4516847984516328,
          1.0026818566565996,
          1.6145013116745843,
          0.3370738959446078,
          0.9423240780645039,
          -0.6481922359095227,
          1.088239694258309,
          0.2757922834178292,
          0.05599297866846583,
          -0.5538316369091456,
          0.5839356030798746,
          3.77788003076131,
          -0.2814142162387364,
          -1.396739653898618,
          1.098733557716189,
          0.3481299362914519,
          0.5719545584678998,
          -1.1917432377063344,
          0.5562025971593422,
          0.2687526601731444,
          -0.6579484009003517,
          -0.2893864693705524,
          0.7529664222734219,
          0.5599036596190918,
          0.6972960000357077,
          -0.3165006408518295,
          0.12506772611635675,
          -0.1547960377329048,
          -0.19802705425048947,
          -1.7878921210147751,
          -0.7252978787352365,
          0.9169166661120889,
          -0.18418265183374585,
          0.9980844798991737,
          0.21372777438456053,
          0.1625712531452284,
          0.40518165848931825,
          -0.4024378051833785,
          0.034134439117629076,
          0.3801876036723134,
          -1.574634729531062,
          -1.279225040981382,
          1.9560622718390517,
          1.1699990486795044,
          -0.5492666922188294,
          -0.46782061675087566,
          -0.4457203824349354,
          -0.4973139229416746
         ]
        },
        {
         "boxpoints": false,
         "line": {
          "width": 1.3
         },
         "marker": {
          "color": "rgba(128, 0, 128, 1.0)"
         },
         "name": "D",
         "orientation": "v",
         "type": "box",
         "y": [
          0.028993705037304567,
          -0.6716875531197293,
          0.8334435896917214,
          -1.9716771967264062,
          1.50532385374814,
          0.14956974745594662,
          -0.06939513333845235,
          -0.2815157688175154,
          0.38684784925404336,
          0.14381043854226855,
          1.4876554131996642,
          -0.7370660801991634,
          1.5404097323754171,
          0.2040380802866936,
          0.14168081298982785,
          -0.8250878115833602,
          -1.7320260569405233,
          0.6359832967253354,
          -0.4695872751400371,
          -0.2673988678442753,
          -0.9881864665743314,
          1.5061033230127938,
          0.10598331717029001,
          0.10931223800100075,
          0.7694644275917429,
          0.5182483641705755,
          -0.3071935056280965,
          -0.4665082690544789,
          0.9447249121081155,
          2.0425295696010743,
          -0.43698105003454357,
          -0.907598909077158,
          0.29462902502362,
          0.10190992720602601,
          -0.8174929595408008,
          -0.18001152313077143,
          0.15566515500727343,
          0.13196150538499757,
          -1.0575979330248275,
          -0.2625832388597864,
          -0.24847941451559766,
          2.1485331533935943,
          -0.08717358871212114,
          -0.30940859490619027,
          -2.0046227174032225,
          1.5083427558825817,
          -1.5139213190088612,
          0.01563324569264091,
          0.8616742568840906,
          -0.8525617560577919,
          -1.4248262474160276,
          -0.3605394147608612,
          0.37716297286280276,
          0.6258658201541683,
          0.2569647630992787,
          -1.6369203499044183,
          0.7871465171480043,
          0.7355463996487434,
          0.48596059901344485,
          1.252482630695332,
          0.4369197688828738,
          -0.11016987718728498,
          -1.2248590164464839,
          -0.37699173885758686,
          0.013267497344670701,
          -0.8385954164259339,
          -1.333902638527453,
          -1.0835532755477346,
          1.5605143000742498,
          -0.4152456441491844,
          0.5942036262360473,
          0.5434734806548989,
          -1.0542816433101314,
          0.9865682135617165,
          -1.8060658371376346,
          -0.04991907939054093,
          -0.14854389029313436,
          -0.5375389631592972,
          0.4245378412844418,
          0.3468493151487389,
          0.23489491445703792,
          0.24001963017549055,
          -1.7849754803006823,
          -0.029436562746093183,
          1.261992804620589,
          0.6149667944501315,
          -0.23557799300923188,
          0.6309302264213924,
          0.49159285635577266,
          -0.8530324387313918,
          -0.8386954461087648,
          0.17224056036045315,
          0.8512415447812286,
          0.2539718936206673,
          -1.8082627145838914,
          1.0134201851014084,
          -1.400878111327254,
          -0.5350870859857267,
          -0.7669223496683658,
          1.097042962574408
         ]
        }
       ],
       "layout": {
        "legend": {
         "bgcolor": "#F5F6F9",
         "font": {
          "color": "#4D5663"
         }
        },
        "paper_bgcolor": "#F5F6F9",
        "plot_bgcolor": "#F5F6F9",
        "template": {
         "data": {
          "bar": [
           {
            "error_x": {
             "color": "#2a3f5f"
            },
            "error_y": {
             "color": "#2a3f5f"
            },
            "marker": {
             "line": {
              "color": "#E5ECF6",
              "width": 0.5
             },
             "pattern": {
              "fillmode": "overlay",
              "size": 10,
              "solidity": 0.2
             }
            },
            "type": "bar"
           }
          ],
          "barpolar": [
           {
            "marker": {
             "line": {
              "color": "#E5ECF6",
              "width": 0.5
             },
             "pattern": {
              "fillmode": "overlay",
              "size": 10,
              "solidity": 0.2
             }
            },
            "type": "barpolar"
           }
          ],
          "carpet": [
           {
            "aaxis": {
             "endlinecolor": "#2a3f5f",
             "gridcolor": "white",
             "linecolor": "white",
             "minorgridcolor": "white",
             "startlinecolor": "#2a3f5f"
            },
            "baxis": {
             "endlinecolor": "#2a3f5f",
             "gridcolor": "white",
             "linecolor": "white",
             "minorgridcolor": "white",
             "startlinecolor": "#2a3f5f"
            },
            "type": "carpet"
           }
          ],
          "choropleth": [
           {
            "colorbar": {
             "outlinewidth": 0,
             "ticks": ""
            },
            "type": "choropleth"
           }
          ],
          "contour": [
           {
            "colorbar": {
             "outlinewidth": 0,
             "ticks": ""
            },
            "colorscale": [
             [
              0,
              "#0d0887"
             ],
             [
              0.1111111111111111,
              "#46039f"
             ],
             [
              0.2222222222222222,
              "#7201a8"
             ],
             [
              0.3333333333333333,
              "#9c179e"
             ],
             [
              0.4444444444444444,
              "#bd3786"
             ],
             [
              0.5555555555555556,
              "#d8576b"
             ],
             [
              0.6666666666666666,
              "#ed7953"
             ],
             [
              0.7777777777777778,
              "#fb9f3a"
             ],
             [
              0.8888888888888888,
              "#fdca26"
             ],
             [
              1,
              "#f0f921"
             ]
            ],
            "type": "contour"
           }
          ],
          "contourcarpet": [
           {
            "colorbar": {
             "outlinewidth": 0,
             "ticks": ""
            },
            "type": "contourcarpet"
           }
          ],
          "heatmap": [
           {
            "colorbar": {
             "outlinewidth": 0,
             "ticks": ""
            },
            "colorscale": [
             [
              0,
              "#0d0887"
             ],
             [
              0.1111111111111111,
              "#46039f"
             ],
             [
              0.2222222222222222,
              "#7201a8"
             ],
             [
              0.3333333333333333,
              "#9c179e"
             ],
             [
              0.4444444444444444,
              "#bd3786"
             ],
             [
              0.5555555555555556,
              "#d8576b"
             ],
             [
              0.6666666666666666,
              "#ed7953"
             ],
             [
              0.7777777777777778,
              "#fb9f3a"
             ],
             [
              0.8888888888888888,
              "#fdca26"
             ],
             [
              1,
              "#f0f921"
             ]
            ],
            "type": "heatmap"
           }
          ],
          "heatmapgl": [
           {
            "colorbar": {
             "outlinewidth": 0,
             "ticks": ""
            },
            "colorscale": [
             [
              0,
              "#0d0887"
             ],
             [
              0.1111111111111111,
              "#46039f"
             ],
             [
              0.2222222222222222,
              "#7201a8"
             ],
             [
              0.3333333333333333,
              "#9c179e"
             ],
             [
              0.4444444444444444,
              "#bd3786"
             ],
             [
              0.5555555555555556,
              "#d8576b"
             ],
             [
              0.6666666666666666,
              "#ed7953"
             ],
             [
              0.7777777777777778,
              "#fb9f3a"
             ],
             [
              0.8888888888888888,
              "#fdca26"
             ],
             [
              1,
              "#f0f921"
             ]
            ],
            "type": "heatmapgl"
           }
          ],
          "histogram": [
           {
            "marker": {
             "pattern": {
              "fillmode": "overlay",
              "size": 10,
              "solidity": 0.2
             }
            },
            "type": "histogram"
           }
          ],
          "histogram2d": [
           {
            "colorbar": {
             "outlinewidth": 0,
             "ticks": ""
            },
            "colorscale": [
             [
              0,
              "#0d0887"
             ],
             [
              0.1111111111111111,
              "#46039f"
             ],
             [
              0.2222222222222222,
              "#7201a8"
             ],
             [
              0.3333333333333333,
              "#9c179e"
             ],
             [
              0.4444444444444444,
              "#bd3786"
             ],
             [
              0.5555555555555556,
              "#d8576b"
             ],
             [
              0.6666666666666666,
              "#ed7953"
             ],
             [
              0.7777777777777778,
              "#fb9f3a"
             ],
             [
              0.8888888888888888,
              "#fdca26"
             ],
             [
              1,
              "#f0f921"
             ]
            ],
            "type": "histogram2d"
           }
          ],
          "histogram2dcontour": [
           {
            "colorbar": {
             "outlinewidth": 0,
             "ticks": ""
            },
            "colorscale": [
             [
              0,
              "#0d0887"
             ],
             [
              0.1111111111111111,
              "#46039f"
             ],
             [
              0.2222222222222222,
              "#7201a8"
             ],
             [
              0.3333333333333333,
              "#9c179e"
             ],
             [
              0.4444444444444444,
              "#bd3786"
             ],
             [
              0.5555555555555556,
              "#d8576b"
             ],
             [
              0.6666666666666666,
              "#ed7953"
             ],
             [
              0.7777777777777778,
              "#fb9f3a"
             ],
             [
              0.8888888888888888,
              "#fdca26"
             ],
             [
              1,
              "#f0f921"
             ]
            ],
            "type": "histogram2dcontour"
           }
          ],
          "mesh3d": [
           {
            "colorbar": {
             "outlinewidth": 0,
             "ticks": ""
            },
            "type": "mesh3d"
           }
          ],
          "parcoords": [
           {
            "line": {
             "colorbar": {
              "outlinewidth": 0,
              "ticks": ""
             }
            },
            "type": "parcoords"
           }
          ],
          "pie": [
           {
            "automargin": true,
            "type": "pie"
           }
          ],
          "scatter": [
           {
            "fillpattern": {
             "fillmode": "overlay",
             "size": 10,
             "solidity": 0.2
            },
            "type": "scatter"
           }
          ],
          "scatter3d": [
           {
            "line": {
             "colorbar": {
              "outlinewidth": 0,
              "ticks": ""
             }
            },
            "marker": {
             "colorbar": {
              "outlinewidth": 0,
              "ticks": ""
             }
            },
            "type": "scatter3d"
           }
          ],
          "scattercarpet": [
           {
            "marker": {
             "colorbar": {
              "outlinewidth": 0,
              "ticks": ""
             }
            },
            "type": "scattercarpet"
           }
          ],
          "scattergeo": [
           {
            "marker": {
             "colorbar": {
              "outlinewidth": 0,
              "ticks": ""
             }
            },
            "type": "scattergeo"
           }
          ],
          "scattergl": [
           {
            "marker": {
             "colorbar": {
              "outlinewidth": 0,
              "ticks": ""
             }
            },
            "type": "scattergl"
           }
          ],
          "scattermapbox": [
           {
            "marker": {
             "colorbar": {
              "outlinewidth": 0,
              "ticks": ""
             }
            },
            "type": "scattermapbox"
           }
          ],
          "scatterpolar": [
           {
            "marker": {
             "colorbar": {
              "outlinewidth": 0,
              "ticks": ""
             }
            },
            "type": "scatterpolar"
           }
          ],
          "scatterpolargl": [
           {
            "marker": {
             "colorbar": {
              "outlinewidth": 0,
              "ticks": ""
             }
            },
            "type": "scatterpolargl"
           }
          ],
          "scatterternary": [
           {
            "marker": {
             "colorbar": {
              "outlinewidth": 0,
              "ticks": ""
             }
            },
            "type": "scatterternary"
           }
          ],
          "surface": [
           {
            "colorbar": {
             "outlinewidth": 0,
             "ticks": ""
            },
            "colorscale": [
             [
              0,
              "#0d0887"
             ],
             [
              0.1111111111111111,
              "#46039f"
             ],
             [
              0.2222222222222222,
              "#7201a8"
             ],
             [
              0.3333333333333333,
              "#9c179e"
             ],
             [
              0.4444444444444444,
              "#bd3786"
             ],
             [
              0.5555555555555556,
              "#d8576b"
             ],
             [
              0.6666666666666666,
              "#ed7953"
             ],
             [
              0.7777777777777778,
              "#fb9f3a"
             ],
             [
              0.8888888888888888,
              "#fdca26"
             ],
             [
              1,
              "#f0f921"
             ]
            ],
            "type": "surface"
           }
          ],
          "table": [
           {
            "cells": {
             "fill": {
              "color": "#EBF0F8"
             },
             "line": {
              "color": "white"
             }
            },
            "header": {
             "fill": {
              "color": "#C8D4E3"
             },
             "line": {
              "color": "white"
             }
            },
            "type": "table"
           }
          ]
         },
         "layout": {
          "annotationdefaults": {
           "arrowcolor": "#2a3f5f",
           "arrowhead": 0,
           "arrowwidth": 1
          },
          "autotypenumbers": "strict",
          "coloraxis": {
           "colorbar": {
            "outlinewidth": 0,
            "ticks": ""
           }
          },
          "colorscale": {
           "diverging": [
            [
             0,
             "#8e0152"
            ],
            [
             0.1,
             "#c51b7d"
            ],
            [
             0.2,
             "#de77ae"
            ],
            [
             0.3,
             "#f1b6da"
            ],
            [
             0.4,
             "#fde0ef"
            ],
            [
             0.5,
             "#f7f7f7"
            ],
            [
             0.6,
             "#e6f5d0"
            ],
            [
             0.7,
             "#b8e186"
            ],
            [
             0.8,
             "#7fbc41"
            ],
            [
             0.9,
             "#4d9221"
            ],
            [
             1,
             "#276419"
            ]
           ],
           "sequential": [
            [
             0,
             "#0d0887"
            ],
            [
             0.1111111111111111,
             "#46039f"
            ],
            [
             0.2222222222222222,
             "#7201a8"
            ],
            [
             0.3333333333333333,
             "#9c179e"
            ],
            [
             0.4444444444444444,
             "#bd3786"
            ],
            [
             0.5555555555555556,
             "#d8576b"
            ],
            [
             0.6666666666666666,
             "#ed7953"
            ],
            [
             0.7777777777777778,
             "#fb9f3a"
            ],
            [
             0.8888888888888888,
             "#fdca26"
            ],
            [
             1,
             "#f0f921"
            ]
           ],
           "sequentialminus": [
            [
             0,
             "#0d0887"
            ],
            [
             0.1111111111111111,
             "#46039f"
            ],
            [
             0.2222222222222222,
             "#7201a8"
            ],
            [
             0.3333333333333333,
             "#9c179e"
            ],
            [
             0.4444444444444444,
             "#bd3786"
            ],
            [
             0.5555555555555556,
             "#d8576b"
            ],
            [
             0.6666666666666666,
             "#ed7953"
            ],
            [
             0.7777777777777778,
             "#fb9f3a"
            ],
            [
             0.8888888888888888,
             "#fdca26"
            ],
            [
             1,
             "#f0f921"
            ]
           ]
          },
          "colorway": [
           "#636efa",
           "#EF553B",
           "#00cc96",
           "#ab63fa",
           "#FFA15A",
           "#19d3f3",
           "#FF6692",
           "#B6E880",
           "#FF97FF",
           "#FECB52"
          ],
          "font": {
           "color": "#2a3f5f"
          },
          "geo": {
           "bgcolor": "white",
           "lakecolor": "white",
           "landcolor": "#E5ECF6",
           "showlakes": true,
           "showland": true,
           "subunitcolor": "white"
          },
          "hoverlabel": {
           "align": "left"
          },
          "hovermode": "closest",
          "mapbox": {
           "style": "light"
          },
          "paper_bgcolor": "white",
          "plot_bgcolor": "#E5ECF6",
          "polar": {
           "angularaxis": {
            "gridcolor": "white",
            "linecolor": "white",
            "ticks": ""
           },
           "bgcolor": "#E5ECF6",
           "radialaxis": {
            "gridcolor": "white",
            "linecolor": "white",
            "ticks": ""
           }
          },
          "scene": {
           "xaxis": {
            "backgroundcolor": "#E5ECF6",
            "gridcolor": "white",
            "gridwidth": 2,
            "linecolor": "white",
            "showbackground": true,
            "ticks": "",
            "zerolinecolor": "white"
           },
           "yaxis": {
            "backgroundcolor": "#E5ECF6",
            "gridcolor": "white",
            "gridwidth": 2,
            "linecolor": "white",
            "showbackground": true,
            "ticks": "",
            "zerolinecolor": "white"
           },
           "zaxis": {
            "backgroundcolor": "#E5ECF6",
            "gridcolor": "white",
            "gridwidth": 2,
            "linecolor": "white",
            "showbackground": true,
            "ticks": "",
            "zerolinecolor": "white"
           }
          },
          "shapedefaults": {
           "line": {
            "color": "#2a3f5f"
           }
          },
          "ternary": {
           "aaxis": {
            "gridcolor": "white",
            "linecolor": "white",
            "ticks": ""
           },
           "baxis": {
            "gridcolor": "white",
            "linecolor": "white",
            "ticks": ""
           },
           "bgcolor": "#E5ECF6",
           "caxis": {
            "gridcolor": "white",
            "linecolor": "white",
            "ticks": ""
           }
          },
          "title": {
           "x": 0.05
          },
          "xaxis": {
           "automargin": true,
           "gridcolor": "white",
           "linecolor": "white",
           "ticks": "",
           "title": {
            "standoff": 15
           },
           "zerolinecolor": "white",
           "zerolinewidth": 2
          },
          "yaxis": {
           "automargin": true,
           "gridcolor": "white",
           "linecolor": "white",
           "ticks": "",
           "title": {
            "standoff": 15
           },
           "zerolinecolor": "white",
           "zerolinewidth": 2
          }
         }
        },
        "title": {
         "font": {
          "color": "#4D5663"
         }
        },
        "xaxis": {
         "gridcolor": "#E1E5ED",
         "showgrid": true,
         "tickfont": {
          "color": "#4D5663"
         },
         "title": {
          "font": {
           "color": "#4D5663"
          },
          "text": ""
         },
         "zerolinecolor": "#E1E5ED"
        },
        "yaxis": {
         "gridcolor": "#E1E5ED",
         "showgrid": true,
         "tickfont": {
          "color": "#4D5663"
         },
         "title": {
          "font": {
           "color": "#4D5663"
          },
          "text": ""
         },
         "zerolinecolor": "#E1E5ED"
        }
       }
      },
      "text/html": [
       "<div>                            <div id=\"70378d20-ce60-4f2e-9597-161df2457020\" class=\"plotly-graph-div\" style=\"height:525px; width:100%;\"></div>            <script type=\"text/javascript\">                require([\"plotly\"], function(Plotly) {                    window.PLOTLYENV=window.PLOTLYENV || {};\n",
       "                    window.PLOTLYENV.BASE_URL='https://plot.ly';                                    if (document.getElementById(\"70378d20-ce60-4f2e-9597-161df2457020\")) {                    Plotly.newPlot(                        \"70378d20-ce60-4f2e-9597-161df2457020\",                        [{\"boxpoints\":false,\"line\":{\"width\":1.3},\"marker\":{\"color\":\"rgba(255, 153, 51, 1.0)\"},\"name\":\"A\",\"orientation\":\"v\",\"y\":[-0.27164247126346136,-1.3257070606440196,0.09509138803241492,0.5677789260155507,-1.7702004827781839,0.8192901452031851,0.42843016749584817,0.48891810080098663,-0.13885574098913533,-1.6637758910766713,-0.687383321981337,0.9406647337380462,-0.690819839092722,1.2806354120967807,0.19519500649436486,-0.9617059095864561,-0.34082321440792496,0.40501808153456115,1.0256932200321933,0.19792777139922432,0.4473417964638847,-0.746357600971722,-0.7463331494444009,1.8614426561055353,-1.1921824686638272,0.33702637966918264,-0.019990132981849144,-1.0365459781316264,-0.9182930313854358,1.0514506561892487,1.4231033015561043,0.9388329560106634,-0.6005788533325781,-1.5577073542570385,0.7729435472995098,-0.7886108148794514,0.8276169458706734,-0.5887982618967834,0.6079822371177137,1.1815201552359502,-0.46765292959066734,-1.1747756877337578,0.12539506832767486,0.8444236630050397,0.4837479545939307,0.2626615850571374,0.25609179616383837,-0.34482586724742925,-1.0629525341853008,0.38530331033560733,1.6652564840701058,1.017710453432222,1.739805462678277,0.977218254223707,-0.11349498759333462,1.9125139328999086,-0.07919689362884139,0.19237236508550656,-1.218178626743223,1.5252495234723242,0.42515169637007116,-0.6917277873885234,-1.0914735632955341,0.1479495579758345,-0.769384799107449,-0.959114317069405,-0.11512199650222511,0.06717010137838174,-0.8100531665464591,0.7495654025364011,0.17261362176212222,-1.6122353899625055,2.0636152291749204,1.3542937788460374,0.3971750773103758,-1.6066263804550474,-0.847567402742816,2.2645832278875084,-0.04304356003073988,-1.3965861940480482,1.3607133938541376,-2.033089150596266,0.4936571407278187,-1.2255787715598412,-0.48127741316601513,3.05599930065596,-0.26528530741592665,-0.5031144218517964,2.0169311706777338,0.6137848243893546,0.5652221897804888,-0.7608485125554416,0.15896495846476275,-1.1521496906994413,-1.303672140570186,-0.5163893488317101,0.5326431891049507,-0.23498564823224072,-0.0075292175095747725,1.1807221464818747],\"type\":\"box\"},{\"boxpoints\":false,\"line\":{\"width\":1.3},\"marker\":{\"color\":\"rgba(55, 128, 191, 1.0)\"},\"name\":\"B\",\"orientation\":\"v\",\"y\":[-0.5606845687001836,1.6792241184825982,-0.08661661904826148,0.3898727869993485,0.01484572176819306,1.2923784950415658,-0.7547121807613962,-0.17924041096584103,-2.079556271100031,1.3741475772876197,-0.7265727387037649,0.07795556662307522,-1.6984034926570812,0.9514332912763463,0.9208568312409571,0.8721149896398802,-1.2006034959932614,0.9698322836075526,-1.7348279414407843,-0.18045584815021679,-0.15534958173210708,0.5778707279835965,-0.31094304485398533,-0.22119039196159165,1.3577782715590458,0.5976119660885164,-0.33861814766618836,0.009153919545416113,-0.905349622590771,0.797128717357109,0.36614038340714694,-1.5116109210853086,0.36233320503932614,-1.286401592931063,0.8197727302603469,1.110110135760402,0.316814577082492,0.8162624495735802,1.3508787939093665,0.9370194953434611,1.748037798224933,0.5260329111423281,0.5837856131293094,1.627503056742485,0.7597512835732089,0.1195243454589661,1.1031778871431137,0.0732232025003497,-0.4392083678404856,-2.0005261017160803,0.15086645476505978,0.7707078145347047,0.39845934776015907,0.60503610907641,-0.5676790205343145,-0.08728334160333123,-0.6736473541810989,1.3469654155549382,-0.52895187800803,-0.7715416124924191,0.32992146618986257,-0.20511451718899026,0.8823370549505434,-1.6350359682122242,0.1998129876390042,-1.1175159253196678,-2.2548754117108527,0.3841331487228912,-0.5647053958800019,1.4138362030889675,-0.7336674767371699,-0.0994770805480279,1.4129817421869901,1.3279684648445662,-0.3426837583140145,0.7427901223026995,0.9562542554682181,1.662527972510784,1.654208700671479,1.6277836234752037,0.2622646773981404,1.1110417788709064,-1.0758423905400494,0.5866561856112027,-0.3632825296055402,-0.5092436817558994,0.9829762441659161,-0.9039318124721808,-0.8761259788070621,1.282766952219753,-1.2659129574243786,1.1388669103882356,0.031596317962045775,-1.0028678826990054,-0.203214798443493,-2.0704178554216046,-0.6120462001187992,-1.6908135230507628,0.3945926141835523,-0.8402938448734616],\"type\":\"box\"},{\"boxpoints\":false,\"line\":{\"width\":1.3},\"marker\":{\"color\":\"rgba(50, 171, 96, 1.0)\"},\"name\":\"C\",\"orientation\":\"v\",\"y\":[-0.17510076833451887,1.0288698240177145,0.7294187475382269,-0.5578856629282004,-1.4427561070736776,0.4388161783702774,0.060563737566764815,1.1228360547515748,-1.1147708162876648,-1.2752660154204478,-1.7312113286523432,-0.82533168192219,0.8658741797078373,-0.41427836454014716,-0.9098894454547914,-1.800204706789089,0.6682338915047351,-0.20987374484294746,0.19598899319836607,-0.7669541641335651,0.4124924143896091,-1.8397233779403428,-2.4530517139415355,0.4424743832683385,-1.1279100199509753,0.8273645699863521,0.7060451811025258,-0.34841335926422856,-0.8179883446544839,-1.1938551743761843,0.23965205889367786,-0.003371851161309269,-0.3848283690882053,-0.3660579064690124,0.18789785147708796,1.6631657931534722,1.7407484140501224,1.4565488819779684,-0.6232723514435085,0.8486940617122866,-1.2524232797957384,1.0025461725315055,-1.6900742257435932,2.5965882936507287,0.8974446875412032,0.6409236834519745,-0.3004172819682092,-0.7308341507657704,-0.8473571913525139,0.18229635624312268,-1.4372588244194673,0.39970158575841475,1.4516847984516328,1.0026818566565996,1.6145013116745843,0.3370738959446078,0.9423240780645039,-0.6481922359095227,1.088239694258309,0.2757922834178292,0.05599297866846583,-0.5538316369091456,0.5839356030798746,3.77788003076131,-0.2814142162387364,-1.396739653898618,1.098733557716189,0.3481299362914519,0.5719545584678998,-1.1917432377063344,0.5562025971593422,0.2687526601731444,-0.6579484009003517,-0.2893864693705524,0.7529664222734219,0.5599036596190918,0.6972960000357077,-0.3165006408518295,0.12506772611635675,-0.1547960377329048,-0.19802705425048947,-1.7878921210147751,-0.7252978787352365,0.9169166661120889,-0.18418265183374585,0.9980844798991737,0.21372777438456053,0.1625712531452284,0.40518165848931825,-0.4024378051833785,0.034134439117629076,0.3801876036723134,-1.574634729531062,-1.279225040981382,1.9560622718390517,1.1699990486795044,-0.5492666922188294,-0.46782061675087566,-0.4457203824349354,-0.4973139229416746],\"type\":\"box\"},{\"boxpoints\":false,\"line\":{\"width\":1.3},\"marker\":{\"color\":\"rgba(128, 0, 128, 1.0)\"},\"name\":\"D\",\"orientation\":\"v\",\"y\":[0.028993705037304567,-0.6716875531197293,0.8334435896917214,-1.9716771967264062,1.50532385374814,0.14956974745594662,-0.06939513333845235,-0.2815157688175154,0.38684784925404336,0.14381043854226855,1.4876554131996642,-0.7370660801991634,1.5404097323754171,0.2040380802866936,0.14168081298982785,-0.8250878115833602,-1.7320260569405233,0.6359832967253354,-0.4695872751400371,-0.2673988678442753,-0.9881864665743314,1.5061033230127938,0.10598331717029001,0.10931223800100075,0.7694644275917429,0.5182483641705755,-0.3071935056280965,-0.4665082690544789,0.9447249121081155,2.0425295696010743,-0.43698105003454357,-0.907598909077158,0.29462902502362,0.10190992720602601,-0.8174929595408008,-0.18001152313077143,0.15566515500727343,0.13196150538499757,-1.0575979330248275,-0.2625832388597864,-0.24847941451559766,2.1485331533935943,-0.08717358871212114,-0.30940859490619027,-2.0046227174032225,1.5083427558825817,-1.5139213190088612,0.01563324569264091,0.8616742568840906,-0.8525617560577919,-1.4248262474160276,-0.3605394147608612,0.37716297286280276,0.6258658201541683,0.2569647630992787,-1.6369203499044183,0.7871465171480043,0.7355463996487434,0.48596059901344485,1.252482630695332,0.4369197688828738,-0.11016987718728498,-1.2248590164464839,-0.37699173885758686,0.013267497344670701,-0.8385954164259339,-1.333902638527453,-1.0835532755477346,1.5605143000742498,-0.4152456441491844,0.5942036262360473,0.5434734806548989,-1.0542816433101314,0.9865682135617165,-1.8060658371376346,-0.04991907939054093,-0.14854389029313436,-0.5375389631592972,0.4245378412844418,0.3468493151487389,0.23489491445703792,0.24001963017549055,-1.7849754803006823,-0.029436562746093183,1.261992804620589,0.6149667944501315,-0.23557799300923188,0.6309302264213924,0.49159285635577266,-0.8530324387313918,-0.8386954461087648,0.17224056036045315,0.8512415447812286,0.2539718936206673,-1.8082627145838914,1.0134201851014084,-1.400878111327254,-0.5350870859857267,-0.7669223496683658,1.097042962574408],\"type\":\"box\"}],                        {\"legend\":{\"bgcolor\":\"#F5F6F9\",\"font\":{\"color\":\"#4D5663\"}},\"paper_bgcolor\":\"#F5F6F9\",\"plot_bgcolor\":\"#F5F6F9\",\"template\":{\"data\":{\"barpolar\":[{\"marker\":{\"line\":{\"color\":\"#E5ECF6\",\"width\":0.5},\"pattern\":{\"fillmode\":\"overlay\",\"size\":10,\"solidity\":0.2}},\"type\":\"barpolar\"}],\"bar\":[{\"error_x\":{\"color\":\"#2a3f5f\"},\"error_y\":{\"color\":\"#2a3f5f\"},\"marker\":{\"line\":{\"color\":\"#E5ECF6\",\"width\":0.5},\"pattern\":{\"fillmode\":\"overlay\",\"size\":10,\"solidity\":0.2}},\"type\":\"bar\"}],\"carpet\":[{\"aaxis\":{\"endlinecolor\":\"#2a3f5f\",\"gridcolor\":\"white\",\"linecolor\":\"white\",\"minorgridcolor\":\"white\",\"startlinecolor\":\"#2a3f5f\"},\"baxis\":{\"endlinecolor\":\"#2a3f5f\",\"gridcolor\":\"white\",\"linecolor\":\"white\",\"minorgridcolor\":\"white\",\"startlinecolor\":\"#2a3f5f\"},\"type\":\"carpet\"}],\"choropleth\":[{\"colorbar\":{\"outlinewidth\":0,\"ticks\":\"\"},\"type\":\"choropleth\"}],\"contourcarpet\":[{\"colorbar\":{\"outlinewidth\":0,\"ticks\":\"\"},\"type\":\"contourcarpet\"}],\"contour\":[{\"colorbar\":{\"outlinewidth\":0,\"ticks\":\"\"},\"colorscale\":[[0.0,\"#0d0887\"],[0.1111111111111111,\"#46039f\"],[0.2222222222222222,\"#7201a8\"],[0.3333333333333333,\"#9c179e\"],[0.4444444444444444,\"#bd3786\"],[0.5555555555555556,\"#d8576b\"],[0.6666666666666666,\"#ed7953\"],[0.7777777777777778,\"#fb9f3a\"],[0.8888888888888888,\"#fdca26\"],[1.0,\"#f0f921\"]],\"type\":\"contour\"}],\"heatmapgl\":[{\"colorbar\":{\"outlinewidth\":0,\"ticks\":\"\"},\"colorscale\":[[0.0,\"#0d0887\"],[0.1111111111111111,\"#46039f\"],[0.2222222222222222,\"#7201a8\"],[0.3333333333333333,\"#9c179e\"],[0.4444444444444444,\"#bd3786\"],[0.5555555555555556,\"#d8576b\"],[0.6666666666666666,\"#ed7953\"],[0.7777777777777778,\"#fb9f3a\"],[0.8888888888888888,\"#fdca26\"],[1.0,\"#f0f921\"]],\"type\":\"heatmapgl\"}],\"heatmap\":[{\"colorbar\":{\"outlinewidth\":0,\"ticks\":\"\"},\"colorscale\":[[0.0,\"#0d0887\"],[0.1111111111111111,\"#46039f\"],[0.2222222222222222,\"#7201a8\"],[0.3333333333333333,\"#9c179e\"],[0.4444444444444444,\"#bd3786\"],[0.5555555555555556,\"#d8576b\"],[0.6666666666666666,\"#ed7953\"],[0.7777777777777778,\"#fb9f3a\"],[0.8888888888888888,\"#fdca26\"],[1.0,\"#f0f921\"]],\"type\":\"heatmap\"}],\"histogram2dcontour\":[{\"colorbar\":{\"outlinewidth\":0,\"ticks\":\"\"},\"colorscale\":[[0.0,\"#0d0887\"],[0.1111111111111111,\"#46039f\"],[0.2222222222222222,\"#7201a8\"],[0.3333333333333333,\"#9c179e\"],[0.4444444444444444,\"#bd3786\"],[0.5555555555555556,\"#d8576b\"],[0.6666666666666666,\"#ed7953\"],[0.7777777777777778,\"#fb9f3a\"],[0.8888888888888888,\"#fdca26\"],[1.0,\"#f0f921\"]],\"type\":\"histogram2dcontour\"}],\"histogram2d\":[{\"colorbar\":{\"outlinewidth\":0,\"ticks\":\"\"},\"colorscale\":[[0.0,\"#0d0887\"],[0.1111111111111111,\"#46039f\"],[0.2222222222222222,\"#7201a8\"],[0.3333333333333333,\"#9c179e\"],[0.4444444444444444,\"#bd3786\"],[0.5555555555555556,\"#d8576b\"],[0.6666666666666666,\"#ed7953\"],[0.7777777777777778,\"#fb9f3a\"],[0.8888888888888888,\"#fdca26\"],[1.0,\"#f0f921\"]],\"type\":\"histogram2d\"}],\"histogram\":[{\"marker\":{\"pattern\":{\"fillmode\":\"overlay\",\"size\":10,\"solidity\":0.2}},\"type\":\"histogram\"}],\"mesh3d\":[{\"colorbar\":{\"outlinewidth\":0,\"ticks\":\"\"},\"type\":\"mesh3d\"}],\"parcoords\":[{\"line\":{\"colorbar\":{\"outlinewidth\":0,\"ticks\":\"\"}},\"type\":\"parcoords\"}],\"pie\":[{\"automargin\":true,\"type\":\"pie\"}],\"scatter3d\":[{\"line\":{\"colorbar\":{\"outlinewidth\":0,\"ticks\":\"\"}},\"marker\":{\"colorbar\":{\"outlinewidth\":0,\"ticks\":\"\"}},\"type\":\"scatter3d\"}],\"scattercarpet\":[{\"marker\":{\"colorbar\":{\"outlinewidth\":0,\"ticks\":\"\"}},\"type\":\"scattercarpet\"}],\"scattergeo\":[{\"marker\":{\"colorbar\":{\"outlinewidth\":0,\"ticks\":\"\"}},\"type\":\"scattergeo\"}],\"scattergl\":[{\"marker\":{\"colorbar\":{\"outlinewidth\":0,\"ticks\":\"\"}},\"type\":\"scattergl\"}],\"scattermapbox\":[{\"marker\":{\"colorbar\":{\"outlinewidth\":0,\"ticks\":\"\"}},\"type\":\"scattermapbox\"}],\"scatterpolargl\":[{\"marker\":{\"colorbar\":{\"outlinewidth\":0,\"ticks\":\"\"}},\"type\":\"scatterpolargl\"}],\"scatterpolar\":[{\"marker\":{\"colorbar\":{\"outlinewidth\":0,\"ticks\":\"\"}},\"type\":\"scatterpolar\"}],\"scatter\":[{\"fillpattern\":{\"fillmode\":\"overlay\",\"size\":10,\"solidity\":0.2},\"type\":\"scatter\"}],\"scatterternary\":[{\"marker\":{\"colorbar\":{\"outlinewidth\":0,\"ticks\":\"\"}},\"type\":\"scatterternary\"}],\"surface\":[{\"colorbar\":{\"outlinewidth\":0,\"ticks\":\"\"},\"colorscale\":[[0.0,\"#0d0887\"],[0.1111111111111111,\"#46039f\"],[0.2222222222222222,\"#7201a8\"],[0.3333333333333333,\"#9c179e\"],[0.4444444444444444,\"#bd3786\"],[0.5555555555555556,\"#d8576b\"],[0.6666666666666666,\"#ed7953\"],[0.7777777777777778,\"#fb9f3a\"],[0.8888888888888888,\"#fdca26\"],[1.0,\"#f0f921\"]],\"type\":\"surface\"}],\"table\":[{\"cells\":{\"fill\":{\"color\":\"#EBF0F8\"},\"line\":{\"color\":\"white\"}},\"header\":{\"fill\":{\"color\":\"#C8D4E3\"},\"line\":{\"color\":\"white\"}},\"type\":\"table\"}]},\"layout\":{\"annotationdefaults\":{\"arrowcolor\":\"#2a3f5f\",\"arrowhead\":0,\"arrowwidth\":1},\"autotypenumbers\":\"strict\",\"coloraxis\":{\"colorbar\":{\"outlinewidth\":0,\"ticks\":\"\"}},\"colorscale\":{\"diverging\":[[0,\"#8e0152\"],[0.1,\"#c51b7d\"],[0.2,\"#de77ae\"],[0.3,\"#f1b6da\"],[0.4,\"#fde0ef\"],[0.5,\"#f7f7f7\"],[0.6,\"#e6f5d0\"],[0.7,\"#b8e186\"],[0.8,\"#7fbc41\"],[0.9,\"#4d9221\"],[1,\"#276419\"]],\"sequential\":[[0.0,\"#0d0887\"],[0.1111111111111111,\"#46039f\"],[0.2222222222222222,\"#7201a8\"],[0.3333333333333333,\"#9c179e\"],[0.4444444444444444,\"#bd3786\"],[0.5555555555555556,\"#d8576b\"],[0.6666666666666666,\"#ed7953\"],[0.7777777777777778,\"#fb9f3a\"],[0.8888888888888888,\"#fdca26\"],[1.0,\"#f0f921\"]],\"sequentialminus\":[[0.0,\"#0d0887\"],[0.1111111111111111,\"#46039f\"],[0.2222222222222222,\"#7201a8\"],[0.3333333333333333,\"#9c179e\"],[0.4444444444444444,\"#bd3786\"],[0.5555555555555556,\"#d8576b\"],[0.6666666666666666,\"#ed7953\"],[0.7777777777777778,\"#fb9f3a\"],[0.8888888888888888,\"#fdca26\"],[1.0,\"#f0f921\"]]},\"colorway\":[\"#636efa\",\"#EF553B\",\"#00cc96\",\"#ab63fa\",\"#FFA15A\",\"#19d3f3\",\"#FF6692\",\"#B6E880\",\"#FF97FF\",\"#FECB52\"],\"font\":{\"color\":\"#2a3f5f\"},\"geo\":{\"bgcolor\":\"white\",\"lakecolor\":\"white\",\"landcolor\":\"#E5ECF6\",\"showlakes\":true,\"showland\":true,\"subunitcolor\":\"white\"},\"hoverlabel\":{\"align\":\"left\"},\"hovermode\":\"closest\",\"mapbox\":{\"style\":\"light\"},\"paper_bgcolor\":\"white\",\"plot_bgcolor\":\"#E5ECF6\",\"polar\":{\"angularaxis\":{\"gridcolor\":\"white\",\"linecolor\":\"white\",\"ticks\":\"\"},\"bgcolor\":\"#E5ECF6\",\"radialaxis\":{\"gridcolor\":\"white\",\"linecolor\":\"white\",\"ticks\":\"\"}},\"scene\":{\"xaxis\":{\"backgroundcolor\":\"#E5ECF6\",\"gridcolor\":\"white\",\"gridwidth\":2,\"linecolor\":\"white\",\"showbackground\":true,\"ticks\":\"\",\"zerolinecolor\":\"white\"},\"yaxis\":{\"backgroundcolor\":\"#E5ECF6\",\"gridcolor\":\"white\",\"gridwidth\":2,\"linecolor\":\"white\",\"showbackground\":true,\"ticks\":\"\",\"zerolinecolor\":\"white\"},\"zaxis\":{\"backgroundcolor\":\"#E5ECF6\",\"gridcolor\":\"white\",\"gridwidth\":2,\"linecolor\":\"white\",\"showbackground\":true,\"ticks\":\"\",\"zerolinecolor\":\"white\"}},\"shapedefaults\":{\"line\":{\"color\":\"#2a3f5f\"}},\"ternary\":{\"aaxis\":{\"gridcolor\":\"white\",\"linecolor\":\"white\",\"ticks\":\"\"},\"baxis\":{\"gridcolor\":\"white\",\"linecolor\":\"white\",\"ticks\":\"\"},\"bgcolor\":\"#E5ECF6\",\"caxis\":{\"gridcolor\":\"white\",\"linecolor\":\"white\",\"ticks\":\"\"}},\"title\":{\"x\":0.05},\"xaxis\":{\"automargin\":true,\"gridcolor\":\"white\",\"linecolor\":\"white\",\"ticks\":\"\",\"title\":{\"standoff\":15},\"zerolinecolor\":\"white\",\"zerolinewidth\":2},\"yaxis\":{\"automargin\":true,\"gridcolor\":\"white\",\"linecolor\":\"white\",\"ticks\":\"\",\"title\":{\"standoff\":15},\"zerolinecolor\":\"white\",\"zerolinewidth\":2}}},\"title\":{\"font\":{\"color\":\"#4D5663\"}},\"xaxis\":{\"gridcolor\":\"#E1E5ED\",\"showgrid\":true,\"tickfont\":{\"color\":\"#4D5663\"},\"title\":{\"font\":{\"color\":\"#4D5663\"},\"text\":\"\"},\"zerolinecolor\":\"#E1E5ED\"},\"yaxis\":{\"gridcolor\":\"#E1E5ED\",\"showgrid\":true,\"tickfont\":{\"color\":\"#4D5663\"},\"title\":{\"font\":{\"color\":\"#4D5663\"},\"text\":\"\"},\"zerolinecolor\":\"#E1E5ED\"}},                        {\"showLink\": true, \"linkText\": \"Export to plot.ly\", \"plotlyServerURL\": \"https://plot.ly\", \"responsive\": true}                    ).then(function(){\n",
       "                            \n",
       "var gd = document.getElementById('70378d20-ce60-4f2e-9597-161df2457020');\n",
       "var x = new MutationObserver(function (mutations, observer) {{\n",
       "        var display = window.getComputedStyle(gd).display;\n",
       "        if (!display || display === 'none') {{\n",
       "            console.log([gd, 'removed!']);\n",
       "            Plotly.purge(gd);\n",
       "            observer.disconnect();\n",
       "        }}\n",
       "}});\n",
       "\n",
       "// Listen for the removal of the full notebook cells\n",
       "var notebookContainer = gd.closest('#notebook-container');\n",
       "if (notebookContainer) {{\n",
       "    x.observe(notebookContainer, {childList: true});\n",
       "}}\n",
       "\n",
       "// Listen for the clearing of the current output cell\n",
       "var outputEl = gd.closest('.output');\n",
       "if (outputEl) {{\n",
       "    x.observe(outputEl, {childList: true});\n",
       "}}\n",
       "\n",
       "                        })                };                });            </script>        </div>"
      ]
     },
     "metadata": {},
     "output_type": "display_data"
    }
   ],
   "source": [
    "df1.iplot(kind='box')"
   ]
  },
  {
   "cell_type": "code",
   "execution_count": 14,
   "metadata": {},
   "outputs": [],
   "source": [
    "df3=pd.DataFrame({'x':[1,2,3,4,5,6,7],'y':[12,23,15,35,6,26,52], 'z':[123,432,654,256,843,432,532]})"
   ]
  },
  {
   "cell_type": "code",
   "execution_count": 15,
   "metadata": {},
   "outputs": [
    {
     "data": {
      "text/html": [
       "<div>\n",
       "<style scoped>\n",
       "    .dataframe tbody tr th:only-of-type {\n",
       "        vertical-align: middle;\n",
       "    }\n",
       "\n",
       "    .dataframe tbody tr th {\n",
       "        vertical-align: top;\n",
       "    }\n",
       "\n",
       "    .dataframe thead th {\n",
       "        text-align: right;\n",
       "    }\n",
       "</style>\n",
       "<table border=\"1\" class=\"dataframe\">\n",
       "  <thead>\n",
       "    <tr style=\"text-align: right;\">\n",
       "      <th></th>\n",
       "      <th>x</th>\n",
       "      <th>y</th>\n",
       "      <th>z</th>\n",
       "    </tr>\n",
       "  </thead>\n",
       "  <tbody>\n",
       "    <tr>\n",
       "      <th>0</th>\n",
       "      <td>1</td>\n",
       "      <td>12</td>\n",
       "      <td>123</td>\n",
       "    </tr>\n",
       "    <tr>\n",
       "      <th>1</th>\n",
       "      <td>2</td>\n",
       "      <td>23</td>\n",
       "      <td>432</td>\n",
       "    </tr>\n",
       "    <tr>\n",
       "      <th>2</th>\n",
       "      <td>3</td>\n",
       "      <td>15</td>\n",
       "      <td>654</td>\n",
       "    </tr>\n",
       "    <tr>\n",
       "      <th>3</th>\n",
       "      <td>4</td>\n",
       "      <td>35</td>\n",
       "      <td>256</td>\n",
       "    </tr>\n",
       "    <tr>\n",
       "      <th>4</th>\n",
       "      <td>5</td>\n",
       "      <td>6</td>\n",
       "      <td>843</td>\n",
       "    </tr>\n",
       "    <tr>\n",
       "      <th>5</th>\n",
       "      <td>6</td>\n",
       "      <td>26</td>\n",
       "      <td>432</td>\n",
       "    </tr>\n",
       "    <tr>\n",
       "      <th>6</th>\n",
       "      <td>7</td>\n",
       "      <td>52</td>\n",
       "      <td>532</td>\n",
       "    </tr>\n",
       "  </tbody>\n",
       "</table>\n",
       "</div>"
      ],
      "text/plain": [
       "   x   y    z\n",
       "0  1  12  123\n",
       "1  2  23  432\n",
       "2  3  15  654\n",
       "3  4  35  256\n",
       "4  5   6  843\n",
       "5  6  26  432\n",
       "6  7  52  532"
      ]
     },
     "execution_count": 15,
     "metadata": {},
     "output_type": "execute_result"
    }
   ],
   "source": [
    "df3"
   ]
  },
  {
   "cell_type": "code",
   "execution_count": 16,
   "metadata": {},
   "outputs": [
    {
     "data": {
      "application/vnd.plotly.v1+json": {
       "config": {
        "linkText": "Export to plot.ly",
        "plotlyServerURL": "https://plot.ly",
        "showLink": true
       },
       "data": [
        {
         "colorscale": [
          [
           0,
           "rgb(255, 153, 51)"
          ],
          [
           0.1111111111111111,
           "rgb(55, 128, 191)"
          ],
          [
           0.2222222222222222,
           "rgb(50, 171, 96)"
          ],
          [
           0.3333333333333333,
           "rgb(128, 0, 128)"
          ],
          [
           0.4444444444444444,
           "rgb(219, 64, 82)"
          ],
          [
           0.5555555555555556,
           "rgb(0, 128, 128)"
          ],
          [
           0.6666666666666666,
           "rgb(255, 255, 51)"
          ],
          [
           0.7777777777777778,
           "rgb(128, 128, 0)"
          ],
          [
           0.8888888888888888,
           "rgb(251, 128, 114)"
          ],
          [
           1,
           "rgb(128, 177, 211)"
          ]
         ],
         "type": "surface",
         "x": [
          0,
          1,
          2,
          3,
          4,
          5,
          6
         ],
         "y": [
          "x",
          "y",
          "z"
         ],
         "z": [
          [
           1,
           2,
           3,
           4,
           5,
           6,
           7
          ],
          [
           12,
           23,
           15,
           35,
           6,
           26,
           52
          ],
          [
           123,
           432,
           654,
           256,
           843,
           432,
           532
          ]
         ]
        }
       ],
       "layout": {
        "legend": {
         "bgcolor": "#F5F6F9",
         "font": {
          "color": "#4D5663"
         }
        },
        "paper_bgcolor": "#F5F6F9",
        "plot_bgcolor": "#F5F6F9",
        "template": {
         "data": {
          "bar": [
           {
            "error_x": {
             "color": "#2a3f5f"
            },
            "error_y": {
             "color": "#2a3f5f"
            },
            "marker": {
             "line": {
              "color": "#E5ECF6",
              "width": 0.5
             },
             "pattern": {
              "fillmode": "overlay",
              "size": 10,
              "solidity": 0.2
             }
            },
            "type": "bar"
           }
          ],
          "barpolar": [
           {
            "marker": {
             "line": {
              "color": "#E5ECF6",
              "width": 0.5
             },
             "pattern": {
              "fillmode": "overlay",
              "size": 10,
              "solidity": 0.2
             }
            },
            "type": "barpolar"
           }
          ],
          "carpet": [
           {
            "aaxis": {
             "endlinecolor": "#2a3f5f",
             "gridcolor": "white",
             "linecolor": "white",
             "minorgridcolor": "white",
             "startlinecolor": "#2a3f5f"
            },
            "baxis": {
             "endlinecolor": "#2a3f5f",
             "gridcolor": "white",
             "linecolor": "white",
             "minorgridcolor": "white",
             "startlinecolor": "#2a3f5f"
            },
            "type": "carpet"
           }
          ],
          "choropleth": [
           {
            "colorbar": {
             "outlinewidth": 0,
             "ticks": ""
            },
            "type": "choropleth"
           }
          ],
          "contour": [
           {
            "colorbar": {
             "outlinewidth": 0,
             "ticks": ""
            },
            "colorscale": [
             [
              0,
              "#0d0887"
             ],
             [
              0.1111111111111111,
              "#46039f"
             ],
             [
              0.2222222222222222,
              "#7201a8"
             ],
             [
              0.3333333333333333,
              "#9c179e"
             ],
             [
              0.4444444444444444,
              "#bd3786"
             ],
             [
              0.5555555555555556,
              "#d8576b"
             ],
             [
              0.6666666666666666,
              "#ed7953"
             ],
             [
              0.7777777777777778,
              "#fb9f3a"
             ],
             [
              0.8888888888888888,
              "#fdca26"
             ],
             [
              1,
              "#f0f921"
             ]
            ],
            "type": "contour"
           }
          ],
          "contourcarpet": [
           {
            "colorbar": {
             "outlinewidth": 0,
             "ticks": ""
            },
            "type": "contourcarpet"
           }
          ],
          "heatmap": [
           {
            "colorbar": {
             "outlinewidth": 0,
             "ticks": ""
            },
            "colorscale": [
             [
              0,
              "#0d0887"
             ],
             [
              0.1111111111111111,
              "#46039f"
             ],
             [
              0.2222222222222222,
              "#7201a8"
             ],
             [
              0.3333333333333333,
              "#9c179e"
             ],
             [
              0.4444444444444444,
              "#bd3786"
             ],
             [
              0.5555555555555556,
              "#d8576b"
             ],
             [
              0.6666666666666666,
              "#ed7953"
             ],
             [
              0.7777777777777778,
              "#fb9f3a"
             ],
             [
              0.8888888888888888,
              "#fdca26"
             ],
             [
              1,
              "#f0f921"
             ]
            ],
            "type": "heatmap"
           }
          ],
          "heatmapgl": [
           {
            "colorbar": {
             "outlinewidth": 0,
             "ticks": ""
            },
            "colorscale": [
             [
              0,
              "#0d0887"
             ],
             [
              0.1111111111111111,
              "#46039f"
             ],
             [
              0.2222222222222222,
              "#7201a8"
             ],
             [
              0.3333333333333333,
              "#9c179e"
             ],
             [
              0.4444444444444444,
              "#bd3786"
             ],
             [
              0.5555555555555556,
              "#d8576b"
             ],
             [
              0.6666666666666666,
              "#ed7953"
             ],
             [
              0.7777777777777778,
              "#fb9f3a"
             ],
             [
              0.8888888888888888,
              "#fdca26"
             ],
             [
              1,
              "#f0f921"
             ]
            ],
            "type": "heatmapgl"
           }
          ],
          "histogram": [
           {
            "marker": {
             "pattern": {
              "fillmode": "overlay",
              "size": 10,
              "solidity": 0.2
             }
            },
            "type": "histogram"
           }
          ],
          "histogram2d": [
           {
            "colorbar": {
             "outlinewidth": 0,
             "ticks": ""
            },
            "colorscale": [
             [
              0,
              "#0d0887"
             ],
             [
              0.1111111111111111,
              "#46039f"
             ],
             [
              0.2222222222222222,
              "#7201a8"
             ],
             [
              0.3333333333333333,
              "#9c179e"
             ],
             [
              0.4444444444444444,
              "#bd3786"
             ],
             [
              0.5555555555555556,
              "#d8576b"
             ],
             [
              0.6666666666666666,
              "#ed7953"
             ],
             [
              0.7777777777777778,
              "#fb9f3a"
             ],
             [
              0.8888888888888888,
              "#fdca26"
             ],
             [
              1,
              "#f0f921"
             ]
            ],
            "type": "histogram2d"
           }
          ],
          "histogram2dcontour": [
           {
            "colorbar": {
             "outlinewidth": 0,
             "ticks": ""
            },
            "colorscale": [
             [
              0,
              "#0d0887"
             ],
             [
              0.1111111111111111,
              "#46039f"
             ],
             [
              0.2222222222222222,
              "#7201a8"
             ],
             [
              0.3333333333333333,
              "#9c179e"
             ],
             [
              0.4444444444444444,
              "#bd3786"
             ],
             [
              0.5555555555555556,
              "#d8576b"
             ],
             [
              0.6666666666666666,
              "#ed7953"
             ],
             [
              0.7777777777777778,
              "#fb9f3a"
             ],
             [
              0.8888888888888888,
              "#fdca26"
             ],
             [
              1,
              "#f0f921"
             ]
            ],
            "type": "histogram2dcontour"
           }
          ],
          "mesh3d": [
           {
            "colorbar": {
             "outlinewidth": 0,
             "ticks": ""
            },
            "type": "mesh3d"
           }
          ],
          "parcoords": [
           {
            "line": {
             "colorbar": {
              "outlinewidth": 0,
              "ticks": ""
             }
            },
            "type": "parcoords"
           }
          ],
          "pie": [
           {
            "automargin": true,
            "type": "pie"
           }
          ],
          "scatter": [
           {
            "fillpattern": {
             "fillmode": "overlay",
             "size": 10,
             "solidity": 0.2
            },
            "type": "scatter"
           }
          ],
          "scatter3d": [
           {
            "line": {
             "colorbar": {
              "outlinewidth": 0,
              "ticks": ""
             }
            },
            "marker": {
             "colorbar": {
              "outlinewidth": 0,
              "ticks": ""
             }
            },
            "type": "scatter3d"
           }
          ],
          "scattercarpet": [
           {
            "marker": {
             "colorbar": {
              "outlinewidth": 0,
              "ticks": ""
             }
            },
            "type": "scattercarpet"
           }
          ],
          "scattergeo": [
           {
            "marker": {
             "colorbar": {
              "outlinewidth": 0,
              "ticks": ""
             }
            },
            "type": "scattergeo"
           }
          ],
          "scattergl": [
           {
            "marker": {
             "colorbar": {
              "outlinewidth": 0,
              "ticks": ""
             }
            },
            "type": "scattergl"
           }
          ],
          "scattermapbox": [
           {
            "marker": {
             "colorbar": {
              "outlinewidth": 0,
              "ticks": ""
             }
            },
            "type": "scattermapbox"
           }
          ],
          "scatterpolar": [
           {
            "marker": {
             "colorbar": {
              "outlinewidth": 0,
              "ticks": ""
             }
            },
            "type": "scatterpolar"
           }
          ],
          "scatterpolargl": [
           {
            "marker": {
             "colorbar": {
              "outlinewidth": 0,
              "ticks": ""
             }
            },
            "type": "scatterpolargl"
           }
          ],
          "scatterternary": [
           {
            "marker": {
             "colorbar": {
              "outlinewidth": 0,
              "ticks": ""
             }
            },
            "type": "scatterternary"
           }
          ],
          "surface": [
           {
            "colorbar": {
             "outlinewidth": 0,
             "ticks": ""
            },
            "colorscale": [
             [
              0,
              "#0d0887"
             ],
             [
              0.1111111111111111,
              "#46039f"
             ],
             [
              0.2222222222222222,
              "#7201a8"
             ],
             [
              0.3333333333333333,
              "#9c179e"
             ],
             [
              0.4444444444444444,
              "#bd3786"
             ],
             [
              0.5555555555555556,
              "#d8576b"
             ],
             [
              0.6666666666666666,
              "#ed7953"
             ],
             [
              0.7777777777777778,
              "#fb9f3a"
             ],
             [
              0.8888888888888888,
              "#fdca26"
             ],
             [
              1,
              "#f0f921"
             ]
            ],
            "type": "surface"
           }
          ],
          "table": [
           {
            "cells": {
             "fill": {
              "color": "#EBF0F8"
             },
             "line": {
              "color": "white"
             }
            },
            "header": {
             "fill": {
              "color": "#C8D4E3"
             },
             "line": {
              "color": "white"
             }
            },
            "type": "table"
           }
          ]
         },
         "layout": {
          "annotationdefaults": {
           "arrowcolor": "#2a3f5f",
           "arrowhead": 0,
           "arrowwidth": 1
          },
          "autotypenumbers": "strict",
          "coloraxis": {
           "colorbar": {
            "outlinewidth": 0,
            "ticks": ""
           }
          },
          "colorscale": {
           "diverging": [
            [
             0,
             "#8e0152"
            ],
            [
             0.1,
             "#c51b7d"
            ],
            [
             0.2,
             "#de77ae"
            ],
            [
             0.3,
             "#f1b6da"
            ],
            [
             0.4,
             "#fde0ef"
            ],
            [
             0.5,
             "#f7f7f7"
            ],
            [
             0.6,
             "#e6f5d0"
            ],
            [
             0.7,
             "#b8e186"
            ],
            [
             0.8,
             "#7fbc41"
            ],
            [
             0.9,
             "#4d9221"
            ],
            [
             1,
             "#276419"
            ]
           ],
           "sequential": [
            [
             0,
             "#0d0887"
            ],
            [
             0.1111111111111111,
             "#46039f"
            ],
            [
             0.2222222222222222,
             "#7201a8"
            ],
            [
             0.3333333333333333,
             "#9c179e"
            ],
            [
             0.4444444444444444,
             "#bd3786"
            ],
            [
             0.5555555555555556,
             "#d8576b"
            ],
            [
             0.6666666666666666,
             "#ed7953"
            ],
            [
             0.7777777777777778,
             "#fb9f3a"
            ],
            [
             0.8888888888888888,
             "#fdca26"
            ],
            [
             1,
             "#f0f921"
            ]
           ],
           "sequentialminus": [
            [
             0,
             "#0d0887"
            ],
            [
             0.1111111111111111,
             "#46039f"
            ],
            [
             0.2222222222222222,
             "#7201a8"
            ],
            [
             0.3333333333333333,
             "#9c179e"
            ],
            [
             0.4444444444444444,
             "#bd3786"
            ],
            [
             0.5555555555555556,
             "#d8576b"
            ],
            [
             0.6666666666666666,
             "#ed7953"
            ],
            [
             0.7777777777777778,
             "#fb9f3a"
            ],
            [
             0.8888888888888888,
             "#fdca26"
            ],
            [
             1,
             "#f0f921"
            ]
           ]
          },
          "colorway": [
           "#636efa",
           "#EF553B",
           "#00cc96",
           "#ab63fa",
           "#FFA15A",
           "#19d3f3",
           "#FF6692",
           "#B6E880",
           "#FF97FF",
           "#FECB52"
          ],
          "font": {
           "color": "#2a3f5f"
          },
          "geo": {
           "bgcolor": "white",
           "lakecolor": "white",
           "landcolor": "#E5ECF6",
           "showlakes": true,
           "showland": true,
           "subunitcolor": "white"
          },
          "hoverlabel": {
           "align": "left"
          },
          "hovermode": "closest",
          "mapbox": {
           "style": "light"
          },
          "paper_bgcolor": "white",
          "plot_bgcolor": "#E5ECF6",
          "polar": {
           "angularaxis": {
            "gridcolor": "white",
            "linecolor": "white",
            "ticks": ""
           },
           "bgcolor": "#E5ECF6",
           "radialaxis": {
            "gridcolor": "white",
            "linecolor": "white",
            "ticks": ""
           }
          },
          "scene": {
           "xaxis": {
            "backgroundcolor": "#E5ECF6",
            "gridcolor": "white",
            "gridwidth": 2,
            "linecolor": "white",
            "showbackground": true,
            "ticks": "",
            "zerolinecolor": "white"
           },
           "yaxis": {
            "backgroundcolor": "#E5ECF6",
            "gridcolor": "white",
            "gridwidth": 2,
            "linecolor": "white",
            "showbackground": true,
            "ticks": "",
            "zerolinecolor": "white"
           },
           "zaxis": {
            "backgroundcolor": "#E5ECF6",
            "gridcolor": "white",
            "gridwidth": 2,
            "linecolor": "white",
            "showbackground": true,
            "ticks": "",
            "zerolinecolor": "white"
           }
          },
          "shapedefaults": {
           "line": {
            "color": "#2a3f5f"
           }
          },
          "ternary": {
           "aaxis": {
            "gridcolor": "white",
            "linecolor": "white",
            "ticks": ""
           },
           "baxis": {
            "gridcolor": "white",
            "linecolor": "white",
            "ticks": ""
           },
           "bgcolor": "#E5ECF6",
           "caxis": {
            "gridcolor": "white",
            "linecolor": "white",
            "ticks": ""
           }
          },
          "title": {
           "x": 0.05
          },
          "xaxis": {
           "automargin": true,
           "gridcolor": "white",
           "linecolor": "white",
           "ticks": "",
           "title": {
            "standoff": 15
           },
           "zerolinecolor": "white",
           "zerolinewidth": 2
          },
          "yaxis": {
           "automargin": true,
           "gridcolor": "white",
           "linecolor": "white",
           "ticks": "",
           "title": {
            "standoff": 15
           },
           "zerolinecolor": "white",
           "zerolinewidth": 2
          }
         }
        },
        "title": {
         "font": {
          "color": "#4D5663"
         }
        },
        "xaxis": {
         "gridcolor": "#E1E5ED",
         "showgrid": true,
         "tickfont": {
          "color": "#4D5663"
         },
         "title": {
          "font": {
           "color": "#4D5663"
          },
          "text": ""
         },
         "zerolinecolor": "#E1E5ED"
        },
        "yaxis": {
         "gridcolor": "#E1E5ED",
         "showgrid": true,
         "tickfont": {
          "color": "#4D5663"
         },
         "title": {
          "font": {
           "color": "#4D5663"
          },
          "text": ""
         },
         "zerolinecolor": "#E1E5ED"
        }
       }
      },
      "text/html": [
       "<div>                            <div id=\"6ddf93bd-b57b-4f94-bccc-fd9d6ba85aac\" class=\"plotly-graph-div\" style=\"height:525px; width:100%;\"></div>            <script type=\"text/javascript\">                require([\"plotly\"], function(Plotly) {                    window.PLOTLYENV=window.PLOTLYENV || {};\n",
       "                    window.PLOTLYENV.BASE_URL='https://plot.ly';                                    if (document.getElementById(\"6ddf93bd-b57b-4f94-bccc-fd9d6ba85aac\")) {                    Plotly.newPlot(                        \"6ddf93bd-b57b-4f94-bccc-fd9d6ba85aac\",                        [{\"colorscale\":[[0.0,\"rgb(255, 153, 51)\"],[0.1111111111111111,\"rgb(55, 128, 191)\"],[0.2222222222222222,\"rgb(50, 171, 96)\"],[0.3333333333333333,\"rgb(128, 0, 128)\"],[0.4444444444444444,\"rgb(219, 64, 82)\"],[0.5555555555555556,\"rgb(0, 128, 128)\"],[0.6666666666666666,\"rgb(255, 255, 51)\"],[0.7777777777777778,\"rgb(128, 128, 0)\"],[0.8888888888888888,\"rgb(251, 128, 114)\"],[1.0,\"rgb(128, 177, 211)\"]],\"x\":[0,1,2,3,4,5,6],\"y\":[\"x\",\"y\",\"z\"],\"z\":[[1,2,3,4,5,6,7],[12,23,15,35,6,26,52],[123,432,654,256,843,432,532]],\"type\":\"surface\"}],                        {\"legend\":{\"bgcolor\":\"#F5F6F9\",\"font\":{\"color\":\"#4D5663\"}},\"paper_bgcolor\":\"#F5F6F9\",\"plot_bgcolor\":\"#F5F6F9\",\"template\":{\"data\":{\"barpolar\":[{\"marker\":{\"line\":{\"color\":\"#E5ECF6\",\"width\":0.5},\"pattern\":{\"fillmode\":\"overlay\",\"size\":10,\"solidity\":0.2}},\"type\":\"barpolar\"}],\"bar\":[{\"error_x\":{\"color\":\"#2a3f5f\"},\"error_y\":{\"color\":\"#2a3f5f\"},\"marker\":{\"line\":{\"color\":\"#E5ECF6\",\"width\":0.5},\"pattern\":{\"fillmode\":\"overlay\",\"size\":10,\"solidity\":0.2}},\"type\":\"bar\"}],\"carpet\":[{\"aaxis\":{\"endlinecolor\":\"#2a3f5f\",\"gridcolor\":\"white\",\"linecolor\":\"white\",\"minorgridcolor\":\"white\",\"startlinecolor\":\"#2a3f5f\"},\"baxis\":{\"endlinecolor\":\"#2a3f5f\",\"gridcolor\":\"white\",\"linecolor\":\"white\",\"minorgridcolor\":\"white\",\"startlinecolor\":\"#2a3f5f\"},\"type\":\"carpet\"}],\"choropleth\":[{\"colorbar\":{\"outlinewidth\":0,\"ticks\":\"\"},\"type\":\"choropleth\"}],\"contourcarpet\":[{\"colorbar\":{\"outlinewidth\":0,\"ticks\":\"\"},\"type\":\"contourcarpet\"}],\"contour\":[{\"colorbar\":{\"outlinewidth\":0,\"ticks\":\"\"},\"colorscale\":[[0.0,\"#0d0887\"],[0.1111111111111111,\"#46039f\"],[0.2222222222222222,\"#7201a8\"],[0.3333333333333333,\"#9c179e\"],[0.4444444444444444,\"#bd3786\"],[0.5555555555555556,\"#d8576b\"],[0.6666666666666666,\"#ed7953\"],[0.7777777777777778,\"#fb9f3a\"],[0.8888888888888888,\"#fdca26\"],[1.0,\"#f0f921\"]],\"type\":\"contour\"}],\"heatmapgl\":[{\"colorbar\":{\"outlinewidth\":0,\"ticks\":\"\"},\"colorscale\":[[0.0,\"#0d0887\"],[0.1111111111111111,\"#46039f\"],[0.2222222222222222,\"#7201a8\"],[0.3333333333333333,\"#9c179e\"],[0.4444444444444444,\"#bd3786\"],[0.5555555555555556,\"#d8576b\"],[0.6666666666666666,\"#ed7953\"],[0.7777777777777778,\"#fb9f3a\"],[0.8888888888888888,\"#fdca26\"],[1.0,\"#f0f921\"]],\"type\":\"heatmapgl\"}],\"heatmap\":[{\"colorbar\":{\"outlinewidth\":0,\"ticks\":\"\"},\"colorscale\":[[0.0,\"#0d0887\"],[0.1111111111111111,\"#46039f\"],[0.2222222222222222,\"#7201a8\"],[0.3333333333333333,\"#9c179e\"],[0.4444444444444444,\"#bd3786\"],[0.5555555555555556,\"#d8576b\"],[0.6666666666666666,\"#ed7953\"],[0.7777777777777778,\"#fb9f3a\"],[0.8888888888888888,\"#fdca26\"],[1.0,\"#f0f921\"]],\"type\":\"heatmap\"}],\"histogram2dcontour\":[{\"colorbar\":{\"outlinewidth\":0,\"ticks\":\"\"},\"colorscale\":[[0.0,\"#0d0887\"],[0.1111111111111111,\"#46039f\"],[0.2222222222222222,\"#7201a8\"],[0.3333333333333333,\"#9c179e\"],[0.4444444444444444,\"#bd3786\"],[0.5555555555555556,\"#d8576b\"],[0.6666666666666666,\"#ed7953\"],[0.7777777777777778,\"#fb9f3a\"],[0.8888888888888888,\"#fdca26\"],[1.0,\"#f0f921\"]],\"type\":\"histogram2dcontour\"}],\"histogram2d\":[{\"colorbar\":{\"outlinewidth\":0,\"ticks\":\"\"},\"colorscale\":[[0.0,\"#0d0887\"],[0.1111111111111111,\"#46039f\"],[0.2222222222222222,\"#7201a8\"],[0.3333333333333333,\"#9c179e\"],[0.4444444444444444,\"#bd3786\"],[0.5555555555555556,\"#d8576b\"],[0.6666666666666666,\"#ed7953\"],[0.7777777777777778,\"#fb9f3a\"],[0.8888888888888888,\"#fdca26\"],[1.0,\"#f0f921\"]],\"type\":\"histogram2d\"}],\"histogram\":[{\"marker\":{\"pattern\":{\"fillmode\":\"overlay\",\"size\":10,\"solidity\":0.2}},\"type\":\"histogram\"}],\"mesh3d\":[{\"colorbar\":{\"outlinewidth\":0,\"ticks\":\"\"},\"type\":\"mesh3d\"}],\"parcoords\":[{\"line\":{\"colorbar\":{\"outlinewidth\":0,\"ticks\":\"\"}},\"type\":\"parcoords\"}],\"pie\":[{\"automargin\":true,\"type\":\"pie\"}],\"scatter3d\":[{\"line\":{\"colorbar\":{\"outlinewidth\":0,\"ticks\":\"\"}},\"marker\":{\"colorbar\":{\"outlinewidth\":0,\"ticks\":\"\"}},\"type\":\"scatter3d\"}],\"scattercarpet\":[{\"marker\":{\"colorbar\":{\"outlinewidth\":0,\"ticks\":\"\"}},\"type\":\"scattercarpet\"}],\"scattergeo\":[{\"marker\":{\"colorbar\":{\"outlinewidth\":0,\"ticks\":\"\"}},\"type\":\"scattergeo\"}],\"scattergl\":[{\"marker\":{\"colorbar\":{\"outlinewidth\":0,\"ticks\":\"\"}},\"type\":\"scattergl\"}],\"scattermapbox\":[{\"marker\":{\"colorbar\":{\"outlinewidth\":0,\"ticks\":\"\"}},\"type\":\"scattermapbox\"}],\"scatterpolargl\":[{\"marker\":{\"colorbar\":{\"outlinewidth\":0,\"ticks\":\"\"}},\"type\":\"scatterpolargl\"}],\"scatterpolar\":[{\"marker\":{\"colorbar\":{\"outlinewidth\":0,\"ticks\":\"\"}},\"type\":\"scatterpolar\"}],\"scatter\":[{\"fillpattern\":{\"fillmode\":\"overlay\",\"size\":10,\"solidity\":0.2},\"type\":\"scatter\"}],\"scatterternary\":[{\"marker\":{\"colorbar\":{\"outlinewidth\":0,\"ticks\":\"\"}},\"type\":\"scatterternary\"}],\"surface\":[{\"colorbar\":{\"outlinewidth\":0,\"ticks\":\"\"},\"colorscale\":[[0.0,\"#0d0887\"],[0.1111111111111111,\"#46039f\"],[0.2222222222222222,\"#7201a8\"],[0.3333333333333333,\"#9c179e\"],[0.4444444444444444,\"#bd3786\"],[0.5555555555555556,\"#d8576b\"],[0.6666666666666666,\"#ed7953\"],[0.7777777777777778,\"#fb9f3a\"],[0.8888888888888888,\"#fdca26\"],[1.0,\"#f0f921\"]],\"type\":\"surface\"}],\"table\":[{\"cells\":{\"fill\":{\"color\":\"#EBF0F8\"},\"line\":{\"color\":\"white\"}},\"header\":{\"fill\":{\"color\":\"#C8D4E3\"},\"line\":{\"color\":\"white\"}},\"type\":\"table\"}]},\"layout\":{\"annotationdefaults\":{\"arrowcolor\":\"#2a3f5f\",\"arrowhead\":0,\"arrowwidth\":1},\"autotypenumbers\":\"strict\",\"coloraxis\":{\"colorbar\":{\"outlinewidth\":0,\"ticks\":\"\"}},\"colorscale\":{\"diverging\":[[0,\"#8e0152\"],[0.1,\"#c51b7d\"],[0.2,\"#de77ae\"],[0.3,\"#f1b6da\"],[0.4,\"#fde0ef\"],[0.5,\"#f7f7f7\"],[0.6,\"#e6f5d0\"],[0.7,\"#b8e186\"],[0.8,\"#7fbc41\"],[0.9,\"#4d9221\"],[1,\"#276419\"]],\"sequential\":[[0.0,\"#0d0887\"],[0.1111111111111111,\"#46039f\"],[0.2222222222222222,\"#7201a8\"],[0.3333333333333333,\"#9c179e\"],[0.4444444444444444,\"#bd3786\"],[0.5555555555555556,\"#d8576b\"],[0.6666666666666666,\"#ed7953\"],[0.7777777777777778,\"#fb9f3a\"],[0.8888888888888888,\"#fdca26\"],[1.0,\"#f0f921\"]],\"sequentialminus\":[[0.0,\"#0d0887\"],[0.1111111111111111,\"#46039f\"],[0.2222222222222222,\"#7201a8\"],[0.3333333333333333,\"#9c179e\"],[0.4444444444444444,\"#bd3786\"],[0.5555555555555556,\"#d8576b\"],[0.6666666666666666,\"#ed7953\"],[0.7777777777777778,\"#fb9f3a\"],[0.8888888888888888,\"#fdca26\"],[1.0,\"#f0f921\"]]},\"colorway\":[\"#636efa\",\"#EF553B\",\"#00cc96\",\"#ab63fa\",\"#FFA15A\",\"#19d3f3\",\"#FF6692\",\"#B6E880\",\"#FF97FF\",\"#FECB52\"],\"font\":{\"color\":\"#2a3f5f\"},\"geo\":{\"bgcolor\":\"white\",\"lakecolor\":\"white\",\"landcolor\":\"#E5ECF6\",\"showlakes\":true,\"showland\":true,\"subunitcolor\":\"white\"},\"hoverlabel\":{\"align\":\"left\"},\"hovermode\":\"closest\",\"mapbox\":{\"style\":\"light\"},\"paper_bgcolor\":\"white\",\"plot_bgcolor\":\"#E5ECF6\",\"polar\":{\"angularaxis\":{\"gridcolor\":\"white\",\"linecolor\":\"white\",\"ticks\":\"\"},\"bgcolor\":\"#E5ECF6\",\"radialaxis\":{\"gridcolor\":\"white\",\"linecolor\":\"white\",\"ticks\":\"\"}},\"scene\":{\"xaxis\":{\"backgroundcolor\":\"#E5ECF6\",\"gridcolor\":\"white\",\"gridwidth\":2,\"linecolor\":\"white\",\"showbackground\":true,\"ticks\":\"\",\"zerolinecolor\":\"white\"},\"yaxis\":{\"backgroundcolor\":\"#E5ECF6\",\"gridcolor\":\"white\",\"gridwidth\":2,\"linecolor\":\"white\",\"showbackground\":true,\"ticks\":\"\",\"zerolinecolor\":\"white\"},\"zaxis\":{\"backgroundcolor\":\"#E5ECF6\",\"gridcolor\":\"white\",\"gridwidth\":2,\"linecolor\":\"white\",\"showbackground\":true,\"ticks\":\"\",\"zerolinecolor\":\"white\"}},\"shapedefaults\":{\"line\":{\"color\":\"#2a3f5f\"}},\"ternary\":{\"aaxis\":{\"gridcolor\":\"white\",\"linecolor\":\"white\",\"ticks\":\"\"},\"baxis\":{\"gridcolor\":\"white\",\"linecolor\":\"white\",\"ticks\":\"\"},\"bgcolor\":\"#E5ECF6\",\"caxis\":{\"gridcolor\":\"white\",\"linecolor\":\"white\",\"ticks\":\"\"}},\"title\":{\"x\":0.05},\"xaxis\":{\"automargin\":true,\"gridcolor\":\"white\",\"linecolor\":\"white\",\"ticks\":\"\",\"title\":{\"standoff\":15},\"zerolinecolor\":\"white\",\"zerolinewidth\":2},\"yaxis\":{\"automargin\":true,\"gridcolor\":\"white\",\"linecolor\":\"white\",\"ticks\":\"\",\"title\":{\"standoff\":15},\"zerolinecolor\":\"white\",\"zerolinewidth\":2}}},\"title\":{\"font\":{\"color\":\"#4D5663\"}},\"xaxis\":{\"gridcolor\":\"#E1E5ED\",\"showgrid\":true,\"tickfont\":{\"color\":\"#4D5663\"},\"title\":{\"font\":{\"color\":\"#4D5663\"},\"text\":\"\"},\"zerolinecolor\":\"#E1E5ED\"},\"yaxis\":{\"gridcolor\":\"#E1E5ED\",\"showgrid\":true,\"tickfont\":{\"color\":\"#4D5663\"},\"title\":{\"font\":{\"color\":\"#4D5663\"},\"text\":\"\"},\"zerolinecolor\":\"#E1E5ED\"}},                        {\"showLink\": true, \"linkText\": \"Export to plot.ly\", \"plotlyServerURL\": \"https://plot.ly\", \"responsive\": true}                    ).then(function(){\n",
       "                            \n",
       "var gd = document.getElementById('6ddf93bd-b57b-4f94-bccc-fd9d6ba85aac');\n",
       "var x = new MutationObserver(function (mutations, observer) {{\n",
       "        var display = window.getComputedStyle(gd).display;\n",
       "        if (!display || display === 'none') {{\n",
       "            console.log([gd, 'removed!']);\n",
       "            Plotly.purge(gd);\n",
       "            observer.disconnect();\n",
       "        }}\n",
       "}});\n",
       "\n",
       "// Listen for the removal of the full notebook cells\n",
       "var notebookContainer = gd.closest('#notebook-container');\n",
       "if (notebookContainer) {{\n",
       "    x.observe(notebookContainer, {childList: true});\n",
       "}}\n",
       "\n",
       "// Listen for the clearing of the current output cell\n",
       "var outputEl = gd.closest('.output');\n",
       "if (outputEl) {{\n",
       "    x.observe(outputEl, {childList: true});\n",
       "}}\n",
       "\n",
       "                        })                };                });            </script>        </div>"
      ]
     },
     "metadata": {},
     "output_type": "display_data"
    }
   ],
   "source": [
    "df3.iplot(kind='surface')"
   ]
  },
  {
   "cell_type": "code",
   "execution_count": 17,
   "metadata": {},
   "outputs": [],
   "source": [
    "df4=pd.DataFrame({'x':[1,2,3,4,5,6,7],'y':[12,23,15,35,6,26,52], 'z':[7,6,5,4,3,2,1]})"
   ]
  },
  {
   "cell_type": "code",
   "execution_count": 18,
   "metadata": {},
   "outputs": [
    {
     "data": {
      "application/vnd.plotly.v1+json": {
       "config": {
        "linkText": "Export to plot.ly",
        "plotlyServerURL": "https://plot.ly",
        "showLink": true
       },
       "data": [
        {
         "colorscale": [
          [
           0,
           "rgb(226, 74, 51)"
          ],
          [
           0.16666666666666666,
           "rgb(62, 111, 176)"
          ],
          [
           0.3333333333333333,
           "rgb(132, 118, 202)"
          ],
          [
           0.5,
           "rgb(101, 101, 101)"
          ],
          [
           0.6666666666666666,
           "rgb(251, 193, 94)"
          ],
          [
           0.8333333333333334,
           "rgb(142, 186, 66)"
          ],
          [
           1,
           "rgb(255, 181, 184)"
          ]
         ],
         "type": "surface",
         "x": [
          0,
          1,
          2,
          3,
          4,
          5,
          6
         ],
         "y": [
          "x",
          "y",
          "z"
         ],
         "z": [
          [
           1,
           2,
           3,
           4,
           5,
           6,
           7
          ],
          [
           12,
           23,
           15,
           35,
           6,
           26,
           52
          ],
          [
           7,
           6,
           5,
           4,
           3,
           2,
           1
          ]
         ]
        }
       ],
       "layout": {
        "legend": {
         "bgcolor": "#F5F6F9",
         "font": {
          "color": "#4D5663"
         }
        },
        "paper_bgcolor": "#F5F6F9",
        "plot_bgcolor": "#F5F6F9",
        "template": {
         "data": {
          "bar": [
           {
            "error_x": {
             "color": "#2a3f5f"
            },
            "error_y": {
             "color": "#2a3f5f"
            },
            "marker": {
             "line": {
              "color": "#E5ECF6",
              "width": 0.5
             },
             "pattern": {
              "fillmode": "overlay",
              "size": 10,
              "solidity": 0.2
             }
            },
            "type": "bar"
           }
          ],
          "barpolar": [
           {
            "marker": {
             "line": {
              "color": "#E5ECF6",
              "width": 0.5
             },
             "pattern": {
              "fillmode": "overlay",
              "size": 10,
              "solidity": 0.2
             }
            },
            "type": "barpolar"
           }
          ],
          "carpet": [
           {
            "aaxis": {
             "endlinecolor": "#2a3f5f",
             "gridcolor": "white",
             "linecolor": "white",
             "minorgridcolor": "white",
             "startlinecolor": "#2a3f5f"
            },
            "baxis": {
             "endlinecolor": "#2a3f5f",
             "gridcolor": "white",
             "linecolor": "white",
             "minorgridcolor": "white",
             "startlinecolor": "#2a3f5f"
            },
            "type": "carpet"
           }
          ],
          "choropleth": [
           {
            "colorbar": {
             "outlinewidth": 0,
             "ticks": ""
            },
            "type": "choropleth"
           }
          ],
          "contour": [
           {
            "colorbar": {
             "outlinewidth": 0,
             "ticks": ""
            },
            "colorscale": [
             [
              0,
              "#0d0887"
             ],
             [
              0.1111111111111111,
              "#46039f"
             ],
             [
              0.2222222222222222,
              "#7201a8"
             ],
             [
              0.3333333333333333,
              "#9c179e"
             ],
             [
              0.4444444444444444,
              "#bd3786"
             ],
             [
              0.5555555555555556,
              "#d8576b"
             ],
             [
              0.6666666666666666,
              "#ed7953"
             ],
             [
              0.7777777777777778,
              "#fb9f3a"
             ],
             [
              0.8888888888888888,
              "#fdca26"
             ],
             [
              1,
              "#f0f921"
             ]
            ],
            "type": "contour"
           }
          ],
          "contourcarpet": [
           {
            "colorbar": {
             "outlinewidth": 0,
             "ticks": ""
            },
            "type": "contourcarpet"
           }
          ],
          "heatmap": [
           {
            "colorbar": {
             "outlinewidth": 0,
             "ticks": ""
            },
            "colorscale": [
             [
              0,
              "#0d0887"
             ],
             [
              0.1111111111111111,
              "#46039f"
             ],
             [
              0.2222222222222222,
              "#7201a8"
             ],
             [
              0.3333333333333333,
              "#9c179e"
             ],
             [
              0.4444444444444444,
              "#bd3786"
             ],
             [
              0.5555555555555556,
              "#d8576b"
             ],
             [
              0.6666666666666666,
              "#ed7953"
             ],
             [
              0.7777777777777778,
              "#fb9f3a"
             ],
             [
              0.8888888888888888,
              "#fdca26"
             ],
             [
              1,
              "#f0f921"
             ]
            ],
            "type": "heatmap"
           }
          ],
          "heatmapgl": [
           {
            "colorbar": {
             "outlinewidth": 0,
             "ticks": ""
            },
            "colorscale": [
             [
              0,
              "#0d0887"
             ],
             [
              0.1111111111111111,
              "#46039f"
             ],
             [
              0.2222222222222222,
              "#7201a8"
             ],
             [
              0.3333333333333333,
              "#9c179e"
             ],
             [
              0.4444444444444444,
              "#bd3786"
             ],
             [
              0.5555555555555556,
              "#d8576b"
             ],
             [
              0.6666666666666666,
              "#ed7953"
             ],
             [
              0.7777777777777778,
              "#fb9f3a"
             ],
             [
              0.8888888888888888,
              "#fdca26"
             ],
             [
              1,
              "#f0f921"
             ]
            ],
            "type": "heatmapgl"
           }
          ],
          "histogram": [
           {
            "marker": {
             "pattern": {
              "fillmode": "overlay",
              "size": 10,
              "solidity": 0.2
             }
            },
            "type": "histogram"
           }
          ],
          "histogram2d": [
           {
            "colorbar": {
             "outlinewidth": 0,
             "ticks": ""
            },
            "colorscale": [
             [
              0,
              "#0d0887"
             ],
             [
              0.1111111111111111,
              "#46039f"
             ],
             [
              0.2222222222222222,
              "#7201a8"
             ],
             [
              0.3333333333333333,
              "#9c179e"
             ],
             [
              0.4444444444444444,
              "#bd3786"
             ],
             [
              0.5555555555555556,
              "#d8576b"
             ],
             [
              0.6666666666666666,
              "#ed7953"
             ],
             [
              0.7777777777777778,
              "#fb9f3a"
             ],
             [
              0.8888888888888888,
              "#fdca26"
             ],
             [
              1,
              "#f0f921"
             ]
            ],
            "type": "histogram2d"
           }
          ],
          "histogram2dcontour": [
           {
            "colorbar": {
             "outlinewidth": 0,
             "ticks": ""
            },
            "colorscale": [
             [
              0,
              "#0d0887"
             ],
             [
              0.1111111111111111,
              "#46039f"
             ],
             [
              0.2222222222222222,
              "#7201a8"
             ],
             [
              0.3333333333333333,
              "#9c179e"
             ],
             [
              0.4444444444444444,
              "#bd3786"
             ],
             [
              0.5555555555555556,
              "#d8576b"
             ],
             [
              0.6666666666666666,
              "#ed7953"
             ],
             [
              0.7777777777777778,
              "#fb9f3a"
             ],
             [
              0.8888888888888888,
              "#fdca26"
             ],
             [
              1,
              "#f0f921"
             ]
            ],
            "type": "histogram2dcontour"
           }
          ],
          "mesh3d": [
           {
            "colorbar": {
             "outlinewidth": 0,
             "ticks": ""
            },
            "type": "mesh3d"
           }
          ],
          "parcoords": [
           {
            "line": {
             "colorbar": {
              "outlinewidth": 0,
              "ticks": ""
             }
            },
            "type": "parcoords"
           }
          ],
          "pie": [
           {
            "automargin": true,
            "type": "pie"
           }
          ],
          "scatter": [
           {
            "fillpattern": {
             "fillmode": "overlay",
             "size": 10,
             "solidity": 0.2
            },
            "type": "scatter"
           }
          ],
          "scatter3d": [
           {
            "line": {
             "colorbar": {
              "outlinewidth": 0,
              "ticks": ""
             }
            },
            "marker": {
             "colorbar": {
              "outlinewidth": 0,
              "ticks": ""
             }
            },
            "type": "scatter3d"
           }
          ],
          "scattercarpet": [
           {
            "marker": {
             "colorbar": {
              "outlinewidth": 0,
              "ticks": ""
             }
            },
            "type": "scattercarpet"
           }
          ],
          "scattergeo": [
           {
            "marker": {
             "colorbar": {
              "outlinewidth": 0,
              "ticks": ""
             }
            },
            "type": "scattergeo"
           }
          ],
          "scattergl": [
           {
            "marker": {
             "colorbar": {
              "outlinewidth": 0,
              "ticks": ""
             }
            },
            "type": "scattergl"
           }
          ],
          "scattermapbox": [
           {
            "marker": {
             "colorbar": {
              "outlinewidth": 0,
              "ticks": ""
             }
            },
            "type": "scattermapbox"
           }
          ],
          "scatterpolar": [
           {
            "marker": {
             "colorbar": {
              "outlinewidth": 0,
              "ticks": ""
             }
            },
            "type": "scatterpolar"
           }
          ],
          "scatterpolargl": [
           {
            "marker": {
             "colorbar": {
              "outlinewidth": 0,
              "ticks": ""
             }
            },
            "type": "scatterpolargl"
           }
          ],
          "scatterternary": [
           {
            "marker": {
             "colorbar": {
              "outlinewidth": 0,
              "ticks": ""
             }
            },
            "type": "scatterternary"
           }
          ],
          "surface": [
           {
            "colorbar": {
             "outlinewidth": 0,
             "ticks": ""
            },
            "colorscale": [
             [
              0,
              "#0d0887"
             ],
             [
              0.1111111111111111,
              "#46039f"
             ],
             [
              0.2222222222222222,
              "#7201a8"
             ],
             [
              0.3333333333333333,
              "#9c179e"
             ],
             [
              0.4444444444444444,
              "#bd3786"
             ],
             [
              0.5555555555555556,
              "#d8576b"
             ],
             [
              0.6666666666666666,
              "#ed7953"
             ],
             [
              0.7777777777777778,
              "#fb9f3a"
             ],
             [
              0.8888888888888888,
              "#fdca26"
             ],
             [
              1,
              "#f0f921"
             ]
            ],
            "type": "surface"
           }
          ],
          "table": [
           {
            "cells": {
             "fill": {
              "color": "#EBF0F8"
             },
             "line": {
              "color": "white"
             }
            },
            "header": {
             "fill": {
              "color": "#C8D4E3"
             },
             "line": {
              "color": "white"
             }
            },
            "type": "table"
           }
          ]
         },
         "layout": {
          "annotationdefaults": {
           "arrowcolor": "#2a3f5f",
           "arrowhead": 0,
           "arrowwidth": 1
          },
          "autotypenumbers": "strict",
          "coloraxis": {
           "colorbar": {
            "outlinewidth": 0,
            "ticks": ""
           }
          },
          "colorscale": {
           "diverging": [
            [
             0,
             "#8e0152"
            ],
            [
             0.1,
             "#c51b7d"
            ],
            [
             0.2,
             "#de77ae"
            ],
            [
             0.3,
             "#f1b6da"
            ],
            [
             0.4,
             "#fde0ef"
            ],
            [
             0.5,
             "#f7f7f7"
            ],
            [
             0.6,
             "#e6f5d0"
            ],
            [
             0.7,
             "#b8e186"
            ],
            [
             0.8,
             "#7fbc41"
            ],
            [
             0.9,
             "#4d9221"
            ],
            [
             1,
             "#276419"
            ]
           ],
           "sequential": [
            [
             0,
             "#0d0887"
            ],
            [
             0.1111111111111111,
             "#46039f"
            ],
            [
             0.2222222222222222,
             "#7201a8"
            ],
            [
             0.3333333333333333,
             "#9c179e"
            ],
            [
             0.4444444444444444,
             "#bd3786"
            ],
            [
             0.5555555555555556,
             "#d8576b"
            ],
            [
             0.6666666666666666,
             "#ed7953"
            ],
            [
             0.7777777777777778,
             "#fb9f3a"
            ],
            [
             0.8888888888888888,
             "#fdca26"
            ],
            [
             1,
             "#f0f921"
            ]
           ],
           "sequentialminus": [
            [
             0,
             "#0d0887"
            ],
            [
             0.1111111111111111,
             "#46039f"
            ],
            [
             0.2222222222222222,
             "#7201a8"
            ],
            [
             0.3333333333333333,
             "#9c179e"
            ],
            [
             0.4444444444444444,
             "#bd3786"
            ],
            [
             0.5555555555555556,
             "#d8576b"
            ],
            [
             0.6666666666666666,
             "#ed7953"
            ],
            [
             0.7777777777777778,
             "#fb9f3a"
            ],
            [
             0.8888888888888888,
             "#fdca26"
            ],
            [
             1,
             "#f0f921"
            ]
           ]
          },
          "colorway": [
           "#636efa",
           "#EF553B",
           "#00cc96",
           "#ab63fa",
           "#FFA15A",
           "#19d3f3",
           "#FF6692",
           "#B6E880",
           "#FF97FF",
           "#FECB52"
          ],
          "font": {
           "color": "#2a3f5f"
          },
          "geo": {
           "bgcolor": "white",
           "lakecolor": "white",
           "landcolor": "#E5ECF6",
           "showlakes": true,
           "showland": true,
           "subunitcolor": "white"
          },
          "hoverlabel": {
           "align": "left"
          },
          "hovermode": "closest",
          "mapbox": {
           "style": "light"
          },
          "paper_bgcolor": "white",
          "plot_bgcolor": "#E5ECF6",
          "polar": {
           "angularaxis": {
            "gridcolor": "white",
            "linecolor": "white",
            "ticks": ""
           },
           "bgcolor": "#E5ECF6",
           "radialaxis": {
            "gridcolor": "white",
            "linecolor": "white",
            "ticks": ""
           }
          },
          "scene": {
           "xaxis": {
            "backgroundcolor": "#E5ECF6",
            "gridcolor": "white",
            "gridwidth": 2,
            "linecolor": "white",
            "showbackground": true,
            "ticks": "",
            "zerolinecolor": "white"
           },
           "yaxis": {
            "backgroundcolor": "#E5ECF6",
            "gridcolor": "white",
            "gridwidth": 2,
            "linecolor": "white",
            "showbackground": true,
            "ticks": "",
            "zerolinecolor": "white"
           },
           "zaxis": {
            "backgroundcolor": "#E5ECF6",
            "gridcolor": "white",
            "gridwidth": 2,
            "linecolor": "white",
            "showbackground": true,
            "ticks": "",
            "zerolinecolor": "white"
           }
          },
          "shapedefaults": {
           "line": {
            "color": "#2a3f5f"
           }
          },
          "ternary": {
           "aaxis": {
            "gridcolor": "white",
            "linecolor": "white",
            "ticks": ""
           },
           "baxis": {
            "gridcolor": "white",
            "linecolor": "white",
            "ticks": ""
           },
           "bgcolor": "#E5ECF6",
           "caxis": {
            "gridcolor": "white",
            "linecolor": "white",
            "ticks": ""
           }
          },
          "title": {
           "x": 0.05
          },
          "xaxis": {
           "automargin": true,
           "gridcolor": "white",
           "linecolor": "white",
           "ticks": "",
           "title": {
            "standoff": 15
           },
           "zerolinecolor": "white",
           "zerolinewidth": 2
          },
          "yaxis": {
           "automargin": true,
           "gridcolor": "white",
           "linecolor": "white",
           "ticks": "",
           "title": {
            "standoff": 15
           },
           "zerolinecolor": "white",
           "zerolinewidth": 2
          }
         }
        },
        "title": {
         "font": {
          "color": "#4D5663"
         }
        },
        "xaxis": {
         "gridcolor": "#E1E5ED",
         "showgrid": true,
         "tickfont": {
          "color": "#4D5663"
         },
         "title": {
          "font": {
           "color": "#4D5663"
          },
          "text": ""
         },
         "zerolinecolor": "#E1E5ED"
        },
        "yaxis": {
         "gridcolor": "#E1E5ED",
         "showgrid": true,
         "tickfont": {
          "color": "#4D5663"
         },
         "title": {
          "font": {
           "color": "#4D5663"
          },
          "text": ""
         },
         "zerolinecolor": "#E1E5ED"
        }
       }
      },
      "text/html": [
       "<div>                            <div id=\"54b3287e-1f88-453b-b683-aa53940a344c\" class=\"plotly-graph-div\" style=\"height:525px; width:100%;\"></div>            <script type=\"text/javascript\">                require([\"plotly\"], function(Plotly) {                    window.PLOTLYENV=window.PLOTLYENV || {};\n",
       "                    window.PLOTLYENV.BASE_URL='https://plot.ly';                                    if (document.getElementById(\"54b3287e-1f88-453b-b683-aa53940a344c\")) {                    Plotly.newPlot(                        \"54b3287e-1f88-453b-b683-aa53940a344c\",                        [{\"colorscale\":[[0.0,\"rgb(226, 74, 51)\"],[0.16666666666666666,\"rgb(62, 111, 176)\"],[0.3333333333333333,\"rgb(132, 118, 202)\"],[0.5,\"rgb(101, 101, 101)\"],[0.6666666666666666,\"rgb(251, 193, 94)\"],[0.8333333333333334,\"rgb(142, 186, 66)\"],[1.0,\"rgb(255, 181, 184)\"]],\"x\":[0,1,2,3,4,5,6],\"y\":[\"x\",\"y\",\"z\"],\"z\":[[1,2,3,4,5,6,7],[12,23,15,35,6,26,52],[7,6,5,4,3,2,1]],\"type\":\"surface\"}],                        {\"legend\":{\"bgcolor\":\"#F5F6F9\",\"font\":{\"color\":\"#4D5663\"}},\"paper_bgcolor\":\"#F5F6F9\",\"plot_bgcolor\":\"#F5F6F9\",\"template\":{\"data\":{\"barpolar\":[{\"marker\":{\"line\":{\"color\":\"#E5ECF6\",\"width\":0.5},\"pattern\":{\"fillmode\":\"overlay\",\"size\":10,\"solidity\":0.2}},\"type\":\"barpolar\"}],\"bar\":[{\"error_x\":{\"color\":\"#2a3f5f\"},\"error_y\":{\"color\":\"#2a3f5f\"},\"marker\":{\"line\":{\"color\":\"#E5ECF6\",\"width\":0.5},\"pattern\":{\"fillmode\":\"overlay\",\"size\":10,\"solidity\":0.2}},\"type\":\"bar\"}],\"carpet\":[{\"aaxis\":{\"endlinecolor\":\"#2a3f5f\",\"gridcolor\":\"white\",\"linecolor\":\"white\",\"minorgridcolor\":\"white\",\"startlinecolor\":\"#2a3f5f\"},\"baxis\":{\"endlinecolor\":\"#2a3f5f\",\"gridcolor\":\"white\",\"linecolor\":\"white\",\"minorgridcolor\":\"white\",\"startlinecolor\":\"#2a3f5f\"},\"type\":\"carpet\"}],\"choropleth\":[{\"colorbar\":{\"outlinewidth\":0,\"ticks\":\"\"},\"type\":\"choropleth\"}],\"contourcarpet\":[{\"colorbar\":{\"outlinewidth\":0,\"ticks\":\"\"},\"type\":\"contourcarpet\"}],\"contour\":[{\"colorbar\":{\"outlinewidth\":0,\"ticks\":\"\"},\"colorscale\":[[0.0,\"#0d0887\"],[0.1111111111111111,\"#46039f\"],[0.2222222222222222,\"#7201a8\"],[0.3333333333333333,\"#9c179e\"],[0.4444444444444444,\"#bd3786\"],[0.5555555555555556,\"#d8576b\"],[0.6666666666666666,\"#ed7953\"],[0.7777777777777778,\"#fb9f3a\"],[0.8888888888888888,\"#fdca26\"],[1.0,\"#f0f921\"]],\"type\":\"contour\"}],\"heatmapgl\":[{\"colorbar\":{\"outlinewidth\":0,\"ticks\":\"\"},\"colorscale\":[[0.0,\"#0d0887\"],[0.1111111111111111,\"#46039f\"],[0.2222222222222222,\"#7201a8\"],[0.3333333333333333,\"#9c179e\"],[0.4444444444444444,\"#bd3786\"],[0.5555555555555556,\"#d8576b\"],[0.6666666666666666,\"#ed7953\"],[0.7777777777777778,\"#fb9f3a\"],[0.8888888888888888,\"#fdca26\"],[1.0,\"#f0f921\"]],\"type\":\"heatmapgl\"}],\"heatmap\":[{\"colorbar\":{\"outlinewidth\":0,\"ticks\":\"\"},\"colorscale\":[[0.0,\"#0d0887\"],[0.1111111111111111,\"#46039f\"],[0.2222222222222222,\"#7201a8\"],[0.3333333333333333,\"#9c179e\"],[0.4444444444444444,\"#bd3786\"],[0.5555555555555556,\"#d8576b\"],[0.6666666666666666,\"#ed7953\"],[0.7777777777777778,\"#fb9f3a\"],[0.8888888888888888,\"#fdca26\"],[1.0,\"#f0f921\"]],\"type\":\"heatmap\"}],\"histogram2dcontour\":[{\"colorbar\":{\"outlinewidth\":0,\"ticks\":\"\"},\"colorscale\":[[0.0,\"#0d0887\"],[0.1111111111111111,\"#46039f\"],[0.2222222222222222,\"#7201a8\"],[0.3333333333333333,\"#9c179e\"],[0.4444444444444444,\"#bd3786\"],[0.5555555555555556,\"#d8576b\"],[0.6666666666666666,\"#ed7953\"],[0.7777777777777778,\"#fb9f3a\"],[0.8888888888888888,\"#fdca26\"],[1.0,\"#f0f921\"]],\"type\":\"histogram2dcontour\"}],\"histogram2d\":[{\"colorbar\":{\"outlinewidth\":0,\"ticks\":\"\"},\"colorscale\":[[0.0,\"#0d0887\"],[0.1111111111111111,\"#46039f\"],[0.2222222222222222,\"#7201a8\"],[0.3333333333333333,\"#9c179e\"],[0.4444444444444444,\"#bd3786\"],[0.5555555555555556,\"#d8576b\"],[0.6666666666666666,\"#ed7953\"],[0.7777777777777778,\"#fb9f3a\"],[0.8888888888888888,\"#fdca26\"],[1.0,\"#f0f921\"]],\"type\":\"histogram2d\"}],\"histogram\":[{\"marker\":{\"pattern\":{\"fillmode\":\"overlay\",\"size\":10,\"solidity\":0.2}},\"type\":\"histogram\"}],\"mesh3d\":[{\"colorbar\":{\"outlinewidth\":0,\"ticks\":\"\"},\"type\":\"mesh3d\"}],\"parcoords\":[{\"line\":{\"colorbar\":{\"outlinewidth\":0,\"ticks\":\"\"}},\"type\":\"parcoords\"}],\"pie\":[{\"automargin\":true,\"type\":\"pie\"}],\"scatter3d\":[{\"line\":{\"colorbar\":{\"outlinewidth\":0,\"ticks\":\"\"}},\"marker\":{\"colorbar\":{\"outlinewidth\":0,\"ticks\":\"\"}},\"type\":\"scatter3d\"}],\"scattercarpet\":[{\"marker\":{\"colorbar\":{\"outlinewidth\":0,\"ticks\":\"\"}},\"type\":\"scattercarpet\"}],\"scattergeo\":[{\"marker\":{\"colorbar\":{\"outlinewidth\":0,\"ticks\":\"\"}},\"type\":\"scattergeo\"}],\"scattergl\":[{\"marker\":{\"colorbar\":{\"outlinewidth\":0,\"ticks\":\"\"}},\"type\":\"scattergl\"}],\"scattermapbox\":[{\"marker\":{\"colorbar\":{\"outlinewidth\":0,\"ticks\":\"\"}},\"type\":\"scattermapbox\"}],\"scatterpolargl\":[{\"marker\":{\"colorbar\":{\"outlinewidth\":0,\"ticks\":\"\"}},\"type\":\"scatterpolargl\"}],\"scatterpolar\":[{\"marker\":{\"colorbar\":{\"outlinewidth\":0,\"ticks\":\"\"}},\"type\":\"scatterpolar\"}],\"scatter\":[{\"fillpattern\":{\"fillmode\":\"overlay\",\"size\":10,\"solidity\":0.2},\"type\":\"scatter\"}],\"scatterternary\":[{\"marker\":{\"colorbar\":{\"outlinewidth\":0,\"ticks\":\"\"}},\"type\":\"scatterternary\"}],\"surface\":[{\"colorbar\":{\"outlinewidth\":0,\"ticks\":\"\"},\"colorscale\":[[0.0,\"#0d0887\"],[0.1111111111111111,\"#46039f\"],[0.2222222222222222,\"#7201a8\"],[0.3333333333333333,\"#9c179e\"],[0.4444444444444444,\"#bd3786\"],[0.5555555555555556,\"#d8576b\"],[0.6666666666666666,\"#ed7953\"],[0.7777777777777778,\"#fb9f3a\"],[0.8888888888888888,\"#fdca26\"],[1.0,\"#f0f921\"]],\"type\":\"surface\"}],\"table\":[{\"cells\":{\"fill\":{\"color\":\"#EBF0F8\"},\"line\":{\"color\":\"white\"}},\"header\":{\"fill\":{\"color\":\"#C8D4E3\"},\"line\":{\"color\":\"white\"}},\"type\":\"table\"}]},\"layout\":{\"annotationdefaults\":{\"arrowcolor\":\"#2a3f5f\",\"arrowhead\":0,\"arrowwidth\":1},\"autotypenumbers\":\"strict\",\"coloraxis\":{\"colorbar\":{\"outlinewidth\":0,\"ticks\":\"\"}},\"colorscale\":{\"diverging\":[[0,\"#8e0152\"],[0.1,\"#c51b7d\"],[0.2,\"#de77ae\"],[0.3,\"#f1b6da\"],[0.4,\"#fde0ef\"],[0.5,\"#f7f7f7\"],[0.6,\"#e6f5d0\"],[0.7,\"#b8e186\"],[0.8,\"#7fbc41\"],[0.9,\"#4d9221\"],[1,\"#276419\"]],\"sequential\":[[0.0,\"#0d0887\"],[0.1111111111111111,\"#46039f\"],[0.2222222222222222,\"#7201a8\"],[0.3333333333333333,\"#9c179e\"],[0.4444444444444444,\"#bd3786\"],[0.5555555555555556,\"#d8576b\"],[0.6666666666666666,\"#ed7953\"],[0.7777777777777778,\"#fb9f3a\"],[0.8888888888888888,\"#fdca26\"],[1.0,\"#f0f921\"]],\"sequentialminus\":[[0.0,\"#0d0887\"],[0.1111111111111111,\"#46039f\"],[0.2222222222222222,\"#7201a8\"],[0.3333333333333333,\"#9c179e\"],[0.4444444444444444,\"#bd3786\"],[0.5555555555555556,\"#d8576b\"],[0.6666666666666666,\"#ed7953\"],[0.7777777777777778,\"#fb9f3a\"],[0.8888888888888888,\"#fdca26\"],[1.0,\"#f0f921\"]]},\"colorway\":[\"#636efa\",\"#EF553B\",\"#00cc96\",\"#ab63fa\",\"#FFA15A\",\"#19d3f3\",\"#FF6692\",\"#B6E880\",\"#FF97FF\",\"#FECB52\"],\"font\":{\"color\":\"#2a3f5f\"},\"geo\":{\"bgcolor\":\"white\",\"lakecolor\":\"white\",\"landcolor\":\"#E5ECF6\",\"showlakes\":true,\"showland\":true,\"subunitcolor\":\"white\"},\"hoverlabel\":{\"align\":\"left\"},\"hovermode\":\"closest\",\"mapbox\":{\"style\":\"light\"},\"paper_bgcolor\":\"white\",\"plot_bgcolor\":\"#E5ECF6\",\"polar\":{\"angularaxis\":{\"gridcolor\":\"white\",\"linecolor\":\"white\",\"ticks\":\"\"},\"bgcolor\":\"#E5ECF6\",\"radialaxis\":{\"gridcolor\":\"white\",\"linecolor\":\"white\",\"ticks\":\"\"}},\"scene\":{\"xaxis\":{\"backgroundcolor\":\"#E5ECF6\",\"gridcolor\":\"white\",\"gridwidth\":2,\"linecolor\":\"white\",\"showbackground\":true,\"ticks\":\"\",\"zerolinecolor\":\"white\"},\"yaxis\":{\"backgroundcolor\":\"#E5ECF6\",\"gridcolor\":\"white\",\"gridwidth\":2,\"linecolor\":\"white\",\"showbackground\":true,\"ticks\":\"\",\"zerolinecolor\":\"white\"},\"zaxis\":{\"backgroundcolor\":\"#E5ECF6\",\"gridcolor\":\"white\",\"gridwidth\":2,\"linecolor\":\"white\",\"showbackground\":true,\"ticks\":\"\",\"zerolinecolor\":\"white\"}},\"shapedefaults\":{\"line\":{\"color\":\"#2a3f5f\"}},\"ternary\":{\"aaxis\":{\"gridcolor\":\"white\",\"linecolor\":\"white\",\"ticks\":\"\"},\"baxis\":{\"gridcolor\":\"white\",\"linecolor\":\"white\",\"ticks\":\"\"},\"bgcolor\":\"#E5ECF6\",\"caxis\":{\"gridcolor\":\"white\",\"linecolor\":\"white\",\"ticks\":\"\"}},\"title\":{\"x\":0.05},\"xaxis\":{\"automargin\":true,\"gridcolor\":\"white\",\"linecolor\":\"white\",\"ticks\":\"\",\"title\":{\"standoff\":15},\"zerolinecolor\":\"white\",\"zerolinewidth\":2},\"yaxis\":{\"automargin\":true,\"gridcolor\":\"white\",\"linecolor\":\"white\",\"ticks\":\"\",\"title\":{\"standoff\":15},\"zerolinecolor\":\"white\",\"zerolinewidth\":2}}},\"title\":{\"font\":{\"color\":\"#4D5663\"}},\"xaxis\":{\"gridcolor\":\"#E1E5ED\",\"showgrid\":true,\"tickfont\":{\"color\":\"#4D5663\"},\"title\":{\"font\":{\"color\":\"#4D5663\"},\"text\":\"\"},\"zerolinecolor\":\"#E1E5ED\"},\"yaxis\":{\"gridcolor\":\"#E1E5ED\",\"showgrid\":true,\"tickfont\":{\"color\":\"#4D5663\"},\"title\":{\"font\":{\"color\":\"#4D5663\"},\"text\":\"\"},\"zerolinecolor\":\"#E1E5ED\"}},                        {\"showLink\": true, \"linkText\": \"Export to plot.ly\", \"plotlyServerURL\": \"https://plot.ly\", \"responsive\": true}                    ).then(function(){\n",
       "                            \n",
       "var gd = document.getElementById('54b3287e-1f88-453b-b683-aa53940a344c');\n",
       "var x = new MutationObserver(function (mutations, observer) {{\n",
       "        var display = window.getComputedStyle(gd).display;\n",
       "        if (!display || display === 'none') {{\n",
       "            console.log([gd, 'removed!']);\n",
       "            Plotly.purge(gd);\n",
       "            observer.disconnect();\n",
       "        }}\n",
       "}});\n",
       "\n",
       "// Listen for the removal of the full notebook cells\n",
       "var notebookContainer = gd.closest('#notebook-container');\n",
       "if (notebookContainer) {{\n",
       "    x.observe(notebookContainer, {childList: true});\n",
       "}}\n",
       "\n",
       "// Listen for the clearing of the current output cell\n",
       "var outputEl = gd.closest('.output');\n",
       "if (outputEl) {{\n",
       "    x.observe(outputEl, {childList: true});\n",
       "}}\n",
       "\n",
       "                        })                };                });            </script>        </div>"
      ]
     },
     "metadata": {},
     "output_type": "display_data"
    }
   ],
   "source": [
    "df4.iplot(kind='surface', colorscale='ggplot')"
   ]
  },
  {
   "cell_type": "code",
   "execution_count": 19,
   "metadata": {},
   "outputs": [
    {
     "data": {
      "application/vnd.plotly.v1+json": {
       "config": {
        "linkText": "Export to plot.ly",
        "plotlyServerURL": "https://plot.ly",
        "showLink": true
       },
       "data": [
        {
         "histfunc": "count",
         "histnorm": "",
         "marker": {
          "color": "rgba(255, 153, 51, 1.0)",
          "line": {
           "color": "#4D5663",
           "width": 1.3
          }
         },
         "name": "A",
         "nbinsx": 7,
         "opacity": 0.8,
         "orientation": "v",
         "type": "histogram",
         "x": [
          -0.27164247126346136,
          -1.3257070606440196,
          0.09509138803241492,
          0.5677789260155507,
          -1.7702004827781839,
          0.8192901452031851,
          0.42843016749584817,
          0.48891810080098663,
          -0.13885574098913533,
          -1.6637758910766713,
          -0.687383321981337,
          0.9406647337380462,
          -0.690819839092722,
          1.2806354120967807,
          0.19519500649436486,
          -0.9617059095864561,
          -0.34082321440792496,
          0.40501808153456115,
          1.0256932200321933,
          0.19792777139922432,
          0.4473417964638847,
          -0.746357600971722,
          -0.7463331494444009,
          1.8614426561055353,
          -1.1921824686638272,
          0.33702637966918264,
          -0.019990132981849144,
          -1.0365459781316264,
          -0.9182930313854358,
          1.0514506561892487,
          1.4231033015561043,
          0.9388329560106634,
          -0.6005788533325781,
          -1.5577073542570385,
          0.7729435472995098,
          -0.7886108148794514,
          0.8276169458706734,
          -0.5887982618967834,
          0.6079822371177137,
          1.1815201552359502,
          -0.46765292959066734,
          -1.1747756877337578,
          0.12539506832767486,
          0.8444236630050397,
          0.4837479545939307,
          0.2626615850571374,
          0.25609179616383837,
          -0.34482586724742925,
          -1.0629525341853008,
          0.38530331033560733,
          1.6652564840701058,
          1.017710453432222,
          1.739805462678277,
          0.977218254223707,
          -0.11349498759333462,
          1.9125139328999086,
          -0.07919689362884139,
          0.19237236508550656,
          -1.218178626743223,
          1.5252495234723242,
          0.42515169637007116,
          -0.6917277873885234,
          -1.0914735632955341,
          0.1479495579758345,
          -0.769384799107449,
          -0.959114317069405,
          -0.11512199650222511,
          0.06717010137838174,
          -0.8100531665464591,
          0.7495654025364011,
          0.17261362176212222,
          -1.6122353899625055,
          2.0636152291749204,
          1.3542937788460374,
          0.3971750773103758,
          -1.6066263804550474,
          -0.847567402742816,
          2.2645832278875084,
          -0.04304356003073988,
          -1.3965861940480482,
          1.3607133938541376,
          -2.033089150596266,
          0.4936571407278187,
          -1.2255787715598412,
          -0.48127741316601513,
          3.05599930065596,
          -0.26528530741592665,
          -0.5031144218517964,
          2.0169311706777338,
          0.6137848243893546,
          0.5652221897804888,
          -0.7608485125554416,
          0.15896495846476275,
          -1.1521496906994413,
          -1.303672140570186,
          -0.5163893488317101,
          0.5326431891049507,
          -0.23498564823224072,
          -0.0075292175095747725,
          1.1807221464818747
         ]
        }
       ],
       "layout": {
        "barmode": "overlay",
        "legend": {
         "bgcolor": "#F5F6F9",
         "font": {
          "color": "#4D5663"
         }
        },
        "paper_bgcolor": "#F5F6F9",
        "plot_bgcolor": "#F5F6F9",
        "template": {
         "data": {
          "bar": [
           {
            "error_x": {
             "color": "#2a3f5f"
            },
            "error_y": {
             "color": "#2a3f5f"
            },
            "marker": {
             "line": {
              "color": "#E5ECF6",
              "width": 0.5
             },
             "pattern": {
              "fillmode": "overlay",
              "size": 10,
              "solidity": 0.2
             }
            },
            "type": "bar"
           }
          ],
          "barpolar": [
           {
            "marker": {
             "line": {
              "color": "#E5ECF6",
              "width": 0.5
             },
             "pattern": {
              "fillmode": "overlay",
              "size": 10,
              "solidity": 0.2
             }
            },
            "type": "barpolar"
           }
          ],
          "carpet": [
           {
            "aaxis": {
             "endlinecolor": "#2a3f5f",
             "gridcolor": "white",
             "linecolor": "white",
             "minorgridcolor": "white",
             "startlinecolor": "#2a3f5f"
            },
            "baxis": {
             "endlinecolor": "#2a3f5f",
             "gridcolor": "white",
             "linecolor": "white",
             "minorgridcolor": "white",
             "startlinecolor": "#2a3f5f"
            },
            "type": "carpet"
           }
          ],
          "choropleth": [
           {
            "colorbar": {
             "outlinewidth": 0,
             "ticks": ""
            },
            "type": "choropleth"
           }
          ],
          "contour": [
           {
            "colorbar": {
             "outlinewidth": 0,
             "ticks": ""
            },
            "colorscale": [
             [
              0,
              "#0d0887"
             ],
             [
              0.1111111111111111,
              "#46039f"
             ],
             [
              0.2222222222222222,
              "#7201a8"
             ],
             [
              0.3333333333333333,
              "#9c179e"
             ],
             [
              0.4444444444444444,
              "#bd3786"
             ],
             [
              0.5555555555555556,
              "#d8576b"
             ],
             [
              0.6666666666666666,
              "#ed7953"
             ],
             [
              0.7777777777777778,
              "#fb9f3a"
             ],
             [
              0.8888888888888888,
              "#fdca26"
             ],
             [
              1,
              "#f0f921"
             ]
            ],
            "type": "contour"
           }
          ],
          "contourcarpet": [
           {
            "colorbar": {
             "outlinewidth": 0,
             "ticks": ""
            },
            "type": "contourcarpet"
           }
          ],
          "heatmap": [
           {
            "colorbar": {
             "outlinewidth": 0,
             "ticks": ""
            },
            "colorscale": [
             [
              0,
              "#0d0887"
             ],
             [
              0.1111111111111111,
              "#46039f"
             ],
             [
              0.2222222222222222,
              "#7201a8"
             ],
             [
              0.3333333333333333,
              "#9c179e"
             ],
             [
              0.4444444444444444,
              "#bd3786"
             ],
             [
              0.5555555555555556,
              "#d8576b"
             ],
             [
              0.6666666666666666,
              "#ed7953"
             ],
             [
              0.7777777777777778,
              "#fb9f3a"
             ],
             [
              0.8888888888888888,
              "#fdca26"
             ],
             [
              1,
              "#f0f921"
             ]
            ],
            "type": "heatmap"
           }
          ],
          "heatmapgl": [
           {
            "colorbar": {
             "outlinewidth": 0,
             "ticks": ""
            },
            "colorscale": [
             [
              0,
              "#0d0887"
             ],
             [
              0.1111111111111111,
              "#46039f"
             ],
             [
              0.2222222222222222,
              "#7201a8"
             ],
             [
              0.3333333333333333,
              "#9c179e"
             ],
             [
              0.4444444444444444,
              "#bd3786"
             ],
             [
              0.5555555555555556,
              "#d8576b"
             ],
             [
              0.6666666666666666,
              "#ed7953"
             ],
             [
              0.7777777777777778,
              "#fb9f3a"
             ],
             [
              0.8888888888888888,
              "#fdca26"
             ],
             [
              1,
              "#f0f921"
             ]
            ],
            "type": "heatmapgl"
           }
          ],
          "histogram": [
           {
            "marker": {
             "pattern": {
              "fillmode": "overlay",
              "size": 10,
              "solidity": 0.2
             }
            },
            "type": "histogram"
           }
          ],
          "histogram2d": [
           {
            "colorbar": {
             "outlinewidth": 0,
             "ticks": ""
            },
            "colorscale": [
             [
              0,
              "#0d0887"
             ],
             [
              0.1111111111111111,
              "#46039f"
             ],
             [
              0.2222222222222222,
              "#7201a8"
             ],
             [
              0.3333333333333333,
              "#9c179e"
             ],
             [
              0.4444444444444444,
              "#bd3786"
             ],
             [
              0.5555555555555556,
              "#d8576b"
             ],
             [
              0.6666666666666666,
              "#ed7953"
             ],
             [
              0.7777777777777778,
              "#fb9f3a"
             ],
             [
              0.8888888888888888,
              "#fdca26"
             ],
             [
              1,
              "#f0f921"
             ]
            ],
            "type": "histogram2d"
           }
          ],
          "histogram2dcontour": [
           {
            "colorbar": {
             "outlinewidth": 0,
             "ticks": ""
            },
            "colorscale": [
             [
              0,
              "#0d0887"
             ],
             [
              0.1111111111111111,
              "#46039f"
             ],
             [
              0.2222222222222222,
              "#7201a8"
             ],
             [
              0.3333333333333333,
              "#9c179e"
             ],
             [
              0.4444444444444444,
              "#bd3786"
             ],
             [
              0.5555555555555556,
              "#d8576b"
             ],
             [
              0.6666666666666666,
              "#ed7953"
             ],
             [
              0.7777777777777778,
              "#fb9f3a"
             ],
             [
              0.8888888888888888,
              "#fdca26"
             ],
             [
              1,
              "#f0f921"
             ]
            ],
            "type": "histogram2dcontour"
           }
          ],
          "mesh3d": [
           {
            "colorbar": {
             "outlinewidth": 0,
             "ticks": ""
            },
            "type": "mesh3d"
           }
          ],
          "parcoords": [
           {
            "line": {
             "colorbar": {
              "outlinewidth": 0,
              "ticks": ""
             }
            },
            "type": "parcoords"
           }
          ],
          "pie": [
           {
            "automargin": true,
            "type": "pie"
           }
          ],
          "scatter": [
           {
            "fillpattern": {
             "fillmode": "overlay",
             "size": 10,
             "solidity": 0.2
            },
            "type": "scatter"
           }
          ],
          "scatter3d": [
           {
            "line": {
             "colorbar": {
              "outlinewidth": 0,
              "ticks": ""
             }
            },
            "marker": {
             "colorbar": {
              "outlinewidth": 0,
              "ticks": ""
             }
            },
            "type": "scatter3d"
           }
          ],
          "scattercarpet": [
           {
            "marker": {
             "colorbar": {
              "outlinewidth": 0,
              "ticks": ""
             }
            },
            "type": "scattercarpet"
           }
          ],
          "scattergeo": [
           {
            "marker": {
             "colorbar": {
              "outlinewidth": 0,
              "ticks": ""
             }
            },
            "type": "scattergeo"
           }
          ],
          "scattergl": [
           {
            "marker": {
             "colorbar": {
              "outlinewidth": 0,
              "ticks": ""
             }
            },
            "type": "scattergl"
           }
          ],
          "scattermapbox": [
           {
            "marker": {
             "colorbar": {
              "outlinewidth": 0,
              "ticks": ""
             }
            },
            "type": "scattermapbox"
           }
          ],
          "scatterpolar": [
           {
            "marker": {
             "colorbar": {
              "outlinewidth": 0,
              "ticks": ""
             }
            },
            "type": "scatterpolar"
           }
          ],
          "scatterpolargl": [
           {
            "marker": {
             "colorbar": {
              "outlinewidth": 0,
              "ticks": ""
             }
            },
            "type": "scatterpolargl"
           }
          ],
          "scatterternary": [
           {
            "marker": {
             "colorbar": {
              "outlinewidth": 0,
              "ticks": ""
             }
            },
            "type": "scatterternary"
           }
          ],
          "surface": [
           {
            "colorbar": {
             "outlinewidth": 0,
             "ticks": ""
            },
            "colorscale": [
             [
              0,
              "#0d0887"
             ],
             [
              0.1111111111111111,
              "#46039f"
             ],
             [
              0.2222222222222222,
              "#7201a8"
             ],
             [
              0.3333333333333333,
              "#9c179e"
             ],
             [
              0.4444444444444444,
              "#bd3786"
             ],
             [
              0.5555555555555556,
              "#d8576b"
             ],
             [
              0.6666666666666666,
              "#ed7953"
             ],
             [
              0.7777777777777778,
              "#fb9f3a"
             ],
             [
              0.8888888888888888,
              "#fdca26"
             ],
             [
              1,
              "#f0f921"
             ]
            ],
            "type": "surface"
           }
          ],
          "table": [
           {
            "cells": {
             "fill": {
              "color": "#EBF0F8"
             },
             "line": {
              "color": "white"
             }
            },
            "header": {
             "fill": {
              "color": "#C8D4E3"
             },
             "line": {
              "color": "white"
             }
            },
            "type": "table"
           }
          ]
         },
         "layout": {
          "annotationdefaults": {
           "arrowcolor": "#2a3f5f",
           "arrowhead": 0,
           "arrowwidth": 1
          },
          "autotypenumbers": "strict",
          "coloraxis": {
           "colorbar": {
            "outlinewidth": 0,
            "ticks": ""
           }
          },
          "colorscale": {
           "diverging": [
            [
             0,
             "#8e0152"
            ],
            [
             0.1,
             "#c51b7d"
            ],
            [
             0.2,
             "#de77ae"
            ],
            [
             0.3,
             "#f1b6da"
            ],
            [
             0.4,
             "#fde0ef"
            ],
            [
             0.5,
             "#f7f7f7"
            ],
            [
             0.6,
             "#e6f5d0"
            ],
            [
             0.7,
             "#b8e186"
            ],
            [
             0.8,
             "#7fbc41"
            ],
            [
             0.9,
             "#4d9221"
            ],
            [
             1,
             "#276419"
            ]
           ],
           "sequential": [
            [
             0,
             "#0d0887"
            ],
            [
             0.1111111111111111,
             "#46039f"
            ],
            [
             0.2222222222222222,
             "#7201a8"
            ],
            [
             0.3333333333333333,
             "#9c179e"
            ],
            [
             0.4444444444444444,
             "#bd3786"
            ],
            [
             0.5555555555555556,
             "#d8576b"
            ],
            [
             0.6666666666666666,
             "#ed7953"
            ],
            [
             0.7777777777777778,
             "#fb9f3a"
            ],
            [
             0.8888888888888888,
             "#fdca26"
            ],
            [
             1,
             "#f0f921"
            ]
           ],
           "sequentialminus": [
            [
             0,
             "#0d0887"
            ],
            [
             0.1111111111111111,
             "#46039f"
            ],
            [
             0.2222222222222222,
             "#7201a8"
            ],
            [
             0.3333333333333333,
             "#9c179e"
            ],
            [
             0.4444444444444444,
             "#bd3786"
            ],
            [
             0.5555555555555556,
             "#d8576b"
            ],
            [
             0.6666666666666666,
             "#ed7953"
            ],
            [
             0.7777777777777778,
             "#fb9f3a"
            ],
            [
             0.8888888888888888,
             "#fdca26"
            ],
            [
             1,
             "#f0f921"
            ]
           ]
          },
          "colorway": [
           "#636efa",
           "#EF553B",
           "#00cc96",
           "#ab63fa",
           "#FFA15A",
           "#19d3f3",
           "#FF6692",
           "#B6E880",
           "#FF97FF",
           "#FECB52"
          ],
          "font": {
           "color": "#2a3f5f"
          },
          "geo": {
           "bgcolor": "white",
           "lakecolor": "white",
           "landcolor": "#E5ECF6",
           "showlakes": true,
           "showland": true,
           "subunitcolor": "white"
          },
          "hoverlabel": {
           "align": "left"
          },
          "hovermode": "closest",
          "mapbox": {
           "style": "light"
          },
          "paper_bgcolor": "white",
          "plot_bgcolor": "#E5ECF6",
          "polar": {
           "angularaxis": {
            "gridcolor": "white",
            "linecolor": "white",
            "ticks": ""
           },
           "bgcolor": "#E5ECF6",
           "radialaxis": {
            "gridcolor": "white",
            "linecolor": "white",
            "ticks": ""
           }
          },
          "scene": {
           "xaxis": {
            "backgroundcolor": "#E5ECF6",
            "gridcolor": "white",
            "gridwidth": 2,
            "linecolor": "white",
            "showbackground": true,
            "ticks": "",
            "zerolinecolor": "white"
           },
           "yaxis": {
            "backgroundcolor": "#E5ECF6",
            "gridcolor": "white",
            "gridwidth": 2,
            "linecolor": "white",
            "showbackground": true,
            "ticks": "",
            "zerolinecolor": "white"
           },
           "zaxis": {
            "backgroundcolor": "#E5ECF6",
            "gridcolor": "white",
            "gridwidth": 2,
            "linecolor": "white",
            "showbackground": true,
            "ticks": "",
            "zerolinecolor": "white"
           }
          },
          "shapedefaults": {
           "line": {
            "color": "#2a3f5f"
           }
          },
          "ternary": {
           "aaxis": {
            "gridcolor": "white",
            "linecolor": "white",
            "ticks": ""
           },
           "baxis": {
            "gridcolor": "white",
            "linecolor": "white",
            "ticks": ""
           },
           "bgcolor": "#E5ECF6",
           "caxis": {
            "gridcolor": "white",
            "linecolor": "white",
            "ticks": ""
           }
          },
          "title": {
           "x": 0.05
          },
          "xaxis": {
           "automargin": true,
           "gridcolor": "white",
           "linecolor": "white",
           "ticks": "",
           "title": {
            "standoff": 15
           },
           "zerolinecolor": "white",
           "zerolinewidth": 2
          },
          "yaxis": {
           "automargin": true,
           "gridcolor": "white",
           "linecolor": "white",
           "ticks": "",
           "title": {
            "standoff": 15
           },
           "zerolinecolor": "white",
           "zerolinewidth": 2
          }
         }
        },
        "title": {
         "font": {
          "color": "#4D5663"
         }
        },
        "xaxis": {
         "gridcolor": "#E1E5ED",
         "showgrid": true,
         "tickfont": {
          "color": "#4D5663"
         },
         "title": {
          "font": {
           "color": "#4D5663"
          },
          "text": ""
         },
         "zerolinecolor": "#E1E5ED"
        },
        "yaxis": {
         "gridcolor": "#E1E5ED",
         "showgrid": true,
         "tickfont": {
          "color": "#4D5663"
         },
         "title": {
          "font": {
           "color": "#4D5663"
          },
          "text": ""
         },
         "zerolinecolor": "#E1E5ED"
        }
       }
      },
      "text/html": [
       "<div>                            <div id=\"9f3c4414-e08c-4542-bf6b-07345e317626\" class=\"plotly-graph-div\" style=\"height:525px; width:100%;\"></div>            <script type=\"text/javascript\">                require([\"plotly\"], function(Plotly) {                    window.PLOTLYENV=window.PLOTLYENV || {};\n",
       "                    window.PLOTLYENV.BASE_URL='https://plot.ly';                                    if (document.getElementById(\"9f3c4414-e08c-4542-bf6b-07345e317626\")) {                    Plotly.newPlot(                        \"9f3c4414-e08c-4542-bf6b-07345e317626\",                        [{\"histfunc\":\"count\",\"histnorm\":\"\",\"marker\":{\"color\":\"rgba(255, 153, 51, 1.0)\",\"line\":{\"color\":\"#4D5663\",\"width\":1.3}},\"name\":\"A\",\"nbinsx\":7,\"opacity\":0.8,\"orientation\":\"v\",\"x\":[-0.27164247126346136,-1.3257070606440196,0.09509138803241492,0.5677789260155507,-1.7702004827781839,0.8192901452031851,0.42843016749584817,0.48891810080098663,-0.13885574098913533,-1.6637758910766713,-0.687383321981337,0.9406647337380462,-0.690819839092722,1.2806354120967807,0.19519500649436486,-0.9617059095864561,-0.34082321440792496,0.40501808153456115,1.0256932200321933,0.19792777139922432,0.4473417964638847,-0.746357600971722,-0.7463331494444009,1.8614426561055353,-1.1921824686638272,0.33702637966918264,-0.019990132981849144,-1.0365459781316264,-0.9182930313854358,1.0514506561892487,1.4231033015561043,0.9388329560106634,-0.6005788533325781,-1.5577073542570385,0.7729435472995098,-0.7886108148794514,0.8276169458706734,-0.5887982618967834,0.6079822371177137,1.1815201552359502,-0.46765292959066734,-1.1747756877337578,0.12539506832767486,0.8444236630050397,0.4837479545939307,0.2626615850571374,0.25609179616383837,-0.34482586724742925,-1.0629525341853008,0.38530331033560733,1.6652564840701058,1.017710453432222,1.739805462678277,0.977218254223707,-0.11349498759333462,1.9125139328999086,-0.07919689362884139,0.19237236508550656,-1.218178626743223,1.5252495234723242,0.42515169637007116,-0.6917277873885234,-1.0914735632955341,0.1479495579758345,-0.769384799107449,-0.959114317069405,-0.11512199650222511,0.06717010137838174,-0.8100531665464591,0.7495654025364011,0.17261362176212222,-1.6122353899625055,2.0636152291749204,1.3542937788460374,0.3971750773103758,-1.6066263804550474,-0.847567402742816,2.2645832278875084,-0.04304356003073988,-1.3965861940480482,1.3607133938541376,-2.033089150596266,0.4936571407278187,-1.2255787715598412,-0.48127741316601513,3.05599930065596,-0.26528530741592665,-0.5031144218517964,2.0169311706777338,0.6137848243893546,0.5652221897804888,-0.7608485125554416,0.15896495846476275,-1.1521496906994413,-1.303672140570186,-0.5163893488317101,0.5326431891049507,-0.23498564823224072,-0.0075292175095747725,1.1807221464818747],\"type\":\"histogram\"}],                        {\"barmode\":\"overlay\",\"legend\":{\"bgcolor\":\"#F5F6F9\",\"font\":{\"color\":\"#4D5663\"}},\"paper_bgcolor\":\"#F5F6F9\",\"plot_bgcolor\":\"#F5F6F9\",\"template\":{\"data\":{\"barpolar\":[{\"marker\":{\"line\":{\"color\":\"#E5ECF6\",\"width\":0.5},\"pattern\":{\"fillmode\":\"overlay\",\"size\":10,\"solidity\":0.2}},\"type\":\"barpolar\"}],\"bar\":[{\"error_x\":{\"color\":\"#2a3f5f\"},\"error_y\":{\"color\":\"#2a3f5f\"},\"marker\":{\"line\":{\"color\":\"#E5ECF6\",\"width\":0.5},\"pattern\":{\"fillmode\":\"overlay\",\"size\":10,\"solidity\":0.2}},\"type\":\"bar\"}],\"carpet\":[{\"aaxis\":{\"endlinecolor\":\"#2a3f5f\",\"gridcolor\":\"white\",\"linecolor\":\"white\",\"minorgridcolor\":\"white\",\"startlinecolor\":\"#2a3f5f\"},\"baxis\":{\"endlinecolor\":\"#2a3f5f\",\"gridcolor\":\"white\",\"linecolor\":\"white\",\"minorgridcolor\":\"white\",\"startlinecolor\":\"#2a3f5f\"},\"type\":\"carpet\"}],\"choropleth\":[{\"colorbar\":{\"outlinewidth\":0,\"ticks\":\"\"},\"type\":\"choropleth\"}],\"contourcarpet\":[{\"colorbar\":{\"outlinewidth\":0,\"ticks\":\"\"},\"type\":\"contourcarpet\"}],\"contour\":[{\"colorbar\":{\"outlinewidth\":0,\"ticks\":\"\"},\"colorscale\":[[0.0,\"#0d0887\"],[0.1111111111111111,\"#46039f\"],[0.2222222222222222,\"#7201a8\"],[0.3333333333333333,\"#9c179e\"],[0.4444444444444444,\"#bd3786\"],[0.5555555555555556,\"#d8576b\"],[0.6666666666666666,\"#ed7953\"],[0.7777777777777778,\"#fb9f3a\"],[0.8888888888888888,\"#fdca26\"],[1.0,\"#f0f921\"]],\"type\":\"contour\"}],\"heatmapgl\":[{\"colorbar\":{\"outlinewidth\":0,\"ticks\":\"\"},\"colorscale\":[[0.0,\"#0d0887\"],[0.1111111111111111,\"#46039f\"],[0.2222222222222222,\"#7201a8\"],[0.3333333333333333,\"#9c179e\"],[0.4444444444444444,\"#bd3786\"],[0.5555555555555556,\"#d8576b\"],[0.6666666666666666,\"#ed7953\"],[0.7777777777777778,\"#fb9f3a\"],[0.8888888888888888,\"#fdca26\"],[1.0,\"#f0f921\"]],\"type\":\"heatmapgl\"}],\"heatmap\":[{\"colorbar\":{\"outlinewidth\":0,\"ticks\":\"\"},\"colorscale\":[[0.0,\"#0d0887\"],[0.1111111111111111,\"#46039f\"],[0.2222222222222222,\"#7201a8\"],[0.3333333333333333,\"#9c179e\"],[0.4444444444444444,\"#bd3786\"],[0.5555555555555556,\"#d8576b\"],[0.6666666666666666,\"#ed7953\"],[0.7777777777777778,\"#fb9f3a\"],[0.8888888888888888,\"#fdca26\"],[1.0,\"#f0f921\"]],\"type\":\"heatmap\"}],\"histogram2dcontour\":[{\"colorbar\":{\"outlinewidth\":0,\"ticks\":\"\"},\"colorscale\":[[0.0,\"#0d0887\"],[0.1111111111111111,\"#46039f\"],[0.2222222222222222,\"#7201a8\"],[0.3333333333333333,\"#9c179e\"],[0.4444444444444444,\"#bd3786\"],[0.5555555555555556,\"#d8576b\"],[0.6666666666666666,\"#ed7953\"],[0.7777777777777778,\"#fb9f3a\"],[0.8888888888888888,\"#fdca26\"],[1.0,\"#f0f921\"]],\"type\":\"histogram2dcontour\"}],\"histogram2d\":[{\"colorbar\":{\"outlinewidth\":0,\"ticks\":\"\"},\"colorscale\":[[0.0,\"#0d0887\"],[0.1111111111111111,\"#46039f\"],[0.2222222222222222,\"#7201a8\"],[0.3333333333333333,\"#9c179e\"],[0.4444444444444444,\"#bd3786\"],[0.5555555555555556,\"#d8576b\"],[0.6666666666666666,\"#ed7953\"],[0.7777777777777778,\"#fb9f3a\"],[0.8888888888888888,\"#fdca26\"],[1.0,\"#f0f921\"]],\"type\":\"histogram2d\"}],\"histogram\":[{\"marker\":{\"pattern\":{\"fillmode\":\"overlay\",\"size\":10,\"solidity\":0.2}},\"type\":\"histogram\"}],\"mesh3d\":[{\"colorbar\":{\"outlinewidth\":0,\"ticks\":\"\"},\"type\":\"mesh3d\"}],\"parcoords\":[{\"line\":{\"colorbar\":{\"outlinewidth\":0,\"ticks\":\"\"}},\"type\":\"parcoords\"}],\"pie\":[{\"automargin\":true,\"type\":\"pie\"}],\"scatter3d\":[{\"line\":{\"colorbar\":{\"outlinewidth\":0,\"ticks\":\"\"}},\"marker\":{\"colorbar\":{\"outlinewidth\":0,\"ticks\":\"\"}},\"type\":\"scatter3d\"}],\"scattercarpet\":[{\"marker\":{\"colorbar\":{\"outlinewidth\":0,\"ticks\":\"\"}},\"type\":\"scattercarpet\"}],\"scattergeo\":[{\"marker\":{\"colorbar\":{\"outlinewidth\":0,\"ticks\":\"\"}},\"type\":\"scattergeo\"}],\"scattergl\":[{\"marker\":{\"colorbar\":{\"outlinewidth\":0,\"ticks\":\"\"}},\"type\":\"scattergl\"}],\"scattermapbox\":[{\"marker\":{\"colorbar\":{\"outlinewidth\":0,\"ticks\":\"\"}},\"type\":\"scattermapbox\"}],\"scatterpolargl\":[{\"marker\":{\"colorbar\":{\"outlinewidth\":0,\"ticks\":\"\"}},\"type\":\"scatterpolargl\"}],\"scatterpolar\":[{\"marker\":{\"colorbar\":{\"outlinewidth\":0,\"ticks\":\"\"}},\"type\":\"scatterpolar\"}],\"scatter\":[{\"fillpattern\":{\"fillmode\":\"overlay\",\"size\":10,\"solidity\":0.2},\"type\":\"scatter\"}],\"scatterternary\":[{\"marker\":{\"colorbar\":{\"outlinewidth\":0,\"ticks\":\"\"}},\"type\":\"scatterternary\"}],\"surface\":[{\"colorbar\":{\"outlinewidth\":0,\"ticks\":\"\"},\"colorscale\":[[0.0,\"#0d0887\"],[0.1111111111111111,\"#46039f\"],[0.2222222222222222,\"#7201a8\"],[0.3333333333333333,\"#9c179e\"],[0.4444444444444444,\"#bd3786\"],[0.5555555555555556,\"#d8576b\"],[0.6666666666666666,\"#ed7953\"],[0.7777777777777778,\"#fb9f3a\"],[0.8888888888888888,\"#fdca26\"],[1.0,\"#f0f921\"]],\"type\":\"surface\"}],\"table\":[{\"cells\":{\"fill\":{\"color\":\"#EBF0F8\"},\"line\":{\"color\":\"white\"}},\"header\":{\"fill\":{\"color\":\"#C8D4E3\"},\"line\":{\"color\":\"white\"}},\"type\":\"table\"}]},\"layout\":{\"annotationdefaults\":{\"arrowcolor\":\"#2a3f5f\",\"arrowhead\":0,\"arrowwidth\":1},\"autotypenumbers\":\"strict\",\"coloraxis\":{\"colorbar\":{\"outlinewidth\":0,\"ticks\":\"\"}},\"colorscale\":{\"diverging\":[[0,\"#8e0152\"],[0.1,\"#c51b7d\"],[0.2,\"#de77ae\"],[0.3,\"#f1b6da\"],[0.4,\"#fde0ef\"],[0.5,\"#f7f7f7\"],[0.6,\"#e6f5d0\"],[0.7,\"#b8e186\"],[0.8,\"#7fbc41\"],[0.9,\"#4d9221\"],[1,\"#276419\"]],\"sequential\":[[0.0,\"#0d0887\"],[0.1111111111111111,\"#46039f\"],[0.2222222222222222,\"#7201a8\"],[0.3333333333333333,\"#9c179e\"],[0.4444444444444444,\"#bd3786\"],[0.5555555555555556,\"#d8576b\"],[0.6666666666666666,\"#ed7953\"],[0.7777777777777778,\"#fb9f3a\"],[0.8888888888888888,\"#fdca26\"],[1.0,\"#f0f921\"]],\"sequentialminus\":[[0.0,\"#0d0887\"],[0.1111111111111111,\"#46039f\"],[0.2222222222222222,\"#7201a8\"],[0.3333333333333333,\"#9c179e\"],[0.4444444444444444,\"#bd3786\"],[0.5555555555555556,\"#d8576b\"],[0.6666666666666666,\"#ed7953\"],[0.7777777777777778,\"#fb9f3a\"],[0.8888888888888888,\"#fdca26\"],[1.0,\"#f0f921\"]]},\"colorway\":[\"#636efa\",\"#EF553B\",\"#00cc96\",\"#ab63fa\",\"#FFA15A\",\"#19d3f3\",\"#FF6692\",\"#B6E880\",\"#FF97FF\",\"#FECB52\"],\"font\":{\"color\":\"#2a3f5f\"},\"geo\":{\"bgcolor\":\"white\",\"lakecolor\":\"white\",\"landcolor\":\"#E5ECF6\",\"showlakes\":true,\"showland\":true,\"subunitcolor\":\"white\"},\"hoverlabel\":{\"align\":\"left\"},\"hovermode\":\"closest\",\"mapbox\":{\"style\":\"light\"},\"paper_bgcolor\":\"white\",\"plot_bgcolor\":\"#E5ECF6\",\"polar\":{\"angularaxis\":{\"gridcolor\":\"white\",\"linecolor\":\"white\",\"ticks\":\"\"},\"bgcolor\":\"#E5ECF6\",\"radialaxis\":{\"gridcolor\":\"white\",\"linecolor\":\"white\",\"ticks\":\"\"}},\"scene\":{\"xaxis\":{\"backgroundcolor\":\"#E5ECF6\",\"gridcolor\":\"white\",\"gridwidth\":2,\"linecolor\":\"white\",\"showbackground\":true,\"ticks\":\"\",\"zerolinecolor\":\"white\"},\"yaxis\":{\"backgroundcolor\":\"#E5ECF6\",\"gridcolor\":\"white\",\"gridwidth\":2,\"linecolor\":\"white\",\"showbackground\":true,\"ticks\":\"\",\"zerolinecolor\":\"white\"},\"zaxis\":{\"backgroundcolor\":\"#E5ECF6\",\"gridcolor\":\"white\",\"gridwidth\":2,\"linecolor\":\"white\",\"showbackground\":true,\"ticks\":\"\",\"zerolinecolor\":\"white\"}},\"shapedefaults\":{\"line\":{\"color\":\"#2a3f5f\"}},\"ternary\":{\"aaxis\":{\"gridcolor\":\"white\",\"linecolor\":\"white\",\"ticks\":\"\"},\"baxis\":{\"gridcolor\":\"white\",\"linecolor\":\"white\",\"ticks\":\"\"},\"bgcolor\":\"#E5ECF6\",\"caxis\":{\"gridcolor\":\"white\",\"linecolor\":\"white\",\"ticks\":\"\"}},\"title\":{\"x\":0.05},\"xaxis\":{\"automargin\":true,\"gridcolor\":\"white\",\"linecolor\":\"white\",\"ticks\":\"\",\"title\":{\"standoff\":15},\"zerolinecolor\":\"white\",\"zerolinewidth\":2},\"yaxis\":{\"automargin\":true,\"gridcolor\":\"white\",\"linecolor\":\"white\",\"ticks\":\"\",\"title\":{\"standoff\":15},\"zerolinecolor\":\"white\",\"zerolinewidth\":2}}},\"title\":{\"font\":{\"color\":\"#4D5663\"}},\"xaxis\":{\"gridcolor\":\"#E1E5ED\",\"showgrid\":true,\"tickfont\":{\"color\":\"#4D5663\"},\"title\":{\"font\":{\"color\":\"#4D5663\"},\"text\":\"\"},\"zerolinecolor\":\"#E1E5ED\"},\"yaxis\":{\"gridcolor\":\"#E1E5ED\",\"showgrid\":true,\"tickfont\":{\"color\":\"#4D5663\"},\"title\":{\"font\":{\"color\":\"#4D5663\"},\"text\":\"\"},\"zerolinecolor\":\"#E1E5ED\"}},                        {\"showLink\": true, \"linkText\": \"Export to plot.ly\", \"plotlyServerURL\": \"https://plot.ly\", \"responsive\": true}                    ).then(function(){\n",
       "                            \n",
       "var gd = document.getElementById('9f3c4414-e08c-4542-bf6b-07345e317626');\n",
       "var x = new MutationObserver(function (mutations, observer) {{\n",
       "        var display = window.getComputedStyle(gd).display;\n",
       "        if (!display || display === 'none') {{\n",
       "            console.log([gd, 'removed!']);\n",
       "            Plotly.purge(gd);\n",
       "            observer.disconnect();\n",
       "        }}\n",
       "}});\n",
       "\n",
       "// Listen for the removal of the full notebook cells\n",
       "var notebookContainer = gd.closest('#notebook-container');\n",
       "if (notebookContainer) {{\n",
       "    x.observe(notebookContainer, {childList: true});\n",
       "}}\n",
       "\n",
       "// Listen for the clearing of the current output cell\n",
       "var outputEl = gd.closest('.output');\n",
       "if (outputEl) {{\n",
       "    x.observe(outputEl, {childList: true});\n",
       "}}\n",
       "\n",
       "                        })                };                });            </script>        </div>"
      ]
     },
     "metadata": {},
     "output_type": "display_data"
    }
   ],
   "source": [
    "df1['A'].iplot(kind='hist', bins=7)"
   ]
  },
  {
   "cell_type": "code",
   "execution_count": 20,
   "metadata": {},
   "outputs": [
    {
     "data": {
      "application/vnd.plotly.v1+json": {
       "config": {
        "linkText": "Export to plot.ly",
        "plotlyServerURL": "https://plot.ly",
        "showLink": true
       },
       "data": [
        {
         "histfunc": "count",
         "histnorm": "",
         "marker": {
          "color": "rgba(255, 153, 51, 1.0)",
          "line": {
           "color": "#4D5663",
           "width": 1.3
          }
         },
         "name": "A",
         "nbinsx": 7,
         "opacity": 0.8,
         "orientation": "v",
         "type": "histogram",
         "x": [
          -0.27164247126346136,
          -1.3257070606440196,
          0.09509138803241492,
          0.5677789260155507,
          -1.7702004827781839,
          0.8192901452031851,
          0.42843016749584817,
          0.48891810080098663,
          -0.13885574098913533,
          -1.6637758910766713,
          -0.687383321981337,
          0.9406647337380462,
          -0.690819839092722,
          1.2806354120967807,
          0.19519500649436486,
          -0.9617059095864561,
          -0.34082321440792496,
          0.40501808153456115,
          1.0256932200321933,
          0.19792777139922432,
          0.4473417964638847,
          -0.746357600971722,
          -0.7463331494444009,
          1.8614426561055353,
          -1.1921824686638272,
          0.33702637966918264,
          -0.019990132981849144,
          -1.0365459781316264,
          -0.9182930313854358,
          1.0514506561892487,
          1.4231033015561043,
          0.9388329560106634,
          -0.6005788533325781,
          -1.5577073542570385,
          0.7729435472995098,
          -0.7886108148794514,
          0.8276169458706734,
          -0.5887982618967834,
          0.6079822371177137,
          1.1815201552359502,
          -0.46765292959066734,
          -1.1747756877337578,
          0.12539506832767486,
          0.8444236630050397,
          0.4837479545939307,
          0.2626615850571374,
          0.25609179616383837,
          -0.34482586724742925,
          -1.0629525341853008,
          0.38530331033560733,
          1.6652564840701058,
          1.017710453432222,
          1.739805462678277,
          0.977218254223707,
          -0.11349498759333462,
          1.9125139328999086,
          -0.07919689362884139,
          0.19237236508550656,
          -1.218178626743223,
          1.5252495234723242,
          0.42515169637007116,
          -0.6917277873885234,
          -1.0914735632955341,
          0.1479495579758345,
          -0.769384799107449,
          -0.959114317069405,
          -0.11512199650222511,
          0.06717010137838174,
          -0.8100531665464591,
          0.7495654025364011,
          0.17261362176212222,
          -1.6122353899625055,
          2.0636152291749204,
          1.3542937788460374,
          0.3971750773103758,
          -1.6066263804550474,
          -0.847567402742816,
          2.2645832278875084,
          -0.04304356003073988,
          -1.3965861940480482,
          1.3607133938541376,
          -2.033089150596266,
          0.4936571407278187,
          -1.2255787715598412,
          -0.48127741316601513,
          3.05599930065596,
          -0.26528530741592665,
          -0.5031144218517964,
          2.0169311706777338,
          0.6137848243893546,
          0.5652221897804888,
          -0.7608485125554416,
          0.15896495846476275,
          -1.1521496906994413,
          -1.303672140570186,
          -0.5163893488317101,
          0.5326431891049507,
          -0.23498564823224072,
          -0.0075292175095747725,
          1.1807221464818747
         ]
        },
        {
         "histfunc": "count",
         "histnorm": "",
         "marker": {
          "color": "rgba(55, 128, 191, 1.0)",
          "line": {
           "color": "#4D5663",
           "width": 1.3
          }
         },
         "name": "B",
         "nbinsx": 7,
         "opacity": 0.8,
         "orientation": "v",
         "type": "histogram",
         "x": [
          -0.5606845687001836,
          1.6792241184825982,
          -0.08661661904826148,
          0.3898727869993485,
          0.01484572176819306,
          1.2923784950415658,
          -0.7547121807613962,
          -0.17924041096584103,
          -2.079556271100031,
          1.3741475772876197,
          -0.7265727387037649,
          0.07795556662307522,
          -1.6984034926570812,
          0.9514332912763463,
          0.9208568312409571,
          0.8721149896398802,
          -1.2006034959932614,
          0.9698322836075526,
          -1.7348279414407843,
          -0.18045584815021679,
          -0.15534958173210708,
          0.5778707279835965,
          -0.31094304485398533,
          -0.22119039196159165,
          1.3577782715590458,
          0.5976119660885164,
          -0.33861814766618836,
          0.009153919545416113,
          -0.905349622590771,
          0.797128717357109,
          0.36614038340714694,
          -1.5116109210853086,
          0.36233320503932614,
          -1.286401592931063,
          0.8197727302603469,
          1.110110135760402,
          0.316814577082492,
          0.8162624495735802,
          1.3508787939093665,
          0.9370194953434611,
          1.748037798224933,
          0.5260329111423281,
          0.5837856131293094,
          1.627503056742485,
          0.7597512835732089,
          0.1195243454589661,
          1.1031778871431137,
          0.0732232025003497,
          -0.4392083678404856,
          -2.0005261017160803,
          0.15086645476505978,
          0.7707078145347047,
          0.39845934776015907,
          0.60503610907641,
          -0.5676790205343145,
          -0.08728334160333123,
          -0.6736473541810989,
          1.3469654155549382,
          -0.52895187800803,
          -0.7715416124924191,
          0.32992146618986257,
          -0.20511451718899026,
          0.8823370549505434,
          -1.6350359682122242,
          0.1998129876390042,
          -1.1175159253196678,
          -2.2548754117108527,
          0.3841331487228912,
          -0.5647053958800019,
          1.4138362030889675,
          -0.7336674767371699,
          -0.0994770805480279,
          1.4129817421869901,
          1.3279684648445662,
          -0.3426837583140145,
          0.7427901223026995,
          0.9562542554682181,
          1.662527972510784,
          1.654208700671479,
          1.6277836234752037,
          0.2622646773981404,
          1.1110417788709064,
          -1.0758423905400494,
          0.5866561856112027,
          -0.3632825296055402,
          -0.5092436817558994,
          0.9829762441659161,
          -0.9039318124721808,
          -0.8761259788070621,
          1.282766952219753,
          -1.2659129574243786,
          1.1388669103882356,
          0.031596317962045775,
          -1.0028678826990054,
          -0.203214798443493,
          -2.0704178554216046,
          -0.6120462001187992,
          -1.6908135230507628,
          0.3945926141835523,
          -0.8402938448734616
         ]
        },
        {
         "histfunc": "count",
         "histnorm": "",
         "marker": {
          "color": "rgba(50, 171, 96, 1.0)",
          "line": {
           "color": "#4D5663",
           "width": 1.3
          }
         },
         "name": "C",
         "nbinsx": 7,
         "opacity": 0.8,
         "orientation": "v",
         "type": "histogram",
         "x": [
          -0.17510076833451887,
          1.0288698240177145,
          0.7294187475382269,
          -0.5578856629282004,
          -1.4427561070736776,
          0.4388161783702774,
          0.060563737566764815,
          1.1228360547515748,
          -1.1147708162876648,
          -1.2752660154204478,
          -1.7312113286523432,
          -0.82533168192219,
          0.8658741797078373,
          -0.41427836454014716,
          -0.9098894454547914,
          -1.800204706789089,
          0.6682338915047351,
          -0.20987374484294746,
          0.19598899319836607,
          -0.7669541641335651,
          0.4124924143896091,
          -1.8397233779403428,
          -2.4530517139415355,
          0.4424743832683385,
          -1.1279100199509753,
          0.8273645699863521,
          0.7060451811025258,
          -0.34841335926422856,
          -0.8179883446544839,
          -1.1938551743761843,
          0.23965205889367786,
          -0.003371851161309269,
          -0.3848283690882053,
          -0.3660579064690124,
          0.18789785147708796,
          1.6631657931534722,
          1.7407484140501224,
          1.4565488819779684,
          -0.6232723514435085,
          0.8486940617122866,
          -1.2524232797957384,
          1.0025461725315055,
          -1.6900742257435932,
          2.5965882936507287,
          0.8974446875412032,
          0.6409236834519745,
          -0.3004172819682092,
          -0.7308341507657704,
          -0.8473571913525139,
          0.18229635624312268,
          -1.4372588244194673,
          0.39970158575841475,
          1.4516847984516328,
          1.0026818566565996,
          1.6145013116745843,
          0.3370738959446078,
          0.9423240780645039,
          -0.6481922359095227,
          1.088239694258309,
          0.2757922834178292,
          0.05599297866846583,
          -0.5538316369091456,
          0.5839356030798746,
          3.77788003076131,
          -0.2814142162387364,
          -1.396739653898618,
          1.098733557716189,
          0.3481299362914519,
          0.5719545584678998,
          -1.1917432377063344,
          0.5562025971593422,
          0.2687526601731444,
          -0.6579484009003517,
          -0.2893864693705524,
          0.7529664222734219,
          0.5599036596190918,
          0.6972960000357077,
          -0.3165006408518295,
          0.12506772611635675,
          -0.1547960377329048,
          -0.19802705425048947,
          -1.7878921210147751,
          -0.7252978787352365,
          0.9169166661120889,
          -0.18418265183374585,
          0.9980844798991737,
          0.21372777438456053,
          0.1625712531452284,
          0.40518165848931825,
          -0.4024378051833785,
          0.034134439117629076,
          0.3801876036723134,
          -1.574634729531062,
          -1.279225040981382,
          1.9560622718390517,
          1.1699990486795044,
          -0.5492666922188294,
          -0.46782061675087566,
          -0.4457203824349354,
          -0.4973139229416746
         ]
        },
        {
         "histfunc": "count",
         "histnorm": "",
         "marker": {
          "color": "rgba(128, 0, 128, 1.0)",
          "line": {
           "color": "#4D5663",
           "width": 1.3
          }
         },
         "name": "D",
         "nbinsx": 7,
         "opacity": 0.8,
         "orientation": "v",
         "type": "histogram",
         "x": [
          0.028993705037304567,
          -0.6716875531197293,
          0.8334435896917214,
          -1.9716771967264062,
          1.50532385374814,
          0.14956974745594662,
          -0.06939513333845235,
          -0.2815157688175154,
          0.38684784925404336,
          0.14381043854226855,
          1.4876554131996642,
          -0.7370660801991634,
          1.5404097323754171,
          0.2040380802866936,
          0.14168081298982785,
          -0.8250878115833602,
          -1.7320260569405233,
          0.6359832967253354,
          -0.4695872751400371,
          -0.2673988678442753,
          -0.9881864665743314,
          1.5061033230127938,
          0.10598331717029001,
          0.10931223800100075,
          0.7694644275917429,
          0.5182483641705755,
          -0.3071935056280965,
          -0.4665082690544789,
          0.9447249121081155,
          2.0425295696010743,
          -0.43698105003454357,
          -0.907598909077158,
          0.29462902502362,
          0.10190992720602601,
          -0.8174929595408008,
          -0.18001152313077143,
          0.15566515500727343,
          0.13196150538499757,
          -1.0575979330248275,
          -0.2625832388597864,
          -0.24847941451559766,
          2.1485331533935943,
          -0.08717358871212114,
          -0.30940859490619027,
          -2.0046227174032225,
          1.5083427558825817,
          -1.5139213190088612,
          0.01563324569264091,
          0.8616742568840906,
          -0.8525617560577919,
          -1.4248262474160276,
          -0.3605394147608612,
          0.37716297286280276,
          0.6258658201541683,
          0.2569647630992787,
          -1.6369203499044183,
          0.7871465171480043,
          0.7355463996487434,
          0.48596059901344485,
          1.252482630695332,
          0.4369197688828738,
          -0.11016987718728498,
          -1.2248590164464839,
          -0.37699173885758686,
          0.013267497344670701,
          -0.8385954164259339,
          -1.333902638527453,
          -1.0835532755477346,
          1.5605143000742498,
          -0.4152456441491844,
          0.5942036262360473,
          0.5434734806548989,
          -1.0542816433101314,
          0.9865682135617165,
          -1.8060658371376346,
          -0.04991907939054093,
          -0.14854389029313436,
          -0.5375389631592972,
          0.4245378412844418,
          0.3468493151487389,
          0.23489491445703792,
          0.24001963017549055,
          -1.7849754803006823,
          -0.029436562746093183,
          1.261992804620589,
          0.6149667944501315,
          -0.23557799300923188,
          0.6309302264213924,
          0.49159285635577266,
          -0.8530324387313918,
          -0.8386954461087648,
          0.17224056036045315,
          0.8512415447812286,
          0.2539718936206673,
          -1.8082627145838914,
          1.0134201851014084,
          -1.400878111327254,
          -0.5350870859857267,
          -0.7669223496683658,
          1.097042962574408
         ]
        }
       ],
       "layout": {
        "barmode": "overlay",
        "legend": {
         "bgcolor": "#F5F6F9",
         "font": {
          "color": "#4D5663"
         }
        },
        "paper_bgcolor": "#F5F6F9",
        "plot_bgcolor": "#F5F6F9",
        "template": {
         "data": {
          "bar": [
           {
            "error_x": {
             "color": "#2a3f5f"
            },
            "error_y": {
             "color": "#2a3f5f"
            },
            "marker": {
             "line": {
              "color": "#E5ECF6",
              "width": 0.5
             },
             "pattern": {
              "fillmode": "overlay",
              "size": 10,
              "solidity": 0.2
             }
            },
            "type": "bar"
           }
          ],
          "barpolar": [
           {
            "marker": {
             "line": {
              "color": "#E5ECF6",
              "width": 0.5
             },
             "pattern": {
              "fillmode": "overlay",
              "size": 10,
              "solidity": 0.2
             }
            },
            "type": "barpolar"
           }
          ],
          "carpet": [
           {
            "aaxis": {
             "endlinecolor": "#2a3f5f",
             "gridcolor": "white",
             "linecolor": "white",
             "minorgridcolor": "white",
             "startlinecolor": "#2a3f5f"
            },
            "baxis": {
             "endlinecolor": "#2a3f5f",
             "gridcolor": "white",
             "linecolor": "white",
             "minorgridcolor": "white",
             "startlinecolor": "#2a3f5f"
            },
            "type": "carpet"
           }
          ],
          "choropleth": [
           {
            "colorbar": {
             "outlinewidth": 0,
             "ticks": ""
            },
            "type": "choropleth"
           }
          ],
          "contour": [
           {
            "colorbar": {
             "outlinewidth": 0,
             "ticks": ""
            },
            "colorscale": [
             [
              0,
              "#0d0887"
             ],
             [
              0.1111111111111111,
              "#46039f"
             ],
             [
              0.2222222222222222,
              "#7201a8"
             ],
             [
              0.3333333333333333,
              "#9c179e"
             ],
             [
              0.4444444444444444,
              "#bd3786"
             ],
             [
              0.5555555555555556,
              "#d8576b"
             ],
             [
              0.6666666666666666,
              "#ed7953"
             ],
             [
              0.7777777777777778,
              "#fb9f3a"
             ],
             [
              0.8888888888888888,
              "#fdca26"
             ],
             [
              1,
              "#f0f921"
             ]
            ],
            "type": "contour"
           }
          ],
          "contourcarpet": [
           {
            "colorbar": {
             "outlinewidth": 0,
             "ticks": ""
            },
            "type": "contourcarpet"
           }
          ],
          "heatmap": [
           {
            "colorbar": {
             "outlinewidth": 0,
             "ticks": ""
            },
            "colorscale": [
             [
              0,
              "#0d0887"
             ],
             [
              0.1111111111111111,
              "#46039f"
             ],
             [
              0.2222222222222222,
              "#7201a8"
             ],
             [
              0.3333333333333333,
              "#9c179e"
             ],
             [
              0.4444444444444444,
              "#bd3786"
             ],
             [
              0.5555555555555556,
              "#d8576b"
             ],
             [
              0.6666666666666666,
              "#ed7953"
             ],
             [
              0.7777777777777778,
              "#fb9f3a"
             ],
             [
              0.8888888888888888,
              "#fdca26"
             ],
             [
              1,
              "#f0f921"
             ]
            ],
            "type": "heatmap"
           }
          ],
          "heatmapgl": [
           {
            "colorbar": {
             "outlinewidth": 0,
             "ticks": ""
            },
            "colorscale": [
             [
              0,
              "#0d0887"
             ],
             [
              0.1111111111111111,
              "#46039f"
             ],
             [
              0.2222222222222222,
              "#7201a8"
             ],
             [
              0.3333333333333333,
              "#9c179e"
             ],
             [
              0.4444444444444444,
              "#bd3786"
             ],
             [
              0.5555555555555556,
              "#d8576b"
             ],
             [
              0.6666666666666666,
              "#ed7953"
             ],
             [
              0.7777777777777778,
              "#fb9f3a"
             ],
             [
              0.8888888888888888,
              "#fdca26"
             ],
             [
              1,
              "#f0f921"
             ]
            ],
            "type": "heatmapgl"
           }
          ],
          "histogram": [
           {
            "marker": {
             "pattern": {
              "fillmode": "overlay",
              "size": 10,
              "solidity": 0.2
             }
            },
            "type": "histogram"
           }
          ],
          "histogram2d": [
           {
            "colorbar": {
             "outlinewidth": 0,
             "ticks": ""
            },
            "colorscale": [
             [
              0,
              "#0d0887"
             ],
             [
              0.1111111111111111,
              "#46039f"
             ],
             [
              0.2222222222222222,
              "#7201a8"
             ],
             [
              0.3333333333333333,
              "#9c179e"
             ],
             [
              0.4444444444444444,
              "#bd3786"
             ],
             [
              0.5555555555555556,
              "#d8576b"
             ],
             [
              0.6666666666666666,
              "#ed7953"
             ],
             [
              0.7777777777777778,
              "#fb9f3a"
             ],
             [
              0.8888888888888888,
              "#fdca26"
             ],
             [
              1,
              "#f0f921"
             ]
            ],
            "type": "histogram2d"
           }
          ],
          "histogram2dcontour": [
           {
            "colorbar": {
             "outlinewidth": 0,
             "ticks": ""
            },
            "colorscale": [
             [
              0,
              "#0d0887"
             ],
             [
              0.1111111111111111,
              "#46039f"
             ],
             [
              0.2222222222222222,
              "#7201a8"
             ],
             [
              0.3333333333333333,
              "#9c179e"
             ],
             [
              0.4444444444444444,
              "#bd3786"
             ],
             [
              0.5555555555555556,
              "#d8576b"
             ],
             [
              0.6666666666666666,
              "#ed7953"
             ],
             [
              0.7777777777777778,
              "#fb9f3a"
             ],
             [
              0.8888888888888888,
              "#fdca26"
             ],
             [
              1,
              "#f0f921"
             ]
            ],
            "type": "histogram2dcontour"
           }
          ],
          "mesh3d": [
           {
            "colorbar": {
             "outlinewidth": 0,
             "ticks": ""
            },
            "type": "mesh3d"
           }
          ],
          "parcoords": [
           {
            "line": {
             "colorbar": {
              "outlinewidth": 0,
              "ticks": ""
             }
            },
            "type": "parcoords"
           }
          ],
          "pie": [
           {
            "automargin": true,
            "type": "pie"
           }
          ],
          "scatter": [
           {
            "fillpattern": {
             "fillmode": "overlay",
             "size": 10,
             "solidity": 0.2
            },
            "type": "scatter"
           }
          ],
          "scatter3d": [
           {
            "line": {
             "colorbar": {
              "outlinewidth": 0,
              "ticks": ""
             }
            },
            "marker": {
             "colorbar": {
              "outlinewidth": 0,
              "ticks": ""
             }
            },
            "type": "scatter3d"
           }
          ],
          "scattercarpet": [
           {
            "marker": {
             "colorbar": {
              "outlinewidth": 0,
              "ticks": ""
             }
            },
            "type": "scattercarpet"
           }
          ],
          "scattergeo": [
           {
            "marker": {
             "colorbar": {
              "outlinewidth": 0,
              "ticks": ""
             }
            },
            "type": "scattergeo"
           }
          ],
          "scattergl": [
           {
            "marker": {
             "colorbar": {
              "outlinewidth": 0,
              "ticks": ""
             }
            },
            "type": "scattergl"
           }
          ],
          "scattermapbox": [
           {
            "marker": {
             "colorbar": {
              "outlinewidth": 0,
              "ticks": ""
             }
            },
            "type": "scattermapbox"
           }
          ],
          "scatterpolar": [
           {
            "marker": {
             "colorbar": {
              "outlinewidth": 0,
              "ticks": ""
             }
            },
            "type": "scatterpolar"
           }
          ],
          "scatterpolargl": [
           {
            "marker": {
             "colorbar": {
              "outlinewidth": 0,
              "ticks": ""
             }
            },
            "type": "scatterpolargl"
           }
          ],
          "scatterternary": [
           {
            "marker": {
             "colorbar": {
              "outlinewidth": 0,
              "ticks": ""
             }
            },
            "type": "scatterternary"
           }
          ],
          "surface": [
           {
            "colorbar": {
             "outlinewidth": 0,
             "ticks": ""
            },
            "colorscale": [
             [
              0,
              "#0d0887"
             ],
             [
              0.1111111111111111,
              "#46039f"
             ],
             [
              0.2222222222222222,
              "#7201a8"
             ],
             [
              0.3333333333333333,
              "#9c179e"
             ],
             [
              0.4444444444444444,
              "#bd3786"
             ],
             [
              0.5555555555555556,
              "#d8576b"
             ],
             [
              0.6666666666666666,
              "#ed7953"
             ],
             [
              0.7777777777777778,
              "#fb9f3a"
             ],
             [
              0.8888888888888888,
              "#fdca26"
             ],
             [
              1,
              "#f0f921"
             ]
            ],
            "type": "surface"
           }
          ],
          "table": [
           {
            "cells": {
             "fill": {
              "color": "#EBF0F8"
             },
             "line": {
              "color": "white"
             }
            },
            "header": {
             "fill": {
              "color": "#C8D4E3"
             },
             "line": {
              "color": "white"
             }
            },
            "type": "table"
           }
          ]
         },
         "layout": {
          "annotationdefaults": {
           "arrowcolor": "#2a3f5f",
           "arrowhead": 0,
           "arrowwidth": 1
          },
          "autotypenumbers": "strict",
          "coloraxis": {
           "colorbar": {
            "outlinewidth": 0,
            "ticks": ""
           }
          },
          "colorscale": {
           "diverging": [
            [
             0,
             "#8e0152"
            ],
            [
             0.1,
             "#c51b7d"
            ],
            [
             0.2,
             "#de77ae"
            ],
            [
             0.3,
             "#f1b6da"
            ],
            [
             0.4,
             "#fde0ef"
            ],
            [
             0.5,
             "#f7f7f7"
            ],
            [
             0.6,
             "#e6f5d0"
            ],
            [
             0.7,
             "#b8e186"
            ],
            [
             0.8,
             "#7fbc41"
            ],
            [
             0.9,
             "#4d9221"
            ],
            [
             1,
             "#276419"
            ]
           ],
           "sequential": [
            [
             0,
             "#0d0887"
            ],
            [
             0.1111111111111111,
             "#46039f"
            ],
            [
             0.2222222222222222,
             "#7201a8"
            ],
            [
             0.3333333333333333,
             "#9c179e"
            ],
            [
             0.4444444444444444,
             "#bd3786"
            ],
            [
             0.5555555555555556,
             "#d8576b"
            ],
            [
             0.6666666666666666,
             "#ed7953"
            ],
            [
             0.7777777777777778,
             "#fb9f3a"
            ],
            [
             0.8888888888888888,
             "#fdca26"
            ],
            [
             1,
             "#f0f921"
            ]
           ],
           "sequentialminus": [
            [
             0,
             "#0d0887"
            ],
            [
             0.1111111111111111,
             "#46039f"
            ],
            [
             0.2222222222222222,
             "#7201a8"
            ],
            [
             0.3333333333333333,
             "#9c179e"
            ],
            [
             0.4444444444444444,
             "#bd3786"
            ],
            [
             0.5555555555555556,
             "#d8576b"
            ],
            [
             0.6666666666666666,
             "#ed7953"
            ],
            [
             0.7777777777777778,
             "#fb9f3a"
            ],
            [
             0.8888888888888888,
             "#fdca26"
            ],
            [
             1,
             "#f0f921"
            ]
           ]
          },
          "colorway": [
           "#636efa",
           "#EF553B",
           "#00cc96",
           "#ab63fa",
           "#FFA15A",
           "#19d3f3",
           "#FF6692",
           "#B6E880",
           "#FF97FF",
           "#FECB52"
          ],
          "font": {
           "color": "#2a3f5f"
          },
          "geo": {
           "bgcolor": "white",
           "lakecolor": "white",
           "landcolor": "#E5ECF6",
           "showlakes": true,
           "showland": true,
           "subunitcolor": "white"
          },
          "hoverlabel": {
           "align": "left"
          },
          "hovermode": "closest",
          "mapbox": {
           "style": "light"
          },
          "paper_bgcolor": "white",
          "plot_bgcolor": "#E5ECF6",
          "polar": {
           "angularaxis": {
            "gridcolor": "white",
            "linecolor": "white",
            "ticks": ""
           },
           "bgcolor": "#E5ECF6",
           "radialaxis": {
            "gridcolor": "white",
            "linecolor": "white",
            "ticks": ""
           }
          },
          "scene": {
           "xaxis": {
            "backgroundcolor": "#E5ECF6",
            "gridcolor": "white",
            "gridwidth": 2,
            "linecolor": "white",
            "showbackground": true,
            "ticks": "",
            "zerolinecolor": "white"
           },
           "yaxis": {
            "backgroundcolor": "#E5ECF6",
            "gridcolor": "white",
            "gridwidth": 2,
            "linecolor": "white",
            "showbackground": true,
            "ticks": "",
            "zerolinecolor": "white"
           },
           "zaxis": {
            "backgroundcolor": "#E5ECF6",
            "gridcolor": "white",
            "gridwidth": 2,
            "linecolor": "white",
            "showbackground": true,
            "ticks": "",
            "zerolinecolor": "white"
           }
          },
          "shapedefaults": {
           "line": {
            "color": "#2a3f5f"
           }
          },
          "ternary": {
           "aaxis": {
            "gridcolor": "white",
            "linecolor": "white",
            "ticks": ""
           },
           "baxis": {
            "gridcolor": "white",
            "linecolor": "white",
            "ticks": ""
           },
           "bgcolor": "#E5ECF6",
           "caxis": {
            "gridcolor": "white",
            "linecolor": "white",
            "ticks": ""
           }
          },
          "title": {
           "x": 0.05
          },
          "xaxis": {
           "automargin": true,
           "gridcolor": "white",
           "linecolor": "white",
           "ticks": "",
           "title": {
            "standoff": 15
           },
           "zerolinecolor": "white",
           "zerolinewidth": 2
          },
          "yaxis": {
           "automargin": true,
           "gridcolor": "white",
           "linecolor": "white",
           "ticks": "",
           "title": {
            "standoff": 15
           },
           "zerolinecolor": "white",
           "zerolinewidth": 2
          }
         }
        },
        "title": {
         "font": {
          "color": "#4D5663"
         }
        },
        "xaxis": {
         "gridcolor": "#E1E5ED",
         "showgrid": true,
         "tickfont": {
          "color": "#4D5663"
         },
         "title": {
          "font": {
           "color": "#4D5663"
          },
          "text": ""
         },
         "zerolinecolor": "#E1E5ED"
        },
        "yaxis": {
         "gridcolor": "#E1E5ED",
         "showgrid": true,
         "tickfont": {
          "color": "#4D5663"
         },
         "title": {
          "font": {
           "color": "#4D5663"
          },
          "text": ""
         },
         "zerolinecolor": "#E1E5ED"
        }
       }
      },
      "text/html": [
       "<div>                            <div id=\"d0fc0da1-f105-407b-8988-3077c05358e0\" class=\"plotly-graph-div\" style=\"height:525px; width:100%;\"></div>            <script type=\"text/javascript\">                require([\"plotly\"], function(Plotly) {                    window.PLOTLYENV=window.PLOTLYENV || {};\n",
       "                    window.PLOTLYENV.BASE_URL='https://plot.ly';                                    if (document.getElementById(\"d0fc0da1-f105-407b-8988-3077c05358e0\")) {                    Plotly.newPlot(                        \"d0fc0da1-f105-407b-8988-3077c05358e0\",                        [{\"histfunc\":\"count\",\"histnorm\":\"\",\"marker\":{\"color\":\"rgba(255, 153, 51, 1.0)\",\"line\":{\"color\":\"#4D5663\",\"width\":1.3}},\"name\":\"A\",\"nbinsx\":7,\"opacity\":0.8,\"orientation\":\"v\",\"x\":[-0.27164247126346136,-1.3257070606440196,0.09509138803241492,0.5677789260155507,-1.7702004827781839,0.8192901452031851,0.42843016749584817,0.48891810080098663,-0.13885574098913533,-1.6637758910766713,-0.687383321981337,0.9406647337380462,-0.690819839092722,1.2806354120967807,0.19519500649436486,-0.9617059095864561,-0.34082321440792496,0.40501808153456115,1.0256932200321933,0.19792777139922432,0.4473417964638847,-0.746357600971722,-0.7463331494444009,1.8614426561055353,-1.1921824686638272,0.33702637966918264,-0.019990132981849144,-1.0365459781316264,-0.9182930313854358,1.0514506561892487,1.4231033015561043,0.9388329560106634,-0.6005788533325781,-1.5577073542570385,0.7729435472995098,-0.7886108148794514,0.8276169458706734,-0.5887982618967834,0.6079822371177137,1.1815201552359502,-0.46765292959066734,-1.1747756877337578,0.12539506832767486,0.8444236630050397,0.4837479545939307,0.2626615850571374,0.25609179616383837,-0.34482586724742925,-1.0629525341853008,0.38530331033560733,1.6652564840701058,1.017710453432222,1.739805462678277,0.977218254223707,-0.11349498759333462,1.9125139328999086,-0.07919689362884139,0.19237236508550656,-1.218178626743223,1.5252495234723242,0.42515169637007116,-0.6917277873885234,-1.0914735632955341,0.1479495579758345,-0.769384799107449,-0.959114317069405,-0.11512199650222511,0.06717010137838174,-0.8100531665464591,0.7495654025364011,0.17261362176212222,-1.6122353899625055,2.0636152291749204,1.3542937788460374,0.3971750773103758,-1.6066263804550474,-0.847567402742816,2.2645832278875084,-0.04304356003073988,-1.3965861940480482,1.3607133938541376,-2.033089150596266,0.4936571407278187,-1.2255787715598412,-0.48127741316601513,3.05599930065596,-0.26528530741592665,-0.5031144218517964,2.0169311706777338,0.6137848243893546,0.5652221897804888,-0.7608485125554416,0.15896495846476275,-1.1521496906994413,-1.303672140570186,-0.5163893488317101,0.5326431891049507,-0.23498564823224072,-0.0075292175095747725,1.1807221464818747],\"type\":\"histogram\"},{\"histfunc\":\"count\",\"histnorm\":\"\",\"marker\":{\"color\":\"rgba(55, 128, 191, 1.0)\",\"line\":{\"color\":\"#4D5663\",\"width\":1.3}},\"name\":\"B\",\"nbinsx\":7,\"opacity\":0.8,\"orientation\":\"v\",\"x\":[-0.5606845687001836,1.6792241184825982,-0.08661661904826148,0.3898727869993485,0.01484572176819306,1.2923784950415658,-0.7547121807613962,-0.17924041096584103,-2.079556271100031,1.3741475772876197,-0.7265727387037649,0.07795556662307522,-1.6984034926570812,0.9514332912763463,0.9208568312409571,0.8721149896398802,-1.2006034959932614,0.9698322836075526,-1.7348279414407843,-0.18045584815021679,-0.15534958173210708,0.5778707279835965,-0.31094304485398533,-0.22119039196159165,1.3577782715590458,0.5976119660885164,-0.33861814766618836,0.009153919545416113,-0.905349622590771,0.797128717357109,0.36614038340714694,-1.5116109210853086,0.36233320503932614,-1.286401592931063,0.8197727302603469,1.110110135760402,0.316814577082492,0.8162624495735802,1.3508787939093665,0.9370194953434611,1.748037798224933,0.5260329111423281,0.5837856131293094,1.627503056742485,0.7597512835732089,0.1195243454589661,1.1031778871431137,0.0732232025003497,-0.4392083678404856,-2.0005261017160803,0.15086645476505978,0.7707078145347047,0.39845934776015907,0.60503610907641,-0.5676790205343145,-0.08728334160333123,-0.6736473541810989,1.3469654155549382,-0.52895187800803,-0.7715416124924191,0.32992146618986257,-0.20511451718899026,0.8823370549505434,-1.6350359682122242,0.1998129876390042,-1.1175159253196678,-2.2548754117108527,0.3841331487228912,-0.5647053958800019,1.4138362030889675,-0.7336674767371699,-0.0994770805480279,1.4129817421869901,1.3279684648445662,-0.3426837583140145,0.7427901223026995,0.9562542554682181,1.662527972510784,1.654208700671479,1.6277836234752037,0.2622646773981404,1.1110417788709064,-1.0758423905400494,0.5866561856112027,-0.3632825296055402,-0.5092436817558994,0.9829762441659161,-0.9039318124721808,-0.8761259788070621,1.282766952219753,-1.2659129574243786,1.1388669103882356,0.031596317962045775,-1.0028678826990054,-0.203214798443493,-2.0704178554216046,-0.6120462001187992,-1.6908135230507628,0.3945926141835523,-0.8402938448734616],\"type\":\"histogram\"},{\"histfunc\":\"count\",\"histnorm\":\"\",\"marker\":{\"color\":\"rgba(50, 171, 96, 1.0)\",\"line\":{\"color\":\"#4D5663\",\"width\":1.3}},\"name\":\"C\",\"nbinsx\":7,\"opacity\":0.8,\"orientation\":\"v\",\"x\":[-0.17510076833451887,1.0288698240177145,0.7294187475382269,-0.5578856629282004,-1.4427561070736776,0.4388161783702774,0.060563737566764815,1.1228360547515748,-1.1147708162876648,-1.2752660154204478,-1.7312113286523432,-0.82533168192219,0.8658741797078373,-0.41427836454014716,-0.9098894454547914,-1.800204706789089,0.6682338915047351,-0.20987374484294746,0.19598899319836607,-0.7669541641335651,0.4124924143896091,-1.8397233779403428,-2.4530517139415355,0.4424743832683385,-1.1279100199509753,0.8273645699863521,0.7060451811025258,-0.34841335926422856,-0.8179883446544839,-1.1938551743761843,0.23965205889367786,-0.003371851161309269,-0.3848283690882053,-0.3660579064690124,0.18789785147708796,1.6631657931534722,1.7407484140501224,1.4565488819779684,-0.6232723514435085,0.8486940617122866,-1.2524232797957384,1.0025461725315055,-1.6900742257435932,2.5965882936507287,0.8974446875412032,0.6409236834519745,-0.3004172819682092,-0.7308341507657704,-0.8473571913525139,0.18229635624312268,-1.4372588244194673,0.39970158575841475,1.4516847984516328,1.0026818566565996,1.6145013116745843,0.3370738959446078,0.9423240780645039,-0.6481922359095227,1.088239694258309,0.2757922834178292,0.05599297866846583,-0.5538316369091456,0.5839356030798746,3.77788003076131,-0.2814142162387364,-1.396739653898618,1.098733557716189,0.3481299362914519,0.5719545584678998,-1.1917432377063344,0.5562025971593422,0.2687526601731444,-0.6579484009003517,-0.2893864693705524,0.7529664222734219,0.5599036596190918,0.6972960000357077,-0.3165006408518295,0.12506772611635675,-0.1547960377329048,-0.19802705425048947,-1.7878921210147751,-0.7252978787352365,0.9169166661120889,-0.18418265183374585,0.9980844798991737,0.21372777438456053,0.1625712531452284,0.40518165848931825,-0.4024378051833785,0.034134439117629076,0.3801876036723134,-1.574634729531062,-1.279225040981382,1.9560622718390517,1.1699990486795044,-0.5492666922188294,-0.46782061675087566,-0.4457203824349354,-0.4973139229416746],\"type\":\"histogram\"},{\"histfunc\":\"count\",\"histnorm\":\"\",\"marker\":{\"color\":\"rgba(128, 0, 128, 1.0)\",\"line\":{\"color\":\"#4D5663\",\"width\":1.3}},\"name\":\"D\",\"nbinsx\":7,\"opacity\":0.8,\"orientation\":\"v\",\"x\":[0.028993705037304567,-0.6716875531197293,0.8334435896917214,-1.9716771967264062,1.50532385374814,0.14956974745594662,-0.06939513333845235,-0.2815157688175154,0.38684784925404336,0.14381043854226855,1.4876554131996642,-0.7370660801991634,1.5404097323754171,0.2040380802866936,0.14168081298982785,-0.8250878115833602,-1.7320260569405233,0.6359832967253354,-0.4695872751400371,-0.2673988678442753,-0.9881864665743314,1.5061033230127938,0.10598331717029001,0.10931223800100075,0.7694644275917429,0.5182483641705755,-0.3071935056280965,-0.4665082690544789,0.9447249121081155,2.0425295696010743,-0.43698105003454357,-0.907598909077158,0.29462902502362,0.10190992720602601,-0.8174929595408008,-0.18001152313077143,0.15566515500727343,0.13196150538499757,-1.0575979330248275,-0.2625832388597864,-0.24847941451559766,2.1485331533935943,-0.08717358871212114,-0.30940859490619027,-2.0046227174032225,1.5083427558825817,-1.5139213190088612,0.01563324569264091,0.8616742568840906,-0.8525617560577919,-1.4248262474160276,-0.3605394147608612,0.37716297286280276,0.6258658201541683,0.2569647630992787,-1.6369203499044183,0.7871465171480043,0.7355463996487434,0.48596059901344485,1.252482630695332,0.4369197688828738,-0.11016987718728498,-1.2248590164464839,-0.37699173885758686,0.013267497344670701,-0.8385954164259339,-1.333902638527453,-1.0835532755477346,1.5605143000742498,-0.4152456441491844,0.5942036262360473,0.5434734806548989,-1.0542816433101314,0.9865682135617165,-1.8060658371376346,-0.04991907939054093,-0.14854389029313436,-0.5375389631592972,0.4245378412844418,0.3468493151487389,0.23489491445703792,0.24001963017549055,-1.7849754803006823,-0.029436562746093183,1.261992804620589,0.6149667944501315,-0.23557799300923188,0.6309302264213924,0.49159285635577266,-0.8530324387313918,-0.8386954461087648,0.17224056036045315,0.8512415447812286,0.2539718936206673,-1.8082627145838914,1.0134201851014084,-1.400878111327254,-0.5350870859857267,-0.7669223496683658,1.097042962574408],\"type\":\"histogram\"}],                        {\"barmode\":\"overlay\",\"legend\":{\"bgcolor\":\"#F5F6F9\",\"font\":{\"color\":\"#4D5663\"}},\"paper_bgcolor\":\"#F5F6F9\",\"plot_bgcolor\":\"#F5F6F9\",\"template\":{\"data\":{\"barpolar\":[{\"marker\":{\"line\":{\"color\":\"#E5ECF6\",\"width\":0.5},\"pattern\":{\"fillmode\":\"overlay\",\"size\":10,\"solidity\":0.2}},\"type\":\"barpolar\"}],\"bar\":[{\"error_x\":{\"color\":\"#2a3f5f\"},\"error_y\":{\"color\":\"#2a3f5f\"},\"marker\":{\"line\":{\"color\":\"#E5ECF6\",\"width\":0.5},\"pattern\":{\"fillmode\":\"overlay\",\"size\":10,\"solidity\":0.2}},\"type\":\"bar\"}],\"carpet\":[{\"aaxis\":{\"endlinecolor\":\"#2a3f5f\",\"gridcolor\":\"white\",\"linecolor\":\"white\",\"minorgridcolor\":\"white\",\"startlinecolor\":\"#2a3f5f\"},\"baxis\":{\"endlinecolor\":\"#2a3f5f\",\"gridcolor\":\"white\",\"linecolor\":\"white\",\"minorgridcolor\":\"white\",\"startlinecolor\":\"#2a3f5f\"},\"type\":\"carpet\"}],\"choropleth\":[{\"colorbar\":{\"outlinewidth\":0,\"ticks\":\"\"},\"type\":\"choropleth\"}],\"contourcarpet\":[{\"colorbar\":{\"outlinewidth\":0,\"ticks\":\"\"},\"type\":\"contourcarpet\"}],\"contour\":[{\"colorbar\":{\"outlinewidth\":0,\"ticks\":\"\"},\"colorscale\":[[0.0,\"#0d0887\"],[0.1111111111111111,\"#46039f\"],[0.2222222222222222,\"#7201a8\"],[0.3333333333333333,\"#9c179e\"],[0.4444444444444444,\"#bd3786\"],[0.5555555555555556,\"#d8576b\"],[0.6666666666666666,\"#ed7953\"],[0.7777777777777778,\"#fb9f3a\"],[0.8888888888888888,\"#fdca26\"],[1.0,\"#f0f921\"]],\"type\":\"contour\"}],\"heatmapgl\":[{\"colorbar\":{\"outlinewidth\":0,\"ticks\":\"\"},\"colorscale\":[[0.0,\"#0d0887\"],[0.1111111111111111,\"#46039f\"],[0.2222222222222222,\"#7201a8\"],[0.3333333333333333,\"#9c179e\"],[0.4444444444444444,\"#bd3786\"],[0.5555555555555556,\"#d8576b\"],[0.6666666666666666,\"#ed7953\"],[0.7777777777777778,\"#fb9f3a\"],[0.8888888888888888,\"#fdca26\"],[1.0,\"#f0f921\"]],\"type\":\"heatmapgl\"}],\"heatmap\":[{\"colorbar\":{\"outlinewidth\":0,\"ticks\":\"\"},\"colorscale\":[[0.0,\"#0d0887\"],[0.1111111111111111,\"#46039f\"],[0.2222222222222222,\"#7201a8\"],[0.3333333333333333,\"#9c179e\"],[0.4444444444444444,\"#bd3786\"],[0.5555555555555556,\"#d8576b\"],[0.6666666666666666,\"#ed7953\"],[0.7777777777777778,\"#fb9f3a\"],[0.8888888888888888,\"#fdca26\"],[1.0,\"#f0f921\"]],\"type\":\"heatmap\"}],\"histogram2dcontour\":[{\"colorbar\":{\"outlinewidth\":0,\"ticks\":\"\"},\"colorscale\":[[0.0,\"#0d0887\"],[0.1111111111111111,\"#46039f\"],[0.2222222222222222,\"#7201a8\"],[0.3333333333333333,\"#9c179e\"],[0.4444444444444444,\"#bd3786\"],[0.5555555555555556,\"#d8576b\"],[0.6666666666666666,\"#ed7953\"],[0.7777777777777778,\"#fb9f3a\"],[0.8888888888888888,\"#fdca26\"],[1.0,\"#f0f921\"]],\"type\":\"histogram2dcontour\"}],\"histogram2d\":[{\"colorbar\":{\"outlinewidth\":0,\"ticks\":\"\"},\"colorscale\":[[0.0,\"#0d0887\"],[0.1111111111111111,\"#46039f\"],[0.2222222222222222,\"#7201a8\"],[0.3333333333333333,\"#9c179e\"],[0.4444444444444444,\"#bd3786\"],[0.5555555555555556,\"#d8576b\"],[0.6666666666666666,\"#ed7953\"],[0.7777777777777778,\"#fb9f3a\"],[0.8888888888888888,\"#fdca26\"],[1.0,\"#f0f921\"]],\"type\":\"histogram2d\"}],\"histogram\":[{\"marker\":{\"pattern\":{\"fillmode\":\"overlay\",\"size\":10,\"solidity\":0.2}},\"type\":\"histogram\"}],\"mesh3d\":[{\"colorbar\":{\"outlinewidth\":0,\"ticks\":\"\"},\"type\":\"mesh3d\"}],\"parcoords\":[{\"line\":{\"colorbar\":{\"outlinewidth\":0,\"ticks\":\"\"}},\"type\":\"parcoords\"}],\"pie\":[{\"automargin\":true,\"type\":\"pie\"}],\"scatter3d\":[{\"line\":{\"colorbar\":{\"outlinewidth\":0,\"ticks\":\"\"}},\"marker\":{\"colorbar\":{\"outlinewidth\":0,\"ticks\":\"\"}},\"type\":\"scatter3d\"}],\"scattercarpet\":[{\"marker\":{\"colorbar\":{\"outlinewidth\":0,\"ticks\":\"\"}},\"type\":\"scattercarpet\"}],\"scattergeo\":[{\"marker\":{\"colorbar\":{\"outlinewidth\":0,\"ticks\":\"\"}},\"type\":\"scattergeo\"}],\"scattergl\":[{\"marker\":{\"colorbar\":{\"outlinewidth\":0,\"ticks\":\"\"}},\"type\":\"scattergl\"}],\"scattermapbox\":[{\"marker\":{\"colorbar\":{\"outlinewidth\":0,\"ticks\":\"\"}},\"type\":\"scattermapbox\"}],\"scatterpolargl\":[{\"marker\":{\"colorbar\":{\"outlinewidth\":0,\"ticks\":\"\"}},\"type\":\"scatterpolargl\"}],\"scatterpolar\":[{\"marker\":{\"colorbar\":{\"outlinewidth\":0,\"ticks\":\"\"}},\"type\":\"scatterpolar\"}],\"scatter\":[{\"fillpattern\":{\"fillmode\":\"overlay\",\"size\":10,\"solidity\":0.2},\"type\":\"scatter\"}],\"scatterternary\":[{\"marker\":{\"colorbar\":{\"outlinewidth\":0,\"ticks\":\"\"}},\"type\":\"scatterternary\"}],\"surface\":[{\"colorbar\":{\"outlinewidth\":0,\"ticks\":\"\"},\"colorscale\":[[0.0,\"#0d0887\"],[0.1111111111111111,\"#46039f\"],[0.2222222222222222,\"#7201a8\"],[0.3333333333333333,\"#9c179e\"],[0.4444444444444444,\"#bd3786\"],[0.5555555555555556,\"#d8576b\"],[0.6666666666666666,\"#ed7953\"],[0.7777777777777778,\"#fb9f3a\"],[0.8888888888888888,\"#fdca26\"],[1.0,\"#f0f921\"]],\"type\":\"surface\"}],\"table\":[{\"cells\":{\"fill\":{\"color\":\"#EBF0F8\"},\"line\":{\"color\":\"white\"}},\"header\":{\"fill\":{\"color\":\"#C8D4E3\"},\"line\":{\"color\":\"white\"}},\"type\":\"table\"}]},\"layout\":{\"annotationdefaults\":{\"arrowcolor\":\"#2a3f5f\",\"arrowhead\":0,\"arrowwidth\":1},\"autotypenumbers\":\"strict\",\"coloraxis\":{\"colorbar\":{\"outlinewidth\":0,\"ticks\":\"\"}},\"colorscale\":{\"diverging\":[[0,\"#8e0152\"],[0.1,\"#c51b7d\"],[0.2,\"#de77ae\"],[0.3,\"#f1b6da\"],[0.4,\"#fde0ef\"],[0.5,\"#f7f7f7\"],[0.6,\"#e6f5d0\"],[0.7,\"#b8e186\"],[0.8,\"#7fbc41\"],[0.9,\"#4d9221\"],[1,\"#276419\"]],\"sequential\":[[0.0,\"#0d0887\"],[0.1111111111111111,\"#46039f\"],[0.2222222222222222,\"#7201a8\"],[0.3333333333333333,\"#9c179e\"],[0.4444444444444444,\"#bd3786\"],[0.5555555555555556,\"#d8576b\"],[0.6666666666666666,\"#ed7953\"],[0.7777777777777778,\"#fb9f3a\"],[0.8888888888888888,\"#fdca26\"],[1.0,\"#f0f921\"]],\"sequentialminus\":[[0.0,\"#0d0887\"],[0.1111111111111111,\"#46039f\"],[0.2222222222222222,\"#7201a8\"],[0.3333333333333333,\"#9c179e\"],[0.4444444444444444,\"#bd3786\"],[0.5555555555555556,\"#d8576b\"],[0.6666666666666666,\"#ed7953\"],[0.7777777777777778,\"#fb9f3a\"],[0.8888888888888888,\"#fdca26\"],[1.0,\"#f0f921\"]]},\"colorway\":[\"#636efa\",\"#EF553B\",\"#00cc96\",\"#ab63fa\",\"#FFA15A\",\"#19d3f3\",\"#FF6692\",\"#B6E880\",\"#FF97FF\",\"#FECB52\"],\"font\":{\"color\":\"#2a3f5f\"},\"geo\":{\"bgcolor\":\"white\",\"lakecolor\":\"white\",\"landcolor\":\"#E5ECF6\",\"showlakes\":true,\"showland\":true,\"subunitcolor\":\"white\"},\"hoverlabel\":{\"align\":\"left\"},\"hovermode\":\"closest\",\"mapbox\":{\"style\":\"light\"},\"paper_bgcolor\":\"white\",\"plot_bgcolor\":\"#E5ECF6\",\"polar\":{\"angularaxis\":{\"gridcolor\":\"white\",\"linecolor\":\"white\",\"ticks\":\"\"},\"bgcolor\":\"#E5ECF6\",\"radialaxis\":{\"gridcolor\":\"white\",\"linecolor\":\"white\",\"ticks\":\"\"}},\"scene\":{\"xaxis\":{\"backgroundcolor\":\"#E5ECF6\",\"gridcolor\":\"white\",\"gridwidth\":2,\"linecolor\":\"white\",\"showbackground\":true,\"ticks\":\"\",\"zerolinecolor\":\"white\"},\"yaxis\":{\"backgroundcolor\":\"#E5ECF6\",\"gridcolor\":\"white\",\"gridwidth\":2,\"linecolor\":\"white\",\"showbackground\":true,\"ticks\":\"\",\"zerolinecolor\":\"white\"},\"zaxis\":{\"backgroundcolor\":\"#E5ECF6\",\"gridcolor\":\"white\",\"gridwidth\":2,\"linecolor\":\"white\",\"showbackground\":true,\"ticks\":\"\",\"zerolinecolor\":\"white\"}},\"shapedefaults\":{\"line\":{\"color\":\"#2a3f5f\"}},\"ternary\":{\"aaxis\":{\"gridcolor\":\"white\",\"linecolor\":\"white\",\"ticks\":\"\"},\"baxis\":{\"gridcolor\":\"white\",\"linecolor\":\"white\",\"ticks\":\"\"},\"bgcolor\":\"#E5ECF6\",\"caxis\":{\"gridcolor\":\"white\",\"linecolor\":\"white\",\"ticks\":\"\"}},\"title\":{\"x\":0.05},\"xaxis\":{\"automargin\":true,\"gridcolor\":\"white\",\"linecolor\":\"white\",\"ticks\":\"\",\"title\":{\"standoff\":15},\"zerolinecolor\":\"white\",\"zerolinewidth\":2},\"yaxis\":{\"automargin\":true,\"gridcolor\":\"white\",\"linecolor\":\"white\",\"ticks\":\"\",\"title\":{\"standoff\":15},\"zerolinecolor\":\"white\",\"zerolinewidth\":2}}},\"title\":{\"font\":{\"color\":\"#4D5663\"}},\"xaxis\":{\"gridcolor\":\"#E1E5ED\",\"showgrid\":true,\"tickfont\":{\"color\":\"#4D5663\"},\"title\":{\"font\":{\"color\":\"#4D5663\"},\"text\":\"\"},\"zerolinecolor\":\"#E1E5ED\"},\"yaxis\":{\"gridcolor\":\"#E1E5ED\",\"showgrid\":true,\"tickfont\":{\"color\":\"#4D5663\"},\"title\":{\"font\":{\"color\":\"#4D5663\"},\"text\":\"\"},\"zerolinecolor\":\"#E1E5ED\"}},                        {\"showLink\": true, \"linkText\": \"Export to plot.ly\", \"plotlyServerURL\": \"https://plot.ly\", \"responsive\": true}                    ).then(function(){\n",
       "                            \n",
       "var gd = document.getElementById('d0fc0da1-f105-407b-8988-3077c05358e0');\n",
       "var x = new MutationObserver(function (mutations, observer) {{\n",
       "        var display = window.getComputedStyle(gd).display;\n",
       "        if (!display || display === 'none') {{\n",
       "            console.log([gd, 'removed!']);\n",
       "            Plotly.purge(gd);\n",
       "            observer.disconnect();\n",
       "        }}\n",
       "}});\n",
       "\n",
       "// Listen for the removal of the full notebook cells\n",
       "var notebookContainer = gd.closest('#notebook-container');\n",
       "if (notebookContainer) {{\n",
       "    x.observe(notebookContainer, {childList: true});\n",
       "}}\n",
       "\n",
       "// Listen for the clearing of the current output cell\n",
       "var outputEl = gd.closest('.output');\n",
       "if (outputEl) {{\n",
       "    x.observe(outputEl, {childList: true});\n",
       "}}\n",
       "\n",
       "                        })                };                });            </script>        </div>"
      ]
     },
     "metadata": {},
     "output_type": "display_data"
    }
   ],
   "source": [
    "df1.iplot(kind='hist', bins=7)"
   ]
  },
  {
   "cell_type": "code",
   "execution_count": 21,
   "metadata": {},
   "outputs": [],
   "source": [
    "df5=df3[['x','y']]"
   ]
  },
  {
   "cell_type": "code",
   "execution_count": 22,
   "metadata": {},
   "outputs": [
    {
     "data": {
      "text/html": [
       "<div>\n",
       "<style scoped>\n",
       "    .dataframe tbody tr th:only-of-type {\n",
       "        vertical-align: middle;\n",
       "    }\n",
       "\n",
       "    .dataframe tbody tr th {\n",
       "        vertical-align: top;\n",
       "    }\n",
       "\n",
       "    .dataframe thead th {\n",
       "        text-align: right;\n",
       "    }\n",
       "</style>\n",
       "<table border=\"1\" class=\"dataframe\">\n",
       "  <thead>\n",
       "    <tr style=\"text-align: right;\">\n",
       "      <th></th>\n",
       "      <th>x</th>\n",
       "      <th>y</th>\n",
       "    </tr>\n",
       "  </thead>\n",
       "  <tbody>\n",
       "    <tr>\n",
       "      <th>0</th>\n",
       "      <td>1</td>\n",
       "      <td>12</td>\n",
       "    </tr>\n",
       "    <tr>\n",
       "      <th>1</th>\n",
       "      <td>2</td>\n",
       "      <td>23</td>\n",
       "    </tr>\n",
       "    <tr>\n",
       "      <th>2</th>\n",
       "      <td>3</td>\n",
       "      <td>15</td>\n",
       "    </tr>\n",
       "    <tr>\n",
       "      <th>3</th>\n",
       "      <td>4</td>\n",
       "      <td>35</td>\n",
       "    </tr>\n",
       "    <tr>\n",
       "      <th>4</th>\n",
       "      <td>5</td>\n",
       "      <td>6</td>\n",
       "    </tr>\n",
       "    <tr>\n",
       "      <th>5</th>\n",
       "      <td>6</td>\n",
       "      <td>26</td>\n",
       "    </tr>\n",
       "    <tr>\n",
       "      <th>6</th>\n",
       "      <td>7</td>\n",
       "      <td>52</td>\n",
       "    </tr>\n",
       "  </tbody>\n",
       "</table>\n",
       "</div>"
      ],
      "text/plain": [
       "   x   y\n",
       "0  1  12\n",
       "1  2  23\n",
       "2  3  15\n",
       "3  4  35\n",
       "4  5   6\n",
       "5  6  26\n",
       "6  7  52"
      ]
     },
     "execution_count": 22,
     "metadata": {},
     "output_type": "execute_result"
    }
   ],
   "source": [
    "df5"
   ]
  },
  {
   "cell_type": "code",
   "execution_count": 23,
   "metadata": {},
   "outputs": [
    {
     "data": {
      "application/vnd.plotly.v1+json": {
       "config": {
        "linkText": "Export to plot.ly",
        "plotlyServerURL": "https://plot.ly",
        "showLink": true
       },
       "data": [
        {
         "marker": {
          "color": [
           "rgb(255, 153, 51)",
           "rgb(55, 128, 191)",
           "rgb(50, 171, 96)",
           "rgb(128, 0, 128)",
           "rgb(219, 64, 82)",
           "rgb(0, 128, 128)",
           "rgb(255, 255, 51)",
           "rgb(128, 128, 0)",
           "rgb(251, 128, 114)",
           "rgb(128, 177, 211)"
          ],
          "line": {
           "width": 1.3
          },
          "size": [
           48,
           67,
           63,
           42,
           28,
           58,
           52,
           69,
           33,
           30,
           23,
           38,
           65,
           44,
           36,
           22,
           62,
           48,
           54,
           39,
           57,
           21,
           12,
           58,
           33,
           64,
           62,
           45,
           38,
           32,
           55,
           51,
           45,
           45,
           54,
           78,
           79,
           74,
           41,
           64,
           31,
           67,
           24,
           93,
           65,
           61,
           46,
           39,
           37,
           54,
           28,
           57,
           74,
           67,
           77,
           56,
           66,
           40,
           68,
           55,
           52,
           42,
           60,
           112,
           46,
           28,
           69,
           56,
           60,
           32,
           60,
           55,
           40,
           46,
           63,
           60,
           62,
           46,
           53,
           48,
           48,
           22,
           39,
           66,
           48,
           67,
           54,
           53,
           57,
           44,
           51,
           57,
           26,
           30,
           82,
           70,
           42,
           43,
           44,
           43
          ],
          "symbol": "circle"
         },
         "mode": "markers",
         "text": "",
         "type": "scatter",
         "x": [
          -0.27164247126346136,
          -1.3257070606440196,
          0.09509138803241492,
          0.5677789260155507,
          -1.7702004827781839,
          0.8192901452031851,
          0.42843016749584817,
          0.48891810080098663,
          -0.13885574098913533,
          -1.6637758910766713,
          -0.687383321981337,
          0.9406647337380462,
          -0.690819839092722,
          1.2806354120967807,
          0.19519500649436486,
          -0.9617059095864561,
          -0.34082321440792496,
          0.40501808153456115,
          1.0256932200321933,
          0.19792777139922432,
          0.4473417964638847,
          -0.746357600971722,
          -0.7463331494444009,
          1.8614426561055353,
          -1.1921824686638272,
          0.33702637966918264,
          -0.019990132981849144,
          -1.0365459781316264,
          -0.9182930313854358,
          1.0514506561892487,
          1.4231033015561043,
          0.9388329560106634,
          -0.6005788533325781,
          -1.5577073542570385,
          0.7729435472995098,
          -0.7886108148794514,
          0.8276169458706734,
          -0.5887982618967834,
          0.6079822371177137,
          1.1815201552359502,
          -0.46765292959066734,
          -1.1747756877337578,
          0.12539506832767486,
          0.8444236630050397,
          0.4837479545939307,
          0.2626615850571374,
          0.25609179616383837,
          -0.34482586724742925,
          -1.0629525341853008,
          0.38530331033560733,
          1.6652564840701058,
          1.017710453432222,
          1.739805462678277,
          0.977218254223707,
          -0.11349498759333462,
          1.9125139328999086,
          -0.07919689362884139,
          0.19237236508550656,
          -1.218178626743223,
          1.5252495234723242,
          0.42515169637007116,
          -0.6917277873885234,
          -1.0914735632955341,
          0.1479495579758345,
          -0.769384799107449,
          -0.959114317069405,
          -0.11512199650222511,
          0.06717010137838174,
          -0.8100531665464591,
          0.7495654025364011,
          0.17261362176212222,
          -1.6122353899625055,
          2.0636152291749204,
          1.3542937788460374,
          0.3971750773103758,
          -1.6066263804550474,
          -0.847567402742816,
          2.2645832278875084,
          -0.04304356003073988,
          -1.3965861940480482,
          1.3607133938541376,
          -2.033089150596266,
          0.4936571407278187,
          -1.2255787715598412,
          -0.48127741316601513,
          3.05599930065596,
          -0.26528530741592665,
          -0.5031144218517964,
          2.0169311706777338,
          0.6137848243893546,
          0.5652221897804888,
          -0.7608485125554416,
          0.15896495846476275,
          -1.1521496906994413,
          -1.303672140570186,
          -0.5163893488317101,
          0.5326431891049507,
          -0.23498564823224072,
          -0.0075292175095747725,
          1.1807221464818747
         ],
         "y": [
          -0.5606845687001836,
          1.6792241184825982,
          -0.08661661904826148,
          0.3898727869993485,
          0.01484572176819306,
          1.2923784950415658,
          -0.7547121807613962,
          -0.17924041096584103,
          -2.079556271100031,
          1.3741475772876197,
          -0.7265727387037649,
          0.07795556662307522,
          -1.6984034926570812,
          0.9514332912763463,
          0.9208568312409571,
          0.8721149896398802,
          -1.2006034959932614,
          0.9698322836075526,
          -1.7348279414407843,
          -0.18045584815021679,
          -0.15534958173210708,
          0.5778707279835965,
          -0.31094304485398533,
          -0.22119039196159165,
          1.3577782715590458,
          0.5976119660885164,
          -0.33861814766618836,
          0.009153919545416113,
          -0.905349622590771,
          0.797128717357109,
          0.36614038340714694,
          -1.5116109210853086,
          0.36233320503932614,
          -1.286401592931063,
          0.8197727302603469,
          1.110110135760402,
          0.316814577082492,
          0.8162624495735802,
          1.3508787939093665,
          0.9370194953434611,
          1.748037798224933,
          0.5260329111423281,
          0.5837856131293094,
          1.627503056742485,
          0.7597512835732089,
          0.1195243454589661,
          1.1031778871431137,
          0.0732232025003497,
          -0.4392083678404856,
          -2.0005261017160803,
          0.15086645476505978,
          0.7707078145347047,
          0.39845934776015907,
          0.60503610907641,
          -0.5676790205343145,
          -0.08728334160333123,
          -0.6736473541810989,
          1.3469654155549382,
          -0.52895187800803,
          -0.7715416124924191,
          0.32992146618986257,
          -0.20511451718899026,
          0.8823370549505434,
          -1.6350359682122242,
          0.1998129876390042,
          -1.1175159253196678,
          -2.2548754117108527,
          0.3841331487228912,
          -0.5647053958800019,
          1.4138362030889675,
          -0.7336674767371699,
          -0.0994770805480279,
          1.4129817421869901,
          1.3279684648445662,
          -0.3426837583140145,
          0.7427901223026995,
          0.9562542554682181,
          1.662527972510784,
          1.654208700671479,
          1.6277836234752037,
          0.2622646773981404,
          1.1110417788709064,
          -1.0758423905400494,
          0.5866561856112027,
          -0.3632825296055402,
          -0.5092436817558994,
          0.9829762441659161,
          -0.9039318124721808,
          -0.8761259788070621,
          1.282766952219753,
          -1.2659129574243786,
          1.1388669103882356,
          0.031596317962045775,
          -1.0028678826990054,
          -0.203214798443493,
          -2.0704178554216046,
          -0.6120462001187992,
          -1.6908135230507628,
          0.3945926141835523,
          -0.8402938448734616
         ]
        }
       ],
       "layout": {
        "legend": {
         "bgcolor": "#F5F6F9",
         "font": {
          "color": "#4D5663"
         }
        },
        "paper_bgcolor": "#F5F6F9",
        "plot_bgcolor": "#F5F6F9",
        "template": {
         "data": {
          "bar": [
           {
            "error_x": {
             "color": "#2a3f5f"
            },
            "error_y": {
             "color": "#2a3f5f"
            },
            "marker": {
             "line": {
              "color": "#E5ECF6",
              "width": 0.5
             },
             "pattern": {
              "fillmode": "overlay",
              "size": 10,
              "solidity": 0.2
             }
            },
            "type": "bar"
           }
          ],
          "barpolar": [
           {
            "marker": {
             "line": {
              "color": "#E5ECF6",
              "width": 0.5
             },
             "pattern": {
              "fillmode": "overlay",
              "size": 10,
              "solidity": 0.2
             }
            },
            "type": "barpolar"
           }
          ],
          "carpet": [
           {
            "aaxis": {
             "endlinecolor": "#2a3f5f",
             "gridcolor": "white",
             "linecolor": "white",
             "minorgridcolor": "white",
             "startlinecolor": "#2a3f5f"
            },
            "baxis": {
             "endlinecolor": "#2a3f5f",
             "gridcolor": "white",
             "linecolor": "white",
             "minorgridcolor": "white",
             "startlinecolor": "#2a3f5f"
            },
            "type": "carpet"
           }
          ],
          "choropleth": [
           {
            "colorbar": {
             "outlinewidth": 0,
             "ticks": ""
            },
            "type": "choropleth"
           }
          ],
          "contour": [
           {
            "colorbar": {
             "outlinewidth": 0,
             "ticks": ""
            },
            "colorscale": [
             [
              0,
              "#0d0887"
             ],
             [
              0.1111111111111111,
              "#46039f"
             ],
             [
              0.2222222222222222,
              "#7201a8"
             ],
             [
              0.3333333333333333,
              "#9c179e"
             ],
             [
              0.4444444444444444,
              "#bd3786"
             ],
             [
              0.5555555555555556,
              "#d8576b"
             ],
             [
              0.6666666666666666,
              "#ed7953"
             ],
             [
              0.7777777777777778,
              "#fb9f3a"
             ],
             [
              0.8888888888888888,
              "#fdca26"
             ],
             [
              1,
              "#f0f921"
             ]
            ],
            "type": "contour"
           }
          ],
          "contourcarpet": [
           {
            "colorbar": {
             "outlinewidth": 0,
             "ticks": ""
            },
            "type": "contourcarpet"
           }
          ],
          "heatmap": [
           {
            "colorbar": {
             "outlinewidth": 0,
             "ticks": ""
            },
            "colorscale": [
             [
              0,
              "#0d0887"
             ],
             [
              0.1111111111111111,
              "#46039f"
             ],
             [
              0.2222222222222222,
              "#7201a8"
             ],
             [
              0.3333333333333333,
              "#9c179e"
             ],
             [
              0.4444444444444444,
              "#bd3786"
             ],
             [
              0.5555555555555556,
              "#d8576b"
             ],
             [
              0.6666666666666666,
              "#ed7953"
             ],
             [
              0.7777777777777778,
              "#fb9f3a"
             ],
             [
              0.8888888888888888,
              "#fdca26"
             ],
             [
              1,
              "#f0f921"
             ]
            ],
            "type": "heatmap"
           }
          ],
          "heatmapgl": [
           {
            "colorbar": {
             "outlinewidth": 0,
             "ticks": ""
            },
            "colorscale": [
             [
              0,
              "#0d0887"
             ],
             [
              0.1111111111111111,
              "#46039f"
             ],
             [
              0.2222222222222222,
              "#7201a8"
             ],
             [
              0.3333333333333333,
              "#9c179e"
             ],
             [
              0.4444444444444444,
              "#bd3786"
             ],
             [
              0.5555555555555556,
              "#d8576b"
             ],
             [
              0.6666666666666666,
              "#ed7953"
             ],
             [
              0.7777777777777778,
              "#fb9f3a"
             ],
             [
              0.8888888888888888,
              "#fdca26"
             ],
             [
              1,
              "#f0f921"
             ]
            ],
            "type": "heatmapgl"
           }
          ],
          "histogram": [
           {
            "marker": {
             "pattern": {
              "fillmode": "overlay",
              "size": 10,
              "solidity": 0.2
             }
            },
            "type": "histogram"
           }
          ],
          "histogram2d": [
           {
            "colorbar": {
             "outlinewidth": 0,
             "ticks": ""
            },
            "colorscale": [
             [
              0,
              "#0d0887"
             ],
             [
              0.1111111111111111,
              "#46039f"
             ],
             [
              0.2222222222222222,
              "#7201a8"
             ],
             [
              0.3333333333333333,
              "#9c179e"
             ],
             [
              0.4444444444444444,
              "#bd3786"
             ],
             [
              0.5555555555555556,
              "#d8576b"
             ],
             [
              0.6666666666666666,
              "#ed7953"
             ],
             [
              0.7777777777777778,
              "#fb9f3a"
             ],
             [
              0.8888888888888888,
              "#fdca26"
             ],
             [
              1,
              "#f0f921"
             ]
            ],
            "type": "histogram2d"
           }
          ],
          "histogram2dcontour": [
           {
            "colorbar": {
             "outlinewidth": 0,
             "ticks": ""
            },
            "colorscale": [
             [
              0,
              "#0d0887"
             ],
             [
              0.1111111111111111,
              "#46039f"
             ],
             [
              0.2222222222222222,
              "#7201a8"
             ],
             [
              0.3333333333333333,
              "#9c179e"
             ],
             [
              0.4444444444444444,
              "#bd3786"
             ],
             [
              0.5555555555555556,
              "#d8576b"
             ],
             [
              0.6666666666666666,
              "#ed7953"
             ],
             [
              0.7777777777777778,
              "#fb9f3a"
             ],
             [
              0.8888888888888888,
              "#fdca26"
             ],
             [
              1,
              "#f0f921"
             ]
            ],
            "type": "histogram2dcontour"
           }
          ],
          "mesh3d": [
           {
            "colorbar": {
             "outlinewidth": 0,
             "ticks": ""
            },
            "type": "mesh3d"
           }
          ],
          "parcoords": [
           {
            "line": {
             "colorbar": {
              "outlinewidth": 0,
              "ticks": ""
             }
            },
            "type": "parcoords"
           }
          ],
          "pie": [
           {
            "automargin": true,
            "type": "pie"
           }
          ],
          "scatter": [
           {
            "fillpattern": {
             "fillmode": "overlay",
             "size": 10,
             "solidity": 0.2
            },
            "type": "scatter"
           }
          ],
          "scatter3d": [
           {
            "line": {
             "colorbar": {
              "outlinewidth": 0,
              "ticks": ""
             }
            },
            "marker": {
             "colorbar": {
              "outlinewidth": 0,
              "ticks": ""
             }
            },
            "type": "scatter3d"
           }
          ],
          "scattercarpet": [
           {
            "marker": {
             "colorbar": {
              "outlinewidth": 0,
              "ticks": ""
             }
            },
            "type": "scattercarpet"
           }
          ],
          "scattergeo": [
           {
            "marker": {
             "colorbar": {
              "outlinewidth": 0,
              "ticks": ""
             }
            },
            "type": "scattergeo"
           }
          ],
          "scattergl": [
           {
            "marker": {
             "colorbar": {
              "outlinewidth": 0,
              "ticks": ""
             }
            },
            "type": "scattergl"
           }
          ],
          "scattermapbox": [
           {
            "marker": {
             "colorbar": {
              "outlinewidth": 0,
              "ticks": ""
             }
            },
            "type": "scattermapbox"
           }
          ],
          "scatterpolar": [
           {
            "marker": {
             "colorbar": {
              "outlinewidth": 0,
              "ticks": ""
             }
            },
            "type": "scatterpolar"
           }
          ],
          "scatterpolargl": [
           {
            "marker": {
             "colorbar": {
              "outlinewidth": 0,
              "ticks": ""
             }
            },
            "type": "scatterpolargl"
           }
          ],
          "scatterternary": [
           {
            "marker": {
             "colorbar": {
              "outlinewidth": 0,
              "ticks": ""
             }
            },
            "type": "scatterternary"
           }
          ],
          "surface": [
           {
            "colorbar": {
             "outlinewidth": 0,
             "ticks": ""
            },
            "colorscale": [
             [
              0,
              "#0d0887"
             ],
             [
              0.1111111111111111,
              "#46039f"
             ],
             [
              0.2222222222222222,
              "#7201a8"
             ],
             [
              0.3333333333333333,
              "#9c179e"
             ],
             [
              0.4444444444444444,
              "#bd3786"
             ],
             [
              0.5555555555555556,
              "#d8576b"
             ],
             [
              0.6666666666666666,
              "#ed7953"
             ],
             [
              0.7777777777777778,
              "#fb9f3a"
             ],
             [
              0.8888888888888888,
              "#fdca26"
             ],
             [
              1,
              "#f0f921"
             ]
            ],
            "type": "surface"
           }
          ],
          "table": [
           {
            "cells": {
             "fill": {
              "color": "#EBF0F8"
             },
             "line": {
              "color": "white"
             }
            },
            "header": {
             "fill": {
              "color": "#C8D4E3"
             },
             "line": {
              "color": "white"
             }
            },
            "type": "table"
           }
          ]
         },
         "layout": {
          "annotationdefaults": {
           "arrowcolor": "#2a3f5f",
           "arrowhead": 0,
           "arrowwidth": 1
          },
          "autotypenumbers": "strict",
          "coloraxis": {
           "colorbar": {
            "outlinewidth": 0,
            "ticks": ""
           }
          },
          "colorscale": {
           "diverging": [
            [
             0,
             "#8e0152"
            ],
            [
             0.1,
             "#c51b7d"
            ],
            [
             0.2,
             "#de77ae"
            ],
            [
             0.3,
             "#f1b6da"
            ],
            [
             0.4,
             "#fde0ef"
            ],
            [
             0.5,
             "#f7f7f7"
            ],
            [
             0.6,
             "#e6f5d0"
            ],
            [
             0.7,
             "#b8e186"
            ],
            [
             0.8,
             "#7fbc41"
            ],
            [
             0.9,
             "#4d9221"
            ],
            [
             1,
             "#276419"
            ]
           ],
           "sequential": [
            [
             0,
             "#0d0887"
            ],
            [
             0.1111111111111111,
             "#46039f"
            ],
            [
             0.2222222222222222,
             "#7201a8"
            ],
            [
             0.3333333333333333,
             "#9c179e"
            ],
            [
             0.4444444444444444,
             "#bd3786"
            ],
            [
             0.5555555555555556,
             "#d8576b"
            ],
            [
             0.6666666666666666,
             "#ed7953"
            ],
            [
             0.7777777777777778,
             "#fb9f3a"
            ],
            [
             0.8888888888888888,
             "#fdca26"
            ],
            [
             1,
             "#f0f921"
            ]
           ],
           "sequentialminus": [
            [
             0,
             "#0d0887"
            ],
            [
             0.1111111111111111,
             "#46039f"
            ],
            [
             0.2222222222222222,
             "#7201a8"
            ],
            [
             0.3333333333333333,
             "#9c179e"
            ],
            [
             0.4444444444444444,
             "#bd3786"
            ],
            [
             0.5555555555555556,
             "#d8576b"
            ],
            [
             0.6666666666666666,
             "#ed7953"
            ],
            [
             0.7777777777777778,
             "#fb9f3a"
            ],
            [
             0.8888888888888888,
             "#fdca26"
            ],
            [
             1,
             "#f0f921"
            ]
           ]
          },
          "colorway": [
           "#636efa",
           "#EF553B",
           "#00cc96",
           "#ab63fa",
           "#FFA15A",
           "#19d3f3",
           "#FF6692",
           "#B6E880",
           "#FF97FF",
           "#FECB52"
          ],
          "font": {
           "color": "#2a3f5f"
          },
          "geo": {
           "bgcolor": "white",
           "lakecolor": "white",
           "landcolor": "#E5ECF6",
           "showlakes": true,
           "showland": true,
           "subunitcolor": "white"
          },
          "hoverlabel": {
           "align": "left"
          },
          "hovermode": "closest",
          "mapbox": {
           "style": "light"
          },
          "paper_bgcolor": "white",
          "plot_bgcolor": "#E5ECF6",
          "polar": {
           "angularaxis": {
            "gridcolor": "white",
            "linecolor": "white",
            "ticks": ""
           },
           "bgcolor": "#E5ECF6",
           "radialaxis": {
            "gridcolor": "white",
            "linecolor": "white",
            "ticks": ""
           }
          },
          "scene": {
           "xaxis": {
            "backgroundcolor": "#E5ECF6",
            "gridcolor": "white",
            "gridwidth": 2,
            "linecolor": "white",
            "showbackground": true,
            "ticks": "",
            "zerolinecolor": "white"
           },
           "yaxis": {
            "backgroundcolor": "#E5ECF6",
            "gridcolor": "white",
            "gridwidth": 2,
            "linecolor": "white",
            "showbackground": true,
            "ticks": "",
            "zerolinecolor": "white"
           },
           "zaxis": {
            "backgroundcolor": "#E5ECF6",
            "gridcolor": "white",
            "gridwidth": 2,
            "linecolor": "white",
            "showbackground": true,
            "ticks": "",
            "zerolinecolor": "white"
           }
          },
          "shapedefaults": {
           "line": {
            "color": "#2a3f5f"
           }
          },
          "ternary": {
           "aaxis": {
            "gridcolor": "white",
            "linecolor": "white",
            "ticks": ""
           },
           "baxis": {
            "gridcolor": "white",
            "linecolor": "white",
            "ticks": ""
           },
           "bgcolor": "#E5ECF6",
           "caxis": {
            "gridcolor": "white",
            "linecolor": "white",
            "ticks": ""
           }
          },
          "title": {
           "x": 0.05
          },
          "xaxis": {
           "automargin": true,
           "gridcolor": "white",
           "linecolor": "white",
           "ticks": "",
           "title": {
            "standoff": 15
           },
           "zerolinecolor": "white",
           "zerolinewidth": 2
          },
          "yaxis": {
           "automargin": true,
           "gridcolor": "white",
           "linecolor": "white",
           "ticks": "",
           "title": {
            "standoff": 15
           },
           "zerolinecolor": "white",
           "zerolinewidth": 2
          }
         }
        },
        "title": {
         "font": {
          "color": "#4D5663"
         }
        },
        "xaxis": {
         "gridcolor": "#E1E5ED",
         "showgrid": true,
         "tickfont": {
          "color": "#4D5663"
         },
         "title": {
          "font": {
           "color": "#4D5663"
          },
          "text": ""
         },
         "zerolinecolor": "#E1E5ED"
        },
        "yaxis": {
         "gridcolor": "#E1E5ED",
         "showgrid": true,
         "tickfont": {
          "color": "#4D5663"
         },
         "title": {
          "font": {
           "color": "#4D5663"
          },
          "text": ""
         },
         "zerolinecolor": "#E1E5ED"
        }
       }
      },
      "text/html": [
       "<div>                            <div id=\"afeb02f9-9eb7-40ba-9b02-54e8c259c256\" class=\"plotly-graph-div\" style=\"height:525px; width:100%;\"></div>            <script type=\"text/javascript\">                require([\"plotly\"], function(Plotly) {                    window.PLOTLYENV=window.PLOTLYENV || {};\n",
       "                    window.PLOTLYENV.BASE_URL='https://plot.ly';                                    if (document.getElementById(\"afeb02f9-9eb7-40ba-9b02-54e8c259c256\")) {                    Plotly.newPlot(                        \"afeb02f9-9eb7-40ba-9b02-54e8c259c256\",                        [{\"marker\":{\"color\":[\"rgb(255, 153, 51)\",\"rgb(55, 128, 191)\",\"rgb(50, 171, 96)\",\"rgb(128, 0, 128)\",\"rgb(219, 64, 82)\",\"rgb(0, 128, 128)\",\"rgb(255, 255, 51)\",\"rgb(128, 128, 0)\",\"rgb(251, 128, 114)\",\"rgb(128, 177, 211)\"],\"line\":{\"width\":1.3},\"size\":[48,67,63,42,28,58,52,69,33,30,23,38,65,44,36,22,62,48,54,39,57,21,12,58,33,64,62,45,38,32,55,51,45,45,54,78,79,74,41,64,31,67,24,93,65,61,46,39,37,54,28,57,74,67,77,56,66,40,68,55,52,42,60,112,46,28,69,56,60,32,60,55,40,46,63,60,62,46,53,48,48,22,39,66,48,67,54,53,57,44,51,57,26,30,82,70,42,43,44,43],\"symbol\":\"circle\"},\"mode\":\"markers\",\"text\":\"\",\"x\":[-0.27164247126346136,-1.3257070606440196,0.09509138803241492,0.5677789260155507,-1.7702004827781839,0.8192901452031851,0.42843016749584817,0.48891810080098663,-0.13885574098913533,-1.6637758910766713,-0.687383321981337,0.9406647337380462,-0.690819839092722,1.2806354120967807,0.19519500649436486,-0.9617059095864561,-0.34082321440792496,0.40501808153456115,1.0256932200321933,0.19792777139922432,0.4473417964638847,-0.746357600971722,-0.7463331494444009,1.8614426561055353,-1.1921824686638272,0.33702637966918264,-0.019990132981849144,-1.0365459781316264,-0.9182930313854358,1.0514506561892487,1.4231033015561043,0.9388329560106634,-0.6005788533325781,-1.5577073542570385,0.7729435472995098,-0.7886108148794514,0.8276169458706734,-0.5887982618967834,0.6079822371177137,1.1815201552359502,-0.46765292959066734,-1.1747756877337578,0.12539506832767486,0.8444236630050397,0.4837479545939307,0.2626615850571374,0.25609179616383837,-0.34482586724742925,-1.0629525341853008,0.38530331033560733,1.6652564840701058,1.017710453432222,1.739805462678277,0.977218254223707,-0.11349498759333462,1.9125139328999086,-0.07919689362884139,0.19237236508550656,-1.218178626743223,1.5252495234723242,0.42515169637007116,-0.6917277873885234,-1.0914735632955341,0.1479495579758345,-0.769384799107449,-0.959114317069405,-0.11512199650222511,0.06717010137838174,-0.8100531665464591,0.7495654025364011,0.17261362176212222,-1.6122353899625055,2.0636152291749204,1.3542937788460374,0.3971750773103758,-1.6066263804550474,-0.847567402742816,2.2645832278875084,-0.04304356003073988,-1.3965861940480482,1.3607133938541376,-2.033089150596266,0.4936571407278187,-1.2255787715598412,-0.48127741316601513,3.05599930065596,-0.26528530741592665,-0.5031144218517964,2.0169311706777338,0.6137848243893546,0.5652221897804888,-0.7608485125554416,0.15896495846476275,-1.1521496906994413,-1.303672140570186,-0.5163893488317101,0.5326431891049507,-0.23498564823224072,-0.0075292175095747725,1.1807221464818747],\"y\":[-0.5606845687001836,1.6792241184825982,-0.08661661904826148,0.3898727869993485,0.01484572176819306,1.2923784950415658,-0.7547121807613962,-0.17924041096584103,-2.079556271100031,1.3741475772876197,-0.7265727387037649,0.07795556662307522,-1.6984034926570812,0.9514332912763463,0.9208568312409571,0.8721149896398802,-1.2006034959932614,0.9698322836075526,-1.7348279414407843,-0.18045584815021679,-0.15534958173210708,0.5778707279835965,-0.31094304485398533,-0.22119039196159165,1.3577782715590458,0.5976119660885164,-0.33861814766618836,0.009153919545416113,-0.905349622590771,0.797128717357109,0.36614038340714694,-1.5116109210853086,0.36233320503932614,-1.286401592931063,0.8197727302603469,1.110110135760402,0.316814577082492,0.8162624495735802,1.3508787939093665,0.9370194953434611,1.748037798224933,0.5260329111423281,0.5837856131293094,1.627503056742485,0.7597512835732089,0.1195243454589661,1.1031778871431137,0.0732232025003497,-0.4392083678404856,-2.0005261017160803,0.15086645476505978,0.7707078145347047,0.39845934776015907,0.60503610907641,-0.5676790205343145,-0.08728334160333123,-0.6736473541810989,1.3469654155549382,-0.52895187800803,-0.7715416124924191,0.32992146618986257,-0.20511451718899026,0.8823370549505434,-1.6350359682122242,0.1998129876390042,-1.1175159253196678,-2.2548754117108527,0.3841331487228912,-0.5647053958800019,1.4138362030889675,-0.7336674767371699,-0.0994770805480279,1.4129817421869901,1.3279684648445662,-0.3426837583140145,0.7427901223026995,0.9562542554682181,1.662527972510784,1.654208700671479,1.6277836234752037,0.2622646773981404,1.1110417788709064,-1.0758423905400494,0.5866561856112027,-0.3632825296055402,-0.5092436817558994,0.9829762441659161,-0.9039318124721808,-0.8761259788070621,1.282766952219753,-1.2659129574243786,1.1388669103882356,0.031596317962045775,-1.0028678826990054,-0.203214798443493,-2.0704178554216046,-0.6120462001187992,-1.6908135230507628,0.3945926141835523,-0.8402938448734616],\"type\":\"scatter\"}],                        {\"legend\":{\"bgcolor\":\"#F5F6F9\",\"font\":{\"color\":\"#4D5663\"}},\"paper_bgcolor\":\"#F5F6F9\",\"plot_bgcolor\":\"#F5F6F9\",\"template\":{\"data\":{\"barpolar\":[{\"marker\":{\"line\":{\"color\":\"#E5ECF6\",\"width\":0.5},\"pattern\":{\"fillmode\":\"overlay\",\"size\":10,\"solidity\":0.2}},\"type\":\"barpolar\"}],\"bar\":[{\"error_x\":{\"color\":\"#2a3f5f\"},\"error_y\":{\"color\":\"#2a3f5f\"},\"marker\":{\"line\":{\"color\":\"#E5ECF6\",\"width\":0.5},\"pattern\":{\"fillmode\":\"overlay\",\"size\":10,\"solidity\":0.2}},\"type\":\"bar\"}],\"carpet\":[{\"aaxis\":{\"endlinecolor\":\"#2a3f5f\",\"gridcolor\":\"white\",\"linecolor\":\"white\",\"minorgridcolor\":\"white\",\"startlinecolor\":\"#2a3f5f\"},\"baxis\":{\"endlinecolor\":\"#2a3f5f\",\"gridcolor\":\"white\",\"linecolor\":\"white\",\"minorgridcolor\":\"white\",\"startlinecolor\":\"#2a3f5f\"},\"type\":\"carpet\"}],\"choropleth\":[{\"colorbar\":{\"outlinewidth\":0,\"ticks\":\"\"},\"type\":\"choropleth\"}],\"contourcarpet\":[{\"colorbar\":{\"outlinewidth\":0,\"ticks\":\"\"},\"type\":\"contourcarpet\"}],\"contour\":[{\"colorbar\":{\"outlinewidth\":0,\"ticks\":\"\"},\"colorscale\":[[0.0,\"#0d0887\"],[0.1111111111111111,\"#46039f\"],[0.2222222222222222,\"#7201a8\"],[0.3333333333333333,\"#9c179e\"],[0.4444444444444444,\"#bd3786\"],[0.5555555555555556,\"#d8576b\"],[0.6666666666666666,\"#ed7953\"],[0.7777777777777778,\"#fb9f3a\"],[0.8888888888888888,\"#fdca26\"],[1.0,\"#f0f921\"]],\"type\":\"contour\"}],\"heatmapgl\":[{\"colorbar\":{\"outlinewidth\":0,\"ticks\":\"\"},\"colorscale\":[[0.0,\"#0d0887\"],[0.1111111111111111,\"#46039f\"],[0.2222222222222222,\"#7201a8\"],[0.3333333333333333,\"#9c179e\"],[0.4444444444444444,\"#bd3786\"],[0.5555555555555556,\"#d8576b\"],[0.6666666666666666,\"#ed7953\"],[0.7777777777777778,\"#fb9f3a\"],[0.8888888888888888,\"#fdca26\"],[1.0,\"#f0f921\"]],\"type\":\"heatmapgl\"}],\"heatmap\":[{\"colorbar\":{\"outlinewidth\":0,\"ticks\":\"\"},\"colorscale\":[[0.0,\"#0d0887\"],[0.1111111111111111,\"#46039f\"],[0.2222222222222222,\"#7201a8\"],[0.3333333333333333,\"#9c179e\"],[0.4444444444444444,\"#bd3786\"],[0.5555555555555556,\"#d8576b\"],[0.6666666666666666,\"#ed7953\"],[0.7777777777777778,\"#fb9f3a\"],[0.8888888888888888,\"#fdca26\"],[1.0,\"#f0f921\"]],\"type\":\"heatmap\"}],\"histogram2dcontour\":[{\"colorbar\":{\"outlinewidth\":0,\"ticks\":\"\"},\"colorscale\":[[0.0,\"#0d0887\"],[0.1111111111111111,\"#46039f\"],[0.2222222222222222,\"#7201a8\"],[0.3333333333333333,\"#9c179e\"],[0.4444444444444444,\"#bd3786\"],[0.5555555555555556,\"#d8576b\"],[0.6666666666666666,\"#ed7953\"],[0.7777777777777778,\"#fb9f3a\"],[0.8888888888888888,\"#fdca26\"],[1.0,\"#f0f921\"]],\"type\":\"histogram2dcontour\"}],\"histogram2d\":[{\"colorbar\":{\"outlinewidth\":0,\"ticks\":\"\"},\"colorscale\":[[0.0,\"#0d0887\"],[0.1111111111111111,\"#46039f\"],[0.2222222222222222,\"#7201a8\"],[0.3333333333333333,\"#9c179e\"],[0.4444444444444444,\"#bd3786\"],[0.5555555555555556,\"#d8576b\"],[0.6666666666666666,\"#ed7953\"],[0.7777777777777778,\"#fb9f3a\"],[0.8888888888888888,\"#fdca26\"],[1.0,\"#f0f921\"]],\"type\":\"histogram2d\"}],\"histogram\":[{\"marker\":{\"pattern\":{\"fillmode\":\"overlay\",\"size\":10,\"solidity\":0.2}},\"type\":\"histogram\"}],\"mesh3d\":[{\"colorbar\":{\"outlinewidth\":0,\"ticks\":\"\"},\"type\":\"mesh3d\"}],\"parcoords\":[{\"line\":{\"colorbar\":{\"outlinewidth\":0,\"ticks\":\"\"}},\"type\":\"parcoords\"}],\"pie\":[{\"automargin\":true,\"type\":\"pie\"}],\"scatter3d\":[{\"line\":{\"colorbar\":{\"outlinewidth\":0,\"ticks\":\"\"}},\"marker\":{\"colorbar\":{\"outlinewidth\":0,\"ticks\":\"\"}},\"type\":\"scatter3d\"}],\"scattercarpet\":[{\"marker\":{\"colorbar\":{\"outlinewidth\":0,\"ticks\":\"\"}},\"type\":\"scattercarpet\"}],\"scattergeo\":[{\"marker\":{\"colorbar\":{\"outlinewidth\":0,\"ticks\":\"\"}},\"type\":\"scattergeo\"}],\"scattergl\":[{\"marker\":{\"colorbar\":{\"outlinewidth\":0,\"ticks\":\"\"}},\"type\":\"scattergl\"}],\"scattermapbox\":[{\"marker\":{\"colorbar\":{\"outlinewidth\":0,\"ticks\":\"\"}},\"type\":\"scattermapbox\"}],\"scatterpolargl\":[{\"marker\":{\"colorbar\":{\"outlinewidth\":0,\"ticks\":\"\"}},\"type\":\"scatterpolargl\"}],\"scatterpolar\":[{\"marker\":{\"colorbar\":{\"outlinewidth\":0,\"ticks\":\"\"}},\"type\":\"scatterpolar\"}],\"scatter\":[{\"fillpattern\":{\"fillmode\":\"overlay\",\"size\":10,\"solidity\":0.2},\"type\":\"scatter\"}],\"scatterternary\":[{\"marker\":{\"colorbar\":{\"outlinewidth\":0,\"ticks\":\"\"}},\"type\":\"scatterternary\"}],\"surface\":[{\"colorbar\":{\"outlinewidth\":0,\"ticks\":\"\"},\"colorscale\":[[0.0,\"#0d0887\"],[0.1111111111111111,\"#46039f\"],[0.2222222222222222,\"#7201a8\"],[0.3333333333333333,\"#9c179e\"],[0.4444444444444444,\"#bd3786\"],[0.5555555555555556,\"#d8576b\"],[0.6666666666666666,\"#ed7953\"],[0.7777777777777778,\"#fb9f3a\"],[0.8888888888888888,\"#fdca26\"],[1.0,\"#f0f921\"]],\"type\":\"surface\"}],\"table\":[{\"cells\":{\"fill\":{\"color\":\"#EBF0F8\"},\"line\":{\"color\":\"white\"}},\"header\":{\"fill\":{\"color\":\"#C8D4E3\"},\"line\":{\"color\":\"white\"}},\"type\":\"table\"}]},\"layout\":{\"annotationdefaults\":{\"arrowcolor\":\"#2a3f5f\",\"arrowhead\":0,\"arrowwidth\":1},\"autotypenumbers\":\"strict\",\"coloraxis\":{\"colorbar\":{\"outlinewidth\":0,\"ticks\":\"\"}},\"colorscale\":{\"diverging\":[[0,\"#8e0152\"],[0.1,\"#c51b7d\"],[0.2,\"#de77ae\"],[0.3,\"#f1b6da\"],[0.4,\"#fde0ef\"],[0.5,\"#f7f7f7\"],[0.6,\"#e6f5d0\"],[0.7,\"#b8e186\"],[0.8,\"#7fbc41\"],[0.9,\"#4d9221\"],[1,\"#276419\"]],\"sequential\":[[0.0,\"#0d0887\"],[0.1111111111111111,\"#46039f\"],[0.2222222222222222,\"#7201a8\"],[0.3333333333333333,\"#9c179e\"],[0.4444444444444444,\"#bd3786\"],[0.5555555555555556,\"#d8576b\"],[0.6666666666666666,\"#ed7953\"],[0.7777777777777778,\"#fb9f3a\"],[0.8888888888888888,\"#fdca26\"],[1.0,\"#f0f921\"]],\"sequentialminus\":[[0.0,\"#0d0887\"],[0.1111111111111111,\"#46039f\"],[0.2222222222222222,\"#7201a8\"],[0.3333333333333333,\"#9c179e\"],[0.4444444444444444,\"#bd3786\"],[0.5555555555555556,\"#d8576b\"],[0.6666666666666666,\"#ed7953\"],[0.7777777777777778,\"#fb9f3a\"],[0.8888888888888888,\"#fdca26\"],[1.0,\"#f0f921\"]]},\"colorway\":[\"#636efa\",\"#EF553B\",\"#00cc96\",\"#ab63fa\",\"#FFA15A\",\"#19d3f3\",\"#FF6692\",\"#B6E880\",\"#FF97FF\",\"#FECB52\"],\"font\":{\"color\":\"#2a3f5f\"},\"geo\":{\"bgcolor\":\"white\",\"lakecolor\":\"white\",\"landcolor\":\"#E5ECF6\",\"showlakes\":true,\"showland\":true,\"subunitcolor\":\"white\"},\"hoverlabel\":{\"align\":\"left\"},\"hovermode\":\"closest\",\"mapbox\":{\"style\":\"light\"},\"paper_bgcolor\":\"white\",\"plot_bgcolor\":\"#E5ECF6\",\"polar\":{\"angularaxis\":{\"gridcolor\":\"white\",\"linecolor\":\"white\",\"ticks\":\"\"},\"bgcolor\":\"#E5ECF6\",\"radialaxis\":{\"gridcolor\":\"white\",\"linecolor\":\"white\",\"ticks\":\"\"}},\"scene\":{\"xaxis\":{\"backgroundcolor\":\"#E5ECF6\",\"gridcolor\":\"white\",\"gridwidth\":2,\"linecolor\":\"white\",\"showbackground\":true,\"ticks\":\"\",\"zerolinecolor\":\"white\"},\"yaxis\":{\"backgroundcolor\":\"#E5ECF6\",\"gridcolor\":\"white\",\"gridwidth\":2,\"linecolor\":\"white\",\"showbackground\":true,\"ticks\":\"\",\"zerolinecolor\":\"white\"},\"zaxis\":{\"backgroundcolor\":\"#E5ECF6\",\"gridcolor\":\"white\",\"gridwidth\":2,\"linecolor\":\"white\",\"showbackground\":true,\"ticks\":\"\",\"zerolinecolor\":\"white\"}},\"shapedefaults\":{\"line\":{\"color\":\"#2a3f5f\"}},\"ternary\":{\"aaxis\":{\"gridcolor\":\"white\",\"linecolor\":\"white\",\"ticks\":\"\"},\"baxis\":{\"gridcolor\":\"white\",\"linecolor\":\"white\",\"ticks\":\"\"},\"bgcolor\":\"#E5ECF6\",\"caxis\":{\"gridcolor\":\"white\",\"linecolor\":\"white\",\"ticks\":\"\"}},\"title\":{\"x\":0.05},\"xaxis\":{\"automargin\":true,\"gridcolor\":\"white\",\"linecolor\":\"white\",\"ticks\":\"\",\"title\":{\"standoff\":15},\"zerolinecolor\":\"white\",\"zerolinewidth\":2},\"yaxis\":{\"automargin\":true,\"gridcolor\":\"white\",\"linecolor\":\"white\",\"ticks\":\"\",\"title\":{\"standoff\":15},\"zerolinecolor\":\"white\",\"zerolinewidth\":2}}},\"title\":{\"font\":{\"color\":\"#4D5663\"}},\"xaxis\":{\"gridcolor\":\"#E1E5ED\",\"showgrid\":true,\"tickfont\":{\"color\":\"#4D5663\"},\"title\":{\"font\":{\"color\":\"#4D5663\"},\"text\":\"\"},\"zerolinecolor\":\"#E1E5ED\"},\"yaxis\":{\"gridcolor\":\"#E1E5ED\",\"showgrid\":true,\"tickfont\":{\"color\":\"#4D5663\"},\"title\":{\"font\":{\"color\":\"#4D5663\"},\"text\":\"\"},\"zerolinecolor\":\"#E1E5ED\"}},                        {\"showLink\": true, \"linkText\": \"Export to plot.ly\", \"plotlyServerURL\": \"https://plot.ly\", \"responsive\": true}                    ).then(function(){\n",
       "                            \n",
       "var gd = document.getElementById('afeb02f9-9eb7-40ba-9b02-54e8c259c256');\n",
       "var x = new MutationObserver(function (mutations, observer) {{\n",
       "        var display = window.getComputedStyle(gd).display;\n",
       "        if (!display || display === 'none') {{\n",
       "            console.log([gd, 'removed!']);\n",
       "            Plotly.purge(gd);\n",
       "            observer.disconnect();\n",
       "        }}\n",
       "}});\n",
       "\n",
       "// Listen for the removal of the full notebook cells\n",
       "var notebookContainer = gd.closest('#notebook-container');\n",
       "if (notebookContainer) {{\n",
       "    x.observe(notebookContainer, {childList: true});\n",
       "}}\n",
       "\n",
       "// Listen for the clearing of the current output cell\n",
       "var outputEl = gd.closest('.output');\n",
       "if (outputEl) {{\n",
       "    x.observe(outputEl, {childList: true});\n",
       "}}\n",
       "\n",
       "                        })                };                });            </script>        </div>"
      ]
     },
     "metadata": {},
     "output_type": "display_data"
    }
   ],
   "source": [
    "df1.iplot(kind='bubble', x='A',y='B',size='C')"
   ]
  },
  {
   "cell_type": "code",
   "execution_count": 24,
   "metadata": {},
   "outputs": [
    {
     "data": {
      "application/vnd.plotly.v1+json": {
       "config": {
        "linkText": "Export to plot.ly",
        "plotlyServerURL": "https://plot.ly",
        "showLink": true
       },
       "data": [
        {
         "histfunc": "count",
         "histnorm": "",
         "marker": {
          "color": "rgba(255, 153, 51, 1.0)",
          "line": {
           "color": "#4D5663",
           "width": 1.3
          }
         },
         "name": "A",
         "nbinsx": 10,
         "opacity": 0.8,
         "orientation": "v",
         "type": "histogram",
         "x": [
          -0.27164247126346136,
          -1.3257070606440196,
          0.09509138803241492,
          0.5677789260155507,
          -1.7702004827781839,
          0.8192901452031851,
          0.42843016749584817,
          0.48891810080098663,
          -0.13885574098913533,
          -1.6637758910766713,
          -0.687383321981337,
          0.9406647337380462,
          -0.690819839092722,
          1.2806354120967807,
          0.19519500649436486,
          -0.9617059095864561,
          -0.34082321440792496,
          0.40501808153456115,
          1.0256932200321933,
          0.19792777139922432,
          0.4473417964638847,
          -0.746357600971722,
          -0.7463331494444009,
          1.8614426561055353,
          -1.1921824686638272,
          0.33702637966918264,
          -0.019990132981849144,
          -1.0365459781316264,
          -0.9182930313854358,
          1.0514506561892487,
          1.4231033015561043,
          0.9388329560106634,
          -0.6005788533325781,
          -1.5577073542570385,
          0.7729435472995098,
          -0.7886108148794514,
          0.8276169458706734,
          -0.5887982618967834,
          0.6079822371177137,
          1.1815201552359502,
          -0.46765292959066734,
          -1.1747756877337578,
          0.12539506832767486,
          0.8444236630050397,
          0.4837479545939307,
          0.2626615850571374,
          0.25609179616383837,
          -0.34482586724742925,
          -1.0629525341853008,
          0.38530331033560733,
          1.6652564840701058,
          1.017710453432222,
          1.739805462678277,
          0.977218254223707,
          -0.11349498759333462,
          1.9125139328999086,
          -0.07919689362884139,
          0.19237236508550656,
          -1.218178626743223,
          1.5252495234723242,
          0.42515169637007116,
          -0.6917277873885234,
          -1.0914735632955341,
          0.1479495579758345,
          -0.769384799107449,
          -0.959114317069405,
          -0.11512199650222511,
          0.06717010137838174,
          -0.8100531665464591,
          0.7495654025364011,
          0.17261362176212222,
          -1.6122353899625055,
          2.0636152291749204,
          1.3542937788460374,
          0.3971750773103758,
          -1.6066263804550474,
          -0.847567402742816,
          2.2645832278875084,
          -0.04304356003073988,
          -1.3965861940480482,
          1.3607133938541376,
          -2.033089150596266,
          0.4936571407278187,
          -1.2255787715598412,
          -0.48127741316601513,
          3.05599930065596,
          -0.26528530741592665,
          -0.5031144218517964,
          2.0169311706777338,
          0.6137848243893546,
          0.5652221897804888,
          -0.7608485125554416,
          0.15896495846476275,
          -1.1521496906994413,
          -1.303672140570186,
          -0.5163893488317101,
          0.5326431891049507,
          -0.23498564823224072,
          -0.0075292175095747725,
          1.1807221464818747
         ],
         "xaxis": "x",
         "yaxis": "y"
        },
        {
         "line": {
          "color": "rgba(128, 128, 128, 1.0)",
          "dash": "solid",
          "shape": "linear",
          "width": 1.3
         },
         "marker": {
          "size": 2,
          "symbol": "circle"
         },
         "mode": "markers",
         "name": "A",
         "text": "",
         "type": "scatter",
         "x": [
          -0.5606845687001836,
          1.6792241184825982,
          -0.08661661904826148,
          0.3898727869993485,
          0.01484572176819306,
          1.2923784950415658,
          -0.7547121807613962,
          -0.17924041096584103,
          -2.079556271100031,
          1.3741475772876197,
          -0.7265727387037649,
          0.07795556662307522,
          -1.6984034926570812,
          0.9514332912763463,
          0.9208568312409571,
          0.8721149896398802,
          -1.2006034959932614,
          0.9698322836075526,
          -1.7348279414407843,
          -0.18045584815021679,
          -0.15534958173210708,
          0.5778707279835965,
          -0.31094304485398533,
          -0.22119039196159165,
          1.3577782715590458,
          0.5976119660885164,
          -0.33861814766618836,
          0.009153919545416113,
          -0.905349622590771,
          0.797128717357109,
          0.36614038340714694,
          -1.5116109210853086,
          0.36233320503932614,
          -1.286401592931063,
          0.8197727302603469,
          1.110110135760402,
          0.316814577082492,
          0.8162624495735802,
          1.3508787939093665,
          0.9370194953434611,
          1.748037798224933,
          0.5260329111423281,
          0.5837856131293094,
          1.627503056742485,
          0.7597512835732089,
          0.1195243454589661,
          1.1031778871431137,
          0.0732232025003497,
          -0.4392083678404856,
          -2.0005261017160803,
          0.15086645476505978,
          0.7707078145347047,
          0.39845934776015907,
          0.60503610907641,
          -0.5676790205343145,
          -0.08728334160333123,
          -0.6736473541810989,
          1.3469654155549382,
          -0.52895187800803,
          -0.7715416124924191,
          0.32992146618986257,
          -0.20511451718899026,
          0.8823370549505434,
          -1.6350359682122242,
          0.1998129876390042,
          -1.1175159253196678,
          -2.2548754117108527,
          0.3841331487228912,
          -0.5647053958800019,
          1.4138362030889675,
          -0.7336674767371699,
          -0.0994770805480279,
          1.4129817421869901,
          1.3279684648445662,
          -0.3426837583140145,
          0.7427901223026995,
          0.9562542554682181,
          1.662527972510784,
          1.654208700671479,
          1.6277836234752037,
          0.2622646773981404,
          1.1110417788709064,
          -1.0758423905400494,
          0.5866561856112027,
          -0.3632825296055402,
          -0.5092436817558994,
          0.9829762441659161,
          -0.9039318124721808,
          -0.8761259788070621,
          1.282766952219753,
          -1.2659129574243786,
          1.1388669103882356,
          0.031596317962045775,
          -1.0028678826990054,
          -0.203214798443493,
          -2.0704178554216046,
          -0.6120462001187992,
          -1.6908135230507628,
          0.3945926141835523,
          -0.8402938448734616
         ],
         "xaxis": "x2",
         "y": [
          -0.27164247126346136,
          -1.3257070606440196,
          0.09509138803241492,
          0.5677789260155507,
          -1.7702004827781839,
          0.8192901452031851,
          0.42843016749584817,
          0.48891810080098663,
          -0.13885574098913533,
          -1.6637758910766713,
          -0.687383321981337,
          0.9406647337380462,
          -0.690819839092722,
          1.2806354120967807,
          0.19519500649436486,
          -0.9617059095864561,
          -0.34082321440792496,
          0.40501808153456115,
          1.0256932200321933,
          0.19792777139922432,
          0.4473417964638847,
          -0.746357600971722,
          -0.7463331494444009,
          1.8614426561055353,
          -1.1921824686638272,
          0.33702637966918264,
          -0.019990132981849144,
          -1.0365459781316264,
          -0.9182930313854358,
          1.0514506561892487,
          1.4231033015561043,
          0.9388329560106634,
          -0.6005788533325781,
          -1.5577073542570385,
          0.7729435472995098,
          -0.7886108148794514,
          0.8276169458706734,
          -0.5887982618967834,
          0.6079822371177137,
          1.1815201552359502,
          -0.46765292959066734,
          -1.1747756877337578,
          0.12539506832767486,
          0.8444236630050397,
          0.4837479545939307,
          0.2626615850571374,
          0.25609179616383837,
          -0.34482586724742925,
          -1.0629525341853008,
          0.38530331033560733,
          1.6652564840701058,
          1.017710453432222,
          1.739805462678277,
          0.977218254223707,
          -0.11349498759333462,
          1.9125139328999086,
          -0.07919689362884139,
          0.19237236508550656,
          -1.218178626743223,
          1.5252495234723242,
          0.42515169637007116,
          -0.6917277873885234,
          -1.0914735632955341,
          0.1479495579758345,
          -0.769384799107449,
          -0.959114317069405,
          -0.11512199650222511,
          0.06717010137838174,
          -0.8100531665464591,
          0.7495654025364011,
          0.17261362176212222,
          -1.6122353899625055,
          2.0636152291749204,
          1.3542937788460374,
          0.3971750773103758,
          -1.6066263804550474,
          -0.847567402742816,
          2.2645832278875084,
          -0.04304356003073988,
          -1.3965861940480482,
          1.3607133938541376,
          -2.033089150596266,
          0.4936571407278187,
          -1.2255787715598412,
          -0.48127741316601513,
          3.05599930065596,
          -0.26528530741592665,
          -0.5031144218517964,
          2.0169311706777338,
          0.6137848243893546,
          0.5652221897804888,
          -0.7608485125554416,
          0.15896495846476275,
          -1.1521496906994413,
          -1.303672140570186,
          -0.5163893488317101,
          0.5326431891049507,
          -0.23498564823224072,
          -0.0075292175095747725,
          1.1807221464818747
         ],
         "yaxis": "y2"
        },
        {
         "line": {
          "color": "rgba(128, 128, 128, 1.0)",
          "dash": "solid",
          "shape": "linear",
          "width": 1.3
         },
         "marker": {
          "size": 2,
          "symbol": "circle"
         },
         "mode": "markers",
         "name": "A",
         "text": "",
         "type": "scatter",
         "x": [
          -0.17510076833451887,
          1.0288698240177145,
          0.7294187475382269,
          -0.5578856629282004,
          -1.4427561070736776,
          0.4388161783702774,
          0.060563737566764815,
          1.1228360547515748,
          -1.1147708162876648,
          -1.2752660154204478,
          -1.7312113286523432,
          -0.82533168192219,
          0.8658741797078373,
          -0.41427836454014716,
          -0.9098894454547914,
          -1.800204706789089,
          0.6682338915047351,
          -0.20987374484294746,
          0.19598899319836607,
          -0.7669541641335651,
          0.4124924143896091,
          -1.8397233779403428,
          -2.4530517139415355,
          0.4424743832683385,
          -1.1279100199509753,
          0.8273645699863521,
          0.7060451811025258,
          -0.34841335926422856,
          -0.8179883446544839,
          -1.1938551743761843,
          0.23965205889367786,
          -0.003371851161309269,
          -0.3848283690882053,
          -0.3660579064690124,
          0.18789785147708796,
          1.6631657931534722,
          1.7407484140501224,
          1.4565488819779684,
          -0.6232723514435085,
          0.8486940617122866,
          -1.2524232797957384,
          1.0025461725315055,
          -1.6900742257435932,
          2.5965882936507287,
          0.8974446875412032,
          0.6409236834519745,
          -0.3004172819682092,
          -0.7308341507657704,
          -0.8473571913525139,
          0.18229635624312268,
          -1.4372588244194673,
          0.39970158575841475,
          1.4516847984516328,
          1.0026818566565996,
          1.6145013116745843,
          0.3370738959446078,
          0.9423240780645039,
          -0.6481922359095227,
          1.088239694258309,
          0.2757922834178292,
          0.05599297866846583,
          -0.5538316369091456,
          0.5839356030798746,
          3.77788003076131,
          -0.2814142162387364,
          -1.396739653898618,
          1.098733557716189,
          0.3481299362914519,
          0.5719545584678998,
          -1.1917432377063344,
          0.5562025971593422,
          0.2687526601731444,
          -0.6579484009003517,
          -0.2893864693705524,
          0.7529664222734219,
          0.5599036596190918,
          0.6972960000357077,
          -0.3165006408518295,
          0.12506772611635675,
          -0.1547960377329048,
          -0.19802705425048947,
          -1.7878921210147751,
          -0.7252978787352365,
          0.9169166661120889,
          -0.18418265183374585,
          0.9980844798991737,
          0.21372777438456053,
          0.1625712531452284,
          0.40518165848931825,
          -0.4024378051833785,
          0.034134439117629076,
          0.3801876036723134,
          -1.574634729531062,
          -1.279225040981382,
          1.9560622718390517,
          1.1699990486795044,
          -0.5492666922188294,
          -0.46782061675087566,
          -0.4457203824349354,
          -0.4973139229416746
         ],
         "xaxis": "x3",
         "y": [
          -0.27164247126346136,
          -1.3257070606440196,
          0.09509138803241492,
          0.5677789260155507,
          -1.7702004827781839,
          0.8192901452031851,
          0.42843016749584817,
          0.48891810080098663,
          -0.13885574098913533,
          -1.6637758910766713,
          -0.687383321981337,
          0.9406647337380462,
          -0.690819839092722,
          1.2806354120967807,
          0.19519500649436486,
          -0.9617059095864561,
          -0.34082321440792496,
          0.40501808153456115,
          1.0256932200321933,
          0.19792777139922432,
          0.4473417964638847,
          -0.746357600971722,
          -0.7463331494444009,
          1.8614426561055353,
          -1.1921824686638272,
          0.33702637966918264,
          -0.019990132981849144,
          -1.0365459781316264,
          -0.9182930313854358,
          1.0514506561892487,
          1.4231033015561043,
          0.9388329560106634,
          -0.6005788533325781,
          -1.5577073542570385,
          0.7729435472995098,
          -0.7886108148794514,
          0.8276169458706734,
          -0.5887982618967834,
          0.6079822371177137,
          1.1815201552359502,
          -0.46765292959066734,
          -1.1747756877337578,
          0.12539506832767486,
          0.8444236630050397,
          0.4837479545939307,
          0.2626615850571374,
          0.25609179616383837,
          -0.34482586724742925,
          -1.0629525341853008,
          0.38530331033560733,
          1.6652564840701058,
          1.017710453432222,
          1.739805462678277,
          0.977218254223707,
          -0.11349498759333462,
          1.9125139328999086,
          -0.07919689362884139,
          0.19237236508550656,
          -1.218178626743223,
          1.5252495234723242,
          0.42515169637007116,
          -0.6917277873885234,
          -1.0914735632955341,
          0.1479495579758345,
          -0.769384799107449,
          -0.959114317069405,
          -0.11512199650222511,
          0.06717010137838174,
          -0.8100531665464591,
          0.7495654025364011,
          0.17261362176212222,
          -1.6122353899625055,
          2.0636152291749204,
          1.3542937788460374,
          0.3971750773103758,
          -1.6066263804550474,
          -0.847567402742816,
          2.2645832278875084,
          -0.04304356003073988,
          -1.3965861940480482,
          1.3607133938541376,
          -2.033089150596266,
          0.4936571407278187,
          -1.2255787715598412,
          -0.48127741316601513,
          3.05599930065596,
          -0.26528530741592665,
          -0.5031144218517964,
          2.0169311706777338,
          0.6137848243893546,
          0.5652221897804888,
          -0.7608485125554416,
          0.15896495846476275,
          -1.1521496906994413,
          -1.303672140570186,
          -0.5163893488317101,
          0.5326431891049507,
          -0.23498564823224072,
          -0.0075292175095747725,
          1.1807221464818747
         ],
         "yaxis": "y3"
        },
        {
         "line": {
          "color": "rgba(128, 128, 128, 1.0)",
          "dash": "solid",
          "shape": "linear",
          "width": 1.3
         },
         "marker": {
          "size": 2,
          "symbol": "circle"
         },
         "mode": "markers",
         "name": "A",
         "text": "",
         "type": "scatter",
         "x": [
          0.028993705037304567,
          -0.6716875531197293,
          0.8334435896917214,
          -1.9716771967264062,
          1.50532385374814,
          0.14956974745594662,
          -0.06939513333845235,
          -0.2815157688175154,
          0.38684784925404336,
          0.14381043854226855,
          1.4876554131996642,
          -0.7370660801991634,
          1.5404097323754171,
          0.2040380802866936,
          0.14168081298982785,
          -0.8250878115833602,
          -1.7320260569405233,
          0.6359832967253354,
          -0.4695872751400371,
          -0.2673988678442753,
          -0.9881864665743314,
          1.5061033230127938,
          0.10598331717029001,
          0.10931223800100075,
          0.7694644275917429,
          0.5182483641705755,
          -0.3071935056280965,
          -0.4665082690544789,
          0.9447249121081155,
          2.0425295696010743,
          -0.43698105003454357,
          -0.907598909077158,
          0.29462902502362,
          0.10190992720602601,
          -0.8174929595408008,
          -0.18001152313077143,
          0.15566515500727343,
          0.13196150538499757,
          -1.0575979330248275,
          -0.2625832388597864,
          -0.24847941451559766,
          2.1485331533935943,
          -0.08717358871212114,
          -0.30940859490619027,
          -2.0046227174032225,
          1.5083427558825817,
          -1.5139213190088612,
          0.01563324569264091,
          0.8616742568840906,
          -0.8525617560577919,
          -1.4248262474160276,
          -0.3605394147608612,
          0.37716297286280276,
          0.6258658201541683,
          0.2569647630992787,
          -1.6369203499044183,
          0.7871465171480043,
          0.7355463996487434,
          0.48596059901344485,
          1.252482630695332,
          0.4369197688828738,
          -0.11016987718728498,
          -1.2248590164464839,
          -0.37699173885758686,
          0.013267497344670701,
          -0.8385954164259339,
          -1.333902638527453,
          -1.0835532755477346,
          1.5605143000742498,
          -0.4152456441491844,
          0.5942036262360473,
          0.5434734806548989,
          -1.0542816433101314,
          0.9865682135617165,
          -1.8060658371376346,
          -0.04991907939054093,
          -0.14854389029313436,
          -0.5375389631592972,
          0.4245378412844418,
          0.3468493151487389,
          0.23489491445703792,
          0.24001963017549055,
          -1.7849754803006823,
          -0.029436562746093183,
          1.261992804620589,
          0.6149667944501315,
          -0.23557799300923188,
          0.6309302264213924,
          0.49159285635577266,
          -0.8530324387313918,
          -0.8386954461087648,
          0.17224056036045315,
          0.8512415447812286,
          0.2539718936206673,
          -1.8082627145838914,
          1.0134201851014084,
          -1.400878111327254,
          -0.5350870859857267,
          -0.7669223496683658,
          1.097042962574408
         ],
         "xaxis": "x4",
         "y": [
          -0.27164247126346136,
          -1.3257070606440196,
          0.09509138803241492,
          0.5677789260155507,
          -1.7702004827781839,
          0.8192901452031851,
          0.42843016749584817,
          0.48891810080098663,
          -0.13885574098913533,
          -1.6637758910766713,
          -0.687383321981337,
          0.9406647337380462,
          -0.690819839092722,
          1.2806354120967807,
          0.19519500649436486,
          -0.9617059095864561,
          -0.34082321440792496,
          0.40501808153456115,
          1.0256932200321933,
          0.19792777139922432,
          0.4473417964638847,
          -0.746357600971722,
          -0.7463331494444009,
          1.8614426561055353,
          -1.1921824686638272,
          0.33702637966918264,
          -0.019990132981849144,
          -1.0365459781316264,
          -0.9182930313854358,
          1.0514506561892487,
          1.4231033015561043,
          0.9388329560106634,
          -0.6005788533325781,
          -1.5577073542570385,
          0.7729435472995098,
          -0.7886108148794514,
          0.8276169458706734,
          -0.5887982618967834,
          0.6079822371177137,
          1.1815201552359502,
          -0.46765292959066734,
          -1.1747756877337578,
          0.12539506832767486,
          0.8444236630050397,
          0.4837479545939307,
          0.2626615850571374,
          0.25609179616383837,
          -0.34482586724742925,
          -1.0629525341853008,
          0.38530331033560733,
          1.6652564840701058,
          1.017710453432222,
          1.739805462678277,
          0.977218254223707,
          -0.11349498759333462,
          1.9125139328999086,
          -0.07919689362884139,
          0.19237236508550656,
          -1.218178626743223,
          1.5252495234723242,
          0.42515169637007116,
          -0.6917277873885234,
          -1.0914735632955341,
          0.1479495579758345,
          -0.769384799107449,
          -0.959114317069405,
          -0.11512199650222511,
          0.06717010137838174,
          -0.8100531665464591,
          0.7495654025364011,
          0.17261362176212222,
          -1.6122353899625055,
          2.0636152291749204,
          1.3542937788460374,
          0.3971750773103758,
          -1.6066263804550474,
          -0.847567402742816,
          2.2645832278875084,
          -0.04304356003073988,
          -1.3965861940480482,
          1.3607133938541376,
          -2.033089150596266,
          0.4936571407278187,
          -1.2255787715598412,
          -0.48127741316601513,
          3.05599930065596,
          -0.26528530741592665,
          -0.5031144218517964,
          2.0169311706777338,
          0.6137848243893546,
          0.5652221897804888,
          -0.7608485125554416,
          0.15896495846476275,
          -1.1521496906994413,
          -1.303672140570186,
          -0.5163893488317101,
          0.5326431891049507,
          -0.23498564823224072,
          -0.0075292175095747725,
          1.1807221464818747
         ],
         "yaxis": "y4"
        },
        {
         "line": {
          "color": "rgba(128, 128, 128, 1.0)",
          "dash": "solid",
          "shape": "linear",
          "width": 1.3
         },
         "marker": {
          "size": 2,
          "symbol": "circle"
         },
         "mode": "markers",
         "name": "B",
         "text": "",
         "type": "scatter",
         "x": [
          -0.27164247126346136,
          -1.3257070606440196,
          0.09509138803241492,
          0.5677789260155507,
          -1.7702004827781839,
          0.8192901452031851,
          0.42843016749584817,
          0.48891810080098663,
          -0.13885574098913533,
          -1.6637758910766713,
          -0.687383321981337,
          0.9406647337380462,
          -0.690819839092722,
          1.2806354120967807,
          0.19519500649436486,
          -0.9617059095864561,
          -0.34082321440792496,
          0.40501808153456115,
          1.0256932200321933,
          0.19792777139922432,
          0.4473417964638847,
          -0.746357600971722,
          -0.7463331494444009,
          1.8614426561055353,
          -1.1921824686638272,
          0.33702637966918264,
          -0.019990132981849144,
          -1.0365459781316264,
          -0.9182930313854358,
          1.0514506561892487,
          1.4231033015561043,
          0.9388329560106634,
          -0.6005788533325781,
          -1.5577073542570385,
          0.7729435472995098,
          -0.7886108148794514,
          0.8276169458706734,
          -0.5887982618967834,
          0.6079822371177137,
          1.1815201552359502,
          -0.46765292959066734,
          -1.1747756877337578,
          0.12539506832767486,
          0.8444236630050397,
          0.4837479545939307,
          0.2626615850571374,
          0.25609179616383837,
          -0.34482586724742925,
          -1.0629525341853008,
          0.38530331033560733,
          1.6652564840701058,
          1.017710453432222,
          1.739805462678277,
          0.977218254223707,
          -0.11349498759333462,
          1.9125139328999086,
          -0.07919689362884139,
          0.19237236508550656,
          -1.218178626743223,
          1.5252495234723242,
          0.42515169637007116,
          -0.6917277873885234,
          -1.0914735632955341,
          0.1479495579758345,
          -0.769384799107449,
          -0.959114317069405,
          -0.11512199650222511,
          0.06717010137838174,
          -0.8100531665464591,
          0.7495654025364011,
          0.17261362176212222,
          -1.6122353899625055,
          2.0636152291749204,
          1.3542937788460374,
          0.3971750773103758,
          -1.6066263804550474,
          -0.847567402742816,
          2.2645832278875084,
          -0.04304356003073988,
          -1.3965861940480482,
          1.3607133938541376,
          -2.033089150596266,
          0.4936571407278187,
          -1.2255787715598412,
          -0.48127741316601513,
          3.05599930065596,
          -0.26528530741592665,
          -0.5031144218517964,
          2.0169311706777338,
          0.6137848243893546,
          0.5652221897804888,
          -0.7608485125554416,
          0.15896495846476275,
          -1.1521496906994413,
          -1.303672140570186,
          -0.5163893488317101,
          0.5326431891049507,
          -0.23498564823224072,
          -0.0075292175095747725,
          1.1807221464818747
         ],
         "xaxis": "x5",
         "y": [
          -0.5606845687001836,
          1.6792241184825982,
          -0.08661661904826148,
          0.3898727869993485,
          0.01484572176819306,
          1.2923784950415658,
          -0.7547121807613962,
          -0.17924041096584103,
          -2.079556271100031,
          1.3741475772876197,
          -0.7265727387037649,
          0.07795556662307522,
          -1.6984034926570812,
          0.9514332912763463,
          0.9208568312409571,
          0.8721149896398802,
          -1.2006034959932614,
          0.9698322836075526,
          -1.7348279414407843,
          -0.18045584815021679,
          -0.15534958173210708,
          0.5778707279835965,
          -0.31094304485398533,
          -0.22119039196159165,
          1.3577782715590458,
          0.5976119660885164,
          -0.33861814766618836,
          0.009153919545416113,
          -0.905349622590771,
          0.797128717357109,
          0.36614038340714694,
          -1.5116109210853086,
          0.36233320503932614,
          -1.286401592931063,
          0.8197727302603469,
          1.110110135760402,
          0.316814577082492,
          0.8162624495735802,
          1.3508787939093665,
          0.9370194953434611,
          1.748037798224933,
          0.5260329111423281,
          0.5837856131293094,
          1.627503056742485,
          0.7597512835732089,
          0.1195243454589661,
          1.1031778871431137,
          0.0732232025003497,
          -0.4392083678404856,
          -2.0005261017160803,
          0.15086645476505978,
          0.7707078145347047,
          0.39845934776015907,
          0.60503610907641,
          -0.5676790205343145,
          -0.08728334160333123,
          -0.6736473541810989,
          1.3469654155549382,
          -0.52895187800803,
          -0.7715416124924191,
          0.32992146618986257,
          -0.20511451718899026,
          0.8823370549505434,
          -1.6350359682122242,
          0.1998129876390042,
          -1.1175159253196678,
          -2.2548754117108527,
          0.3841331487228912,
          -0.5647053958800019,
          1.4138362030889675,
          -0.7336674767371699,
          -0.0994770805480279,
          1.4129817421869901,
          1.3279684648445662,
          -0.3426837583140145,
          0.7427901223026995,
          0.9562542554682181,
          1.662527972510784,
          1.654208700671479,
          1.6277836234752037,
          0.2622646773981404,
          1.1110417788709064,
          -1.0758423905400494,
          0.5866561856112027,
          -0.3632825296055402,
          -0.5092436817558994,
          0.9829762441659161,
          -0.9039318124721808,
          -0.8761259788070621,
          1.282766952219753,
          -1.2659129574243786,
          1.1388669103882356,
          0.031596317962045775,
          -1.0028678826990054,
          -0.203214798443493,
          -2.0704178554216046,
          -0.6120462001187992,
          -1.6908135230507628,
          0.3945926141835523,
          -0.8402938448734616
         ],
         "yaxis": "y5"
        },
        {
         "histfunc": "count",
         "histnorm": "",
         "marker": {
          "color": "rgba(55, 128, 191, 1.0)",
          "line": {
           "color": "#4D5663",
           "width": 1.3
          }
         },
         "name": "B",
         "nbinsx": 10,
         "opacity": 0.8,
         "orientation": "v",
         "type": "histogram",
         "x": [
          -0.5606845687001836,
          1.6792241184825982,
          -0.08661661904826148,
          0.3898727869993485,
          0.01484572176819306,
          1.2923784950415658,
          -0.7547121807613962,
          -0.17924041096584103,
          -2.079556271100031,
          1.3741475772876197,
          -0.7265727387037649,
          0.07795556662307522,
          -1.6984034926570812,
          0.9514332912763463,
          0.9208568312409571,
          0.8721149896398802,
          -1.2006034959932614,
          0.9698322836075526,
          -1.7348279414407843,
          -0.18045584815021679,
          -0.15534958173210708,
          0.5778707279835965,
          -0.31094304485398533,
          -0.22119039196159165,
          1.3577782715590458,
          0.5976119660885164,
          -0.33861814766618836,
          0.009153919545416113,
          -0.905349622590771,
          0.797128717357109,
          0.36614038340714694,
          -1.5116109210853086,
          0.36233320503932614,
          -1.286401592931063,
          0.8197727302603469,
          1.110110135760402,
          0.316814577082492,
          0.8162624495735802,
          1.3508787939093665,
          0.9370194953434611,
          1.748037798224933,
          0.5260329111423281,
          0.5837856131293094,
          1.627503056742485,
          0.7597512835732089,
          0.1195243454589661,
          1.1031778871431137,
          0.0732232025003497,
          -0.4392083678404856,
          -2.0005261017160803,
          0.15086645476505978,
          0.7707078145347047,
          0.39845934776015907,
          0.60503610907641,
          -0.5676790205343145,
          -0.08728334160333123,
          -0.6736473541810989,
          1.3469654155549382,
          -0.52895187800803,
          -0.7715416124924191,
          0.32992146618986257,
          -0.20511451718899026,
          0.8823370549505434,
          -1.6350359682122242,
          0.1998129876390042,
          -1.1175159253196678,
          -2.2548754117108527,
          0.3841331487228912,
          -0.5647053958800019,
          1.4138362030889675,
          -0.7336674767371699,
          -0.0994770805480279,
          1.4129817421869901,
          1.3279684648445662,
          -0.3426837583140145,
          0.7427901223026995,
          0.9562542554682181,
          1.662527972510784,
          1.654208700671479,
          1.6277836234752037,
          0.2622646773981404,
          1.1110417788709064,
          -1.0758423905400494,
          0.5866561856112027,
          -0.3632825296055402,
          -0.5092436817558994,
          0.9829762441659161,
          -0.9039318124721808,
          -0.8761259788070621,
          1.282766952219753,
          -1.2659129574243786,
          1.1388669103882356,
          0.031596317962045775,
          -1.0028678826990054,
          -0.203214798443493,
          -2.0704178554216046,
          -0.6120462001187992,
          -1.6908135230507628,
          0.3945926141835523,
          -0.8402938448734616
         ],
         "xaxis": "x6",
         "yaxis": "y6"
        },
        {
         "line": {
          "color": "rgba(128, 128, 128, 1.0)",
          "dash": "solid",
          "shape": "linear",
          "width": 1.3
         },
         "marker": {
          "size": 2,
          "symbol": "circle"
         },
         "mode": "markers",
         "name": "B",
         "text": "",
         "type": "scatter",
         "x": [
          -0.17510076833451887,
          1.0288698240177145,
          0.7294187475382269,
          -0.5578856629282004,
          -1.4427561070736776,
          0.4388161783702774,
          0.060563737566764815,
          1.1228360547515748,
          -1.1147708162876648,
          -1.2752660154204478,
          -1.7312113286523432,
          -0.82533168192219,
          0.8658741797078373,
          -0.41427836454014716,
          -0.9098894454547914,
          -1.800204706789089,
          0.6682338915047351,
          -0.20987374484294746,
          0.19598899319836607,
          -0.7669541641335651,
          0.4124924143896091,
          -1.8397233779403428,
          -2.4530517139415355,
          0.4424743832683385,
          -1.1279100199509753,
          0.8273645699863521,
          0.7060451811025258,
          -0.34841335926422856,
          -0.8179883446544839,
          -1.1938551743761843,
          0.23965205889367786,
          -0.003371851161309269,
          -0.3848283690882053,
          -0.3660579064690124,
          0.18789785147708796,
          1.6631657931534722,
          1.7407484140501224,
          1.4565488819779684,
          -0.6232723514435085,
          0.8486940617122866,
          -1.2524232797957384,
          1.0025461725315055,
          -1.6900742257435932,
          2.5965882936507287,
          0.8974446875412032,
          0.6409236834519745,
          -0.3004172819682092,
          -0.7308341507657704,
          -0.8473571913525139,
          0.18229635624312268,
          -1.4372588244194673,
          0.39970158575841475,
          1.4516847984516328,
          1.0026818566565996,
          1.6145013116745843,
          0.3370738959446078,
          0.9423240780645039,
          -0.6481922359095227,
          1.088239694258309,
          0.2757922834178292,
          0.05599297866846583,
          -0.5538316369091456,
          0.5839356030798746,
          3.77788003076131,
          -0.2814142162387364,
          -1.396739653898618,
          1.098733557716189,
          0.3481299362914519,
          0.5719545584678998,
          -1.1917432377063344,
          0.5562025971593422,
          0.2687526601731444,
          -0.6579484009003517,
          -0.2893864693705524,
          0.7529664222734219,
          0.5599036596190918,
          0.6972960000357077,
          -0.3165006408518295,
          0.12506772611635675,
          -0.1547960377329048,
          -0.19802705425048947,
          -1.7878921210147751,
          -0.7252978787352365,
          0.9169166661120889,
          -0.18418265183374585,
          0.9980844798991737,
          0.21372777438456053,
          0.1625712531452284,
          0.40518165848931825,
          -0.4024378051833785,
          0.034134439117629076,
          0.3801876036723134,
          -1.574634729531062,
          -1.279225040981382,
          1.9560622718390517,
          1.1699990486795044,
          -0.5492666922188294,
          -0.46782061675087566,
          -0.4457203824349354,
          -0.4973139229416746
         ],
         "xaxis": "x7",
         "y": [
          -0.5606845687001836,
          1.6792241184825982,
          -0.08661661904826148,
          0.3898727869993485,
          0.01484572176819306,
          1.2923784950415658,
          -0.7547121807613962,
          -0.17924041096584103,
          -2.079556271100031,
          1.3741475772876197,
          -0.7265727387037649,
          0.07795556662307522,
          -1.6984034926570812,
          0.9514332912763463,
          0.9208568312409571,
          0.8721149896398802,
          -1.2006034959932614,
          0.9698322836075526,
          -1.7348279414407843,
          -0.18045584815021679,
          -0.15534958173210708,
          0.5778707279835965,
          -0.31094304485398533,
          -0.22119039196159165,
          1.3577782715590458,
          0.5976119660885164,
          -0.33861814766618836,
          0.009153919545416113,
          -0.905349622590771,
          0.797128717357109,
          0.36614038340714694,
          -1.5116109210853086,
          0.36233320503932614,
          -1.286401592931063,
          0.8197727302603469,
          1.110110135760402,
          0.316814577082492,
          0.8162624495735802,
          1.3508787939093665,
          0.9370194953434611,
          1.748037798224933,
          0.5260329111423281,
          0.5837856131293094,
          1.627503056742485,
          0.7597512835732089,
          0.1195243454589661,
          1.1031778871431137,
          0.0732232025003497,
          -0.4392083678404856,
          -2.0005261017160803,
          0.15086645476505978,
          0.7707078145347047,
          0.39845934776015907,
          0.60503610907641,
          -0.5676790205343145,
          -0.08728334160333123,
          -0.6736473541810989,
          1.3469654155549382,
          -0.52895187800803,
          -0.7715416124924191,
          0.32992146618986257,
          -0.20511451718899026,
          0.8823370549505434,
          -1.6350359682122242,
          0.1998129876390042,
          -1.1175159253196678,
          -2.2548754117108527,
          0.3841331487228912,
          -0.5647053958800019,
          1.4138362030889675,
          -0.7336674767371699,
          -0.0994770805480279,
          1.4129817421869901,
          1.3279684648445662,
          -0.3426837583140145,
          0.7427901223026995,
          0.9562542554682181,
          1.662527972510784,
          1.654208700671479,
          1.6277836234752037,
          0.2622646773981404,
          1.1110417788709064,
          -1.0758423905400494,
          0.5866561856112027,
          -0.3632825296055402,
          -0.5092436817558994,
          0.9829762441659161,
          -0.9039318124721808,
          -0.8761259788070621,
          1.282766952219753,
          -1.2659129574243786,
          1.1388669103882356,
          0.031596317962045775,
          -1.0028678826990054,
          -0.203214798443493,
          -2.0704178554216046,
          -0.6120462001187992,
          -1.6908135230507628,
          0.3945926141835523,
          -0.8402938448734616
         ],
         "yaxis": "y7"
        },
        {
         "line": {
          "color": "rgba(128, 128, 128, 1.0)",
          "dash": "solid",
          "shape": "linear",
          "width": 1.3
         },
         "marker": {
          "size": 2,
          "symbol": "circle"
         },
         "mode": "markers",
         "name": "B",
         "text": "",
         "type": "scatter",
         "x": [
          0.028993705037304567,
          -0.6716875531197293,
          0.8334435896917214,
          -1.9716771967264062,
          1.50532385374814,
          0.14956974745594662,
          -0.06939513333845235,
          -0.2815157688175154,
          0.38684784925404336,
          0.14381043854226855,
          1.4876554131996642,
          -0.7370660801991634,
          1.5404097323754171,
          0.2040380802866936,
          0.14168081298982785,
          -0.8250878115833602,
          -1.7320260569405233,
          0.6359832967253354,
          -0.4695872751400371,
          -0.2673988678442753,
          -0.9881864665743314,
          1.5061033230127938,
          0.10598331717029001,
          0.10931223800100075,
          0.7694644275917429,
          0.5182483641705755,
          -0.3071935056280965,
          -0.4665082690544789,
          0.9447249121081155,
          2.0425295696010743,
          -0.43698105003454357,
          -0.907598909077158,
          0.29462902502362,
          0.10190992720602601,
          -0.8174929595408008,
          -0.18001152313077143,
          0.15566515500727343,
          0.13196150538499757,
          -1.0575979330248275,
          -0.2625832388597864,
          -0.24847941451559766,
          2.1485331533935943,
          -0.08717358871212114,
          -0.30940859490619027,
          -2.0046227174032225,
          1.5083427558825817,
          -1.5139213190088612,
          0.01563324569264091,
          0.8616742568840906,
          -0.8525617560577919,
          -1.4248262474160276,
          -0.3605394147608612,
          0.37716297286280276,
          0.6258658201541683,
          0.2569647630992787,
          -1.6369203499044183,
          0.7871465171480043,
          0.7355463996487434,
          0.48596059901344485,
          1.252482630695332,
          0.4369197688828738,
          -0.11016987718728498,
          -1.2248590164464839,
          -0.37699173885758686,
          0.013267497344670701,
          -0.8385954164259339,
          -1.333902638527453,
          -1.0835532755477346,
          1.5605143000742498,
          -0.4152456441491844,
          0.5942036262360473,
          0.5434734806548989,
          -1.0542816433101314,
          0.9865682135617165,
          -1.8060658371376346,
          -0.04991907939054093,
          -0.14854389029313436,
          -0.5375389631592972,
          0.4245378412844418,
          0.3468493151487389,
          0.23489491445703792,
          0.24001963017549055,
          -1.7849754803006823,
          -0.029436562746093183,
          1.261992804620589,
          0.6149667944501315,
          -0.23557799300923188,
          0.6309302264213924,
          0.49159285635577266,
          -0.8530324387313918,
          -0.8386954461087648,
          0.17224056036045315,
          0.8512415447812286,
          0.2539718936206673,
          -1.8082627145838914,
          1.0134201851014084,
          -1.400878111327254,
          -0.5350870859857267,
          -0.7669223496683658,
          1.097042962574408
         ],
         "xaxis": "x8",
         "y": [
          -0.5606845687001836,
          1.6792241184825982,
          -0.08661661904826148,
          0.3898727869993485,
          0.01484572176819306,
          1.2923784950415658,
          -0.7547121807613962,
          -0.17924041096584103,
          -2.079556271100031,
          1.3741475772876197,
          -0.7265727387037649,
          0.07795556662307522,
          -1.6984034926570812,
          0.9514332912763463,
          0.9208568312409571,
          0.8721149896398802,
          -1.2006034959932614,
          0.9698322836075526,
          -1.7348279414407843,
          -0.18045584815021679,
          -0.15534958173210708,
          0.5778707279835965,
          -0.31094304485398533,
          -0.22119039196159165,
          1.3577782715590458,
          0.5976119660885164,
          -0.33861814766618836,
          0.009153919545416113,
          -0.905349622590771,
          0.797128717357109,
          0.36614038340714694,
          -1.5116109210853086,
          0.36233320503932614,
          -1.286401592931063,
          0.8197727302603469,
          1.110110135760402,
          0.316814577082492,
          0.8162624495735802,
          1.3508787939093665,
          0.9370194953434611,
          1.748037798224933,
          0.5260329111423281,
          0.5837856131293094,
          1.627503056742485,
          0.7597512835732089,
          0.1195243454589661,
          1.1031778871431137,
          0.0732232025003497,
          -0.4392083678404856,
          -2.0005261017160803,
          0.15086645476505978,
          0.7707078145347047,
          0.39845934776015907,
          0.60503610907641,
          -0.5676790205343145,
          -0.08728334160333123,
          -0.6736473541810989,
          1.3469654155549382,
          -0.52895187800803,
          -0.7715416124924191,
          0.32992146618986257,
          -0.20511451718899026,
          0.8823370549505434,
          -1.6350359682122242,
          0.1998129876390042,
          -1.1175159253196678,
          -2.2548754117108527,
          0.3841331487228912,
          -0.5647053958800019,
          1.4138362030889675,
          -0.7336674767371699,
          -0.0994770805480279,
          1.4129817421869901,
          1.3279684648445662,
          -0.3426837583140145,
          0.7427901223026995,
          0.9562542554682181,
          1.662527972510784,
          1.654208700671479,
          1.6277836234752037,
          0.2622646773981404,
          1.1110417788709064,
          -1.0758423905400494,
          0.5866561856112027,
          -0.3632825296055402,
          -0.5092436817558994,
          0.9829762441659161,
          -0.9039318124721808,
          -0.8761259788070621,
          1.282766952219753,
          -1.2659129574243786,
          1.1388669103882356,
          0.031596317962045775,
          -1.0028678826990054,
          -0.203214798443493,
          -2.0704178554216046,
          -0.6120462001187992,
          -1.6908135230507628,
          0.3945926141835523,
          -0.8402938448734616
         ],
         "yaxis": "y8"
        },
        {
         "line": {
          "color": "rgba(128, 128, 128, 1.0)",
          "dash": "solid",
          "shape": "linear",
          "width": 1.3
         },
         "marker": {
          "size": 2,
          "symbol": "circle"
         },
         "mode": "markers",
         "name": "C",
         "text": "",
         "type": "scatter",
         "x": [
          -0.27164247126346136,
          -1.3257070606440196,
          0.09509138803241492,
          0.5677789260155507,
          -1.7702004827781839,
          0.8192901452031851,
          0.42843016749584817,
          0.48891810080098663,
          -0.13885574098913533,
          -1.6637758910766713,
          -0.687383321981337,
          0.9406647337380462,
          -0.690819839092722,
          1.2806354120967807,
          0.19519500649436486,
          -0.9617059095864561,
          -0.34082321440792496,
          0.40501808153456115,
          1.0256932200321933,
          0.19792777139922432,
          0.4473417964638847,
          -0.746357600971722,
          -0.7463331494444009,
          1.8614426561055353,
          -1.1921824686638272,
          0.33702637966918264,
          -0.019990132981849144,
          -1.0365459781316264,
          -0.9182930313854358,
          1.0514506561892487,
          1.4231033015561043,
          0.9388329560106634,
          -0.6005788533325781,
          -1.5577073542570385,
          0.7729435472995098,
          -0.7886108148794514,
          0.8276169458706734,
          -0.5887982618967834,
          0.6079822371177137,
          1.1815201552359502,
          -0.46765292959066734,
          -1.1747756877337578,
          0.12539506832767486,
          0.8444236630050397,
          0.4837479545939307,
          0.2626615850571374,
          0.25609179616383837,
          -0.34482586724742925,
          -1.0629525341853008,
          0.38530331033560733,
          1.6652564840701058,
          1.017710453432222,
          1.739805462678277,
          0.977218254223707,
          -0.11349498759333462,
          1.9125139328999086,
          -0.07919689362884139,
          0.19237236508550656,
          -1.218178626743223,
          1.5252495234723242,
          0.42515169637007116,
          -0.6917277873885234,
          -1.0914735632955341,
          0.1479495579758345,
          -0.769384799107449,
          -0.959114317069405,
          -0.11512199650222511,
          0.06717010137838174,
          -0.8100531665464591,
          0.7495654025364011,
          0.17261362176212222,
          -1.6122353899625055,
          2.0636152291749204,
          1.3542937788460374,
          0.3971750773103758,
          -1.6066263804550474,
          -0.847567402742816,
          2.2645832278875084,
          -0.04304356003073988,
          -1.3965861940480482,
          1.3607133938541376,
          -2.033089150596266,
          0.4936571407278187,
          -1.2255787715598412,
          -0.48127741316601513,
          3.05599930065596,
          -0.26528530741592665,
          -0.5031144218517964,
          2.0169311706777338,
          0.6137848243893546,
          0.5652221897804888,
          -0.7608485125554416,
          0.15896495846476275,
          -1.1521496906994413,
          -1.303672140570186,
          -0.5163893488317101,
          0.5326431891049507,
          -0.23498564823224072,
          -0.0075292175095747725,
          1.1807221464818747
         ],
         "xaxis": "x9",
         "y": [
          -0.17510076833451887,
          1.0288698240177145,
          0.7294187475382269,
          -0.5578856629282004,
          -1.4427561070736776,
          0.4388161783702774,
          0.060563737566764815,
          1.1228360547515748,
          -1.1147708162876648,
          -1.2752660154204478,
          -1.7312113286523432,
          -0.82533168192219,
          0.8658741797078373,
          -0.41427836454014716,
          -0.9098894454547914,
          -1.800204706789089,
          0.6682338915047351,
          -0.20987374484294746,
          0.19598899319836607,
          -0.7669541641335651,
          0.4124924143896091,
          -1.8397233779403428,
          -2.4530517139415355,
          0.4424743832683385,
          -1.1279100199509753,
          0.8273645699863521,
          0.7060451811025258,
          -0.34841335926422856,
          -0.8179883446544839,
          -1.1938551743761843,
          0.23965205889367786,
          -0.003371851161309269,
          -0.3848283690882053,
          -0.3660579064690124,
          0.18789785147708796,
          1.6631657931534722,
          1.7407484140501224,
          1.4565488819779684,
          -0.6232723514435085,
          0.8486940617122866,
          -1.2524232797957384,
          1.0025461725315055,
          -1.6900742257435932,
          2.5965882936507287,
          0.8974446875412032,
          0.6409236834519745,
          -0.3004172819682092,
          -0.7308341507657704,
          -0.8473571913525139,
          0.18229635624312268,
          -1.4372588244194673,
          0.39970158575841475,
          1.4516847984516328,
          1.0026818566565996,
          1.6145013116745843,
          0.3370738959446078,
          0.9423240780645039,
          -0.6481922359095227,
          1.088239694258309,
          0.2757922834178292,
          0.05599297866846583,
          -0.5538316369091456,
          0.5839356030798746,
          3.77788003076131,
          -0.2814142162387364,
          -1.396739653898618,
          1.098733557716189,
          0.3481299362914519,
          0.5719545584678998,
          -1.1917432377063344,
          0.5562025971593422,
          0.2687526601731444,
          -0.6579484009003517,
          -0.2893864693705524,
          0.7529664222734219,
          0.5599036596190918,
          0.6972960000357077,
          -0.3165006408518295,
          0.12506772611635675,
          -0.1547960377329048,
          -0.19802705425048947,
          -1.7878921210147751,
          -0.7252978787352365,
          0.9169166661120889,
          -0.18418265183374585,
          0.9980844798991737,
          0.21372777438456053,
          0.1625712531452284,
          0.40518165848931825,
          -0.4024378051833785,
          0.034134439117629076,
          0.3801876036723134,
          -1.574634729531062,
          -1.279225040981382,
          1.9560622718390517,
          1.1699990486795044,
          -0.5492666922188294,
          -0.46782061675087566,
          -0.4457203824349354,
          -0.4973139229416746
         ],
         "yaxis": "y9"
        },
        {
         "line": {
          "color": "rgba(128, 128, 128, 1.0)",
          "dash": "solid",
          "shape": "linear",
          "width": 1.3
         },
         "marker": {
          "size": 2,
          "symbol": "circle"
         },
         "mode": "markers",
         "name": "C",
         "text": "",
         "type": "scatter",
         "x": [
          -0.5606845687001836,
          1.6792241184825982,
          -0.08661661904826148,
          0.3898727869993485,
          0.01484572176819306,
          1.2923784950415658,
          -0.7547121807613962,
          -0.17924041096584103,
          -2.079556271100031,
          1.3741475772876197,
          -0.7265727387037649,
          0.07795556662307522,
          -1.6984034926570812,
          0.9514332912763463,
          0.9208568312409571,
          0.8721149896398802,
          -1.2006034959932614,
          0.9698322836075526,
          -1.7348279414407843,
          -0.18045584815021679,
          -0.15534958173210708,
          0.5778707279835965,
          -0.31094304485398533,
          -0.22119039196159165,
          1.3577782715590458,
          0.5976119660885164,
          -0.33861814766618836,
          0.009153919545416113,
          -0.905349622590771,
          0.797128717357109,
          0.36614038340714694,
          -1.5116109210853086,
          0.36233320503932614,
          -1.286401592931063,
          0.8197727302603469,
          1.110110135760402,
          0.316814577082492,
          0.8162624495735802,
          1.3508787939093665,
          0.9370194953434611,
          1.748037798224933,
          0.5260329111423281,
          0.5837856131293094,
          1.627503056742485,
          0.7597512835732089,
          0.1195243454589661,
          1.1031778871431137,
          0.0732232025003497,
          -0.4392083678404856,
          -2.0005261017160803,
          0.15086645476505978,
          0.7707078145347047,
          0.39845934776015907,
          0.60503610907641,
          -0.5676790205343145,
          -0.08728334160333123,
          -0.6736473541810989,
          1.3469654155549382,
          -0.52895187800803,
          -0.7715416124924191,
          0.32992146618986257,
          -0.20511451718899026,
          0.8823370549505434,
          -1.6350359682122242,
          0.1998129876390042,
          -1.1175159253196678,
          -2.2548754117108527,
          0.3841331487228912,
          -0.5647053958800019,
          1.4138362030889675,
          -0.7336674767371699,
          -0.0994770805480279,
          1.4129817421869901,
          1.3279684648445662,
          -0.3426837583140145,
          0.7427901223026995,
          0.9562542554682181,
          1.662527972510784,
          1.654208700671479,
          1.6277836234752037,
          0.2622646773981404,
          1.1110417788709064,
          -1.0758423905400494,
          0.5866561856112027,
          -0.3632825296055402,
          -0.5092436817558994,
          0.9829762441659161,
          -0.9039318124721808,
          -0.8761259788070621,
          1.282766952219753,
          -1.2659129574243786,
          1.1388669103882356,
          0.031596317962045775,
          -1.0028678826990054,
          -0.203214798443493,
          -2.0704178554216046,
          -0.6120462001187992,
          -1.6908135230507628,
          0.3945926141835523,
          -0.8402938448734616
         ],
         "xaxis": "x10",
         "y": [
          -0.17510076833451887,
          1.0288698240177145,
          0.7294187475382269,
          -0.5578856629282004,
          -1.4427561070736776,
          0.4388161783702774,
          0.060563737566764815,
          1.1228360547515748,
          -1.1147708162876648,
          -1.2752660154204478,
          -1.7312113286523432,
          -0.82533168192219,
          0.8658741797078373,
          -0.41427836454014716,
          -0.9098894454547914,
          -1.800204706789089,
          0.6682338915047351,
          -0.20987374484294746,
          0.19598899319836607,
          -0.7669541641335651,
          0.4124924143896091,
          -1.8397233779403428,
          -2.4530517139415355,
          0.4424743832683385,
          -1.1279100199509753,
          0.8273645699863521,
          0.7060451811025258,
          -0.34841335926422856,
          -0.8179883446544839,
          -1.1938551743761843,
          0.23965205889367786,
          -0.003371851161309269,
          -0.3848283690882053,
          -0.3660579064690124,
          0.18789785147708796,
          1.6631657931534722,
          1.7407484140501224,
          1.4565488819779684,
          -0.6232723514435085,
          0.8486940617122866,
          -1.2524232797957384,
          1.0025461725315055,
          -1.6900742257435932,
          2.5965882936507287,
          0.8974446875412032,
          0.6409236834519745,
          -0.3004172819682092,
          -0.7308341507657704,
          -0.8473571913525139,
          0.18229635624312268,
          -1.4372588244194673,
          0.39970158575841475,
          1.4516847984516328,
          1.0026818566565996,
          1.6145013116745843,
          0.3370738959446078,
          0.9423240780645039,
          -0.6481922359095227,
          1.088239694258309,
          0.2757922834178292,
          0.05599297866846583,
          -0.5538316369091456,
          0.5839356030798746,
          3.77788003076131,
          -0.2814142162387364,
          -1.396739653898618,
          1.098733557716189,
          0.3481299362914519,
          0.5719545584678998,
          -1.1917432377063344,
          0.5562025971593422,
          0.2687526601731444,
          -0.6579484009003517,
          -0.2893864693705524,
          0.7529664222734219,
          0.5599036596190918,
          0.6972960000357077,
          -0.3165006408518295,
          0.12506772611635675,
          -0.1547960377329048,
          -0.19802705425048947,
          -1.7878921210147751,
          -0.7252978787352365,
          0.9169166661120889,
          -0.18418265183374585,
          0.9980844798991737,
          0.21372777438456053,
          0.1625712531452284,
          0.40518165848931825,
          -0.4024378051833785,
          0.034134439117629076,
          0.3801876036723134,
          -1.574634729531062,
          -1.279225040981382,
          1.9560622718390517,
          1.1699990486795044,
          -0.5492666922188294,
          -0.46782061675087566,
          -0.4457203824349354,
          -0.4973139229416746
         ],
         "yaxis": "y10"
        },
        {
         "histfunc": "count",
         "histnorm": "",
         "marker": {
          "color": "rgba(50, 171, 96, 1.0)",
          "line": {
           "color": "#4D5663",
           "width": 1.3
          }
         },
         "name": "C",
         "nbinsx": 10,
         "opacity": 0.8,
         "orientation": "v",
         "type": "histogram",
         "x": [
          -0.17510076833451887,
          1.0288698240177145,
          0.7294187475382269,
          -0.5578856629282004,
          -1.4427561070736776,
          0.4388161783702774,
          0.060563737566764815,
          1.1228360547515748,
          -1.1147708162876648,
          -1.2752660154204478,
          -1.7312113286523432,
          -0.82533168192219,
          0.8658741797078373,
          -0.41427836454014716,
          -0.9098894454547914,
          -1.800204706789089,
          0.6682338915047351,
          -0.20987374484294746,
          0.19598899319836607,
          -0.7669541641335651,
          0.4124924143896091,
          -1.8397233779403428,
          -2.4530517139415355,
          0.4424743832683385,
          -1.1279100199509753,
          0.8273645699863521,
          0.7060451811025258,
          -0.34841335926422856,
          -0.8179883446544839,
          -1.1938551743761843,
          0.23965205889367786,
          -0.003371851161309269,
          -0.3848283690882053,
          -0.3660579064690124,
          0.18789785147708796,
          1.6631657931534722,
          1.7407484140501224,
          1.4565488819779684,
          -0.6232723514435085,
          0.8486940617122866,
          -1.2524232797957384,
          1.0025461725315055,
          -1.6900742257435932,
          2.5965882936507287,
          0.8974446875412032,
          0.6409236834519745,
          -0.3004172819682092,
          -0.7308341507657704,
          -0.8473571913525139,
          0.18229635624312268,
          -1.4372588244194673,
          0.39970158575841475,
          1.4516847984516328,
          1.0026818566565996,
          1.6145013116745843,
          0.3370738959446078,
          0.9423240780645039,
          -0.6481922359095227,
          1.088239694258309,
          0.2757922834178292,
          0.05599297866846583,
          -0.5538316369091456,
          0.5839356030798746,
          3.77788003076131,
          -0.2814142162387364,
          -1.396739653898618,
          1.098733557716189,
          0.3481299362914519,
          0.5719545584678998,
          -1.1917432377063344,
          0.5562025971593422,
          0.2687526601731444,
          -0.6579484009003517,
          -0.2893864693705524,
          0.7529664222734219,
          0.5599036596190918,
          0.6972960000357077,
          -0.3165006408518295,
          0.12506772611635675,
          -0.1547960377329048,
          -0.19802705425048947,
          -1.7878921210147751,
          -0.7252978787352365,
          0.9169166661120889,
          -0.18418265183374585,
          0.9980844798991737,
          0.21372777438456053,
          0.1625712531452284,
          0.40518165848931825,
          -0.4024378051833785,
          0.034134439117629076,
          0.3801876036723134,
          -1.574634729531062,
          -1.279225040981382,
          1.9560622718390517,
          1.1699990486795044,
          -0.5492666922188294,
          -0.46782061675087566,
          -0.4457203824349354,
          -0.4973139229416746
         ],
         "xaxis": "x11",
         "yaxis": "y11"
        },
        {
         "line": {
          "color": "rgba(128, 128, 128, 1.0)",
          "dash": "solid",
          "shape": "linear",
          "width": 1.3
         },
         "marker": {
          "size": 2,
          "symbol": "circle"
         },
         "mode": "markers",
         "name": "C",
         "text": "",
         "type": "scatter",
         "x": [
          0.028993705037304567,
          -0.6716875531197293,
          0.8334435896917214,
          -1.9716771967264062,
          1.50532385374814,
          0.14956974745594662,
          -0.06939513333845235,
          -0.2815157688175154,
          0.38684784925404336,
          0.14381043854226855,
          1.4876554131996642,
          -0.7370660801991634,
          1.5404097323754171,
          0.2040380802866936,
          0.14168081298982785,
          -0.8250878115833602,
          -1.7320260569405233,
          0.6359832967253354,
          -0.4695872751400371,
          -0.2673988678442753,
          -0.9881864665743314,
          1.5061033230127938,
          0.10598331717029001,
          0.10931223800100075,
          0.7694644275917429,
          0.5182483641705755,
          -0.3071935056280965,
          -0.4665082690544789,
          0.9447249121081155,
          2.0425295696010743,
          -0.43698105003454357,
          -0.907598909077158,
          0.29462902502362,
          0.10190992720602601,
          -0.8174929595408008,
          -0.18001152313077143,
          0.15566515500727343,
          0.13196150538499757,
          -1.0575979330248275,
          -0.2625832388597864,
          -0.24847941451559766,
          2.1485331533935943,
          -0.08717358871212114,
          -0.30940859490619027,
          -2.0046227174032225,
          1.5083427558825817,
          -1.5139213190088612,
          0.01563324569264091,
          0.8616742568840906,
          -0.8525617560577919,
          -1.4248262474160276,
          -0.3605394147608612,
          0.37716297286280276,
          0.6258658201541683,
          0.2569647630992787,
          -1.6369203499044183,
          0.7871465171480043,
          0.7355463996487434,
          0.48596059901344485,
          1.252482630695332,
          0.4369197688828738,
          -0.11016987718728498,
          -1.2248590164464839,
          -0.37699173885758686,
          0.013267497344670701,
          -0.8385954164259339,
          -1.333902638527453,
          -1.0835532755477346,
          1.5605143000742498,
          -0.4152456441491844,
          0.5942036262360473,
          0.5434734806548989,
          -1.0542816433101314,
          0.9865682135617165,
          -1.8060658371376346,
          -0.04991907939054093,
          -0.14854389029313436,
          -0.5375389631592972,
          0.4245378412844418,
          0.3468493151487389,
          0.23489491445703792,
          0.24001963017549055,
          -1.7849754803006823,
          -0.029436562746093183,
          1.261992804620589,
          0.6149667944501315,
          -0.23557799300923188,
          0.6309302264213924,
          0.49159285635577266,
          -0.8530324387313918,
          -0.8386954461087648,
          0.17224056036045315,
          0.8512415447812286,
          0.2539718936206673,
          -1.8082627145838914,
          1.0134201851014084,
          -1.400878111327254,
          -0.5350870859857267,
          -0.7669223496683658,
          1.097042962574408
         ],
         "xaxis": "x12",
         "y": [
          -0.17510076833451887,
          1.0288698240177145,
          0.7294187475382269,
          -0.5578856629282004,
          -1.4427561070736776,
          0.4388161783702774,
          0.060563737566764815,
          1.1228360547515748,
          -1.1147708162876648,
          -1.2752660154204478,
          -1.7312113286523432,
          -0.82533168192219,
          0.8658741797078373,
          -0.41427836454014716,
          -0.9098894454547914,
          -1.800204706789089,
          0.6682338915047351,
          -0.20987374484294746,
          0.19598899319836607,
          -0.7669541641335651,
          0.4124924143896091,
          -1.8397233779403428,
          -2.4530517139415355,
          0.4424743832683385,
          -1.1279100199509753,
          0.8273645699863521,
          0.7060451811025258,
          -0.34841335926422856,
          -0.8179883446544839,
          -1.1938551743761843,
          0.23965205889367786,
          -0.003371851161309269,
          -0.3848283690882053,
          -0.3660579064690124,
          0.18789785147708796,
          1.6631657931534722,
          1.7407484140501224,
          1.4565488819779684,
          -0.6232723514435085,
          0.8486940617122866,
          -1.2524232797957384,
          1.0025461725315055,
          -1.6900742257435932,
          2.5965882936507287,
          0.8974446875412032,
          0.6409236834519745,
          -0.3004172819682092,
          -0.7308341507657704,
          -0.8473571913525139,
          0.18229635624312268,
          -1.4372588244194673,
          0.39970158575841475,
          1.4516847984516328,
          1.0026818566565996,
          1.6145013116745843,
          0.3370738959446078,
          0.9423240780645039,
          -0.6481922359095227,
          1.088239694258309,
          0.2757922834178292,
          0.05599297866846583,
          -0.5538316369091456,
          0.5839356030798746,
          3.77788003076131,
          -0.2814142162387364,
          -1.396739653898618,
          1.098733557716189,
          0.3481299362914519,
          0.5719545584678998,
          -1.1917432377063344,
          0.5562025971593422,
          0.2687526601731444,
          -0.6579484009003517,
          -0.2893864693705524,
          0.7529664222734219,
          0.5599036596190918,
          0.6972960000357077,
          -0.3165006408518295,
          0.12506772611635675,
          -0.1547960377329048,
          -0.19802705425048947,
          -1.7878921210147751,
          -0.7252978787352365,
          0.9169166661120889,
          -0.18418265183374585,
          0.9980844798991737,
          0.21372777438456053,
          0.1625712531452284,
          0.40518165848931825,
          -0.4024378051833785,
          0.034134439117629076,
          0.3801876036723134,
          -1.574634729531062,
          -1.279225040981382,
          1.9560622718390517,
          1.1699990486795044,
          -0.5492666922188294,
          -0.46782061675087566,
          -0.4457203824349354,
          -0.4973139229416746
         ],
         "yaxis": "y12"
        },
        {
         "line": {
          "color": "rgba(128, 128, 128, 1.0)",
          "dash": "solid",
          "shape": "linear",
          "width": 1.3
         },
         "marker": {
          "size": 2,
          "symbol": "circle"
         },
         "mode": "markers",
         "name": "D",
         "text": "",
         "type": "scatter",
         "x": [
          -0.27164247126346136,
          -1.3257070606440196,
          0.09509138803241492,
          0.5677789260155507,
          -1.7702004827781839,
          0.8192901452031851,
          0.42843016749584817,
          0.48891810080098663,
          -0.13885574098913533,
          -1.6637758910766713,
          -0.687383321981337,
          0.9406647337380462,
          -0.690819839092722,
          1.2806354120967807,
          0.19519500649436486,
          -0.9617059095864561,
          -0.34082321440792496,
          0.40501808153456115,
          1.0256932200321933,
          0.19792777139922432,
          0.4473417964638847,
          -0.746357600971722,
          -0.7463331494444009,
          1.8614426561055353,
          -1.1921824686638272,
          0.33702637966918264,
          -0.019990132981849144,
          -1.0365459781316264,
          -0.9182930313854358,
          1.0514506561892487,
          1.4231033015561043,
          0.9388329560106634,
          -0.6005788533325781,
          -1.5577073542570385,
          0.7729435472995098,
          -0.7886108148794514,
          0.8276169458706734,
          -0.5887982618967834,
          0.6079822371177137,
          1.1815201552359502,
          -0.46765292959066734,
          -1.1747756877337578,
          0.12539506832767486,
          0.8444236630050397,
          0.4837479545939307,
          0.2626615850571374,
          0.25609179616383837,
          -0.34482586724742925,
          -1.0629525341853008,
          0.38530331033560733,
          1.6652564840701058,
          1.017710453432222,
          1.739805462678277,
          0.977218254223707,
          -0.11349498759333462,
          1.9125139328999086,
          -0.07919689362884139,
          0.19237236508550656,
          -1.218178626743223,
          1.5252495234723242,
          0.42515169637007116,
          -0.6917277873885234,
          -1.0914735632955341,
          0.1479495579758345,
          -0.769384799107449,
          -0.959114317069405,
          -0.11512199650222511,
          0.06717010137838174,
          -0.8100531665464591,
          0.7495654025364011,
          0.17261362176212222,
          -1.6122353899625055,
          2.0636152291749204,
          1.3542937788460374,
          0.3971750773103758,
          -1.6066263804550474,
          -0.847567402742816,
          2.2645832278875084,
          -0.04304356003073988,
          -1.3965861940480482,
          1.3607133938541376,
          -2.033089150596266,
          0.4936571407278187,
          -1.2255787715598412,
          -0.48127741316601513,
          3.05599930065596,
          -0.26528530741592665,
          -0.5031144218517964,
          2.0169311706777338,
          0.6137848243893546,
          0.5652221897804888,
          -0.7608485125554416,
          0.15896495846476275,
          -1.1521496906994413,
          -1.303672140570186,
          -0.5163893488317101,
          0.5326431891049507,
          -0.23498564823224072,
          -0.0075292175095747725,
          1.1807221464818747
         ],
         "xaxis": "x13",
         "y": [
          0.028993705037304567,
          -0.6716875531197293,
          0.8334435896917214,
          -1.9716771967264062,
          1.50532385374814,
          0.14956974745594662,
          -0.06939513333845235,
          -0.2815157688175154,
          0.38684784925404336,
          0.14381043854226855,
          1.4876554131996642,
          -0.7370660801991634,
          1.5404097323754171,
          0.2040380802866936,
          0.14168081298982785,
          -0.8250878115833602,
          -1.7320260569405233,
          0.6359832967253354,
          -0.4695872751400371,
          -0.2673988678442753,
          -0.9881864665743314,
          1.5061033230127938,
          0.10598331717029001,
          0.10931223800100075,
          0.7694644275917429,
          0.5182483641705755,
          -0.3071935056280965,
          -0.4665082690544789,
          0.9447249121081155,
          2.0425295696010743,
          -0.43698105003454357,
          -0.907598909077158,
          0.29462902502362,
          0.10190992720602601,
          -0.8174929595408008,
          -0.18001152313077143,
          0.15566515500727343,
          0.13196150538499757,
          -1.0575979330248275,
          -0.2625832388597864,
          -0.24847941451559766,
          2.1485331533935943,
          -0.08717358871212114,
          -0.30940859490619027,
          -2.0046227174032225,
          1.5083427558825817,
          -1.5139213190088612,
          0.01563324569264091,
          0.8616742568840906,
          -0.8525617560577919,
          -1.4248262474160276,
          -0.3605394147608612,
          0.37716297286280276,
          0.6258658201541683,
          0.2569647630992787,
          -1.6369203499044183,
          0.7871465171480043,
          0.7355463996487434,
          0.48596059901344485,
          1.252482630695332,
          0.4369197688828738,
          -0.11016987718728498,
          -1.2248590164464839,
          -0.37699173885758686,
          0.013267497344670701,
          -0.8385954164259339,
          -1.333902638527453,
          -1.0835532755477346,
          1.5605143000742498,
          -0.4152456441491844,
          0.5942036262360473,
          0.5434734806548989,
          -1.0542816433101314,
          0.9865682135617165,
          -1.8060658371376346,
          -0.04991907939054093,
          -0.14854389029313436,
          -0.5375389631592972,
          0.4245378412844418,
          0.3468493151487389,
          0.23489491445703792,
          0.24001963017549055,
          -1.7849754803006823,
          -0.029436562746093183,
          1.261992804620589,
          0.6149667944501315,
          -0.23557799300923188,
          0.6309302264213924,
          0.49159285635577266,
          -0.8530324387313918,
          -0.8386954461087648,
          0.17224056036045315,
          0.8512415447812286,
          0.2539718936206673,
          -1.8082627145838914,
          1.0134201851014084,
          -1.400878111327254,
          -0.5350870859857267,
          -0.7669223496683658,
          1.097042962574408
         ],
         "yaxis": "y13"
        },
        {
         "line": {
          "color": "rgba(128, 128, 128, 1.0)",
          "dash": "solid",
          "shape": "linear",
          "width": 1.3
         },
         "marker": {
          "size": 2,
          "symbol": "circle"
         },
         "mode": "markers",
         "name": "D",
         "text": "",
         "type": "scatter",
         "x": [
          -0.5606845687001836,
          1.6792241184825982,
          -0.08661661904826148,
          0.3898727869993485,
          0.01484572176819306,
          1.2923784950415658,
          -0.7547121807613962,
          -0.17924041096584103,
          -2.079556271100031,
          1.3741475772876197,
          -0.7265727387037649,
          0.07795556662307522,
          -1.6984034926570812,
          0.9514332912763463,
          0.9208568312409571,
          0.8721149896398802,
          -1.2006034959932614,
          0.9698322836075526,
          -1.7348279414407843,
          -0.18045584815021679,
          -0.15534958173210708,
          0.5778707279835965,
          -0.31094304485398533,
          -0.22119039196159165,
          1.3577782715590458,
          0.5976119660885164,
          -0.33861814766618836,
          0.009153919545416113,
          -0.905349622590771,
          0.797128717357109,
          0.36614038340714694,
          -1.5116109210853086,
          0.36233320503932614,
          -1.286401592931063,
          0.8197727302603469,
          1.110110135760402,
          0.316814577082492,
          0.8162624495735802,
          1.3508787939093665,
          0.9370194953434611,
          1.748037798224933,
          0.5260329111423281,
          0.5837856131293094,
          1.627503056742485,
          0.7597512835732089,
          0.1195243454589661,
          1.1031778871431137,
          0.0732232025003497,
          -0.4392083678404856,
          -2.0005261017160803,
          0.15086645476505978,
          0.7707078145347047,
          0.39845934776015907,
          0.60503610907641,
          -0.5676790205343145,
          -0.08728334160333123,
          -0.6736473541810989,
          1.3469654155549382,
          -0.52895187800803,
          -0.7715416124924191,
          0.32992146618986257,
          -0.20511451718899026,
          0.8823370549505434,
          -1.6350359682122242,
          0.1998129876390042,
          -1.1175159253196678,
          -2.2548754117108527,
          0.3841331487228912,
          -0.5647053958800019,
          1.4138362030889675,
          -0.7336674767371699,
          -0.0994770805480279,
          1.4129817421869901,
          1.3279684648445662,
          -0.3426837583140145,
          0.7427901223026995,
          0.9562542554682181,
          1.662527972510784,
          1.654208700671479,
          1.6277836234752037,
          0.2622646773981404,
          1.1110417788709064,
          -1.0758423905400494,
          0.5866561856112027,
          -0.3632825296055402,
          -0.5092436817558994,
          0.9829762441659161,
          -0.9039318124721808,
          -0.8761259788070621,
          1.282766952219753,
          -1.2659129574243786,
          1.1388669103882356,
          0.031596317962045775,
          -1.0028678826990054,
          -0.203214798443493,
          -2.0704178554216046,
          -0.6120462001187992,
          -1.6908135230507628,
          0.3945926141835523,
          -0.8402938448734616
         ],
         "xaxis": "x14",
         "y": [
          0.028993705037304567,
          -0.6716875531197293,
          0.8334435896917214,
          -1.9716771967264062,
          1.50532385374814,
          0.14956974745594662,
          -0.06939513333845235,
          -0.2815157688175154,
          0.38684784925404336,
          0.14381043854226855,
          1.4876554131996642,
          -0.7370660801991634,
          1.5404097323754171,
          0.2040380802866936,
          0.14168081298982785,
          -0.8250878115833602,
          -1.7320260569405233,
          0.6359832967253354,
          -0.4695872751400371,
          -0.2673988678442753,
          -0.9881864665743314,
          1.5061033230127938,
          0.10598331717029001,
          0.10931223800100075,
          0.7694644275917429,
          0.5182483641705755,
          -0.3071935056280965,
          -0.4665082690544789,
          0.9447249121081155,
          2.0425295696010743,
          -0.43698105003454357,
          -0.907598909077158,
          0.29462902502362,
          0.10190992720602601,
          -0.8174929595408008,
          -0.18001152313077143,
          0.15566515500727343,
          0.13196150538499757,
          -1.0575979330248275,
          -0.2625832388597864,
          -0.24847941451559766,
          2.1485331533935943,
          -0.08717358871212114,
          -0.30940859490619027,
          -2.0046227174032225,
          1.5083427558825817,
          -1.5139213190088612,
          0.01563324569264091,
          0.8616742568840906,
          -0.8525617560577919,
          -1.4248262474160276,
          -0.3605394147608612,
          0.37716297286280276,
          0.6258658201541683,
          0.2569647630992787,
          -1.6369203499044183,
          0.7871465171480043,
          0.7355463996487434,
          0.48596059901344485,
          1.252482630695332,
          0.4369197688828738,
          -0.11016987718728498,
          -1.2248590164464839,
          -0.37699173885758686,
          0.013267497344670701,
          -0.8385954164259339,
          -1.333902638527453,
          -1.0835532755477346,
          1.5605143000742498,
          -0.4152456441491844,
          0.5942036262360473,
          0.5434734806548989,
          -1.0542816433101314,
          0.9865682135617165,
          -1.8060658371376346,
          -0.04991907939054093,
          -0.14854389029313436,
          -0.5375389631592972,
          0.4245378412844418,
          0.3468493151487389,
          0.23489491445703792,
          0.24001963017549055,
          -1.7849754803006823,
          -0.029436562746093183,
          1.261992804620589,
          0.6149667944501315,
          -0.23557799300923188,
          0.6309302264213924,
          0.49159285635577266,
          -0.8530324387313918,
          -0.8386954461087648,
          0.17224056036045315,
          0.8512415447812286,
          0.2539718936206673,
          -1.8082627145838914,
          1.0134201851014084,
          -1.400878111327254,
          -0.5350870859857267,
          -0.7669223496683658,
          1.097042962574408
         ],
         "yaxis": "y14"
        },
        {
         "line": {
          "color": "rgba(128, 128, 128, 1.0)",
          "dash": "solid",
          "shape": "linear",
          "width": 1.3
         },
         "marker": {
          "size": 2,
          "symbol": "circle"
         },
         "mode": "markers",
         "name": "D",
         "text": "",
         "type": "scatter",
         "x": [
          -0.17510076833451887,
          1.0288698240177145,
          0.7294187475382269,
          -0.5578856629282004,
          -1.4427561070736776,
          0.4388161783702774,
          0.060563737566764815,
          1.1228360547515748,
          -1.1147708162876648,
          -1.2752660154204478,
          -1.7312113286523432,
          -0.82533168192219,
          0.8658741797078373,
          -0.41427836454014716,
          -0.9098894454547914,
          -1.800204706789089,
          0.6682338915047351,
          -0.20987374484294746,
          0.19598899319836607,
          -0.7669541641335651,
          0.4124924143896091,
          -1.8397233779403428,
          -2.4530517139415355,
          0.4424743832683385,
          -1.1279100199509753,
          0.8273645699863521,
          0.7060451811025258,
          -0.34841335926422856,
          -0.8179883446544839,
          -1.1938551743761843,
          0.23965205889367786,
          -0.003371851161309269,
          -0.3848283690882053,
          -0.3660579064690124,
          0.18789785147708796,
          1.6631657931534722,
          1.7407484140501224,
          1.4565488819779684,
          -0.6232723514435085,
          0.8486940617122866,
          -1.2524232797957384,
          1.0025461725315055,
          -1.6900742257435932,
          2.5965882936507287,
          0.8974446875412032,
          0.6409236834519745,
          -0.3004172819682092,
          -0.7308341507657704,
          -0.8473571913525139,
          0.18229635624312268,
          -1.4372588244194673,
          0.39970158575841475,
          1.4516847984516328,
          1.0026818566565996,
          1.6145013116745843,
          0.3370738959446078,
          0.9423240780645039,
          -0.6481922359095227,
          1.088239694258309,
          0.2757922834178292,
          0.05599297866846583,
          -0.5538316369091456,
          0.5839356030798746,
          3.77788003076131,
          -0.2814142162387364,
          -1.396739653898618,
          1.098733557716189,
          0.3481299362914519,
          0.5719545584678998,
          -1.1917432377063344,
          0.5562025971593422,
          0.2687526601731444,
          -0.6579484009003517,
          -0.2893864693705524,
          0.7529664222734219,
          0.5599036596190918,
          0.6972960000357077,
          -0.3165006408518295,
          0.12506772611635675,
          -0.1547960377329048,
          -0.19802705425048947,
          -1.7878921210147751,
          -0.7252978787352365,
          0.9169166661120889,
          -0.18418265183374585,
          0.9980844798991737,
          0.21372777438456053,
          0.1625712531452284,
          0.40518165848931825,
          -0.4024378051833785,
          0.034134439117629076,
          0.3801876036723134,
          -1.574634729531062,
          -1.279225040981382,
          1.9560622718390517,
          1.1699990486795044,
          -0.5492666922188294,
          -0.46782061675087566,
          -0.4457203824349354,
          -0.4973139229416746
         ],
         "xaxis": "x15",
         "y": [
          0.028993705037304567,
          -0.6716875531197293,
          0.8334435896917214,
          -1.9716771967264062,
          1.50532385374814,
          0.14956974745594662,
          -0.06939513333845235,
          -0.2815157688175154,
          0.38684784925404336,
          0.14381043854226855,
          1.4876554131996642,
          -0.7370660801991634,
          1.5404097323754171,
          0.2040380802866936,
          0.14168081298982785,
          -0.8250878115833602,
          -1.7320260569405233,
          0.6359832967253354,
          -0.4695872751400371,
          -0.2673988678442753,
          -0.9881864665743314,
          1.5061033230127938,
          0.10598331717029001,
          0.10931223800100075,
          0.7694644275917429,
          0.5182483641705755,
          -0.3071935056280965,
          -0.4665082690544789,
          0.9447249121081155,
          2.0425295696010743,
          -0.43698105003454357,
          -0.907598909077158,
          0.29462902502362,
          0.10190992720602601,
          -0.8174929595408008,
          -0.18001152313077143,
          0.15566515500727343,
          0.13196150538499757,
          -1.0575979330248275,
          -0.2625832388597864,
          -0.24847941451559766,
          2.1485331533935943,
          -0.08717358871212114,
          -0.30940859490619027,
          -2.0046227174032225,
          1.5083427558825817,
          -1.5139213190088612,
          0.01563324569264091,
          0.8616742568840906,
          -0.8525617560577919,
          -1.4248262474160276,
          -0.3605394147608612,
          0.37716297286280276,
          0.6258658201541683,
          0.2569647630992787,
          -1.6369203499044183,
          0.7871465171480043,
          0.7355463996487434,
          0.48596059901344485,
          1.252482630695332,
          0.4369197688828738,
          -0.11016987718728498,
          -1.2248590164464839,
          -0.37699173885758686,
          0.013267497344670701,
          -0.8385954164259339,
          -1.333902638527453,
          -1.0835532755477346,
          1.5605143000742498,
          -0.4152456441491844,
          0.5942036262360473,
          0.5434734806548989,
          -1.0542816433101314,
          0.9865682135617165,
          -1.8060658371376346,
          -0.04991907939054093,
          -0.14854389029313436,
          -0.5375389631592972,
          0.4245378412844418,
          0.3468493151487389,
          0.23489491445703792,
          0.24001963017549055,
          -1.7849754803006823,
          -0.029436562746093183,
          1.261992804620589,
          0.6149667944501315,
          -0.23557799300923188,
          0.6309302264213924,
          0.49159285635577266,
          -0.8530324387313918,
          -0.8386954461087648,
          0.17224056036045315,
          0.8512415447812286,
          0.2539718936206673,
          -1.8082627145838914,
          1.0134201851014084,
          -1.400878111327254,
          -0.5350870859857267,
          -0.7669223496683658,
          1.097042962574408
         ],
         "yaxis": "y15"
        },
        {
         "histfunc": "count",
         "histnorm": "",
         "marker": {
          "color": "rgba(128, 0, 128, 1.0)",
          "line": {
           "color": "#4D5663",
           "width": 1.3
          }
         },
         "name": "D",
         "nbinsx": 10,
         "opacity": 0.8,
         "orientation": "v",
         "type": "histogram",
         "x": [
          0.028993705037304567,
          -0.6716875531197293,
          0.8334435896917214,
          -1.9716771967264062,
          1.50532385374814,
          0.14956974745594662,
          -0.06939513333845235,
          -0.2815157688175154,
          0.38684784925404336,
          0.14381043854226855,
          1.4876554131996642,
          -0.7370660801991634,
          1.5404097323754171,
          0.2040380802866936,
          0.14168081298982785,
          -0.8250878115833602,
          -1.7320260569405233,
          0.6359832967253354,
          -0.4695872751400371,
          -0.2673988678442753,
          -0.9881864665743314,
          1.5061033230127938,
          0.10598331717029001,
          0.10931223800100075,
          0.7694644275917429,
          0.5182483641705755,
          -0.3071935056280965,
          -0.4665082690544789,
          0.9447249121081155,
          2.0425295696010743,
          -0.43698105003454357,
          -0.907598909077158,
          0.29462902502362,
          0.10190992720602601,
          -0.8174929595408008,
          -0.18001152313077143,
          0.15566515500727343,
          0.13196150538499757,
          -1.0575979330248275,
          -0.2625832388597864,
          -0.24847941451559766,
          2.1485331533935943,
          -0.08717358871212114,
          -0.30940859490619027,
          -2.0046227174032225,
          1.5083427558825817,
          -1.5139213190088612,
          0.01563324569264091,
          0.8616742568840906,
          -0.8525617560577919,
          -1.4248262474160276,
          -0.3605394147608612,
          0.37716297286280276,
          0.6258658201541683,
          0.2569647630992787,
          -1.6369203499044183,
          0.7871465171480043,
          0.7355463996487434,
          0.48596059901344485,
          1.252482630695332,
          0.4369197688828738,
          -0.11016987718728498,
          -1.2248590164464839,
          -0.37699173885758686,
          0.013267497344670701,
          -0.8385954164259339,
          -1.333902638527453,
          -1.0835532755477346,
          1.5605143000742498,
          -0.4152456441491844,
          0.5942036262360473,
          0.5434734806548989,
          -1.0542816433101314,
          0.9865682135617165,
          -1.8060658371376346,
          -0.04991907939054093,
          -0.14854389029313436,
          -0.5375389631592972,
          0.4245378412844418,
          0.3468493151487389,
          0.23489491445703792,
          0.24001963017549055,
          -1.7849754803006823,
          -0.029436562746093183,
          1.261992804620589,
          0.6149667944501315,
          -0.23557799300923188,
          0.6309302264213924,
          0.49159285635577266,
          -0.8530324387313918,
          -0.8386954461087648,
          0.17224056036045315,
          0.8512415447812286,
          0.2539718936206673,
          -1.8082627145838914,
          1.0134201851014084,
          -1.400878111327254,
          -0.5350870859857267,
          -0.7669223496683658,
          1.097042962574408
         ],
         "xaxis": "x16",
         "yaxis": "y16"
        }
       ],
       "layout": {
        "bargap": 0.02,
        "legend": {
         "bgcolor": "#F5F6F9",
         "font": {
          "color": "#4D5663"
         }
        },
        "paper_bgcolor": "#F5F6F9",
        "plot_bgcolor": "#F5F6F9",
        "showlegend": false,
        "template": {
         "data": {
          "bar": [
           {
            "error_x": {
             "color": "#2a3f5f"
            },
            "error_y": {
             "color": "#2a3f5f"
            },
            "marker": {
             "line": {
              "color": "#E5ECF6",
              "width": 0.5
             },
             "pattern": {
              "fillmode": "overlay",
              "size": 10,
              "solidity": 0.2
             }
            },
            "type": "bar"
           }
          ],
          "barpolar": [
           {
            "marker": {
             "line": {
              "color": "#E5ECF6",
              "width": 0.5
             },
             "pattern": {
              "fillmode": "overlay",
              "size": 10,
              "solidity": 0.2
             }
            },
            "type": "barpolar"
           }
          ],
          "carpet": [
           {
            "aaxis": {
             "endlinecolor": "#2a3f5f",
             "gridcolor": "white",
             "linecolor": "white",
             "minorgridcolor": "white",
             "startlinecolor": "#2a3f5f"
            },
            "baxis": {
             "endlinecolor": "#2a3f5f",
             "gridcolor": "white",
             "linecolor": "white",
             "minorgridcolor": "white",
             "startlinecolor": "#2a3f5f"
            },
            "type": "carpet"
           }
          ],
          "choropleth": [
           {
            "colorbar": {
             "outlinewidth": 0,
             "ticks": ""
            },
            "type": "choropleth"
           }
          ],
          "contour": [
           {
            "colorbar": {
             "outlinewidth": 0,
             "ticks": ""
            },
            "colorscale": [
             [
              0,
              "#0d0887"
             ],
             [
              0.1111111111111111,
              "#46039f"
             ],
             [
              0.2222222222222222,
              "#7201a8"
             ],
             [
              0.3333333333333333,
              "#9c179e"
             ],
             [
              0.4444444444444444,
              "#bd3786"
             ],
             [
              0.5555555555555556,
              "#d8576b"
             ],
             [
              0.6666666666666666,
              "#ed7953"
             ],
             [
              0.7777777777777778,
              "#fb9f3a"
             ],
             [
              0.8888888888888888,
              "#fdca26"
             ],
             [
              1,
              "#f0f921"
             ]
            ],
            "type": "contour"
           }
          ],
          "contourcarpet": [
           {
            "colorbar": {
             "outlinewidth": 0,
             "ticks": ""
            },
            "type": "contourcarpet"
           }
          ],
          "heatmap": [
           {
            "colorbar": {
             "outlinewidth": 0,
             "ticks": ""
            },
            "colorscale": [
             [
              0,
              "#0d0887"
             ],
             [
              0.1111111111111111,
              "#46039f"
             ],
             [
              0.2222222222222222,
              "#7201a8"
             ],
             [
              0.3333333333333333,
              "#9c179e"
             ],
             [
              0.4444444444444444,
              "#bd3786"
             ],
             [
              0.5555555555555556,
              "#d8576b"
             ],
             [
              0.6666666666666666,
              "#ed7953"
             ],
             [
              0.7777777777777778,
              "#fb9f3a"
             ],
             [
              0.8888888888888888,
              "#fdca26"
             ],
             [
              1,
              "#f0f921"
             ]
            ],
            "type": "heatmap"
           }
          ],
          "heatmapgl": [
           {
            "colorbar": {
             "outlinewidth": 0,
             "ticks": ""
            },
            "colorscale": [
             [
              0,
              "#0d0887"
             ],
             [
              0.1111111111111111,
              "#46039f"
             ],
             [
              0.2222222222222222,
              "#7201a8"
             ],
             [
              0.3333333333333333,
              "#9c179e"
             ],
             [
              0.4444444444444444,
              "#bd3786"
             ],
             [
              0.5555555555555556,
              "#d8576b"
             ],
             [
              0.6666666666666666,
              "#ed7953"
             ],
             [
              0.7777777777777778,
              "#fb9f3a"
             ],
             [
              0.8888888888888888,
              "#fdca26"
             ],
             [
              1,
              "#f0f921"
             ]
            ],
            "type": "heatmapgl"
           }
          ],
          "histogram": [
           {
            "marker": {
             "pattern": {
              "fillmode": "overlay",
              "size": 10,
              "solidity": 0.2
             }
            },
            "type": "histogram"
           }
          ],
          "histogram2d": [
           {
            "colorbar": {
             "outlinewidth": 0,
             "ticks": ""
            },
            "colorscale": [
             [
              0,
              "#0d0887"
             ],
             [
              0.1111111111111111,
              "#46039f"
             ],
             [
              0.2222222222222222,
              "#7201a8"
             ],
             [
              0.3333333333333333,
              "#9c179e"
             ],
             [
              0.4444444444444444,
              "#bd3786"
             ],
             [
              0.5555555555555556,
              "#d8576b"
             ],
             [
              0.6666666666666666,
              "#ed7953"
             ],
             [
              0.7777777777777778,
              "#fb9f3a"
             ],
             [
              0.8888888888888888,
              "#fdca26"
             ],
             [
              1,
              "#f0f921"
             ]
            ],
            "type": "histogram2d"
           }
          ],
          "histogram2dcontour": [
           {
            "colorbar": {
             "outlinewidth": 0,
             "ticks": ""
            },
            "colorscale": [
             [
              0,
              "#0d0887"
             ],
             [
              0.1111111111111111,
              "#46039f"
             ],
             [
              0.2222222222222222,
              "#7201a8"
             ],
             [
              0.3333333333333333,
              "#9c179e"
             ],
             [
              0.4444444444444444,
              "#bd3786"
             ],
             [
              0.5555555555555556,
              "#d8576b"
             ],
             [
              0.6666666666666666,
              "#ed7953"
             ],
             [
              0.7777777777777778,
              "#fb9f3a"
             ],
             [
              0.8888888888888888,
              "#fdca26"
             ],
             [
              1,
              "#f0f921"
             ]
            ],
            "type": "histogram2dcontour"
           }
          ],
          "mesh3d": [
           {
            "colorbar": {
             "outlinewidth": 0,
             "ticks": ""
            },
            "type": "mesh3d"
           }
          ],
          "parcoords": [
           {
            "line": {
             "colorbar": {
              "outlinewidth": 0,
              "ticks": ""
             }
            },
            "type": "parcoords"
           }
          ],
          "pie": [
           {
            "automargin": true,
            "type": "pie"
           }
          ],
          "scatter": [
           {
            "fillpattern": {
             "fillmode": "overlay",
             "size": 10,
             "solidity": 0.2
            },
            "type": "scatter"
           }
          ],
          "scatter3d": [
           {
            "line": {
             "colorbar": {
              "outlinewidth": 0,
              "ticks": ""
             }
            },
            "marker": {
             "colorbar": {
              "outlinewidth": 0,
              "ticks": ""
             }
            },
            "type": "scatter3d"
           }
          ],
          "scattercarpet": [
           {
            "marker": {
             "colorbar": {
              "outlinewidth": 0,
              "ticks": ""
             }
            },
            "type": "scattercarpet"
           }
          ],
          "scattergeo": [
           {
            "marker": {
             "colorbar": {
              "outlinewidth": 0,
              "ticks": ""
             }
            },
            "type": "scattergeo"
           }
          ],
          "scattergl": [
           {
            "marker": {
             "colorbar": {
              "outlinewidth": 0,
              "ticks": ""
             }
            },
            "type": "scattergl"
           }
          ],
          "scattermapbox": [
           {
            "marker": {
             "colorbar": {
              "outlinewidth": 0,
              "ticks": ""
             }
            },
            "type": "scattermapbox"
           }
          ],
          "scatterpolar": [
           {
            "marker": {
             "colorbar": {
              "outlinewidth": 0,
              "ticks": ""
             }
            },
            "type": "scatterpolar"
           }
          ],
          "scatterpolargl": [
           {
            "marker": {
             "colorbar": {
              "outlinewidth": 0,
              "ticks": ""
             }
            },
            "type": "scatterpolargl"
           }
          ],
          "scatterternary": [
           {
            "marker": {
             "colorbar": {
              "outlinewidth": 0,
              "ticks": ""
             }
            },
            "type": "scatterternary"
           }
          ],
          "surface": [
           {
            "colorbar": {
             "outlinewidth": 0,
             "ticks": ""
            },
            "colorscale": [
             [
              0,
              "#0d0887"
             ],
             [
              0.1111111111111111,
              "#46039f"
             ],
             [
              0.2222222222222222,
              "#7201a8"
             ],
             [
              0.3333333333333333,
              "#9c179e"
             ],
             [
              0.4444444444444444,
              "#bd3786"
             ],
             [
              0.5555555555555556,
              "#d8576b"
             ],
             [
              0.6666666666666666,
              "#ed7953"
             ],
             [
              0.7777777777777778,
              "#fb9f3a"
             ],
             [
              0.8888888888888888,
              "#fdca26"
             ],
             [
              1,
              "#f0f921"
             ]
            ],
            "type": "surface"
           }
          ],
          "table": [
           {
            "cells": {
             "fill": {
              "color": "#EBF0F8"
             },
             "line": {
              "color": "white"
             }
            },
            "header": {
             "fill": {
              "color": "#C8D4E3"
             },
             "line": {
              "color": "white"
             }
            },
            "type": "table"
           }
          ]
         },
         "layout": {
          "annotationdefaults": {
           "arrowcolor": "#2a3f5f",
           "arrowhead": 0,
           "arrowwidth": 1
          },
          "autotypenumbers": "strict",
          "coloraxis": {
           "colorbar": {
            "outlinewidth": 0,
            "ticks": ""
           }
          },
          "colorscale": {
           "diverging": [
            [
             0,
             "#8e0152"
            ],
            [
             0.1,
             "#c51b7d"
            ],
            [
             0.2,
             "#de77ae"
            ],
            [
             0.3,
             "#f1b6da"
            ],
            [
             0.4,
             "#fde0ef"
            ],
            [
             0.5,
             "#f7f7f7"
            ],
            [
             0.6,
             "#e6f5d0"
            ],
            [
             0.7,
             "#b8e186"
            ],
            [
             0.8,
             "#7fbc41"
            ],
            [
             0.9,
             "#4d9221"
            ],
            [
             1,
             "#276419"
            ]
           ],
           "sequential": [
            [
             0,
             "#0d0887"
            ],
            [
             0.1111111111111111,
             "#46039f"
            ],
            [
             0.2222222222222222,
             "#7201a8"
            ],
            [
             0.3333333333333333,
             "#9c179e"
            ],
            [
             0.4444444444444444,
             "#bd3786"
            ],
            [
             0.5555555555555556,
             "#d8576b"
            ],
            [
             0.6666666666666666,
             "#ed7953"
            ],
            [
             0.7777777777777778,
             "#fb9f3a"
            ],
            [
             0.8888888888888888,
             "#fdca26"
            ],
            [
             1,
             "#f0f921"
            ]
           ],
           "sequentialminus": [
            [
             0,
             "#0d0887"
            ],
            [
             0.1111111111111111,
             "#46039f"
            ],
            [
             0.2222222222222222,
             "#7201a8"
            ],
            [
             0.3333333333333333,
             "#9c179e"
            ],
            [
             0.4444444444444444,
             "#bd3786"
            ],
            [
             0.5555555555555556,
             "#d8576b"
            ],
            [
             0.6666666666666666,
             "#ed7953"
            ],
            [
             0.7777777777777778,
             "#fb9f3a"
            ],
            [
             0.8888888888888888,
             "#fdca26"
            ],
            [
             1,
             "#f0f921"
            ]
           ]
          },
          "colorway": [
           "#636efa",
           "#EF553B",
           "#00cc96",
           "#ab63fa",
           "#FFA15A",
           "#19d3f3",
           "#FF6692",
           "#B6E880",
           "#FF97FF",
           "#FECB52"
          ],
          "font": {
           "color": "#2a3f5f"
          },
          "geo": {
           "bgcolor": "white",
           "lakecolor": "white",
           "landcolor": "#E5ECF6",
           "showlakes": true,
           "showland": true,
           "subunitcolor": "white"
          },
          "hoverlabel": {
           "align": "left"
          },
          "hovermode": "closest",
          "mapbox": {
           "style": "light"
          },
          "paper_bgcolor": "white",
          "plot_bgcolor": "#E5ECF6",
          "polar": {
           "angularaxis": {
            "gridcolor": "white",
            "linecolor": "white",
            "ticks": ""
           },
           "bgcolor": "#E5ECF6",
           "radialaxis": {
            "gridcolor": "white",
            "linecolor": "white",
            "ticks": ""
           }
          },
          "scene": {
           "xaxis": {
            "backgroundcolor": "#E5ECF6",
            "gridcolor": "white",
            "gridwidth": 2,
            "linecolor": "white",
            "showbackground": true,
            "ticks": "",
            "zerolinecolor": "white"
           },
           "yaxis": {
            "backgroundcolor": "#E5ECF6",
            "gridcolor": "white",
            "gridwidth": 2,
            "linecolor": "white",
            "showbackground": true,
            "ticks": "",
            "zerolinecolor": "white"
           },
           "zaxis": {
            "backgroundcolor": "#E5ECF6",
            "gridcolor": "white",
            "gridwidth": 2,
            "linecolor": "white",
            "showbackground": true,
            "ticks": "",
            "zerolinecolor": "white"
           }
          },
          "shapedefaults": {
           "line": {
            "color": "#2a3f5f"
           }
          },
          "ternary": {
           "aaxis": {
            "gridcolor": "white",
            "linecolor": "white",
            "ticks": ""
           },
           "baxis": {
            "gridcolor": "white",
            "linecolor": "white",
            "ticks": ""
           },
           "bgcolor": "#E5ECF6",
           "caxis": {
            "gridcolor": "white",
            "linecolor": "white",
            "ticks": ""
           }
          },
          "title": {
           "x": 0.05
          },
          "xaxis": {
           "automargin": true,
           "gridcolor": "white",
           "linecolor": "white",
           "ticks": "",
           "title": {
            "standoff": 15
           },
           "zerolinecolor": "white",
           "zerolinewidth": 2
          },
          "yaxis": {
           "automargin": true,
           "gridcolor": "white",
           "linecolor": "white",
           "ticks": "",
           "title": {
            "standoff": 15
           },
           "zerolinecolor": "white",
           "zerolinewidth": 2
          }
         }
        },
        "title": {
         "font": {
          "color": "#4D5663"
         }
        },
        "xaxis": {
         "anchor": "y",
         "domain": [
          0,
          0.2125
         ],
         "gridcolor": "#E1E5ED",
         "showgrid": false,
         "tickfont": {
          "color": "#4D5663"
         },
         "title": {
          "font": {
           "color": "#4D5663"
          },
          "text": ""
         },
         "zerolinecolor": "#E1E5ED"
        },
        "xaxis10": {
         "anchor": "y10",
         "domain": [
          0.2625,
          0.475
         ],
         "gridcolor": "#E1E5ED",
         "showgrid": false,
         "tickfont": {
          "color": "#4D5663"
         },
         "title": {
          "font": {
           "color": "#4D5663"
          },
          "text": ""
         },
         "zerolinecolor": "#E1E5ED"
        },
        "xaxis11": {
         "anchor": "y11",
         "domain": [
          0.525,
          0.7375
         ],
         "gridcolor": "#E1E5ED",
         "showgrid": false,
         "tickfont": {
          "color": "#4D5663"
         },
         "title": {
          "font": {
           "color": "#4D5663"
          },
          "text": ""
         },
         "zerolinecolor": "#E1E5ED"
        },
        "xaxis12": {
         "anchor": "y12",
         "domain": [
          0.7875,
          1
         ],
         "gridcolor": "#E1E5ED",
         "showgrid": false,
         "tickfont": {
          "color": "#4D5663"
         },
         "title": {
          "font": {
           "color": "#4D5663"
          },
          "text": ""
         },
         "zerolinecolor": "#E1E5ED"
        },
        "xaxis13": {
         "anchor": "y13",
         "domain": [
          0,
          0.2125
         ],
         "gridcolor": "#E1E5ED",
         "showgrid": false,
         "tickfont": {
          "color": "#4D5663"
         },
         "title": {
          "font": {
           "color": "#4D5663"
          },
          "text": ""
         },
         "zerolinecolor": "#E1E5ED"
        },
        "xaxis14": {
         "anchor": "y14",
         "domain": [
          0.2625,
          0.475
         ],
         "gridcolor": "#E1E5ED",
         "showgrid": false,
         "tickfont": {
          "color": "#4D5663"
         },
         "title": {
          "font": {
           "color": "#4D5663"
          },
          "text": ""
         },
         "zerolinecolor": "#E1E5ED"
        },
        "xaxis15": {
         "anchor": "y15",
         "domain": [
          0.525,
          0.7375
         ],
         "gridcolor": "#E1E5ED",
         "showgrid": false,
         "tickfont": {
          "color": "#4D5663"
         },
         "title": {
          "font": {
           "color": "#4D5663"
          },
          "text": ""
         },
         "zerolinecolor": "#E1E5ED"
        },
        "xaxis16": {
         "anchor": "y16",
         "domain": [
          0.7875,
          1
         ],
         "gridcolor": "#E1E5ED",
         "showgrid": false,
         "tickfont": {
          "color": "#4D5663"
         },
         "title": {
          "font": {
           "color": "#4D5663"
          },
          "text": ""
         },
         "zerolinecolor": "#E1E5ED"
        },
        "xaxis2": {
         "anchor": "y2",
         "domain": [
          0.2625,
          0.475
         ],
         "gridcolor": "#E1E5ED",
         "showgrid": false,
         "tickfont": {
          "color": "#4D5663"
         },
         "title": {
          "font": {
           "color": "#4D5663"
          },
          "text": ""
         },
         "zerolinecolor": "#E1E5ED"
        },
        "xaxis3": {
         "anchor": "y3",
         "domain": [
          0.525,
          0.7375
         ],
         "gridcolor": "#E1E5ED",
         "showgrid": false,
         "tickfont": {
          "color": "#4D5663"
         },
         "title": {
          "font": {
           "color": "#4D5663"
          },
          "text": ""
         },
         "zerolinecolor": "#E1E5ED"
        },
        "xaxis4": {
         "anchor": "y4",
         "domain": [
          0.7875,
          1
         ],
         "gridcolor": "#E1E5ED",
         "showgrid": false,
         "tickfont": {
          "color": "#4D5663"
         },
         "title": {
          "font": {
           "color": "#4D5663"
          },
          "text": ""
         },
         "zerolinecolor": "#E1E5ED"
        },
        "xaxis5": {
         "anchor": "y5",
         "domain": [
          0,
          0.2125
         ],
         "gridcolor": "#E1E5ED",
         "showgrid": false,
         "tickfont": {
          "color": "#4D5663"
         },
         "title": {
          "font": {
           "color": "#4D5663"
          },
          "text": ""
         },
         "zerolinecolor": "#E1E5ED"
        },
        "xaxis6": {
         "anchor": "y6",
         "domain": [
          0.2625,
          0.475
         ],
         "gridcolor": "#E1E5ED",
         "showgrid": false,
         "tickfont": {
          "color": "#4D5663"
         },
         "title": {
          "font": {
           "color": "#4D5663"
          },
          "text": ""
         },
         "zerolinecolor": "#E1E5ED"
        },
        "xaxis7": {
         "anchor": "y7",
         "domain": [
          0.525,
          0.7375
         ],
         "gridcolor": "#E1E5ED",
         "showgrid": false,
         "tickfont": {
          "color": "#4D5663"
         },
         "title": {
          "font": {
           "color": "#4D5663"
          },
          "text": ""
         },
         "zerolinecolor": "#E1E5ED"
        },
        "xaxis8": {
         "anchor": "y8",
         "domain": [
          0.7875,
          1
         ],
         "gridcolor": "#E1E5ED",
         "showgrid": false,
         "tickfont": {
          "color": "#4D5663"
         },
         "title": {
          "font": {
           "color": "#4D5663"
          },
          "text": ""
         },
         "zerolinecolor": "#E1E5ED"
        },
        "xaxis9": {
         "anchor": "y9",
         "domain": [
          0,
          0.2125
         ],
         "gridcolor": "#E1E5ED",
         "showgrid": false,
         "tickfont": {
          "color": "#4D5663"
         },
         "title": {
          "font": {
           "color": "#4D5663"
          },
          "text": ""
         },
         "zerolinecolor": "#E1E5ED"
        },
        "yaxis": {
         "anchor": "x",
         "domain": [
          0.8025,
          1
         ],
         "gridcolor": "#E1E5ED",
         "showgrid": false,
         "tickfont": {
          "color": "#4D5663"
         },
         "title": {
          "font": {
           "color": "#4D5663"
          },
          "text": ""
         },
         "zerolinecolor": "#E1E5ED"
        },
        "yaxis10": {
         "anchor": "x10",
         "domain": [
          0.2675,
          0.465
         ],
         "gridcolor": "#E1E5ED",
         "showgrid": false,
         "tickfont": {
          "color": "#4D5663"
         },
         "title": {
          "font": {
           "color": "#4D5663"
          },
          "text": ""
         },
         "zerolinecolor": "#E1E5ED"
        },
        "yaxis11": {
         "anchor": "x11",
         "domain": [
          0.2675,
          0.465
         ],
         "gridcolor": "#E1E5ED",
         "showgrid": false,
         "tickfont": {
          "color": "#4D5663"
         },
         "title": {
          "font": {
           "color": "#4D5663"
          },
          "text": ""
         },
         "zerolinecolor": "#E1E5ED"
        },
        "yaxis12": {
         "anchor": "x12",
         "domain": [
          0.2675,
          0.465
         ],
         "gridcolor": "#E1E5ED",
         "showgrid": false,
         "tickfont": {
          "color": "#4D5663"
         },
         "title": {
          "font": {
           "color": "#4D5663"
          },
          "text": ""
         },
         "zerolinecolor": "#E1E5ED"
        },
        "yaxis13": {
         "anchor": "x13",
         "domain": [
          0,
          0.1975
         ],
         "gridcolor": "#E1E5ED",
         "showgrid": false,
         "tickfont": {
          "color": "#4D5663"
         },
         "title": {
          "font": {
           "color": "#4D5663"
          },
          "text": ""
         },
         "zerolinecolor": "#E1E5ED"
        },
        "yaxis14": {
         "anchor": "x14",
         "domain": [
          0,
          0.1975
         ],
         "gridcolor": "#E1E5ED",
         "showgrid": false,
         "tickfont": {
          "color": "#4D5663"
         },
         "title": {
          "font": {
           "color": "#4D5663"
          },
          "text": ""
         },
         "zerolinecolor": "#E1E5ED"
        },
        "yaxis15": {
         "anchor": "x15",
         "domain": [
          0,
          0.1975
         ],
         "gridcolor": "#E1E5ED",
         "showgrid": false,
         "tickfont": {
          "color": "#4D5663"
         },
         "title": {
          "font": {
           "color": "#4D5663"
          },
          "text": ""
         },
         "zerolinecolor": "#E1E5ED"
        },
        "yaxis16": {
         "anchor": "x16",
         "domain": [
          0,
          0.1975
         ],
         "gridcolor": "#E1E5ED",
         "showgrid": false,
         "tickfont": {
          "color": "#4D5663"
         },
         "title": {
          "font": {
           "color": "#4D5663"
          },
          "text": ""
         },
         "zerolinecolor": "#E1E5ED"
        },
        "yaxis2": {
         "anchor": "x2",
         "domain": [
          0.8025,
          1
         ],
         "gridcolor": "#E1E5ED",
         "showgrid": false,
         "tickfont": {
          "color": "#4D5663"
         },
         "title": {
          "font": {
           "color": "#4D5663"
          },
          "text": ""
         },
         "zerolinecolor": "#E1E5ED"
        },
        "yaxis3": {
         "anchor": "x3",
         "domain": [
          0.8025,
          1
         ],
         "gridcolor": "#E1E5ED",
         "showgrid": false,
         "tickfont": {
          "color": "#4D5663"
         },
         "title": {
          "font": {
           "color": "#4D5663"
          },
          "text": ""
         },
         "zerolinecolor": "#E1E5ED"
        },
        "yaxis4": {
         "anchor": "x4",
         "domain": [
          0.8025,
          1
         ],
         "gridcolor": "#E1E5ED",
         "showgrid": false,
         "tickfont": {
          "color": "#4D5663"
         },
         "title": {
          "font": {
           "color": "#4D5663"
          },
          "text": ""
         },
         "zerolinecolor": "#E1E5ED"
        },
        "yaxis5": {
         "anchor": "x5",
         "domain": [
          0.535,
          0.7325
         ],
         "gridcolor": "#E1E5ED",
         "showgrid": false,
         "tickfont": {
          "color": "#4D5663"
         },
         "title": {
          "font": {
           "color": "#4D5663"
          },
          "text": ""
         },
         "zerolinecolor": "#E1E5ED"
        },
        "yaxis6": {
         "anchor": "x6",
         "domain": [
          0.535,
          0.7325
         ],
         "gridcolor": "#E1E5ED",
         "showgrid": false,
         "tickfont": {
          "color": "#4D5663"
         },
         "title": {
          "font": {
           "color": "#4D5663"
          },
          "text": ""
         },
         "zerolinecolor": "#E1E5ED"
        },
        "yaxis7": {
         "anchor": "x7",
         "domain": [
          0.535,
          0.7325
         ],
         "gridcolor": "#E1E5ED",
         "showgrid": false,
         "tickfont": {
          "color": "#4D5663"
         },
         "title": {
          "font": {
           "color": "#4D5663"
          },
          "text": ""
         },
         "zerolinecolor": "#E1E5ED"
        },
        "yaxis8": {
         "anchor": "x8",
         "domain": [
          0.535,
          0.7325
         ],
         "gridcolor": "#E1E5ED",
         "showgrid": false,
         "tickfont": {
          "color": "#4D5663"
         },
         "title": {
          "font": {
           "color": "#4D5663"
          },
          "text": ""
         },
         "zerolinecolor": "#E1E5ED"
        },
        "yaxis9": {
         "anchor": "x9",
         "domain": [
          0.2675,
          0.465
         ],
         "gridcolor": "#E1E5ED",
         "showgrid": false,
         "tickfont": {
          "color": "#4D5663"
         },
         "title": {
          "font": {
           "color": "#4D5663"
          },
          "text": ""
         },
         "zerolinecolor": "#E1E5ED"
        }
       }
      },
      "text/html": [
       "<div>                            <div id=\"f1406918-c5be-487a-982e-2fdadc951431\" class=\"plotly-graph-div\" style=\"height:525px; width:100%;\"></div>            <script type=\"text/javascript\">                require([\"plotly\"], function(Plotly) {                    window.PLOTLYENV=window.PLOTLYENV || {};\n",
       "                    window.PLOTLYENV.BASE_URL='https://plot.ly';                                    if (document.getElementById(\"f1406918-c5be-487a-982e-2fdadc951431\")) {                    Plotly.newPlot(                        \"f1406918-c5be-487a-982e-2fdadc951431\",                        [{\"histfunc\":\"count\",\"histnorm\":\"\",\"marker\":{\"color\":\"rgba(255, 153, 51, 1.0)\",\"line\":{\"color\":\"#4D5663\",\"width\":1.3}},\"name\":\"A\",\"nbinsx\":10,\"opacity\":0.8,\"orientation\":\"v\",\"x\":[-0.27164247126346136,-1.3257070606440196,0.09509138803241492,0.5677789260155507,-1.7702004827781839,0.8192901452031851,0.42843016749584817,0.48891810080098663,-0.13885574098913533,-1.6637758910766713,-0.687383321981337,0.9406647337380462,-0.690819839092722,1.2806354120967807,0.19519500649436486,-0.9617059095864561,-0.34082321440792496,0.40501808153456115,1.0256932200321933,0.19792777139922432,0.4473417964638847,-0.746357600971722,-0.7463331494444009,1.8614426561055353,-1.1921824686638272,0.33702637966918264,-0.019990132981849144,-1.0365459781316264,-0.9182930313854358,1.0514506561892487,1.4231033015561043,0.9388329560106634,-0.6005788533325781,-1.5577073542570385,0.7729435472995098,-0.7886108148794514,0.8276169458706734,-0.5887982618967834,0.6079822371177137,1.1815201552359502,-0.46765292959066734,-1.1747756877337578,0.12539506832767486,0.8444236630050397,0.4837479545939307,0.2626615850571374,0.25609179616383837,-0.34482586724742925,-1.0629525341853008,0.38530331033560733,1.6652564840701058,1.017710453432222,1.739805462678277,0.977218254223707,-0.11349498759333462,1.9125139328999086,-0.07919689362884139,0.19237236508550656,-1.218178626743223,1.5252495234723242,0.42515169637007116,-0.6917277873885234,-1.0914735632955341,0.1479495579758345,-0.769384799107449,-0.959114317069405,-0.11512199650222511,0.06717010137838174,-0.8100531665464591,0.7495654025364011,0.17261362176212222,-1.6122353899625055,2.0636152291749204,1.3542937788460374,0.3971750773103758,-1.6066263804550474,-0.847567402742816,2.2645832278875084,-0.04304356003073988,-1.3965861940480482,1.3607133938541376,-2.033089150596266,0.4936571407278187,-1.2255787715598412,-0.48127741316601513,3.05599930065596,-0.26528530741592665,-0.5031144218517964,2.0169311706777338,0.6137848243893546,0.5652221897804888,-0.7608485125554416,0.15896495846476275,-1.1521496906994413,-1.303672140570186,-0.5163893488317101,0.5326431891049507,-0.23498564823224072,-0.0075292175095747725,1.1807221464818747],\"xaxis\":\"x\",\"yaxis\":\"y\",\"type\":\"histogram\"},{\"line\":{\"color\":\"rgba(128, 128, 128, 1.0)\",\"dash\":\"solid\",\"shape\":\"linear\",\"width\":1.3},\"marker\":{\"size\":2,\"symbol\":\"circle\"},\"mode\":\"markers\",\"name\":\"A\",\"text\":\"\",\"x\":[-0.5606845687001836,1.6792241184825982,-0.08661661904826148,0.3898727869993485,0.01484572176819306,1.2923784950415658,-0.7547121807613962,-0.17924041096584103,-2.079556271100031,1.3741475772876197,-0.7265727387037649,0.07795556662307522,-1.6984034926570812,0.9514332912763463,0.9208568312409571,0.8721149896398802,-1.2006034959932614,0.9698322836075526,-1.7348279414407843,-0.18045584815021679,-0.15534958173210708,0.5778707279835965,-0.31094304485398533,-0.22119039196159165,1.3577782715590458,0.5976119660885164,-0.33861814766618836,0.009153919545416113,-0.905349622590771,0.797128717357109,0.36614038340714694,-1.5116109210853086,0.36233320503932614,-1.286401592931063,0.8197727302603469,1.110110135760402,0.316814577082492,0.8162624495735802,1.3508787939093665,0.9370194953434611,1.748037798224933,0.5260329111423281,0.5837856131293094,1.627503056742485,0.7597512835732089,0.1195243454589661,1.1031778871431137,0.0732232025003497,-0.4392083678404856,-2.0005261017160803,0.15086645476505978,0.7707078145347047,0.39845934776015907,0.60503610907641,-0.5676790205343145,-0.08728334160333123,-0.6736473541810989,1.3469654155549382,-0.52895187800803,-0.7715416124924191,0.32992146618986257,-0.20511451718899026,0.8823370549505434,-1.6350359682122242,0.1998129876390042,-1.1175159253196678,-2.2548754117108527,0.3841331487228912,-0.5647053958800019,1.4138362030889675,-0.7336674767371699,-0.0994770805480279,1.4129817421869901,1.3279684648445662,-0.3426837583140145,0.7427901223026995,0.9562542554682181,1.662527972510784,1.654208700671479,1.6277836234752037,0.2622646773981404,1.1110417788709064,-1.0758423905400494,0.5866561856112027,-0.3632825296055402,-0.5092436817558994,0.9829762441659161,-0.9039318124721808,-0.8761259788070621,1.282766952219753,-1.2659129574243786,1.1388669103882356,0.031596317962045775,-1.0028678826990054,-0.203214798443493,-2.0704178554216046,-0.6120462001187992,-1.6908135230507628,0.3945926141835523,-0.8402938448734616],\"xaxis\":\"x2\",\"y\":[-0.27164247126346136,-1.3257070606440196,0.09509138803241492,0.5677789260155507,-1.7702004827781839,0.8192901452031851,0.42843016749584817,0.48891810080098663,-0.13885574098913533,-1.6637758910766713,-0.687383321981337,0.9406647337380462,-0.690819839092722,1.2806354120967807,0.19519500649436486,-0.9617059095864561,-0.34082321440792496,0.40501808153456115,1.0256932200321933,0.19792777139922432,0.4473417964638847,-0.746357600971722,-0.7463331494444009,1.8614426561055353,-1.1921824686638272,0.33702637966918264,-0.019990132981849144,-1.0365459781316264,-0.9182930313854358,1.0514506561892487,1.4231033015561043,0.9388329560106634,-0.6005788533325781,-1.5577073542570385,0.7729435472995098,-0.7886108148794514,0.8276169458706734,-0.5887982618967834,0.6079822371177137,1.1815201552359502,-0.46765292959066734,-1.1747756877337578,0.12539506832767486,0.8444236630050397,0.4837479545939307,0.2626615850571374,0.25609179616383837,-0.34482586724742925,-1.0629525341853008,0.38530331033560733,1.6652564840701058,1.017710453432222,1.739805462678277,0.977218254223707,-0.11349498759333462,1.9125139328999086,-0.07919689362884139,0.19237236508550656,-1.218178626743223,1.5252495234723242,0.42515169637007116,-0.6917277873885234,-1.0914735632955341,0.1479495579758345,-0.769384799107449,-0.959114317069405,-0.11512199650222511,0.06717010137838174,-0.8100531665464591,0.7495654025364011,0.17261362176212222,-1.6122353899625055,2.0636152291749204,1.3542937788460374,0.3971750773103758,-1.6066263804550474,-0.847567402742816,2.2645832278875084,-0.04304356003073988,-1.3965861940480482,1.3607133938541376,-2.033089150596266,0.4936571407278187,-1.2255787715598412,-0.48127741316601513,3.05599930065596,-0.26528530741592665,-0.5031144218517964,2.0169311706777338,0.6137848243893546,0.5652221897804888,-0.7608485125554416,0.15896495846476275,-1.1521496906994413,-1.303672140570186,-0.5163893488317101,0.5326431891049507,-0.23498564823224072,-0.0075292175095747725,1.1807221464818747],\"yaxis\":\"y2\",\"type\":\"scatter\"},{\"line\":{\"color\":\"rgba(128, 128, 128, 1.0)\",\"dash\":\"solid\",\"shape\":\"linear\",\"width\":1.3},\"marker\":{\"size\":2,\"symbol\":\"circle\"},\"mode\":\"markers\",\"name\":\"A\",\"text\":\"\",\"x\":[-0.17510076833451887,1.0288698240177145,0.7294187475382269,-0.5578856629282004,-1.4427561070736776,0.4388161783702774,0.060563737566764815,1.1228360547515748,-1.1147708162876648,-1.2752660154204478,-1.7312113286523432,-0.82533168192219,0.8658741797078373,-0.41427836454014716,-0.9098894454547914,-1.800204706789089,0.6682338915047351,-0.20987374484294746,0.19598899319836607,-0.7669541641335651,0.4124924143896091,-1.8397233779403428,-2.4530517139415355,0.4424743832683385,-1.1279100199509753,0.8273645699863521,0.7060451811025258,-0.34841335926422856,-0.8179883446544839,-1.1938551743761843,0.23965205889367786,-0.003371851161309269,-0.3848283690882053,-0.3660579064690124,0.18789785147708796,1.6631657931534722,1.7407484140501224,1.4565488819779684,-0.6232723514435085,0.8486940617122866,-1.2524232797957384,1.0025461725315055,-1.6900742257435932,2.5965882936507287,0.8974446875412032,0.6409236834519745,-0.3004172819682092,-0.7308341507657704,-0.8473571913525139,0.18229635624312268,-1.4372588244194673,0.39970158575841475,1.4516847984516328,1.0026818566565996,1.6145013116745843,0.3370738959446078,0.9423240780645039,-0.6481922359095227,1.088239694258309,0.2757922834178292,0.05599297866846583,-0.5538316369091456,0.5839356030798746,3.77788003076131,-0.2814142162387364,-1.396739653898618,1.098733557716189,0.3481299362914519,0.5719545584678998,-1.1917432377063344,0.5562025971593422,0.2687526601731444,-0.6579484009003517,-0.2893864693705524,0.7529664222734219,0.5599036596190918,0.6972960000357077,-0.3165006408518295,0.12506772611635675,-0.1547960377329048,-0.19802705425048947,-1.7878921210147751,-0.7252978787352365,0.9169166661120889,-0.18418265183374585,0.9980844798991737,0.21372777438456053,0.1625712531452284,0.40518165848931825,-0.4024378051833785,0.034134439117629076,0.3801876036723134,-1.574634729531062,-1.279225040981382,1.9560622718390517,1.1699990486795044,-0.5492666922188294,-0.46782061675087566,-0.4457203824349354,-0.4973139229416746],\"xaxis\":\"x3\",\"y\":[-0.27164247126346136,-1.3257070606440196,0.09509138803241492,0.5677789260155507,-1.7702004827781839,0.8192901452031851,0.42843016749584817,0.48891810080098663,-0.13885574098913533,-1.6637758910766713,-0.687383321981337,0.9406647337380462,-0.690819839092722,1.2806354120967807,0.19519500649436486,-0.9617059095864561,-0.34082321440792496,0.40501808153456115,1.0256932200321933,0.19792777139922432,0.4473417964638847,-0.746357600971722,-0.7463331494444009,1.8614426561055353,-1.1921824686638272,0.33702637966918264,-0.019990132981849144,-1.0365459781316264,-0.9182930313854358,1.0514506561892487,1.4231033015561043,0.9388329560106634,-0.6005788533325781,-1.5577073542570385,0.7729435472995098,-0.7886108148794514,0.8276169458706734,-0.5887982618967834,0.6079822371177137,1.1815201552359502,-0.46765292959066734,-1.1747756877337578,0.12539506832767486,0.8444236630050397,0.4837479545939307,0.2626615850571374,0.25609179616383837,-0.34482586724742925,-1.0629525341853008,0.38530331033560733,1.6652564840701058,1.017710453432222,1.739805462678277,0.977218254223707,-0.11349498759333462,1.9125139328999086,-0.07919689362884139,0.19237236508550656,-1.218178626743223,1.5252495234723242,0.42515169637007116,-0.6917277873885234,-1.0914735632955341,0.1479495579758345,-0.769384799107449,-0.959114317069405,-0.11512199650222511,0.06717010137838174,-0.8100531665464591,0.7495654025364011,0.17261362176212222,-1.6122353899625055,2.0636152291749204,1.3542937788460374,0.3971750773103758,-1.6066263804550474,-0.847567402742816,2.2645832278875084,-0.04304356003073988,-1.3965861940480482,1.3607133938541376,-2.033089150596266,0.4936571407278187,-1.2255787715598412,-0.48127741316601513,3.05599930065596,-0.26528530741592665,-0.5031144218517964,2.0169311706777338,0.6137848243893546,0.5652221897804888,-0.7608485125554416,0.15896495846476275,-1.1521496906994413,-1.303672140570186,-0.5163893488317101,0.5326431891049507,-0.23498564823224072,-0.0075292175095747725,1.1807221464818747],\"yaxis\":\"y3\",\"type\":\"scatter\"},{\"line\":{\"color\":\"rgba(128, 128, 128, 1.0)\",\"dash\":\"solid\",\"shape\":\"linear\",\"width\":1.3},\"marker\":{\"size\":2,\"symbol\":\"circle\"},\"mode\":\"markers\",\"name\":\"A\",\"text\":\"\",\"x\":[0.028993705037304567,-0.6716875531197293,0.8334435896917214,-1.9716771967264062,1.50532385374814,0.14956974745594662,-0.06939513333845235,-0.2815157688175154,0.38684784925404336,0.14381043854226855,1.4876554131996642,-0.7370660801991634,1.5404097323754171,0.2040380802866936,0.14168081298982785,-0.8250878115833602,-1.7320260569405233,0.6359832967253354,-0.4695872751400371,-0.2673988678442753,-0.9881864665743314,1.5061033230127938,0.10598331717029001,0.10931223800100075,0.7694644275917429,0.5182483641705755,-0.3071935056280965,-0.4665082690544789,0.9447249121081155,2.0425295696010743,-0.43698105003454357,-0.907598909077158,0.29462902502362,0.10190992720602601,-0.8174929595408008,-0.18001152313077143,0.15566515500727343,0.13196150538499757,-1.0575979330248275,-0.2625832388597864,-0.24847941451559766,2.1485331533935943,-0.08717358871212114,-0.30940859490619027,-2.0046227174032225,1.5083427558825817,-1.5139213190088612,0.01563324569264091,0.8616742568840906,-0.8525617560577919,-1.4248262474160276,-0.3605394147608612,0.37716297286280276,0.6258658201541683,0.2569647630992787,-1.6369203499044183,0.7871465171480043,0.7355463996487434,0.48596059901344485,1.252482630695332,0.4369197688828738,-0.11016987718728498,-1.2248590164464839,-0.37699173885758686,0.013267497344670701,-0.8385954164259339,-1.333902638527453,-1.0835532755477346,1.5605143000742498,-0.4152456441491844,0.5942036262360473,0.5434734806548989,-1.0542816433101314,0.9865682135617165,-1.8060658371376346,-0.04991907939054093,-0.14854389029313436,-0.5375389631592972,0.4245378412844418,0.3468493151487389,0.23489491445703792,0.24001963017549055,-1.7849754803006823,-0.029436562746093183,1.261992804620589,0.6149667944501315,-0.23557799300923188,0.6309302264213924,0.49159285635577266,-0.8530324387313918,-0.8386954461087648,0.17224056036045315,0.8512415447812286,0.2539718936206673,-1.8082627145838914,1.0134201851014084,-1.400878111327254,-0.5350870859857267,-0.7669223496683658,1.097042962574408],\"xaxis\":\"x4\",\"y\":[-0.27164247126346136,-1.3257070606440196,0.09509138803241492,0.5677789260155507,-1.7702004827781839,0.8192901452031851,0.42843016749584817,0.48891810080098663,-0.13885574098913533,-1.6637758910766713,-0.687383321981337,0.9406647337380462,-0.690819839092722,1.2806354120967807,0.19519500649436486,-0.9617059095864561,-0.34082321440792496,0.40501808153456115,1.0256932200321933,0.19792777139922432,0.4473417964638847,-0.746357600971722,-0.7463331494444009,1.8614426561055353,-1.1921824686638272,0.33702637966918264,-0.019990132981849144,-1.0365459781316264,-0.9182930313854358,1.0514506561892487,1.4231033015561043,0.9388329560106634,-0.6005788533325781,-1.5577073542570385,0.7729435472995098,-0.7886108148794514,0.8276169458706734,-0.5887982618967834,0.6079822371177137,1.1815201552359502,-0.46765292959066734,-1.1747756877337578,0.12539506832767486,0.8444236630050397,0.4837479545939307,0.2626615850571374,0.25609179616383837,-0.34482586724742925,-1.0629525341853008,0.38530331033560733,1.6652564840701058,1.017710453432222,1.739805462678277,0.977218254223707,-0.11349498759333462,1.9125139328999086,-0.07919689362884139,0.19237236508550656,-1.218178626743223,1.5252495234723242,0.42515169637007116,-0.6917277873885234,-1.0914735632955341,0.1479495579758345,-0.769384799107449,-0.959114317069405,-0.11512199650222511,0.06717010137838174,-0.8100531665464591,0.7495654025364011,0.17261362176212222,-1.6122353899625055,2.0636152291749204,1.3542937788460374,0.3971750773103758,-1.6066263804550474,-0.847567402742816,2.2645832278875084,-0.04304356003073988,-1.3965861940480482,1.3607133938541376,-2.033089150596266,0.4936571407278187,-1.2255787715598412,-0.48127741316601513,3.05599930065596,-0.26528530741592665,-0.5031144218517964,2.0169311706777338,0.6137848243893546,0.5652221897804888,-0.7608485125554416,0.15896495846476275,-1.1521496906994413,-1.303672140570186,-0.5163893488317101,0.5326431891049507,-0.23498564823224072,-0.0075292175095747725,1.1807221464818747],\"yaxis\":\"y4\",\"type\":\"scatter\"},{\"line\":{\"color\":\"rgba(128, 128, 128, 1.0)\",\"dash\":\"solid\",\"shape\":\"linear\",\"width\":1.3},\"marker\":{\"size\":2,\"symbol\":\"circle\"},\"mode\":\"markers\",\"name\":\"B\",\"text\":\"\",\"x\":[-0.27164247126346136,-1.3257070606440196,0.09509138803241492,0.5677789260155507,-1.7702004827781839,0.8192901452031851,0.42843016749584817,0.48891810080098663,-0.13885574098913533,-1.6637758910766713,-0.687383321981337,0.9406647337380462,-0.690819839092722,1.2806354120967807,0.19519500649436486,-0.9617059095864561,-0.34082321440792496,0.40501808153456115,1.0256932200321933,0.19792777139922432,0.4473417964638847,-0.746357600971722,-0.7463331494444009,1.8614426561055353,-1.1921824686638272,0.33702637966918264,-0.019990132981849144,-1.0365459781316264,-0.9182930313854358,1.0514506561892487,1.4231033015561043,0.9388329560106634,-0.6005788533325781,-1.5577073542570385,0.7729435472995098,-0.7886108148794514,0.8276169458706734,-0.5887982618967834,0.6079822371177137,1.1815201552359502,-0.46765292959066734,-1.1747756877337578,0.12539506832767486,0.8444236630050397,0.4837479545939307,0.2626615850571374,0.25609179616383837,-0.34482586724742925,-1.0629525341853008,0.38530331033560733,1.6652564840701058,1.017710453432222,1.739805462678277,0.977218254223707,-0.11349498759333462,1.9125139328999086,-0.07919689362884139,0.19237236508550656,-1.218178626743223,1.5252495234723242,0.42515169637007116,-0.6917277873885234,-1.0914735632955341,0.1479495579758345,-0.769384799107449,-0.959114317069405,-0.11512199650222511,0.06717010137838174,-0.8100531665464591,0.7495654025364011,0.17261362176212222,-1.6122353899625055,2.0636152291749204,1.3542937788460374,0.3971750773103758,-1.6066263804550474,-0.847567402742816,2.2645832278875084,-0.04304356003073988,-1.3965861940480482,1.3607133938541376,-2.033089150596266,0.4936571407278187,-1.2255787715598412,-0.48127741316601513,3.05599930065596,-0.26528530741592665,-0.5031144218517964,2.0169311706777338,0.6137848243893546,0.5652221897804888,-0.7608485125554416,0.15896495846476275,-1.1521496906994413,-1.303672140570186,-0.5163893488317101,0.5326431891049507,-0.23498564823224072,-0.0075292175095747725,1.1807221464818747],\"xaxis\":\"x5\",\"y\":[-0.5606845687001836,1.6792241184825982,-0.08661661904826148,0.3898727869993485,0.01484572176819306,1.2923784950415658,-0.7547121807613962,-0.17924041096584103,-2.079556271100031,1.3741475772876197,-0.7265727387037649,0.07795556662307522,-1.6984034926570812,0.9514332912763463,0.9208568312409571,0.8721149896398802,-1.2006034959932614,0.9698322836075526,-1.7348279414407843,-0.18045584815021679,-0.15534958173210708,0.5778707279835965,-0.31094304485398533,-0.22119039196159165,1.3577782715590458,0.5976119660885164,-0.33861814766618836,0.009153919545416113,-0.905349622590771,0.797128717357109,0.36614038340714694,-1.5116109210853086,0.36233320503932614,-1.286401592931063,0.8197727302603469,1.110110135760402,0.316814577082492,0.8162624495735802,1.3508787939093665,0.9370194953434611,1.748037798224933,0.5260329111423281,0.5837856131293094,1.627503056742485,0.7597512835732089,0.1195243454589661,1.1031778871431137,0.0732232025003497,-0.4392083678404856,-2.0005261017160803,0.15086645476505978,0.7707078145347047,0.39845934776015907,0.60503610907641,-0.5676790205343145,-0.08728334160333123,-0.6736473541810989,1.3469654155549382,-0.52895187800803,-0.7715416124924191,0.32992146618986257,-0.20511451718899026,0.8823370549505434,-1.6350359682122242,0.1998129876390042,-1.1175159253196678,-2.2548754117108527,0.3841331487228912,-0.5647053958800019,1.4138362030889675,-0.7336674767371699,-0.0994770805480279,1.4129817421869901,1.3279684648445662,-0.3426837583140145,0.7427901223026995,0.9562542554682181,1.662527972510784,1.654208700671479,1.6277836234752037,0.2622646773981404,1.1110417788709064,-1.0758423905400494,0.5866561856112027,-0.3632825296055402,-0.5092436817558994,0.9829762441659161,-0.9039318124721808,-0.8761259788070621,1.282766952219753,-1.2659129574243786,1.1388669103882356,0.031596317962045775,-1.0028678826990054,-0.203214798443493,-2.0704178554216046,-0.6120462001187992,-1.6908135230507628,0.3945926141835523,-0.8402938448734616],\"yaxis\":\"y5\",\"type\":\"scatter\"},{\"histfunc\":\"count\",\"histnorm\":\"\",\"marker\":{\"color\":\"rgba(55, 128, 191, 1.0)\",\"line\":{\"color\":\"#4D5663\",\"width\":1.3}},\"name\":\"B\",\"nbinsx\":10,\"opacity\":0.8,\"orientation\":\"v\",\"x\":[-0.5606845687001836,1.6792241184825982,-0.08661661904826148,0.3898727869993485,0.01484572176819306,1.2923784950415658,-0.7547121807613962,-0.17924041096584103,-2.079556271100031,1.3741475772876197,-0.7265727387037649,0.07795556662307522,-1.6984034926570812,0.9514332912763463,0.9208568312409571,0.8721149896398802,-1.2006034959932614,0.9698322836075526,-1.7348279414407843,-0.18045584815021679,-0.15534958173210708,0.5778707279835965,-0.31094304485398533,-0.22119039196159165,1.3577782715590458,0.5976119660885164,-0.33861814766618836,0.009153919545416113,-0.905349622590771,0.797128717357109,0.36614038340714694,-1.5116109210853086,0.36233320503932614,-1.286401592931063,0.8197727302603469,1.110110135760402,0.316814577082492,0.8162624495735802,1.3508787939093665,0.9370194953434611,1.748037798224933,0.5260329111423281,0.5837856131293094,1.627503056742485,0.7597512835732089,0.1195243454589661,1.1031778871431137,0.0732232025003497,-0.4392083678404856,-2.0005261017160803,0.15086645476505978,0.7707078145347047,0.39845934776015907,0.60503610907641,-0.5676790205343145,-0.08728334160333123,-0.6736473541810989,1.3469654155549382,-0.52895187800803,-0.7715416124924191,0.32992146618986257,-0.20511451718899026,0.8823370549505434,-1.6350359682122242,0.1998129876390042,-1.1175159253196678,-2.2548754117108527,0.3841331487228912,-0.5647053958800019,1.4138362030889675,-0.7336674767371699,-0.0994770805480279,1.4129817421869901,1.3279684648445662,-0.3426837583140145,0.7427901223026995,0.9562542554682181,1.662527972510784,1.654208700671479,1.6277836234752037,0.2622646773981404,1.1110417788709064,-1.0758423905400494,0.5866561856112027,-0.3632825296055402,-0.5092436817558994,0.9829762441659161,-0.9039318124721808,-0.8761259788070621,1.282766952219753,-1.2659129574243786,1.1388669103882356,0.031596317962045775,-1.0028678826990054,-0.203214798443493,-2.0704178554216046,-0.6120462001187992,-1.6908135230507628,0.3945926141835523,-0.8402938448734616],\"xaxis\":\"x6\",\"yaxis\":\"y6\",\"type\":\"histogram\"},{\"line\":{\"color\":\"rgba(128, 128, 128, 1.0)\",\"dash\":\"solid\",\"shape\":\"linear\",\"width\":1.3},\"marker\":{\"size\":2,\"symbol\":\"circle\"},\"mode\":\"markers\",\"name\":\"B\",\"text\":\"\",\"x\":[-0.17510076833451887,1.0288698240177145,0.7294187475382269,-0.5578856629282004,-1.4427561070736776,0.4388161783702774,0.060563737566764815,1.1228360547515748,-1.1147708162876648,-1.2752660154204478,-1.7312113286523432,-0.82533168192219,0.8658741797078373,-0.41427836454014716,-0.9098894454547914,-1.800204706789089,0.6682338915047351,-0.20987374484294746,0.19598899319836607,-0.7669541641335651,0.4124924143896091,-1.8397233779403428,-2.4530517139415355,0.4424743832683385,-1.1279100199509753,0.8273645699863521,0.7060451811025258,-0.34841335926422856,-0.8179883446544839,-1.1938551743761843,0.23965205889367786,-0.003371851161309269,-0.3848283690882053,-0.3660579064690124,0.18789785147708796,1.6631657931534722,1.7407484140501224,1.4565488819779684,-0.6232723514435085,0.8486940617122866,-1.2524232797957384,1.0025461725315055,-1.6900742257435932,2.5965882936507287,0.8974446875412032,0.6409236834519745,-0.3004172819682092,-0.7308341507657704,-0.8473571913525139,0.18229635624312268,-1.4372588244194673,0.39970158575841475,1.4516847984516328,1.0026818566565996,1.6145013116745843,0.3370738959446078,0.9423240780645039,-0.6481922359095227,1.088239694258309,0.2757922834178292,0.05599297866846583,-0.5538316369091456,0.5839356030798746,3.77788003076131,-0.2814142162387364,-1.396739653898618,1.098733557716189,0.3481299362914519,0.5719545584678998,-1.1917432377063344,0.5562025971593422,0.2687526601731444,-0.6579484009003517,-0.2893864693705524,0.7529664222734219,0.5599036596190918,0.6972960000357077,-0.3165006408518295,0.12506772611635675,-0.1547960377329048,-0.19802705425048947,-1.7878921210147751,-0.7252978787352365,0.9169166661120889,-0.18418265183374585,0.9980844798991737,0.21372777438456053,0.1625712531452284,0.40518165848931825,-0.4024378051833785,0.034134439117629076,0.3801876036723134,-1.574634729531062,-1.279225040981382,1.9560622718390517,1.1699990486795044,-0.5492666922188294,-0.46782061675087566,-0.4457203824349354,-0.4973139229416746],\"xaxis\":\"x7\",\"y\":[-0.5606845687001836,1.6792241184825982,-0.08661661904826148,0.3898727869993485,0.01484572176819306,1.2923784950415658,-0.7547121807613962,-0.17924041096584103,-2.079556271100031,1.3741475772876197,-0.7265727387037649,0.07795556662307522,-1.6984034926570812,0.9514332912763463,0.9208568312409571,0.8721149896398802,-1.2006034959932614,0.9698322836075526,-1.7348279414407843,-0.18045584815021679,-0.15534958173210708,0.5778707279835965,-0.31094304485398533,-0.22119039196159165,1.3577782715590458,0.5976119660885164,-0.33861814766618836,0.009153919545416113,-0.905349622590771,0.797128717357109,0.36614038340714694,-1.5116109210853086,0.36233320503932614,-1.286401592931063,0.8197727302603469,1.110110135760402,0.316814577082492,0.8162624495735802,1.3508787939093665,0.9370194953434611,1.748037798224933,0.5260329111423281,0.5837856131293094,1.627503056742485,0.7597512835732089,0.1195243454589661,1.1031778871431137,0.0732232025003497,-0.4392083678404856,-2.0005261017160803,0.15086645476505978,0.7707078145347047,0.39845934776015907,0.60503610907641,-0.5676790205343145,-0.08728334160333123,-0.6736473541810989,1.3469654155549382,-0.52895187800803,-0.7715416124924191,0.32992146618986257,-0.20511451718899026,0.8823370549505434,-1.6350359682122242,0.1998129876390042,-1.1175159253196678,-2.2548754117108527,0.3841331487228912,-0.5647053958800019,1.4138362030889675,-0.7336674767371699,-0.0994770805480279,1.4129817421869901,1.3279684648445662,-0.3426837583140145,0.7427901223026995,0.9562542554682181,1.662527972510784,1.654208700671479,1.6277836234752037,0.2622646773981404,1.1110417788709064,-1.0758423905400494,0.5866561856112027,-0.3632825296055402,-0.5092436817558994,0.9829762441659161,-0.9039318124721808,-0.8761259788070621,1.282766952219753,-1.2659129574243786,1.1388669103882356,0.031596317962045775,-1.0028678826990054,-0.203214798443493,-2.0704178554216046,-0.6120462001187992,-1.6908135230507628,0.3945926141835523,-0.8402938448734616],\"yaxis\":\"y7\",\"type\":\"scatter\"},{\"line\":{\"color\":\"rgba(128, 128, 128, 1.0)\",\"dash\":\"solid\",\"shape\":\"linear\",\"width\":1.3},\"marker\":{\"size\":2,\"symbol\":\"circle\"},\"mode\":\"markers\",\"name\":\"B\",\"text\":\"\",\"x\":[0.028993705037304567,-0.6716875531197293,0.8334435896917214,-1.9716771967264062,1.50532385374814,0.14956974745594662,-0.06939513333845235,-0.2815157688175154,0.38684784925404336,0.14381043854226855,1.4876554131996642,-0.7370660801991634,1.5404097323754171,0.2040380802866936,0.14168081298982785,-0.8250878115833602,-1.7320260569405233,0.6359832967253354,-0.4695872751400371,-0.2673988678442753,-0.9881864665743314,1.5061033230127938,0.10598331717029001,0.10931223800100075,0.7694644275917429,0.5182483641705755,-0.3071935056280965,-0.4665082690544789,0.9447249121081155,2.0425295696010743,-0.43698105003454357,-0.907598909077158,0.29462902502362,0.10190992720602601,-0.8174929595408008,-0.18001152313077143,0.15566515500727343,0.13196150538499757,-1.0575979330248275,-0.2625832388597864,-0.24847941451559766,2.1485331533935943,-0.08717358871212114,-0.30940859490619027,-2.0046227174032225,1.5083427558825817,-1.5139213190088612,0.01563324569264091,0.8616742568840906,-0.8525617560577919,-1.4248262474160276,-0.3605394147608612,0.37716297286280276,0.6258658201541683,0.2569647630992787,-1.6369203499044183,0.7871465171480043,0.7355463996487434,0.48596059901344485,1.252482630695332,0.4369197688828738,-0.11016987718728498,-1.2248590164464839,-0.37699173885758686,0.013267497344670701,-0.8385954164259339,-1.333902638527453,-1.0835532755477346,1.5605143000742498,-0.4152456441491844,0.5942036262360473,0.5434734806548989,-1.0542816433101314,0.9865682135617165,-1.8060658371376346,-0.04991907939054093,-0.14854389029313436,-0.5375389631592972,0.4245378412844418,0.3468493151487389,0.23489491445703792,0.24001963017549055,-1.7849754803006823,-0.029436562746093183,1.261992804620589,0.6149667944501315,-0.23557799300923188,0.6309302264213924,0.49159285635577266,-0.8530324387313918,-0.8386954461087648,0.17224056036045315,0.8512415447812286,0.2539718936206673,-1.8082627145838914,1.0134201851014084,-1.400878111327254,-0.5350870859857267,-0.7669223496683658,1.097042962574408],\"xaxis\":\"x8\",\"y\":[-0.5606845687001836,1.6792241184825982,-0.08661661904826148,0.3898727869993485,0.01484572176819306,1.2923784950415658,-0.7547121807613962,-0.17924041096584103,-2.079556271100031,1.3741475772876197,-0.7265727387037649,0.07795556662307522,-1.6984034926570812,0.9514332912763463,0.9208568312409571,0.8721149896398802,-1.2006034959932614,0.9698322836075526,-1.7348279414407843,-0.18045584815021679,-0.15534958173210708,0.5778707279835965,-0.31094304485398533,-0.22119039196159165,1.3577782715590458,0.5976119660885164,-0.33861814766618836,0.009153919545416113,-0.905349622590771,0.797128717357109,0.36614038340714694,-1.5116109210853086,0.36233320503932614,-1.286401592931063,0.8197727302603469,1.110110135760402,0.316814577082492,0.8162624495735802,1.3508787939093665,0.9370194953434611,1.748037798224933,0.5260329111423281,0.5837856131293094,1.627503056742485,0.7597512835732089,0.1195243454589661,1.1031778871431137,0.0732232025003497,-0.4392083678404856,-2.0005261017160803,0.15086645476505978,0.7707078145347047,0.39845934776015907,0.60503610907641,-0.5676790205343145,-0.08728334160333123,-0.6736473541810989,1.3469654155549382,-0.52895187800803,-0.7715416124924191,0.32992146618986257,-0.20511451718899026,0.8823370549505434,-1.6350359682122242,0.1998129876390042,-1.1175159253196678,-2.2548754117108527,0.3841331487228912,-0.5647053958800019,1.4138362030889675,-0.7336674767371699,-0.0994770805480279,1.4129817421869901,1.3279684648445662,-0.3426837583140145,0.7427901223026995,0.9562542554682181,1.662527972510784,1.654208700671479,1.6277836234752037,0.2622646773981404,1.1110417788709064,-1.0758423905400494,0.5866561856112027,-0.3632825296055402,-0.5092436817558994,0.9829762441659161,-0.9039318124721808,-0.8761259788070621,1.282766952219753,-1.2659129574243786,1.1388669103882356,0.031596317962045775,-1.0028678826990054,-0.203214798443493,-2.0704178554216046,-0.6120462001187992,-1.6908135230507628,0.3945926141835523,-0.8402938448734616],\"yaxis\":\"y8\",\"type\":\"scatter\"},{\"line\":{\"color\":\"rgba(128, 128, 128, 1.0)\",\"dash\":\"solid\",\"shape\":\"linear\",\"width\":1.3},\"marker\":{\"size\":2,\"symbol\":\"circle\"},\"mode\":\"markers\",\"name\":\"C\",\"text\":\"\",\"x\":[-0.27164247126346136,-1.3257070606440196,0.09509138803241492,0.5677789260155507,-1.7702004827781839,0.8192901452031851,0.42843016749584817,0.48891810080098663,-0.13885574098913533,-1.6637758910766713,-0.687383321981337,0.9406647337380462,-0.690819839092722,1.2806354120967807,0.19519500649436486,-0.9617059095864561,-0.34082321440792496,0.40501808153456115,1.0256932200321933,0.19792777139922432,0.4473417964638847,-0.746357600971722,-0.7463331494444009,1.8614426561055353,-1.1921824686638272,0.33702637966918264,-0.019990132981849144,-1.0365459781316264,-0.9182930313854358,1.0514506561892487,1.4231033015561043,0.9388329560106634,-0.6005788533325781,-1.5577073542570385,0.7729435472995098,-0.7886108148794514,0.8276169458706734,-0.5887982618967834,0.6079822371177137,1.1815201552359502,-0.46765292959066734,-1.1747756877337578,0.12539506832767486,0.8444236630050397,0.4837479545939307,0.2626615850571374,0.25609179616383837,-0.34482586724742925,-1.0629525341853008,0.38530331033560733,1.6652564840701058,1.017710453432222,1.739805462678277,0.977218254223707,-0.11349498759333462,1.9125139328999086,-0.07919689362884139,0.19237236508550656,-1.218178626743223,1.5252495234723242,0.42515169637007116,-0.6917277873885234,-1.0914735632955341,0.1479495579758345,-0.769384799107449,-0.959114317069405,-0.11512199650222511,0.06717010137838174,-0.8100531665464591,0.7495654025364011,0.17261362176212222,-1.6122353899625055,2.0636152291749204,1.3542937788460374,0.3971750773103758,-1.6066263804550474,-0.847567402742816,2.2645832278875084,-0.04304356003073988,-1.3965861940480482,1.3607133938541376,-2.033089150596266,0.4936571407278187,-1.2255787715598412,-0.48127741316601513,3.05599930065596,-0.26528530741592665,-0.5031144218517964,2.0169311706777338,0.6137848243893546,0.5652221897804888,-0.7608485125554416,0.15896495846476275,-1.1521496906994413,-1.303672140570186,-0.5163893488317101,0.5326431891049507,-0.23498564823224072,-0.0075292175095747725,1.1807221464818747],\"xaxis\":\"x9\",\"y\":[-0.17510076833451887,1.0288698240177145,0.7294187475382269,-0.5578856629282004,-1.4427561070736776,0.4388161783702774,0.060563737566764815,1.1228360547515748,-1.1147708162876648,-1.2752660154204478,-1.7312113286523432,-0.82533168192219,0.8658741797078373,-0.41427836454014716,-0.9098894454547914,-1.800204706789089,0.6682338915047351,-0.20987374484294746,0.19598899319836607,-0.7669541641335651,0.4124924143896091,-1.8397233779403428,-2.4530517139415355,0.4424743832683385,-1.1279100199509753,0.8273645699863521,0.7060451811025258,-0.34841335926422856,-0.8179883446544839,-1.1938551743761843,0.23965205889367786,-0.003371851161309269,-0.3848283690882053,-0.3660579064690124,0.18789785147708796,1.6631657931534722,1.7407484140501224,1.4565488819779684,-0.6232723514435085,0.8486940617122866,-1.2524232797957384,1.0025461725315055,-1.6900742257435932,2.5965882936507287,0.8974446875412032,0.6409236834519745,-0.3004172819682092,-0.7308341507657704,-0.8473571913525139,0.18229635624312268,-1.4372588244194673,0.39970158575841475,1.4516847984516328,1.0026818566565996,1.6145013116745843,0.3370738959446078,0.9423240780645039,-0.6481922359095227,1.088239694258309,0.2757922834178292,0.05599297866846583,-0.5538316369091456,0.5839356030798746,3.77788003076131,-0.2814142162387364,-1.396739653898618,1.098733557716189,0.3481299362914519,0.5719545584678998,-1.1917432377063344,0.5562025971593422,0.2687526601731444,-0.6579484009003517,-0.2893864693705524,0.7529664222734219,0.5599036596190918,0.6972960000357077,-0.3165006408518295,0.12506772611635675,-0.1547960377329048,-0.19802705425048947,-1.7878921210147751,-0.7252978787352365,0.9169166661120889,-0.18418265183374585,0.9980844798991737,0.21372777438456053,0.1625712531452284,0.40518165848931825,-0.4024378051833785,0.034134439117629076,0.3801876036723134,-1.574634729531062,-1.279225040981382,1.9560622718390517,1.1699990486795044,-0.5492666922188294,-0.46782061675087566,-0.4457203824349354,-0.4973139229416746],\"yaxis\":\"y9\",\"type\":\"scatter\"},{\"line\":{\"color\":\"rgba(128, 128, 128, 1.0)\",\"dash\":\"solid\",\"shape\":\"linear\",\"width\":1.3},\"marker\":{\"size\":2,\"symbol\":\"circle\"},\"mode\":\"markers\",\"name\":\"C\",\"text\":\"\",\"x\":[-0.5606845687001836,1.6792241184825982,-0.08661661904826148,0.3898727869993485,0.01484572176819306,1.2923784950415658,-0.7547121807613962,-0.17924041096584103,-2.079556271100031,1.3741475772876197,-0.7265727387037649,0.07795556662307522,-1.6984034926570812,0.9514332912763463,0.9208568312409571,0.8721149896398802,-1.2006034959932614,0.9698322836075526,-1.7348279414407843,-0.18045584815021679,-0.15534958173210708,0.5778707279835965,-0.31094304485398533,-0.22119039196159165,1.3577782715590458,0.5976119660885164,-0.33861814766618836,0.009153919545416113,-0.905349622590771,0.797128717357109,0.36614038340714694,-1.5116109210853086,0.36233320503932614,-1.286401592931063,0.8197727302603469,1.110110135760402,0.316814577082492,0.8162624495735802,1.3508787939093665,0.9370194953434611,1.748037798224933,0.5260329111423281,0.5837856131293094,1.627503056742485,0.7597512835732089,0.1195243454589661,1.1031778871431137,0.0732232025003497,-0.4392083678404856,-2.0005261017160803,0.15086645476505978,0.7707078145347047,0.39845934776015907,0.60503610907641,-0.5676790205343145,-0.08728334160333123,-0.6736473541810989,1.3469654155549382,-0.52895187800803,-0.7715416124924191,0.32992146618986257,-0.20511451718899026,0.8823370549505434,-1.6350359682122242,0.1998129876390042,-1.1175159253196678,-2.2548754117108527,0.3841331487228912,-0.5647053958800019,1.4138362030889675,-0.7336674767371699,-0.0994770805480279,1.4129817421869901,1.3279684648445662,-0.3426837583140145,0.7427901223026995,0.9562542554682181,1.662527972510784,1.654208700671479,1.6277836234752037,0.2622646773981404,1.1110417788709064,-1.0758423905400494,0.5866561856112027,-0.3632825296055402,-0.5092436817558994,0.9829762441659161,-0.9039318124721808,-0.8761259788070621,1.282766952219753,-1.2659129574243786,1.1388669103882356,0.031596317962045775,-1.0028678826990054,-0.203214798443493,-2.0704178554216046,-0.6120462001187992,-1.6908135230507628,0.3945926141835523,-0.8402938448734616],\"xaxis\":\"x10\",\"y\":[-0.17510076833451887,1.0288698240177145,0.7294187475382269,-0.5578856629282004,-1.4427561070736776,0.4388161783702774,0.060563737566764815,1.1228360547515748,-1.1147708162876648,-1.2752660154204478,-1.7312113286523432,-0.82533168192219,0.8658741797078373,-0.41427836454014716,-0.9098894454547914,-1.800204706789089,0.6682338915047351,-0.20987374484294746,0.19598899319836607,-0.7669541641335651,0.4124924143896091,-1.8397233779403428,-2.4530517139415355,0.4424743832683385,-1.1279100199509753,0.8273645699863521,0.7060451811025258,-0.34841335926422856,-0.8179883446544839,-1.1938551743761843,0.23965205889367786,-0.003371851161309269,-0.3848283690882053,-0.3660579064690124,0.18789785147708796,1.6631657931534722,1.7407484140501224,1.4565488819779684,-0.6232723514435085,0.8486940617122866,-1.2524232797957384,1.0025461725315055,-1.6900742257435932,2.5965882936507287,0.8974446875412032,0.6409236834519745,-0.3004172819682092,-0.7308341507657704,-0.8473571913525139,0.18229635624312268,-1.4372588244194673,0.39970158575841475,1.4516847984516328,1.0026818566565996,1.6145013116745843,0.3370738959446078,0.9423240780645039,-0.6481922359095227,1.088239694258309,0.2757922834178292,0.05599297866846583,-0.5538316369091456,0.5839356030798746,3.77788003076131,-0.2814142162387364,-1.396739653898618,1.098733557716189,0.3481299362914519,0.5719545584678998,-1.1917432377063344,0.5562025971593422,0.2687526601731444,-0.6579484009003517,-0.2893864693705524,0.7529664222734219,0.5599036596190918,0.6972960000357077,-0.3165006408518295,0.12506772611635675,-0.1547960377329048,-0.19802705425048947,-1.7878921210147751,-0.7252978787352365,0.9169166661120889,-0.18418265183374585,0.9980844798991737,0.21372777438456053,0.1625712531452284,0.40518165848931825,-0.4024378051833785,0.034134439117629076,0.3801876036723134,-1.574634729531062,-1.279225040981382,1.9560622718390517,1.1699990486795044,-0.5492666922188294,-0.46782061675087566,-0.4457203824349354,-0.4973139229416746],\"yaxis\":\"y10\",\"type\":\"scatter\"},{\"histfunc\":\"count\",\"histnorm\":\"\",\"marker\":{\"color\":\"rgba(50, 171, 96, 1.0)\",\"line\":{\"color\":\"#4D5663\",\"width\":1.3}},\"name\":\"C\",\"nbinsx\":10,\"opacity\":0.8,\"orientation\":\"v\",\"x\":[-0.17510076833451887,1.0288698240177145,0.7294187475382269,-0.5578856629282004,-1.4427561070736776,0.4388161783702774,0.060563737566764815,1.1228360547515748,-1.1147708162876648,-1.2752660154204478,-1.7312113286523432,-0.82533168192219,0.8658741797078373,-0.41427836454014716,-0.9098894454547914,-1.800204706789089,0.6682338915047351,-0.20987374484294746,0.19598899319836607,-0.7669541641335651,0.4124924143896091,-1.8397233779403428,-2.4530517139415355,0.4424743832683385,-1.1279100199509753,0.8273645699863521,0.7060451811025258,-0.34841335926422856,-0.8179883446544839,-1.1938551743761843,0.23965205889367786,-0.003371851161309269,-0.3848283690882053,-0.3660579064690124,0.18789785147708796,1.6631657931534722,1.7407484140501224,1.4565488819779684,-0.6232723514435085,0.8486940617122866,-1.2524232797957384,1.0025461725315055,-1.6900742257435932,2.5965882936507287,0.8974446875412032,0.6409236834519745,-0.3004172819682092,-0.7308341507657704,-0.8473571913525139,0.18229635624312268,-1.4372588244194673,0.39970158575841475,1.4516847984516328,1.0026818566565996,1.6145013116745843,0.3370738959446078,0.9423240780645039,-0.6481922359095227,1.088239694258309,0.2757922834178292,0.05599297866846583,-0.5538316369091456,0.5839356030798746,3.77788003076131,-0.2814142162387364,-1.396739653898618,1.098733557716189,0.3481299362914519,0.5719545584678998,-1.1917432377063344,0.5562025971593422,0.2687526601731444,-0.6579484009003517,-0.2893864693705524,0.7529664222734219,0.5599036596190918,0.6972960000357077,-0.3165006408518295,0.12506772611635675,-0.1547960377329048,-0.19802705425048947,-1.7878921210147751,-0.7252978787352365,0.9169166661120889,-0.18418265183374585,0.9980844798991737,0.21372777438456053,0.1625712531452284,0.40518165848931825,-0.4024378051833785,0.034134439117629076,0.3801876036723134,-1.574634729531062,-1.279225040981382,1.9560622718390517,1.1699990486795044,-0.5492666922188294,-0.46782061675087566,-0.4457203824349354,-0.4973139229416746],\"xaxis\":\"x11\",\"yaxis\":\"y11\",\"type\":\"histogram\"},{\"line\":{\"color\":\"rgba(128, 128, 128, 1.0)\",\"dash\":\"solid\",\"shape\":\"linear\",\"width\":1.3},\"marker\":{\"size\":2,\"symbol\":\"circle\"},\"mode\":\"markers\",\"name\":\"C\",\"text\":\"\",\"x\":[0.028993705037304567,-0.6716875531197293,0.8334435896917214,-1.9716771967264062,1.50532385374814,0.14956974745594662,-0.06939513333845235,-0.2815157688175154,0.38684784925404336,0.14381043854226855,1.4876554131996642,-0.7370660801991634,1.5404097323754171,0.2040380802866936,0.14168081298982785,-0.8250878115833602,-1.7320260569405233,0.6359832967253354,-0.4695872751400371,-0.2673988678442753,-0.9881864665743314,1.5061033230127938,0.10598331717029001,0.10931223800100075,0.7694644275917429,0.5182483641705755,-0.3071935056280965,-0.4665082690544789,0.9447249121081155,2.0425295696010743,-0.43698105003454357,-0.907598909077158,0.29462902502362,0.10190992720602601,-0.8174929595408008,-0.18001152313077143,0.15566515500727343,0.13196150538499757,-1.0575979330248275,-0.2625832388597864,-0.24847941451559766,2.1485331533935943,-0.08717358871212114,-0.30940859490619027,-2.0046227174032225,1.5083427558825817,-1.5139213190088612,0.01563324569264091,0.8616742568840906,-0.8525617560577919,-1.4248262474160276,-0.3605394147608612,0.37716297286280276,0.6258658201541683,0.2569647630992787,-1.6369203499044183,0.7871465171480043,0.7355463996487434,0.48596059901344485,1.252482630695332,0.4369197688828738,-0.11016987718728498,-1.2248590164464839,-0.37699173885758686,0.013267497344670701,-0.8385954164259339,-1.333902638527453,-1.0835532755477346,1.5605143000742498,-0.4152456441491844,0.5942036262360473,0.5434734806548989,-1.0542816433101314,0.9865682135617165,-1.8060658371376346,-0.04991907939054093,-0.14854389029313436,-0.5375389631592972,0.4245378412844418,0.3468493151487389,0.23489491445703792,0.24001963017549055,-1.7849754803006823,-0.029436562746093183,1.261992804620589,0.6149667944501315,-0.23557799300923188,0.6309302264213924,0.49159285635577266,-0.8530324387313918,-0.8386954461087648,0.17224056036045315,0.8512415447812286,0.2539718936206673,-1.8082627145838914,1.0134201851014084,-1.400878111327254,-0.5350870859857267,-0.7669223496683658,1.097042962574408],\"xaxis\":\"x12\",\"y\":[-0.17510076833451887,1.0288698240177145,0.7294187475382269,-0.5578856629282004,-1.4427561070736776,0.4388161783702774,0.060563737566764815,1.1228360547515748,-1.1147708162876648,-1.2752660154204478,-1.7312113286523432,-0.82533168192219,0.8658741797078373,-0.41427836454014716,-0.9098894454547914,-1.800204706789089,0.6682338915047351,-0.20987374484294746,0.19598899319836607,-0.7669541641335651,0.4124924143896091,-1.8397233779403428,-2.4530517139415355,0.4424743832683385,-1.1279100199509753,0.8273645699863521,0.7060451811025258,-0.34841335926422856,-0.8179883446544839,-1.1938551743761843,0.23965205889367786,-0.003371851161309269,-0.3848283690882053,-0.3660579064690124,0.18789785147708796,1.6631657931534722,1.7407484140501224,1.4565488819779684,-0.6232723514435085,0.8486940617122866,-1.2524232797957384,1.0025461725315055,-1.6900742257435932,2.5965882936507287,0.8974446875412032,0.6409236834519745,-0.3004172819682092,-0.7308341507657704,-0.8473571913525139,0.18229635624312268,-1.4372588244194673,0.39970158575841475,1.4516847984516328,1.0026818566565996,1.6145013116745843,0.3370738959446078,0.9423240780645039,-0.6481922359095227,1.088239694258309,0.2757922834178292,0.05599297866846583,-0.5538316369091456,0.5839356030798746,3.77788003076131,-0.2814142162387364,-1.396739653898618,1.098733557716189,0.3481299362914519,0.5719545584678998,-1.1917432377063344,0.5562025971593422,0.2687526601731444,-0.6579484009003517,-0.2893864693705524,0.7529664222734219,0.5599036596190918,0.6972960000357077,-0.3165006408518295,0.12506772611635675,-0.1547960377329048,-0.19802705425048947,-1.7878921210147751,-0.7252978787352365,0.9169166661120889,-0.18418265183374585,0.9980844798991737,0.21372777438456053,0.1625712531452284,0.40518165848931825,-0.4024378051833785,0.034134439117629076,0.3801876036723134,-1.574634729531062,-1.279225040981382,1.9560622718390517,1.1699990486795044,-0.5492666922188294,-0.46782061675087566,-0.4457203824349354,-0.4973139229416746],\"yaxis\":\"y12\",\"type\":\"scatter\"},{\"line\":{\"color\":\"rgba(128, 128, 128, 1.0)\",\"dash\":\"solid\",\"shape\":\"linear\",\"width\":1.3},\"marker\":{\"size\":2,\"symbol\":\"circle\"},\"mode\":\"markers\",\"name\":\"D\",\"text\":\"\",\"x\":[-0.27164247126346136,-1.3257070606440196,0.09509138803241492,0.5677789260155507,-1.7702004827781839,0.8192901452031851,0.42843016749584817,0.48891810080098663,-0.13885574098913533,-1.6637758910766713,-0.687383321981337,0.9406647337380462,-0.690819839092722,1.2806354120967807,0.19519500649436486,-0.9617059095864561,-0.34082321440792496,0.40501808153456115,1.0256932200321933,0.19792777139922432,0.4473417964638847,-0.746357600971722,-0.7463331494444009,1.8614426561055353,-1.1921824686638272,0.33702637966918264,-0.019990132981849144,-1.0365459781316264,-0.9182930313854358,1.0514506561892487,1.4231033015561043,0.9388329560106634,-0.6005788533325781,-1.5577073542570385,0.7729435472995098,-0.7886108148794514,0.8276169458706734,-0.5887982618967834,0.6079822371177137,1.1815201552359502,-0.46765292959066734,-1.1747756877337578,0.12539506832767486,0.8444236630050397,0.4837479545939307,0.2626615850571374,0.25609179616383837,-0.34482586724742925,-1.0629525341853008,0.38530331033560733,1.6652564840701058,1.017710453432222,1.739805462678277,0.977218254223707,-0.11349498759333462,1.9125139328999086,-0.07919689362884139,0.19237236508550656,-1.218178626743223,1.5252495234723242,0.42515169637007116,-0.6917277873885234,-1.0914735632955341,0.1479495579758345,-0.769384799107449,-0.959114317069405,-0.11512199650222511,0.06717010137838174,-0.8100531665464591,0.7495654025364011,0.17261362176212222,-1.6122353899625055,2.0636152291749204,1.3542937788460374,0.3971750773103758,-1.6066263804550474,-0.847567402742816,2.2645832278875084,-0.04304356003073988,-1.3965861940480482,1.3607133938541376,-2.033089150596266,0.4936571407278187,-1.2255787715598412,-0.48127741316601513,3.05599930065596,-0.26528530741592665,-0.5031144218517964,2.0169311706777338,0.6137848243893546,0.5652221897804888,-0.7608485125554416,0.15896495846476275,-1.1521496906994413,-1.303672140570186,-0.5163893488317101,0.5326431891049507,-0.23498564823224072,-0.0075292175095747725,1.1807221464818747],\"xaxis\":\"x13\",\"y\":[0.028993705037304567,-0.6716875531197293,0.8334435896917214,-1.9716771967264062,1.50532385374814,0.14956974745594662,-0.06939513333845235,-0.2815157688175154,0.38684784925404336,0.14381043854226855,1.4876554131996642,-0.7370660801991634,1.5404097323754171,0.2040380802866936,0.14168081298982785,-0.8250878115833602,-1.7320260569405233,0.6359832967253354,-0.4695872751400371,-0.2673988678442753,-0.9881864665743314,1.5061033230127938,0.10598331717029001,0.10931223800100075,0.7694644275917429,0.5182483641705755,-0.3071935056280965,-0.4665082690544789,0.9447249121081155,2.0425295696010743,-0.43698105003454357,-0.907598909077158,0.29462902502362,0.10190992720602601,-0.8174929595408008,-0.18001152313077143,0.15566515500727343,0.13196150538499757,-1.0575979330248275,-0.2625832388597864,-0.24847941451559766,2.1485331533935943,-0.08717358871212114,-0.30940859490619027,-2.0046227174032225,1.5083427558825817,-1.5139213190088612,0.01563324569264091,0.8616742568840906,-0.8525617560577919,-1.4248262474160276,-0.3605394147608612,0.37716297286280276,0.6258658201541683,0.2569647630992787,-1.6369203499044183,0.7871465171480043,0.7355463996487434,0.48596059901344485,1.252482630695332,0.4369197688828738,-0.11016987718728498,-1.2248590164464839,-0.37699173885758686,0.013267497344670701,-0.8385954164259339,-1.333902638527453,-1.0835532755477346,1.5605143000742498,-0.4152456441491844,0.5942036262360473,0.5434734806548989,-1.0542816433101314,0.9865682135617165,-1.8060658371376346,-0.04991907939054093,-0.14854389029313436,-0.5375389631592972,0.4245378412844418,0.3468493151487389,0.23489491445703792,0.24001963017549055,-1.7849754803006823,-0.029436562746093183,1.261992804620589,0.6149667944501315,-0.23557799300923188,0.6309302264213924,0.49159285635577266,-0.8530324387313918,-0.8386954461087648,0.17224056036045315,0.8512415447812286,0.2539718936206673,-1.8082627145838914,1.0134201851014084,-1.400878111327254,-0.5350870859857267,-0.7669223496683658,1.097042962574408],\"yaxis\":\"y13\",\"type\":\"scatter\"},{\"line\":{\"color\":\"rgba(128, 128, 128, 1.0)\",\"dash\":\"solid\",\"shape\":\"linear\",\"width\":1.3},\"marker\":{\"size\":2,\"symbol\":\"circle\"},\"mode\":\"markers\",\"name\":\"D\",\"text\":\"\",\"x\":[-0.5606845687001836,1.6792241184825982,-0.08661661904826148,0.3898727869993485,0.01484572176819306,1.2923784950415658,-0.7547121807613962,-0.17924041096584103,-2.079556271100031,1.3741475772876197,-0.7265727387037649,0.07795556662307522,-1.6984034926570812,0.9514332912763463,0.9208568312409571,0.8721149896398802,-1.2006034959932614,0.9698322836075526,-1.7348279414407843,-0.18045584815021679,-0.15534958173210708,0.5778707279835965,-0.31094304485398533,-0.22119039196159165,1.3577782715590458,0.5976119660885164,-0.33861814766618836,0.009153919545416113,-0.905349622590771,0.797128717357109,0.36614038340714694,-1.5116109210853086,0.36233320503932614,-1.286401592931063,0.8197727302603469,1.110110135760402,0.316814577082492,0.8162624495735802,1.3508787939093665,0.9370194953434611,1.748037798224933,0.5260329111423281,0.5837856131293094,1.627503056742485,0.7597512835732089,0.1195243454589661,1.1031778871431137,0.0732232025003497,-0.4392083678404856,-2.0005261017160803,0.15086645476505978,0.7707078145347047,0.39845934776015907,0.60503610907641,-0.5676790205343145,-0.08728334160333123,-0.6736473541810989,1.3469654155549382,-0.52895187800803,-0.7715416124924191,0.32992146618986257,-0.20511451718899026,0.8823370549505434,-1.6350359682122242,0.1998129876390042,-1.1175159253196678,-2.2548754117108527,0.3841331487228912,-0.5647053958800019,1.4138362030889675,-0.7336674767371699,-0.0994770805480279,1.4129817421869901,1.3279684648445662,-0.3426837583140145,0.7427901223026995,0.9562542554682181,1.662527972510784,1.654208700671479,1.6277836234752037,0.2622646773981404,1.1110417788709064,-1.0758423905400494,0.5866561856112027,-0.3632825296055402,-0.5092436817558994,0.9829762441659161,-0.9039318124721808,-0.8761259788070621,1.282766952219753,-1.2659129574243786,1.1388669103882356,0.031596317962045775,-1.0028678826990054,-0.203214798443493,-2.0704178554216046,-0.6120462001187992,-1.6908135230507628,0.3945926141835523,-0.8402938448734616],\"xaxis\":\"x14\",\"y\":[0.028993705037304567,-0.6716875531197293,0.8334435896917214,-1.9716771967264062,1.50532385374814,0.14956974745594662,-0.06939513333845235,-0.2815157688175154,0.38684784925404336,0.14381043854226855,1.4876554131996642,-0.7370660801991634,1.5404097323754171,0.2040380802866936,0.14168081298982785,-0.8250878115833602,-1.7320260569405233,0.6359832967253354,-0.4695872751400371,-0.2673988678442753,-0.9881864665743314,1.5061033230127938,0.10598331717029001,0.10931223800100075,0.7694644275917429,0.5182483641705755,-0.3071935056280965,-0.4665082690544789,0.9447249121081155,2.0425295696010743,-0.43698105003454357,-0.907598909077158,0.29462902502362,0.10190992720602601,-0.8174929595408008,-0.18001152313077143,0.15566515500727343,0.13196150538499757,-1.0575979330248275,-0.2625832388597864,-0.24847941451559766,2.1485331533935943,-0.08717358871212114,-0.30940859490619027,-2.0046227174032225,1.5083427558825817,-1.5139213190088612,0.01563324569264091,0.8616742568840906,-0.8525617560577919,-1.4248262474160276,-0.3605394147608612,0.37716297286280276,0.6258658201541683,0.2569647630992787,-1.6369203499044183,0.7871465171480043,0.7355463996487434,0.48596059901344485,1.252482630695332,0.4369197688828738,-0.11016987718728498,-1.2248590164464839,-0.37699173885758686,0.013267497344670701,-0.8385954164259339,-1.333902638527453,-1.0835532755477346,1.5605143000742498,-0.4152456441491844,0.5942036262360473,0.5434734806548989,-1.0542816433101314,0.9865682135617165,-1.8060658371376346,-0.04991907939054093,-0.14854389029313436,-0.5375389631592972,0.4245378412844418,0.3468493151487389,0.23489491445703792,0.24001963017549055,-1.7849754803006823,-0.029436562746093183,1.261992804620589,0.6149667944501315,-0.23557799300923188,0.6309302264213924,0.49159285635577266,-0.8530324387313918,-0.8386954461087648,0.17224056036045315,0.8512415447812286,0.2539718936206673,-1.8082627145838914,1.0134201851014084,-1.400878111327254,-0.5350870859857267,-0.7669223496683658,1.097042962574408],\"yaxis\":\"y14\",\"type\":\"scatter\"},{\"line\":{\"color\":\"rgba(128, 128, 128, 1.0)\",\"dash\":\"solid\",\"shape\":\"linear\",\"width\":1.3},\"marker\":{\"size\":2,\"symbol\":\"circle\"},\"mode\":\"markers\",\"name\":\"D\",\"text\":\"\",\"x\":[-0.17510076833451887,1.0288698240177145,0.7294187475382269,-0.5578856629282004,-1.4427561070736776,0.4388161783702774,0.060563737566764815,1.1228360547515748,-1.1147708162876648,-1.2752660154204478,-1.7312113286523432,-0.82533168192219,0.8658741797078373,-0.41427836454014716,-0.9098894454547914,-1.800204706789089,0.6682338915047351,-0.20987374484294746,0.19598899319836607,-0.7669541641335651,0.4124924143896091,-1.8397233779403428,-2.4530517139415355,0.4424743832683385,-1.1279100199509753,0.8273645699863521,0.7060451811025258,-0.34841335926422856,-0.8179883446544839,-1.1938551743761843,0.23965205889367786,-0.003371851161309269,-0.3848283690882053,-0.3660579064690124,0.18789785147708796,1.6631657931534722,1.7407484140501224,1.4565488819779684,-0.6232723514435085,0.8486940617122866,-1.2524232797957384,1.0025461725315055,-1.6900742257435932,2.5965882936507287,0.8974446875412032,0.6409236834519745,-0.3004172819682092,-0.7308341507657704,-0.8473571913525139,0.18229635624312268,-1.4372588244194673,0.39970158575841475,1.4516847984516328,1.0026818566565996,1.6145013116745843,0.3370738959446078,0.9423240780645039,-0.6481922359095227,1.088239694258309,0.2757922834178292,0.05599297866846583,-0.5538316369091456,0.5839356030798746,3.77788003076131,-0.2814142162387364,-1.396739653898618,1.098733557716189,0.3481299362914519,0.5719545584678998,-1.1917432377063344,0.5562025971593422,0.2687526601731444,-0.6579484009003517,-0.2893864693705524,0.7529664222734219,0.5599036596190918,0.6972960000357077,-0.3165006408518295,0.12506772611635675,-0.1547960377329048,-0.19802705425048947,-1.7878921210147751,-0.7252978787352365,0.9169166661120889,-0.18418265183374585,0.9980844798991737,0.21372777438456053,0.1625712531452284,0.40518165848931825,-0.4024378051833785,0.034134439117629076,0.3801876036723134,-1.574634729531062,-1.279225040981382,1.9560622718390517,1.1699990486795044,-0.5492666922188294,-0.46782061675087566,-0.4457203824349354,-0.4973139229416746],\"xaxis\":\"x15\",\"y\":[0.028993705037304567,-0.6716875531197293,0.8334435896917214,-1.9716771967264062,1.50532385374814,0.14956974745594662,-0.06939513333845235,-0.2815157688175154,0.38684784925404336,0.14381043854226855,1.4876554131996642,-0.7370660801991634,1.5404097323754171,0.2040380802866936,0.14168081298982785,-0.8250878115833602,-1.7320260569405233,0.6359832967253354,-0.4695872751400371,-0.2673988678442753,-0.9881864665743314,1.5061033230127938,0.10598331717029001,0.10931223800100075,0.7694644275917429,0.5182483641705755,-0.3071935056280965,-0.4665082690544789,0.9447249121081155,2.0425295696010743,-0.43698105003454357,-0.907598909077158,0.29462902502362,0.10190992720602601,-0.8174929595408008,-0.18001152313077143,0.15566515500727343,0.13196150538499757,-1.0575979330248275,-0.2625832388597864,-0.24847941451559766,2.1485331533935943,-0.08717358871212114,-0.30940859490619027,-2.0046227174032225,1.5083427558825817,-1.5139213190088612,0.01563324569264091,0.8616742568840906,-0.8525617560577919,-1.4248262474160276,-0.3605394147608612,0.37716297286280276,0.6258658201541683,0.2569647630992787,-1.6369203499044183,0.7871465171480043,0.7355463996487434,0.48596059901344485,1.252482630695332,0.4369197688828738,-0.11016987718728498,-1.2248590164464839,-0.37699173885758686,0.013267497344670701,-0.8385954164259339,-1.333902638527453,-1.0835532755477346,1.5605143000742498,-0.4152456441491844,0.5942036262360473,0.5434734806548989,-1.0542816433101314,0.9865682135617165,-1.8060658371376346,-0.04991907939054093,-0.14854389029313436,-0.5375389631592972,0.4245378412844418,0.3468493151487389,0.23489491445703792,0.24001963017549055,-1.7849754803006823,-0.029436562746093183,1.261992804620589,0.6149667944501315,-0.23557799300923188,0.6309302264213924,0.49159285635577266,-0.8530324387313918,-0.8386954461087648,0.17224056036045315,0.8512415447812286,0.2539718936206673,-1.8082627145838914,1.0134201851014084,-1.400878111327254,-0.5350870859857267,-0.7669223496683658,1.097042962574408],\"yaxis\":\"y15\",\"type\":\"scatter\"},{\"histfunc\":\"count\",\"histnorm\":\"\",\"marker\":{\"color\":\"rgba(128, 0, 128, 1.0)\",\"line\":{\"color\":\"#4D5663\",\"width\":1.3}},\"name\":\"D\",\"nbinsx\":10,\"opacity\":0.8,\"orientation\":\"v\",\"x\":[0.028993705037304567,-0.6716875531197293,0.8334435896917214,-1.9716771967264062,1.50532385374814,0.14956974745594662,-0.06939513333845235,-0.2815157688175154,0.38684784925404336,0.14381043854226855,1.4876554131996642,-0.7370660801991634,1.5404097323754171,0.2040380802866936,0.14168081298982785,-0.8250878115833602,-1.7320260569405233,0.6359832967253354,-0.4695872751400371,-0.2673988678442753,-0.9881864665743314,1.5061033230127938,0.10598331717029001,0.10931223800100075,0.7694644275917429,0.5182483641705755,-0.3071935056280965,-0.4665082690544789,0.9447249121081155,2.0425295696010743,-0.43698105003454357,-0.907598909077158,0.29462902502362,0.10190992720602601,-0.8174929595408008,-0.18001152313077143,0.15566515500727343,0.13196150538499757,-1.0575979330248275,-0.2625832388597864,-0.24847941451559766,2.1485331533935943,-0.08717358871212114,-0.30940859490619027,-2.0046227174032225,1.5083427558825817,-1.5139213190088612,0.01563324569264091,0.8616742568840906,-0.8525617560577919,-1.4248262474160276,-0.3605394147608612,0.37716297286280276,0.6258658201541683,0.2569647630992787,-1.6369203499044183,0.7871465171480043,0.7355463996487434,0.48596059901344485,1.252482630695332,0.4369197688828738,-0.11016987718728498,-1.2248590164464839,-0.37699173885758686,0.013267497344670701,-0.8385954164259339,-1.333902638527453,-1.0835532755477346,1.5605143000742498,-0.4152456441491844,0.5942036262360473,0.5434734806548989,-1.0542816433101314,0.9865682135617165,-1.8060658371376346,-0.04991907939054093,-0.14854389029313436,-0.5375389631592972,0.4245378412844418,0.3468493151487389,0.23489491445703792,0.24001963017549055,-1.7849754803006823,-0.029436562746093183,1.261992804620589,0.6149667944501315,-0.23557799300923188,0.6309302264213924,0.49159285635577266,-0.8530324387313918,-0.8386954461087648,0.17224056036045315,0.8512415447812286,0.2539718936206673,-1.8082627145838914,1.0134201851014084,-1.400878111327254,-0.5350870859857267,-0.7669223496683658,1.097042962574408],\"xaxis\":\"x16\",\"yaxis\":\"y16\",\"type\":\"histogram\"}],                        {\"bargap\":0.02,\"legend\":{\"bgcolor\":\"#F5F6F9\",\"font\":{\"color\":\"#4D5663\"}},\"paper_bgcolor\":\"#F5F6F9\",\"plot_bgcolor\":\"#F5F6F9\",\"showlegend\":false,\"template\":{\"data\":{\"barpolar\":[{\"marker\":{\"line\":{\"color\":\"#E5ECF6\",\"width\":0.5},\"pattern\":{\"fillmode\":\"overlay\",\"size\":10,\"solidity\":0.2}},\"type\":\"barpolar\"}],\"bar\":[{\"error_x\":{\"color\":\"#2a3f5f\"},\"error_y\":{\"color\":\"#2a3f5f\"},\"marker\":{\"line\":{\"color\":\"#E5ECF6\",\"width\":0.5},\"pattern\":{\"fillmode\":\"overlay\",\"size\":10,\"solidity\":0.2}},\"type\":\"bar\"}],\"carpet\":[{\"aaxis\":{\"endlinecolor\":\"#2a3f5f\",\"gridcolor\":\"white\",\"linecolor\":\"white\",\"minorgridcolor\":\"white\",\"startlinecolor\":\"#2a3f5f\"},\"baxis\":{\"endlinecolor\":\"#2a3f5f\",\"gridcolor\":\"white\",\"linecolor\":\"white\",\"minorgridcolor\":\"white\",\"startlinecolor\":\"#2a3f5f\"},\"type\":\"carpet\"}],\"choropleth\":[{\"colorbar\":{\"outlinewidth\":0,\"ticks\":\"\"},\"type\":\"choropleth\"}],\"contourcarpet\":[{\"colorbar\":{\"outlinewidth\":0,\"ticks\":\"\"},\"type\":\"contourcarpet\"}],\"contour\":[{\"colorbar\":{\"outlinewidth\":0,\"ticks\":\"\"},\"colorscale\":[[0.0,\"#0d0887\"],[0.1111111111111111,\"#46039f\"],[0.2222222222222222,\"#7201a8\"],[0.3333333333333333,\"#9c179e\"],[0.4444444444444444,\"#bd3786\"],[0.5555555555555556,\"#d8576b\"],[0.6666666666666666,\"#ed7953\"],[0.7777777777777778,\"#fb9f3a\"],[0.8888888888888888,\"#fdca26\"],[1.0,\"#f0f921\"]],\"type\":\"contour\"}],\"heatmapgl\":[{\"colorbar\":{\"outlinewidth\":0,\"ticks\":\"\"},\"colorscale\":[[0.0,\"#0d0887\"],[0.1111111111111111,\"#46039f\"],[0.2222222222222222,\"#7201a8\"],[0.3333333333333333,\"#9c179e\"],[0.4444444444444444,\"#bd3786\"],[0.5555555555555556,\"#d8576b\"],[0.6666666666666666,\"#ed7953\"],[0.7777777777777778,\"#fb9f3a\"],[0.8888888888888888,\"#fdca26\"],[1.0,\"#f0f921\"]],\"type\":\"heatmapgl\"}],\"heatmap\":[{\"colorbar\":{\"outlinewidth\":0,\"ticks\":\"\"},\"colorscale\":[[0.0,\"#0d0887\"],[0.1111111111111111,\"#46039f\"],[0.2222222222222222,\"#7201a8\"],[0.3333333333333333,\"#9c179e\"],[0.4444444444444444,\"#bd3786\"],[0.5555555555555556,\"#d8576b\"],[0.6666666666666666,\"#ed7953\"],[0.7777777777777778,\"#fb9f3a\"],[0.8888888888888888,\"#fdca26\"],[1.0,\"#f0f921\"]],\"type\":\"heatmap\"}],\"histogram2dcontour\":[{\"colorbar\":{\"outlinewidth\":0,\"ticks\":\"\"},\"colorscale\":[[0.0,\"#0d0887\"],[0.1111111111111111,\"#46039f\"],[0.2222222222222222,\"#7201a8\"],[0.3333333333333333,\"#9c179e\"],[0.4444444444444444,\"#bd3786\"],[0.5555555555555556,\"#d8576b\"],[0.6666666666666666,\"#ed7953\"],[0.7777777777777778,\"#fb9f3a\"],[0.8888888888888888,\"#fdca26\"],[1.0,\"#f0f921\"]],\"type\":\"histogram2dcontour\"}],\"histogram2d\":[{\"colorbar\":{\"outlinewidth\":0,\"ticks\":\"\"},\"colorscale\":[[0.0,\"#0d0887\"],[0.1111111111111111,\"#46039f\"],[0.2222222222222222,\"#7201a8\"],[0.3333333333333333,\"#9c179e\"],[0.4444444444444444,\"#bd3786\"],[0.5555555555555556,\"#d8576b\"],[0.6666666666666666,\"#ed7953\"],[0.7777777777777778,\"#fb9f3a\"],[0.8888888888888888,\"#fdca26\"],[1.0,\"#f0f921\"]],\"type\":\"histogram2d\"}],\"histogram\":[{\"marker\":{\"pattern\":{\"fillmode\":\"overlay\",\"size\":10,\"solidity\":0.2}},\"type\":\"histogram\"}],\"mesh3d\":[{\"colorbar\":{\"outlinewidth\":0,\"ticks\":\"\"},\"type\":\"mesh3d\"}],\"parcoords\":[{\"line\":{\"colorbar\":{\"outlinewidth\":0,\"ticks\":\"\"}},\"type\":\"parcoords\"}],\"pie\":[{\"automargin\":true,\"type\":\"pie\"}],\"scatter3d\":[{\"line\":{\"colorbar\":{\"outlinewidth\":0,\"ticks\":\"\"}},\"marker\":{\"colorbar\":{\"outlinewidth\":0,\"ticks\":\"\"}},\"type\":\"scatter3d\"}],\"scattercarpet\":[{\"marker\":{\"colorbar\":{\"outlinewidth\":0,\"ticks\":\"\"}},\"type\":\"scattercarpet\"}],\"scattergeo\":[{\"marker\":{\"colorbar\":{\"outlinewidth\":0,\"ticks\":\"\"}},\"type\":\"scattergeo\"}],\"scattergl\":[{\"marker\":{\"colorbar\":{\"outlinewidth\":0,\"ticks\":\"\"}},\"type\":\"scattergl\"}],\"scattermapbox\":[{\"marker\":{\"colorbar\":{\"outlinewidth\":0,\"ticks\":\"\"}},\"type\":\"scattermapbox\"}],\"scatterpolargl\":[{\"marker\":{\"colorbar\":{\"outlinewidth\":0,\"ticks\":\"\"}},\"type\":\"scatterpolargl\"}],\"scatterpolar\":[{\"marker\":{\"colorbar\":{\"outlinewidth\":0,\"ticks\":\"\"}},\"type\":\"scatterpolar\"}],\"scatter\":[{\"fillpattern\":{\"fillmode\":\"overlay\",\"size\":10,\"solidity\":0.2},\"type\":\"scatter\"}],\"scatterternary\":[{\"marker\":{\"colorbar\":{\"outlinewidth\":0,\"ticks\":\"\"}},\"type\":\"scatterternary\"}],\"surface\":[{\"colorbar\":{\"outlinewidth\":0,\"ticks\":\"\"},\"colorscale\":[[0.0,\"#0d0887\"],[0.1111111111111111,\"#46039f\"],[0.2222222222222222,\"#7201a8\"],[0.3333333333333333,\"#9c179e\"],[0.4444444444444444,\"#bd3786\"],[0.5555555555555556,\"#d8576b\"],[0.6666666666666666,\"#ed7953\"],[0.7777777777777778,\"#fb9f3a\"],[0.8888888888888888,\"#fdca26\"],[1.0,\"#f0f921\"]],\"type\":\"surface\"}],\"table\":[{\"cells\":{\"fill\":{\"color\":\"#EBF0F8\"},\"line\":{\"color\":\"white\"}},\"header\":{\"fill\":{\"color\":\"#C8D4E3\"},\"line\":{\"color\":\"white\"}},\"type\":\"table\"}]},\"layout\":{\"annotationdefaults\":{\"arrowcolor\":\"#2a3f5f\",\"arrowhead\":0,\"arrowwidth\":1},\"autotypenumbers\":\"strict\",\"coloraxis\":{\"colorbar\":{\"outlinewidth\":0,\"ticks\":\"\"}},\"colorscale\":{\"diverging\":[[0,\"#8e0152\"],[0.1,\"#c51b7d\"],[0.2,\"#de77ae\"],[0.3,\"#f1b6da\"],[0.4,\"#fde0ef\"],[0.5,\"#f7f7f7\"],[0.6,\"#e6f5d0\"],[0.7,\"#b8e186\"],[0.8,\"#7fbc41\"],[0.9,\"#4d9221\"],[1,\"#276419\"]],\"sequential\":[[0.0,\"#0d0887\"],[0.1111111111111111,\"#46039f\"],[0.2222222222222222,\"#7201a8\"],[0.3333333333333333,\"#9c179e\"],[0.4444444444444444,\"#bd3786\"],[0.5555555555555556,\"#d8576b\"],[0.6666666666666666,\"#ed7953\"],[0.7777777777777778,\"#fb9f3a\"],[0.8888888888888888,\"#fdca26\"],[1.0,\"#f0f921\"]],\"sequentialminus\":[[0.0,\"#0d0887\"],[0.1111111111111111,\"#46039f\"],[0.2222222222222222,\"#7201a8\"],[0.3333333333333333,\"#9c179e\"],[0.4444444444444444,\"#bd3786\"],[0.5555555555555556,\"#d8576b\"],[0.6666666666666666,\"#ed7953\"],[0.7777777777777778,\"#fb9f3a\"],[0.8888888888888888,\"#fdca26\"],[1.0,\"#f0f921\"]]},\"colorway\":[\"#636efa\",\"#EF553B\",\"#00cc96\",\"#ab63fa\",\"#FFA15A\",\"#19d3f3\",\"#FF6692\",\"#B6E880\",\"#FF97FF\",\"#FECB52\"],\"font\":{\"color\":\"#2a3f5f\"},\"geo\":{\"bgcolor\":\"white\",\"lakecolor\":\"white\",\"landcolor\":\"#E5ECF6\",\"showlakes\":true,\"showland\":true,\"subunitcolor\":\"white\"},\"hoverlabel\":{\"align\":\"left\"},\"hovermode\":\"closest\",\"mapbox\":{\"style\":\"light\"},\"paper_bgcolor\":\"white\",\"plot_bgcolor\":\"#E5ECF6\",\"polar\":{\"angularaxis\":{\"gridcolor\":\"white\",\"linecolor\":\"white\",\"ticks\":\"\"},\"bgcolor\":\"#E5ECF6\",\"radialaxis\":{\"gridcolor\":\"white\",\"linecolor\":\"white\",\"ticks\":\"\"}},\"scene\":{\"xaxis\":{\"backgroundcolor\":\"#E5ECF6\",\"gridcolor\":\"white\",\"gridwidth\":2,\"linecolor\":\"white\",\"showbackground\":true,\"ticks\":\"\",\"zerolinecolor\":\"white\"},\"yaxis\":{\"backgroundcolor\":\"#E5ECF6\",\"gridcolor\":\"white\",\"gridwidth\":2,\"linecolor\":\"white\",\"showbackground\":true,\"ticks\":\"\",\"zerolinecolor\":\"white\"},\"zaxis\":{\"backgroundcolor\":\"#E5ECF6\",\"gridcolor\":\"white\",\"gridwidth\":2,\"linecolor\":\"white\",\"showbackground\":true,\"ticks\":\"\",\"zerolinecolor\":\"white\"}},\"shapedefaults\":{\"line\":{\"color\":\"#2a3f5f\"}},\"ternary\":{\"aaxis\":{\"gridcolor\":\"white\",\"linecolor\":\"white\",\"ticks\":\"\"},\"baxis\":{\"gridcolor\":\"white\",\"linecolor\":\"white\",\"ticks\":\"\"},\"bgcolor\":\"#E5ECF6\",\"caxis\":{\"gridcolor\":\"white\",\"linecolor\":\"white\",\"ticks\":\"\"}},\"title\":{\"x\":0.05},\"xaxis\":{\"automargin\":true,\"gridcolor\":\"white\",\"linecolor\":\"white\",\"ticks\":\"\",\"title\":{\"standoff\":15},\"zerolinecolor\":\"white\",\"zerolinewidth\":2},\"yaxis\":{\"automargin\":true,\"gridcolor\":\"white\",\"linecolor\":\"white\",\"ticks\":\"\",\"title\":{\"standoff\":15},\"zerolinecolor\":\"white\",\"zerolinewidth\":2}}},\"title\":{\"font\":{\"color\":\"#4D5663\"}},\"xaxis\":{\"anchor\":\"y\",\"domain\":[0.0,0.2125],\"gridcolor\":\"#E1E5ED\",\"showgrid\":false,\"tickfont\":{\"color\":\"#4D5663\"},\"title\":{\"font\":{\"color\":\"#4D5663\"},\"text\":\"\"},\"zerolinecolor\":\"#E1E5ED\"},\"yaxis\":{\"anchor\":\"x\",\"domain\":[0.8025,1.0],\"gridcolor\":\"#E1E5ED\",\"showgrid\":false,\"tickfont\":{\"color\":\"#4D5663\"},\"title\":{\"font\":{\"color\":\"#4D5663\"},\"text\":\"\"},\"zerolinecolor\":\"#E1E5ED\"},\"xaxis2\":{\"anchor\":\"y2\",\"domain\":[0.2625,0.475],\"gridcolor\":\"#E1E5ED\",\"showgrid\":false,\"tickfont\":{\"color\":\"#4D5663\"},\"title\":{\"font\":{\"color\":\"#4D5663\"},\"text\":\"\"},\"zerolinecolor\":\"#E1E5ED\"},\"yaxis2\":{\"anchor\":\"x2\",\"domain\":[0.8025,1.0],\"gridcolor\":\"#E1E5ED\",\"showgrid\":false,\"tickfont\":{\"color\":\"#4D5663\"},\"title\":{\"font\":{\"color\":\"#4D5663\"},\"text\":\"\"},\"zerolinecolor\":\"#E1E5ED\"},\"xaxis3\":{\"anchor\":\"y3\",\"domain\":[0.525,0.7375],\"gridcolor\":\"#E1E5ED\",\"showgrid\":false,\"tickfont\":{\"color\":\"#4D5663\"},\"title\":{\"font\":{\"color\":\"#4D5663\"},\"text\":\"\"},\"zerolinecolor\":\"#E1E5ED\"},\"yaxis3\":{\"anchor\":\"x3\",\"domain\":[0.8025,1.0],\"gridcolor\":\"#E1E5ED\",\"showgrid\":false,\"tickfont\":{\"color\":\"#4D5663\"},\"title\":{\"font\":{\"color\":\"#4D5663\"},\"text\":\"\"},\"zerolinecolor\":\"#E1E5ED\"},\"xaxis4\":{\"anchor\":\"y4\",\"domain\":[0.7875,1.0],\"gridcolor\":\"#E1E5ED\",\"showgrid\":false,\"tickfont\":{\"color\":\"#4D5663\"},\"title\":{\"font\":{\"color\":\"#4D5663\"},\"text\":\"\"},\"zerolinecolor\":\"#E1E5ED\"},\"yaxis4\":{\"anchor\":\"x4\",\"domain\":[0.8025,1.0],\"gridcolor\":\"#E1E5ED\",\"showgrid\":false,\"tickfont\":{\"color\":\"#4D5663\"},\"title\":{\"font\":{\"color\":\"#4D5663\"},\"text\":\"\"},\"zerolinecolor\":\"#E1E5ED\"},\"xaxis5\":{\"anchor\":\"y5\",\"domain\":[0.0,0.2125],\"gridcolor\":\"#E1E5ED\",\"showgrid\":false,\"tickfont\":{\"color\":\"#4D5663\"},\"title\":{\"font\":{\"color\":\"#4D5663\"},\"text\":\"\"},\"zerolinecolor\":\"#E1E5ED\"},\"yaxis5\":{\"anchor\":\"x5\",\"domain\":[0.535,0.7325],\"gridcolor\":\"#E1E5ED\",\"showgrid\":false,\"tickfont\":{\"color\":\"#4D5663\"},\"title\":{\"font\":{\"color\":\"#4D5663\"},\"text\":\"\"},\"zerolinecolor\":\"#E1E5ED\"},\"xaxis6\":{\"anchor\":\"y6\",\"domain\":[0.2625,0.475],\"gridcolor\":\"#E1E5ED\",\"showgrid\":false,\"tickfont\":{\"color\":\"#4D5663\"},\"title\":{\"font\":{\"color\":\"#4D5663\"},\"text\":\"\"},\"zerolinecolor\":\"#E1E5ED\"},\"yaxis6\":{\"anchor\":\"x6\",\"domain\":[0.535,0.7325],\"gridcolor\":\"#E1E5ED\",\"showgrid\":false,\"tickfont\":{\"color\":\"#4D5663\"},\"title\":{\"font\":{\"color\":\"#4D5663\"},\"text\":\"\"},\"zerolinecolor\":\"#E1E5ED\"},\"xaxis7\":{\"anchor\":\"y7\",\"domain\":[0.525,0.7375],\"gridcolor\":\"#E1E5ED\",\"showgrid\":false,\"tickfont\":{\"color\":\"#4D5663\"},\"title\":{\"font\":{\"color\":\"#4D5663\"},\"text\":\"\"},\"zerolinecolor\":\"#E1E5ED\"},\"yaxis7\":{\"anchor\":\"x7\",\"domain\":[0.535,0.7325],\"gridcolor\":\"#E1E5ED\",\"showgrid\":false,\"tickfont\":{\"color\":\"#4D5663\"},\"title\":{\"font\":{\"color\":\"#4D5663\"},\"text\":\"\"},\"zerolinecolor\":\"#E1E5ED\"},\"xaxis8\":{\"anchor\":\"y8\",\"domain\":[0.7875,1.0],\"gridcolor\":\"#E1E5ED\",\"showgrid\":false,\"tickfont\":{\"color\":\"#4D5663\"},\"title\":{\"font\":{\"color\":\"#4D5663\"},\"text\":\"\"},\"zerolinecolor\":\"#E1E5ED\"},\"yaxis8\":{\"anchor\":\"x8\",\"domain\":[0.535,0.7325],\"gridcolor\":\"#E1E5ED\",\"showgrid\":false,\"tickfont\":{\"color\":\"#4D5663\"},\"title\":{\"font\":{\"color\":\"#4D5663\"},\"text\":\"\"},\"zerolinecolor\":\"#E1E5ED\"},\"xaxis9\":{\"anchor\":\"y9\",\"domain\":[0.0,0.2125],\"gridcolor\":\"#E1E5ED\",\"showgrid\":false,\"tickfont\":{\"color\":\"#4D5663\"},\"title\":{\"font\":{\"color\":\"#4D5663\"},\"text\":\"\"},\"zerolinecolor\":\"#E1E5ED\"},\"yaxis9\":{\"anchor\":\"x9\",\"domain\":[0.2675,0.465],\"gridcolor\":\"#E1E5ED\",\"showgrid\":false,\"tickfont\":{\"color\":\"#4D5663\"},\"title\":{\"font\":{\"color\":\"#4D5663\"},\"text\":\"\"},\"zerolinecolor\":\"#E1E5ED\"},\"xaxis10\":{\"anchor\":\"y10\",\"domain\":[0.2625,0.475],\"gridcolor\":\"#E1E5ED\",\"showgrid\":false,\"tickfont\":{\"color\":\"#4D5663\"},\"title\":{\"font\":{\"color\":\"#4D5663\"},\"text\":\"\"},\"zerolinecolor\":\"#E1E5ED\"},\"yaxis10\":{\"anchor\":\"x10\",\"domain\":[0.2675,0.465],\"gridcolor\":\"#E1E5ED\",\"showgrid\":false,\"tickfont\":{\"color\":\"#4D5663\"},\"title\":{\"font\":{\"color\":\"#4D5663\"},\"text\":\"\"},\"zerolinecolor\":\"#E1E5ED\"},\"xaxis11\":{\"anchor\":\"y11\",\"domain\":[0.525,0.7375],\"gridcolor\":\"#E1E5ED\",\"showgrid\":false,\"tickfont\":{\"color\":\"#4D5663\"},\"title\":{\"font\":{\"color\":\"#4D5663\"},\"text\":\"\"},\"zerolinecolor\":\"#E1E5ED\"},\"yaxis11\":{\"anchor\":\"x11\",\"domain\":[0.2675,0.465],\"gridcolor\":\"#E1E5ED\",\"showgrid\":false,\"tickfont\":{\"color\":\"#4D5663\"},\"title\":{\"font\":{\"color\":\"#4D5663\"},\"text\":\"\"},\"zerolinecolor\":\"#E1E5ED\"},\"xaxis12\":{\"anchor\":\"y12\",\"domain\":[0.7875,1.0],\"gridcolor\":\"#E1E5ED\",\"showgrid\":false,\"tickfont\":{\"color\":\"#4D5663\"},\"title\":{\"font\":{\"color\":\"#4D5663\"},\"text\":\"\"},\"zerolinecolor\":\"#E1E5ED\"},\"yaxis12\":{\"anchor\":\"x12\",\"domain\":[0.2675,0.465],\"gridcolor\":\"#E1E5ED\",\"showgrid\":false,\"tickfont\":{\"color\":\"#4D5663\"},\"title\":{\"font\":{\"color\":\"#4D5663\"},\"text\":\"\"},\"zerolinecolor\":\"#E1E5ED\"},\"xaxis13\":{\"anchor\":\"y13\",\"domain\":[0.0,0.2125],\"gridcolor\":\"#E1E5ED\",\"showgrid\":false,\"tickfont\":{\"color\":\"#4D5663\"},\"title\":{\"font\":{\"color\":\"#4D5663\"},\"text\":\"\"},\"zerolinecolor\":\"#E1E5ED\"},\"yaxis13\":{\"anchor\":\"x13\",\"domain\":[0.0,0.1975],\"gridcolor\":\"#E1E5ED\",\"showgrid\":false,\"tickfont\":{\"color\":\"#4D5663\"},\"title\":{\"font\":{\"color\":\"#4D5663\"},\"text\":\"\"},\"zerolinecolor\":\"#E1E5ED\"},\"xaxis14\":{\"anchor\":\"y14\",\"domain\":[0.2625,0.475],\"gridcolor\":\"#E1E5ED\",\"showgrid\":false,\"tickfont\":{\"color\":\"#4D5663\"},\"title\":{\"font\":{\"color\":\"#4D5663\"},\"text\":\"\"},\"zerolinecolor\":\"#E1E5ED\"},\"yaxis14\":{\"anchor\":\"x14\",\"domain\":[0.0,0.1975],\"gridcolor\":\"#E1E5ED\",\"showgrid\":false,\"tickfont\":{\"color\":\"#4D5663\"},\"title\":{\"font\":{\"color\":\"#4D5663\"},\"text\":\"\"},\"zerolinecolor\":\"#E1E5ED\"},\"xaxis15\":{\"anchor\":\"y15\",\"domain\":[0.525,0.7375],\"gridcolor\":\"#E1E5ED\",\"showgrid\":false,\"tickfont\":{\"color\":\"#4D5663\"},\"title\":{\"font\":{\"color\":\"#4D5663\"},\"text\":\"\"},\"zerolinecolor\":\"#E1E5ED\"},\"yaxis15\":{\"anchor\":\"x15\",\"domain\":[0.0,0.1975],\"gridcolor\":\"#E1E5ED\",\"showgrid\":false,\"tickfont\":{\"color\":\"#4D5663\"},\"title\":{\"font\":{\"color\":\"#4D5663\"},\"text\":\"\"},\"zerolinecolor\":\"#E1E5ED\"},\"xaxis16\":{\"anchor\":\"y16\",\"domain\":[0.7875,1.0],\"gridcolor\":\"#E1E5ED\",\"showgrid\":false,\"tickfont\":{\"color\":\"#4D5663\"},\"title\":{\"font\":{\"color\":\"#4D5663\"},\"text\":\"\"},\"zerolinecolor\":\"#E1E5ED\"},\"yaxis16\":{\"anchor\":\"x16\",\"domain\":[0.0,0.1975],\"gridcolor\":\"#E1E5ED\",\"showgrid\":false,\"tickfont\":{\"color\":\"#4D5663\"},\"title\":{\"font\":{\"color\":\"#4D5663\"},\"text\":\"\"},\"zerolinecolor\":\"#E1E5ED\"}},                        {\"showLink\": true, \"linkText\": \"Export to plot.ly\", \"plotlyServerURL\": \"https://plot.ly\", \"responsive\": true}                    ).then(function(){\n",
       "                            \n",
       "var gd = document.getElementById('f1406918-c5be-487a-982e-2fdadc951431');\n",
       "var x = new MutationObserver(function (mutations, observer) {{\n",
       "        var display = window.getComputedStyle(gd).display;\n",
       "        if (!display || display === 'none') {{\n",
       "            console.log([gd, 'removed!']);\n",
       "            Plotly.purge(gd);\n",
       "            observer.disconnect();\n",
       "        }}\n",
       "}});\n",
       "\n",
       "// Listen for the removal of the full notebook cells\n",
       "var notebookContainer = gd.closest('#notebook-container');\n",
       "if (notebookContainer) {{\n",
       "    x.observe(notebookContainer, {childList: true});\n",
       "}}\n",
       "\n",
       "// Listen for the clearing of the current output cell\n",
       "var outputEl = gd.closest('.output');\n",
       "if (outputEl) {{\n",
       "    x.observe(outputEl, {childList: true});\n",
       "}}\n",
       "\n",
       "                        })                };                });            </script>        </div>"
      ]
     },
     "metadata": {},
     "output_type": "display_data"
    }
   ],
   "source": [
    "df1.scatter_matrix()"
   ]
  },
  {
   "cell_type": "code",
   "execution_count": 25,
   "metadata": {},
   "outputs": [
    {
     "data": {
      "text/plain": [
       "A    float64\n",
       "B    float64\n",
       "C    float64\n",
       "D    float64\n",
       "dtype: object"
      ]
     },
     "execution_count": 25,
     "metadata": {},
     "output_type": "execute_result"
    }
   ],
   "source": [
    "df1.dtypes"
   ]
  },
  {
   "cell_type": "code",
   "execution_count": 26,
   "metadata": {},
   "outputs": [
    {
     "data": {
      "text/plain": [
       "A    0.059682\n",
       "B    0.087929\n",
       "C    0.014584\n",
       "D   -0.035583\n",
       "dtype: float64"
      ]
     },
     "execution_count": 26,
     "metadata": {},
     "output_type": "execute_result"
    }
   ],
   "source": [
    "df1.mean() "
   ]
  },
  {
   "cell_type": "code",
   "execution_count": 27,
   "metadata": {},
   "outputs": [
    {
     "data": {
      "text/html": [
       "<div>\n",
       "<style scoped>\n",
       "    .dataframe tbody tr th:only-of-type {\n",
       "        vertical-align: middle;\n",
       "    }\n",
       "\n",
       "    .dataframe tbody tr th {\n",
       "        vertical-align: top;\n",
       "    }\n",
       "\n",
       "    .dataframe thead th {\n",
       "        text-align: right;\n",
       "    }\n",
       "</style>\n",
       "<table border=\"1\" class=\"dataframe\">\n",
       "  <thead>\n",
       "    <tr style=\"text-align: right;\">\n",
       "      <th></th>\n",
       "      <th>A</th>\n",
       "      <th>B</th>\n",
       "      <th>C</th>\n",
       "      <th>D</th>\n",
       "    </tr>\n",
       "  </thead>\n",
       "  <tbody>\n",
       "    <tr>\n",
       "      <th>count</th>\n",
       "      <td>100.000000</td>\n",
       "      <td>100.000000</td>\n",
       "      <td>100.000000</td>\n",
       "      <td>100.000000</td>\n",
       "    </tr>\n",
       "    <tr>\n",
       "      <th>mean</th>\n",
       "      <td>0.059682</td>\n",
       "      <td>0.087929</td>\n",
       "      <td>0.014584</td>\n",
       "      <td>-0.035583</td>\n",
       "    </tr>\n",
       "    <tr>\n",
       "      <th>std</th>\n",
       "      <td>1.029792</td>\n",
       "      <td>1.001847</td>\n",
       "      <td>1.035841</td>\n",
       "      <td>0.921564</td>\n",
       "    </tr>\n",
       "    <tr>\n",
       "      <th>min</th>\n",
       "      <td>-2.033089</td>\n",
       "      <td>-2.254875</td>\n",
       "      <td>-2.453052</td>\n",
       "      <td>-2.004623</td>\n",
       "    </tr>\n",
       "    <tr>\n",
       "      <th>25%</th>\n",
       "      <td>-0.749980</td>\n",
       "      <td>-0.578771</td>\n",
       "      <td>-0.650631</td>\n",
       "      <td>-0.688032</td>\n",
       "    </tr>\n",
       "    <tr>\n",
       "      <th>50%</th>\n",
       "      <td>0.110243</td>\n",
       "      <td>0.135195</td>\n",
       "      <td>0.058278</td>\n",
       "      <td>0.022313</td>\n",
       "    </tr>\n",
       "    <tr>\n",
       "      <th>75%</th>\n",
       "      <td>0.755410</td>\n",
       "      <td>0.891967</td>\n",
       "      <td>0.699483</td>\n",
       "      <td>0.556156</td>\n",
       "    </tr>\n",
       "    <tr>\n",
       "      <th>max</th>\n",
       "      <td>3.055999</td>\n",
       "      <td>1.748038</td>\n",
       "      <td>3.777880</td>\n",
       "      <td>2.148533</td>\n",
       "    </tr>\n",
       "  </tbody>\n",
       "</table>\n",
       "</div>"
      ],
      "text/plain": [
       "                A           B           C           D\n",
       "count  100.000000  100.000000  100.000000  100.000000\n",
       "mean     0.059682    0.087929    0.014584   -0.035583\n",
       "std      1.029792    1.001847    1.035841    0.921564\n",
       "min     -2.033089   -2.254875   -2.453052   -2.004623\n",
       "25%     -0.749980   -0.578771   -0.650631   -0.688032\n",
       "50%      0.110243    0.135195    0.058278    0.022313\n",
       "75%      0.755410    0.891967    0.699483    0.556156\n",
       "max      3.055999    1.748038    3.777880    2.148533"
      ]
     },
     "execution_count": 27,
     "metadata": {},
     "output_type": "execute_result"
    }
   ],
   "source": [
    "df1.describe()"
   ]
  }
 ],
 "metadata": {
  "kernelspec": {
   "display_name": "CondaEnv",
   "language": "python",
   "name": "python3"
  },
  "language_info": {
   "codemirror_mode": {
    "name": "ipython",
    "version": 3
   },
   "file_extension": ".py",
   "mimetype": "text/x-python",
   "name": "python",
   "nbconvert_exporter": "python",
   "pygments_lexer": "ipython3",
   "version": "3.12.1"
  }
 },
 "nbformat": 4,
 "nbformat_minor": 2
}
