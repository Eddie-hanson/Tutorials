{
 "cells": [
  {
   "cell_type": "markdown",
   "metadata": {},
   "source": [
    "# PLOTLY AND CUFFLINKS"
   ]
  },
  {
   "cell_type": "markdown",
   "metadata": {},
   "source": [
    "## Plotly is used to create inrteractive visualizations while Cufflinks connects plotly to pandas \n",
    "### Plotly connects pandas and python to a interractive javascript library"
   ]
  },
  {
   "cell_type": "code",
   "execution_count": 110,
   "metadata": {},
   "outputs": [],
   "source": [
    "import pandas as pd\n",
    "import numpy as np\n",
    "import matplotlib.pyplot as plt\n",
    "import cufflinks as cf\n",
    "from plotly.offline import download_plotlyjs, init_notebook_mode, plot, iplot\n",
    "%matplotlib inline\n"
   ]
  },
  {
   "cell_type": "code",
   "execution_count": 111,
   "metadata": {},
   "outputs": [
    {
     "data": {
      "text/html": [
       "        <script type=\"text/javascript\">\n",
       "        window.PlotlyConfig = {MathJaxConfig: 'local'};\n",
       "        if (window.MathJax && window.MathJax.Hub && window.MathJax.Hub.Config) {window.MathJax.Hub.Config({SVG: {font: \"STIX-Web\"}});}\n",
       "        if (typeof require !== 'undefined') {\n",
       "        require.undef(\"plotly\");\n",
       "        requirejs.config({\n",
       "            paths: {\n",
       "                'plotly': ['https://cdn.plot.ly/plotly-2.30.0.min']\n",
       "            }\n",
       "        });\n",
       "        require(['plotly'], function(Plotly) {\n",
       "            window._Plotly = Plotly;\n",
       "        });\n",
       "        }\n",
       "        </script>\n",
       "        "
      ]
     },
     "metadata": {},
     "output_type": "display_data"
    }
   ],
   "source": [
    "''''To connect javascript to yout notebook run init_notebook_mode(connected=True)'''\n",
    "init_notebook_mode(connected=True)"
   ]
  },
  {
   "cell_type": "code",
   "execution_count": 112,
   "metadata": {},
   "outputs": [
    {
     "data": {
      "text/html": [
       "        <script type=\"text/javascript\">\n",
       "        window.PlotlyConfig = {MathJaxConfig: 'local'};\n",
       "        if (window.MathJax && window.MathJax.Hub && window.MathJax.Hub.Config) {window.MathJax.Hub.Config({SVG: {font: \"STIX-Web\"}});}\n",
       "        if (typeof require !== 'undefined') {\n",
       "        require.undef(\"plotly\");\n",
       "        requirejs.config({\n",
       "            paths: {\n",
       "                'plotly': ['https://cdn.plot.ly/plotly-2.30.0.min']\n",
       "            }\n",
       "        });\n",
       "        require(['plotly'], function(Plotly) {\n",
       "            window._Plotly = Plotly;\n",
       "        });\n",
       "        }\n",
       "        </script>\n",
       "        "
      ]
     },
     "metadata": {},
     "output_type": "display_data"
    }
   ],
   "source": [
    "cf.go_offline()"
   ]
  },
  {
   "cell_type": "code",
   "execution_count": 113,
   "metadata": {},
   "outputs": [],
   "source": [
    "# DATA\n",
    "df1=pd.DataFrame(np.random.randn(100,4), columns='A B C D'.split())"
   ]
  },
  {
   "cell_type": "code",
   "execution_count": 114,
   "metadata": {},
   "outputs": [
    {
     "data": {
      "text/html": [
       "<div>\n",
       "<style scoped>\n",
       "    .dataframe tbody tr th:only-of-type {\n",
       "        vertical-align: middle;\n",
       "    }\n",
       "\n",
       "    .dataframe tbody tr th {\n",
       "        vertical-align: top;\n",
       "    }\n",
       "\n",
       "    .dataframe thead th {\n",
       "        text-align: right;\n",
       "    }\n",
       "</style>\n",
       "<table border=\"1\" class=\"dataframe\">\n",
       "  <thead>\n",
       "    <tr style=\"text-align: right;\">\n",
       "      <th></th>\n",
       "      <th>A</th>\n",
       "      <th>B</th>\n",
       "      <th>C</th>\n",
       "      <th>D</th>\n",
       "    </tr>\n",
       "  </thead>\n",
       "  <tbody>\n",
       "    <tr>\n",
       "      <th>0</th>\n",
       "      <td>-1.373169</td>\n",
       "      <td>-0.260490</td>\n",
       "      <td>1.016137</td>\n",
       "      <td>0.367873</td>\n",
       "    </tr>\n",
       "    <tr>\n",
       "      <th>1</th>\n",
       "      <td>-0.523678</td>\n",
       "      <td>-0.097148</td>\n",
       "      <td>-0.542025</td>\n",
       "      <td>0.777040</td>\n",
       "    </tr>\n",
       "    <tr>\n",
       "      <th>2</th>\n",
       "      <td>-0.245670</td>\n",
       "      <td>0.811110</td>\n",
       "      <td>-0.655528</td>\n",
       "      <td>-0.311614</td>\n",
       "    </tr>\n",
       "    <tr>\n",
       "      <th>3</th>\n",
       "      <td>-1.638042</td>\n",
       "      <td>-1.909279</td>\n",
       "      <td>-0.174825</td>\n",
       "      <td>0.361090</td>\n",
       "    </tr>\n",
       "    <tr>\n",
       "      <th>4</th>\n",
       "      <td>0.998227</td>\n",
       "      <td>-0.702181</td>\n",
       "      <td>-0.209662</td>\n",
       "      <td>1.095811</td>\n",
       "    </tr>\n",
       "  </tbody>\n",
       "</table>\n",
       "</div>"
      ],
      "text/plain": [
       "          A         B         C         D\n",
       "0 -1.373169 -0.260490  1.016137  0.367873\n",
       "1 -0.523678 -0.097148 -0.542025  0.777040\n",
       "2 -0.245670  0.811110 -0.655528 -0.311614\n",
       "3 -1.638042 -1.909279 -0.174825  0.361090\n",
       "4  0.998227 -0.702181 -0.209662  1.095811"
      ]
     },
     "execution_count": 114,
     "metadata": {},
     "output_type": "execute_result"
    }
   ],
   "source": [
    "df1.head()"
   ]
  },
  {
   "cell_type": "code",
   "execution_count": 115,
   "metadata": {},
   "outputs": [],
   "source": [
    "df2=pd.DataFrame({'Categories':['A','B','C'], 'values':[32,43,50]})"
   ]
  },
  {
   "cell_type": "code",
   "execution_count": 116,
   "metadata": {},
   "outputs": [
    {
     "data": {
      "text/html": [
       "<div>\n",
       "<style scoped>\n",
       "    .dataframe tbody tr th:only-of-type {\n",
       "        vertical-align: middle;\n",
       "    }\n",
       "\n",
       "    .dataframe tbody tr th {\n",
       "        vertical-align: top;\n",
       "    }\n",
       "\n",
       "    .dataframe thead th {\n",
       "        text-align: right;\n",
       "    }\n",
       "</style>\n",
       "<table border=\"1\" class=\"dataframe\">\n",
       "  <thead>\n",
       "    <tr style=\"text-align: right;\">\n",
       "      <th></th>\n",
       "      <th>Categories</th>\n",
       "      <th>values</th>\n",
       "    </tr>\n",
       "  </thead>\n",
       "  <tbody>\n",
       "    <tr>\n",
       "      <th>0</th>\n",
       "      <td>A</td>\n",
       "      <td>32</td>\n",
       "    </tr>\n",
       "    <tr>\n",
       "      <th>1</th>\n",
       "      <td>B</td>\n",
       "      <td>43</td>\n",
       "    </tr>\n",
       "    <tr>\n",
       "      <th>2</th>\n",
       "      <td>C</td>\n",
       "      <td>50</td>\n",
       "    </tr>\n",
       "  </tbody>\n",
       "</table>\n",
       "</div>"
      ],
      "text/plain": [
       "  Categories  values\n",
       "0          A      32\n",
       "1          B      43\n",
       "2          C      50"
      ]
     },
     "execution_count": 116,
     "metadata": {},
     "output_type": "execute_result"
    }
   ],
   "source": [
    "df2"
   ]
  },
  {
   "cell_type": "code",
   "execution_count": 117,
   "metadata": {},
   "outputs": [
    {
     "data": {
      "text/html": [
       "<div>\n",
       "<style scoped>\n",
       "    .dataframe tbody tr th:only-of-type {\n",
       "        vertical-align: middle;\n",
       "    }\n",
       "\n",
       "    .dataframe tbody tr th {\n",
       "        vertical-align: top;\n",
       "    }\n",
       "\n",
       "    .dataframe thead th {\n",
       "        text-align: right;\n",
       "    }\n",
       "</style>\n",
       "<table border=\"1\" class=\"dataframe\">\n",
       "  <thead>\n",
       "    <tr style=\"text-align: right;\">\n",
       "      <th></th>\n",
       "      <th>A</th>\n",
       "      <th>B</th>\n",
       "      <th>C</th>\n",
       "      <th>D</th>\n",
       "    </tr>\n",
       "  </thead>\n",
       "  <tbody>\n",
       "    <tr>\n",
       "      <th>0</th>\n",
       "      <td>-1.373169</td>\n",
       "      <td>-0.260490</td>\n",
       "      <td>1.016137</td>\n",
       "      <td>0.367873</td>\n",
       "    </tr>\n",
       "    <tr>\n",
       "      <th>1</th>\n",
       "      <td>-0.523678</td>\n",
       "      <td>-0.097148</td>\n",
       "      <td>-0.542025</td>\n",
       "      <td>0.777040</td>\n",
       "    </tr>\n",
       "    <tr>\n",
       "      <th>2</th>\n",
       "      <td>-0.245670</td>\n",
       "      <td>0.811110</td>\n",
       "      <td>-0.655528</td>\n",
       "      <td>-0.311614</td>\n",
       "    </tr>\n",
       "    <tr>\n",
       "      <th>3</th>\n",
       "      <td>-1.638042</td>\n",
       "      <td>-1.909279</td>\n",
       "      <td>-0.174825</td>\n",
       "      <td>0.361090</td>\n",
       "    </tr>\n",
       "    <tr>\n",
       "      <th>4</th>\n",
       "      <td>0.998227</td>\n",
       "      <td>-0.702181</td>\n",
       "      <td>-0.209662</td>\n",
       "      <td>1.095811</td>\n",
       "    </tr>\n",
       "    <tr>\n",
       "      <th>...</th>\n",
       "      <td>...</td>\n",
       "      <td>...</td>\n",
       "      <td>...</td>\n",
       "      <td>...</td>\n",
       "    </tr>\n",
       "    <tr>\n",
       "      <th>95</th>\n",
       "      <td>0.964513</td>\n",
       "      <td>1.651338</td>\n",
       "      <td>0.026023</td>\n",
       "      <td>-0.420670</td>\n",
       "    </tr>\n",
       "    <tr>\n",
       "      <th>96</th>\n",
       "      <td>1.107906</td>\n",
       "      <td>-2.604440</td>\n",
       "      <td>2.390872</td>\n",
       "      <td>0.118237</td>\n",
       "    </tr>\n",
       "    <tr>\n",
       "      <th>97</th>\n",
       "      <td>-0.322931</td>\n",
       "      <td>0.240204</td>\n",
       "      <td>0.826519</td>\n",
       "      <td>-0.111832</td>\n",
       "    </tr>\n",
       "    <tr>\n",
       "      <th>98</th>\n",
       "      <td>-0.701548</td>\n",
       "      <td>-0.569377</td>\n",
       "      <td>1.156345</td>\n",
       "      <td>-1.609367</td>\n",
       "    </tr>\n",
       "    <tr>\n",
       "      <th>99</th>\n",
       "      <td>2.101085</td>\n",
       "      <td>0.934439</td>\n",
       "      <td>0.192918</td>\n",
       "      <td>-0.860159</td>\n",
       "    </tr>\n",
       "  </tbody>\n",
       "</table>\n",
       "<p>100 rows × 4 columns</p>\n",
       "</div>"
      ],
      "text/plain": [
       "           A         B         C         D\n",
       "0  -1.373169 -0.260490  1.016137  0.367873\n",
       "1  -0.523678 -0.097148 -0.542025  0.777040\n",
       "2  -0.245670  0.811110 -0.655528 -0.311614\n",
       "3  -1.638042 -1.909279 -0.174825  0.361090\n",
       "4   0.998227 -0.702181 -0.209662  1.095811\n",
       "..       ...       ...       ...       ...\n",
       "95  0.964513  1.651338  0.026023 -0.420670\n",
       "96  1.107906 -2.604440  2.390872  0.118237\n",
       "97 -0.322931  0.240204  0.826519 -0.111832\n",
       "98 -0.701548 -0.569377  1.156345 -1.609367\n",
       "99  2.101085  0.934439  0.192918 -0.860159\n",
       "\n",
       "[100 rows x 4 columns]"
      ]
     },
     "execution_count": 117,
     "metadata": {},
     "output_type": "execute_result"
    }
   ],
   "source": [
    "df1"
   ]
  },
  {
   "cell_type": "code",
   "execution_count": 118,
   "metadata": {},
   "outputs": [
    {
     "data": {
      "text/plain": [
       "<Axes: >"
      ]
     },
     "execution_count": 118,
     "metadata": {},
     "output_type": "execute_result"
    },
    {
     "data": {
      "image/png": "[encoded data removed]",
      "text/plain": [
       "<Figure size 640x480 with 1 Axes>"
      ]
     },
     "metadata": {},
     "output_type": "display_data"
    }
   ],
   "source": [
    "df1.plot()"
   ]
  },
  {
   "cell_type": "code",
   "execution_count": 119,
   "metadata": {},
   "outputs": [
    {
     "data": {
      "application/vnd.plotly.v1+json": {
       "config": {
        "linkText": "Export to plot.ly",
        "plotlyServerURL": "https://plot.ly",
        "showLink": true
       },
       "data": [
        {
         "line": {
          "color": "rgba(255, 153, 51, 1.0)",
          "dash": "solid",
          "shape": "linear",
          "width": 1.3
         },
         "mode": "lines",
         "name": "A",
         "text": "",
         "type": "scatter",
         "x": [
          0,
          1,
          2,
          3,
          4,
          5,
          6,
          7,
          8,
          9,
          10,
          11,
          12,
          13,
          14,
          15,
          16,
          17,
          18,
          19,
          20,
          21,
          22,
          23,
          24,
          25,
          26,
          27,
          28,
          29,
          30,
          31,
          32,
          33,
          34,
          35,
          36,
          37,
          38,
          39,
          40,
          41,
          42,
          43,
          44,
          45,
          46,
          47,
          48,
          49,
          50,
          51,
          52,
          53,
          54,
          55,
          56,
          57,
          58,
          59,
          60,
          61,
          62,
          63,
          64,
          65,
          66,
          67,
          68,
          69,
          70,
          71,
          72,
          73,
          74,
          75,
          76,
          77,
          78,
          79,
          80,
          81,
          82,
          83,
          84,
          85,
          86,
          87,
          88,
          89,
          90,
          91,
          92,
          93,
          94,
          95,
          96,
          97,
          98,
          99
         ],
         "y": [
          -1.3731688173621832,
          -0.5236780566901539,
          -0.2456701124803259,
          -1.6380423135313602,
          0.9982274092034623,
          -1.15307228039646,
          -1.5618663632408445,
          0.8200192727725714,
          0.4896820037700569,
          -1.7515717647801263,
          -0.06337162209812126,
          -0.3710804808800396,
          1.334041593001444,
          -0.749371267093215,
          -0.08678441228771756,
          -1.8822514238319927,
          -0.934430313200707,
          -0.19847237614294302,
          -0.20675616177675002,
          0.8819335976960104,
          0.023120137660321772,
          -0.0937663221763038,
          1.0062716328804868,
          -0.7527872553381383,
          -1.711418215864383,
          -2.6231263089537467,
          0.5353519665610029,
          1.3611088323596643,
          -1.5553755052553273,
          -0.7900789027259035,
          -0.112099598614191,
          -0.7765022974880906,
          -1.0095700680916018,
          0.12751898362424638,
          0.48523254289941636,
          -0.08758679656614751,
          -0.6405700377096745,
          0.4508096744210774,
          -0.17729227464359826,
          -1.3703372018763402,
          0.35822387093041075,
          0.011425989559393415,
          -2.2806654962681123,
          -0.418647724918048,
          1.0416519990770345,
          -0.003226566833624996,
          -0.8009773563696257,
          -0.8028488879372703,
          0.4403941548182696,
          -0.6460565332446022,
          -1.0538901952212936,
          -0.02941339682476033,
          -0.17880153658567707,
          1.5504066876349598,
          -0.06515519216521365,
          0.2634552678872701,
          1.221545929144533,
          0.41801716583001197,
          1.5706085556631733,
          -0.5735845823969875,
          -0.8820952994521086,
          0.3274408658812476,
          0.0909898204822451,
          -2.353670135079995,
          -0.3661806770483226,
          -0.9498676077976055,
          -1.0564185103175003,
          -1.0333840929678313,
          0.14215218947690056,
          -2.024164960776577,
          -0.5104641477871487,
          0.5231634935646545,
          -0.752271124788865,
          -1.431441600474087,
          0.13510742157296052,
          0.5017877946333005,
          0.3659653905102098,
          0.07018885629698855,
          2.2459148212296487,
          0.6786454586708808,
          0.9490166345640043,
          -1.9094775520083493,
          1.728290787905516,
          0.6398327487317317,
          0.3544085374865336,
          0.11432799574217735,
          0.6589381343247359,
          0.10346767508405878,
          -1.1038727497628804,
          -0.5099896964508587,
          0.5867887413460539,
          -0.7522432291170378,
          -1.2458288997869245,
          -1.4730026290167162,
          0.16962320435120895,
          0.964513413489719,
          1.1079062496024767,
          -0.32293074154054024,
          -0.7015479463603599,
          2.1010850453068697
         ]
        },
        {
         "line": {
          "color": "rgba(55, 128, 191, 1.0)",
          "dash": "solid",
          "shape": "linear",
          "width": 1.3
         },
         "mode": "lines",
         "name": "B",
         "text": "",
         "type": "scatter",
         "x": [
          0,
          1,
          2,
          3,
          4,
          5,
          6,
          7,
          8,
          9,
          10,
          11,
          12,
          13,
          14,
          15,
          16,
          17,
          18,
          19,
          20,
          21,
          22,
          23,
          24,
          25,
          26,
          27,
          28,
          29,
          30,
          31,
          32,
          33,
          34,
          35,
          36,
          37,
          38,
          39,
          40,
          41,
          42,
          43,
          44,
          45,
          46,
          47,
          48,
          49,
          50,
          51,
          52,
          53,
          54,
          55,
          56,
          57,
          58,
          59,
          60,
          61,
          62,
          63,
          64,
          65,
          66,
          67,
          68,
          69,
          70,
          71,
          72,
          73,
          74,
          75,
          76,
          77,
          78,
          79,
          80,
          81,
          82,
          83,
          84,
          85,
          86,
          87,
          88,
          89,
          90,
          91,
          92,
          93,
          94,
          95,
          96,
          97,
          98,
          99
         ],
         "y": [
          -0.26049029456912903,
          -0.09714763269974377,
          0.8111103731791115,
          -1.9092793360910076,
          -0.7021805233979893,
          1.7113569273657838,
          0.5577059895260462,
          -0.04010677492691884,
          -0.6031994783562596,
          -1.0151465414034821,
          -0.65977071844508,
          -0.11373213297939189,
          -0.17642103201371448,
          -1.3127870983774748,
          -0.8121667700648396,
          0.3562560593913871,
          0.115787656807456,
          2.0304725698965473,
          -1.8962460120140843,
          -1.695481979037778,
          0.083227127103031,
          -1.6072152006989198,
          -0.791909505896926,
          -0.00226257065607172,
          0.789055363306743,
          1.6384186774393954,
          -0.9141297129748618,
          0.34878907759418426,
          1.3992320086007244,
          -1.6551017310853946,
          0.2196602310642125,
          1.2934294942744322,
          0.6188203489615133,
          -1.0477234555721597,
          0.8342357072623097,
          1.5704168087418544,
          -1.4090025076121278,
          -2.118052083579081,
          -0.2333452338485016,
          -0.07709603866845373,
          -2.8072073735768845,
          -1.687428945991679,
          -1.159580191150825,
          1.304971913099211,
          -2.6664369761159477,
          0.0006285483518210876,
          -0.22704157391863877,
          1.5959235424772875,
          0.5226701132725071,
          -0.32349048754336457,
          0.17185896219907654,
          -0.11097559458142076,
          1.032166153297779,
          -0.7377867289133496,
          -1.205653112465707,
          0.08034586127001102,
          1.0494964020796176,
          0.5737773994926414,
          1.0679595026820368,
          0.2078110294449889,
          0.497964687170021,
          -1.0040946242420055,
          1.641018339402369,
          0.6987039146589529,
          -1.5910510766375996,
          1.0567069686542072,
          0.7215190478611012,
          0.6853744281025479,
          0.34932033732412204,
          0.08720879431656639,
          -0.7592345849283544,
          -0.5346034111574133,
          0.6203389986553872,
          0.055895501280625454,
          -1.2586433955714882,
          -1.4507327058899393,
          -0.5067603413460747,
          0.22285324461662986,
          1.2794806218555201,
          -0.5698953891946154,
          1.1666766260353854,
          -0.2748556337601546,
          0.3689062378985249,
          -0.22443208712326157,
          -2.6892222066069196,
          -0.6277102895697781,
          0.9948207097804131,
          2.006791303963984,
          -2.215807367364074,
          -0.36815272094188445,
          -2.0368053672881525,
          -1.4043787604355018,
          -0.6741811066408415,
          1.895508785899313,
          1.2781476020982228,
          1.6513382173909747,
          -2.6044397766828005,
          0.24020400275439163,
          -0.5693768063211105,
          0.934438743225109
         ]
        },
        {
         "line": {
          "color": "rgba(50, 171, 96, 1.0)",
          "dash": "solid",
          "shape": "linear",
          "width": 1.3
         },
         "mode": "lines",
         "name": "C",
         "text": "",
         "type": "scatter",
         "x": [
          0,
          1,
          2,
          3,
          4,
          5,
          6,
          7,
          8,
          9,
          10,
          11,
          12,
          13,
          14,
          15,
          16,
          17,
          18,
          19,
          20,
          21,
          22,
          23,
          24,
          25,
          26,
          27,
          28,
          29,
          30,
          31,
          32,
          33,
          34,
          35,
          36,
          37,
          38,
          39,
          40,
          41,
          42,
          43,
          44,
          45,
          46,
          47,
          48,
          49,
          50,
          51,
          52,
          53,
          54,
          55,
          56,
          57,
          58,
          59,
          60,
          61,
          62,
          63,
          64,
          65,
          66,
          67,
          68,
          69,
          70,
          71,
          72,
          73,
          74,
          75,
          76,
          77,
          78,
          79,
          80,
          81,
          82,
          83,
          84,
          85,
          86,
          87,
          88,
          89,
          90,
          91,
          92,
          93,
          94,
          95,
          96,
          97,
          98,
          99
         ],
         "y": [
          1.016137061958665,
          -0.5420245082783235,
          -0.6555275772055192,
          -0.17482452802721207,
          -0.20966175827607628,
          1.1268451015087522,
          -0.3573421160038608,
          -0.1283955674793992,
          -0.966809172726611,
          1.1076046408037203,
          -0.3857180761673435,
          0.10751028698545406,
          -0.0722654270370262,
          0.5027412369328366,
          0.4586151070738453,
          -0.31358236684132984,
          -0.7294415911860292,
          0.46889357343171045,
          1.6289993484803935,
          -0.13196937501181366,
          0.13903276441007126,
          -1.8065516586311317,
          0.015244035509171621,
          -0.6693807883877644,
          -1.1417766658491864,
          -0.08255553128388488,
          -0.8202482353376133,
          -1.1406918804712243,
          1.964067336106461,
          -0.9258080012830326,
          -0.1446993961232515,
          1.3722685370982728,
          1.0744640309311915,
          -0.13315007362248654,
          -0.24258199731695324,
          -2.434755966203868,
          1.249588245085047,
          -1.9159706351612598,
          0.9028452338965627,
          0.09709163764319628,
          -1.4915115361349514,
          -0.08131167965299389,
          -0.3533067773683644,
          0.43875369576612405,
          0.16403251203894895,
          0.3327188025830961,
          0.09824955382014505,
          0.25413148419195647,
          -0.8255273384617694,
          1.1502405310973927,
          -0.23663503779656808,
          -0.10375558656850428,
          0.29597100192381026,
          0.161902165064038,
          0.8746088623238746,
          -0.4313027123686213,
          -1.5522117256973411,
          1.5822264544410984,
          -0.2100548377789055,
          -0.11466768195239925,
          0.7693212034474219,
          -0.5239181221597862,
          -0.29627797449795956,
          -0.7872581356661098,
          -0.08259776401178255,
          -0.16190735298564957,
          1.0400236333371244,
          0.7016475467736071,
          1.6061385761185691,
          -0.09389196044606382,
          -2.2984771444784005,
          1.332637670768821,
          1.4260586545811833,
          0.4993956785585622,
          -0.9885025824410877,
          -1.1500950277274034,
          0.027440551493462317,
          -0.7152163964368956,
          -0.22254785386403808,
          1.3578697515859321,
          0.7795183721417863,
          -1.0941700641779113,
          -0.3691504402687209,
          -0.17252910270078434,
          -0.22910576496372098,
          -0.5535653063181362,
          -0.11246827447795366,
          -0.5004601639160561,
          1.3972684184213935,
          0.5826640975314333,
          -0.3704108210274508,
          -0.5791163044118627,
          -1.5688427193366512,
          0.9128795909915046,
          0.23049311480694276,
          0.02602262547334177,
          2.390872078118632,
          0.8265186912628907,
          1.1563445322537906,
          0.1929179183525035
         ]
        },
        {
         "line": {
          "color": "rgba(128, 0, 128, 1.0)",
          "dash": "solid",
          "shape": "linear",
          "width": 1.3
         },
         "mode": "lines",
         "name": "D",
         "text": "",
         "type": "scatter",
         "x": [
          0,
          1,
          2,
          3,
          4,
          5,
          6,
          7,
          8,
          9,
          10,
          11,
          12,
          13,
          14,
          15,
          16,
          17,
          18,
          19,
          20,
          21,
          22,
          23,
          24,
          25,
          26,
          27,
          28,
          29,
          30,
          31,
          32,
          33,
          34,
          35,
          36,
          37,
          38,
          39,
          40,
          41,
          42,
          43,
          44,
          45,
          46,
          47,
          48,
          49,
          50,
          51,
          52,
          53,
          54,
          55,
          56,
          57,
          58,
          59,
          60,
          61,
          62,
          63,
          64,
          65,
          66,
          67,
          68,
          69,
          70,
          71,
          72,
          73,
          74,
          75,
          76,
          77,
          78,
          79,
          80,
          81,
          82,
          83,
          84,
          85,
          86,
          87,
          88,
          89,
          90,
          91,
          92,
          93,
          94,
          95,
          96,
          97,
          98,
          99
         ],
         "y": [
          0.3678728199360895,
          0.7770397311008759,
          -0.31161412554319096,
          0.36109033817175823,
          1.0958105195636665,
          -0.6153494161962141,
          0.3733739029607547,
          0.7208029853625418,
          -1.6601967483822941,
          0.5812737043064377,
          2.3976288441646996,
          -2.2775623051411698,
          -1.3700067916658192,
          0.6724836769454864,
          0.6545862845642076,
          0.8608767566123184,
          -1.0038117731243594,
          0.2654092394720436,
          0.23271099141093987,
          1.0166224389242902,
          -0.2302243018740462,
          0.38887841341583407,
          -1.1744585970201085,
          -0.3288681829338943,
          0.4320913263467357,
          0.5363338760370511,
          -0.954588837116522,
          -0.9060180130129888,
          0.08258657852706816,
          0.8690618739895999,
          -0.07454312360867822,
          0.9069401158057482,
          0.8525847408135002,
          1.7008325595940121,
          -0.31927820901311404,
          2.5839018710271704,
          -0.6615241474077949,
          -0.3513113384047537,
          -1.6447064505626163,
          -0.3381746996970631,
          0.5185703280206443,
          -0.4126600899710108,
          1.111412826450472,
          -2.1811768624324954,
          -0.7390562258230423,
          -0.19691431987782637,
          -0.8564461074613374,
          -0.2658143784041566,
          -2.63333719441065,
          1.0166617842654235,
          0.5440607019805058,
          -0.3238076409135922,
          2.301811968058974,
          0.23585547206087806,
          -0.22523633643882646,
          -0.11678596070999779,
          0.12578899821333514,
          -1.266448176678349,
          1.840156190143387,
          0.7934607654229933,
          -0.879040372028926,
          0.1106176772142058,
          0.7232055158481039,
          1.143955728091707,
          -0.6922408053305052,
          0.17111181715903606,
          1.1752227121361831,
          0.5149017248635412,
          -0.29239279311857286,
          -0.9431186110891314,
          0.6890241907223393,
          -2.736800800781161,
          -0.09193453540823339,
          0.9031472571354823,
          -1.328816012502861,
          -0.907777189110073,
          -0.6471404454248375,
          -0.21980395293017788,
          -0.6742557662560115,
          -1.080899671209913,
          -0.33771811051318523,
          -0.778554295537802,
          -1.0784224433638752,
          -0.2522855225757112,
          -0.34230578532068723,
          -0.0765594929956213,
          -0.1897062808846173,
          0.9551877414597707,
          0.030419844757999685,
          0.360806273631684,
          0.7774964204857886,
          -0.5182793271816202,
          -0.6459736843376598,
          0.13782438188531929,
          1.2245544210274506,
          -0.4206696236845781,
          0.11823720416357132,
          -0.11183220579060686,
          -1.6093667900712743,
          -0.8601587836879706
         ]
        }
       ],
       "layout": {
        "legend": {
         "bgcolor": "#F5F6F9",
         "font": {
          "color": "#4D5663"
         }
        },
        "paper_bgcolor": "#F5F6F9",
        "plot_bgcolor": "#F5F6F9",
        "template": {
         "data": {
          "bar": [
           {
            "error_x": {
             "color": "#2a3f5f"
            },
            "error_y": {
             "color": "#2a3f5f"
            },
            "marker": {
             "line": {
              "color": "#E5ECF6",
              "width": 0.5
             },
             "pattern": {
              "fillmode": "overlay",
              "size": 10,
              "solidity": 0.2
             }
            },
            "type": "bar"
           }
          ],
          "barpolar": [
           {
            "marker": {
             "line": {
              "color": "#E5ECF6",
              "width": 0.5
             },
             "pattern": {
              "fillmode": "overlay",
              "size": 10,
              "solidity": 0.2
             }
            },
            "type": "barpolar"
           }
          ],
          "carpet": [
           {
            "aaxis": {
             "endlinecolor": "#2a3f5f",
             "gridcolor": "white",
             "linecolor": "white",
             "minorgridcolor": "white",
             "startlinecolor": "#2a3f5f"
            },
            "baxis": {
             "endlinecolor": "#2a3f5f",
             "gridcolor": "white",
             "linecolor": "white",
             "minorgridcolor": "white",
             "startlinecolor": "#2a3f5f"
            },
            "type": "carpet"
           }
          ],
          "choropleth": [
           {
            "colorbar": {
             "outlinewidth": 0,
             "ticks": ""
            },
            "type": "choropleth"
           }
          ],
          "contour": [
           {
            "colorbar": {
             "outlinewidth": 0,
             "ticks": ""
            },
            "colorscale": [
             [
              0,
              "#0d0887"
             ],
             [
              0.1111111111111111,
              "#46039f"
             ],
             [
              0.2222222222222222,
              "#7201a8"
             ],
             [
              0.3333333333333333,
              "#9c179e"
             ],
             [
              0.4444444444444444,
              "#bd3786"
             ],
             [
              0.5555555555555556,
              "#d8576b"
             ],
             [
              0.6666666666666666,
              "#ed7953"
             ],
             [
              0.7777777777777778,
              "#fb9f3a"
             ],
             [
              0.8888888888888888,
              "#fdca26"
             ],
             [
              1,
              "#f0f921"
             ]
            ],
            "type": "contour"
           }
          ],
          "contourcarpet": [
           {
            "colorbar": {
             "outlinewidth": 0,
             "ticks": ""
            },
            "type": "contourcarpet"
           }
          ],
          "heatmap": [
           {
            "colorbar": {
             "outlinewidth": 0,
             "ticks": ""
            },
            "colorscale": [
             [
              0,
              "#0d0887"
             ],
             [
              0.1111111111111111,
              "#46039f"
             ],
             [
              0.2222222222222222,
              "#7201a8"
             ],
             [
              0.3333333333333333,
              "#9c179e"
             ],
             [
              0.4444444444444444,
              "#bd3786"
             ],
             [
              0.5555555555555556,
              "#d8576b"
             ],
             [
              0.6666666666666666,
              "#ed7953"
             ],
             [
              0.7777777777777778,
              "#fb9f3a"
             ],
             [
              0.8888888888888888,
              "#fdca26"
             ],
             [
              1,
              "#f0f921"
             ]
            ],
            "type": "heatmap"
           }
          ],
          "heatmapgl": [
           {
            "colorbar": {
             "outlinewidth": 0,
             "ticks": ""
            },
            "colorscale": [
             [
              0,
              "#0d0887"
             ],
             [
              0.1111111111111111,
              "#46039f"
             ],
             [
              0.2222222222222222,
              "#7201a8"
             ],
             [
              0.3333333333333333,
              "#9c179e"
             ],
             [
              0.4444444444444444,
              "#bd3786"
             ],
             [
              0.5555555555555556,
              "#d8576b"
             ],
             [
              0.6666666666666666,
              "#ed7953"
             ],
             [
              0.7777777777777778,
              "#fb9f3a"
             ],
             [
              0.8888888888888888,
              "#fdca26"
             ],
             [
              1,
              "#f0f921"
             ]
            ],
            "type": "heatmapgl"
           }
          ],
          "histogram": [
           {
            "marker": {
             "pattern": {
              "fillmode": "overlay",
              "size": 10,
              "solidity": 0.2
             }
            },
            "type": "histogram"
           }
          ],
          "histogram2d": [
           {
            "colorbar": {
             "outlinewidth": 0,
             "ticks": ""
            },
            "colorscale": [
             [
              0,
              "#0d0887"
             ],
             [
              0.1111111111111111,
              "#46039f"
             ],
             [
              0.2222222222222222,
              "#7201a8"
             ],
             [
              0.3333333333333333,
              "#9c179e"
             ],
             [
              0.4444444444444444,
              "#bd3786"
             ],
             [
              0.5555555555555556,
              "#d8576b"
             ],
             [
              0.6666666666666666,
              "#ed7953"
             ],
             [
              0.7777777777777778,
              "#fb9f3a"
             ],
             [
              0.8888888888888888,
              "#fdca26"
             ],
             [
              1,
              "#f0f921"
             ]
            ],
            "type": "histogram2d"
           }
          ],
          "histogram2dcontour": [
           {
            "colorbar": {
             "outlinewidth": 0,
             "ticks": ""
            },
            "colorscale": [
             [
              0,
              "#0d0887"
             ],
             [
              0.1111111111111111,
              "#46039f"
             ],
             [
              0.2222222222222222,
              "#7201a8"
             ],
             [
              0.3333333333333333,
              "#9c179e"
             ],
             [
              0.4444444444444444,
              "#bd3786"
             ],
             [
              0.5555555555555556,
              "#d8576b"
             ],
             [
              0.6666666666666666,
              "#ed7953"
             ],
             [
              0.7777777777777778,
              "#fb9f3a"
             ],
             [
              0.8888888888888888,
              "#fdca26"
             ],
             [
              1,
              "#f0f921"
             ]
            ],
            "type": "histogram2dcontour"
           }
          ],
          "mesh3d": [
           {
            "colorbar": {
             "outlinewidth": 0,
             "ticks": ""
            },
            "type": "mesh3d"
           }
          ],
          "parcoords": [
           {
            "line": {
             "colorbar": {
              "outlinewidth": 0,
              "ticks": ""
             }
            },
            "type": "parcoords"
           }
          ],
          "pie": [
           {
            "automargin": true,
            "type": "pie"
           }
          ],
          "scatter": [
           {
            "fillpattern": {
             "fillmode": "overlay",
             "size": 10,
             "solidity": 0.2
            },
            "type": "scatter"
           }
          ],
          "scatter3d": [
           {
            "line": {
             "colorbar": {
              "outlinewidth": 0,
              "ticks": ""
             }
            },
            "marker": {
             "colorbar": {
              "outlinewidth": 0,
              "ticks": ""
             }
            },
            "type": "scatter3d"
           }
          ],
          "scattercarpet": [
           {
            "marker": {
             "colorbar": {
              "outlinewidth": 0,
              "ticks": ""
             }
            },
            "type": "scattercarpet"
           }
          ],
          "scattergeo": [
           {
            "marker": {
             "colorbar": {
              "outlinewidth": 0,
              "ticks": ""
             }
            },
            "type": "scattergeo"
           }
          ],
          "scattergl": [
           {
            "marker": {
             "colorbar": {
              "outlinewidth": 0,
              "ticks": ""
             }
            },
            "type": "scattergl"
           }
          ],
          "scattermapbox": [
           {
            "marker": {
             "colorbar": {
              "outlinewidth": 0,
              "ticks": ""
             }
            },
            "type": "scattermapbox"
           }
          ],
          "scatterpolar": [
           {
            "marker": {
             "colorbar": {
              "outlinewidth": 0,
              "ticks": ""
             }
            },
            "type": "scatterpolar"
           }
          ],
          "scatterpolargl": [
           {
            "marker": {
             "colorbar": {
              "outlinewidth": 0,
              "ticks": ""
             }
            },
            "type": "scatterpolargl"
           }
          ],
          "scatterternary": [
           {
            "marker": {
             "colorbar": {
              "outlinewidth": 0,
              "ticks": ""
             }
            },
            "type": "scatterternary"
           }
          ],
          "surface": [
           {
            "colorbar": {
             "outlinewidth": 0,
             "ticks": ""
            },
            "colorscale": [
             [
              0,
              "#0d0887"
             ],
             [
              0.1111111111111111,
              "#46039f"
             ],
             [
              0.2222222222222222,
              "#7201a8"
             ],
             [
              0.3333333333333333,
              "#9c179e"
             ],
             [
              0.4444444444444444,
              "#bd3786"
             ],
             [
              0.5555555555555556,
              "#d8576b"
             ],
             [
              0.6666666666666666,
              "#ed7953"
             ],
             [
              0.7777777777777778,
              "#fb9f3a"
             ],
             [
              0.8888888888888888,
              "#fdca26"
             ],
             [
              1,
              "#f0f921"
             ]
            ],
            "type": "surface"
           }
          ],
          "table": [
           {
            "cells": {
             "fill": {
              "color": "#EBF0F8"
             },
             "line": {
              "color": "white"
             }
            },
            "header": {
             "fill": {
              "color": "#C8D4E3"
             },
             "line": {
              "color": "white"
             }
            },
            "type": "table"
           }
          ]
         },
         "layout": {
          "annotationdefaults": {
           "arrowcolor": "#2a3f5f",
           "arrowhead": 0,
           "arrowwidth": 1
          },
          "autotypenumbers": "strict",
          "coloraxis": {
           "colorbar": {
            "outlinewidth": 0,
            "ticks": ""
           }
          },
          "colorscale": {
           "diverging": [
            [
             0,
             "#8e0152"
            ],
            [
             0.1,
             "#c51b7d"
            ],
            [
             0.2,
             "#de77ae"
            ],
            [
             0.3,
             "#f1b6da"
            ],
            [
             0.4,
             "#fde0ef"
            ],
            [
             0.5,
             "#f7f7f7"
            ],
            [
             0.6,
             "#e6f5d0"
            ],
            [
             0.7,
             "#b8e186"
            ],
            [
             0.8,
             "#7fbc41"
            ],
            [
             0.9,
             "#4d9221"
            ],
            [
             1,
             "#276419"
            ]
           ],
           "sequential": [
            [
             0,
             "#0d0887"
            ],
            [
             0.1111111111111111,
             "#46039f"
            ],
            [
             0.2222222222222222,
             "#7201a8"
            ],
            [
             0.3333333333333333,
             "#9c179e"
            ],
            [
             0.4444444444444444,
             "#bd3786"
            ],
            [
             0.5555555555555556,
             "#d8576b"
            ],
            [
             0.6666666666666666,
             "#ed7953"
            ],
            [
             0.7777777777777778,
             "#fb9f3a"
            ],
            [
             0.8888888888888888,
             "#fdca26"
            ],
            [
             1,
             "#f0f921"
            ]
           ],
           "sequentialminus": [
            [
             0,
             "#0d0887"
            ],
            [
             0.1111111111111111,
             "#46039f"
            ],
            [
             0.2222222222222222,
             "#7201a8"
            ],
            [
             0.3333333333333333,
             "#9c179e"
            ],
            [
             0.4444444444444444,
             "#bd3786"
            ],
            [
             0.5555555555555556,
             "#d8576b"
            ],
            [
             0.6666666666666666,
             "#ed7953"
            ],
            [
             0.7777777777777778,
             "#fb9f3a"
            ],
            [
             0.8888888888888888,
             "#fdca26"
            ],
            [
             1,
             "#f0f921"
            ]
           ]
          },
          "colorway": [
           "#636efa",
           "#EF553B",
           "#00cc96",
           "#ab63fa",
           "#FFA15A",
           "#19d3f3",
           "#FF6692",
           "#B6E880",
           "#FF97FF",
           "#FECB52"
          ],
          "font": {
           "color": "#2a3f5f"
          },
          "geo": {
           "bgcolor": "white",
           "lakecolor": "white",
           "landcolor": "#E5ECF6",
           "showlakes": true,
           "showland": true,
           "subunitcolor": "white"
          },
          "hoverlabel": {
           "align": "left"
          },
          "hovermode": "closest",
          "mapbox": {
           "style": "light"
          },
          "paper_bgcolor": "white",
          "plot_bgcolor": "#E5ECF6",
          "polar": {
           "angularaxis": {
            "gridcolor": "white",
            "linecolor": "white",
            "ticks": ""
           },
           "bgcolor": "#E5ECF6",
           "radialaxis": {
            "gridcolor": "white",
            "linecolor": "white",
            "ticks": ""
           }
          },
          "scene": {
           "xaxis": {
            "backgroundcolor": "#E5ECF6",
            "gridcolor": "white",
            "gridwidth": 2,
            "linecolor": "white",
            "showbackground": true,
            "ticks": "",
            "zerolinecolor": "white"
           },
           "yaxis": {
            "backgroundcolor": "#E5ECF6",
            "gridcolor": "white",
            "gridwidth": 2,
            "linecolor": "white",
            "showbackground": true,
            "ticks": "",
            "zerolinecolor": "white"
           },
           "zaxis": {
            "backgroundcolor": "#E5ECF6",
            "gridcolor": "white",
            "gridwidth": 2,
            "linecolor": "white",
            "showbackground": true,
            "ticks": "",
            "zerolinecolor": "white"
           }
          },
          "shapedefaults": {
           "line": {
            "color": "#2a3f5f"
           }
          },
          "ternary": {
           "aaxis": {
            "gridcolor": "white",
            "linecolor": "white",
            "ticks": ""
           },
           "baxis": {
            "gridcolor": "white",
            "linecolor": "white",
            "ticks": ""
           },
           "bgcolor": "#E5ECF6",
           "caxis": {
            "gridcolor": "white",
            "linecolor": "white",
            "ticks": ""
           }
          },
          "title": {
           "x": 0.05
          },
          "xaxis": {
           "automargin": true,
           "gridcolor": "white",
           "linecolor": "white",
           "ticks": "",
           "title": {
            "standoff": 15
           },
           "zerolinecolor": "white",
           "zerolinewidth": 2
          },
          "yaxis": {
           "automargin": true,
           "gridcolor": "white",
           "linecolor": "white",
           "ticks": "",
           "title": {
            "standoff": 15
           },
           "zerolinecolor": "white",
           "zerolinewidth": 2
          }
         }
        },
        "title": {
         "font": {
          "color": "#4D5663"
         }
        },
        "xaxis": {
         "gridcolor": "#E1E5ED",
         "showgrid": true,
         "tickfont": {
          "color": "#4D5663"
         },
         "title": {
          "font": {
           "color": "#4D5663"
          },
          "text": ""
         },
         "zerolinecolor": "#E1E5ED"
        },
        "yaxis": {
         "gridcolor": "#E1E5ED",
         "showgrid": true,
         "tickfont": {
          "color": "#4D5663"
         },
         "title": {
          "font": {
           "color": "#4D5663"
          },
          "text": ""
         },
         "zerolinecolor": "#E1E5ED"
        }
       }
      },
      "text/html": [
       "<div>                            <div id=\"cbf1658d-b783-4c5e-bde4-506098440b32\" class=\"plotly-graph-div\" style=\"height:525px; width:100%;\"></div>            <script type=\"text/javascript\">                require([\"plotly\"], function(Plotly) {                    window.PLOTLYENV=window.PLOTLYENV || {};\n",
       "                    window.PLOTLYENV.BASE_URL='https://plot.ly';                                    if (document.getElementById(\"cbf1658d-b783-4c5e-bde4-506098440b32\")) {                    Plotly.newPlot(                        \"cbf1658d-b783-4c5e-bde4-506098440b32\",                        [{\"line\":{\"color\":\"rgba(255, 153, 51, 1.0)\",\"dash\":\"solid\",\"shape\":\"linear\",\"width\":1.3},\"mode\":\"lines\",\"name\":\"A\",\"text\":\"\",\"x\":[0,1,2,3,4,5,6,7,8,9,10,11,12,13,14,15,16,17,18,19,20,21,22,23,24,25,26,27,28,29,30,31,32,33,34,35,36,37,38,39,40,41,42,43,44,45,46,47,48,49,50,51,52,53,54,55,56,57,58,59,60,61,62,63,64,65,66,67,68,69,70,71,72,73,74,75,76,77,78,79,80,81,82,83,84,85,86,87,88,89,90,91,92,93,94,95,96,97,98,99],\"y\":[-1.3731688173621832,-0.5236780566901539,-0.2456701124803259,-1.6380423135313602,0.9982274092034623,-1.15307228039646,-1.5618663632408445,0.8200192727725714,0.4896820037700569,-1.7515717647801263,-0.06337162209812126,-0.3710804808800396,1.334041593001444,-0.749371267093215,-0.08678441228771756,-1.8822514238319927,-0.934430313200707,-0.19847237614294302,-0.20675616177675002,0.8819335976960104,0.023120137660321772,-0.0937663221763038,1.0062716328804868,-0.7527872553381383,-1.711418215864383,-2.6231263089537467,0.5353519665610029,1.3611088323596643,-1.5553755052553273,-0.7900789027259035,-0.112099598614191,-0.7765022974880906,-1.0095700680916018,0.12751898362424638,0.48523254289941636,-0.08758679656614751,-0.6405700377096745,0.4508096744210774,-0.17729227464359826,-1.3703372018763402,0.35822387093041075,0.011425989559393415,-2.2806654962681123,-0.418647724918048,1.0416519990770345,-0.003226566833624996,-0.8009773563696257,-0.8028488879372703,0.4403941548182696,-0.6460565332446022,-1.0538901952212936,-0.02941339682476033,-0.17880153658567707,1.5504066876349598,-0.06515519216521365,0.2634552678872701,1.221545929144533,0.41801716583001197,1.5706085556631733,-0.5735845823969875,-0.8820952994521086,0.3274408658812476,0.0909898204822451,-2.353670135079995,-0.3661806770483226,-0.9498676077976055,-1.0564185103175003,-1.0333840929678313,0.14215218947690056,-2.024164960776577,-0.5104641477871487,0.5231634935646545,-0.752271124788865,-1.431441600474087,0.13510742157296052,0.5017877946333005,0.3659653905102098,0.07018885629698855,2.2459148212296487,0.6786454586708808,0.9490166345640043,-1.9094775520083493,1.728290787905516,0.6398327487317317,0.3544085374865336,0.11432799574217735,0.6589381343247359,0.10346767508405878,-1.1038727497628804,-0.5099896964508587,0.5867887413460539,-0.7522432291170378,-1.2458288997869245,-1.4730026290167162,0.16962320435120895,0.964513413489719,1.1079062496024767,-0.32293074154054024,-0.7015479463603599,2.1010850453068697],\"type\":\"scatter\"},{\"line\":{\"color\":\"rgba(55, 128, 191, 1.0)\",\"dash\":\"solid\",\"shape\":\"linear\",\"width\":1.3},\"mode\":\"lines\",\"name\":\"B\",\"text\":\"\",\"x\":[0,1,2,3,4,5,6,7,8,9,10,11,12,13,14,15,16,17,18,19,20,21,22,23,24,25,26,27,28,29,30,31,32,33,34,35,36,37,38,39,40,41,42,43,44,45,46,47,48,49,50,51,52,53,54,55,56,57,58,59,60,61,62,63,64,65,66,67,68,69,70,71,72,73,74,75,76,77,78,79,80,81,82,83,84,85,86,87,88,89,90,91,92,93,94,95,96,97,98,99],\"y\":[-0.26049029456912903,-0.09714763269974377,0.8111103731791115,-1.9092793360910076,-0.7021805233979893,1.7113569273657838,0.5577059895260462,-0.04010677492691884,-0.6031994783562596,-1.0151465414034821,-0.65977071844508,-0.11373213297939189,-0.17642103201371448,-1.3127870983774748,-0.8121667700648396,0.3562560593913871,0.115787656807456,2.0304725698965473,-1.8962460120140843,-1.695481979037778,0.083227127103031,-1.6072152006989198,-0.791909505896926,-0.00226257065607172,0.789055363306743,1.6384186774393954,-0.9141297129748618,0.34878907759418426,1.3992320086007244,-1.6551017310853946,0.2196602310642125,1.2934294942744322,0.6188203489615133,-1.0477234555721597,0.8342357072623097,1.5704168087418544,-1.4090025076121278,-2.118052083579081,-0.2333452338485016,-0.07709603866845373,-2.8072073735768845,-1.687428945991679,-1.159580191150825,1.304971913099211,-2.6664369761159477,0.0006285483518210876,-0.22704157391863877,1.5959235424772875,0.5226701132725071,-0.32349048754336457,0.17185896219907654,-0.11097559458142076,1.032166153297779,-0.7377867289133496,-1.205653112465707,0.08034586127001102,1.0494964020796176,0.5737773994926414,1.0679595026820368,0.2078110294449889,0.497964687170021,-1.0040946242420055,1.641018339402369,0.6987039146589529,-1.5910510766375996,1.0567069686542072,0.7215190478611012,0.6853744281025479,0.34932033732412204,0.08720879431656639,-0.7592345849283544,-0.5346034111574133,0.6203389986553872,0.055895501280625454,-1.2586433955714882,-1.4507327058899393,-0.5067603413460747,0.22285324461662986,1.2794806218555201,-0.5698953891946154,1.1666766260353854,-0.2748556337601546,0.3689062378985249,-0.22443208712326157,-2.6892222066069196,-0.6277102895697781,0.9948207097804131,2.006791303963984,-2.215807367364074,-0.36815272094188445,-2.0368053672881525,-1.4043787604355018,-0.6741811066408415,1.895508785899313,1.2781476020982228,1.6513382173909747,-2.6044397766828005,0.24020400275439163,-0.5693768063211105,0.934438743225109],\"type\":\"scatter\"},{\"line\":{\"color\":\"rgba(50, 171, 96, 1.0)\",\"dash\":\"solid\",\"shape\":\"linear\",\"width\":1.3},\"mode\":\"lines\",\"name\":\"C\",\"text\":\"\",\"x\":[0,1,2,3,4,5,6,7,8,9,10,11,12,13,14,15,16,17,18,19,20,21,22,23,24,25,26,27,28,29,30,31,32,33,34,35,36,37,38,39,40,41,42,43,44,45,46,47,48,49,50,51,52,53,54,55,56,57,58,59,60,61,62,63,64,65,66,67,68,69,70,71,72,73,74,75,76,77,78,79,80,81,82,83,84,85,86,87,88,89,90,91,92,93,94,95,96,97,98,99],\"y\":[1.016137061958665,-0.5420245082783235,-0.6555275772055192,-0.17482452802721207,-0.20966175827607628,1.1268451015087522,-0.3573421160038608,-0.1283955674793992,-0.966809172726611,1.1076046408037203,-0.3857180761673435,0.10751028698545406,-0.0722654270370262,0.5027412369328366,0.4586151070738453,-0.31358236684132984,-0.7294415911860292,0.46889357343171045,1.6289993484803935,-0.13196937501181366,0.13903276441007126,-1.8065516586311317,0.015244035509171621,-0.6693807883877644,-1.1417766658491864,-0.08255553128388488,-0.8202482353376133,-1.1406918804712243,1.964067336106461,-0.9258080012830326,-0.1446993961232515,1.3722685370982728,1.0744640309311915,-0.13315007362248654,-0.24258199731695324,-2.434755966203868,1.249588245085047,-1.9159706351612598,0.9028452338965627,0.09709163764319628,-1.4915115361349514,-0.08131167965299389,-0.3533067773683644,0.43875369576612405,0.16403251203894895,0.3327188025830961,0.09824955382014505,0.25413148419195647,-0.8255273384617694,1.1502405310973927,-0.23663503779656808,-0.10375558656850428,0.29597100192381026,0.161902165064038,0.8746088623238746,-0.4313027123686213,-1.5522117256973411,1.5822264544410984,-0.2100548377789055,-0.11466768195239925,0.7693212034474219,-0.5239181221597862,-0.29627797449795956,-0.7872581356661098,-0.08259776401178255,-0.16190735298564957,1.0400236333371244,0.7016475467736071,1.6061385761185691,-0.09389196044606382,-2.2984771444784005,1.332637670768821,1.4260586545811833,0.4993956785585622,-0.9885025824410877,-1.1500950277274034,0.027440551493462317,-0.7152163964368956,-0.22254785386403808,1.3578697515859321,0.7795183721417863,-1.0941700641779113,-0.3691504402687209,-0.17252910270078434,-0.22910576496372098,-0.5535653063181362,-0.11246827447795366,-0.5004601639160561,1.3972684184213935,0.5826640975314333,-0.3704108210274508,-0.5791163044118627,-1.5688427193366512,0.9128795909915046,0.23049311480694276,0.02602262547334177,2.390872078118632,0.8265186912628907,1.1563445322537906,0.1929179183525035],\"type\":\"scatter\"},{\"line\":{\"color\":\"rgba(128, 0, 128, 1.0)\",\"dash\":\"solid\",\"shape\":\"linear\",\"width\":1.3},\"mode\":\"lines\",\"name\":\"D\",\"text\":\"\",\"x\":[0,1,2,3,4,5,6,7,8,9,10,11,12,13,14,15,16,17,18,19,20,21,22,23,24,25,26,27,28,29,30,31,32,33,34,35,36,37,38,39,40,41,42,43,44,45,46,47,48,49,50,51,52,53,54,55,56,57,58,59,60,61,62,63,64,65,66,67,68,69,70,71,72,73,74,75,76,77,78,79,80,81,82,83,84,85,86,87,88,89,90,91,92,93,94,95,96,97,98,99],\"y\":[0.3678728199360895,0.7770397311008759,-0.31161412554319096,0.36109033817175823,1.0958105195636665,-0.6153494161962141,0.3733739029607547,0.7208029853625418,-1.6601967483822941,0.5812737043064377,2.3976288441646996,-2.2775623051411698,-1.3700067916658192,0.6724836769454864,0.6545862845642076,0.8608767566123184,-1.0038117731243594,0.2654092394720436,0.23271099141093987,1.0166224389242902,-0.2302243018740462,0.38887841341583407,-1.1744585970201085,-0.3288681829338943,0.4320913263467357,0.5363338760370511,-0.954588837116522,-0.9060180130129888,0.08258657852706816,0.8690618739895999,-0.07454312360867822,0.9069401158057482,0.8525847408135002,1.7008325595940121,-0.31927820901311404,2.5839018710271704,-0.6615241474077949,-0.3513113384047537,-1.6447064505626163,-0.3381746996970631,0.5185703280206443,-0.4126600899710108,1.111412826450472,-2.1811768624324954,-0.7390562258230423,-0.19691431987782637,-0.8564461074613374,-0.2658143784041566,-2.63333719441065,1.0166617842654235,0.5440607019805058,-0.3238076409135922,2.301811968058974,0.23585547206087806,-0.22523633643882646,-0.11678596070999779,0.12578899821333514,-1.266448176678349,1.840156190143387,0.7934607654229933,-0.879040372028926,0.1106176772142058,0.7232055158481039,1.143955728091707,-0.6922408053305052,0.17111181715903606,1.1752227121361831,0.5149017248635412,-0.29239279311857286,-0.9431186110891314,0.6890241907223393,-2.736800800781161,-0.09193453540823339,0.9031472571354823,-1.328816012502861,-0.907777189110073,-0.6471404454248375,-0.21980395293017788,-0.6742557662560115,-1.080899671209913,-0.33771811051318523,-0.778554295537802,-1.0784224433638752,-0.2522855225757112,-0.34230578532068723,-0.0765594929956213,-0.1897062808846173,0.9551877414597707,0.030419844757999685,0.360806273631684,0.7774964204857886,-0.5182793271816202,-0.6459736843376598,0.13782438188531929,1.2245544210274506,-0.4206696236845781,0.11823720416357132,-0.11183220579060686,-1.6093667900712743,-0.8601587836879706],\"type\":\"scatter\"}],                        {\"legend\":{\"bgcolor\":\"#F5F6F9\",\"font\":{\"color\":\"#4D5663\"}},\"paper_bgcolor\":\"#F5F6F9\",\"plot_bgcolor\":\"#F5F6F9\",\"template\":{\"data\":{\"barpolar\":[{\"marker\":{\"line\":{\"color\":\"#E5ECF6\",\"width\":0.5},\"pattern\":{\"fillmode\":\"overlay\",\"size\":10,\"solidity\":0.2}},\"type\":\"barpolar\"}],\"bar\":[{\"error_x\":{\"color\":\"#2a3f5f\"},\"error_y\":{\"color\":\"#2a3f5f\"},\"marker\":{\"line\":{\"color\":\"#E5ECF6\",\"width\":0.5},\"pattern\":{\"fillmode\":\"overlay\",\"size\":10,\"solidity\":0.2}},\"type\":\"bar\"}],\"carpet\":[{\"aaxis\":{\"endlinecolor\":\"#2a3f5f\",\"gridcolor\":\"white\",\"linecolor\":\"white\",\"minorgridcolor\":\"white\",\"startlinecolor\":\"#2a3f5f\"},\"baxis\":{\"endlinecolor\":\"#2a3f5f\",\"gridcolor\":\"white\",\"linecolor\":\"white\",\"minorgridcolor\":\"white\",\"startlinecolor\":\"#2a3f5f\"},\"type\":\"carpet\"}],\"choropleth\":[{\"colorbar\":{\"outlinewidth\":0,\"ticks\":\"\"},\"type\":\"choropleth\"}],\"contourcarpet\":[{\"colorbar\":{\"outlinewidth\":0,\"ticks\":\"\"},\"type\":\"contourcarpet\"}],\"contour\":[{\"colorbar\":{\"outlinewidth\":0,\"ticks\":\"\"},\"colorscale\":[[0.0,\"#0d0887\"],[0.1111111111111111,\"#46039f\"],[0.2222222222222222,\"#7201a8\"],[0.3333333333333333,\"#9c179e\"],[0.4444444444444444,\"#bd3786\"],[0.5555555555555556,\"#d8576b\"],[0.6666666666666666,\"#ed7953\"],[0.7777777777777778,\"#fb9f3a\"],[0.8888888888888888,\"#fdca26\"],[1.0,\"#f0f921\"]],\"type\":\"contour\"}],\"heatmapgl\":[{\"colorbar\":{\"outlinewidth\":0,\"ticks\":\"\"},\"colorscale\":[[0.0,\"#0d0887\"],[0.1111111111111111,\"#46039f\"],[0.2222222222222222,\"#7201a8\"],[0.3333333333333333,\"#9c179e\"],[0.4444444444444444,\"#bd3786\"],[0.5555555555555556,\"#d8576b\"],[0.6666666666666666,\"#ed7953\"],[0.7777777777777778,\"#fb9f3a\"],[0.8888888888888888,\"#fdca26\"],[1.0,\"#f0f921\"]],\"type\":\"heatmapgl\"}],\"heatmap\":[{\"colorbar\":{\"outlinewidth\":0,\"ticks\":\"\"},\"colorscale\":[[0.0,\"#0d0887\"],[0.1111111111111111,\"#46039f\"],[0.2222222222222222,\"#7201a8\"],[0.3333333333333333,\"#9c179e\"],[0.4444444444444444,\"#bd3786\"],[0.5555555555555556,\"#d8576b\"],[0.6666666666666666,\"#ed7953\"],[0.7777777777777778,\"#fb9f3a\"],[0.8888888888888888,\"#fdca26\"],[1.0,\"#f0f921\"]],\"type\":\"heatmap\"}],\"histogram2dcontour\":[{\"colorbar\":{\"outlinewidth\":0,\"ticks\":\"\"},\"colorscale\":[[0.0,\"#0d0887\"],[0.1111111111111111,\"#46039f\"],[0.2222222222222222,\"#7201a8\"],[0.3333333333333333,\"#9c179e\"],[0.4444444444444444,\"#bd3786\"],[0.5555555555555556,\"#d8576b\"],[0.6666666666666666,\"#ed7953\"],[0.7777777777777778,\"#fb9f3a\"],[0.8888888888888888,\"#fdca26\"],[1.0,\"#f0f921\"]],\"type\":\"histogram2dcontour\"}],\"histogram2d\":[{\"colorbar\":{\"outlinewidth\":0,\"ticks\":\"\"},\"colorscale\":[[0.0,\"#0d0887\"],[0.1111111111111111,\"#46039f\"],[0.2222222222222222,\"#7201a8\"],[0.3333333333333333,\"#9c179e\"],[0.4444444444444444,\"#bd3786\"],[0.5555555555555556,\"#d8576b\"],[0.6666666666666666,\"#ed7953\"],[0.7777777777777778,\"#fb9f3a\"],[0.8888888888888888,\"#fdca26\"],[1.0,\"#f0f921\"]],\"type\":\"histogram2d\"}],\"histogram\":[{\"marker\":{\"pattern\":{\"fillmode\":\"overlay\",\"size\":10,\"solidity\":0.2}},\"type\":\"histogram\"}],\"mesh3d\":[{\"colorbar\":{\"outlinewidth\":0,\"ticks\":\"\"},\"type\":\"mesh3d\"}],\"parcoords\":[{\"line\":{\"colorbar\":{\"outlinewidth\":0,\"ticks\":\"\"}},\"type\":\"parcoords\"}],\"pie\":[{\"automargin\":true,\"type\":\"pie\"}],\"scatter3d\":[{\"line\":{\"colorbar\":{\"outlinewidth\":0,\"ticks\":\"\"}},\"marker\":{\"colorbar\":{\"outlinewidth\":0,\"ticks\":\"\"}},\"type\":\"scatter3d\"}],\"scattercarpet\":[{\"marker\":{\"colorbar\":{\"outlinewidth\":0,\"ticks\":\"\"}},\"type\":\"scattercarpet\"}],\"scattergeo\":[{\"marker\":{\"colorbar\":{\"outlinewidth\":0,\"ticks\":\"\"}},\"type\":\"scattergeo\"}],\"scattergl\":[{\"marker\":{\"colorbar\":{\"outlinewidth\":0,\"ticks\":\"\"}},\"type\":\"scattergl\"}],\"scattermapbox\":[{\"marker\":{\"colorbar\":{\"outlinewidth\":0,\"ticks\":\"\"}},\"type\":\"scattermapbox\"}],\"scatterpolargl\":[{\"marker\":{\"colorbar\":{\"outlinewidth\":0,\"ticks\":\"\"}},\"type\":\"scatterpolargl\"}],\"scatterpolar\":[{\"marker\":{\"colorbar\":{\"outlinewidth\":0,\"ticks\":\"\"}},\"type\":\"scatterpolar\"}],\"scatter\":[{\"fillpattern\":{\"fillmode\":\"overlay\",\"size\":10,\"solidity\":0.2},\"type\":\"scatter\"}],\"scatterternary\":[{\"marker\":{\"colorbar\":{\"outlinewidth\":0,\"ticks\":\"\"}},\"type\":\"scatterternary\"}],\"surface\":[{\"colorbar\":{\"outlinewidth\":0,\"ticks\":\"\"},\"colorscale\":[[0.0,\"#0d0887\"],[0.1111111111111111,\"#46039f\"],[0.2222222222222222,\"#7201a8\"],[0.3333333333333333,\"#9c179e\"],[0.4444444444444444,\"#bd3786\"],[0.5555555555555556,\"#d8576b\"],[0.6666666666666666,\"#ed7953\"],[0.7777777777777778,\"#fb9f3a\"],[0.8888888888888888,\"#fdca26\"],[1.0,\"#f0f921\"]],\"type\":\"surface\"}],\"table\":[{\"cells\":{\"fill\":{\"color\":\"#EBF0F8\"},\"line\":{\"color\":\"white\"}},\"header\":{\"fill\":{\"color\":\"#C8D4E3\"},\"line\":{\"color\":\"white\"}},\"type\":\"table\"}]},\"layout\":{\"annotationdefaults\":{\"arrowcolor\":\"#2a3f5f\",\"arrowhead\":0,\"arrowwidth\":1},\"autotypenumbers\":\"strict\",\"coloraxis\":{\"colorbar\":{\"outlinewidth\":0,\"ticks\":\"\"}},\"colorscale\":{\"diverging\":[[0,\"#8e0152\"],[0.1,\"#c51b7d\"],[0.2,\"#de77ae\"],[0.3,\"#f1b6da\"],[0.4,\"#fde0ef\"],[0.5,\"#f7f7f7\"],[0.6,\"#e6f5d0\"],[0.7,\"#b8e186\"],[0.8,\"#7fbc41\"],[0.9,\"#4d9221\"],[1,\"#276419\"]],\"sequential\":[[0.0,\"#0d0887\"],[0.1111111111111111,\"#46039f\"],[0.2222222222222222,\"#7201a8\"],[0.3333333333333333,\"#9c179e\"],[0.4444444444444444,\"#bd3786\"],[0.5555555555555556,\"#d8576b\"],[0.6666666666666666,\"#ed7953\"],[0.7777777777777778,\"#fb9f3a\"],[0.8888888888888888,\"#fdca26\"],[1.0,\"#f0f921\"]],\"sequentialminus\":[[0.0,\"#0d0887\"],[0.1111111111111111,\"#46039f\"],[0.2222222222222222,\"#7201a8\"],[0.3333333333333333,\"#9c179e\"],[0.4444444444444444,\"#bd3786\"],[0.5555555555555556,\"#d8576b\"],[0.6666666666666666,\"#ed7953\"],[0.7777777777777778,\"#fb9f3a\"],[0.8888888888888888,\"#fdca26\"],[1.0,\"#f0f921\"]]},\"colorway\":[\"#636efa\",\"#EF553B\",\"#00cc96\",\"#ab63fa\",\"#FFA15A\",\"#19d3f3\",\"#FF6692\",\"#B6E880\",\"#FF97FF\",\"#FECB52\"],\"font\":{\"color\":\"#2a3f5f\"},\"geo\":{\"bgcolor\":\"white\",\"lakecolor\":\"white\",\"landcolor\":\"#E5ECF6\",\"showlakes\":true,\"showland\":true,\"subunitcolor\":\"white\"},\"hoverlabel\":{\"align\":\"left\"},\"hovermode\":\"closest\",\"mapbox\":{\"style\":\"light\"},\"paper_bgcolor\":\"white\",\"plot_bgcolor\":\"#E5ECF6\",\"polar\":{\"angularaxis\":{\"gridcolor\":\"white\",\"linecolor\":\"white\",\"ticks\":\"\"},\"bgcolor\":\"#E5ECF6\",\"radialaxis\":{\"gridcolor\":\"white\",\"linecolor\":\"white\",\"ticks\":\"\"}},\"scene\":{\"xaxis\":{\"backgroundcolor\":\"#E5ECF6\",\"gridcolor\":\"white\",\"gridwidth\":2,\"linecolor\":\"white\",\"showbackground\":true,\"ticks\":\"\",\"zerolinecolor\":\"white\"},\"yaxis\":{\"backgroundcolor\":\"#E5ECF6\",\"gridcolor\":\"white\",\"gridwidth\":2,\"linecolor\":\"white\",\"showbackground\":true,\"ticks\":\"\",\"zerolinecolor\":\"white\"},\"zaxis\":{\"backgroundcolor\":\"#E5ECF6\",\"gridcolor\":\"white\",\"gridwidth\":2,\"linecolor\":\"white\",\"showbackground\":true,\"ticks\":\"\",\"zerolinecolor\":\"white\"}},\"shapedefaults\":{\"line\":{\"color\":\"#2a3f5f\"}},\"ternary\":{\"aaxis\":{\"gridcolor\":\"white\",\"linecolor\":\"white\",\"ticks\":\"\"},\"baxis\":{\"gridcolor\":\"white\",\"linecolor\":\"white\",\"ticks\":\"\"},\"bgcolor\":\"#E5ECF6\",\"caxis\":{\"gridcolor\":\"white\",\"linecolor\":\"white\",\"ticks\":\"\"}},\"title\":{\"x\":0.05},\"xaxis\":{\"automargin\":true,\"gridcolor\":\"white\",\"linecolor\":\"white\",\"ticks\":\"\",\"title\":{\"standoff\":15},\"zerolinecolor\":\"white\",\"zerolinewidth\":2},\"yaxis\":{\"automargin\":true,\"gridcolor\":\"white\",\"linecolor\":\"white\",\"ticks\":\"\",\"title\":{\"standoff\":15},\"zerolinecolor\":\"white\",\"zerolinewidth\":2}}},\"title\":{\"font\":{\"color\":\"#4D5663\"}},\"xaxis\":{\"gridcolor\":\"#E1E5ED\",\"showgrid\":true,\"tickfont\":{\"color\":\"#4D5663\"},\"title\":{\"font\":{\"color\":\"#4D5663\"},\"text\":\"\"},\"zerolinecolor\":\"#E1E5ED\"},\"yaxis\":{\"gridcolor\":\"#E1E5ED\",\"showgrid\":true,\"tickfont\":{\"color\":\"#4D5663\"},\"title\":{\"font\":{\"color\":\"#4D5663\"},\"text\":\"\"},\"zerolinecolor\":\"#E1E5ED\"}},                        {\"showLink\": true, \"linkText\": \"Export to plot.ly\", \"plotlyServerURL\": \"https://plot.ly\", \"responsive\": true}                    ).then(function(){\n",
       "                            \n",
       "var gd = document.getElementById('cbf1658d-b783-4c5e-bde4-506098440b32');\n",
       "var x = new MutationObserver(function (mutations, observer) {{\n",
       "        var display = window.getComputedStyle(gd).display;\n",
       "        if (!display || display === 'none') {{\n",
       "            console.log([gd, 'removed!']);\n",
       "            Plotly.purge(gd);\n",
       "            observer.disconnect();\n",
       "        }}\n",
       "}});\n",
       "\n",
       "// Listen for the removal of the full notebook cells\n",
       "var notebookContainer = gd.closest('#notebook-container');\n",
       "if (notebookContainer) {{\n",
       "    x.observe(notebookContainer, {childList: true});\n",
       "}}\n",
       "\n",
       "// Listen for the clearing of the current output cell\n",
       "var outputEl = gd.closest('.output');\n",
       "if (outputEl) {{\n",
       "    x.observe(outputEl, {childList: true});\n",
       "}}\n",
       "\n",
       "                        })                };                });            </script>        </div>"
      ]
     },
     "metadata": {},
     "output_type": "display_data"
    }
   ],
   "source": [
    "df1.iplot()"
   ]
  },
  {
   "cell_type": "code",
   "execution_count": 120,
   "metadata": {},
   "outputs": [
    {
     "data": {
      "application/vnd.plotly.v1+json": {
       "config": {
        "linkText": "Export to plot.ly",
        "plotlyServerURL": "https://plot.ly",
        "showLink": true
       },
       "data": [
        {
         "line": {
          "color": "rgba(255, 153, 51, 1.0)",
          "dash": "solid",
          "shape": "linear",
          "width": 1.3
         },
         "marker": {
          "size": 10,
          "symbol": "circle"
         },
         "mode": "markers",
         "name": "B",
         "text": "",
         "type": "scatter",
         "x": [
          -1.3731688173621832,
          -0.5236780566901539,
          -0.2456701124803259,
          -1.6380423135313602,
          0.9982274092034623,
          -1.15307228039646,
          -1.5618663632408445,
          0.8200192727725714,
          0.4896820037700569,
          -1.7515717647801263,
          -0.06337162209812126,
          -0.3710804808800396,
          1.334041593001444,
          -0.749371267093215,
          -0.08678441228771756,
          -1.8822514238319927,
          -0.934430313200707,
          -0.19847237614294302,
          -0.20675616177675002,
          0.8819335976960104,
          0.023120137660321772,
          -0.0937663221763038,
          1.0062716328804868,
          -0.7527872553381383,
          -1.711418215864383,
          -2.6231263089537467,
          0.5353519665610029,
          1.3611088323596643,
          -1.5553755052553273,
          -0.7900789027259035,
          -0.112099598614191,
          -0.7765022974880906,
          -1.0095700680916018,
          0.12751898362424638,
          0.48523254289941636,
          -0.08758679656614751,
          -0.6405700377096745,
          0.4508096744210774,
          -0.17729227464359826,
          -1.3703372018763402,
          0.35822387093041075,
          0.011425989559393415,
          -2.2806654962681123,
          -0.418647724918048,
          1.0416519990770345,
          -0.003226566833624996,
          -0.8009773563696257,
          -0.8028488879372703,
          0.4403941548182696,
          -0.6460565332446022,
          -1.0538901952212936,
          -0.02941339682476033,
          -0.17880153658567707,
          1.5504066876349598,
          -0.06515519216521365,
          0.2634552678872701,
          1.221545929144533,
          0.41801716583001197,
          1.5706085556631733,
          -0.5735845823969875,
          -0.8820952994521086,
          0.3274408658812476,
          0.0909898204822451,
          -2.353670135079995,
          -0.3661806770483226,
          -0.9498676077976055,
          -1.0564185103175003,
          -1.0333840929678313,
          0.14215218947690056,
          -2.024164960776577,
          -0.5104641477871487,
          0.5231634935646545,
          -0.752271124788865,
          -1.431441600474087,
          0.13510742157296052,
          0.5017877946333005,
          0.3659653905102098,
          0.07018885629698855,
          2.2459148212296487,
          0.6786454586708808,
          0.9490166345640043,
          -1.9094775520083493,
          1.728290787905516,
          0.6398327487317317,
          0.3544085374865336,
          0.11432799574217735,
          0.6589381343247359,
          0.10346767508405878,
          -1.1038727497628804,
          -0.5099896964508587,
          0.5867887413460539,
          -0.7522432291170378,
          -1.2458288997869245,
          -1.4730026290167162,
          0.16962320435120895,
          0.964513413489719,
          1.1079062496024767,
          -0.32293074154054024,
          -0.7015479463603599,
          2.1010850453068697
         ],
         "y": [
          -0.26049029456912903,
          -0.09714763269974377,
          0.8111103731791115,
          -1.9092793360910076,
          -0.7021805233979893,
          1.7113569273657838,
          0.5577059895260462,
          -0.04010677492691884,
          -0.6031994783562596,
          -1.0151465414034821,
          -0.65977071844508,
          -0.11373213297939189,
          -0.17642103201371448,
          -1.3127870983774748,
          -0.8121667700648396,
          0.3562560593913871,
          0.115787656807456,
          2.0304725698965473,
          -1.8962460120140843,
          -1.695481979037778,
          0.083227127103031,
          -1.6072152006989198,
          -0.791909505896926,
          -0.00226257065607172,
          0.789055363306743,
          1.6384186774393954,
          -0.9141297129748618,
          0.34878907759418426,
          1.3992320086007244,
          -1.6551017310853946,
          0.2196602310642125,
          1.2934294942744322,
          0.6188203489615133,
          -1.0477234555721597,
          0.8342357072623097,
          1.5704168087418544,
          -1.4090025076121278,
          -2.118052083579081,
          -0.2333452338485016,
          -0.07709603866845373,
          -2.8072073735768845,
          -1.687428945991679,
          -1.159580191150825,
          1.304971913099211,
          -2.6664369761159477,
          0.0006285483518210876,
          -0.22704157391863877,
          1.5959235424772875,
          0.5226701132725071,
          -0.32349048754336457,
          0.17185896219907654,
          -0.11097559458142076,
          1.032166153297779,
          -0.7377867289133496,
          -1.205653112465707,
          0.08034586127001102,
          1.0494964020796176,
          0.5737773994926414,
          1.0679595026820368,
          0.2078110294449889,
          0.497964687170021,
          -1.0040946242420055,
          1.641018339402369,
          0.6987039146589529,
          -1.5910510766375996,
          1.0567069686542072,
          0.7215190478611012,
          0.6853744281025479,
          0.34932033732412204,
          0.08720879431656639,
          -0.7592345849283544,
          -0.5346034111574133,
          0.6203389986553872,
          0.055895501280625454,
          -1.2586433955714882,
          -1.4507327058899393,
          -0.5067603413460747,
          0.22285324461662986,
          1.2794806218555201,
          -0.5698953891946154,
          1.1666766260353854,
          -0.2748556337601546,
          0.3689062378985249,
          -0.22443208712326157,
          -2.6892222066069196,
          -0.6277102895697781,
          0.9948207097804131,
          2.006791303963984,
          -2.215807367364074,
          -0.36815272094188445,
          -2.0368053672881525,
          -1.4043787604355018,
          -0.6741811066408415,
          1.895508785899313,
          1.2781476020982228,
          1.6513382173909747,
          -2.6044397766828005,
          0.24020400275439163,
          -0.5693768063211105,
          0.934438743225109
         ]
        }
       ],
       "layout": {
        "legend": {
         "bgcolor": "#F5F6F9",
         "font": {
          "color": "#4D5663"
         }
        },
        "paper_bgcolor": "#F5F6F9",
        "plot_bgcolor": "#F5F6F9",
        "template": {
         "data": {
          "bar": [
           {
            "error_x": {
             "color": "#2a3f5f"
            },
            "error_y": {
             "color": "#2a3f5f"
            },
            "marker": {
             "line": {
              "color": "#E5ECF6",
              "width": 0.5
             },
             "pattern": {
              "fillmode": "overlay",
              "size": 10,
              "solidity": 0.2
             }
            },
            "type": "bar"
           }
          ],
          "barpolar": [
           {
            "marker": {
             "line": {
              "color": "#E5ECF6",
              "width": 0.5
             },
             "pattern": {
              "fillmode": "overlay",
              "size": 10,
              "solidity": 0.2
             }
            },
            "type": "barpolar"
           }
          ],
          "carpet": [
           {
            "aaxis": {
             "endlinecolor": "#2a3f5f",
             "gridcolor": "white",
             "linecolor": "white",
             "minorgridcolor": "white",
             "startlinecolor": "#2a3f5f"
            },
            "baxis": {
             "endlinecolor": "#2a3f5f",
             "gridcolor": "white",
             "linecolor": "white",
             "minorgridcolor": "white",
             "startlinecolor": "#2a3f5f"
            },
            "type": "carpet"
           }
          ],
          "choropleth": [
           {
            "colorbar": {
             "outlinewidth": 0,
             "ticks": ""
            },
            "type": "choropleth"
           }
          ],
          "contour": [
           {
            "colorbar": {
             "outlinewidth": 0,
             "ticks": ""
            },
            "colorscale": [
             [
              0,
              "#0d0887"
             ],
             [
              0.1111111111111111,
              "#46039f"
             ],
             [
              0.2222222222222222,
              "#7201a8"
             ],
             [
              0.3333333333333333,
              "#9c179e"
             ],
             [
              0.4444444444444444,
              "#bd3786"
             ],
             [
              0.5555555555555556,
              "#d8576b"
             ],
             [
              0.6666666666666666,
              "#ed7953"
             ],
             [
              0.7777777777777778,
              "#fb9f3a"
             ],
             [
              0.8888888888888888,
              "#fdca26"
             ],
             [
              1,
              "#f0f921"
             ]
            ],
            "type": "contour"
           }
          ],
          "contourcarpet": [
           {
            "colorbar": {
             "outlinewidth": 0,
             "ticks": ""
            },
            "type": "contourcarpet"
           }
          ],
          "heatmap": [
           {
            "colorbar": {
             "outlinewidth": 0,
             "ticks": ""
            },
            "colorscale": [
             [
              0,
              "#0d0887"
             ],
             [
              0.1111111111111111,
              "#46039f"
             ],
             [
              0.2222222222222222,
              "#7201a8"
             ],
             [
              0.3333333333333333,
              "#9c179e"
             ],
             [
              0.4444444444444444,
              "#bd3786"
             ],
             [
              0.5555555555555556,
              "#d8576b"
             ],
             [
              0.6666666666666666,
              "#ed7953"
             ],
             [
              0.7777777777777778,
              "#fb9f3a"
             ],
             [
              0.8888888888888888,
              "#fdca26"
             ],
             [
              1,
              "#f0f921"
             ]
            ],
            "type": "heatmap"
           }
          ],
          "heatmapgl": [
           {
            "colorbar": {
             "outlinewidth": 0,
             "ticks": ""
            },
            "colorscale": [
             [
              0,
              "#0d0887"
             ],
             [
              0.1111111111111111,
              "#46039f"
             ],
             [
              0.2222222222222222,
              "#7201a8"
             ],
             [
              0.3333333333333333,
              "#9c179e"
             ],
             [
              0.4444444444444444,
              "#bd3786"
             ],
             [
              0.5555555555555556,
              "#d8576b"
             ],
             [
              0.6666666666666666,
              "#ed7953"
             ],
             [
              0.7777777777777778,
              "#fb9f3a"
             ],
             [
              0.8888888888888888,
              "#fdca26"
             ],
             [
              1,
              "#f0f921"
             ]
            ],
            "type": "heatmapgl"
           }
          ],
          "histogram": [
           {
            "marker": {
             "pattern": {
              "fillmode": "overlay",
              "size": 10,
              "solidity": 0.2
             }
            },
            "type": "histogram"
           }
          ],
          "histogram2d": [
           {
            "colorbar": {
             "outlinewidth": 0,
             "ticks": ""
            },
            "colorscale": [
             [
              0,
              "#0d0887"
             ],
             [
              0.1111111111111111,
              "#46039f"
             ],
             [
              0.2222222222222222,
              "#7201a8"
             ],
             [
              0.3333333333333333,
              "#9c179e"
             ],
             [
              0.4444444444444444,
              "#bd3786"
             ],
             [
              0.5555555555555556,
              "#d8576b"
             ],
             [
              0.6666666666666666,
              "#ed7953"
             ],
             [
              0.7777777777777778,
              "#fb9f3a"
             ],
             [
              0.8888888888888888,
              "#fdca26"
             ],
             [
              1,
              "#f0f921"
             ]
            ],
            "type": "histogram2d"
           }
          ],
          "histogram2dcontour": [
           {
            "colorbar": {
             "outlinewidth": 0,
             "ticks": ""
            },
            "colorscale": [
             [
              0,
              "#0d0887"
             ],
             [
              0.1111111111111111,
              "#46039f"
             ],
             [
              0.2222222222222222,
              "#7201a8"
             ],
             [
              0.3333333333333333,
              "#9c179e"
             ],
             [
              0.4444444444444444,
              "#bd3786"
             ],
             [
              0.5555555555555556,
              "#d8576b"
             ],
             [
              0.6666666666666666,
              "#ed7953"
             ],
             [
              0.7777777777777778,
              "#fb9f3a"
             ],
             [
              0.8888888888888888,
              "#fdca26"
             ],
             [
              1,
              "#f0f921"
             ]
            ],
            "type": "histogram2dcontour"
           }
          ],
          "mesh3d": [
           {
            "colorbar": {
             "outlinewidth": 0,
             "ticks": ""
            },
            "type": "mesh3d"
           }
          ],
          "parcoords": [
           {
            "line": {
             "colorbar": {
              "outlinewidth": 0,
              "ticks": ""
             }
            },
            "type": "parcoords"
           }
          ],
          "pie": [
           {
            "automargin": true,
            "type": "pie"
           }
          ],
          "scatter": [
           {
            "fillpattern": {
             "fillmode": "overlay",
             "size": 10,
             "solidity": 0.2
            },
            "type": "scatter"
           }
          ],
          "scatter3d": [
           {
            "line": {
             "colorbar": {
              "outlinewidth": 0,
              "ticks": ""
             }
            },
            "marker": {
             "colorbar": {
              "outlinewidth": 0,
              "ticks": ""
             }
            },
            "type": "scatter3d"
           }
          ],
          "scattercarpet": [
           {
            "marker": {
             "colorbar": {
              "outlinewidth": 0,
              "ticks": ""
             }
            },
            "type": "scattercarpet"
           }
          ],
          "scattergeo": [
           {
            "marker": {
             "colorbar": {
              "outlinewidth": 0,
              "ticks": ""
             }
            },
            "type": "scattergeo"
           }
          ],
          "scattergl": [
           {
            "marker": {
             "colorbar": {
              "outlinewidth": 0,
              "ticks": ""
             }
            },
            "type": "scattergl"
           }
          ],
          "scattermapbox": [
           {
            "marker": {
             "colorbar": {
              "outlinewidth": 0,
              "ticks": ""
             }
            },
            "type": "scattermapbox"
           }
          ],
          "scatterpolar": [
           {
            "marker": {
             "colorbar": {
              "outlinewidth": 0,
              "ticks": ""
             }
            },
            "type": "scatterpolar"
           }
          ],
          "scatterpolargl": [
           {
            "marker": {
             "colorbar": {
              "outlinewidth": 0,
              "ticks": ""
             }
            },
            "type": "scatterpolargl"
           }
          ],
          "scatterternary": [
           {
            "marker": {
             "colorbar": {
              "outlinewidth": 0,
              "ticks": ""
             }
            },
            "type": "scatterternary"
           }
          ],
          "surface": [
           {
            "colorbar": {
             "outlinewidth": 0,
             "ticks": ""
            },
            "colorscale": [
             [
              0,
              "#0d0887"
             ],
             [
              0.1111111111111111,
              "#46039f"
             ],
             [
              0.2222222222222222,
              "#7201a8"
             ],
             [
              0.3333333333333333,
              "#9c179e"
             ],
             [
              0.4444444444444444,
              "#bd3786"
             ],
             [
              0.5555555555555556,
              "#d8576b"
             ],
             [
              0.6666666666666666,
              "#ed7953"
             ],
             [
              0.7777777777777778,
              "#fb9f3a"
             ],
             [
              0.8888888888888888,
              "#fdca26"
             ],
             [
              1,
              "#f0f921"
             ]
            ],
            "type": "surface"
           }
          ],
          "table": [
           {
            "cells": {
             "fill": {
              "color": "#EBF0F8"
             },
             "line": {
              "color": "white"
             }
            },
            "header": {
             "fill": {
              "color": "#C8D4E3"
             },
             "line": {
              "color": "white"
             }
            },
            "type": "table"
           }
          ]
         },
         "layout": {
          "annotationdefaults": {
           "arrowcolor": "#2a3f5f",
           "arrowhead": 0,
           "arrowwidth": 1
          },
          "autotypenumbers": "strict",
          "coloraxis": {
           "colorbar": {
            "outlinewidth": 0,
            "ticks": ""
           }
          },
          "colorscale": {
           "diverging": [
            [
             0,
             "#8e0152"
            ],
            [
             0.1,
             "#c51b7d"
            ],
            [
             0.2,
             "#de77ae"
            ],
            [
             0.3,
             "#f1b6da"
            ],
            [
             0.4,
             "#fde0ef"
            ],
            [
             0.5,
             "#f7f7f7"
            ],
            [
             0.6,
             "#e6f5d0"
            ],
            [
             0.7,
             "#b8e186"
            ],
            [
             0.8,
             "#7fbc41"
            ],
            [
             0.9,
             "#4d9221"
            ],
            [
             1,
             "#276419"
            ]
           ],
           "sequential": [
            [
             0,
             "#0d0887"
            ],
            [
             0.1111111111111111,
             "#46039f"
            ],
            [
             0.2222222222222222,
             "#7201a8"
            ],
            [
             0.3333333333333333,
             "#9c179e"
            ],
            [
             0.4444444444444444,
             "#bd3786"
            ],
            [
             0.5555555555555556,
             "#d8576b"
            ],
            [
             0.6666666666666666,
             "#ed7953"
            ],
            [
             0.7777777777777778,
             "#fb9f3a"
            ],
            [
             0.8888888888888888,
             "#fdca26"
            ],
            [
             1,
             "#f0f921"
            ]
           ],
           "sequentialminus": [
            [
             0,
             "#0d0887"
            ],
            [
             0.1111111111111111,
             "#46039f"
            ],
            [
             0.2222222222222222,
             "#7201a8"
            ],
            [
             0.3333333333333333,
             "#9c179e"
            ],
            [
             0.4444444444444444,
             "#bd3786"
            ],
            [
             0.5555555555555556,
             "#d8576b"
            ],
            [
             0.6666666666666666,
             "#ed7953"
            ],
            [
             0.7777777777777778,
             "#fb9f3a"
            ],
            [
             0.8888888888888888,
             "#fdca26"
            ],
            [
             1,
             "#f0f921"
            ]
           ]
          },
          "colorway": [
           "#636efa",
           "#EF553B",
           "#00cc96",
           "#ab63fa",
           "#FFA15A",
           "#19d3f3",
           "#FF6692",
           "#B6E880",
           "#FF97FF",
           "#FECB52"
          ],
          "font": {
           "color": "#2a3f5f"
          },
          "geo": {
           "bgcolor": "white",
           "lakecolor": "white",
           "landcolor": "#E5ECF6",
           "showlakes": true,
           "showland": true,
           "subunitcolor": "white"
          },
          "hoverlabel": {
           "align": "left"
          },
          "hovermode": "closest",
          "mapbox": {
           "style": "light"
          },
          "paper_bgcolor": "white",
          "plot_bgcolor": "#E5ECF6",
          "polar": {
           "angularaxis": {
            "gridcolor": "white",
            "linecolor": "white",
            "ticks": ""
           },
           "bgcolor": "#E5ECF6",
           "radialaxis": {
            "gridcolor": "white",
            "linecolor": "white",
            "ticks": ""
           }
          },
          "scene": {
           "xaxis": {
            "backgroundcolor": "#E5ECF6",
            "gridcolor": "white",
            "gridwidth": 2,
            "linecolor": "white",
            "showbackground": true,
            "ticks": "",
            "zerolinecolor": "white"
           },
           "yaxis": {
            "backgroundcolor": "#E5ECF6",
            "gridcolor": "white",
            "gridwidth": 2,
            "linecolor": "white",
            "showbackground": true,
            "ticks": "",
            "zerolinecolor": "white"
           },
           "zaxis": {
            "backgroundcolor": "#E5ECF6",
            "gridcolor": "white",
            "gridwidth": 2,
            "linecolor": "white",
            "showbackground": true,
            "ticks": "",
            "zerolinecolor": "white"
           }
          },
          "shapedefaults": {
           "line": {
            "color": "#2a3f5f"
           }
          },
          "ternary": {
           "aaxis": {
            "gridcolor": "white",
            "linecolor": "white",
            "ticks": ""
           },
           "baxis": {
            "gridcolor": "white",
            "linecolor": "white",
            "ticks": ""
           },
           "bgcolor": "#E5ECF6",
           "caxis": {
            "gridcolor": "white",
            "linecolor": "white",
            "ticks": ""
           }
          },
          "title": {
           "x": 0.05
          },
          "xaxis": {
           "automargin": true,
           "gridcolor": "white",
           "linecolor": "white",
           "ticks": "",
           "title": {
            "standoff": 15
           },
           "zerolinecolor": "white",
           "zerolinewidth": 2
          },
          "yaxis": {
           "automargin": true,
           "gridcolor": "white",
           "linecolor": "white",
           "ticks": "",
           "title": {
            "standoff": 15
           },
           "zerolinecolor": "white",
           "zerolinewidth": 2
          }
         }
        },
        "title": {
         "font": {
          "color": "#4D5663"
         }
        },
        "xaxis": {
         "gridcolor": "#E1E5ED",
         "showgrid": true,
         "tickfont": {
          "color": "#4D5663"
         },
         "title": {
          "font": {
           "color": "#4D5663"
          },
          "text": ""
         },
         "zerolinecolor": "#E1E5ED"
        },
        "yaxis": {
         "gridcolor": "#E1E5ED",
         "showgrid": true,
         "tickfont": {
          "color": "#4D5663"
         },
         "title": {
          "font": {
           "color": "#4D5663"
          },
          "text": ""
         },
         "zerolinecolor": "#E1E5ED"
        }
       }
      },
      "text/html": [
       "<div>                            <div id=\"e7ea053d-4a00-4b27-ac01-37fcce09e392\" class=\"plotly-graph-div\" style=\"height:525px; width:100%;\"></div>            <script type=\"text/javascript\">                require([\"plotly\"], function(Plotly) {                    window.PLOTLYENV=window.PLOTLYENV || {};\n",
       "                    window.PLOTLYENV.BASE_URL='https://plot.ly';                                    if (document.getElementById(\"e7ea053d-4a00-4b27-ac01-37fcce09e392\")) {                    Plotly.newPlot(                        \"e7ea053d-4a00-4b27-ac01-37fcce09e392\",                        [{\"line\":{\"color\":\"rgba(255, 153, 51, 1.0)\",\"dash\":\"solid\",\"shape\":\"linear\",\"width\":1.3},\"marker\":{\"size\":10,\"symbol\":\"circle\"},\"mode\":\"markers\",\"name\":\"B\",\"text\":\"\",\"x\":[-1.3731688173621832,-0.5236780566901539,-0.2456701124803259,-1.6380423135313602,0.9982274092034623,-1.15307228039646,-1.5618663632408445,0.8200192727725714,0.4896820037700569,-1.7515717647801263,-0.06337162209812126,-0.3710804808800396,1.334041593001444,-0.749371267093215,-0.08678441228771756,-1.8822514238319927,-0.934430313200707,-0.19847237614294302,-0.20675616177675002,0.8819335976960104,0.023120137660321772,-0.0937663221763038,1.0062716328804868,-0.7527872553381383,-1.711418215864383,-2.6231263089537467,0.5353519665610029,1.3611088323596643,-1.5553755052553273,-0.7900789027259035,-0.112099598614191,-0.7765022974880906,-1.0095700680916018,0.12751898362424638,0.48523254289941636,-0.08758679656614751,-0.6405700377096745,0.4508096744210774,-0.17729227464359826,-1.3703372018763402,0.35822387093041075,0.011425989559393415,-2.2806654962681123,-0.418647724918048,1.0416519990770345,-0.003226566833624996,-0.8009773563696257,-0.8028488879372703,0.4403941548182696,-0.6460565332446022,-1.0538901952212936,-0.02941339682476033,-0.17880153658567707,1.5504066876349598,-0.06515519216521365,0.2634552678872701,1.221545929144533,0.41801716583001197,1.5706085556631733,-0.5735845823969875,-0.8820952994521086,0.3274408658812476,0.0909898204822451,-2.353670135079995,-0.3661806770483226,-0.9498676077976055,-1.0564185103175003,-1.0333840929678313,0.14215218947690056,-2.024164960776577,-0.5104641477871487,0.5231634935646545,-0.752271124788865,-1.431441600474087,0.13510742157296052,0.5017877946333005,0.3659653905102098,0.07018885629698855,2.2459148212296487,0.6786454586708808,0.9490166345640043,-1.9094775520083493,1.728290787905516,0.6398327487317317,0.3544085374865336,0.11432799574217735,0.6589381343247359,0.10346767508405878,-1.1038727497628804,-0.5099896964508587,0.5867887413460539,-0.7522432291170378,-1.2458288997869245,-1.4730026290167162,0.16962320435120895,0.964513413489719,1.1079062496024767,-0.32293074154054024,-0.7015479463603599,2.1010850453068697],\"y\":[-0.26049029456912903,-0.09714763269974377,0.8111103731791115,-1.9092793360910076,-0.7021805233979893,1.7113569273657838,0.5577059895260462,-0.04010677492691884,-0.6031994783562596,-1.0151465414034821,-0.65977071844508,-0.11373213297939189,-0.17642103201371448,-1.3127870983774748,-0.8121667700648396,0.3562560593913871,0.115787656807456,2.0304725698965473,-1.8962460120140843,-1.695481979037778,0.083227127103031,-1.6072152006989198,-0.791909505896926,-0.00226257065607172,0.789055363306743,1.6384186774393954,-0.9141297129748618,0.34878907759418426,1.3992320086007244,-1.6551017310853946,0.2196602310642125,1.2934294942744322,0.6188203489615133,-1.0477234555721597,0.8342357072623097,1.5704168087418544,-1.4090025076121278,-2.118052083579081,-0.2333452338485016,-0.07709603866845373,-2.8072073735768845,-1.687428945991679,-1.159580191150825,1.304971913099211,-2.6664369761159477,0.0006285483518210876,-0.22704157391863877,1.5959235424772875,0.5226701132725071,-0.32349048754336457,0.17185896219907654,-0.11097559458142076,1.032166153297779,-0.7377867289133496,-1.205653112465707,0.08034586127001102,1.0494964020796176,0.5737773994926414,1.0679595026820368,0.2078110294449889,0.497964687170021,-1.0040946242420055,1.641018339402369,0.6987039146589529,-1.5910510766375996,1.0567069686542072,0.7215190478611012,0.6853744281025479,0.34932033732412204,0.08720879431656639,-0.7592345849283544,-0.5346034111574133,0.6203389986553872,0.055895501280625454,-1.2586433955714882,-1.4507327058899393,-0.5067603413460747,0.22285324461662986,1.2794806218555201,-0.5698953891946154,1.1666766260353854,-0.2748556337601546,0.3689062378985249,-0.22443208712326157,-2.6892222066069196,-0.6277102895697781,0.9948207097804131,2.006791303963984,-2.215807367364074,-0.36815272094188445,-2.0368053672881525,-1.4043787604355018,-0.6741811066408415,1.895508785899313,1.2781476020982228,1.6513382173909747,-2.6044397766828005,0.24020400275439163,-0.5693768063211105,0.934438743225109],\"type\":\"scatter\"}],                        {\"legend\":{\"bgcolor\":\"#F5F6F9\",\"font\":{\"color\":\"#4D5663\"}},\"paper_bgcolor\":\"#F5F6F9\",\"plot_bgcolor\":\"#F5F6F9\",\"template\":{\"data\":{\"barpolar\":[{\"marker\":{\"line\":{\"color\":\"#E5ECF6\",\"width\":0.5},\"pattern\":{\"fillmode\":\"overlay\",\"size\":10,\"solidity\":0.2}},\"type\":\"barpolar\"}],\"bar\":[{\"error_x\":{\"color\":\"#2a3f5f\"},\"error_y\":{\"color\":\"#2a3f5f\"},\"marker\":{\"line\":{\"color\":\"#E5ECF6\",\"width\":0.5},\"pattern\":{\"fillmode\":\"overlay\",\"size\":10,\"solidity\":0.2}},\"type\":\"bar\"}],\"carpet\":[{\"aaxis\":{\"endlinecolor\":\"#2a3f5f\",\"gridcolor\":\"white\",\"linecolor\":\"white\",\"minorgridcolor\":\"white\",\"startlinecolor\":\"#2a3f5f\"},\"baxis\":{\"endlinecolor\":\"#2a3f5f\",\"gridcolor\":\"white\",\"linecolor\":\"white\",\"minorgridcolor\":\"white\",\"startlinecolor\":\"#2a3f5f\"},\"type\":\"carpet\"}],\"choropleth\":[{\"colorbar\":{\"outlinewidth\":0,\"ticks\":\"\"},\"type\":\"choropleth\"}],\"contourcarpet\":[{\"colorbar\":{\"outlinewidth\":0,\"ticks\":\"\"},\"type\":\"contourcarpet\"}],\"contour\":[{\"colorbar\":{\"outlinewidth\":0,\"ticks\":\"\"},\"colorscale\":[[0.0,\"#0d0887\"],[0.1111111111111111,\"#46039f\"],[0.2222222222222222,\"#7201a8\"],[0.3333333333333333,\"#9c179e\"],[0.4444444444444444,\"#bd3786\"],[0.5555555555555556,\"#d8576b\"],[0.6666666666666666,\"#ed7953\"],[0.7777777777777778,\"#fb9f3a\"],[0.8888888888888888,\"#fdca26\"],[1.0,\"#f0f921\"]],\"type\":\"contour\"}],\"heatmapgl\":[{\"colorbar\":{\"outlinewidth\":0,\"ticks\":\"\"},\"colorscale\":[[0.0,\"#0d0887\"],[0.1111111111111111,\"#46039f\"],[0.2222222222222222,\"#7201a8\"],[0.3333333333333333,\"#9c179e\"],[0.4444444444444444,\"#bd3786\"],[0.5555555555555556,\"#d8576b\"],[0.6666666666666666,\"#ed7953\"],[0.7777777777777778,\"#fb9f3a\"],[0.8888888888888888,\"#fdca26\"],[1.0,\"#f0f921\"]],\"type\":\"heatmapgl\"}],\"heatmap\":[{\"colorbar\":{\"outlinewidth\":0,\"ticks\":\"\"},\"colorscale\":[[0.0,\"#0d0887\"],[0.1111111111111111,\"#46039f\"],[0.2222222222222222,\"#7201a8\"],[0.3333333333333333,\"#9c179e\"],[0.4444444444444444,\"#bd3786\"],[0.5555555555555556,\"#d8576b\"],[0.6666666666666666,\"#ed7953\"],[0.7777777777777778,\"#fb9f3a\"],[0.8888888888888888,\"#fdca26\"],[1.0,\"#f0f921\"]],\"type\":\"heatmap\"}],\"histogram2dcontour\":[{\"colorbar\":{\"outlinewidth\":0,\"ticks\":\"\"},\"colorscale\":[[0.0,\"#0d0887\"],[0.1111111111111111,\"#46039f\"],[0.2222222222222222,\"#7201a8\"],[0.3333333333333333,\"#9c179e\"],[0.4444444444444444,\"#bd3786\"],[0.5555555555555556,\"#d8576b\"],[0.6666666666666666,\"#ed7953\"],[0.7777777777777778,\"#fb9f3a\"],[0.8888888888888888,\"#fdca26\"],[1.0,\"#f0f921\"]],\"type\":\"histogram2dcontour\"}],\"histogram2d\":[{\"colorbar\":{\"outlinewidth\":0,\"ticks\":\"\"},\"colorscale\":[[0.0,\"#0d0887\"],[0.1111111111111111,\"#46039f\"],[0.2222222222222222,\"#7201a8\"],[0.3333333333333333,\"#9c179e\"],[0.4444444444444444,\"#bd3786\"],[0.5555555555555556,\"#d8576b\"],[0.6666666666666666,\"#ed7953\"],[0.7777777777777778,\"#fb9f3a\"],[0.8888888888888888,\"#fdca26\"],[1.0,\"#f0f921\"]],\"type\":\"histogram2d\"}],\"histogram\":[{\"marker\":{\"pattern\":{\"fillmode\":\"overlay\",\"size\":10,\"solidity\":0.2}},\"type\":\"histogram\"}],\"mesh3d\":[{\"colorbar\":{\"outlinewidth\":0,\"ticks\":\"\"},\"type\":\"mesh3d\"}],\"parcoords\":[{\"line\":{\"colorbar\":{\"outlinewidth\":0,\"ticks\":\"\"}},\"type\":\"parcoords\"}],\"pie\":[{\"automargin\":true,\"type\":\"pie\"}],\"scatter3d\":[{\"line\":{\"colorbar\":{\"outlinewidth\":0,\"ticks\":\"\"}},\"marker\":{\"colorbar\":{\"outlinewidth\":0,\"ticks\":\"\"}},\"type\":\"scatter3d\"}],\"scattercarpet\":[{\"marker\":{\"colorbar\":{\"outlinewidth\":0,\"ticks\":\"\"}},\"type\":\"scattercarpet\"}],\"scattergeo\":[{\"marker\":{\"colorbar\":{\"outlinewidth\":0,\"ticks\":\"\"}},\"type\":\"scattergeo\"}],\"scattergl\":[{\"marker\":{\"colorbar\":{\"outlinewidth\":0,\"ticks\":\"\"}},\"type\":\"scattergl\"}],\"scattermapbox\":[{\"marker\":{\"colorbar\":{\"outlinewidth\":0,\"ticks\":\"\"}},\"type\":\"scattermapbox\"}],\"scatterpolargl\":[{\"marker\":{\"colorbar\":{\"outlinewidth\":0,\"ticks\":\"\"}},\"type\":\"scatterpolargl\"}],\"scatterpolar\":[{\"marker\":{\"colorbar\":{\"outlinewidth\":0,\"ticks\":\"\"}},\"type\":\"scatterpolar\"}],\"scatter\":[{\"fillpattern\":{\"fillmode\":\"overlay\",\"size\":10,\"solidity\":0.2},\"type\":\"scatter\"}],\"scatterternary\":[{\"marker\":{\"colorbar\":{\"outlinewidth\":0,\"ticks\":\"\"}},\"type\":\"scatterternary\"}],\"surface\":[{\"colorbar\":{\"outlinewidth\":0,\"ticks\":\"\"},\"colorscale\":[[0.0,\"#0d0887\"],[0.1111111111111111,\"#46039f\"],[0.2222222222222222,\"#7201a8\"],[0.3333333333333333,\"#9c179e\"],[0.4444444444444444,\"#bd3786\"],[0.5555555555555556,\"#d8576b\"],[0.6666666666666666,\"#ed7953\"],[0.7777777777777778,\"#fb9f3a\"],[0.8888888888888888,\"#fdca26\"],[1.0,\"#f0f921\"]],\"type\":\"surface\"}],\"table\":[{\"cells\":{\"fill\":{\"color\":\"#EBF0F8\"},\"line\":{\"color\":\"white\"}},\"header\":{\"fill\":{\"color\":\"#C8D4E3\"},\"line\":{\"color\":\"white\"}},\"type\":\"table\"}]},\"layout\":{\"annotationdefaults\":{\"arrowcolor\":\"#2a3f5f\",\"arrowhead\":0,\"arrowwidth\":1},\"autotypenumbers\":\"strict\",\"coloraxis\":{\"colorbar\":{\"outlinewidth\":0,\"ticks\":\"\"}},\"colorscale\":{\"diverging\":[[0,\"#8e0152\"],[0.1,\"#c51b7d\"],[0.2,\"#de77ae\"],[0.3,\"#f1b6da\"],[0.4,\"#fde0ef\"],[0.5,\"#f7f7f7\"],[0.6,\"#e6f5d0\"],[0.7,\"#b8e186\"],[0.8,\"#7fbc41\"],[0.9,\"#4d9221\"],[1,\"#276419\"]],\"sequential\":[[0.0,\"#0d0887\"],[0.1111111111111111,\"#46039f\"],[0.2222222222222222,\"#7201a8\"],[0.3333333333333333,\"#9c179e\"],[0.4444444444444444,\"#bd3786\"],[0.5555555555555556,\"#d8576b\"],[0.6666666666666666,\"#ed7953\"],[0.7777777777777778,\"#fb9f3a\"],[0.8888888888888888,\"#fdca26\"],[1.0,\"#f0f921\"]],\"sequentialminus\":[[0.0,\"#0d0887\"],[0.1111111111111111,\"#46039f\"],[0.2222222222222222,\"#7201a8\"],[0.3333333333333333,\"#9c179e\"],[0.4444444444444444,\"#bd3786\"],[0.5555555555555556,\"#d8576b\"],[0.6666666666666666,\"#ed7953\"],[0.7777777777777778,\"#fb9f3a\"],[0.8888888888888888,\"#fdca26\"],[1.0,\"#f0f921\"]]},\"colorway\":[\"#636efa\",\"#EF553B\",\"#00cc96\",\"#ab63fa\",\"#FFA15A\",\"#19d3f3\",\"#FF6692\",\"#B6E880\",\"#FF97FF\",\"#FECB52\"],\"font\":{\"color\":\"#2a3f5f\"},\"geo\":{\"bgcolor\":\"white\",\"lakecolor\":\"white\",\"landcolor\":\"#E5ECF6\",\"showlakes\":true,\"showland\":true,\"subunitcolor\":\"white\"},\"hoverlabel\":{\"align\":\"left\"},\"hovermode\":\"closest\",\"mapbox\":{\"style\":\"light\"},\"paper_bgcolor\":\"white\",\"plot_bgcolor\":\"#E5ECF6\",\"polar\":{\"angularaxis\":{\"gridcolor\":\"white\",\"linecolor\":\"white\",\"ticks\":\"\"},\"bgcolor\":\"#E5ECF6\",\"radialaxis\":{\"gridcolor\":\"white\",\"linecolor\":\"white\",\"ticks\":\"\"}},\"scene\":{\"xaxis\":{\"backgroundcolor\":\"#E5ECF6\",\"gridcolor\":\"white\",\"gridwidth\":2,\"linecolor\":\"white\",\"showbackground\":true,\"ticks\":\"\",\"zerolinecolor\":\"white\"},\"yaxis\":{\"backgroundcolor\":\"#E5ECF6\",\"gridcolor\":\"white\",\"gridwidth\":2,\"linecolor\":\"white\",\"showbackground\":true,\"ticks\":\"\",\"zerolinecolor\":\"white\"},\"zaxis\":{\"backgroundcolor\":\"#E5ECF6\",\"gridcolor\":\"white\",\"gridwidth\":2,\"linecolor\":\"white\",\"showbackground\":true,\"ticks\":\"\",\"zerolinecolor\":\"white\"}},\"shapedefaults\":{\"line\":{\"color\":\"#2a3f5f\"}},\"ternary\":{\"aaxis\":{\"gridcolor\":\"white\",\"linecolor\":\"white\",\"ticks\":\"\"},\"baxis\":{\"gridcolor\":\"white\",\"linecolor\":\"white\",\"ticks\":\"\"},\"bgcolor\":\"#E5ECF6\",\"caxis\":{\"gridcolor\":\"white\",\"linecolor\":\"white\",\"ticks\":\"\"}},\"title\":{\"x\":0.05},\"xaxis\":{\"automargin\":true,\"gridcolor\":\"white\",\"linecolor\":\"white\",\"ticks\":\"\",\"title\":{\"standoff\":15},\"zerolinecolor\":\"white\",\"zerolinewidth\":2},\"yaxis\":{\"automargin\":true,\"gridcolor\":\"white\",\"linecolor\":\"white\",\"ticks\":\"\",\"title\":{\"standoff\":15},\"zerolinecolor\":\"white\",\"zerolinewidth\":2}}},\"title\":{\"font\":{\"color\":\"#4D5663\"}},\"xaxis\":{\"gridcolor\":\"#E1E5ED\",\"showgrid\":true,\"tickfont\":{\"color\":\"#4D5663\"},\"title\":{\"font\":{\"color\":\"#4D5663\"},\"text\":\"\"},\"zerolinecolor\":\"#E1E5ED\"},\"yaxis\":{\"gridcolor\":\"#E1E5ED\",\"showgrid\":true,\"tickfont\":{\"color\":\"#4D5663\"},\"title\":{\"font\":{\"color\":\"#4D5663\"},\"text\":\"\"},\"zerolinecolor\":\"#E1E5ED\"}},                        {\"showLink\": true, \"linkText\": \"Export to plot.ly\", \"plotlyServerURL\": \"https://plot.ly\", \"responsive\": true}                    ).then(function(){\n",
       "                            \n",
       "var gd = document.getElementById('e7ea053d-4a00-4b27-ac01-37fcce09e392');\n",
       "var x = new MutationObserver(function (mutations, observer) {{\n",
       "        var display = window.getComputedStyle(gd).display;\n",
       "        if (!display || display === 'none') {{\n",
       "            console.log([gd, 'removed!']);\n",
       "            Plotly.purge(gd);\n",
       "            observer.disconnect();\n",
       "        }}\n",
       "}});\n",
       "\n",
       "// Listen for the removal of the full notebook cells\n",
       "var notebookContainer = gd.closest('#notebook-container');\n",
       "if (notebookContainer) {{\n",
       "    x.observe(notebookContainer, {childList: true});\n",
       "}}\n",
       "\n",
       "// Listen for the clearing of the current output cell\n",
       "var outputEl = gd.closest('.output');\n",
       "if (outputEl) {{\n",
       "    x.observe(outputEl, {childList: true});\n",
       "}}\n",
       "\n",
       "                        })                };                });            </script>        </div>"
      ]
     },
     "metadata": {},
     "output_type": "display_data"
    }
   ],
   "source": [
    "df1.iplot(kind='scatter',x='A',y='B',mode='markers' , size=10)"
   ]
  },
  {
   "cell_type": "code",
   "execution_count": 121,
   "metadata": {},
   "outputs": [
    {
     "data": {
      "application/vnd.plotly.v1+json": {
       "config": {
        "linkText": "Export to plot.ly",
        "plotlyServerURL": "https://plot.ly",
        "showLink": true
       },
       "data": [
        {
         "marker": {
          "color": "rgba(255, 153, 51, 0.6)",
          "line": {
           "color": "rgba(255, 153, 51, 1.0)",
           "width": 1
          }
         },
         "name": "values",
         "orientation": "v",
         "text": "",
         "type": "bar",
         "x": [
          "A",
          "B",
          "C"
         ],
         "y": [
          32,
          43,
          50
         ]
        }
       ],
       "layout": {
        "legend": {
         "bgcolor": "#F5F6F9",
         "font": {
          "color": "#4D5663"
         }
        },
        "paper_bgcolor": "#F5F6F9",
        "plot_bgcolor": "#F5F6F9",
        "template": {
         "data": {
          "bar": [
           {
            "error_x": {
             "color": "#2a3f5f"
            },
            "error_y": {
             "color": "#2a3f5f"
            },
            "marker": {
             "line": {
              "color": "#E5ECF6",
              "width": 0.5
             },
             "pattern": {
              "fillmode": "overlay",
              "size": 10,
              "solidity": 0.2
             }
            },
            "type": "bar"
           }
          ],
          "barpolar": [
           {
            "marker": {
             "line": {
              "color": "#E5ECF6",
              "width": 0.5
             },
             "pattern": {
              "fillmode": "overlay",
              "size": 10,
              "solidity": 0.2
             }
            },
            "type": "barpolar"
           }
          ],
          "carpet": [
           {
            "aaxis": {
             "endlinecolor": "#2a3f5f",
             "gridcolor": "white",
             "linecolor": "white",
             "minorgridcolor": "white",
             "startlinecolor": "#2a3f5f"
            },
            "baxis": {
             "endlinecolor": "#2a3f5f",
             "gridcolor": "white",
             "linecolor": "white",
             "minorgridcolor": "white",
             "startlinecolor": "#2a3f5f"
            },
            "type": "carpet"
           }
          ],
          "choropleth": [
           {
            "colorbar": {
             "outlinewidth": 0,
             "ticks": ""
            },
            "type": "choropleth"
           }
          ],
          "contour": [
           {
            "colorbar": {
             "outlinewidth": 0,
             "ticks": ""
            },
            "colorscale": [
             [
              0,
              "#0d0887"
             ],
             [
              0.1111111111111111,
              "#46039f"
             ],
             [
              0.2222222222222222,
              "#7201a8"
             ],
             [
              0.3333333333333333,
              "#9c179e"
             ],
             [
              0.4444444444444444,
              "#bd3786"
             ],
             [
              0.5555555555555556,
              "#d8576b"
             ],
             [
              0.6666666666666666,
              "#ed7953"
             ],
             [
              0.7777777777777778,
              "#fb9f3a"
             ],
             [
              0.8888888888888888,
              "#fdca26"
             ],
             [
              1,
              "#f0f921"
             ]
            ],
            "type": "contour"
           }
          ],
          "contourcarpet": [
           {
            "colorbar": {
             "outlinewidth": 0,
             "ticks": ""
            },
            "type": "contourcarpet"
           }
          ],
          "heatmap": [
           {
            "colorbar": {
             "outlinewidth": 0,
             "ticks": ""
            },
            "colorscale": [
             [
              0,
              "#0d0887"
             ],
             [
              0.1111111111111111,
              "#46039f"
             ],
             [
              0.2222222222222222,
              "#7201a8"
             ],
             [
              0.3333333333333333,
              "#9c179e"
             ],
             [
              0.4444444444444444,
              "#bd3786"
             ],
             [
              0.5555555555555556,
              "#d8576b"
             ],
             [
              0.6666666666666666,
              "#ed7953"
             ],
             [
              0.7777777777777778,
              "#fb9f3a"
             ],
             [
              0.8888888888888888,
              "#fdca26"
             ],
             [
              1,
              "#f0f921"
             ]
            ],
            "type": "heatmap"
           }
          ],
          "heatmapgl": [
           {
            "colorbar": {
             "outlinewidth": 0,
             "ticks": ""
            },
            "colorscale": [
             [
              0,
              "#0d0887"
             ],
             [
              0.1111111111111111,
              "#46039f"
             ],
             [
              0.2222222222222222,
              "#7201a8"
             ],
             [
              0.3333333333333333,
              "#9c179e"
             ],
             [
              0.4444444444444444,
              "#bd3786"
             ],
             [
              0.5555555555555556,
              "#d8576b"
             ],
             [
              0.6666666666666666,
              "#ed7953"
             ],
             [
              0.7777777777777778,
              "#fb9f3a"
             ],
             [
              0.8888888888888888,
              "#fdca26"
             ],
             [
              1,
              "#f0f921"
             ]
            ],
            "type": "heatmapgl"
           }
          ],
          "histogram": [
           {
            "marker": {
             "pattern": {
              "fillmode": "overlay",
              "size": 10,
              "solidity": 0.2
             }
            },
            "type": "histogram"
           }
          ],
          "histogram2d": [
           {
            "colorbar": {
             "outlinewidth": 0,
             "ticks": ""
            },
            "colorscale": [
             [
              0,
              "#0d0887"
             ],
             [
              0.1111111111111111,
              "#46039f"
             ],
             [
              0.2222222222222222,
              "#7201a8"
             ],
             [
              0.3333333333333333,
              "#9c179e"
             ],
             [
              0.4444444444444444,
              "#bd3786"
             ],
             [
              0.5555555555555556,
              "#d8576b"
             ],
             [
              0.6666666666666666,
              "#ed7953"
             ],
             [
              0.7777777777777778,
              "#fb9f3a"
             ],
             [
              0.8888888888888888,
              "#fdca26"
             ],
             [
              1,
              "#f0f921"
             ]
            ],
            "type": "histogram2d"
           }
          ],
          "histogram2dcontour": [
           {
            "colorbar": {
             "outlinewidth": 0,
             "ticks": ""
            },
            "colorscale": [
             [
              0,
              "#0d0887"
             ],
             [
              0.1111111111111111,
              "#46039f"
             ],
             [
              0.2222222222222222,
              "#7201a8"
             ],
             [
              0.3333333333333333,
              "#9c179e"
             ],
             [
              0.4444444444444444,
              "#bd3786"
             ],
             [
              0.5555555555555556,
              "#d8576b"
             ],
             [
              0.6666666666666666,
              "#ed7953"
             ],
             [
              0.7777777777777778,
              "#fb9f3a"
             ],
             [
              0.8888888888888888,
              "#fdca26"
             ],
             [
              1,
              "#f0f921"
             ]
            ],
            "type": "histogram2dcontour"
           }
          ],
          "mesh3d": [
           {
            "colorbar": {
             "outlinewidth": 0,
             "ticks": ""
            },
            "type": "mesh3d"
           }
          ],
          "parcoords": [
           {
            "line": {
             "colorbar": {
              "outlinewidth": 0,
              "ticks": ""
             }
            },
            "type": "parcoords"
           }
          ],
          "pie": [
           {
            "automargin": true,
            "type": "pie"
           }
          ],
          "scatter": [
           {
            "fillpattern": {
             "fillmode": "overlay",
             "size": 10,
             "solidity": 0.2
            },
            "type": "scatter"
           }
          ],
          "scatter3d": [
           {
            "line": {
             "colorbar": {
              "outlinewidth": 0,
              "ticks": ""
             }
            },
            "marker": {
             "colorbar": {
              "outlinewidth": 0,
              "ticks": ""
             }
            },
            "type": "scatter3d"
           }
          ],
          "scattercarpet": [
           {
            "marker": {
             "colorbar": {
              "outlinewidth": 0,
              "ticks": ""
             }
            },
            "type": "scattercarpet"
           }
          ],
          "scattergeo": [
           {
            "marker": {
             "colorbar": {
              "outlinewidth": 0,
              "ticks": ""
             }
            },
            "type": "scattergeo"
           }
          ],
          "scattergl": [
           {
            "marker": {
             "colorbar": {
              "outlinewidth": 0,
              "ticks": ""
             }
            },
            "type": "scattergl"
           }
          ],
          "scattermapbox": [
           {
            "marker": {
             "colorbar": {
              "outlinewidth": 0,
              "ticks": ""
             }
            },
            "type": "scattermapbox"
           }
          ],
          "scatterpolar": [
           {
            "marker": {
             "colorbar": {
              "outlinewidth": 0,
              "ticks": ""
             }
            },
            "type": "scatterpolar"
           }
          ],
          "scatterpolargl": [
           {
            "marker": {
             "colorbar": {
              "outlinewidth": 0,
              "ticks": ""
             }
            },
            "type": "scatterpolargl"
           }
          ],
          "scatterternary": [
           {
            "marker": {
             "colorbar": {
              "outlinewidth": 0,
              "ticks": ""
             }
            },
            "type": "scatterternary"
           }
          ],
          "surface": [
           {
            "colorbar": {
             "outlinewidth": 0,
             "ticks": ""
            },
            "colorscale": [
             [
              0,
              "#0d0887"
             ],
             [
              0.1111111111111111,
              "#46039f"
             ],
             [
              0.2222222222222222,
              "#7201a8"
             ],
             [
              0.3333333333333333,
              "#9c179e"
             ],
             [
              0.4444444444444444,
              "#bd3786"
             ],
             [
              0.5555555555555556,
              "#d8576b"
             ],
             [
              0.6666666666666666,
              "#ed7953"
             ],
             [
              0.7777777777777778,
              "#fb9f3a"
             ],
             [
              0.8888888888888888,
              "#fdca26"
             ],
             [
              1,
              "#f0f921"
             ]
            ],
            "type": "surface"
           }
          ],
          "table": [
           {
            "cells": {
             "fill": {
              "color": "#EBF0F8"
             },
             "line": {
              "color": "white"
             }
            },
            "header": {
             "fill": {
              "color": "#C8D4E3"
             },
             "line": {
              "color": "white"
             }
            },
            "type": "table"
           }
          ]
         },
         "layout": {
          "annotationdefaults": {
           "arrowcolor": "#2a3f5f",
           "arrowhead": 0,
           "arrowwidth": 1
          },
          "autotypenumbers": "strict",
          "coloraxis": {
           "colorbar": {
            "outlinewidth": 0,
            "ticks": ""
           }
          },
          "colorscale": {
           "diverging": [
            [
             0,
             "#8e0152"
            ],
            [
             0.1,
             "#c51b7d"
            ],
            [
             0.2,
             "#de77ae"
            ],
            [
             0.3,
             "#f1b6da"
            ],
            [
             0.4,
             "#fde0ef"
            ],
            [
             0.5,
             "#f7f7f7"
            ],
            [
             0.6,
             "#e6f5d0"
            ],
            [
             0.7,
             "#b8e186"
            ],
            [
             0.8,
             "#7fbc41"
            ],
            [
             0.9,
             "#4d9221"
            ],
            [
             1,
             "#276419"
            ]
           ],
           "sequential": [
            [
             0,
             "#0d0887"
            ],
            [
             0.1111111111111111,
             "#46039f"
            ],
            [
             0.2222222222222222,
             "#7201a8"
            ],
            [
             0.3333333333333333,
             "#9c179e"
            ],
            [
             0.4444444444444444,
             "#bd3786"
            ],
            [
             0.5555555555555556,
             "#d8576b"
            ],
            [
             0.6666666666666666,
             "#ed7953"
            ],
            [
             0.7777777777777778,
             "#fb9f3a"
            ],
            [
             0.8888888888888888,
             "#fdca26"
            ],
            [
             1,
             "#f0f921"
            ]
           ],
           "sequentialminus": [
            [
             0,
             "#0d0887"
            ],
            [
             0.1111111111111111,
             "#46039f"
            ],
            [
             0.2222222222222222,
             "#7201a8"
            ],
            [
             0.3333333333333333,
             "#9c179e"
            ],
            [
             0.4444444444444444,
             "#bd3786"
            ],
            [
             0.5555555555555556,
             "#d8576b"
            ],
            [
             0.6666666666666666,
             "#ed7953"
            ],
            [
             0.7777777777777778,
             "#fb9f3a"
            ],
            [
             0.8888888888888888,
             "#fdca26"
            ],
            [
             1,
             "#f0f921"
            ]
           ]
          },
          "colorway": [
           "#636efa",
           "#EF553B",
           "#00cc96",
           "#ab63fa",
           "#FFA15A",
           "#19d3f3",
           "#FF6692",
           "#B6E880",
           "#FF97FF",
           "#FECB52"
          ],
          "font": {
           "color": "#2a3f5f"
          },
          "geo": {
           "bgcolor": "white",
           "lakecolor": "white",
           "landcolor": "#E5ECF6",
           "showlakes": true,
           "showland": true,
           "subunitcolor": "white"
          },
          "hoverlabel": {
           "align": "left"
          },
          "hovermode": "closest",
          "mapbox": {
           "style": "light"
          },
          "paper_bgcolor": "white",
          "plot_bgcolor": "#E5ECF6",
          "polar": {
           "angularaxis": {
            "gridcolor": "white",
            "linecolor": "white",
            "ticks": ""
           },
           "bgcolor": "#E5ECF6",
           "radialaxis": {
            "gridcolor": "white",
            "linecolor": "white",
            "ticks": ""
           }
          },
          "scene": {
           "xaxis": {
            "backgroundcolor": "#E5ECF6",
            "gridcolor": "white",
            "gridwidth": 2,
            "linecolor": "white",
            "showbackground": true,
            "ticks": "",
            "zerolinecolor": "white"
           },
           "yaxis": {
            "backgroundcolor": "#E5ECF6",
            "gridcolor": "white",
            "gridwidth": 2,
            "linecolor": "white",
            "showbackground": true,
            "ticks": "",
            "zerolinecolor": "white"
           },
           "zaxis": {
            "backgroundcolor": "#E5ECF6",
            "gridcolor": "white",
            "gridwidth": 2,
            "linecolor": "white",
            "showbackground": true,
            "ticks": "",
            "zerolinecolor": "white"
           }
          },
          "shapedefaults": {
           "line": {
            "color": "#2a3f5f"
           }
          },
          "ternary": {
           "aaxis": {
            "gridcolor": "white",
            "linecolor": "white",
            "ticks": ""
           },
           "baxis": {
            "gridcolor": "white",
            "linecolor": "white",
            "ticks": ""
           },
           "bgcolor": "#E5ECF6",
           "caxis": {
            "gridcolor": "white",
            "linecolor": "white",
            "ticks": ""
           }
          },
          "title": {
           "x": 0.05
          },
          "xaxis": {
           "automargin": true,
           "gridcolor": "white",
           "linecolor": "white",
           "ticks": "",
           "title": {
            "standoff": 15
           },
           "zerolinecolor": "white",
           "zerolinewidth": 2
          },
          "yaxis": {
           "automargin": true,
           "gridcolor": "white",
           "linecolor": "white",
           "ticks": "",
           "title": {
            "standoff": 15
           },
           "zerolinecolor": "white",
           "zerolinewidth": 2
          }
         }
        },
        "title": {
         "font": {
          "color": "#4D5663"
         }
        },
        "xaxis": {
         "gridcolor": "#E1E5ED",
         "showgrid": true,
         "tickfont": {
          "color": "#4D5663"
         },
         "title": {
          "font": {
           "color": "#4D5663"
          },
          "text": ""
         },
         "zerolinecolor": "#E1E5ED"
        },
        "yaxis": {
         "gridcolor": "#E1E5ED",
         "showgrid": true,
         "tickfont": {
          "color": "#4D5663"
         },
         "title": {
          "font": {
           "color": "#4D5663"
          },
          "text": ""
         },
         "zerolinecolor": "#E1E5ED"
        }
       }
      },
      "text/html": [
       "<div>                            <div id=\"087fa3f3-0810-4aca-bf39-968380ffbc4f\" class=\"plotly-graph-div\" style=\"height:525px; width:100%;\"></div>            <script type=\"text/javascript\">                require([\"plotly\"], function(Plotly) {                    window.PLOTLYENV=window.PLOTLYENV || {};\n",
       "                    window.PLOTLYENV.BASE_URL='https://plot.ly';                                    if (document.getElementById(\"087fa3f3-0810-4aca-bf39-968380ffbc4f\")) {                    Plotly.newPlot(                        \"087fa3f3-0810-4aca-bf39-968380ffbc4f\",                        [{\"marker\":{\"color\":\"rgba(255, 153, 51, 0.6)\",\"line\":{\"color\":\"rgba(255, 153, 51, 1.0)\",\"width\":1}},\"name\":\"values\",\"orientation\":\"v\",\"text\":\"\",\"x\":[\"A\",\"B\",\"C\"],\"y\":[32,43,50],\"type\":\"bar\"}],                        {\"legend\":{\"bgcolor\":\"#F5F6F9\",\"font\":{\"color\":\"#4D5663\"}},\"paper_bgcolor\":\"#F5F6F9\",\"plot_bgcolor\":\"#F5F6F9\",\"template\":{\"data\":{\"barpolar\":[{\"marker\":{\"line\":{\"color\":\"#E5ECF6\",\"width\":0.5},\"pattern\":{\"fillmode\":\"overlay\",\"size\":10,\"solidity\":0.2}},\"type\":\"barpolar\"}],\"bar\":[{\"error_x\":{\"color\":\"#2a3f5f\"},\"error_y\":{\"color\":\"#2a3f5f\"},\"marker\":{\"line\":{\"color\":\"#E5ECF6\",\"width\":0.5},\"pattern\":{\"fillmode\":\"overlay\",\"size\":10,\"solidity\":0.2}},\"type\":\"bar\"}],\"carpet\":[{\"aaxis\":{\"endlinecolor\":\"#2a3f5f\",\"gridcolor\":\"white\",\"linecolor\":\"white\",\"minorgridcolor\":\"white\",\"startlinecolor\":\"#2a3f5f\"},\"baxis\":{\"endlinecolor\":\"#2a3f5f\",\"gridcolor\":\"white\",\"linecolor\":\"white\",\"minorgridcolor\":\"white\",\"startlinecolor\":\"#2a3f5f\"},\"type\":\"carpet\"}],\"choropleth\":[{\"colorbar\":{\"outlinewidth\":0,\"ticks\":\"\"},\"type\":\"choropleth\"}],\"contourcarpet\":[{\"colorbar\":{\"outlinewidth\":0,\"ticks\":\"\"},\"type\":\"contourcarpet\"}],\"contour\":[{\"colorbar\":{\"outlinewidth\":0,\"ticks\":\"\"},\"colorscale\":[[0.0,\"#0d0887\"],[0.1111111111111111,\"#46039f\"],[0.2222222222222222,\"#7201a8\"],[0.3333333333333333,\"#9c179e\"],[0.4444444444444444,\"#bd3786\"],[0.5555555555555556,\"#d8576b\"],[0.6666666666666666,\"#ed7953\"],[0.7777777777777778,\"#fb9f3a\"],[0.8888888888888888,\"#fdca26\"],[1.0,\"#f0f921\"]],\"type\":\"contour\"}],\"heatmapgl\":[{\"colorbar\":{\"outlinewidth\":0,\"ticks\":\"\"},\"colorscale\":[[0.0,\"#0d0887\"],[0.1111111111111111,\"#46039f\"],[0.2222222222222222,\"#7201a8\"],[0.3333333333333333,\"#9c179e\"],[0.4444444444444444,\"#bd3786\"],[0.5555555555555556,\"#d8576b\"],[0.6666666666666666,\"#ed7953\"],[0.7777777777777778,\"#fb9f3a\"],[0.8888888888888888,\"#fdca26\"],[1.0,\"#f0f921\"]],\"type\":\"heatmapgl\"}],\"heatmap\":[{\"colorbar\":{\"outlinewidth\":0,\"ticks\":\"\"},\"colorscale\":[[0.0,\"#0d0887\"],[0.1111111111111111,\"#46039f\"],[0.2222222222222222,\"#7201a8\"],[0.3333333333333333,\"#9c179e\"],[0.4444444444444444,\"#bd3786\"],[0.5555555555555556,\"#d8576b\"],[0.6666666666666666,\"#ed7953\"],[0.7777777777777778,\"#fb9f3a\"],[0.8888888888888888,\"#fdca26\"],[1.0,\"#f0f921\"]],\"type\":\"heatmap\"}],\"histogram2dcontour\":[{\"colorbar\":{\"outlinewidth\":0,\"ticks\":\"\"},\"colorscale\":[[0.0,\"#0d0887\"],[0.1111111111111111,\"#46039f\"],[0.2222222222222222,\"#7201a8\"],[0.3333333333333333,\"#9c179e\"],[0.4444444444444444,\"#bd3786\"],[0.5555555555555556,\"#d8576b\"],[0.6666666666666666,\"#ed7953\"],[0.7777777777777778,\"#fb9f3a\"],[0.8888888888888888,\"#fdca26\"],[1.0,\"#f0f921\"]],\"type\":\"histogram2dcontour\"}],\"histogram2d\":[{\"colorbar\":{\"outlinewidth\":0,\"ticks\":\"\"},\"colorscale\":[[0.0,\"#0d0887\"],[0.1111111111111111,\"#46039f\"],[0.2222222222222222,\"#7201a8\"],[0.3333333333333333,\"#9c179e\"],[0.4444444444444444,\"#bd3786\"],[0.5555555555555556,\"#d8576b\"],[0.6666666666666666,\"#ed7953\"],[0.7777777777777778,\"#fb9f3a\"],[0.8888888888888888,\"#fdca26\"],[1.0,\"#f0f921\"]],\"type\":\"histogram2d\"}],\"histogram\":[{\"marker\":{\"pattern\":{\"fillmode\":\"overlay\",\"size\":10,\"solidity\":0.2}},\"type\":\"histogram\"}],\"mesh3d\":[{\"colorbar\":{\"outlinewidth\":0,\"ticks\":\"\"},\"type\":\"mesh3d\"}],\"parcoords\":[{\"line\":{\"colorbar\":{\"outlinewidth\":0,\"ticks\":\"\"}},\"type\":\"parcoords\"}],\"pie\":[{\"automargin\":true,\"type\":\"pie\"}],\"scatter3d\":[{\"line\":{\"colorbar\":{\"outlinewidth\":0,\"ticks\":\"\"}},\"marker\":{\"colorbar\":{\"outlinewidth\":0,\"ticks\":\"\"}},\"type\":\"scatter3d\"}],\"scattercarpet\":[{\"marker\":{\"colorbar\":{\"outlinewidth\":0,\"ticks\":\"\"}},\"type\":\"scattercarpet\"}],\"scattergeo\":[{\"marker\":{\"colorbar\":{\"outlinewidth\":0,\"ticks\":\"\"}},\"type\":\"scattergeo\"}],\"scattergl\":[{\"marker\":{\"colorbar\":{\"outlinewidth\":0,\"ticks\":\"\"}},\"type\":\"scattergl\"}],\"scattermapbox\":[{\"marker\":{\"colorbar\":{\"outlinewidth\":0,\"ticks\":\"\"}},\"type\":\"scattermapbox\"}],\"scatterpolargl\":[{\"marker\":{\"colorbar\":{\"outlinewidth\":0,\"ticks\":\"\"}},\"type\":\"scatterpolargl\"}],\"scatterpolar\":[{\"marker\":{\"colorbar\":{\"outlinewidth\":0,\"ticks\":\"\"}},\"type\":\"scatterpolar\"}],\"scatter\":[{\"fillpattern\":{\"fillmode\":\"overlay\",\"size\":10,\"solidity\":0.2},\"type\":\"scatter\"}],\"scatterternary\":[{\"marker\":{\"colorbar\":{\"outlinewidth\":0,\"ticks\":\"\"}},\"type\":\"scatterternary\"}],\"surface\":[{\"colorbar\":{\"outlinewidth\":0,\"ticks\":\"\"},\"colorscale\":[[0.0,\"#0d0887\"],[0.1111111111111111,\"#46039f\"],[0.2222222222222222,\"#7201a8\"],[0.3333333333333333,\"#9c179e\"],[0.4444444444444444,\"#bd3786\"],[0.5555555555555556,\"#d8576b\"],[0.6666666666666666,\"#ed7953\"],[0.7777777777777778,\"#fb9f3a\"],[0.8888888888888888,\"#fdca26\"],[1.0,\"#f0f921\"]],\"type\":\"surface\"}],\"table\":[{\"cells\":{\"fill\":{\"color\":\"#EBF0F8\"},\"line\":{\"color\":\"white\"}},\"header\":{\"fill\":{\"color\":\"#C8D4E3\"},\"line\":{\"color\":\"white\"}},\"type\":\"table\"}]},\"layout\":{\"annotationdefaults\":{\"arrowcolor\":\"#2a3f5f\",\"arrowhead\":0,\"arrowwidth\":1},\"autotypenumbers\":\"strict\",\"coloraxis\":{\"colorbar\":{\"outlinewidth\":0,\"ticks\":\"\"}},\"colorscale\":{\"diverging\":[[0,\"#8e0152\"],[0.1,\"#c51b7d\"],[0.2,\"#de77ae\"],[0.3,\"#f1b6da\"],[0.4,\"#fde0ef\"],[0.5,\"#f7f7f7\"],[0.6,\"#e6f5d0\"],[0.7,\"#b8e186\"],[0.8,\"#7fbc41\"],[0.9,\"#4d9221\"],[1,\"#276419\"]],\"sequential\":[[0.0,\"#0d0887\"],[0.1111111111111111,\"#46039f\"],[0.2222222222222222,\"#7201a8\"],[0.3333333333333333,\"#9c179e\"],[0.4444444444444444,\"#bd3786\"],[0.5555555555555556,\"#d8576b\"],[0.6666666666666666,\"#ed7953\"],[0.7777777777777778,\"#fb9f3a\"],[0.8888888888888888,\"#fdca26\"],[1.0,\"#f0f921\"]],\"sequentialminus\":[[0.0,\"#0d0887\"],[0.1111111111111111,\"#46039f\"],[0.2222222222222222,\"#7201a8\"],[0.3333333333333333,\"#9c179e\"],[0.4444444444444444,\"#bd3786\"],[0.5555555555555556,\"#d8576b\"],[0.6666666666666666,\"#ed7953\"],[0.7777777777777778,\"#fb9f3a\"],[0.8888888888888888,\"#fdca26\"],[1.0,\"#f0f921\"]]},\"colorway\":[\"#636efa\",\"#EF553B\",\"#00cc96\",\"#ab63fa\",\"#FFA15A\",\"#19d3f3\",\"#FF6692\",\"#B6E880\",\"#FF97FF\",\"#FECB52\"],\"font\":{\"color\":\"#2a3f5f\"},\"geo\":{\"bgcolor\":\"white\",\"lakecolor\":\"white\",\"landcolor\":\"#E5ECF6\",\"showlakes\":true,\"showland\":true,\"subunitcolor\":\"white\"},\"hoverlabel\":{\"align\":\"left\"},\"hovermode\":\"closest\",\"mapbox\":{\"style\":\"light\"},\"paper_bgcolor\":\"white\",\"plot_bgcolor\":\"#E5ECF6\",\"polar\":{\"angularaxis\":{\"gridcolor\":\"white\",\"linecolor\":\"white\",\"ticks\":\"\"},\"bgcolor\":\"#E5ECF6\",\"radialaxis\":{\"gridcolor\":\"white\",\"linecolor\":\"white\",\"ticks\":\"\"}},\"scene\":{\"xaxis\":{\"backgroundcolor\":\"#E5ECF6\",\"gridcolor\":\"white\",\"gridwidth\":2,\"linecolor\":\"white\",\"showbackground\":true,\"ticks\":\"\",\"zerolinecolor\":\"white\"},\"yaxis\":{\"backgroundcolor\":\"#E5ECF6\",\"gridcolor\":\"white\",\"gridwidth\":2,\"linecolor\":\"white\",\"showbackground\":true,\"ticks\":\"\",\"zerolinecolor\":\"white\"},\"zaxis\":{\"backgroundcolor\":\"#E5ECF6\",\"gridcolor\":\"white\",\"gridwidth\":2,\"linecolor\":\"white\",\"showbackground\":true,\"ticks\":\"\",\"zerolinecolor\":\"white\"}},\"shapedefaults\":{\"line\":{\"color\":\"#2a3f5f\"}},\"ternary\":{\"aaxis\":{\"gridcolor\":\"white\",\"linecolor\":\"white\",\"ticks\":\"\"},\"baxis\":{\"gridcolor\":\"white\",\"linecolor\":\"white\",\"ticks\":\"\"},\"bgcolor\":\"#E5ECF6\",\"caxis\":{\"gridcolor\":\"white\",\"linecolor\":\"white\",\"ticks\":\"\"}},\"title\":{\"x\":0.05},\"xaxis\":{\"automargin\":true,\"gridcolor\":\"white\",\"linecolor\":\"white\",\"ticks\":\"\",\"title\":{\"standoff\":15},\"zerolinecolor\":\"white\",\"zerolinewidth\":2},\"yaxis\":{\"automargin\":true,\"gridcolor\":\"white\",\"linecolor\":\"white\",\"ticks\":\"\",\"title\":{\"standoff\":15},\"zerolinecolor\":\"white\",\"zerolinewidth\":2}}},\"title\":{\"font\":{\"color\":\"#4D5663\"}},\"xaxis\":{\"gridcolor\":\"#E1E5ED\",\"showgrid\":true,\"tickfont\":{\"color\":\"#4D5663\"},\"title\":{\"font\":{\"color\":\"#4D5663\"},\"text\":\"\"},\"zerolinecolor\":\"#E1E5ED\"},\"yaxis\":{\"gridcolor\":\"#E1E5ED\",\"showgrid\":true,\"tickfont\":{\"color\":\"#4D5663\"},\"title\":{\"font\":{\"color\":\"#4D5663\"},\"text\":\"\"},\"zerolinecolor\":\"#E1E5ED\"}},                        {\"showLink\": true, \"linkText\": \"Export to plot.ly\", \"plotlyServerURL\": \"https://plot.ly\", \"responsive\": true}                    ).then(function(){\n",
       "                            \n",
       "var gd = document.getElementById('087fa3f3-0810-4aca-bf39-968380ffbc4f');\n",
       "var x = new MutationObserver(function (mutations, observer) {{\n",
       "        var display = window.getComputedStyle(gd).display;\n",
       "        if (!display || display === 'none') {{\n",
       "            console.log([gd, 'removed!']);\n",
       "            Plotly.purge(gd);\n",
       "            observer.disconnect();\n",
       "        }}\n",
       "}});\n",
       "\n",
       "// Listen for the removal of the full notebook cells\n",
       "var notebookContainer = gd.closest('#notebook-container');\n",
       "if (notebookContainer) {{\n",
       "    x.observe(notebookContainer, {childList: true});\n",
       "}}\n",
       "\n",
       "// Listen for the clearing of the current output cell\n",
       "var outputEl = gd.closest('.output');\n",
       "if (outputEl) {{\n",
       "    x.observe(outputEl, {childList: true});\n",
       "}}\n",
       "\n",
       "                        })                };                });            </script>        </div>"
      ]
     },
     "metadata": {},
     "output_type": "display_data"
    }
   ],
   "source": [
    "df2.iplot(kind='bar', x='Categories', y='values')"
   ]
  },
  {
   "cell_type": "code",
   "execution_count": 122,
   "metadata": {},
   "outputs": [
    {
     "data": {
      "application/vnd.plotly.v1+json": {
       "config": {
        "linkText": "Export to plot.ly",
        "plotlyServerURL": "https://plot.ly",
        "showLink": true
       },
       "data": [
        {
         "boxpoints": false,
         "line": {
          "width": 1.3
         },
         "marker": {
          "color": "rgba(255, 153, 51, 1.0)"
         },
         "name": "A",
         "orientation": "v",
         "type": "box",
         "y": [
          -1.3731688173621832,
          -0.5236780566901539,
          -0.2456701124803259,
          -1.6380423135313602,
          0.9982274092034623,
          -1.15307228039646,
          -1.5618663632408445,
          0.8200192727725714,
          0.4896820037700569,
          -1.7515717647801263,
          -0.06337162209812126,
          -0.3710804808800396,
          1.334041593001444,
          -0.749371267093215,
          -0.08678441228771756,
          -1.8822514238319927,
          -0.934430313200707,
          -0.19847237614294302,
          -0.20675616177675002,
          0.8819335976960104,
          0.023120137660321772,
          -0.0937663221763038,
          1.0062716328804868,
          -0.7527872553381383,
          -1.711418215864383,
          -2.6231263089537467,
          0.5353519665610029,
          1.3611088323596643,
          -1.5553755052553273,
          -0.7900789027259035,
          -0.112099598614191,
          -0.7765022974880906,
          -1.0095700680916018,
          0.12751898362424638,
          0.48523254289941636,
          -0.08758679656614751,
          -0.6405700377096745,
          0.4508096744210774,
          -0.17729227464359826,
          -1.3703372018763402,
          0.35822387093041075,
          0.011425989559393415,
          -2.2806654962681123,
          -0.418647724918048,
          1.0416519990770345,
          -0.003226566833624996,
          -0.8009773563696257,
          -0.8028488879372703,
          0.4403941548182696,
          -0.6460565332446022,
          -1.0538901952212936,
          -0.02941339682476033,
          -0.17880153658567707,
          1.5504066876349598,
          -0.06515519216521365,
          0.2634552678872701,
          1.221545929144533,
          0.41801716583001197,
          1.5706085556631733,
          -0.5735845823969875,
          -0.8820952994521086,
          0.3274408658812476,
          0.0909898204822451,
          -2.353670135079995,
          -0.3661806770483226,
          -0.9498676077976055,
          -1.0564185103175003,
          -1.0333840929678313,
          0.14215218947690056,
          -2.024164960776577,
          -0.5104641477871487,
          0.5231634935646545,
          -0.752271124788865,
          -1.431441600474087,
          0.13510742157296052,
          0.5017877946333005,
          0.3659653905102098,
          0.07018885629698855,
          2.2459148212296487,
          0.6786454586708808,
          0.9490166345640043,
          -1.9094775520083493,
          1.728290787905516,
          0.6398327487317317,
          0.3544085374865336,
          0.11432799574217735,
          0.6589381343247359,
          0.10346767508405878,
          -1.1038727497628804,
          -0.5099896964508587,
          0.5867887413460539,
          -0.7522432291170378,
          -1.2458288997869245,
          -1.4730026290167162,
          0.16962320435120895,
          0.964513413489719,
          1.1079062496024767,
          -0.32293074154054024,
          -0.7015479463603599,
          2.1010850453068697
         ]
        },
        {
         "boxpoints": false,
         "line": {
          "width": 1.3
         },
         "marker": {
          "color": "rgba(55, 128, 191, 1.0)"
         },
         "name": "B",
         "orientation": "v",
         "type": "box",
         "y": [
          -0.26049029456912903,
          -0.09714763269974377,
          0.8111103731791115,
          -1.9092793360910076,
          -0.7021805233979893,
          1.7113569273657838,
          0.5577059895260462,
          -0.04010677492691884,
          -0.6031994783562596,
          -1.0151465414034821,
          -0.65977071844508,
          -0.11373213297939189,
          -0.17642103201371448,
          -1.3127870983774748,
          -0.8121667700648396,
          0.3562560593913871,
          0.115787656807456,
          2.0304725698965473,
          -1.8962460120140843,
          -1.695481979037778,
          0.083227127103031,
          -1.6072152006989198,
          -0.791909505896926,
          -0.00226257065607172,
          0.789055363306743,
          1.6384186774393954,
          -0.9141297129748618,
          0.34878907759418426,
          1.3992320086007244,
          -1.6551017310853946,
          0.2196602310642125,
          1.2934294942744322,
          0.6188203489615133,
          -1.0477234555721597,
          0.8342357072623097,
          1.5704168087418544,
          -1.4090025076121278,
          -2.118052083579081,
          -0.2333452338485016,
          -0.07709603866845373,
          -2.8072073735768845,
          -1.687428945991679,
          -1.159580191150825,
          1.304971913099211,
          -2.6664369761159477,
          0.0006285483518210876,
          -0.22704157391863877,
          1.5959235424772875,
          0.5226701132725071,
          -0.32349048754336457,
          0.17185896219907654,
          -0.11097559458142076,
          1.032166153297779,
          -0.7377867289133496,
          -1.205653112465707,
          0.08034586127001102,
          1.0494964020796176,
          0.5737773994926414,
          1.0679595026820368,
          0.2078110294449889,
          0.497964687170021,
          -1.0040946242420055,
          1.641018339402369,
          0.6987039146589529,
          -1.5910510766375996,
          1.0567069686542072,
          0.7215190478611012,
          0.6853744281025479,
          0.34932033732412204,
          0.08720879431656639,
          -0.7592345849283544,
          -0.5346034111574133,
          0.6203389986553872,
          0.055895501280625454,
          -1.2586433955714882,
          -1.4507327058899393,
          -0.5067603413460747,
          0.22285324461662986,
          1.2794806218555201,
          -0.5698953891946154,
          1.1666766260353854,
          -0.2748556337601546,
          0.3689062378985249,
          -0.22443208712326157,
          -2.6892222066069196,
          -0.6277102895697781,
          0.9948207097804131,
          2.006791303963984,
          -2.215807367364074,
          -0.36815272094188445,
          -2.0368053672881525,
          -1.4043787604355018,
          -0.6741811066408415,
          1.895508785899313,
          1.2781476020982228,
          1.6513382173909747,
          -2.6044397766828005,
          0.24020400275439163,
          -0.5693768063211105,
          0.934438743225109
         ]
        },
        {
         "boxpoints": false,
         "line": {
          "width": 1.3
         },
         "marker": {
          "color": "rgba(50, 171, 96, 1.0)"
         },
         "name": "C",
         "orientation": "v",
         "type": "box",
         "y": [
          1.016137061958665,
          -0.5420245082783235,
          -0.6555275772055192,
          -0.17482452802721207,
          -0.20966175827607628,
          1.1268451015087522,
          -0.3573421160038608,
          -0.1283955674793992,
          -0.966809172726611,
          1.1076046408037203,
          -0.3857180761673435,
          0.10751028698545406,
          -0.0722654270370262,
          0.5027412369328366,
          0.4586151070738453,
          -0.31358236684132984,
          -0.7294415911860292,
          0.46889357343171045,
          1.6289993484803935,
          -0.13196937501181366,
          0.13903276441007126,
          -1.8065516586311317,
          0.015244035509171621,
          -0.6693807883877644,
          -1.1417766658491864,
          -0.08255553128388488,
          -0.8202482353376133,
          -1.1406918804712243,
          1.964067336106461,
          -0.9258080012830326,
          -0.1446993961232515,
          1.3722685370982728,
          1.0744640309311915,
          -0.13315007362248654,
          -0.24258199731695324,
          -2.434755966203868,
          1.249588245085047,
          -1.9159706351612598,
          0.9028452338965627,
          0.09709163764319628,
          -1.4915115361349514,
          -0.08131167965299389,
          -0.3533067773683644,
          0.43875369576612405,
          0.16403251203894895,
          0.3327188025830961,
          0.09824955382014505,
          0.25413148419195647,
          -0.8255273384617694,
          1.1502405310973927,
          -0.23663503779656808,
          -0.10375558656850428,
          0.29597100192381026,
          0.161902165064038,
          0.8746088623238746,
          -0.4313027123686213,
          -1.5522117256973411,
          1.5822264544410984,
          -0.2100548377789055,
          -0.11466768195239925,
          0.7693212034474219,
          -0.5239181221597862,
          -0.29627797449795956,
          -0.7872581356661098,
          -0.08259776401178255,
          -0.16190735298564957,
          1.0400236333371244,
          0.7016475467736071,
          1.6061385761185691,
          -0.09389196044606382,
          -2.2984771444784005,
          1.332637670768821,
          1.4260586545811833,
          0.4993956785585622,
          -0.9885025824410877,
          -1.1500950277274034,
          0.027440551493462317,
          -0.7152163964368956,
          -0.22254785386403808,
          1.3578697515859321,
          0.7795183721417863,
          -1.0941700641779113,
          -0.3691504402687209,
          -0.17252910270078434,
          -0.22910576496372098,
          -0.5535653063181362,
          -0.11246827447795366,
          -0.5004601639160561,
          1.3972684184213935,
          0.5826640975314333,
          -0.3704108210274508,
          -0.5791163044118627,
          -1.5688427193366512,
          0.9128795909915046,
          0.23049311480694276,
          0.02602262547334177,
          2.390872078118632,
          0.8265186912628907,
          1.1563445322537906,
          0.1929179183525035
         ]
        },
        {
         "boxpoints": false,
         "line": {
          "width": 1.3
         },
         "marker": {
          "color": "rgba(128, 0, 128, 1.0)"
         },
         "name": "D",
         "orientation": "v",
         "type": "box",
         "y": [
          0.3678728199360895,
          0.7770397311008759,
          -0.31161412554319096,
          0.36109033817175823,
          1.0958105195636665,
          -0.6153494161962141,
          0.3733739029607547,
          0.7208029853625418,
          -1.6601967483822941,
          0.5812737043064377,
          2.3976288441646996,
          -2.2775623051411698,
          -1.3700067916658192,
          0.6724836769454864,
          0.6545862845642076,
          0.8608767566123184,
          -1.0038117731243594,
          0.2654092394720436,
          0.23271099141093987,
          1.0166224389242902,
          -0.2302243018740462,
          0.38887841341583407,
          -1.1744585970201085,
          -0.3288681829338943,
          0.4320913263467357,
          0.5363338760370511,
          -0.954588837116522,
          -0.9060180130129888,
          0.08258657852706816,
          0.8690618739895999,
          -0.07454312360867822,
          0.9069401158057482,
          0.8525847408135002,
          1.7008325595940121,
          -0.31927820901311404,
          2.5839018710271704,
          -0.6615241474077949,
          -0.3513113384047537,
          -1.6447064505626163,
          -0.3381746996970631,
          0.5185703280206443,
          -0.4126600899710108,
          1.111412826450472,
          -2.1811768624324954,
          -0.7390562258230423,
          -0.19691431987782637,
          -0.8564461074613374,
          -0.2658143784041566,
          -2.63333719441065,
          1.0166617842654235,
          0.5440607019805058,
          -0.3238076409135922,
          2.301811968058974,
          0.23585547206087806,
          -0.22523633643882646,
          -0.11678596070999779,
          0.12578899821333514,
          -1.266448176678349,
          1.840156190143387,
          0.7934607654229933,
          -0.879040372028926,
          0.1106176772142058,
          0.7232055158481039,
          1.143955728091707,
          -0.6922408053305052,
          0.17111181715903606,
          1.1752227121361831,
          0.5149017248635412,
          -0.29239279311857286,
          -0.9431186110891314,
          0.6890241907223393,
          -2.736800800781161,
          -0.09193453540823339,
          0.9031472571354823,
          -1.328816012502861,
          -0.907777189110073,
          -0.6471404454248375,
          -0.21980395293017788,
          -0.6742557662560115,
          -1.080899671209913,
          -0.33771811051318523,
          -0.778554295537802,
          -1.0784224433638752,
          -0.2522855225757112,
          -0.34230578532068723,
          -0.0765594929956213,
          -0.1897062808846173,
          0.9551877414597707,
          0.030419844757999685,
          0.360806273631684,
          0.7774964204857886,
          -0.5182793271816202,
          -0.6459736843376598,
          0.13782438188531929,
          1.2245544210274506,
          -0.4206696236845781,
          0.11823720416357132,
          -0.11183220579060686,
          -1.6093667900712743,
          -0.8601587836879706
         ]
        }
       ],
       "layout": {
        "legend": {
         "bgcolor": "#F5F6F9",
         "font": {
          "color": "#4D5663"
         }
        },
        "paper_bgcolor": "#F5F6F9",
        "plot_bgcolor": "#F5F6F9",
        "template": {
         "data": {
          "bar": [
           {
            "error_x": {
             "color": "#2a3f5f"
            },
            "error_y": {
             "color": "#2a3f5f"
            },
            "marker": {
             "line": {
              "color": "#E5ECF6",
              "width": 0.5
             },
             "pattern": {
              "fillmode": "overlay",
              "size": 10,
              "solidity": 0.2
             }
            },
            "type": "bar"
           }
          ],
          "barpolar": [
           {
            "marker": {
             "line": {
              "color": "#E5ECF6",
              "width": 0.5
             },
             "pattern": {
              "fillmode": "overlay",
              "size": 10,
              "solidity": 0.2
             }
            },
            "type": "barpolar"
           }
          ],
          "carpet": [
           {
            "aaxis": {
             "endlinecolor": "#2a3f5f",
             "gridcolor": "white",
             "linecolor": "white",
             "minorgridcolor": "white",
             "startlinecolor": "#2a3f5f"
            },
            "baxis": {
             "endlinecolor": "#2a3f5f",
             "gridcolor": "white",
             "linecolor": "white",
             "minorgridcolor": "white",
             "startlinecolor": "#2a3f5f"
            },
            "type": "carpet"
           }
          ],
          "choropleth": [
           {
            "colorbar": {
             "outlinewidth": 0,
             "ticks": ""
            },
            "type": "choropleth"
           }
          ],
          "contour": [
           {
            "colorbar": {
             "outlinewidth": 0,
             "ticks": ""
            },
            "colorscale": [
             [
              0,
              "#0d0887"
             ],
             [
              0.1111111111111111,
              "#46039f"
             ],
             [
              0.2222222222222222,
              "#7201a8"
             ],
             [
              0.3333333333333333,
              "#9c179e"
             ],
             [
              0.4444444444444444,
              "#bd3786"
             ],
             [
              0.5555555555555556,
              "#d8576b"
             ],
             [
              0.6666666666666666,
              "#ed7953"
             ],
             [
              0.7777777777777778,
              "#fb9f3a"
             ],
             [
              0.8888888888888888,
              "#fdca26"
             ],
             [
              1,
              "#f0f921"
             ]
            ],
            "type": "contour"
           }
          ],
          "contourcarpet": [
           {
            "colorbar": {
             "outlinewidth": 0,
             "ticks": ""
            },
            "type": "contourcarpet"
           }
          ],
          "heatmap": [
           {
            "colorbar": {
             "outlinewidth": 0,
             "ticks": ""
            },
            "colorscale": [
             [
              0,
              "#0d0887"
             ],
             [
              0.1111111111111111,
              "#46039f"
             ],
             [
              0.2222222222222222,
              "#7201a8"
             ],
             [
              0.3333333333333333,
              "#9c179e"
             ],
             [
              0.4444444444444444,
              "#bd3786"
             ],
             [
              0.5555555555555556,
              "#d8576b"
             ],
             [
              0.6666666666666666,
              "#ed7953"
             ],
             [
              0.7777777777777778,
              "#fb9f3a"
             ],
             [
              0.8888888888888888,
              "#fdca26"
             ],
             [
              1,
              "#f0f921"
             ]
            ],
            "type": "heatmap"
           }
          ],
          "heatmapgl": [
           {
            "colorbar": {
             "outlinewidth": 0,
             "ticks": ""
            },
            "colorscale": [
             [
              0,
              "#0d0887"
             ],
             [
              0.1111111111111111,
              "#46039f"
             ],
             [
              0.2222222222222222,
              "#7201a8"
             ],
             [
              0.3333333333333333,
              "#9c179e"
             ],
             [
              0.4444444444444444,
              "#bd3786"
             ],
             [
              0.5555555555555556,
              "#d8576b"
             ],
             [
              0.6666666666666666,
              "#ed7953"
             ],
             [
              0.7777777777777778,
              "#fb9f3a"
             ],
             [
              0.8888888888888888,
              "#fdca26"
             ],
             [
              1,
              "#f0f921"
             ]
            ],
            "type": "heatmapgl"
           }
          ],
          "histogram": [
           {
            "marker": {
             "pattern": {
              "fillmode": "overlay",
              "size": 10,
              "solidity": 0.2
             }
            },
            "type": "histogram"
           }
          ],
          "histogram2d": [
           {
            "colorbar": {
             "outlinewidth": 0,
             "ticks": ""
            },
            "colorscale": [
             [
              0,
              "#0d0887"
             ],
             [
              0.1111111111111111,
              "#46039f"
             ],
             [
              0.2222222222222222,
              "#7201a8"
             ],
             [
              0.3333333333333333,
              "#9c179e"
             ],
             [
              0.4444444444444444,
              "#bd3786"
             ],
             [
              0.5555555555555556,
              "#d8576b"
             ],
             [
              0.6666666666666666,
              "#ed7953"
             ],
             [
              0.7777777777777778,
              "#fb9f3a"
             ],
             [
              0.8888888888888888,
              "#fdca26"
             ],
             [
              1,
              "#f0f921"
             ]
            ],
            "type": "histogram2d"
           }
          ],
          "histogram2dcontour": [
           {
            "colorbar": {
             "outlinewidth": 0,
             "ticks": ""
            },
            "colorscale": [
             [
              0,
              "#0d0887"
             ],
             [
              0.1111111111111111,
              "#46039f"
             ],
             [
              0.2222222222222222,
              "#7201a8"
             ],
             [
              0.3333333333333333,
              "#9c179e"
             ],
             [
              0.4444444444444444,
              "#bd3786"
             ],
             [
              0.5555555555555556,
              "#d8576b"
             ],
             [
              0.6666666666666666,
              "#ed7953"
             ],
             [
              0.7777777777777778,
              "#fb9f3a"
             ],
             [
              0.8888888888888888,
              "#fdca26"
             ],
             [
              1,
              "#f0f921"
             ]
            ],
            "type": "histogram2dcontour"
           }
          ],
          "mesh3d": [
           {
            "colorbar": {
             "outlinewidth": 0,
             "ticks": ""
            },
            "type": "mesh3d"
           }
          ],
          "parcoords": [
           {
            "line": {
             "colorbar": {
              "outlinewidth": 0,
              "ticks": ""
             }
            },
            "type": "parcoords"
           }
          ],
          "pie": [
           {
            "automargin": true,
            "type": "pie"
           }
          ],
          "scatter": [
           {
            "fillpattern": {
             "fillmode": "overlay",
             "size": 10,
             "solidity": 0.2
            },
            "type": "scatter"
           }
          ],
          "scatter3d": [
           {
            "line": {
             "colorbar": {
              "outlinewidth": 0,
              "ticks": ""
             }
            },
            "marker": {
             "colorbar": {
              "outlinewidth": 0,
              "ticks": ""
             }
            },
            "type": "scatter3d"
           }
          ],
          "scattercarpet": [
           {
            "marker": {
             "colorbar": {
              "outlinewidth": 0,
              "ticks": ""
             }
            },
            "type": "scattercarpet"
           }
          ],
          "scattergeo": [
           {
            "marker": {
             "colorbar": {
              "outlinewidth": 0,
              "ticks": ""
             }
            },
            "type": "scattergeo"
           }
          ],
          "scattergl": [
           {
            "marker": {
             "colorbar": {
              "outlinewidth": 0,
              "ticks": ""
             }
            },
            "type": "scattergl"
           }
          ],
          "scattermapbox": [
           {
            "marker": {
             "colorbar": {
              "outlinewidth": 0,
              "ticks": ""
             }
            },
            "type": "scattermapbox"
           }
          ],
          "scatterpolar": [
           {
            "marker": {
             "colorbar": {
              "outlinewidth": 0,
              "ticks": ""
             }
            },
            "type": "scatterpolar"
           }
          ],
          "scatterpolargl": [
           {
            "marker": {
             "colorbar": {
              "outlinewidth": 0,
              "ticks": ""
             }
            },
            "type": "scatterpolargl"
           }
          ],
          "scatterternary": [
           {
            "marker": {
             "colorbar": {
              "outlinewidth": 0,
              "ticks": ""
             }
            },
            "type": "scatterternary"
           }
          ],
          "surface": [
           {
            "colorbar": {
             "outlinewidth": 0,
             "ticks": ""
            },
            "colorscale": [
             [
              0,
              "#0d0887"
             ],
             [
              0.1111111111111111,
              "#46039f"
             ],
             [
              0.2222222222222222,
              "#7201a8"
             ],
             [
              0.3333333333333333,
              "#9c179e"
             ],
             [
              0.4444444444444444,
              "#bd3786"
             ],
             [
              0.5555555555555556,
              "#d8576b"
             ],
             [
              0.6666666666666666,
              "#ed7953"
             ],
             [
              0.7777777777777778,
              "#fb9f3a"
             ],
             [
              0.8888888888888888,
              "#fdca26"
             ],
             [
              1,
              "#f0f921"
             ]
            ],
            "type": "surface"
           }
          ],
          "table": [
           {
            "cells": {
             "fill": {
              "color": "#EBF0F8"
             },
             "line": {
              "color": "white"
             }
            },
            "header": {
             "fill": {
              "color": "#C8D4E3"
             },
             "line": {
              "color": "white"
             }
            },
            "type": "table"
           }
          ]
         },
         "layout": {
          "annotationdefaults": {
           "arrowcolor": "#2a3f5f",
           "arrowhead": 0,
           "arrowwidth": 1
          },
          "autotypenumbers": "strict",
          "coloraxis": {
           "colorbar": {
            "outlinewidth": 0,
            "ticks": ""
           }
          },
          "colorscale": {
           "diverging": [
            [
             0,
             "#8e0152"
            ],
            [
             0.1,
             "#c51b7d"
            ],
            [
             0.2,
             "#de77ae"
            ],
            [
             0.3,
             "#f1b6da"
            ],
            [
             0.4,
             "#fde0ef"
            ],
            [
             0.5,
             "#f7f7f7"
            ],
            [
             0.6,
             "#e6f5d0"
            ],
            [
             0.7,
             "#b8e186"
            ],
            [
             0.8,
             "#7fbc41"
            ],
            [
             0.9,
             "#4d9221"
            ],
            [
             1,
             "#276419"
            ]
           ],
           "sequential": [
            [
             0,
             "#0d0887"
            ],
            [
             0.1111111111111111,
             "#46039f"
            ],
            [
             0.2222222222222222,
             "#7201a8"
            ],
            [
             0.3333333333333333,
             "#9c179e"
            ],
            [
             0.4444444444444444,
             "#bd3786"
            ],
            [
             0.5555555555555556,
             "#d8576b"
            ],
            [
             0.6666666666666666,
             "#ed7953"
            ],
            [
             0.7777777777777778,
             "#fb9f3a"
            ],
            [
             0.8888888888888888,
             "#fdca26"
            ],
            [
             1,
             "#f0f921"
            ]
           ],
           "sequentialminus": [
            [
             0,
             "#0d0887"
            ],
            [
             0.1111111111111111,
             "#46039f"
            ],
            [
             0.2222222222222222,
             "#7201a8"
            ],
            [
             0.3333333333333333,
             "#9c179e"
            ],
            [
             0.4444444444444444,
             "#bd3786"
            ],
            [
             0.5555555555555556,
             "#d8576b"
            ],
            [
             0.6666666666666666,
             "#ed7953"
            ],
            [
             0.7777777777777778,
             "#fb9f3a"
            ],
            [
             0.8888888888888888,
             "#fdca26"
            ],
            [
             1,
             "#f0f921"
            ]
           ]
          },
          "colorway": [
           "#636efa",
           "#EF553B",
           "#00cc96",
           "#ab63fa",
           "#FFA15A",
           "#19d3f3",
           "#FF6692",
           "#B6E880",
           "#FF97FF",
           "#FECB52"
          ],
          "font": {
           "color": "#2a3f5f"
          },
          "geo": {
           "bgcolor": "white",
           "lakecolor": "white",
           "landcolor": "#E5ECF6",
           "showlakes": true,
           "showland": true,
           "subunitcolor": "white"
          },
          "hoverlabel": {
           "align": "left"
          },
          "hovermode": "closest",
          "mapbox": {
           "style": "light"
          },
          "paper_bgcolor": "white",
          "plot_bgcolor": "#E5ECF6",
          "polar": {
           "angularaxis": {
            "gridcolor": "white",
            "linecolor": "white",
            "ticks": ""
           },
           "bgcolor": "#E5ECF6",
           "radialaxis": {
            "gridcolor": "white",
            "linecolor": "white",
            "ticks": ""
           }
          },
          "scene": {
           "xaxis": {
            "backgroundcolor": "#E5ECF6",
            "gridcolor": "white",
            "gridwidth": 2,
            "linecolor": "white",
            "showbackground": true,
            "ticks": "",
            "zerolinecolor": "white"
           },
           "yaxis": {
            "backgroundcolor": "#E5ECF6",
            "gridcolor": "white",
            "gridwidth": 2,
            "linecolor": "white",
            "showbackground": true,
            "ticks": "",
            "zerolinecolor": "white"
           },
           "zaxis": {
            "backgroundcolor": "#E5ECF6",
            "gridcolor": "white",
            "gridwidth": 2,
            "linecolor": "white",
            "showbackground": true,
            "ticks": "",
            "zerolinecolor": "white"
           }
          },
          "shapedefaults": {
           "line": {
            "color": "#2a3f5f"
           }
          },
          "ternary": {
           "aaxis": {
            "gridcolor": "white",
            "linecolor": "white",
            "ticks": ""
           },
           "baxis": {
            "gridcolor": "white",
            "linecolor": "white",
            "ticks": ""
           },
           "bgcolor": "#E5ECF6",
           "caxis": {
            "gridcolor": "white",
            "linecolor": "white",
            "ticks": ""
           }
          },
          "title": {
           "x": 0.05
          },
          "xaxis": {
           "automargin": true,
           "gridcolor": "white",
           "linecolor": "white",
           "ticks": "",
           "title": {
            "standoff": 15
           },
           "zerolinecolor": "white",
           "zerolinewidth": 2
          },
          "yaxis": {
           "automargin": true,
           "gridcolor": "white",
           "linecolor": "white",
           "ticks": "",
           "title": {
            "standoff": 15
           },
           "zerolinecolor": "white",
           "zerolinewidth": 2
          }
         }
        },
        "title": {
         "font": {
          "color": "#4D5663"
         }
        },
        "xaxis": {
         "gridcolor": "#E1E5ED",
         "showgrid": true,
         "tickfont": {
          "color": "#4D5663"
         },
         "title": {
          "font": {
           "color": "#4D5663"
          },
          "text": ""
         },
         "zerolinecolor": "#E1E5ED"
        },
        "yaxis": {
         "gridcolor": "#E1E5ED",
         "showgrid": true,
         "tickfont": {
          "color": "#4D5663"
         },
         "title": {
          "font": {
           "color": "#4D5663"
          },
          "text": ""
         },
         "zerolinecolor": "#E1E5ED"
        }
       }
      },
      "text/html": [
       "<div>                            <div id=\"51aa7363-732f-468d-bfa9-206d7a96f666\" class=\"plotly-graph-div\" style=\"height:525px; width:100%;\"></div>            <script type=\"text/javascript\">                require([\"plotly\"], function(Plotly) {                    window.PLOTLYENV=window.PLOTLYENV || {};\n",
       "                    window.PLOTLYENV.BASE_URL='https://plot.ly';                                    if (document.getElementById(\"51aa7363-732f-468d-bfa9-206d7a96f666\")) {                    Plotly.newPlot(                        \"51aa7363-732f-468d-bfa9-206d7a96f666\",                        [{\"boxpoints\":false,\"line\":{\"width\":1.3},\"marker\":{\"color\":\"rgba(255, 153, 51, 1.0)\"},\"name\":\"A\",\"orientation\":\"v\",\"y\":[-1.3731688173621832,-0.5236780566901539,-0.2456701124803259,-1.6380423135313602,0.9982274092034623,-1.15307228039646,-1.5618663632408445,0.8200192727725714,0.4896820037700569,-1.7515717647801263,-0.06337162209812126,-0.3710804808800396,1.334041593001444,-0.749371267093215,-0.08678441228771756,-1.8822514238319927,-0.934430313200707,-0.19847237614294302,-0.20675616177675002,0.8819335976960104,0.023120137660321772,-0.0937663221763038,1.0062716328804868,-0.7527872553381383,-1.711418215864383,-2.6231263089537467,0.5353519665610029,1.3611088323596643,-1.5553755052553273,-0.7900789027259035,-0.112099598614191,-0.7765022974880906,-1.0095700680916018,0.12751898362424638,0.48523254289941636,-0.08758679656614751,-0.6405700377096745,0.4508096744210774,-0.17729227464359826,-1.3703372018763402,0.35822387093041075,0.011425989559393415,-2.2806654962681123,-0.418647724918048,1.0416519990770345,-0.003226566833624996,-0.8009773563696257,-0.8028488879372703,0.4403941548182696,-0.6460565332446022,-1.0538901952212936,-0.02941339682476033,-0.17880153658567707,1.5504066876349598,-0.06515519216521365,0.2634552678872701,1.221545929144533,0.41801716583001197,1.5706085556631733,-0.5735845823969875,-0.8820952994521086,0.3274408658812476,0.0909898204822451,-2.353670135079995,-0.3661806770483226,-0.9498676077976055,-1.0564185103175003,-1.0333840929678313,0.14215218947690056,-2.024164960776577,-0.5104641477871487,0.5231634935646545,-0.752271124788865,-1.431441600474087,0.13510742157296052,0.5017877946333005,0.3659653905102098,0.07018885629698855,2.2459148212296487,0.6786454586708808,0.9490166345640043,-1.9094775520083493,1.728290787905516,0.6398327487317317,0.3544085374865336,0.11432799574217735,0.6589381343247359,0.10346767508405878,-1.1038727497628804,-0.5099896964508587,0.5867887413460539,-0.7522432291170378,-1.2458288997869245,-1.4730026290167162,0.16962320435120895,0.964513413489719,1.1079062496024767,-0.32293074154054024,-0.7015479463603599,2.1010850453068697],\"type\":\"box\"},{\"boxpoints\":false,\"line\":{\"width\":1.3},\"marker\":{\"color\":\"rgba(55, 128, 191, 1.0)\"},\"name\":\"B\",\"orientation\":\"v\",\"y\":[-0.26049029456912903,-0.09714763269974377,0.8111103731791115,-1.9092793360910076,-0.7021805233979893,1.7113569273657838,0.5577059895260462,-0.04010677492691884,-0.6031994783562596,-1.0151465414034821,-0.65977071844508,-0.11373213297939189,-0.17642103201371448,-1.3127870983774748,-0.8121667700648396,0.3562560593913871,0.115787656807456,2.0304725698965473,-1.8962460120140843,-1.695481979037778,0.083227127103031,-1.6072152006989198,-0.791909505896926,-0.00226257065607172,0.789055363306743,1.6384186774393954,-0.9141297129748618,0.34878907759418426,1.3992320086007244,-1.6551017310853946,0.2196602310642125,1.2934294942744322,0.6188203489615133,-1.0477234555721597,0.8342357072623097,1.5704168087418544,-1.4090025076121278,-2.118052083579081,-0.2333452338485016,-0.07709603866845373,-2.8072073735768845,-1.687428945991679,-1.159580191150825,1.304971913099211,-2.6664369761159477,0.0006285483518210876,-0.22704157391863877,1.5959235424772875,0.5226701132725071,-0.32349048754336457,0.17185896219907654,-0.11097559458142076,1.032166153297779,-0.7377867289133496,-1.205653112465707,0.08034586127001102,1.0494964020796176,0.5737773994926414,1.0679595026820368,0.2078110294449889,0.497964687170021,-1.0040946242420055,1.641018339402369,0.6987039146589529,-1.5910510766375996,1.0567069686542072,0.7215190478611012,0.6853744281025479,0.34932033732412204,0.08720879431656639,-0.7592345849283544,-0.5346034111574133,0.6203389986553872,0.055895501280625454,-1.2586433955714882,-1.4507327058899393,-0.5067603413460747,0.22285324461662986,1.2794806218555201,-0.5698953891946154,1.1666766260353854,-0.2748556337601546,0.3689062378985249,-0.22443208712326157,-2.6892222066069196,-0.6277102895697781,0.9948207097804131,2.006791303963984,-2.215807367364074,-0.36815272094188445,-2.0368053672881525,-1.4043787604355018,-0.6741811066408415,1.895508785899313,1.2781476020982228,1.6513382173909747,-2.6044397766828005,0.24020400275439163,-0.5693768063211105,0.934438743225109],\"type\":\"box\"},{\"boxpoints\":false,\"line\":{\"width\":1.3},\"marker\":{\"color\":\"rgba(50, 171, 96, 1.0)\"},\"name\":\"C\",\"orientation\":\"v\",\"y\":[1.016137061958665,-0.5420245082783235,-0.6555275772055192,-0.17482452802721207,-0.20966175827607628,1.1268451015087522,-0.3573421160038608,-0.1283955674793992,-0.966809172726611,1.1076046408037203,-0.3857180761673435,0.10751028698545406,-0.0722654270370262,0.5027412369328366,0.4586151070738453,-0.31358236684132984,-0.7294415911860292,0.46889357343171045,1.6289993484803935,-0.13196937501181366,0.13903276441007126,-1.8065516586311317,0.015244035509171621,-0.6693807883877644,-1.1417766658491864,-0.08255553128388488,-0.8202482353376133,-1.1406918804712243,1.964067336106461,-0.9258080012830326,-0.1446993961232515,1.3722685370982728,1.0744640309311915,-0.13315007362248654,-0.24258199731695324,-2.434755966203868,1.249588245085047,-1.9159706351612598,0.9028452338965627,0.09709163764319628,-1.4915115361349514,-0.08131167965299389,-0.3533067773683644,0.43875369576612405,0.16403251203894895,0.3327188025830961,0.09824955382014505,0.25413148419195647,-0.8255273384617694,1.1502405310973927,-0.23663503779656808,-0.10375558656850428,0.29597100192381026,0.161902165064038,0.8746088623238746,-0.4313027123686213,-1.5522117256973411,1.5822264544410984,-0.2100548377789055,-0.11466768195239925,0.7693212034474219,-0.5239181221597862,-0.29627797449795956,-0.7872581356661098,-0.08259776401178255,-0.16190735298564957,1.0400236333371244,0.7016475467736071,1.6061385761185691,-0.09389196044606382,-2.2984771444784005,1.332637670768821,1.4260586545811833,0.4993956785585622,-0.9885025824410877,-1.1500950277274034,0.027440551493462317,-0.7152163964368956,-0.22254785386403808,1.3578697515859321,0.7795183721417863,-1.0941700641779113,-0.3691504402687209,-0.17252910270078434,-0.22910576496372098,-0.5535653063181362,-0.11246827447795366,-0.5004601639160561,1.3972684184213935,0.5826640975314333,-0.3704108210274508,-0.5791163044118627,-1.5688427193366512,0.9128795909915046,0.23049311480694276,0.02602262547334177,2.390872078118632,0.8265186912628907,1.1563445322537906,0.1929179183525035],\"type\":\"box\"},{\"boxpoints\":false,\"line\":{\"width\":1.3},\"marker\":{\"color\":\"rgba(128, 0, 128, 1.0)\"},\"name\":\"D\",\"orientation\":\"v\",\"y\":[0.3678728199360895,0.7770397311008759,-0.31161412554319096,0.36109033817175823,1.0958105195636665,-0.6153494161962141,0.3733739029607547,0.7208029853625418,-1.6601967483822941,0.5812737043064377,2.3976288441646996,-2.2775623051411698,-1.3700067916658192,0.6724836769454864,0.6545862845642076,0.8608767566123184,-1.0038117731243594,0.2654092394720436,0.23271099141093987,1.0166224389242902,-0.2302243018740462,0.38887841341583407,-1.1744585970201085,-0.3288681829338943,0.4320913263467357,0.5363338760370511,-0.954588837116522,-0.9060180130129888,0.08258657852706816,0.8690618739895999,-0.07454312360867822,0.9069401158057482,0.8525847408135002,1.7008325595940121,-0.31927820901311404,2.5839018710271704,-0.6615241474077949,-0.3513113384047537,-1.6447064505626163,-0.3381746996970631,0.5185703280206443,-0.4126600899710108,1.111412826450472,-2.1811768624324954,-0.7390562258230423,-0.19691431987782637,-0.8564461074613374,-0.2658143784041566,-2.63333719441065,1.0166617842654235,0.5440607019805058,-0.3238076409135922,2.301811968058974,0.23585547206087806,-0.22523633643882646,-0.11678596070999779,0.12578899821333514,-1.266448176678349,1.840156190143387,0.7934607654229933,-0.879040372028926,0.1106176772142058,0.7232055158481039,1.143955728091707,-0.6922408053305052,0.17111181715903606,1.1752227121361831,0.5149017248635412,-0.29239279311857286,-0.9431186110891314,0.6890241907223393,-2.736800800781161,-0.09193453540823339,0.9031472571354823,-1.328816012502861,-0.907777189110073,-0.6471404454248375,-0.21980395293017788,-0.6742557662560115,-1.080899671209913,-0.33771811051318523,-0.778554295537802,-1.0784224433638752,-0.2522855225757112,-0.34230578532068723,-0.0765594929956213,-0.1897062808846173,0.9551877414597707,0.030419844757999685,0.360806273631684,0.7774964204857886,-0.5182793271816202,-0.6459736843376598,0.13782438188531929,1.2245544210274506,-0.4206696236845781,0.11823720416357132,-0.11183220579060686,-1.6093667900712743,-0.8601587836879706],\"type\":\"box\"}],                        {\"legend\":{\"bgcolor\":\"#F5F6F9\",\"font\":{\"color\":\"#4D5663\"}},\"paper_bgcolor\":\"#F5F6F9\",\"plot_bgcolor\":\"#F5F6F9\",\"template\":{\"data\":{\"barpolar\":[{\"marker\":{\"line\":{\"color\":\"#E5ECF6\",\"width\":0.5},\"pattern\":{\"fillmode\":\"overlay\",\"size\":10,\"solidity\":0.2}},\"type\":\"barpolar\"}],\"bar\":[{\"error_x\":{\"color\":\"#2a3f5f\"},\"error_y\":{\"color\":\"#2a3f5f\"},\"marker\":{\"line\":{\"color\":\"#E5ECF6\",\"width\":0.5},\"pattern\":{\"fillmode\":\"overlay\",\"size\":10,\"solidity\":0.2}},\"type\":\"bar\"}],\"carpet\":[{\"aaxis\":{\"endlinecolor\":\"#2a3f5f\",\"gridcolor\":\"white\",\"linecolor\":\"white\",\"minorgridcolor\":\"white\",\"startlinecolor\":\"#2a3f5f\"},\"baxis\":{\"endlinecolor\":\"#2a3f5f\",\"gridcolor\":\"white\",\"linecolor\":\"white\",\"minorgridcolor\":\"white\",\"startlinecolor\":\"#2a3f5f\"},\"type\":\"carpet\"}],\"choropleth\":[{\"colorbar\":{\"outlinewidth\":0,\"ticks\":\"\"},\"type\":\"choropleth\"}],\"contourcarpet\":[{\"colorbar\":{\"outlinewidth\":0,\"ticks\":\"\"},\"type\":\"contourcarpet\"}],\"contour\":[{\"colorbar\":{\"outlinewidth\":0,\"ticks\":\"\"},\"colorscale\":[[0.0,\"#0d0887\"],[0.1111111111111111,\"#46039f\"],[0.2222222222222222,\"#7201a8\"],[0.3333333333333333,\"#9c179e\"],[0.4444444444444444,\"#bd3786\"],[0.5555555555555556,\"#d8576b\"],[0.6666666666666666,\"#ed7953\"],[0.7777777777777778,\"#fb9f3a\"],[0.8888888888888888,\"#fdca26\"],[1.0,\"#f0f921\"]],\"type\":\"contour\"}],\"heatmapgl\":[{\"colorbar\":{\"outlinewidth\":0,\"ticks\":\"\"},\"colorscale\":[[0.0,\"#0d0887\"],[0.1111111111111111,\"#46039f\"],[0.2222222222222222,\"#7201a8\"],[0.3333333333333333,\"#9c179e\"],[0.4444444444444444,\"#bd3786\"],[0.5555555555555556,\"#d8576b\"],[0.6666666666666666,\"#ed7953\"],[0.7777777777777778,\"#fb9f3a\"],[0.8888888888888888,\"#fdca26\"],[1.0,\"#f0f921\"]],\"type\":\"heatmapgl\"}],\"heatmap\":[{\"colorbar\":{\"outlinewidth\":0,\"ticks\":\"\"},\"colorscale\":[[0.0,\"#0d0887\"],[0.1111111111111111,\"#46039f\"],[0.2222222222222222,\"#7201a8\"],[0.3333333333333333,\"#9c179e\"],[0.4444444444444444,\"#bd3786\"],[0.5555555555555556,\"#d8576b\"],[0.6666666666666666,\"#ed7953\"],[0.7777777777777778,\"#fb9f3a\"],[0.8888888888888888,\"#fdca26\"],[1.0,\"#f0f921\"]],\"type\":\"heatmap\"}],\"histogram2dcontour\":[{\"colorbar\":{\"outlinewidth\":0,\"ticks\":\"\"},\"colorscale\":[[0.0,\"#0d0887\"],[0.1111111111111111,\"#46039f\"],[0.2222222222222222,\"#7201a8\"],[0.3333333333333333,\"#9c179e\"],[0.4444444444444444,\"#bd3786\"],[0.5555555555555556,\"#d8576b\"],[0.6666666666666666,\"#ed7953\"],[0.7777777777777778,\"#fb9f3a\"],[0.8888888888888888,\"#fdca26\"],[1.0,\"#f0f921\"]],\"type\":\"histogram2dcontour\"}],\"histogram2d\":[{\"colorbar\":{\"outlinewidth\":0,\"ticks\":\"\"},\"colorscale\":[[0.0,\"#0d0887\"],[0.1111111111111111,\"#46039f\"],[0.2222222222222222,\"#7201a8\"],[0.3333333333333333,\"#9c179e\"],[0.4444444444444444,\"#bd3786\"],[0.5555555555555556,\"#d8576b\"],[0.6666666666666666,\"#ed7953\"],[0.7777777777777778,\"#fb9f3a\"],[0.8888888888888888,\"#fdca26\"],[1.0,\"#f0f921\"]],\"type\":\"histogram2d\"}],\"histogram\":[{\"marker\":{\"pattern\":{\"fillmode\":\"overlay\",\"size\":10,\"solidity\":0.2}},\"type\":\"histogram\"}],\"mesh3d\":[{\"colorbar\":{\"outlinewidth\":0,\"ticks\":\"\"},\"type\":\"mesh3d\"}],\"parcoords\":[{\"line\":{\"colorbar\":{\"outlinewidth\":0,\"ticks\":\"\"}},\"type\":\"parcoords\"}],\"pie\":[{\"automargin\":true,\"type\":\"pie\"}],\"scatter3d\":[{\"line\":{\"colorbar\":{\"outlinewidth\":0,\"ticks\":\"\"}},\"marker\":{\"colorbar\":{\"outlinewidth\":0,\"ticks\":\"\"}},\"type\":\"scatter3d\"}],\"scattercarpet\":[{\"marker\":{\"colorbar\":{\"outlinewidth\":0,\"ticks\":\"\"}},\"type\":\"scattercarpet\"}],\"scattergeo\":[{\"marker\":{\"colorbar\":{\"outlinewidth\":0,\"ticks\":\"\"}},\"type\":\"scattergeo\"}],\"scattergl\":[{\"marker\":{\"colorbar\":{\"outlinewidth\":0,\"ticks\":\"\"}},\"type\":\"scattergl\"}],\"scattermapbox\":[{\"marker\":{\"colorbar\":{\"outlinewidth\":0,\"ticks\":\"\"}},\"type\":\"scattermapbox\"}],\"scatterpolargl\":[{\"marker\":{\"colorbar\":{\"outlinewidth\":0,\"ticks\":\"\"}},\"type\":\"scatterpolargl\"}],\"scatterpolar\":[{\"marker\":{\"colorbar\":{\"outlinewidth\":0,\"ticks\":\"\"}},\"type\":\"scatterpolar\"}],\"scatter\":[{\"fillpattern\":{\"fillmode\":\"overlay\",\"size\":10,\"solidity\":0.2},\"type\":\"scatter\"}],\"scatterternary\":[{\"marker\":{\"colorbar\":{\"outlinewidth\":0,\"ticks\":\"\"}},\"type\":\"scatterternary\"}],\"surface\":[{\"colorbar\":{\"outlinewidth\":0,\"ticks\":\"\"},\"colorscale\":[[0.0,\"#0d0887\"],[0.1111111111111111,\"#46039f\"],[0.2222222222222222,\"#7201a8\"],[0.3333333333333333,\"#9c179e\"],[0.4444444444444444,\"#bd3786\"],[0.5555555555555556,\"#d8576b\"],[0.6666666666666666,\"#ed7953\"],[0.7777777777777778,\"#fb9f3a\"],[0.8888888888888888,\"#fdca26\"],[1.0,\"#f0f921\"]],\"type\":\"surface\"}],\"table\":[{\"cells\":{\"fill\":{\"color\":\"#EBF0F8\"},\"line\":{\"color\":\"white\"}},\"header\":{\"fill\":{\"color\":\"#C8D4E3\"},\"line\":{\"color\":\"white\"}},\"type\":\"table\"}]},\"layout\":{\"annotationdefaults\":{\"arrowcolor\":\"#2a3f5f\",\"arrowhead\":0,\"arrowwidth\":1},\"autotypenumbers\":\"strict\",\"coloraxis\":{\"colorbar\":{\"outlinewidth\":0,\"ticks\":\"\"}},\"colorscale\":{\"diverging\":[[0,\"#8e0152\"],[0.1,\"#c51b7d\"],[0.2,\"#de77ae\"],[0.3,\"#f1b6da\"],[0.4,\"#fde0ef\"],[0.5,\"#f7f7f7\"],[0.6,\"#e6f5d0\"],[0.7,\"#b8e186\"],[0.8,\"#7fbc41\"],[0.9,\"#4d9221\"],[1,\"#276419\"]],\"sequential\":[[0.0,\"#0d0887\"],[0.1111111111111111,\"#46039f\"],[0.2222222222222222,\"#7201a8\"],[0.3333333333333333,\"#9c179e\"],[0.4444444444444444,\"#bd3786\"],[0.5555555555555556,\"#d8576b\"],[0.6666666666666666,\"#ed7953\"],[0.7777777777777778,\"#fb9f3a\"],[0.8888888888888888,\"#fdca26\"],[1.0,\"#f0f921\"]],\"sequentialminus\":[[0.0,\"#0d0887\"],[0.1111111111111111,\"#46039f\"],[0.2222222222222222,\"#7201a8\"],[0.3333333333333333,\"#9c179e\"],[0.4444444444444444,\"#bd3786\"],[0.5555555555555556,\"#d8576b\"],[0.6666666666666666,\"#ed7953\"],[0.7777777777777778,\"#fb9f3a\"],[0.8888888888888888,\"#fdca26\"],[1.0,\"#f0f921\"]]},\"colorway\":[\"#636efa\",\"#EF553B\",\"#00cc96\",\"#ab63fa\",\"#FFA15A\",\"#19d3f3\",\"#FF6692\",\"#B6E880\",\"#FF97FF\",\"#FECB52\"],\"font\":{\"color\":\"#2a3f5f\"},\"geo\":{\"bgcolor\":\"white\",\"lakecolor\":\"white\",\"landcolor\":\"#E5ECF6\",\"showlakes\":true,\"showland\":true,\"subunitcolor\":\"white\"},\"hoverlabel\":{\"align\":\"left\"},\"hovermode\":\"closest\",\"mapbox\":{\"style\":\"light\"},\"paper_bgcolor\":\"white\",\"plot_bgcolor\":\"#E5ECF6\",\"polar\":{\"angularaxis\":{\"gridcolor\":\"white\",\"linecolor\":\"white\",\"ticks\":\"\"},\"bgcolor\":\"#E5ECF6\",\"radialaxis\":{\"gridcolor\":\"white\",\"linecolor\":\"white\",\"ticks\":\"\"}},\"scene\":{\"xaxis\":{\"backgroundcolor\":\"#E5ECF6\",\"gridcolor\":\"white\",\"gridwidth\":2,\"linecolor\":\"white\",\"showbackground\":true,\"ticks\":\"\",\"zerolinecolor\":\"white\"},\"yaxis\":{\"backgroundcolor\":\"#E5ECF6\",\"gridcolor\":\"white\",\"gridwidth\":2,\"linecolor\":\"white\",\"showbackground\":true,\"ticks\":\"\",\"zerolinecolor\":\"white\"},\"zaxis\":{\"backgroundcolor\":\"#E5ECF6\",\"gridcolor\":\"white\",\"gridwidth\":2,\"linecolor\":\"white\",\"showbackground\":true,\"ticks\":\"\",\"zerolinecolor\":\"white\"}},\"shapedefaults\":{\"line\":{\"color\":\"#2a3f5f\"}},\"ternary\":{\"aaxis\":{\"gridcolor\":\"white\",\"linecolor\":\"white\",\"ticks\":\"\"},\"baxis\":{\"gridcolor\":\"white\",\"linecolor\":\"white\",\"ticks\":\"\"},\"bgcolor\":\"#E5ECF6\",\"caxis\":{\"gridcolor\":\"white\",\"linecolor\":\"white\",\"ticks\":\"\"}},\"title\":{\"x\":0.05},\"xaxis\":{\"automargin\":true,\"gridcolor\":\"white\",\"linecolor\":\"white\",\"ticks\":\"\",\"title\":{\"standoff\":15},\"zerolinecolor\":\"white\",\"zerolinewidth\":2},\"yaxis\":{\"automargin\":true,\"gridcolor\":\"white\",\"linecolor\":\"white\",\"ticks\":\"\",\"title\":{\"standoff\":15},\"zerolinecolor\":\"white\",\"zerolinewidth\":2}}},\"title\":{\"font\":{\"color\":\"#4D5663\"}},\"xaxis\":{\"gridcolor\":\"#E1E5ED\",\"showgrid\":true,\"tickfont\":{\"color\":\"#4D5663\"},\"title\":{\"font\":{\"color\":\"#4D5663\"},\"text\":\"\"},\"zerolinecolor\":\"#E1E5ED\"},\"yaxis\":{\"gridcolor\":\"#E1E5ED\",\"showgrid\":true,\"tickfont\":{\"color\":\"#4D5663\"},\"title\":{\"font\":{\"color\":\"#4D5663\"},\"text\":\"\"},\"zerolinecolor\":\"#E1E5ED\"}},                        {\"showLink\": true, \"linkText\": \"Export to plot.ly\", \"plotlyServerURL\": \"https://plot.ly\", \"responsive\": true}                    ).then(function(){\n",
       "                            \n",
       "var gd = document.getElementById('51aa7363-732f-468d-bfa9-206d7a96f666');\n",
       "var x = new MutationObserver(function (mutations, observer) {{\n",
       "        var display = window.getComputedStyle(gd).display;\n",
       "        if (!display || display === 'none') {{\n",
       "            console.log([gd, 'removed!']);\n",
       "            Plotly.purge(gd);\n",
       "            observer.disconnect();\n",
       "        }}\n",
       "}});\n",
       "\n",
       "// Listen for the removal of the full notebook cells\n",
       "var notebookContainer = gd.closest('#notebook-container');\n",
       "if (notebookContainer) {{\n",
       "    x.observe(notebookContainer, {childList: true});\n",
       "}}\n",
       "\n",
       "// Listen for the clearing of the current output cell\n",
       "var outputEl = gd.closest('.output');\n",
       "if (outputEl) {{\n",
       "    x.observe(outputEl, {childList: true});\n",
       "}}\n",
       "\n",
       "                        })                };                });            </script>        </div>"
      ]
     },
     "metadata": {},
     "output_type": "display_data"
    }
   ],
   "source": [
    "df1.iplot(kind='box')"
   ]
  },
  {
   "cell_type": "code",
   "execution_count": 123,
   "metadata": {},
   "outputs": [],
   "source": [
    "df3=pd.DataFrame({'x':[1,2,3,4,5,6,7],'y':[12,23,15,35,6,26,52], 'z':[123,432,654,256,843,432,532]})"
   ]
  },
  {
   "cell_type": "code",
   "execution_count": 124,
   "metadata": {},
   "outputs": [
    {
     "data": {
      "text/html": [
       "<div>\n",
       "<style scoped>\n",
       "    .dataframe tbody tr th:only-of-type {\n",
       "        vertical-align: middle;\n",
       "    }\n",
       "\n",
       "    .dataframe tbody tr th {\n",
       "        vertical-align: top;\n",
       "    }\n",
       "\n",
       "    .dataframe thead th {\n",
       "        text-align: right;\n",
       "    }\n",
       "</style>\n",
       "<table border=\"1\" class=\"dataframe\">\n",
       "  <thead>\n",
       "    <tr style=\"text-align: right;\">\n",
       "      <th></th>\n",
       "      <th>x</th>\n",
       "      <th>y</th>\n",
       "      <th>z</th>\n",
       "    </tr>\n",
       "  </thead>\n",
       "  <tbody>\n",
       "    <tr>\n",
       "      <th>0</th>\n",
       "      <td>1</td>\n",
       "      <td>12</td>\n",
       "      <td>123</td>\n",
       "    </tr>\n",
       "    <tr>\n",
       "      <th>1</th>\n",
       "      <td>2</td>\n",
       "      <td>23</td>\n",
       "      <td>432</td>\n",
       "    </tr>\n",
       "    <tr>\n",
       "      <th>2</th>\n",
       "      <td>3</td>\n",
       "      <td>15</td>\n",
       "      <td>654</td>\n",
       "    </tr>\n",
       "    <tr>\n",
       "      <th>3</th>\n",
       "      <td>4</td>\n",
       "      <td>35</td>\n",
       "      <td>256</td>\n",
       "    </tr>\n",
       "    <tr>\n",
       "      <th>4</th>\n",
       "      <td>5</td>\n",
       "      <td>6</td>\n",
       "      <td>843</td>\n",
       "    </tr>\n",
       "    <tr>\n",
       "      <th>5</th>\n",
       "      <td>6</td>\n",
       "      <td>26</td>\n",
       "      <td>432</td>\n",
       "    </tr>\n",
       "    <tr>\n",
       "      <th>6</th>\n",
       "      <td>7</td>\n",
       "      <td>52</td>\n",
       "      <td>532</td>\n",
       "    </tr>\n",
       "  </tbody>\n",
       "</table>\n",
       "</div>"
      ],
      "text/plain": [
       "   x   y    z\n",
       "0  1  12  123\n",
       "1  2  23  432\n",
       "2  3  15  654\n",
       "3  4  35  256\n",
       "4  5   6  843\n",
       "5  6  26  432\n",
       "6  7  52  532"
      ]
     },
     "execution_count": 124,
     "metadata": {},
     "output_type": "execute_result"
    }
   ],
   "source": [
    "df3"
   ]
  },
  {
   "cell_type": "code",
   "execution_count": 125,
   "metadata": {},
   "outputs": [
    {
     "data": {
      "application/vnd.plotly.v1+json": {
       "config": {
        "linkText": "Export to plot.ly",
        "plotlyServerURL": "https://plot.ly",
        "showLink": true
       },
       "data": [
        {
         "colorscale": [
          [
           0,
           "rgb(255, 153, 51)"
          ],
          [
           0.1111111111111111,
           "rgb(55, 128, 191)"
          ],
          [
           0.2222222222222222,
           "rgb(50, 171, 96)"
          ],
          [
           0.3333333333333333,
           "rgb(128, 0, 128)"
          ],
          [
           0.4444444444444444,
           "rgb(219, 64, 82)"
          ],
          [
           0.5555555555555556,
           "rgb(0, 128, 128)"
          ],
          [
           0.6666666666666666,
           "rgb(255, 255, 51)"
          ],
          [
           0.7777777777777778,
           "rgb(128, 128, 0)"
          ],
          [
           0.8888888888888888,
           "rgb(251, 128, 114)"
          ],
          [
           1,
           "rgb(128, 177, 211)"
          ]
         ],
         "type": "surface",
         "x": [
          0,
          1,
          2,
          3,
          4,
          5,
          6
         ],
         "y": [
          "x",
          "y",
          "z"
         ],
         "z": [
          [
           1,
           2,
           3,
           4,
           5,
           6,
           7
          ],
          [
           12,
           23,
           15,
           35,
           6,
           26,
           52
          ],
          [
           123,
           432,
           654,
           256,
           843,
           432,
           532
          ]
         ]
        }
       ],
       "layout": {
        "legend": {
         "bgcolor": "#F5F6F9",
         "font": {
          "color": "#4D5663"
         }
        },
        "paper_bgcolor": "#F5F6F9",
        "plot_bgcolor": "#F5F6F9",
        "template": {
         "data": {
          "bar": [
           {
            "error_x": {
             "color": "#2a3f5f"
            },
            "error_y": {
             "color": "#2a3f5f"
            },
            "marker": {
             "line": {
              "color": "#E5ECF6",
              "width": 0.5
             },
             "pattern": {
              "fillmode": "overlay",
              "size": 10,
              "solidity": 0.2
             }
            },
            "type": "bar"
           }
          ],
          "barpolar": [
           {
            "marker": {
             "line": {
              "color": "#E5ECF6",
              "width": 0.5
             },
             "pattern": {
              "fillmode": "overlay",
              "size": 10,
              "solidity": 0.2
             }
            },
            "type": "barpolar"
           }
          ],
          "carpet": [
           {
            "aaxis": {
             "endlinecolor": "#2a3f5f",
             "gridcolor": "white",
             "linecolor": "white",
             "minorgridcolor": "white",
             "startlinecolor": "#2a3f5f"
            },
            "baxis": {
             "endlinecolor": "#2a3f5f",
             "gridcolor": "white",
             "linecolor": "white",
             "minorgridcolor": "white",
             "startlinecolor": "#2a3f5f"
            },
            "type": "carpet"
           }
          ],
          "choropleth": [
           {
            "colorbar": {
             "outlinewidth": 0,
             "ticks": ""
            },
            "type": "choropleth"
           }
          ],
          "contour": [
           {
            "colorbar": {
             "outlinewidth": 0,
             "ticks": ""
            },
            "colorscale": [
             [
              0,
              "#0d0887"
             ],
             [
              0.1111111111111111,
              "#46039f"
             ],
             [
              0.2222222222222222,
              "#7201a8"
             ],
             [
              0.3333333333333333,
              "#9c179e"
             ],
             [
              0.4444444444444444,
              "#bd3786"
             ],
             [
              0.5555555555555556,
              "#d8576b"
             ],
             [
              0.6666666666666666,
              "#ed7953"
             ],
             [
              0.7777777777777778,
              "#fb9f3a"
             ],
             [
              0.8888888888888888,
              "#fdca26"
             ],
             [
              1,
              "#f0f921"
             ]
            ],
            "type": "contour"
           }
          ],
          "contourcarpet": [
           {
            "colorbar": {
             "outlinewidth": 0,
             "ticks": ""
            },
            "type": "contourcarpet"
           }
          ],
          "heatmap": [
           {
            "colorbar": {
             "outlinewidth": 0,
             "ticks": ""
            },
            "colorscale": [
             [
              0,
              "#0d0887"
             ],
             [
              0.1111111111111111,
              "#46039f"
             ],
             [
              0.2222222222222222,
              "#7201a8"
             ],
             [
              0.3333333333333333,
              "#9c179e"
             ],
             [
              0.4444444444444444,
              "#bd3786"
             ],
             [
              0.5555555555555556,
              "#d8576b"
             ],
             [
              0.6666666666666666,
              "#ed7953"
             ],
             [
              0.7777777777777778,
              "#fb9f3a"
             ],
             [
              0.8888888888888888,
              "#fdca26"
             ],
             [
              1,
              "#f0f921"
             ]
            ],
            "type": "heatmap"
           }
          ],
          "heatmapgl": [
           {
            "colorbar": {
             "outlinewidth": 0,
             "ticks": ""
            },
            "colorscale": [
             [
              0,
              "#0d0887"
             ],
             [
              0.1111111111111111,
              "#46039f"
             ],
             [
              0.2222222222222222,
              "#7201a8"
             ],
             [
              0.3333333333333333,
              "#9c179e"
             ],
             [
              0.4444444444444444,
              "#bd3786"
             ],
             [
              0.5555555555555556,
              "#d8576b"
             ],
             [
              0.6666666666666666,
              "#ed7953"
             ],
             [
              0.7777777777777778,
              "#fb9f3a"
             ],
             [
              0.8888888888888888,
              "#fdca26"
             ],
             [
              1,
              "#f0f921"
             ]
            ],
            "type": "heatmapgl"
           }
          ],
          "histogram": [
           {
            "marker": {
             "pattern": {
              "fillmode": "overlay",
              "size": 10,
              "solidity": 0.2
             }
            },
            "type": "histogram"
           }
          ],
          "histogram2d": [
           {
            "colorbar": {
             "outlinewidth": 0,
             "ticks": ""
            },
            "colorscale": [
             [
              0,
              "#0d0887"
             ],
             [
              0.1111111111111111,
              "#46039f"
             ],
             [
              0.2222222222222222,
              "#7201a8"
             ],
             [
              0.3333333333333333,
              "#9c179e"
             ],
             [
              0.4444444444444444,
              "#bd3786"
             ],
             [
              0.5555555555555556,
              "#d8576b"
             ],
             [
              0.6666666666666666,
              "#ed7953"
             ],
             [
              0.7777777777777778,
              "#fb9f3a"
             ],
             [
              0.8888888888888888,
              "#fdca26"
             ],
             [
              1,
              "#f0f921"
             ]
            ],
            "type": "histogram2d"
           }
          ],
          "histogram2dcontour": [
           {
            "colorbar": {
             "outlinewidth": 0,
             "ticks": ""
            },
            "colorscale": [
             [
              0,
              "#0d0887"
             ],
             [
              0.1111111111111111,
              "#46039f"
             ],
             [
              0.2222222222222222,
              "#7201a8"
             ],
             [
              0.3333333333333333,
              "#9c179e"
             ],
             [
              0.4444444444444444,
              "#bd3786"
             ],
             [
              0.5555555555555556,
              "#d8576b"
             ],
             [
              0.6666666666666666,
              "#ed7953"
             ],
             [
              0.7777777777777778,
              "#fb9f3a"
             ],
             [
              0.8888888888888888,
              "#fdca26"
             ],
             [
              1,
              "#f0f921"
             ]
            ],
            "type": "histogram2dcontour"
           }
          ],
          "mesh3d": [
           {
            "colorbar": {
             "outlinewidth": 0,
             "ticks": ""
            },
            "type": "mesh3d"
           }
          ],
          "parcoords": [
           {
            "line": {
             "colorbar": {
              "outlinewidth": 0,
              "ticks": ""
             }
            },
            "type": "parcoords"
           }
          ],
          "pie": [
           {
            "automargin": true,
            "type": "pie"
           }
          ],
          "scatter": [
           {
            "fillpattern": {
             "fillmode": "overlay",
             "size": 10,
             "solidity": 0.2
            },
            "type": "scatter"
           }
          ],
          "scatter3d": [
           {
            "line": {
             "colorbar": {
              "outlinewidth": 0,
              "ticks": ""
             }
            },
            "marker": {
             "colorbar": {
              "outlinewidth": 0,
              "ticks": ""
             }
            },
            "type": "scatter3d"
           }
          ],
          "scattercarpet": [
           {
            "marker": {
             "colorbar": {
              "outlinewidth": 0,
              "ticks": ""
             }
            },
            "type": "scattercarpet"
           }
          ],
          "scattergeo": [
           {
            "marker": {
             "colorbar": {
              "outlinewidth": 0,
              "ticks": ""
             }
            },
            "type": "scattergeo"
           }
          ],
          "scattergl": [
           {
            "marker": {
             "colorbar": {
              "outlinewidth": 0,
              "ticks": ""
             }
            },
            "type": "scattergl"
           }
          ],
          "scattermapbox": [
           {
            "marker": {
             "colorbar": {
              "outlinewidth": 0,
              "ticks": ""
             }
            },
            "type": "scattermapbox"
           }
          ],
          "scatterpolar": [
           {
            "marker": {
             "colorbar": {
              "outlinewidth": 0,
              "ticks": ""
             }
            },
            "type": "scatterpolar"
           }
          ],
          "scatterpolargl": [
           {
            "marker": {
             "colorbar": {
              "outlinewidth": 0,
              "ticks": ""
             }
            },
            "type": "scatterpolargl"
           }
          ],
          "scatterternary": [
           {
            "marker": {
             "colorbar": {
              "outlinewidth": 0,
              "ticks": ""
             }
            },
            "type": "scatterternary"
           }
          ],
          "surface": [
           {
            "colorbar": {
             "outlinewidth": 0,
             "ticks": ""
            },
            "colorscale": [
             [
              0,
              "#0d0887"
             ],
             [
              0.1111111111111111,
              "#46039f"
             ],
             [
              0.2222222222222222,
              "#7201a8"
             ],
             [
              0.3333333333333333,
              "#9c179e"
             ],
             [
              0.4444444444444444,
              "#bd3786"
             ],
             [
              0.5555555555555556,
              "#d8576b"
             ],
             [
              0.6666666666666666,
              "#ed7953"
             ],
             [
              0.7777777777777778,
              "#fb9f3a"
             ],
             [
              0.8888888888888888,
              "#fdca26"
             ],
             [
              1,
              "#f0f921"
             ]
            ],
            "type": "surface"
           }
          ],
          "table": [
           {
            "cells": {
             "fill": {
              "color": "#EBF0F8"
             },
             "line": {
              "color": "white"
             }
            },
            "header": {
             "fill": {
              "color": "#C8D4E3"
             },
             "line": {
              "color": "white"
             }
            },
            "type": "table"
           }
          ]
         },
         "layout": {
          "annotationdefaults": {
           "arrowcolor": "#2a3f5f",
           "arrowhead": 0,
           "arrowwidth": 1
          },
          "autotypenumbers": "strict",
          "coloraxis": {
           "colorbar": {
            "outlinewidth": 0,
            "ticks": ""
           }
          },
          "colorscale": {
           "diverging": [
            [
             0,
             "#8e0152"
            ],
            [
             0.1,
             "#c51b7d"
            ],
            [
             0.2,
             "#de77ae"
            ],
            [
             0.3,
             "#f1b6da"
            ],
            [
             0.4,
             "#fde0ef"
            ],
            [
             0.5,
             "#f7f7f7"
            ],
            [
             0.6,
             "#e6f5d0"
            ],
            [
             0.7,
             "#b8e186"
            ],
            [
             0.8,
             "#7fbc41"
            ],
            [
             0.9,
             "#4d9221"
            ],
            [
             1,
             "#276419"
            ]
           ],
           "sequential": [
            [
             0,
             "#0d0887"
            ],
            [
             0.1111111111111111,
             "#46039f"
            ],
            [
             0.2222222222222222,
             "#7201a8"
            ],
            [
             0.3333333333333333,
             "#9c179e"
            ],
            [
             0.4444444444444444,
             "#bd3786"
            ],
            [
             0.5555555555555556,
             "#d8576b"
            ],
            [
             0.6666666666666666,
             "#ed7953"
            ],
            [
             0.7777777777777778,
             "#fb9f3a"
            ],
            [
             0.8888888888888888,
             "#fdca26"
            ],
            [
             1,
             "#f0f921"
            ]
           ],
           "sequentialminus": [
            [
             0,
             "#0d0887"
            ],
            [
             0.1111111111111111,
             "#46039f"
            ],
            [
             0.2222222222222222,
             "#7201a8"
            ],
            [
             0.3333333333333333,
             "#9c179e"
            ],
            [
             0.4444444444444444,
             "#bd3786"
            ],
            [
             0.5555555555555556,
             "#d8576b"
            ],
            [
             0.6666666666666666,
             "#ed7953"
            ],
            [
             0.7777777777777778,
             "#fb9f3a"
            ],
            [
             0.8888888888888888,
             "#fdca26"
            ],
            [
             1,
             "#f0f921"
            ]
           ]
          },
          "colorway": [
           "#636efa",
           "#EF553B",
           "#00cc96",
           "#ab63fa",
           "#FFA15A",
           "#19d3f3",
           "#FF6692",
           "#B6E880",
           "#FF97FF",
           "#FECB52"
          ],
          "font": {
           "color": "#2a3f5f"
          },
          "geo": {
           "bgcolor": "white",
           "lakecolor": "white",
           "landcolor": "#E5ECF6",
           "showlakes": true,
           "showland": true,
           "subunitcolor": "white"
          },
          "hoverlabel": {
           "align": "left"
          },
          "hovermode": "closest",
          "mapbox": {
           "style": "light"
          },
          "paper_bgcolor": "white",
          "plot_bgcolor": "#E5ECF6",
          "polar": {
           "angularaxis": {
            "gridcolor": "white",
            "linecolor": "white",
            "ticks": ""
           },
           "bgcolor": "#E5ECF6",
           "radialaxis": {
            "gridcolor": "white",
            "linecolor": "white",
            "ticks": ""
           }
          },
          "scene": {
           "xaxis": {
            "backgroundcolor": "#E5ECF6",
            "gridcolor": "white",
            "gridwidth": 2,
            "linecolor": "white",
            "showbackground": true,
            "ticks": "",
            "zerolinecolor": "white"
           },
           "yaxis": {
            "backgroundcolor": "#E5ECF6",
            "gridcolor": "white",
            "gridwidth": 2,
            "linecolor": "white",
            "showbackground": true,
            "ticks": "",
            "zerolinecolor": "white"
           },
           "zaxis": {
            "backgroundcolor": "#E5ECF6",
            "gridcolor": "white",
            "gridwidth": 2,
            "linecolor": "white",
            "showbackground": true,
            "ticks": "",
            "zerolinecolor": "white"
           }
          },
          "shapedefaults": {
           "line": {
            "color": "#2a3f5f"
           }
          },
          "ternary": {
           "aaxis": {
            "gridcolor": "white",
            "linecolor": "white",
            "ticks": ""
           },
           "baxis": {
            "gridcolor": "white",
            "linecolor": "white",
            "ticks": ""
           },
           "bgcolor": "#E5ECF6",
           "caxis": {
            "gridcolor": "white",
            "linecolor": "white",
            "ticks": ""
           }
          },
          "title": {
           "x": 0.05
          },
          "xaxis": {
           "automargin": true,
           "gridcolor": "white",
           "linecolor": "white",
           "ticks": "",
           "title": {
            "standoff": 15
           },
           "zerolinecolor": "white",
           "zerolinewidth": 2
          },
          "yaxis": {
           "automargin": true,
           "gridcolor": "white",
           "linecolor": "white",
           "ticks": "",
           "title": {
            "standoff": 15
           },
           "zerolinecolor": "white",
           "zerolinewidth": 2
          }
         }
        },
        "title": {
         "font": {
          "color": "#4D5663"
         }
        },
        "xaxis": {
         "gridcolor": "#E1E5ED",
         "showgrid": true,
         "tickfont": {
          "color": "#4D5663"
         },
         "title": {
          "font": {
           "color": "#4D5663"
          },
          "text": ""
         },
         "zerolinecolor": "#E1E5ED"
        },
        "yaxis": {
         "gridcolor": "#E1E5ED",
         "showgrid": true,
         "tickfont": {
          "color": "#4D5663"
         },
         "title": {
          "font": {
           "color": "#4D5663"
          },
          "text": ""
         },
         "zerolinecolor": "#E1E5ED"
        }
       }
      },
      "text/html": [
       "<div>                            <div id=\"10a72efb-3dac-4036-9a19-0a76ff48a27a\" class=\"plotly-graph-div\" style=\"height:525px; width:100%;\"></div>            <script type=\"text/javascript\">                require([\"plotly\"], function(Plotly) {                    window.PLOTLYENV=window.PLOTLYENV || {};\n",
       "                    window.PLOTLYENV.BASE_URL='https://plot.ly';                                    if (document.getElementById(\"10a72efb-3dac-4036-9a19-0a76ff48a27a\")) {                    Plotly.newPlot(                        \"10a72efb-3dac-4036-9a19-0a76ff48a27a\",                        [{\"colorscale\":[[0.0,\"rgb(255, 153, 51)\"],[0.1111111111111111,\"rgb(55, 128, 191)\"],[0.2222222222222222,\"rgb(50, 171, 96)\"],[0.3333333333333333,\"rgb(128, 0, 128)\"],[0.4444444444444444,\"rgb(219, 64, 82)\"],[0.5555555555555556,\"rgb(0, 128, 128)\"],[0.6666666666666666,\"rgb(255, 255, 51)\"],[0.7777777777777778,\"rgb(128, 128, 0)\"],[0.8888888888888888,\"rgb(251, 128, 114)\"],[1.0,\"rgb(128, 177, 211)\"]],\"x\":[0,1,2,3,4,5,6],\"y\":[\"x\",\"y\",\"z\"],\"z\":[[1,2,3,4,5,6,7],[12,23,15,35,6,26,52],[123,432,654,256,843,432,532]],\"type\":\"surface\"}],                        {\"legend\":{\"bgcolor\":\"#F5F6F9\",\"font\":{\"color\":\"#4D5663\"}},\"paper_bgcolor\":\"#F5F6F9\",\"plot_bgcolor\":\"#F5F6F9\",\"template\":{\"data\":{\"barpolar\":[{\"marker\":{\"line\":{\"color\":\"#E5ECF6\",\"width\":0.5},\"pattern\":{\"fillmode\":\"overlay\",\"size\":10,\"solidity\":0.2}},\"type\":\"barpolar\"}],\"bar\":[{\"error_x\":{\"color\":\"#2a3f5f\"},\"error_y\":{\"color\":\"#2a3f5f\"},\"marker\":{\"line\":{\"color\":\"#E5ECF6\",\"width\":0.5},\"pattern\":{\"fillmode\":\"overlay\",\"size\":10,\"solidity\":0.2}},\"type\":\"bar\"}],\"carpet\":[{\"aaxis\":{\"endlinecolor\":\"#2a3f5f\",\"gridcolor\":\"white\",\"linecolor\":\"white\",\"minorgridcolor\":\"white\",\"startlinecolor\":\"#2a3f5f\"},\"baxis\":{\"endlinecolor\":\"#2a3f5f\",\"gridcolor\":\"white\",\"linecolor\":\"white\",\"minorgridcolor\":\"white\",\"startlinecolor\":\"#2a3f5f\"},\"type\":\"carpet\"}],\"choropleth\":[{\"colorbar\":{\"outlinewidth\":0,\"ticks\":\"\"},\"type\":\"choropleth\"}],\"contourcarpet\":[{\"colorbar\":{\"outlinewidth\":0,\"ticks\":\"\"},\"type\":\"contourcarpet\"}],\"contour\":[{\"colorbar\":{\"outlinewidth\":0,\"ticks\":\"\"},\"colorscale\":[[0.0,\"#0d0887\"],[0.1111111111111111,\"#46039f\"],[0.2222222222222222,\"#7201a8\"],[0.3333333333333333,\"#9c179e\"],[0.4444444444444444,\"#bd3786\"],[0.5555555555555556,\"#d8576b\"],[0.6666666666666666,\"#ed7953\"],[0.7777777777777778,\"#fb9f3a\"],[0.8888888888888888,\"#fdca26\"],[1.0,\"#f0f921\"]],\"type\":\"contour\"}],\"heatmapgl\":[{\"colorbar\":{\"outlinewidth\":0,\"ticks\":\"\"},\"colorscale\":[[0.0,\"#0d0887\"],[0.1111111111111111,\"#46039f\"],[0.2222222222222222,\"#7201a8\"],[0.3333333333333333,\"#9c179e\"],[0.4444444444444444,\"#bd3786\"],[0.5555555555555556,\"#d8576b\"],[0.6666666666666666,\"#ed7953\"],[0.7777777777777778,\"#fb9f3a\"],[0.8888888888888888,\"#fdca26\"],[1.0,\"#f0f921\"]],\"type\":\"heatmapgl\"}],\"heatmap\":[{\"colorbar\":{\"outlinewidth\":0,\"ticks\":\"\"},\"colorscale\":[[0.0,\"#0d0887\"],[0.1111111111111111,\"#46039f\"],[0.2222222222222222,\"#7201a8\"],[0.3333333333333333,\"#9c179e\"],[0.4444444444444444,\"#bd3786\"],[0.5555555555555556,\"#d8576b\"],[0.6666666666666666,\"#ed7953\"],[0.7777777777777778,\"#fb9f3a\"],[0.8888888888888888,\"#fdca26\"],[1.0,\"#f0f921\"]],\"type\":\"heatmap\"}],\"histogram2dcontour\":[{\"colorbar\":{\"outlinewidth\":0,\"ticks\":\"\"},\"colorscale\":[[0.0,\"#0d0887\"],[0.1111111111111111,\"#46039f\"],[0.2222222222222222,\"#7201a8\"],[0.3333333333333333,\"#9c179e\"],[0.4444444444444444,\"#bd3786\"],[0.5555555555555556,\"#d8576b\"],[0.6666666666666666,\"#ed7953\"],[0.7777777777777778,\"#fb9f3a\"],[0.8888888888888888,\"#fdca26\"],[1.0,\"#f0f921\"]],\"type\":\"histogram2dcontour\"}],\"histogram2d\":[{\"colorbar\":{\"outlinewidth\":0,\"ticks\":\"\"},\"colorscale\":[[0.0,\"#0d0887\"],[0.1111111111111111,\"#46039f\"],[0.2222222222222222,\"#7201a8\"],[0.3333333333333333,\"#9c179e\"],[0.4444444444444444,\"#bd3786\"],[0.5555555555555556,\"#d8576b\"],[0.6666666666666666,\"#ed7953\"],[0.7777777777777778,\"#fb9f3a\"],[0.8888888888888888,\"#fdca26\"],[1.0,\"#f0f921\"]],\"type\":\"histogram2d\"}],\"histogram\":[{\"marker\":{\"pattern\":{\"fillmode\":\"overlay\",\"size\":10,\"solidity\":0.2}},\"type\":\"histogram\"}],\"mesh3d\":[{\"colorbar\":{\"outlinewidth\":0,\"ticks\":\"\"},\"type\":\"mesh3d\"}],\"parcoords\":[{\"line\":{\"colorbar\":{\"outlinewidth\":0,\"ticks\":\"\"}},\"type\":\"parcoords\"}],\"pie\":[{\"automargin\":true,\"type\":\"pie\"}],\"scatter3d\":[{\"line\":{\"colorbar\":{\"outlinewidth\":0,\"ticks\":\"\"}},\"marker\":{\"colorbar\":{\"outlinewidth\":0,\"ticks\":\"\"}},\"type\":\"scatter3d\"}],\"scattercarpet\":[{\"marker\":{\"colorbar\":{\"outlinewidth\":0,\"ticks\":\"\"}},\"type\":\"scattercarpet\"}],\"scattergeo\":[{\"marker\":{\"colorbar\":{\"outlinewidth\":0,\"ticks\":\"\"}},\"type\":\"scattergeo\"}],\"scattergl\":[{\"marker\":{\"colorbar\":{\"outlinewidth\":0,\"ticks\":\"\"}},\"type\":\"scattergl\"}],\"scattermapbox\":[{\"marker\":{\"colorbar\":{\"outlinewidth\":0,\"ticks\":\"\"}},\"type\":\"scattermapbox\"}],\"scatterpolargl\":[{\"marker\":{\"colorbar\":{\"outlinewidth\":0,\"ticks\":\"\"}},\"type\":\"scatterpolargl\"}],\"scatterpolar\":[{\"marker\":{\"colorbar\":{\"outlinewidth\":0,\"ticks\":\"\"}},\"type\":\"scatterpolar\"}],\"scatter\":[{\"fillpattern\":{\"fillmode\":\"overlay\",\"size\":10,\"solidity\":0.2},\"type\":\"scatter\"}],\"scatterternary\":[{\"marker\":{\"colorbar\":{\"outlinewidth\":0,\"ticks\":\"\"}},\"type\":\"scatterternary\"}],\"surface\":[{\"colorbar\":{\"outlinewidth\":0,\"ticks\":\"\"},\"colorscale\":[[0.0,\"#0d0887\"],[0.1111111111111111,\"#46039f\"],[0.2222222222222222,\"#7201a8\"],[0.3333333333333333,\"#9c179e\"],[0.4444444444444444,\"#bd3786\"],[0.5555555555555556,\"#d8576b\"],[0.6666666666666666,\"#ed7953\"],[0.7777777777777778,\"#fb9f3a\"],[0.8888888888888888,\"#fdca26\"],[1.0,\"#f0f921\"]],\"type\":\"surface\"}],\"table\":[{\"cells\":{\"fill\":{\"color\":\"#EBF0F8\"},\"line\":{\"color\":\"white\"}},\"header\":{\"fill\":{\"color\":\"#C8D4E3\"},\"line\":{\"color\":\"white\"}},\"type\":\"table\"}]},\"layout\":{\"annotationdefaults\":{\"arrowcolor\":\"#2a3f5f\",\"arrowhead\":0,\"arrowwidth\":1},\"autotypenumbers\":\"strict\",\"coloraxis\":{\"colorbar\":{\"outlinewidth\":0,\"ticks\":\"\"}},\"colorscale\":{\"diverging\":[[0,\"#8e0152\"],[0.1,\"#c51b7d\"],[0.2,\"#de77ae\"],[0.3,\"#f1b6da\"],[0.4,\"#fde0ef\"],[0.5,\"#f7f7f7\"],[0.6,\"#e6f5d0\"],[0.7,\"#b8e186\"],[0.8,\"#7fbc41\"],[0.9,\"#4d9221\"],[1,\"#276419\"]],\"sequential\":[[0.0,\"#0d0887\"],[0.1111111111111111,\"#46039f\"],[0.2222222222222222,\"#7201a8\"],[0.3333333333333333,\"#9c179e\"],[0.4444444444444444,\"#bd3786\"],[0.5555555555555556,\"#d8576b\"],[0.6666666666666666,\"#ed7953\"],[0.7777777777777778,\"#fb9f3a\"],[0.8888888888888888,\"#fdca26\"],[1.0,\"#f0f921\"]],\"sequentialminus\":[[0.0,\"#0d0887\"],[0.1111111111111111,\"#46039f\"],[0.2222222222222222,\"#7201a8\"],[0.3333333333333333,\"#9c179e\"],[0.4444444444444444,\"#bd3786\"],[0.5555555555555556,\"#d8576b\"],[0.6666666666666666,\"#ed7953\"],[0.7777777777777778,\"#fb9f3a\"],[0.8888888888888888,\"#fdca26\"],[1.0,\"#f0f921\"]]},\"colorway\":[\"#636efa\",\"#EF553B\",\"#00cc96\",\"#ab63fa\",\"#FFA15A\",\"#19d3f3\",\"#FF6692\",\"#B6E880\",\"#FF97FF\",\"#FECB52\"],\"font\":{\"color\":\"#2a3f5f\"},\"geo\":{\"bgcolor\":\"white\",\"lakecolor\":\"white\",\"landcolor\":\"#E5ECF6\",\"showlakes\":true,\"showland\":true,\"subunitcolor\":\"white\"},\"hoverlabel\":{\"align\":\"left\"},\"hovermode\":\"closest\",\"mapbox\":{\"style\":\"light\"},\"paper_bgcolor\":\"white\",\"plot_bgcolor\":\"#E5ECF6\",\"polar\":{\"angularaxis\":{\"gridcolor\":\"white\",\"linecolor\":\"white\",\"ticks\":\"\"},\"bgcolor\":\"#E5ECF6\",\"radialaxis\":{\"gridcolor\":\"white\",\"linecolor\":\"white\",\"ticks\":\"\"}},\"scene\":{\"xaxis\":{\"backgroundcolor\":\"#E5ECF6\",\"gridcolor\":\"white\",\"gridwidth\":2,\"linecolor\":\"white\",\"showbackground\":true,\"ticks\":\"\",\"zerolinecolor\":\"white\"},\"yaxis\":{\"backgroundcolor\":\"#E5ECF6\",\"gridcolor\":\"white\",\"gridwidth\":2,\"linecolor\":\"white\",\"showbackground\":true,\"ticks\":\"\",\"zerolinecolor\":\"white\"},\"zaxis\":{\"backgroundcolor\":\"#E5ECF6\",\"gridcolor\":\"white\",\"gridwidth\":2,\"linecolor\":\"white\",\"showbackground\":true,\"ticks\":\"\",\"zerolinecolor\":\"white\"}},\"shapedefaults\":{\"line\":{\"color\":\"#2a3f5f\"}},\"ternary\":{\"aaxis\":{\"gridcolor\":\"white\",\"linecolor\":\"white\",\"ticks\":\"\"},\"baxis\":{\"gridcolor\":\"white\",\"linecolor\":\"white\",\"ticks\":\"\"},\"bgcolor\":\"#E5ECF6\",\"caxis\":{\"gridcolor\":\"white\",\"linecolor\":\"white\",\"ticks\":\"\"}},\"title\":{\"x\":0.05},\"xaxis\":{\"automargin\":true,\"gridcolor\":\"white\",\"linecolor\":\"white\",\"ticks\":\"\",\"title\":{\"standoff\":15},\"zerolinecolor\":\"white\",\"zerolinewidth\":2},\"yaxis\":{\"automargin\":true,\"gridcolor\":\"white\",\"linecolor\":\"white\",\"ticks\":\"\",\"title\":{\"standoff\":15},\"zerolinecolor\":\"white\",\"zerolinewidth\":2}}},\"title\":{\"font\":{\"color\":\"#4D5663\"}},\"xaxis\":{\"gridcolor\":\"#E1E5ED\",\"showgrid\":true,\"tickfont\":{\"color\":\"#4D5663\"},\"title\":{\"font\":{\"color\":\"#4D5663\"},\"text\":\"\"},\"zerolinecolor\":\"#E1E5ED\"},\"yaxis\":{\"gridcolor\":\"#E1E5ED\",\"showgrid\":true,\"tickfont\":{\"color\":\"#4D5663\"},\"title\":{\"font\":{\"color\":\"#4D5663\"},\"text\":\"\"},\"zerolinecolor\":\"#E1E5ED\"}},                        {\"showLink\": true, \"linkText\": \"Export to plot.ly\", \"plotlyServerURL\": \"https://plot.ly\", \"responsive\": true}                    ).then(function(){\n",
       "                            \n",
       "var gd = document.getElementById('10a72efb-3dac-4036-9a19-0a76ff48a27a');\n",
       "var x = new MutationObserver(function (mutations, observer) {{\n",
       "        var display = window.getComputedStyle(gd).display;\n",
       "        if (!display || display === 'none') {{\n",
       "            console.log([gd, 'removed!']);\n",
       "            Plotly.purge(gd);\n",
       "            observer.disconnect();\n",
       "        }}\n",
       "}});\n",
       "\n",
       "// Listen for the removal of the full notebook cells\n",
       "var notebookContainer = gd.closest('#notebook-container');\n",
       "if (notebookContainer) {{\n",
       "    x.observe(notebookContainer, {childList: true});\n",
       "}}\n",
       "\n",
       "// Listen for the clearing of the current output cell\n",
       "var outputEl = gd.closest('.output');\n",
       "if (outputEl) {{\n",
       "    x.observe(outputEl, {childList: true});\n",
       "}}\n",
       "\n",
       "                        })                };                });            </script>        </div>"
      ]
     },
     "metadata": {},
     "output_type": "display_data"
    }
   ],
   "source": [
    "df3.iplot(kind='surface')"
   ]
  },
  {
   "cell_type": "code",
   "execution_count": 126,
   "metadata": {},
   "outputs": [],
   "source": [
    "df4=pd.DataFrame({'x':[1,2,3,4,5,6,7],'y':[12,23,15,35,6,26,52], 'z':[7,6,5,4,3,2,1]})"
   ]
  },
  {
   "cell_type": "code",
   "execution_count": 127,
   "metadata": {},
   "outputs": [
    {
     "data": {
      "application/vnd.plotly.v1+json": {
       "config": {
        "linkText": "Export to plot.ly",
        "plotlyServerURL": "https://plot.ly",
        "showLink": true
       },
       "data": [
        {
         "colorscale": [
          [
           0,
           "rgb(165,0,38)"
          ],
          [
           0.1,
           "rgb(215,48,39)"
          ],
          [
           0.2,
           "rgb(244,109,67)"
          ],
          [
           0.3,
           "rgb(253,174,97)"
          ],
          [
           0.4,
           "rgb(254,224,144)"
          ],
          [
           0.5,
           "rgb(255,255,191)"
          ],
          [
           0.6,
           "rgb(224,243,248)"
          ],
          [
           0.7,
           "rgb(171,217,233)"
          ],
          [
           0.8,
           "rgb(116,173,209)"
          ],
          [
           0.9,
           "rgb(69,117,180)"
          ],
          [
           1,
           "rgb(49,54,149)"
          ]
         ],
         "type": "surface",
         "x": [
          0,
          1,
          2,
          3,
          4,
          5,
          6
         ],
         "y": [
          "x",
          "y",
          "z"
         ],
         "z": [
          [
           1,
           2,
           3,
           4,
           5,
           6,
           7
          ],
          [
           12,
           23,
           15,
           35,
           6,
           26,
           52
          ],
          [
           7,
           6,
           5,
           4,
           3,
           2,
           1
          ]
         ]
        }
       ],
       "layout": {
        "legend": {
         "bgcolor": "#F5F6F9",
         "font": {
          "color": "#4D5663"
         }
        },
        "paper_bgcolor": "#F5F6F9",
        "plot_bgcolor": "#F5F6F9",
        "template": {
         "data": {
          "bar": [
           {
            "error_x": {
             "color": "#2a3f5f"
            },
            "error_y": {
             "color": "#2a3f5f"
            },
            "marker": {
             "line": {
              "color": "#E5ECF6",
              "width": 0.5
             },
             "pattern": {
              "fillmode": "overlay",
              "size": 10,
              "solidity": 0.2
             }
            },
            "type": "bar"
           }
          ],
          "barpolar": [
           {
            "marker": {
             "line": {
              "color": "#E5ECF6",
              "width": 0.5
             },
             "pattern": {
              "fillmode": "overlay",
              "size": 10,
              "solidity": 0.2
             }
            },
            "type": "barpolar"
           }
          ],
          "carpet": [
           {
            "aaxis": {
             "endlinecolor": "#2a3f5f",
             "gridcolor": "white",
             "linecolor": "white",
             "minorgridcolor": "white",
             "startlinecolor": "#2a3f5f"
            },
            "baxis": {
             "endlinecolor": "#2a3f5f",
             "gridcolor": "white",
             "linecolor": "white",
             "minorgridcolor": "white",
             "startlinecolor": "#2a3f5f"
            },
            "type": "carpet"
           }
          ],
          "choropleth": [
           {
            "colorbar": {
             "outlinewidth": 0,
             "ticks": ""
            },
            "type": "choropleth"
           }
          ],
          "contour": [
           {
            "colorbar": {
             "outlinewidth": 0,
             "ticks": ""
            },
            "colorscale": [
             [
              0,
              "#0d0887"
             ],
             [
              0.1111111111111111,
              "#46039f"
             ],
             [
              0.2222222222222222,
              "#7201a8"
             ],
             [
              0.3333333333333333,
              "#9c179e"
             ],
             [
              0.4444444444444444,
              "#bd3786"
             ],
             [
              0.5555555555555556,
              "#d8576b"
             ],
             [
              0.6666666666666666,
              "#ed7953"
             ],
             [
              0.7777777777777778,
              "#fb9f3a"
             ],
             [
              0.8888888888888888,
              "#fdca26"
             ],
             [
              1,
              "#f0f921"
             ]
            ],
            "type": "contour"
           }
          ],
          "contourcarpet": [
           {
            "colorbar": {
             "outlinewidth": 0,
             "ticks": ""
            },
            "type": "contourcarpet"
           }
          ],
          "heatmap": [
           {
            "colorbar": {
             "outlinewidth": 0,
             "ticks": ""
            },
            "colorscale": [
             [
              0,
              "#0d0887"
             ],
             [
              0.1111111111111111,
              "#46039f"
             ],
             [
              0.2222222222222222,
              "#7201a8"
             ],
             [
              0.3333333333333333,
              "#9c179e"
             ],
             [
              0.4444444444444444,
              "#bd3786"
             ],
             [
              0.5555555555555556,
              "#d8576b"
             ],
             [
              0.6666666666666666,
              "#ed7953"
             ],
             [
              0.7777777777777778,
              "#fb9f3a"
             ],
             [
              0.8888888888888888,
              "#fdca26"
             ],
             [
              1,
              "#f0f921"
             ]
            ],
            "type": "heatmap"
           }
          ],
          "heatmapgl": [
           {
            "colorbar": {
             "outlinewidth": 0,
             "ticks": ""
            },
            "colorscale": [
             [
              0,
              "#0d0887"
             ],
             [
              0.1111111111111111,
              "#46039f"
             ],
             [
              0.2222222222222222,
              "#7201a8"
             ],
             [
              0.3333333333333333,
              "#9c179e"
             ],
             [
              0.4444444444444444,
              "#bd3786"
             ],
             [
              0.5555555555555556,
              "#d8576b"
             ],
             [
              0.6666666666666666,
              "#ed7953"
             ],
             [
              0.7777777777777778,
              "#fb9f3a"
             ],
             [
              0.8888888888888888,
              "#fdca26"
             ],
             [
              1,
              "#f0f921"
             ]
            ],
            "type": "heatmapgl"
           }
          ],
          "histogram": [
           {
            "marker": {
             "pattern": {
              "fillmode": "overlay",
              "size": 10,
              "solidity": 0.2
             }
            },
            "type": "histogram"
           }
          ],
          "histogram2d": [
           {
            "colorbar": {
             "outlinewidth": 0,
             "ticks": ""
            },
            "colorscale": [
             [
              0,
              "#0d0887"
             ],
             [
              0.1111111111111111,
              "#46039f"
             ],
             [
              0.2222222222222222,
              "#7201a8"
             ],
             [
              0.3333333333333333,
              "#9c179e"
             ],
             [
              0.4444444444444444,
              "#bd3786"
             ],
             [
              0.5555555555555556,
              "#d8576b"
             ],
             [
              0.6666666666666666,
              "#ed7953"
             ],
             [
              0.7777777777777778,
              "#fb9f3a"
             ],
             [
              0.8888888888888888,
              "#fdca26"
             ],
             [
              1,
              "#f0f921"
             ]
            ],
            "type": "histogram2d"
           }
          ],
          "histogram2dcontour": [
           {
            "colorbar": {
             "outlinewidth": 0,
             "ticks": ""
            },
            "colorscale": [
             [
              0,
              "#0d0887"
             ],
             [
              0.1111111111111111,
              "#46039f"
             ],
             [
              0.2222222222222222,
              "#7201a8"
             ],
             [
              0.3333333333333333,
              "#9c179e"
             ],
             [
              0.4444444444444444,
              "#bd3786"
             ],
             [
              0.5555555555555556,
              "#d8576b"
             ],
             [
              0.6666666666666666,
              "#ed7953"
             ],
             [
              0.7777777777777778,
              "#fb9f3a"
             ],
             [
              0.8888888888888888,
              "#fdca26"
             ],
             [
              1,
              "#f0f921"
             ]
            ],
            "type": "histogram2dcontour"
           }
          ],
          "mesh3d": [
           {
            "colorbar": {
             "outlinewidth": 0,
             "ticks": ""
            },
            "type": "mesh3d"
           }
          ],
          "parcoords": [
           {
            "line": {
             "colorbar": {
              "outlinewidth": 0,
              "ticks": ""
             }
            },
            "type": "parcoords"
           }
          ],
          "pie": [
           {
            "automargin": true,
            "type": "pie"
           }
          ],
          "scatter": [
           {
            "fillpattern": {
             "fillmode": "overlay",
             "size": 10,
             "solidity": 0.2
            },
            "type": "scatter"
           }
          ],
          "scatter3d": [
           {
            "line": {
             "colorbar": {
              "outlinewidth": 0,
              "ticks": ""
             }
            },
            "marker": {
             "colorbar": {
              "outlinewidth": 0,
              "ticks": ""
             }
            },
            "type": "scatter3d"
           }
          ],
          "scattercarpet": [
           {
            "marker": {
             "colorbar": {
              "outlinewidth": 0,
              "ticks": ""
             }
            },
            "type": "scattercarpet"
           }
          ],
          "scattergeo": [
           {
            "marker": {
             "colorbar": {
              "outlinewidth": 0,
              "ticks": ""
             }
            },
            "type": "scattergeo"
           }
          ],
          "scattergl": [
           {
            "marker": {
             "colorbar": {
              "outlinewidth": 0,
              "ticks": ""
             }
            },
            "type": "scattergl"
           }
          ],
          "scattermapbox": [
           {
            "marker": {
             "colorbar": {
              "outlinewidth": 0,
              "ticks": ""
             }
            },
            "type": "scattermapbox"
           }
          ],
          "scatterpolar": [
           {
            "marker": {
             "colorbar": {
              "outlinewidth": 0,
              "ticks": ""
             }
            },
            "type": "scatterpolar"
           }
          ],
          "scatterpolargl": [
           {
            "marker": {
             "colorbar": {
              "outlinewidth": 0,
              "ticks": ""
             }
            },
            "type": "scatterpolargl"
           }
          ],
          "scatterternary": [
           {
            "marker": {
             "colorbar": {
              "outlinewidth": 0,
              "ticks": ""
             }
            },
            "type": "scatterternary"
           }
          ],
          "surface": [
           {
            "colorbar": {
             "outlinewidth": 0,
             "ticks": ""
            },
            "colorscale": [
             [
              0,
              "#0d0887"
             ],
             [
              0.1111111111111111,
              "#46039f"
             ],
             [
              0.2222222222222222,
              "#7201a8"
             ],
             [
              0.3333333333333333,
              "#9c179e"
             ],
             [
              0.4444444444444444,
              "#bd3786"
             ],
             [
              0.5555555555555556,
              "#d8576b"
             ],
             [
              0.6666666666666666,
              "#ed7953"
             ],
             [
              0.7777777777777778,
              "#fb9f3a"
             ],
             [
              0.8888888888888888,
              "#fdca26"
             ],
             [
              1,
              "#f0f921"
             ]
            ],
            "type": "surface"
           }
          ],
          "table": [
           {
            "cells": {
             "fill": {
              "color": "#EBF0F8"
             },
             "line": {
              "color": "white"
             }
            },
            "header": {
             "fill": {
              "color": "#C8D4E3"
             },
             "line": {
              "color": "white"
             }
            },
            "type": "table"
           }
          ]
         },
         "layout": {
          "annotationdefaults": {
           "arrowcolor": "#2a3f5f",
           "arrowhead": 0,
           "arrowwidth": 1
          },
          "autotypenumbers": "strict",
          "coloraxis": {
           "colorbar": {
            "outlinewidth": 0,
            "ticks": ""
           }
          },
          "colorscale": {
           "diverging": [
            [
             0,
             "#8e0152"
            ],
            [
             0.1,
             "#c51b7d"
            ],
            [
             0.2,
             "#de77ae"
            ],
            [
             0.3,
             "#f1b6da"
            ],
            [
             0.4,
             "#fde0ef"
            ],
            [
             0.5,
             "#f7f7f7"
            ],
            [
             0.6,
             "#e6f5d0"
            ],
            [
             0.7,
             "#b8e186"
            ],
            [
             0.8,
             "#7fbc41"
            ],
            [
             0.9,
             "#4d9221"
            ],
            [
             1,
             "#276419"
            ]
           ],
           "sequential": [
            [
             0,
             "#0d0887"
            ],
            [
             0.1111111111111111,
             "#46039f"
            ],
            [
             0.2222222222222222,
             "#7201a8"
            ],
            [
             0.3333333333333333,
             "#9c179e"
            ],
            [
             0.4444444444444444,
             "#bd3786"
            ],
            [
             0.5555555555555556,
             "#d8576b"
            ],
            [
             0.6666666666666666,
             "#ed7953"
            ],
            [
             0.7777777777777778,
             "#fb9f3a"
            ],
            [
             0.8888888888888888,
             "#fdca26"
            ],
            [
             1,
             "#f0f921"
            ]
           ],
           "sequentialminus": [
            [
             0,
             "#0d0887"
            ],
            [
             0.1111111111111111,
             "#46039f"
            ],
            [
             0.2222222222222222,
             "#7201a8"
            ],
            [
             0.3333333333333333,
             "#9c179e"
            ],
            [
             0.4444444444444444,
             "#bd3786"
            ],
            [
             0.5555555555555556,
             "#d8576b"
            ],
            [
             0.6666666666666666,
             "#ed7953"
            ],
            [
             0.7777777777777778,
             "#fb9f3a"
            ],
            [
             0.8888888888888888,
             "#fdca26"
            ],
            [
             1,
             "#f0f921"
            ]
           ]
          },
          "colorway": [
           "#636efa",
           "#EF553B",
           "#00cc96",
           "#ab63fa",
           "#FFA15A",
           "#19d3f3",
           "#FF6692",
           "#B6E880",
           "#FF97FF",
           "#FECB52"
          ],
          "font": {
           "color": "#2a3f5f"
          },
          "geo": {
           "bgcolor": "white",
           "lakecolor": "white",
           "landcolor": "#E5ECF6",
           "showlakes": true,
           "showland": true,
           "subunitcolor": "white"
          },
          "hoverlabel": {
           "align": "left"
          },
          "hovermode": "closest",
          "mapbox": {
           "style": "light"
          },
          "paper_bgcolor": "white",
          "plot_bgcolor": "#E5ECF6",
          "polar": {
           "angularaxis": {
            "gridcolor": "white",
            "linecolor": "white",
            "ticks": ""
           },
           "bgcolor": "#E5ECF6",
           "radialaxis": {
            "gridcolor": "white",
            "linecolor": "white",
            "ticks": ""
           }
          },
          "scene": {
           "xaxis": {
            "backgroundcolor": "#E5ECF6",
            "gridcolor": "white",
            "gridwidth": 2,
            "linecolor": "white",
            "showbackground": true,
            "ticks": "",
            "zerolinecolor": "white"
           },
           "yaxis": {
            "backgroundcolor": "#E5ECF6",
            "gridcolor": "white",
            "gridwidth": 2,
            "linecolor": "white",
            "showbackground": true,
            "ticks": "",
            "zerolinecolor": "white"
           },
           "zaxis": {
            "backgroundcolor": "#E5ECF6",
            "gridcolor": "white",
            "gridwidth": 2,
            "linecolor": "white",
            "showbackground": true,
            "ticks": "",
            "zerolinecolor": "white"
           }
          },
          "shapedefaults": {
           "line": {
            "color": "#2a3f5f"
           }
          },
          "ternary": {
           "aaxis": {
            "gridcolor": "white",
            "linecolor": "white",
            "ticks": ""
           },
           "baxis": {
            "gridcolor": "white",
            "linecolor": "white",
            "ticks": ""
           },
           "bgcolor": "#E5ECF6",
           "caxis": {
            "gridcolor": "white",
            "linecolor": "white",
            "ticks": ""
           }
          },
          "title": {
           "x": 0.05
          },
          "xaxis": {
           "automargin": true,
           "gridcolor": "white",
           "linecolor": "white",
           "ticks": "",
           "title": {
            "standoff": 15
           },
           "zerolinecolor": "white",
           "zerolinewidth": 2
          },
          "yaxis": {
           "automargin": true,
           "gridcolor": "white",
           "linecolor": "white",
           "ticks": "",
           "title": {
            "standoff": 15
           },
           "zerolinecolor": "white",
           "zerolinewidth": 2
          }
         }
        },
        "title": {
         "font": {
          "color": "#4D5663"
         }
        },
        "xaxis": {
         "gridcolor": "#E1E5ED",
         "showgrid": true,
         "tickfont": {
          "color": "#4D5663"
         },
         "title": {
          "font": {
           "color": "#4D5663"
          },
          "text": ""
         },
         "zerolinecolor": "#E1E5ED"
        },
        "yaxis": {
         "gridcolor": "#E1E5ED",
         "showgrid": true,
         "tickfont": {
          "color": "#4D5663"
         },
         "title": {
          "font": {
           "color": "#4D5663"
          },
          "text": ""
         },
         "zerolinecolor": "#E1E5ED"
        }
       }
      },
      "text/html": [
       "<div>                            <div id=\"6dfff3dd-b9b0-4348-a4ce-42e4638ae4c8\" class=\"plotly-graph-div\" style=\"height:525px; width:100%;\"></div>            <script type=\"text/javascript\">                require([\"plotly\"], function(Plotly) {                    window.PLOTLYENV=window.PLOTLYENV || {};\n",
       "                    window.PLOTLYENV.BASE_URL='https://plot.ly';                                    if (document.getElementById(\"6dfff3dd-b9b0-4348-a4ce-42e4638ae4c8\")) {                    Plotly.newPlot(                        \"6dfff3dd-b9b0-4348-a4ce-42e4638ae4c8\",                        [{\"colorscale\":[[0.0,\"rgb(165,0,38)\"],[0.1,\"rgb(215,48,39)\"],[0.2,\"rgb(244,109,67)\"],[0.3,\"rgb(253,174,97)\"],[0.4,\"rgb(254,224,144)\"],[0.5,\"rgb(255,255,191)\"],[0.6,\"rgb(224,243,248)\"],[0.7,\"rgb(171,217,233)\"],[0.8,\"rgb(116,173,209)\"],[0.9,\"rgb(69,117,180)\"],[1.0,\"rgb(49,54,149)\"]],\"x\":[0,1,2,3,4,5,6],\"y\":[\"x\",\"y\",\"z\"],\"z\":[[1,2,3,4,5,6,7],[12,23,15,35,6,26,52],[7,6,5,4,3,2,1]],\"type\":\"surface\"}],                        {\"legend\":{\"bgcolor\":\"#F5F6F9\",\"font\":{\"color\":\"#4D5663\"}},\"paper_bgcolor\":\"#F5F6F9\",\"plot_bgcolor\":\"#F5F6F9\",\"template\":{\"data\":{\"barpolar\":[{\"marker\":{\"line\":{\"color\":\"#E5ECF6\",\"width\":0.5},\"pattern\":{\"fillmode\":\"overlay\",\"size\":10,\"solidity\":0.2}},\"type\":\"barpolar\"}],\"bar\":[{\"error_x\":{\"color\":\"#2a3f5f\"},\"error_y\":{\"color\":\"#2a3f5f\"},\"marker\":{\"line\":{\"color\":\"#E5ECF6\",\"width\":0.5},\"pattern\":{\"fillmode\":\"overlay\",\"size\":10,\"solidity\":0.2}},\"type\":\"bar\"}],\"carpet\":[{\"aaxis\":{\"endlinecolor\":\"#2a3f5f\",\"gridcolor\":\"white\",\"linecolor\":\"white\",\"minorgridcolor\":\"white\",\"startlinecolor\":\"#2a3f5f\"},\"baxis\":{\"endlinecolor\":\"#2a3f5f\",\"gridcolor\":\"white\",\"linecolor\":\"white\",\"minorgridcolor\":\"white\",\"startlinecolor\":\"#2a3f5f\"},\"type\":\"carpet\"}],\"choropleth\":[{\"colorbar\":{\"outlinewidth\":0,\"ticks\":\"\"},\"type\":\"choropleth\"}],\"contourcarpet\":[{\"colorbar\":{\"outlinewidth\":0,\"ticks\":\"\"},\"type\":\"contourcarpet\"}],\"contour\":[{\"colorbar\":{\"outlinewidth\":0,\"ticks\":\"\"},\"colorscale\":[[0.0,\"#0d0887\"],[0.1111111111111111,\"#46039f\"],[0.2222222222222222,\"#7201a8\"],[0.3333333333333333,\"#9c179e\"],[0.4444444444444444,\"#bd3786\"],[0.5555555555555556,\"#d8576b\"],[0.6666666666666666,\"#ed7953\"],[0.7777777777777778,\"#fb9f3a\"],[0.8888888888888888,\"#fdca26\"],[1.0,\"#f0f921\"]],\"type\":\"contour\"}],\"heatmapgl\":[{\"colorbar\":{\"outlinewidth\":0,\"ticks\":\"\"},\"colorscale\":[[0.0,\"#0d0887\"],[0.1111111111111111,\"#46039f\"],[0.2222222222222222,\"#7201a8\"],[0.3333333333333333,\"#9c179e\"],[0.4444444444444444,\"#bd3786\"],[0.5555555555555556,\"#d8576b\"],[0.6666666666666666,\"#ed7953\"],[0.7777777777777778,\"#fb9f3a\"],[0.8888888888888888,\"#fdca26\"],[1.0,\"#f0f921\"]],\"type\":\"heatmapgl\"}],\"heatmap\":[{\"colorbar\":{\"outlinewidth\":0,\"ticks\":\"\"},\"colorscale\":[[0.0,\"#0d0887\"],[0.1111111111111111,\"#46039f\"],[0.2222222222222222,\"#7201a8\"],[0.3333333333333333,\"#9c179e\"],[0.4444444444444444,\"#bd3786\"],[0.5555555555555556,\"#d8576b\"],[0.6666666666666666,\"#ed7953\"],[0.7777777777777778,\"#fb9f3a\"],[0.8888888888888888,\"#fdca26\"],[1.0,\"#f0f921\"]],\"type\":\"heatmap\"}],\"histogram2dcontour\":[{\"colorbar\":{\"outlinewidth\":0,\"ticks\":\"\"},\"colorscale\":[[0.0,\"#0d0887\"],[0.1111111111111111,\"#46039f\"],[0.2222222222222222,\"#7201a8\"],[0.3333333333333333,\"#9c179e\"],[0.4444444444444444,\"#bd3786\"],[0.5555555555555556,\"#d8576b\"],[0.6666666666666666,\"#ed7953\"],[0.7777777777777778,\"#fb9f3a\"],[0.8888888888888888,\"#fdca26\"],[1.0,\"#f0f921\"]],\"type\":\"histogram2dcontour\"}],\"histogram2d\":[{\"colorbar\":{\"outlinewidth\":0,\"ticks\":\"\"},\"colorscale\":[[0.0,\"#0d0887\"],[0.1111111111111111,\"#46039f\"],[0.2222222222222222,\"#7201a8\"],[0.3333333333333333,\"#9c179e\"],[0.4444444444444444,\"#bd3786\"],[0.5555555555555556,\"#d8576b\"],[0.6666666666666666,\"#ed7953\"],[0.7777777777777778,\"#fb9f3a\"],[0.8888888888888888,\"#fdca26\"],[1.0,\"#f0f921\"]],\"type\":\"histogram2d\"}],\"histogram\":[{\"marker\":{\"pattern\":{\"fillmode\":\"overlay\",\"size\":10,\"solidity\":0.2}},\"type\":\"histogram\"}],\"mesh3d\":[{\"colorbar\":{\"outlinewidth\":0,\"ticks\":\"\"},\"type\":\"mesh3d\"}],\"parcoords\":[{\"line\":{\"colorbar\":{\"outlinewidth\":0,\"ticks\":\"\"}},\"type\":\"parcoords\"}],\"pie\":[{\"automargin\":true,\"type\":\"pie\"}],\"scatter3d\":[{\"line\":{\"colorbar\":{\"outlinewidth\":0,\"ticks\":\"\"}},\"marker\":{\"colorbar\":{\"outlinewidth\":0,\"ticks\":\"\"}},\"type\":\"scatter3d\"}],\"scattercarpet\":[{\"marker\":{\"colorbar\":{\"outlinewidth\":0,\"ticks\":\"\"}},\"type\":\"scattercarpet\"}],\"scattergeo\":[{\"marker\":{\"colorbar\":{\"outlinewidth\":0,\"ticks\":\"\"}},\"type\":\"scattergeo\"}],\"scattergl\":[{\"marker\":{\"colorbar\":{\"outlinewidth\":0,\"ticks\":\"\"}},\"type\":\"scattergl\"}],\"scattermapbox\":[{\"marker\":{\"colorbar\":{\"outlinewidth\":0,\"ticks\":\"\"}},\"type\":\"scattermapbox\"}],\"scatterpolargl\":[{\"marker\":{\"colorbar\":{\"outlinewidth\":0,\"ticks\":\"\"}},\"type\":\"scatterpolargl\"}],\"scatterpolar\":[{\"marker\":{\"colorbar\":{\"outlinewidth\":0,\"ticks\":\"\"}},\"type\":\"scatterpolar\"}],\"scatter\":[{\"fillpattern\":{\"fillmode\":\"overlay\",\"size\":10,\"solidity\":0.2},\"type\":\"scatter\"}],\"scatterternary\":[{\"marker\":{\"colorbar\":{\"outlinewidth\":0,\"ticks\":\"\"}},\"type\":\"scatterternary\"}],\"surface\":[{\"colorbar\":{\"outlinewidth\":0,\"ticks\":\"\"},\"colorscale\":[[0.0,\"#0d0887\"],[0.1111111111111111,\"#46039f\"],[0.2222222222222222,\"#7201a8\"],[0.3333333333333333,\"#9c179e\"],[0.4444444444444444,\"#bd3786\"],[0.5555555555555556,\"#d8576b\"],[0.6666666666666666,\"#ed7953\"],[0.7777777777777778,\"#fb9f3a\"],[0.8888888888888888,\"#fdca26\"],[1.0,\"#f0f921\"]],\"type\":\"surface\"}],\"table\":[{\"cells\":{\"fill\":{\"color\":\"#EBF0F8\"},\"line\":{\"color\":\"white\"}},\"header\":{\"fill\":{\"color\":\"#C8D4E3\"},\"line\":{\"color\":\"white\"}},\"type\":\"table\"}]},\"layout\":{\"annotationdefaults\":{\"arrowcolor\":\"#2a3f5f\",\"arrowhead\":0,\"arrowwidth\":1},\"autotypenumbers\":\"strict\",\"coloraxis\":{\"colorbar\":{\"outlinewidth\":0,\"ticks\":\"\"}},\"colorscale\":{\"diverging\":[[0,\"#8e0152\"],[0.1,\"#c51b7d\"],[0.2,\"#de77ae\"],[0.3,\"#f1b6da\"],[0.4,\"#fde0ef\"],[0.5,\"#f7f7f7\"],[0.6,\"#e6f5d0\"],[0.7,\"#b8e186\"],[0.8,\"#7fbc41\"],[0.9,\"#4d9221\"],[1,\"#276419\"]],\"sequential\":[[0.0,\"#0d0887\"],[0.1111111111111111,\"#46039f\"],[0.2222222222222222,\"#7201a8\"],[0.3333333333333333,\"#9c179e\"],[0.4444444444444444,\"#bd3786\"],[0.5555555555555556,\"#d8576b\"],[0.6666666666666666,\"#ed7953\"],[0.7777777777777778,\"#fb9f3a\"],[0.8888888888888888,\"#fdca26\"],[1.0,\"#f0f921\"]],\"sequentialminus\":[[0.0,\"#0d0887\"],[0.1111111111111111,\"#46039f\"],[0.2222222222222222,\"#7201a8\"],[0.3333333333333333,\"#9c179e\"],[0.4444444444444444,\"#bd3786\"],[0.5555555555555556,\"#d8576b\"],[0.6666666666666666,\"#ed7953\"],[0.7777777777777778,\"#fb9f3a\"],[0.8888888888888888,\"#fdca26\"],[1.0,\"#f0f921\"]]},\"colorway\":[\"#636efa\",\"#EF553B\",\"#00cc96\",\"#ab63fa\",\"#FFA15A\",\"#19d3f3\",\"#FF6692\",\"#B6E880\",\"#FF97FF\",\"#FECB52\"],\"font\":{\"color\":\"#2a3f5f\"},\"geo\":{\"bgcolor\":\"white\",\"lakecolor\":\"white\",\"landcolor\":\"#E5ECF6\",\"showlakes\":true,\"showland\":true,\"subunitcolor\":\"white\"},\"hoverlabel\":{\"align\":\"left\"},\"hovermode\":\"closest\",\"mapbox\":{\"style\":\"light\"},\"paper_bgcolor\":\"white\",\"plot_bgcolor\":\"#E5ECF6\",\"polar\":{\"angularaxis\":{\"gridcolor\":\"white\",\"linecolor\":\"white\",\"ticks\":\"\"},\"bgcolor\":\"#E5ECF6\",\"radialaxis\":{\"gridcolor\":\"white\",\"linecolor\":\"white\",\"ticks\":\"\"}},\"scene\":{\"xaxis\":{\"backgroundcolor\":\"#E5ECF6\",\"gridcolor\":\"white\",\"gridwidth\":2,\"linecolor\":\"white\",\"showbackground\":true,\"ticks\":\"\",\"zerolinecolor\":\"white\"},\"yaxis\":{\"backgroundcolor\":\"#E5ECF6\",\"gridcolor\":\"white\",\"gridwidth\":2,\"linecolor\":\"white\",\"showbackground\":true,\"ticks\":\"\",\"zerolinecolor\":\"white\"},\"zaxis\":{\"backgroundcolor\":\"#E5ECF6\",\"gridcolor\":\"white\",\"gridwidth\":2,\"linecolor\":\"white\",\"showbackground\":true,\"ticks\":\"\",\"zerolinecolor\":\"white\"}},\"shapedefaults\":{\"line\":{\"color\":\"#2a3f5f\"}},\"ternary\":{\"aaxis\":{\"gridcolor\":\"white\",\"linecolor\":\"white\",\"ticks\":\"\"},\"baxis\":{\"gridcolor\":\"white\",\"linecolor\":\"white\",\"ticks\":\"\"},\"bgcolor\":\"#E5ECF6\",\"caxis\":{\"gridcolor\":\"white\",\"linecolor\":\"white\",\"ticks\":\"\"}},\"title\":{\"x\":0.05},\"xaxis\":{\"automargin\":true,\"gridcolor\":\"white\",\"linecolor\":\"white\",\"ticks\":\"\",\"title\":{\"standoff\":15},\"zerolinecolor\":\"white\",\"zerolinewidth\":2},\"yaxis\":{\"automargin\":true,\"gridcolor\":\"white\",\"linecolor\":\"white\",\"ticks\":\"\",\"title\":{\"standoff\":15},\"zerolinecolor\":\"white\",\"zerolinewidth\":2}}},\"title\":{\"font\":{\"color\":\"#4D5663\"}},\"xaxis\":{\"gridcolor\":\"#E1E5ED\",\"showgrid\":true,\"tickfont\":{\"color\":\"#4D5663\"},\"title\":{\"font\":{\"color\":\"#4D5663\"},\"text\":\"\"},\"zerolinecolor\":\"#E1E5ED\"},\"yaxis\":{\"gridcolor\":\"#E1E5ED\",\"showgrid\":true,\"tickfont\":{\"color\":\"#4D5663\"},\"title\":{\"font\":{\"color\":\"#4D5663\"},\"text\":\"\"},\"zerolinecolor\":\"#E1E5ED\"}},                        {\"showLink\": true, \"linkText\": \"Export to plot.ly\", \"plotlyServerURL\": \"https://plot.ly\", \"responsive\": true}                    ).then(function(){\n",
       "                            \n",
       "var gd = document.getElementById('6dfff3dd-b9b0-4348-a4ce-42e4638ae4c8');\n",
       "var x = new MutationObserver(function (mutations, observer) {{\n",
       "        var display = window.getComputedStyle(gd).display;\n",
       "        if (!display || display === 'none') {{\n",
       "            console.log([gd, 'removed!']);\n",
       "            Plotly.purge(gd);\n",
       "            observer.disconnect();\n",
       "        }}\n",
       "}});\n",
       "\n",
       "// Listen for the removal of the full notebook cells\n",
       "var notebookContainer = gd.closest('#notebook-container');\n",
       "if (notebookContainer) {{\n",
       "    x.observe(notebookContainer, {childList: true});\n",
       "}}\n",
       "\n",
       "// Listen for the clearing of the current output cell\n",
       "var outputEl = gd.closest('.output');\n",
       "if (outputEl) {{\n",
       "    x.observe(outputEl, {childList: true});\n",
       "}}\n",
       "\n",
       "                        })                };                });            </script>        </div>"
      ]
     },
     "metadata": {},
     "output_type": "display_data"
    }
   ],
   "source": [
    "df4.iplot(kind='surface', colorscale='rdylbu')"
   ]
  },
  {
   "cell_type": "code",
   "execution_count": 128,
   "metadata": {},
   "outputs": [
    {
     "data": {
      "application/vnd.plotly.v1+json": {
       "config": {
        "linkText": "Export to plot.ly",
        "plotlyServerURL": "https://plot.ly",
        "showLink": true
       },
       "data": [
        {
         "histfunc": "count",
         "histnorm": "",
         "marker": {
          "color": "rgba(255, 153, 51, 1.0)",
          "line": {
           "color": "#4D5663",
           "width": 1.3
          }
         },
         "name": "A",
         "nbinsx": 7,
         "opacity": 0.8,
         "orientation": "v",
         "type": "histogram",
         "x": [
          -1.3731688173621832,
          -0.5236780566901539,
          -0.2456701124803259,
          -1.6380423135313602,
          0.9982274092034623,
          -1.15307228039646,
          -1.5618663632408445,
          0.8200192727725714,
          0.4896820037700569,
          -1.7515717647801263,
          -0.06337162209812126,
          -0.3710804808800396,
          1.334041593001444,
          -0.749371267093215,
          -0.08678441228771756,
          -1.8822514238319927,
          -0.934430313200707,
          -0.19847237614294302,
          -0.20675616177675002,
          0.8819335976960104,
          0.023120137660321772,
          -0.0937663221763038,
          1.0062716328804868,
          -0.7527872553381383,
          -1.711418215864383,
          -2.6231263089537467,
          0.5353519665610029,
          1.3611088323596643,
          -1.5553755052553273,
          -0.7900789027259035,
          -0.112099598614191,
          -0.7765022974880906,
          -1.0095700680916018,
          0.12751898362424638,
          0.48523254289941636,
          -0.08758679656614751,
          -0.6405700377096745,
          0.4508096744210774,
          -0.17729227464359826,
          -1.3703372018763402,
          0.35822387093041075,
          0.011425989559393415,
          -2.2806654962681123,
          -0.418647724918048,
          1.0416519990770345,
          -0.003226566833624996,
          -0.8009773563696257,
          -0.8028488879372703,
          0.4403941548182696,
          -0.6460565332446022,
          -1.0538901952212936,
          -0.02941339682476033,
          -0.17880153658567707,
          1.5504066876349598,
          -0.06515519216521365,
          0.2634552678872701,
          1.221545929144533,
          0.41801716583001197,
          1.5706085556631733,
          -0.5735845823969875,
          -0.8820952994521086,
          0.3274408658812476,
          0.0909898204822451,
          -2.353670135079995,
          -0.3661806770483226,
          -0.9498676077976055,
          -1.0564185103175003,
          -1.0333840929678313,
          0.14215218947690056,
          -2.024164960776577,
          -0.5104641477871487,
          0.5231634935646545,
          -0.752271124788865,
          -1.431441600474087,
          0.13510742157296052,
          0.5017877946333005,
          0.3659653905102098,
          0.07018885629698855,
          2.2459148212296487,
          0.6786454586708808,
          0.9490166345640043,
          -1.9094775520083493,
          1.728290787905516,
          0.6398327487317317,
          0.3544085374865336,
          0.11432799574217735,
          0.6589381343247359,
          0.10346767508405878,
          -1.1038727497628804,
          -0.5099896964508587,
          0.5867887413460539,
          -0.7522432291170378,
          -1.2458288997869245,
          -1.4730026290167162,
          0.16962320435120895,
          0.964513413489719,
          1.1079062496024767,
          -0.32293074154054024,
          -0.7015479463603599,
          2.1010850453068697
         ]
        }
       ],
       "layout": {
        "barmode": "overlay",
        "legend": {
         "bgcolor": "#F5F6F9",
         "font": {
          "color": "#4D5663"
         }
        },
        "paper_bgcolor": "#F5F6F9",
        "plot_bgcolor": "#F5F6F9",
        "template": {
         "data": {
          "bar": [
           {
            "error_x": {
             "color": "#2a3f5f"
            },
            "error_y": {
             "color": "#2a3f5f"
            },
            "marker": {
             "line": {
              "color": "#E5ECF6",
              "width": 0.5
             },
             "pattern": {
              "fillmode": "overlay",
              "size": 10,
              "solidity": 0.2
             }
            },
            "type": "bar"
           }
          ],
          "barpolar": [
           {
            "marker": {
             "line": {
              "color": "#E5ECF6",
              "width": 0.5
             },
             "pattern": {
              "fillmode": "overlay",
              "size": 10,
              "solidity": 0.2
             }
            },
            "type": "barpolar"
           }
          ],
          "carpet": [
           {
            "aaxis": {
             "endlinecolor": "#2a3f5f",
             "gridcolor": "white",
             "linecolor": "white",
             "minorgridcolor": "white",
             "startlinecolor": "#2a3f5f"
            },
            "baxis": {
             "endlinecolor": "#2a3f5f",
             "gridcolor": "white",
             "linecolor": "white",
             "minorgridcolor": "white",
             "startlinecolor": "#2a3f5f"
            },
            "type": "carpet"
           }
          ],
          "choropleth": [
           {
            "colorbar": {
             "outlinewidth": 0,
             "ticks": ""
            },
            "type": "choropleth"
           }
          ],
          "contour": [
           {
            "colorbar": {
             "outlinewidth": 0,
             "ticks": ""
            },
            "colorscale": [
             [
              0,
              "#0d0887"
             ],
             [
              0.1111111111111111,
              "#46039f"
             ],
             [
              0.2222222222222222,
              "#7201a8"
             ],
             [
              0.3333333333333333,
              "#9c179e"
             ],
             [
              0.4444444444444444,
              "#bd3786"
             ],
             [
              0.5555555555555556,
              "#d8576b"
             ],
             [
              0.6666666666666666,
              "#ed7953"
             ],
             [
              0.7777777777777778,
              "#fb9f3a"
             ],
             [
              0.8888888888888888,
              "#fdca26"
             ],
             [
              1,
              "#f0f921"
             ]
            ],
            "type": "contour"
           }
          ],
          "contourcarpet": [
           {
            "colorbar": {
             "outlinewidth": 0,
             "ticks": ""
            },
            "type": "contourcarpet"
           }
          ],
          "heatmap": [
           {
            "colorbar": {
             "outlinewidth": 0,
             "ticks": ""
            },
            "colorscale": [
             [
              0,
              "#0d0887"
             ],
             [
              0.1111111111111111,
              "#46039f"
             ],
             [
              0.2222222222222222,
              "#7201a8"
             ],
             [
              0.3333333333333333,
              "#9c179e"
             ],
             [
              0.4444444444444444,
              "#bd3786"
             ],
             [
              0.5555555555555556,
              "#d8576b"
             ],
             [
              0.6666666666666666,
              "#ed7953"
             ],
             [
              0.7777777777777778,
              "#fb9f3a"
             ],
             [
              0.8888888888888888,
              "#fdca26"
             ],
             [
              1,
              "#f0f921"
             ]
            ],
            "type": "heatmap"
           }
          ],
          "heatmapgl": [
           {
            "colorbar": {
             "outlinewidth": 0,
             "ticks": ""
            },
            "colorscale": [
             [
              0,
              "#0d0887"
             ],
             [
              0.1111111111111111,
              "#46039f"
             ],
             [
              0.2222222222222222,
              "#7201a8"
             ],
             [
              0.3333333333333333,
              "#9c179e"
             ],
             [
              0.4444444444444444,
              "#bd3786"
             ],
             [
              0.5555555555555556,
              "#d8576b"
             ],
             [
              0.6666666666666666,
              "#ed7953"
             ],
             [
              0.7777777777777778,
              "#fb9f3a"
             ],
             [
              0.8888888888888888,
              "#fdca26"
             ],
             [
              1,
              "#f0f921"
             ]
            ],
            "type": "heatmapgl"
           }
          ],
          "histogram": [
           {
            "marker": {
             "pattern": {
              "fillmode": "overlay",
              "size": 10,
              "solidity": 0.2
             }
            },
            "type": "histogram"
           }
          ],
          "histogram2d": [
           {
            "colorbar": {
             "outlinewidth": 0,
             "ticks": ""
            },
            "colorscale": [
             [
              0,
              "#0d0887"
             ],
             [
              0.1111111111111111,
              "#46039f"
             ],
             [
              0.2222222222222222,
              "#7201a8"
             ],
             [
              0.3333333333333333,
              "#9c179e"
             ],
             [
              0.4444444444444444,
              "#bd3786"
             ],
             [
              0.5555555555555556,
              "#d8576b"
             ],
             [
              0.6666666666666666,
              "#ed7953"
             ],
             [
              0.7777777777777778,
              "#fb9f3a"
             ],
             [
              0.8888888888888888,
              "#fdca26"
             ],
             [
              1,
              "#f0f921"
             ]
            ],
            "type": "histogram2d"
           }
          ],
          "histogram2dcontour": [
           {
            "colorbar": {
             "outlinewidth": 0,
             "ticks": ""
            },
            "colorscale": [
             [
              0,
              "#0d0887"
             ],
             [
              0.1111111111111111,
              "#46039f"
             ],
             [
              0.2222222222222222,
              "#7201a8"
             ],
             [
              0.3333333333333333,
              "#9c179e"
             ],
             [
              0.4444444444444444,
              "#bd3786"
             ],
             [
              0.5555555555555556,
              "#d8576b"
             ],
             [
              0.6666666666666666,
              "#ed7953"
             ],
             [
              0.7777777777777778,
              "#fb9f3a"
             ],
             [
              0.8888888888888888,
              "#fdca26"
             ],
             [
              1,
              "#f0f921"
             ]
            ],
            "type": "histogram2dcontour"
           }
          ],
          "mesh3d": [
           {
            "colorbar": {
             "outlinewidth": 0,
             "ticks": ""
            },
            "type": "mesh3d"
           }
          ],
          "parcoords": [
           {
            "line": {
             "colorbar": {
              "outlinewidth": 0,
              "ticks": ""
             }
            },
            "type": "parcoords"
           }
          ],
          "pie": [
           {
            "automargin": true,
            "type": "pie"
           }
          ],
          "scatter": [
           {
            "fillpattern": {
             "fillmode": "overlay",
             "size": 10,
             "solidity": 0.2
            },
            "type": "scatter"
           }
          ],
          "scatter3d": [
           {
            "line": {
             "colorbar": {
              "outlinewidth": 0,
              "ticks": ""
             }
            },
            "marker": {
             "colorbar": {
              "outlinewidth": 0,
              "ticks": ""
             }
            },
            "type": "scatter3d"
           }
          ],
          "scattercarpet": [
           {
            "marker": {
             "colorbar": {
              "outlinewidth": 0,
              "ticks": ""
             }
            },
            "type": "scattercarpet"
           }
          ],
          "scattergeo": [
           {
            "marker": {
             "colorbar": {
              "outlinewidth": 0,
              "ticks": ""
             }
            },
            "type": "scattergeo"
           }
          ],
          "scattergl": [
           {
            "marker": {
             "colorbar": {
              "outlinewidth": 0,
              "ticks": ""
             }
            },
            "type": "scattergl"
           }
          ],
          "scattermapbox": [
           {
            "marker": {
             "colorbar": {
              "outlinewidth": 0,
              "ticks": ""
             }
            },
            "type": "scattermapbox"
           }
          ],
          "scatterpolar": [
           {
            "marker": {
             "colorbar": {
              "outlinewidth": 0,
              "ticks": ""
             }
            },
            "type": "scatterpolar"
           }
          ],
          "scatterpolargl": [
           {
            "marker": {
             "colorbar": {
              "outlinewidth": 0,
              "ticks": ""
             }
            },
            "type": "scatterpolargl"
           }
          ],
          "scatterternary": [
           {
            "marker": {
             "colorbar": {
              "outlinewidth": 0,
              "ticks": ""
             }
            },
            "type": "scatterternary"
           }
          ],
          "surface": [
           {
            "colorbar": {
             "outlinewidth": 0,
             "ticks": ""
            },
            "colorscale": [
             [
              0,
              "#0d0887"
             ],
             [
              0.1111111111111111,
              "#46039f"
             ],
             [
              0.2222222222222222,
              "#7201a8"
             ],
             [
              0.3333333333333333,
              "#9c179e"
             ],
             [
              0.4444444444444444,
              "#bd3786"
             ],
             [
              0.5555555555555556,
              "#d8576b"
             ],
             [
              0.6666666666666666,
              "#ed7953"
             ],
             [
              0.7777777777777778,
              "#fb9f3a"
             ],
             [
              0.8888888888888888,
              "#fdca26"
             ],
             [
              1,
              "#f0f921"
             ]
            ],
            "type": "surface"
           }
          ],
          "table": [
           {
            "cells": {
             "fill": {
              "color": "#EBF0F8"
             },
             "line": {
              "color": "white"
             }
            },
            "header": {
             "fill": {
              "color": "#C8D4E3"
             },
             "line": {
              "color": "white"
             }
            },
            "type": "table"
           }
          ]
         },
         "layout": {
          "annotationdefaults": {
           "arrowcolor": "#2a3f5f",
           "arrowhead": 0,
           "arrowwidth": 1
          },
          "autotypenumbers": "strict",
          "coloraxis": {
           "colorbar": {
            "outlinewidth": 0,
            "ticks": ""
           }
          },
          "colorscale": {
           "diverging": [
            [
             0,
             "#8e0152"
            ],
            [
             0.1,
             "#c51b7d"
            ],
            [
             0.2,
             "#de77ae"
            ],
            [
             0.3,
             "#f1b6da"
            ],
            [
             0.4,
             "#fde0ef"
            ],
            [
             0.5,
             "#f7f7f7"
            ],
            [
             0.6,
             "#e6f5d0"
            ],
            [
             0.7,
             "#b8e186"
            ],
            [
             0.8,
             "#7fbc41"
            ],
            [
             0.9,
             "#4d9221"
            ],
            [
             1,
             "#276419"
            ]
           ],
           "sequential": [
            [
             0,
             "#0d0887"
            ],
            [
             0.1111111111111111,
             "#46039f"
            ],
            [
             0.2222222222222222,
             "#7201a8"
            ],
            [
             0.3333333333333333,
             "#9c179e"
            ],
            [
             0.4444444444444444,
             "#bd3786"
            ],
            [
             0.5555555555555556,
             "#d8576b"
            ],
            [
             0.6666666666666666,
             "#ed7953"
            ],
            [
             0.7777777777777778,
             "#fb9f3a"
            ],
            [
             0.8888888888888888,
             "#fdca26"
            ],
            [
             1,
             "#f0f921"
            ]
           ],
           "sequentialminus": [
            [
             0,
             "#0d0887"
            ],
            [
             0.1111111111111111,
             "#46039f"
            ],
            [
             0.2222222222222222,
             "#7201a8"
            ],
            [
             0.3333333333333333,
             "#9c179e"
            ],
            [
             0.4444444444444444,
             "#bd3786"
            ],
            [
             0.5555555555555556,
             "#d8576b"
            ],
            [
             0.6666666666666666,
             "#ed7953"
            ],
            [
             0.7777777777777778,
             "#fb9f3a"
            ],
            [
             0.8888888888888888,
             "#fdca26"
            ],
            [
             1,
             "#f0f921"
            ]
           ]
          },
          "colorway": [
           "#636efa",
           "#EF553B",
           "#00cc96",
           "#ab63fa",
           "#FFA15A",
           "#19d3f3",
           "#FF6692",
           "#B6E880",
           "#FF97FF",
           "#FECB52"
          ],
          "font": {
           "color": "#2a3f5f"
          },
          "geo": {
           "bgcolor": "white",
           "lakecolor": "white",
           "landcolor": "#E5ECF6",
           "showlakes": true,
           "showland": true,
           "subunitcolor": "white"
          },
          "hoverlabel": {
           "align": "left"
          },
          "hovermode": "closest",
          "mapbox": {
           "style": "light"
          },
          "paper_bgcolor": "white",
          "plot_bgcolor": "#E5ECF6",
          "polar": {
           "angularaxis": {
            "gridcolor": "white",
            "linecolor": "white",
            "ticks": ""
           },
           "bgcolor": "#E5ECF6",
           "radialaxis": {
            "gridcolor": "white",
            "linecolor": "white",
            "ticks": ""
           }
          },
          "scene": {
           "xaxis": {
            "backgroundcolor": "#E5ECF6",
            "gridcolor": "white",
            "gridwidth": 2,
            "linecolor": "white",
            "showbackground": true,
            "ticks": "",
            "zerolinecolor": "white"
           },
           "yaxis": {
            "backgroundcolor": "#E5ECF6",
            "gridcolor": "white",
            "gridwidth": 2,
            "linecolor": "white",
            "showbackground": true,
            "ticks": "",
            "zerolinecolor": "white"
           },
           "zaxis": {
            "backgroundcolor": "#E5ECF6",
            "gridcolor": "white",
            "gridwidth": 2,
            "linecolor": "white",
            "showbackground": true,
            "ticks": "",
            "zerolinecolor": "white"
           }
          },
          "shapedefaults": {
           "line": {
            "color": "#2a3f5f"
           }
          },
          "ternary": {
           "aaxis": {
            "gridcolor": "white",
            "linecolor": "white",
            "ticks": ""
           },
           "baxis": {
            "gridcolor": "white",
            "linecolor": "white",
            "ticks": ""
           },
           "bgcolor": "#E5ECF6",
           "caxis": {
            "gridcolor": "white",
            "linecolor": "white",
            "ticks": ""
           }
          },
          "title": {
           "x": 0.05
          },
          "xaxis": {
           "automargin": true,
           "gridcolor": "white",
           "linecolor": "white",
           "ticks": "",
           "title": {
            "standoff": 15
           },
           "zerolinecolor": "white",
           "zerolinewidth": 2
          },
          "yaxis": {
           "automargin": true,
           "gridcolor": "white",
           "linecolor": "white",
           "ticks": "",
           "title": {
            "standoff": 15
           },
           "zerolinecolor": "white",
           "zerolinewidth": 2
          }
         }
        },
        "title": {
         "font": {
          "color": "#4D5663"
         }
        },
        "xaxis": {
         "gridcolor": "#E1E5ED",
         "showgrid": true,
         "tickfont": {
          "color": "#4D5663"
         },
         "title": {
          "font": {
           "color": "#4D5663"
          },
          "text": ""
         },
         "zerolinecolor": "#E1E5ED"
        },
        "yaxis": {
         "gridcolor": "#E1E5ED",
         "showgrid": true,
         "tickfont": {
          "color": "#4D5663"
         },
         "title": {
          "font": {
           "color": "#4D5663"
          },
          "text": ""
         },
         "zerolinecolor": "#E1E5ED"
        }
       }
      },
      "text/html": [
       "<div>                            <div id=\"bec79015-fd7d-46f7-bd0f-a02b6194f909\" class=\"plotly-graph-div\" style=\"height:525px; width:100%;\"></div>            <script type=\"text/javascript\">                require([\"plotly\"], function(Plotly) {                    window.PLOTLYENV=window.PLOTLYENV || {};\n",
       "                    window.PLOTLYENV.BASE_URL='https://plot.ly';                                    if (document.getElementById(\"bec79015-fd7d-46f7-bd0f-a02b6194f909\")) {                    Plotly.newPlot(                        \"bec79015-fd7d-46f7-bd0f-a02b6194f909\",                        [{\"histfunc\":\"count\",\"histnorm\":\"\",\"marker\":{\"color\":\"rgba(255, 153, 51, 1.0)\",\"line\":{\"color\":\"#4D5663\",\"width\":1.3}},\"name\":\"A\",\"nbinsx\":7,\"opacity\":0.8,\"orientation\":\"v\",\"x\":[-1.3731688173621832,-0.5236780566901539,-0.2456701124803259,-1.6380423135313602,0.9982274092034623,-1.15307228039646,-1.5618663632408445,0.8200192727725714,0.4896820037700569,-1.7515717647801263,-0.06337162209812126,-0.3710804808800396,1.334041593001444,-0.749371267093215,-0.08678441228771756,-1.8822514238319927,-0.934430313200707,-0.19847237614294302,-0.20675616177675002,0.8819335976960104,0.023120137660321772,-0.0937663221763038,1.0062716328804868,-0.7527872553381383,-1.711418215864383,-2.6231263089537467,0.5353519665610029,1.3611088323596643,-1.5553755052553273,-0.7900789027259035,-0.112099598614191,-0.7765022974880906,-1.0095700680916018,0.12751898362424638,0.48523254289941636,-0.08758679656614751,-0.6405700377096745,0.4508096744210774,-0.17729227464359826,-1.3703372018763402,0.35822387093041075,0.011425989559393415,-2.2806654962681123,-0.418647724918048,1.0416519990770345,-0.003226566833624996,-0.8009773563696257,-0.8028488879372703,0.4403941548182696,-0.6460565332446022,-1.0538901952212936,-0.02941339682476033,-0.17880153658567707,1.5504066876349598,-0.06515519216521365,0.2634552678872701,1.221545929144533,0.41801716583001197,1.5706085556631733,-0.5735845823969875,-0.8820952994521086,0.3274408658812476,0.0909898204822451,-2.353670135079995,-0.3661806770483226,-0.9498676077976055,-1.0564185103175003,-1.0333840929678313,0.14215218947690056,-2.024164960776577,-0.5104641477871487,0.5231634935646545,-0.752271124788865,-1.431441600474087,0.13510742157296052,0.5017877946333005,0.3659653905102098,0.07018885629698855,2.2459148212296487,0.6786454586708808,0.9490166345640043,-1.9094775520083493,1.728290787905516,0.6398327487317317,0.3544085374865336,0.11432799574217735,0.6589381343247359,0.10346767508405878,-1.1038727497628804,-0.5099896964508587,0.5867887413460539,-0.7522432291170378,-1.2458288997869245,-1.4730026290167162,0.16962320435120895,0.964513413489719,1.1079062496024767,-0.32293074154054024,-0.7015479463603599,2.1010850453068697],\"type\":\"histogram\"}],                        {\"barmode\":\"overlay\",\"legend\":{\"bgcolor\":\"#F5F6F9\",\"font\":{\"color\":\"#4D5663\"}},\"paper_bgcolor\":\"#F5F6F9\",\"plot_bgcolor\":\"#F5F6F9\",\"template\":{\"data\":{\"barpolar\":[{\"marker\":{\"line\":{\"color\":\"#E5ECF6\",\"width\":0.5},\"pattern\":{\"fillmode\":\"overlay\",\"size\":10,\"solidity\":0.2}},\"type\":\"barpolar\"}],\"bar\":[{\"error_x\":{\"color\":\"#2a3f5f\"},\"error_y\":{\"color\":\"#2a3f5f\"},\"marker\":{\"line\":{\"color\":\"#E5ECF6\",\"width\":0.5},\"pattern\":{\"fillmode\":\"overlay\",\"size\":10,\"solidity\":0.2}},\"type\":\"bar\"}],\"carpet\":[{\"aaxis\":{\"endlinecolor\":\"#2a3f5f\",\"gridcolor\":\"white\",\"linecolor\":\"white\",\"minorgridcolor\":\"white\",\"startlinecolor\":\"#2a3f5f\"},\"baxis\":{\"endlinecolor\":\"#2a3f5f\",\"gridcolor\":\"white\",\"linecolor\":\"white\",\"minorgridcolor\":\"white\",\"startlinecolor\":\"#2a3f5f\"},\"type\":\"carpet\"}],\"choropleth\":[{\"colorbar\":{\"outlinewidth\":0,\"ticks\":\"\"},\"type\":\"choropleth\"}],\"contourcarpet\":[{\"colorbar\":{\"outlinewidth\":0,\"ticks\":\"\"},\"type\":\"contourcarpet\"}],\"contour\":[{\"colorbar\":{\"outlinewidth\":0,\"ticks\":\"\"},\"colorscale\":[[0.0,\"#0d0887\"],[0.1111111111111111,\"#46039f\"],[0.2222222222222222,\"#7201a8\"],[0.3333333333333333,\"#9c179e\"],[0.4444444444444444,\"#bd3786\"],[0.5555555555555556,\"#d8576b\"],[0.6666666666666666,\"#ed7953\"],[0.7777777777777778,\"#fb9f3a\"],[0.8888888888888888,\"#fdca26\"],[1.0,\"#f0f921\"]],\"type\":\"contour\"}],\"heatmapgl\":[{\"colorbar\":{\"outlinewidth\":0,\"ticks\":\"\"},\"colorscale\":[[0.0,\"#0d0887\"],[0.1111111111111111,\"#46039f\"],[0.2222222222222222,\"#7201a8\"],[0.3333333333333333,\"#9c179e\"],[0.4444444444444444,\"#bd3786\"],[0.5555555555555556,\"#d8576b\"],[0.6666666666666666,\"#ed7953\"],[0.7777777777777778,\"#fb9f3a\"],[0.8888888888888888,\"#fdca26\"],[1.0,\"#f0f921\"]],\"type\":\"heatmapgl\"}],\"heatmap\":[{\"colorbar\":{\"outlinewidth\":0,\"ticks\":\"\"},\"colorscale\":[[0.0,\"#0d0887\"],[0.1111111111111111,\"#46039f\"],[0.2222222222222222,\"#7201a8\"],[0.3333333333333333,\"#9c179e\"],[0.4444444444444444,\"#bd3786\"],[0.5555555555555556,\"#d8576b\"],[0.6666666666666666,\"#ed7953\"],[0.7777777777777778,\"#fb9f3a\"],[0.8888888888888888,\"#fdca26\"],[1.0,\"#f0f921\"]],\"type\":\"heatmap\"}],\"histogram2dcontour\":[{\"colorbar\":{\"outlinewidth\":0,\"ticks\":\"\"},\"colorscale\":[[0.0,\"#0d0887\"],[0.1111111111111111,\"#46039f\"],[0.2222222222222222,\"#7201a8\"],[0.3333333333333333,\"#9c179e\"],[0.4444444444444444,\"#bd3786\"],[0.5555555555555556,\"#d8576b\"],[0.6666666666666666,\"#ed7953\"],[0.7777777777777778,\"#fb9f3a\"],[0.8888888888888888,\"#fdca26\"],[1.0,\"#f0f921\"]],\"type\":\"histogram2dcontour\"}],\"histogram2d\":[{\"colorbar\":{\"outlinewidth\":0,\"ticks\":\"\"},\"colorscale\":[[0.0,\"#0d0887\"],[0.1111111111111111,\"#46039f\"],[0.2222222222222222,\"#7201a8\"],[0.3333333333333333,\"#9c179e\"],[0.4444444444444444,\"#bd3786\"],[0.5555555555555556,\"#d8576b\"],[0.6666666666666666,\"#ed7953\"],[0.7777777777777778,\"#fb9f3a\"],[0.8888888888888888,\"#fdca26\"],[1.0,\"#f0f921\"]],\"type\":\"histogram2d\"}],\"histogram\":[{\"marker\":{\"pattern\":{\"fillmode\":\"overlay\",\"size\":10,\"solidity\":0.2}},\"type\":\"histogram\"}],\"mesh3d\":[{\"colorbar\":{\"outlinewidth\":0,\"ticks\":\"\"},\"type\":\"mesh3d\"}],\"parcoords\":[{\"line\":{\"colorbar\":{\"outlinewidth\":0,\"ticks\":\"\"}},\"type\":\"parcoords\"}],\"pie\":[{\"automargin\":true,\"type\":\"pie\"}],\"scatter3d\":[{\"line\":{\"colorbar\":{\"outlinewidth\":0,\"ticks\":\"\"}},\"marker\":{\"colorbar\":{\"outlinewidth\":0,\"ticks\":\"\"}},\"type\":\"scatter3d\"}],\"scattercarpet\":[{\"marker\":{\"colorbar\":{\"outlinewidth\":0,\"ticks\":\"\"}},\"type\":\"scattercarpet\"}],\"scattergeo\":[{\"marker\":{\"colorbar\":{\"outlinewidth\":0,\"ticks\":\"\"}},\"type\":\"scattergeo\"}],\"scattergl\":[{\"marker\":{\"colorbar\":{\"outlinewidth\":0,\"ticks\":\"\"}},\"type\":\"scattergl\"}],\"scattermapbox\":[{\"marker\":{\"colorbar\":{\"outlinewidth\":0,\"ticks\":\"\"}},\"type\":\"scattermapbox\"}],\"scatterpolargl\":[{\"marker\":{\"colorbar\":{\"outlinewidth\":0,\"ticks\":\"\"}},\"type\":\"scatterpolargl\"}],\"scatterpolar\":[{\"marker\":{\"colorbar\":{\"outlinewidth\":0,\"ticks\":\"\"}},\"type\":\"scatterpolar\"}],\"scatter\":[{\"fillpattern\":{\"fillmode\":\"overlay\",\"size\":10,\"solidity\":0.2},\"type\":\"scatter\"}],\"scatterternary\":[{\"marker\":{\"colorbar\":{\"outlinewidth\":0,\"ticks\":\"\"}},\"type\":\"scatterternary\"}],\"surface\":[{\"colorbar\":{\"outlinewidth\":0,\"ticks\":\"\"},\"colorscale\":[[0.0,\"#0d0887\"],[0.1111111111111111,\"#46039f\"],[0.2222222222222222,\"#7201a8\"],[0.3333333333333333,\"#9c179e\"],[0.4444444444444444,\"#bd3786\"],[0.5555555555555556,\"#d8576b\"],[0.6666666666666666,\"#ed7953\"],[0.7777777777777778,\"#fb9f3a\"],[0.8888888888888888,\"#fdca26\"],[1.0,\"#f0f921\"]],\"type\":\"surface\"}],\"table\":[{\"cells\":{\"fill\":{\"color\":\"#EBF0F8\"},\"line\":{\"color\":\"white\"}},\"header\":{\"fill\":{\"color\":\"#C8D4E3\"},\"line\":{\"color\":\"white\"}},\"type\":\"table\"}]},\"layout\":{\"annotationdefaults\":{\"arrowcolor\":\"#2a3f5f\",\"arrowhead\":0,\"arrowwidth\":1},\"autotypenumbers\":\"strict\",\"coloraxis\":{\"colorbar\":{\"outlinewidth\":0,\"ticks\":\"\"}},\"colorscale\":{\"diverging\":[[0,\"#8e0152\"],[0.1,\"#c51b7d\"],[0.2,\"#de77ae\"],[0.3,\"#f1b6da\"],[0.4,\"#fde0ef\"],[0.5,\"#f7f7f7\"],[0.6,\"#e6f5d0\"],[0.7,\"#b8e186\"],[0.8,\"#7fbc41\"],[0.9,\"#4d9221\"],[1,\"#276419\"]],\"sequential\":[[0.0,\"#0d0887\"],[0.1111111111111111,\"#46039f\"],[0.2222222222222222,\"#7201a8\"],[0.3333333333333333,\"#9c179e\"],[0.4444444444444444,\"#bd3786\"],[0.5555555555555556,\"#d8576b\"],[0.6666666666666666,\"#ed7953\"],[0.7777777777777778,\"#fb9f3a\"],[0.8888888888888888,\"#fdca26\"],[1.0,\"#f0f921\"]],\"sequentialminus\":[[0.0,\"#0d0887\"],[0.1111111111111111,\"#46039f\"],[0.2222222222222222,\"#7201a8\"],[0.3333333333333333,\"#9c179e\"],[0.4444444444444444,\"#bd3786\"],[0.5555555555555556,\"#d8576b\"],[0.6666666666666666,\"#ed7953\"],[0.7777777777777778,\"#fb9f3a\"],[0.8888888888888888,\"#fdca26\"],[1.0,\"#f0f921\"]]},\"colorway\":[\"#636efa\",\"#EF553B\",\"#00cc96\",\"#ab63fa\",\"#FFA15A\",\"#19d3f3\",\"#FF6692\",\"#B6E880\",\"#FF97FF\",\"#FECB52\"],\"font\":{\"color\":\"#2a3f5f\"},\"geo\":{\"bgcolor\":\"white\",\"lakecolor\":\"white\",\"landcolor\":\"#E5ECF6\",\"showlakes\":true,\"showland\":true,\"subunitcolor\":\"white\"},\"hoverlabel\":{\"align\":\"left\"},\"hovermode\":\"closest\",\"mapbox\":{\"style\":\"light\"},\"paper_bgcolor\":\"white\",\"plot_bgcolor\":\"#E5ECF6\",\"polar\":{\"angularaxis\":{\"gridcolor\":\"white\",\"linecolor\":\"white\",\"ticks\":\"\"},\"bgcolor\":\"#E5ECF6\",\"radialaxis\":{\"gridcolor\":\"white\",\"linecolor\":\"white\",\"ticks\":\"\"}},\"scene\":{\"xaxis\":{\"backgroundcolor\":\"#E5ECF6\",\"gridcolor\":\"white\",\"gridwidth\":2,\"linecolor\":\"white\",\"showbackground\":true,\"ticks\":\"\",\"zerolinecolor\":\"white\"},\"yaxis\":{\"backgroundcolor\":\"#E5ECF6\",\"gridcolor\":\"white\",\"gridwidth\":2,\"linecolor\":\"white\",\"showbackground\":true,\"ticks\":\"\",\"zerolinecolor\":\"white\"},\"zaxis\":{\"backgroundcolor\":\"#E5ECF6\",\"gridcolor\":\"white\",\"gridwidth\":2,\"linecolor\":\"white\",\"showbackground\":true,\"ticks\":\"\",\"zerolinecolor\":\"white\"}},\"shapedefaults\":{\"line\":{\"color\":\"#2a3f5f\"}},\"ternary\":{\"aaxis\":{\"gridcolor\":\"white\",\"linecolor\":\"white\",\"ticks\":\"\"},\"baxis\":{\"gridcolor\":\"white\",\"linecolor\":\"white\",\"ticks\":\"\"},\"bgcolor\":\"#E5ECF6\",\"caxis\":{\"gridcolor\":\"white\",\"linecolor\":\"white\",\"ticks\":\"\"}},\"title\":{\"x\":0.05},\"xaxis\":{\"automargin\":true,\"gridcolor\":\"white\",\"linecolor\":\"white\",\"ticks\":\"\",\"title\":{\"standoff\":15},\"zerolinecolor\":\"white\",\"zerolinewidth\":2},\"yaxis\":{\"automargin\":true,\"gridcolor\":\"white\",\"linecolor\":\"white\",\"ticks\":\"\",\"title\":{\"standoff\":15},\"zerolinecolor\":\"white\",\"zerolinewidth\":2}}},\"title\":{\"font\":{\"color\":\"#4D5663\"}},\"xaxis\":{\"gridcolor\":\"#E1E5ED\",\"showgrid\":true,\"tickfont\":{\"color\":\"#4D5663\"},\"title\":{\"font\":{\"color\":\"#4D5663\"},\"text\":\"\"},\"zerolinecolor\":\"#E1E5ED\"},\"yaxis\":{\"gridcolor\":\"#E1E5ED\",\"showgrid\":true,\"tickfont\":{\"color\":\"#4D5663\"},\"title\":{\"font\":{\"color\":\"#4D5663\"},\"text\":\"\"},\"zerolinecolor\":\"#E1E5ED\"}},                        {\"showLink\": true, \"linkText\": \"Export to plot.ly\", \"plotlyServerURL\": \"https://plot.ly\", \"responsive\": true}                    ).then(function(){\n",
       "                            \n",
       "var gd = document.getElementById('bec79015-fd7d-46f7-bd0f-a02b6194f909');\n",
       "var x = new MutationObserver(function (mutations, observer) {{\n",
       "        var display = window.getComputedStyle(gd).display;\n",
       "        if (!display || display === 'none') {{\n",
       "            console.log([gd, 'removed!']);\n",
       "            Plotly.purge(gd);\n",
       "            observer.disconnect();\n",
       "        }}\n",
       "}});\n",
       "\n",
       "// Listen for the removal of the full notebook cells\n",
       "var notebookContainer = gd.closest('#notebook-container');\n",
       "if (notebookContainer) {{\n",
       "    x.observe(notebookContainer, {childList: true});\n",
       "}}\n",
       "\n",
       "// Listen for the clearing of the current output cell\n",
       "var outputEl = gd.closest('.output');\n",
       "if (outputEl) {{\n",
       "    x.observe(outputEl, {childList: true});\n",
       "}}\n",
       "\n",
       "                        })                };                });            </script>        </div>"
      ]
     },
     "metadata": {},
     "output_type": "display_data"
    }
   ],
   "source": [
    "df1['A'].iplot(kind='hist', bins=7)"
   ]
  },
  {
   "cell_type": "code",
   "execution_count": 129,
   "metadata": {},
   "outputs": [
    {
     "data": {
      "application/vnd.plotly.v1+json": {
       "config": {
        "linkText": "Export to plot.ly",
        "plotlyServerURL": "https://plot.ly",
        "showLink": true
       },
       "data": [
        {
         "histfunc": "count",
         "histnorm": "",
         "marker": {
          "color": "rgba(255, 153, 51, 1.0)",
          "line": {
           "color": "#4D5663",
           "width": 1.3
          }
         },
         "name": "A",
         "nbinsx": 7,
         "opacity": 0.8,
         "orientation": "v",
         "type": "histogram",
         "x": [
          -1.3731688173621832,
          -0.5236780566901539,
          -0.2456701124803259,
          -1.6380423135313602,
          0.9982274092034623,
          -1.15307228039646,
          -1.5618663632408445,
          0.8200192727725714,
          0.4896820037700569,
          -1.7515717647801263,
          -0.06337162209812126,
          -0.3710804808800396,
          1.334041593001444,
          -0.749371267093215,
          -0.08678441228771756,
          -1.8822514238319927,
          -0.934430313200707,
          -0.19847237614294302,
          -0.20675616177675002,
          0.8819335976960104,
          0.023120137660321772,
          -0.0937663221763038,
          1.0062716328804868,
          -0.7527872553381383,
          -1.711418215864383,
          -2.6231263089537467,
          0.5353519665610029,
          1.3611088323596643,
          -1.5553755052553273,
          -0.7900789027259035,
          -0.112099598614191,
          -0.7765022974880906,
          -1.0095700680916018,
          0.12751898362424638,
          0.48523254289941636,
          -0.08758679656614751,
          -0.6405700377096745,
          0.4508096744210774,
          -0.17729227464359826,
          -1.3703372018763402,
          0.35822387093041075,
          0.011425989559393415,
          -2.2806654962681123,
          -0.418647724918048,
          1.0416519990770345,
          -0.003226566833624996,
          -0.8009773563696257,
          -0.8028488879372703,
          0.4403941548182696,
          -0.6460565332446022,
          -1.0538901952212936,
          -0.02941339682476033,
          -0.17880153658567707,
          1.5504066876349598,
          -0.06515519216521365,
          0.2634552678872701,
          1.221545929144533,
          0.41801716583001197,
          1.5706085556631733,
          -0.5735845823969875,
          -0.8820952994521086,
          0.3274408658812476,
          0.0909898204822451,
          -2.353670135079995,
          -0.3661806770483226,
          -0.9498676077976055,
          -1.0564185103175003,
          -1.0333840929678313,
          0.14215218947690056,
          -2.024164960776577,
          -0.5104641477871487,
          0.5231634935646545,
          -0.752271124788865,
          -1.431441600474087,
          0.13510742157296052,
          0.5017877946333005,
          0.3659653905102098,
          0.07018885629698855,
          2.2459148212296487,
          0.6786454586708808,
          0.9490166345640043,
          -1.9094775520083493,
          1.728290787905516,
          0.6398327487317317,
          0.3544085374865336,
          0.11432799574217735,
          0.6589381343247359,
          0.10346767508405878,
          -1.1038727497628804,
          -0.5099896964508587,
          0.5867887413460539,
          -0.7522432291170378,
          -1.2458288997869245,
          -1.4730026290167162,
          0.16962320435120895,
          0.964513413489719,
          1.1079062496024767,
          -0.32293074154054024,
          -0.7015479463603599,
          2.1010850453068697
         ]
        },
        {
         "histfunc": "count",
         "histnorm": "",
         "marker": {
          "color": "rgba(55, 128, 191, 1.0)",
          "line": {
           "color": "#4D5663",
           "width": 1.3
          }
         },
         "name": "B",
         "nbinsx": 7,
         "opacity": 0.8,
         "orientation": "v",
         "type": "histogram",
         "x": [
          -0.26049029456912903,
          -0.09714763269974377,
          0.8111103731791115,
          -1.9092793360910076,
          -0.7021805233979893,
          1.7113569273657838,
          0.5577059895260462,
          -0.04010677492691884,
          -0.6031994783562596,
          -1.0151465414034821,
          -0.65977071844508,
          -0.11373213297939189,
          -0.17642103201371448,
          -1.3127870983774748,
          -0.8121667700648396,
          0.3562560593913871,
          0.115787656807456,
          2.0304725698965473,
          -1.8962460120140843,
          -1.695481979037778,
          0.083227127103031,
          -1.6072152006989198,
          -0.791909505896926,
          -0.00226257065607172,
          0.789055363306743,
          1.6384186774393954,
          -0.9141297129748618,
          0.34878907759418426,
          1.3992320086007244,
          -1.6551017310853946,
          0.2196602310642125,
          1.2934294942744322,
          0.6188203489615133,
          -1.0477234555721597,
          0.8342357072623097,
          1.5704168087418544,
          -1.4090025076121278,
          -2.118052083579081,
          -0.2333452338485016,
          -0.07709603866845373,
          -2.8072073735768845,
          -1.687428945991679,
          -1.159580191150825,
          1.304971913099211,
          -2.6664369761159477,
          0.0006285483518210876,
          -0.22704157391863877,
          1.5959235424772875,
          0.5226701132725071,
          -0.32349048754336457,
          0.17185896219907654,
          -0.11097559458142076,
          1.032166153297779,
          -0.7377867289133496,
          -1.205653112465707,
          0.08034586127001102,
          1.0494964020796176,
          0.5737773994926414,
          1.0679595026820368,
          0.2078110294449889,
          0.497964687170021,
          -1.0040946242420055,
          1.641018339402369,
          0.6987039146589529,
          -1.5910510766375996,
          1.0567069686542072,
          0.7215190478611012,
          0.6853744281025479,
          0.34932033732412204,
          0.08720879431656639,
          -0.7592345849283544,
          -0.5346034111574133,
          0.6203389986553872,
          0.055895501280625454,
          -1.2586433955714882,
          -1.4507327058899393,
          -0.5067603413460747,
          0.22285324461662986,
          1.2794806218555201,
          -0.5698953891946154,
          1.1666766260353854,
          -0.2748556337601546,
          0.3689062378985249,
          -0.22443208712326157,
          -2.6892222066069196,
          -0.6277102895697781,
          0.9948207097804131,
          2.006791303963984,
          -2.215807367364074,
          -0.36815272094188445,
          -2.0368053672881525,
          -1.4043787604355018,
          -0.6741811066408415,
          1.895508785899313,
          1.2781476020982228,
          1.6513382173909747,
          -2.6044397766828005,
          0.24020400275439163,
          -0.5693768063211105,
          0.934438743225109
         ]
        },
        {
         "histfunc": "count",
         "histnorm": "",
         "marker": {
          "color": "rgba(50, 171, 96, 1.0)",
          "line": {
           "color": "#4D5663",
           "width": 1.3
          }
         },
         "name": "C",
         "nbinsx": 7,
         "opacity": 0.8,
         "orientation": "v",
         "type": "histogram",
         "x": [
          1.016137061958665,
          -0.5420245082783235,
          -0.6555275772055192,
          -0.17482452802721207,
          -0.20966175827607628,
          1.1268451015087522,
          -0.3573421160038608,
          -0.1283955674793992,
          -0.966809172726611,
          1.1076046408037203,
          -0.3857180761673435,
          0.10751028698545406,
          -0.0722654270370262,
          0.5027412369328366,
          0.4586151070738453,
          -0.31358236684132984,
          -0.7294415911860292,
          0.46889357343171045,
          1.6289993484803935,
          -0.13196937501181366,
          0.13903276441007126,
          -1.8065516586311317,
          0.015244035509171621,
          -0.6693807883877644,
          -1.1417766658491864,
          -0.08255553128388488,
          -0.8202482353376133,
          -1.1406918804712243,
          1.964067336106461,
          -0.9258080012830326,
          -0.1446993961232515,
          1.3722685370982728,
          1.0744640309311915,
          -0.13315007362248654,
          -0.24258199731695324,
          -2.434755966203868,
          1.249588245085047,
          -1.9159706351612598,
          0.9028452338965627,
          0.09709163764319628,
          -1.4915115361349514,
          -0.08131167965299389,
          -0.3533067773683644,
          0.43875369576612405,
          0.16403251203894895,
          0.3327188025830961,
          0.09824955382014505,
          0.25413148419195647,
          -0.8255273384617694,
          1.1502405310973927,
          -0.23663503779656808,
          -0.10375558656850428,
          0.29597100192381026,
          0.161902165064038,
          0.8746088623238746,
          -0.4313027123686213,
          -1.5522117256973411,
          1.5822264544410984,
          -0.2100548377789055,
          -0.11466768195239925,
          0.7693212034474219,
          -0.5239181221597862,
          -0.29627797449795956,
          -0.7872581356661098,
          -0.08259776401178255,
          -0.16190735298564957,
          1.0400236333371244,
          0.7016475467736071,
          1.6061385761185691,
          -0.09389196044606382,
          -2.2984771444784005,
          1.332637670768821,
          1.4260586545811833,
          0.4993956785585622,
          -0.9885025824410877,
          -1.1500950277274034,
          0.027440551493462317,
          -0.7152163964368956,
          -0.22254785386403808,
          1.3578697515859321,
          0.7795183721417863,
          -1.0941700641779113,
          -0.3691504402687209,
          -0.17252910270078434,
          -0.22910576496372098,
          -0.5535653063181362,
          -0.11246827447795366,
          -0.5004601639160561,
          1.3972684184213935,
          0.5826640975314333,
          -0.3704108210274508,
          -0.5791163044118627,
          -1.5688427193366512,
          0.9128795909915046,
          0.23049311480694276,
          0.02602262547334177,
          2.390872078118632,
          0.8265186912628907,
          1.1563445322537906,
          0.1929179183525035
         ]
        },
        {
         "histfunc": "count",
         "histnorm": "",
         "marker": {
          "color": "rgba(128, 0, 128, 1.0)",
          "line": {
           "color": "#4D5663",
           "width": 1.3
          }
         },
         "name": "D",
         "nbinsx": 7,
         "opacity": 0.8,
         "orientation": "v",
         "type": "histogram",
         "x": [
          0.3678728199360895,
          0.7770397311008759,
          -0.31161412554319096,
          0.36109033817175823,
          1.0958105195636665,
          -0.6153494161962141,
          0.3733739029607547,
          0.7208029853625418,
          -1.6601967483822941,
          0.5812737043064377,
          2.3976288441646996,
          -2.2775623051411698,
          -1.3700067916658192,
          0.6724836769454864,
          0.6545862845642076,
          0.8608767566123184,
          -1.0038117731243594,
          0.2654092394720436,
          0.23271099141093987,
          1.0166224389242902,
          -0.2302243018740462,
          0.38887841341583407,
          -1.1744585970201085,
          -0.3288681829338943,
          0.4320913263467357,
          0.5363338760370511,
          -0.954588837116522,
          -0.9060180130129888,
          0.08258657852706816,
          0.8690618739895999,
          -0.07454312360867822,
          0.9069401158057482,
          0.8525847408135002,
          1.7008325595940121,
          -0.31927820901311404,
          2.5839018710271704,
          -0.6615241474077949,
          -0.3513113384047537,
          -1.6447064505626163,
          -0.3381746996970631,
          0.5185703280206443,
          -0.4126600899710108,
          1.111412826450472,
          -2.1811768624324954,
          -0.7390562258230423,
          -0.19691431987782637,
          -0.8564461074613374,
          -0.2658143784041566,
          -2.63333719441065,
          1.0166617842654235,
          0.5440607019805058,
          -0.3238076409135922,
          2.301811968058974,
          0.23585547206087806,
          -0.22523633643882646,
          -0.11678596070999779,
          0.12578899821333514,
          -1.266448176678349,
          1.840156190143387,
          0.7934607654229933,
          -0.879040372028926,
          0.1106176772142058,
          0.7232055158481039,
          1.143955728091707,
          -0.6922408053305052,
          0.17111181715903606,
          1.1752227121361831,
          0.5149017248635412,
          -0.29239279311857286,
          -0.9431186110891314,
          0.6890241907223393,
          -2.736800800781161,
          -0.09193453540823339,
          0.9031472571354823,
          -1.328816012502861,
          -0.907777189110073,
          -0.6471404454248375,
          -0.21980395293017788,
          -0.6742557662560115,
          -1.080899671209913,
          -0.33771811051318523,
          -0.778554295537802,
          -1.0784224433638752,
          -0.2522855225757112,
          -0.34230578532068723,
          -0.0765594929956213,
          -0.1897062808846173,
          0.9551877414597707,
          0.030419844757999685,
          0.360806273631684,
          0.7774964204857886,
          -0.5182793271816202,
          -0.6459736843376598,
          0.13782438188531929,
          1.2245544210274506,
          -0.4206696236845781,
          0.11823720416357132,
          -0.11183220579060686,
          -1.6093667900712743,
          -0.8601587836879706
         ]
        }
       ],
       "layout": {
        "barmode": "overlay",
        "legend": {
         "bgcolor": "#F5F6F9",
         "font": {
          "color": "#4D5663"
         }
        },
        "paper_bgcolor": "#F5F6F9",
        "plot_bgcolor": "#F5F6F9",
        "template": {
         "data": {
          "bar": [
           {
            "error_x": {
             "color": "#2a3f5f"
            },
            "error_y": {
             "color": "#2a3f5f"
            },
            "marker": {
             "line": {
              "color": "#E5ECF6",
              "width": 0.5
             },
             "pattern": {
              "fillmode": "overlay",
              "size": 10,
              "solidity": 0.2
             }
            },
            "type": "bar"
           }
          ],
          "barpolar": [
           {
            "marker": {
             "line": {
              "color": "#E5ECF6",
              "width": 0.5
             },
             "pattern": {
              "fillmode": "overlay",
              "size": 10,
              "solidity": 0.2
             }
            },
            "type": "barpolar"
           }
          ],
          "carpet": [
           {
            "aaxis": {
             "endlinecolor": "#2a3f5f",
             "gridcolor": "white",
             "linecolor": "white",
             "minorgridcolor": "white",
             "startlinecolor": "#2a3f5f"
            },
            "baxis": {
             "endlinecolor": "#2a3f5f",
             "gridcolor": "white",
             "linecolor": "white",
             "minorgridcolor": "white",
             "startlinecolor": "#2a3f5f"
            },
            "type": "carpet"
           }
          ],
          "choropleth": [
           {
            "colorbar": {
             "outlinewidth": 0,
             "ticks": ""
            },
            "type": "choropleth"
           }
          ],
          "contour": [
           {
            "colorbar": {
             "outlinewidth": 0,
             "ticks": ""
            },
            "colorscale": [
             [
              0,
              "#0d0887"
             ],
             [
              0.1111111111111111,
              "#46039f"
             ],
             [
              0.2222222222222222,
              "#7201a8"
             ],
             [
              0.3333333333333333,
              "#9c179e"
             ],
             [
              0.4444444444444444,
              "#bd3786"
             ],
             [
              0.5555555555555556,
              "#d8576b"
             ],
             [
              0.6666666666666666,
              "#ed7953"
             ],
             [
              0.7777777777777778,
              "#fb9f3a"
             ],
             [
              0.8888888888888888,
              "#fdca26"
             ],
             [
              1,
              "#f0f921"
             ]
            ],
            "type": "contour"
           }
          ],
          "contourcarpet": [
           {
            "colorbar": {
             "outlinewidth": 0,
             "ticks": ""
            },
            "type": "contourcarpet"
           }
          ],
          "heatmap": [
           {
            "colorbar": {
             "outlinewidth": 0,
             "ticks": ""
            },
            "colorscale": [
             [
              0,
              "#0d0887"
             ],
             [
              0.1111111111111111,
              "#46039f"
             ],
             [
              0.2222222222222222,
              "#7201a8"
             ],
             [
              0.3333333333333333,
              "#9c179e"
             ],
             [
              0.4444444444444444,
              "#bd3786"
             ],
             [
              0.5555555555555556,
              "#d8576b"
             ],
             [
              0.6666666666666666,
              "#ed7953"
             ],
             [
              0.7777777777777778,
              "#fb9f3a"
             ],
             [
              0.8888888888888888,
              "#fdca26"
             ],
             [
              1,
              "#f0f921"
             ]
            ],
            "type": "heatmap"
           }
          ],
          "heatmapgl": [
           {
            "colorbar": {
             "outlinewidth": 0,
             "ticks": ""
            },
            "colorscale": [
             [
              0,
              "#0d0887"
             ],
             [
              0.1111111111111111,
              "#46039f"
             ],
             [
              0.2222222222222222,
              "#7201a8"
             ],
             [
              0.3333333333333333,
              "#9c179e"
             ],
             [
              0.4444444444444444,
              "#bd3786"
             ],
             [
              0.5555555555555556,
              "#d8576b"
             ],
             [
              0.6666666666666666,
              "#ed7953"
             ],
             [
              0.7777777777777778,
              "#fb9f3a"
             ],
             [
              0.8888888888888888,
              "#fdca26"
             ],
             [
              1,
              "#f0f921"
             ]
            ],
            "type": "heatmapgl"
           }
          ],
          "histogram": [
           {
            "marker": {
             "pattern": {
              "fillmode": "overlay",
              "size": 10,
              "solidity": 0.2
             }
            },
            "type": "histogram"
           }
          ],
          "histogram2d": [
           {
            "colorbar": {
             "outlinewidth": 0,
             "ticks": ""
            },
            "colorscale": [
             [
              0,
              "#0d0887"
             ],
             [
              0.1111111111111111,
              "#46039f"
             ],
             [
              0.2222222222222222,
              "#7201a8"
             ],
             [
              0.3333333333333333,
              "#9c179e"
             ],
             [
              0.4444444444444444,
              "#bd3786"
             ],
             [
              0.5555555555555556,
              "#d8576b"
             ],
             [
              0.6666666666666666,
              "#ed7953"
             ],
             [
              0.7777777777777778,
              "#fb9f3a"
             ],
             [
              0.8888888888888888,
              "#fdca26"
             ],
             [
              1,
              "#f0f921"
             ]
            ],
            "type": "histogram2d"
           }
          ],
          "histogram2dcontour": [
           {
            "colorbar": {
             "outlinewidth": 0,
             "ticks": ""
            },
            "colorscale": [
             [
              0,
              "#0d0887"
             ],
             [
              0.1111111111111111,
              "#46039f"
             ],
             [
              0.2222222222222222,
              "#7201a8"
             ],
             [
              0.3333333333333333,
              "#9c179e"
             ],
             [
              0.4444444444444444,
              "#bd3786"
             ],
             [
              0.5555555555555556,
              "#d8576b"
             ],
             [
              0.6666666666666666,
              "#ed7953"
             ],
             [
              0.7777777777777778,
              "#fb9f3a"
             ],
             [
              0.8888888888888888,
              "#fdca26"
             ],
             [
              1,
              "#f0f921"
             ]
            ],
            "type": "histogram2dcontour"
           }
          ],
          "mesh3d": [
           {
            "colorbar": {
             "outlinewidth": 0,
             "ticks": ""
            },
            "type": "mesh3d"
           }
          ],
          "parcoords": [
           {
            "line": {
             "colorbar": {
              "outlinewidth": 0,
              "ticks": ""
             }
            },
            "type": "parcoords"
           }
          ],
          "pie": [
           {
            "automargin": true,
            "type": "pie"
           }
          ],
          "scatter": [
           {
            "fillpattern": {
             "fillmode": "overlay",
             "size": 10,
             "solidity": 0.2
            },
            "type": "scatter"
           }
          ],
          "scatter3d": [
           {
            "line": {
             "colorbar": {
              "outlinewidth": 0,
              "ticks": ""
             }
            },
            "marker": {
             "colorbar": {
              "outlinewidth": 0,
              "ticks": ""
             }
            },
            "type": "scatter3d"
           }
          ],
          "scattercarpet": [
           {
            "marker": {
             "colorbar": {
              "outlinewidth": 0,
              "ticks": ""
             }
            },
            "type": "scattercarpet"
           }
          ],
          "scattergeo": [
           {
            "marker": {
             "colorbar": {
              "outlinewidth": 0,
              "ticks": ""
             }
            },
            "type": "scattergeo"
           }
          ],
          "scattergl": [
           {
            "marker": {
             "colorbar": {
              "outlinewidth": 0,
              "ticks": ""
             }
            },
            "type": "scattergl"
           }
          ],
          "scattermapbox": [
           {
            "marker": {
             "colorbar": {
              "outlinewidth": 0,
              "ticks": ""
             }
            },
            "type": "scattermapbox"
           }
          ],
          "scatterpolar": [
           {
            "marker": {
             "colorbar": {
              "outlinewidth": 0,
              "ticks": ""
             }
            },
            "type": "scatterpolar"
           }
          ],
          "scatterpolargl": [
           {
            "marker": {
             "colorbar": {
              "outlinewidth": 0,
              "ticks": ""
             }
            },
            "type": "scatterpolargl"
           }
          ],
          "scatterternary": [
           {
            "marker": {
             "colorbar": {
              "outlinewidth": 0,
              "ticks": ""
             }
            },
            "type": "scatterternary"
           }
          ],
          "surface": [
           {
            "colorbar": {
             "outlinewidth": 0,
             "ticks": ""
            },
            "colorscale": [
             [
              0,
              "#0d0887"
             ],
             [
              0.1111111111111111,
              "#46039f"
             ],
             [
              0.2222222222222222,
              "#7201a8"
             ],
             [
              0.3333333333333333,
              "#9c179e"
             ],
             [
              0.4444444444444444,
              "#bd3786"
             ],
             [
              0.5555555555555556,
              "#d8576b"
             ],
             [
              0.6666666666666666,
              "#ed7953"
             ],
             [
              0.7777777777777778,
              "#fb9f3a"
             ],
             [
              0.8888888888888888,
              "#fdca26"
             ],
             [
              1,
              "#f0f921"
             ]
            ],
            "type": "surface"
           }
          ],
          "table": [
           {
            "cells": {
             "fill": {
              "color": "#EBF0F8"
             },
             "line": {
              "color": "white"
             }
            },
            "header": {
             "fill": {
              "color": "#C8D4E3"
             },
             "line": {
              "color": "white"
             }
            },
            "type": "table"
           }
          ]
         },
         "layout": {
          "annotationdefaults": {
           "arrowcolor": "#2a3f5f",
           "arrowhead": 0,
           "arrowwidth": 1
          },
          "autotypenumbers": "strict",
          "coloraxis": {
           "colorbar": {
            "outlinewidth": 0,
            "ticks": ""
           }
          },
          "colorscale": {
           "diverging": [
            [
             0,
             "#8e0152"
            ],
            [
             0.1,
             "#c51b7d"
            ],
            [
             0.2,
             "#de77ae"
            ],
            [
             0.3,
             "#f1b6da"
            ],
            [
             0.4,
             "#fde0ef"
            ],
            [
             0.5,
             "#f7f7f7"
            ],
            [
             0.6,
             "#e6f5d0"
            ],
            [
             0.7,
             "#b8e186"
            ],
            [
             0.8,
             "#7fbc41"
            ],
            [
             0.9,
             "#4d9221"
            ],
            [
             1,
             "#276419"
            ]
           ],
           "sequential": [
            [
             0,
             "#0d0887"
            ],
            [
             0.1111111111111111,
             "#46039f"
            ],
            [
             0.2222222222222222,
             "#7201a8"
            ],
            [
             0.3333333333333333,
             "#9c179e"
            ],
            [
             0.4444444444444444,
             "#bd3786"
            ],
            [
             0.5555555555555556,
             "#d8576b"
            ],
            [
             0.6666666666666666,
             "#ed7953"
            ],
            [
             0.7777777777777778,
             "#fb9f3a"
            ],
            [
             0.8888888888888888,
             "#fdca26"
            ],
            [
             1,
             "#f0f921"
            ]
           ],
           "sequentialminus": [
            [
             0,
             "#0d0887"
            ],
            [
             0.1111111111111111,
             "#46039f"
            ],
            [
             0.2222222222222222,
             "#7201a8"
            ],
            [
             0.3333333333333333,
             "#9c179e"
            ],
            [
             0.4444444444444444,
             "#bd3786"
            ],
            [
             0.5555555555555556,
             "#d8576b"
            ],
            [
             0.6666666666666666,
             "#ed7953"
            ],
            [
             0.7777777777777778,
             "#fb9f3a"
            ],
            [
             0.8888888888888888,
             "#fdca26"
            ],
            [
             1,
             "#f0f921"
            ]
           ]
          },
          "colorway": [
           "#636efa",
           "#EF553B",
           "#00cc96",
           "#ab63fa",
           "#FFA15A",
           "#19d3f3",
           "#FF6692",
           "#B6E880",
           "#FF97FF",
           "#FECB52"
          ],
          "font": {
           "color": "#2a3f5f"
          },
          "geo": {
           "bgcolor": "white",
           "lakecolor": "white",
           "landcolor": "#E5ECF6",
           "showlakes": true,
           "showland": true,
           "subunitcolor": "white"
          },
          "hoverlabel": {
           "align": "left"
          },
          "hovermode": "closest",
          "mapbox": {
           "style": "light"
          },
          "paper_bgcolor": "white",
          "plot_bgcolor": "#E5ECF6",
          "polar": {
           "angularaxis": {
            "gridcolor": "white",
            "linecolor": "white",
            "ticks": ""
           },
           "bgcolor": "#E5ECF6",
           "radialaxis": {
            "gridcolor": "white",
            "linecolor": "white",
            "ticks": ""
           }
          },
          "scene": {
           "xaxis": {
            "backgroundcolor": "#E5ECF6",
            "gridcolor": "white",
            "gridwidth": 2,
            "linecolor": "white",
            "showbackground": true,
            "ticks": "",
            "zerolinecolor": "white"
           },
           "yaxis": {
            "backgroundcolor": "#E5ECF6",
            "gridcolor": "white",
            "gridwidth": 2,
            "linecolor": "white",
            "showbackground": true,
            "ticks": "",
            "zerolinecolor": "white"
           },
           "zaxis": {
            "backgroundcolor": "#E5ECF6",
            "gridcolor": "white",
            "gridwidth": 2,
            "linecolor": "white",
            "showbackground": true,
            "ticks": "",
            "zerolinecolor": "white"
           }
          },
          "shapedefaults": {
           "line": {
            "color": "#2a3f5f"
           }
          },
          "ternary": {
           "aaxis": {
            "gridcolor": "white",
            "linecolor": "white",
            "ticks": ""
           },
           "baxis": {
            "gridcolor": "white",
            "linecolor": "white",
            "ticks": ""
           },
           "bgcolor": "#E5ECF6",
           "caxis": {
            "gridcolor": "white",
            "linecolor": "white",
            "ticks": ""
           }
          },
          "title": {
           "x": 0.05
          },
          "xaxis": {
           "automargin": true,
           "gridcolor": "white",
           "linecolor": "white",
           "ticks": "",
           "title": {
            "standoff": 15
           },
           "zerolinecolor": "white",
           "zerolinewidth": 2
          },
          "yaxis": {
           "automargin": true,
           "gridcolor": "white",
           "linecolor": "white",
           "ticks": "",
           "title": {
            "standoff": 15
           },
           "zerolinecolor": "white",
           "zerolinewidth": 2
          }
         }
        },
        "title": {
         "font": {
          "color": "#4D5663"
         }
        },
        "xaxis": {
         "gridcolor": "#E1E5ED",
         "showgrid": true,
         "tickfont": {
          "color": "#4D5663"
         },
         "title": {
          "font": {
           "color": "#4D5663"
          },
          "text": ""
         },
         "zerolinecolor": "#E1E5ED"
        },
        "yaxis": {
         "gridcolor": "#E1E5ED",
         "showgrid": true,
         "tickfont": {
          "color": "#4D5663"
         },
         "title": {
          "font": {
           "color": "#4D5663"
          },
          "text": ""
         },
         "zerolinecolor": "#E1E5ED"
        }
       }
      },
      "text/html": [
       "<div>                            <div id=\"d644bd9b-58bb-4fb1-90d4-7f17efb7f34d\" class=\"plotly-graph-div\" style=\"height:525px; width:100%;\"></div>            <script type=\"text/javascript\">                require([\"plotly\"], function(Plotly) {                    window.PLOTLYENV=window.PLOTLYENV || {};\n",
       "                    window.PLOTLYENV.BASE_URL='https://plot.ly';                                    if (document.getElementById(\"d644bd9b-58bb-4fb1-90d4-7f17efb7f34d\")) {                    Plotly.newPlot(                        \"d644bd9b-58bb-4fb1-90d4-7f17efb7f34d\",                        [{\"histfunc\":\"count\",\"histnorm\":\"\",\"marker\":{\"color\":\"rgba(255, 153, 51, 1.0)\",\"line\":{\"color\":\"#4D5663\",\"width\":1.3}},\"name\":\"A\",\"nbinsx\":7,\"opacity\":0.8,\"orientation\":\"v\",\"x\":[-1.3731688173621832,-0.5236780566901539,-0.2456701124803259,-1.6380423135313602,0.9982274092034623,-1.15307228039646,-1.5618663632408445,0.8200192727725714,0.4896820037700569,-1.7515717647801263,-0.06337162209812126,-0.3710804808800396,1.334041593001444,-0.749371267093215,-0.08678441228771756,-1.8822514238319927,-0.934430313200707,-0.19847237614294302,-0.20675616177675002,0.8819335976960104,0.023120137660321772,-0.0937663221763038,1.0062716328804868,-0.7527872553381383,-1.711418215864383,-2.6231263089537467,0.5353519665610029,1.3611088323596643,-1.5553755052553273,-0.7900789027259035,-0.112099598614191,-0.7765022974880906,-1.0095700680916018,0.12751898362424638,0.48523254289941636,-0.08758679656614751,-0.6405700377096745,0.4508096744210774,-0.17729227464359826,-1.3703372018763402,0.35822387093041075,0.011425989559393415,-2.2806654962681123,-0.418647724918048,1.0416519990770345,-0.003226566833624996,-0.8009773563696257,-0.8028488879372703,0.4403941548182696,-0.6460565332446022,-1.0538901952212936,-0.02941339682476033,-0.17880153658567707,1.5504066876349598,-0.06515519216521365,0.2634552678872701,1.221545929144533,0.41801716583001197,1.5706085556631733,-0.5735845823969875,-0.8820952994521086,0.3274408658812476,0.0909898204822451,-2.353670135079995,-0.3661806770483226,-0.9498676077976055,-1.0564185103175003,-1.0333840929678313,0.14215218947690056,-2.024164960776577,-0.5104641477871487,0.5231634935646545,-0.752271124788865,-1.431441600474087,0.13510742157296052,0.5017877946333005,0.3659653905102098,0.07018885629698855,2.2459148212296487,0.6786454586708808,0.9490166345640043,-1.9094775520083493,1.728290787905516,0.6398327487317317,0.3544085374865336,0.11432799574217735,0.6589381343247359,0.10346767508405878,-1.1038727497628804,-0.5099896964508587,0.5867887413460539,-0.7522432291170378,-1.2458288997869245,-1.4730026290167162,0.16962320435120895,0.964513413489719,1.1079062496024767,-0.32293074154054024,-0.7015479463603599,2.1010850453068697],\"type\":\"histogram\"},{\"histfunc\":\"count\",\"histnorm\":\"\",\"marker\":{\"color\":\"rgba(55, 128, 191, 1.0)\",\"line\":{\"color\":\"#4D5663\",\"width\":1.3}},\"name\":\"B\",\"nbinsx\":7,\"opacity\":0.8,\"orientation\":\"v\",\"x\":[-0.26049029456912903,-0.09714763269974377,0.8111103731791115,-1.9092793360910076,-0.7021805233979893,1.7113569273657838,0.5577059895260462,-0.04010677492691884,-0.6031994783562596,-1.0151465414034821,-0.65977071844508,-0.11373213297939189,-0.17642103201371448,-1.3127870983774748,-0.8121667700648396,0.3562560593913871,0.115787656807456,2.0304725698965473,-1.8962460120140843,-1.695481979037778,0.083227127103031,-1.6072152006989198,-0.791909505896926,-0.00226257065607172,0.789055363306743,1.6384186774393954,-0.9141297129748618,0.34878907759418426,1.3992320086007244,-1.6551017310853946,0.2196602310642125,1.2934294942744322,0.6188203489615133,-1.0477234555721597,0.8342357072623097,1.5704168087418544,-1.4090025076121278,-2.118052083579081,-0.2333452338485016,-0.07709603866845373,-2.8072073735768845,-1.687428945991679,-1.159580191150825,1.304971913099211,-2.6664369761159477,0.0006285483518210876,-0.22704157391863877,1.5959235424772875,0.5226701132725071,-0.32349048754336457,0.17185896219907654,-0.11097559458142076,1.032166153297779,-0.7377867289133496,-1.205653112465707,0.08034586127001102,1.0494964020796176,0.5737773994926414,1.0679595026820368,0.2078110294449889,0.497964687170021,-1.0040946242420055,1.641018339402369,0.6987039146589529,-1.5910510766375996,1.0567069686542072,0.7215190478611012,0.6853744281025479,0.34932033732412204,0.08720879431656639,-0.7592345849283544,-0.5346034111574133,0.6203389986553872,0.055895501280625454,-1.2586433955714882,-1.4507327058899393,-0.5067603413460747,0.22285324461662986,1.2794806218555201,-0.5698953891946154,1.1666766260353854,-0.2748556337601546,0.3689062378985249,-0.22443208712326157,-2.6892222066069196,-0.6277102895697781,0.9948207097804131,2.006791303963984,-2.215807367364074,-0.36815272094188445,-2.0368053672881525,-1.4043787604355018,-0.6741811066408415,1.895508785899313,1.2781476020982228,1.6513382173909747,-2.6044397766828005,0.24020400275439163,-0.5693768063211105,0.934438743225109],\"type\":\"histogram\"},{\"histfunc\":\"count\",\"histnorm\":\"\",\"marker\":{\"color\":\"rgba(50, 171, 96, 1.0)\",\"line\":{\"color\":\"#4D5663\",\"width\":1.3}},\"name\":\"C\",\"nbinsx\":7,\"opacity\":0.8,\"orientation\":\"v\",\"x\":[1.016137061958665,-0.5420245082783235,-0.6555275772055192,-0.17482452802721207,-0.20966175827607628,1.1268451015087522,-0.3573421160038608,-0.1283955674793992,-0.966809172726611,1.1076046408037203,-0.3857180761673435,0.10751028698545406,-0.0722654270370262,0.5027412369328366,0.4586151070738453,-0.31358236684132984,-0.7294415911860292,0.46889357343171045,1.6289993484803935,-0.13196937501181366,0.13903276441007126,-1.8065516586311317,0.015244035509171621,-0.6693807883877644,-1.1417766658491864,-0.08255553128388488,-0.8202482353376133,-1.1406918804712243,1.964067336106461,-0.9258080012830326,-0.1446993961232515,1.3722685370982728,1.0744640309311915,-0.13315007362248654,-0.24258199731695324,-2.434755966203868,1.249588245085047,-1.9159706351612598,0.9028452338965627,0.09709163764319628,-1.4915115361349514,-0.08131167965299389,-0.3533067773683644,0.43875369576612405,0.16403251203894895,0.3327188025830961,0.09824955382014505,0.25413148419195647,-0.8255273384617694,1.1502405310973927,-0.23663503779656808,-0.10375558656850428,0.29597100192381026,0.161902165064038,0.8746088623238746,-0.4313027123686213,-1.5522117256973411,1.5822264544410984,-0.2100548377789055,-0.11466768195239925,0.7693212034474219,-0.5239181221597862,-0.29627797449795956,-0.7872581356661098,-0.08259776401178255,-0.16190735298564957,1.0400236333371244,0.7016475467736071,1.6061385761185691,-0.09389196044606382,-2.2984771444784005,1.332637670768821,1.4260586545811833,0.4993956785585622,-0.9885025824410877,-1.1500950277274034,0.027440551493462317,-0.7152163964368956,-0.22254785386403808,1.3578697515859321,0.7795183721417863,-1.0941700641779113,-0.3691504402687209,-0.17252910270078434,-0.22910576496372098,-0.5535653063181362,-0.11246827447795366,-0.5004601639160561,1.3972684184213935,0.5826640975314333,-0.3704108210274508,-0.5791163044118627,-1.5688427193366512,0.9128795909915046,0.23049311480694276,0.02602262547334177,2.390872078118632,0.8265186912628907,1.1563445322537906,0.1929179183525035],\"type\":\"histogram\"},{\"histfunc\":\"count\",\"histnorm\":\"\",\"marker\":{\"color\":\"rgba(128, 0, 128, 1.0)\",\"line\":{\"color\":\"#4D5663\",\"width\":1.3}},\"name\":\"D\",\"nbinsx\":7,\"opacity\":0.8,\"orientation\":\"v\",\"x\":[0.3678728199360895,0.7770397311008759,-0.31161412554319096,0.36109033817175823,1.0958105195636665,-0.6153494161962141,0.3733739029607547,0.7208029853625418,-1.6601967483822941,0.5812737043064377,2.3976288441646996,-2.2775623051411698,-1.3700067916658192,0.6724836769454864,0.6545862845642076,0.8608767566123184,-1.0038117731243594,0.2654092394720436,0.23271099141093987,1.0166224389242902,-0.2302243018740462,0.38887841341583407,-1.1744585970201085,-0.3288681829338943,0.4320913263467357,0.5363338760370511,-0.954588837116522,-0.9060180130129888,0.08258657852706816,0.8690618739895999,-0.07454312360867822,0.9069401158057482,0.8525847408135002,1.7008325595940121,-0.31927820901311404,2.5839018710271704,-0.6615241474077949,-0.3513113384047537,-1.6447064505626163,-0.3381746996970631,0.5185703280206443,-0.4126600899710108,1.111412826450472,-2.1811768624324954,-0.7390562258230423,-0.19691431987782637,-0.8564461074613374,-0.2658143784041566,-2.63333719441065,1.0166617842654235,0.5440607019805058,-0.3238076409135922,2.301811968058974,0.23585547206087806,-0.22523633643882646,-0.11678596070999779,0.12578899821333514,-1.266448176678349,1.840156190143387,0.7934607654229933,-0.879040372028926,0.1106176772142058,0.7232055158481039,1.143955728091707,-0.6922408053305052,0.17111181715903606,1.1752227121361831,0.5149017248635412,-0.29239279311857286,-0.9431186110891314,0.6890241907223393,-2.736800800781161,-0.09193453540823339,0.9031472571354823,-1.328816012502861,-0.907777189110073,-0.6471404454248375,-0.21980395293017788,-0.6742557662560115,-1.080899671209913,-0.33771811051318523,-0.778554295537802,-1.0784224433638752,-0.2522855225757112,-0.34230578532068723,-0.0765594929956213,-0.1897062808846173,0.9551877414597707,0.030419844757999685,0.360806273631684,0.7774964204857886,-0.5182793271816202,-0.6459736843376598,0.13782438188531929,1.2245544210274506,-0.4206696236845781,0.11823720416357132,-0.11183220579060686,-1.6093667900712743,-0.8601587836879706],\"type\":\"histogram\"}],                        {\"barmode\":\"overlay\",\"legend\":{\"bgcolor\":\"#F5F6F9\",\"font\":{\"color\":\"#4D5663\"}},\"paper_bgcolor\":\"#F5F6F9\",\"plot_bgcolor\":\"#F5F6F9\",\"template\":{\"data\":{\"barpolar\":[{\"marker\":{\"line\":{\"color\":\"#E5ECF6\",\"width\":0.5},\"pattern\":{\"fillmode\":\"overlay\",\"size\":10,\"solidity\":0.2}},\"type\":\"barpolar\"}],\"bar\":[{\"error_x\":{\"color\":\"#2a3f5f\"},\"error_y\":{\"color\":\"#2a3f5f\"},\"marker\":{\"line\":{\"color\":\"#E5ECF6\",\"width\":0.5},\"pattern\":{\"fillmode\":\"overlay\",\"size\":10,\"solidity\":0.2}},\"type\":\"bar\"}],\"carpet\":[{\"aaxis\":{\"endlinecolor\":\"#2a3f5f\",\"gridcolor\":\"white\",\"linecolor\":\"white\",\"minorgridcolor\":\"white\",\"startlinecolor\":\"#2a3f5f\"},\"baxis\":{\"endlinecolor\":\"#2a3f5f\",\"gridcolor\":\"white\",\"linecolor\":\"white\",\"minorgridcolor\":\"white\",\"startlinecolor\":\"#2a3f5f\"},\"type\":\"carpet\"}],\"choropleth\":[{\"colorbar\":{\"outlinewidth\":0,\"ticks\":\"\"},\"type\":\"choropleth\"}],\"contourcarpet\":[{\"colorbar\":{\"outlinewidth\":0,\"ticks\":\"\"},\"type\":\"contourcarpet\"}],\"contour\":[{\"colorbar\":{\"outlinewidth\":0,\"ticks\":\"\"},\"colorscale\":[[0.0,\"#0d0887\"],[0.1111111111111111,\"#46039f\"],[0.2222222222222222,\"#7201a8\"],[0.3333333333333333,\"#9c179e\"],[0.4444444444444444,\"#bd3786\"],[0.5555555555555556,\"#d8576b\"],[0.6666666666666666,\"#ed7953\"],[0.7777777777777778,\"#fb9f3a\"],[0.8888888888888888,\"#fdca26\"],[1.0,\"#f0f921\"]],\"type\":\"contour\"}],\"heatmapgl\":[{\"colorbar\":{\"outlinewidth\":0,\"ticks\":\"\"},\"colorscale\":[[0.0,\"#0d0887\"],[0.1111111111111111,\"#46039f\"],[0.2222222222222222,\"#7201a8\"],[0.3333333333333333,\"#9c179e\"],[0.4444444444444444,\"#bd3786\"],[0.5555555555555556,\"#d8576b\"],[0.6666666666666666,\"#ed7953\"],[0.7777777777777778,\"#fb9f3a\"],[0.8888888888888888,\"#fdca26\"],[1.0,\"#f0f921\"]],\"type\":\"heatmapgl\"}],\"heatmap\":[{\"colorbar\":{\"outlinewidth\":0,\"ticks\":\"\"},\"colorscale\":[[0.0,\"#0d0887\"],[0.1111111111111111,\"#46039f\"],[0.2222222222222222,\"#7201a8\"],[0.3333333333333333,\"#9c179e\"],[0.4444444444444444,\"#bd3786\"],[0.5555555555555556,\"#d8576b\"],[0.6666666666666666,\"#ed7953\"],[0.7777777777777778,\"#fb9f3a\"],[0.8888888888888888,\"#fdca26\"],[1.0,\"#f0f921\"]],\"type\":\"heatmap\"}],\"histogram2dcontour\":[{\"colorbar\":{\"outlinewidth\":0,\"ticks\":\"\"},\"colorscale\":[[0.0,\"#0d0887\"],[0.1111111111111111,\"#46039f\"],[0.2222222222222222,\"#7201a8\"],[0.3333333333333333,\"#9c179e\"],[0.4444444444444444,\"#bd3786\"],[0.5555555555555556,\"#d8576b\"],[0.6666666666666666,\"#ed7953\"],[0.7777777777777778,\"#fb9f3a\"],[0.8888888888888888,\"#fdca26\"],[1.0,\"#f0f921\"]],\"type\":\"histogram2dcontour\"}],\"histogram2d\":[{\"colorbar\":{\"outlinewidth\":0,\"ticks\":\"\"},\"colorscale\":[[0.0,\"#0d0887\"],[0.1111111111111111,\"#46039f\"],[0.2222222222222222,\"#7201a8\"],[0.3333333333333333,\"#9c179e\"],[0.4444444444444444,\"#bd3786\"],[0.5555555555555556,\"#d8576b\"],[0.6666666666666666,\"#ed7953\"],[0.7777777777777778,\"#fb9f3a\"],[0.8888888888888888,\"#fdca26\"],[1.0,\"#f0f921\"]],\"type\":\"histogram2d\"}],\"histogram\":[{\"marker\":{\"pattern\":{\"fillmode\":\"overlay\",\"size\":10,\"solidity\":0.2}},\"type\":\"histogram\"}],\"mesh3d\":[{\"colorbar\":{\"outlinewidth\":0,\"ticks\":\"\"},\"type\":\"mesh3d\"}],\"parcoords\":[{\"line\":{\"colorbar\":{\"outlinewidth\":0,\"ticks\":\"\"}},\"type\":\"parcoords\"}],\"pie\":[{\"automargin\":true,\"type\":\"pie\"}],\"scatter3d\":[{\"line\":{\"colorbar\":{\"outlinewidth\":0,\"ticks\":\"\"}},\"marker\":{\"colorbar\":{\"outlinewidth\":0,\"ticks\":\"\"}},\"type\":\"scatter3d\"}],\"scattercarpet\":[{\"marker\":{\"colorbar\":{\"outlinewidth\":0,\"ticks\":\"\"}},\"type\":\"scattercarpet\"}],\"scattergeo\":[{\"marker\":{\"colorbar\":{\"outlinewidth\":0,\"ticks\":\"\"}},\"type\":\"scattergeo\"}],\"scattergl\":[{\"marker\":{\"colorbar\":{\"outlinewidth\":0,\"ticks\":\"\"}},\"type\":\"scattergl\"}],\"scattermapbox\":[{\"marker\":{\"colorbar\":{\"outlinewidth\":0,\"ticks\":\"\"}},\"type\":\"scattermapbox\"}],\"scatterpolargl\":[{\"marker\":{\"colorbar\":{\"outlinewidth\":0,\"ticks\":\"\"}},\"type\":\"scatterpolargl\"}],\"scatterpolar\":[{\"marker\":{\"colorbar\":{\"outlinewidth\":0,\"ticks\":\"\"}},\"type\":\"scatterpolar\"}],\"scatter\":[{\"fillpattern\":{\"fillmode\":\"overlay\",\"size\":10,\"solidity\":0.2},\"type\":\"scatter\"}],\"scatterternary\":[{\"marker\":{\"colorbar\":{\"outlinewidth\":0,\"ticks\":\"\"}},\"type\":\"scatterternary\"}],\"surface\":[{\"colorbar\":{\"outlinewidth\":0,\"ticks\":\"\"},\"colorscale\":[[0.0,\"#0d0887\"],[0.1111111111111111,\"#46039f\"],[0.2222222222222222,\"#7201a8\"],[0.3333333333333333,\"#9c179e\"],[0.4444444444444444,\"#bd3786\"],[0.5555555555555556,\"#d8576b\"],[0.6666666666666666,\"#ed7953\"],[0.7777777777777778,\"#fb9f3a\"],[0.8888888888888888,\"#fdca26\"],[1.0,\"#f0f921\"]],\"type\":\"surface\"}],\"table\":[{\"cells\":{\"fill\":{\"color\":\"#EBF0F8\"},\"line\":{\"color\":\"white\"}},\"header\":{\"fill\":{\"color\":\"#C8D4E3\"},\"line\":{\"color\":\"white\"}},\"type\":\"table\"}]},\"layout\":{\"annotationdefaults\":{\"arrowcolor\":\"#2a3f5f\",\"arrowhead\":0,\"arrowwidth\":1},\"autotypenumbers\":\"strict\",\"coloraxis\":{\"colorbar\":{\"outlinewidth\":0,\"ticks\":\"\"}},\"colorscale\":{\"diverging\":[[0,\"#8e0152\"],[0.1,\"#c51b7d\"],[0.2,\"#de77ae\"],[0.3,\"#f1b6da\"],[0.4,\"#fde0ef\"],[0.5,\"#f7f7f7\"],[0.6,\"#e6f5d0\"],[0.7,\"#b8e186\"],[0.8,\"#7fbc41\"],[0.9,\"#4d9221\"],[1,\"#276419\"]],\"sequential\":[[0.0,\"#0d0887\"],[0.1111111111111111,\"#46039f\"],[0.2222222222222222,\"#7201a8\"],[0.3333333333333333,\"#9c179e\"],[0.4444444444444444,\"#bd3786\"],[0.5555555555555556,\"#d8576b\"],[0.6666666666666666,\"#ed7953\"],[0.7777777777777778,\"#fb9f3a\"],[0.8888888888888888,\"#fdca26\"],[1.0,\"#f0f921\"]],\"sequentialminus\":[[0.0,\"#0d0887\"],[0.1111111111111111,\"#46039f\"],[0.2222222222222222,\"#7201a8\"],[0.3333333333333333,\"#9c179e\"],[0.4444444444444444,\"#bd3786\"],[0.5555555555555556,\"#d8576b\"],[0.6666666666666666,\"#ed7953\"],[0.7777777777777778,\"#fb9f3a\"],[0.8888888888888888,\"#fdca26\"],[1.0,\"#f0f921\"]]},\"colorway\":[\"#636efa\",\"#EF553B\",\"#00cc96\",\"#ab63fa\",\"#FFA15A\",\"#19d3f3\",\"#FF6692\",\"#B6E880\",\"#FF97FF\",\"#FECB52\"],\"font\":{\"color\":\"#2a3f5f\"},\"geo\":{\"bgcolor\":\"white\",\"lakecolor\":\"white\",\"landcolor\":\"#E5ECF6\",\"showlakes\":true,\"showland\":true,\"subunitcolor\":\"white\"},\"hoverlabel\":{\"align\":\"left\"},\"hovermode\":\"closest\",\"mapbox\":{\"style\":\"light\"},\"paper_bgcolor\":\"white\",\"plot_bgcolor\":\"#E5ECF6\",\"polar\":{\"angularaxis\":{\"gridcolor\":\"white\",\"linecolor\":\"white\",\"ticks\":\"\"},\"bgcolor\":\"#E5ECF6\",\"radialaxis\":{\"gridcolor\":\"white\",\"linecolor\":\"white\",\"ticks\":\"\"}},\"scene\":{\"xaxis\":{\"backgroundcolor\":\"#E5ECF6\",\"gridcolor\":\"white\",\"gridwidth\":2,\"linecolor\":\"white\",\"showbackground\":true,\"ticks\":\"\",\"zerolinecolor\":\"white\"},\"yaxis\":{\"backgroundcolor\":\"#E5ECF6\",\"gridcolor\":\"white\",\"gridwidth\":2,\"linecolor\":\"white\",\"showbackground\":true,\"ticks\":\"\",\"zerolinecolor\":\"white\"},\"zaxis\":{\"backgroundcolor\":\"#E5ECF6\",\"gridcolor\":\"white\",\"gridwidth\":2,\"linecolor\":\"white\",\"showbackground\":true,\"ticks\":\"\",\"zerolinecolor\":\"white\"}},\"shapedefaults\":{\"line\":{\"color\":\"#2a3f5f\"}},\"ternary\":{\"aaxis\":{\"gridcolor\":\"white\",\"linecolor\":\"white\",\"ticks\":\"\"},\"baxis\":{\"gridcolor\":\"white\",\"linecolor\":\"white\",\"ticks\":\"\"},\"bgcolor\":\"#E5ECF6\",\"caxis\":{\"gridcolor\":\"white\",\"linecolor\":\"white\",\"ticks\":\"\"}},\"title\":{\"x\":0.05},\"xaxis\":{\"automargin\":true,\"gridcolor\":\"white\",\"linecolor\":\"white\",\"ticks\":\"\",\"title\":{\"standoff\":15},\"zerolinecolor\":\"white\",\"zerolinewidth\":2},\"yaxis\":{\"automargin\":true,\"gridcolor\":\"white\",\"linecolor\":\"white\",\"ticks\":\"\",\"title\":{\"standoff\":15},\"zerolinecolor\":\"white\",\"zerolinewidth\":2}}},\"title\":{\"font\":{\"color\":\"#4D5663\"}},\"xaxis\":{\"gridcolor\":\"#E1E5ED\",\"showgrid\":true,\"tickfont\":{\"color\":\"#4D5663\"},\"title\":{\"font\":{\"color\":\"#4D5663\"},\"text\":\"\"},\"zerolinecolor\":\"#E1E5ED\"},\"yaxis\":{\"gridcolor\":\"#E1E5ED\",\"showgrid\":true,\"tickfont\":{\"color\":\"#4D5663\"},\"title\":{\"font\":{\"color\":\"#4D5663\"},\"text\":\"\"},\"zerolinecolor\":\"#E1E5ED\"}},                        {\"showLink\": true, \"linkText\": \"Export to plot.ly\", \"plotlyServerURL\": \"https://plot.ly\", \"responsive\": true}                    ).then(function(){\n",
       "                            \n",
       "var gd = document.getElementById('d644bd9b-58bb-4fb1-90d4-7f17efb7f34d');\n",
       "var x = new MutationObserver(function (mutations, observer) {{\n",
       "        var display = window.getComputedStyle(gd).display;\n",
       "        if (!display || display === 'none') {{\n",
       "            console.log([gd, 'removed!']);\n",
       "            Plotly.purge(gd);\n",
       "            observer.disconnect();\n",
       "        }}\n",
       "}});\n",
       "\n",
       "// Listen for the removal of the full notebook cells\n",
       "var notebookContainer = gd.closest('#notebook-container');\n",
       "if (notebookContainer) {{\n",
       "    x.observe(notebookContainer, {childList: true});\n",
       "}}\n",
       "\n",
       "// Listen for the clearing of the current output cell\n",
       "var outputEl = gd.closest('.output');\n",
       "if (outputEl) {{\n",
       "    x.observe(outputEl, {childList: true});\n",
       "}}\n",
       "\n",
       "                        })                };                });            </script>        </div>"
      ]
     },
     "metadata": {},
     "output_type": "display_data"
    }
   ],
   "source": [
    "df1.iplot(kind='hist', bins=7)"
   ]
  },
  {
   "cell_type": "code",
   "execution_count": 130,
   "metadata": {},
   "outputs": [],
   "source": [
    "df5=df3[['x','y']]"
   ]
  },
  {
   "cell_type": "code",
   "execution_count": 131,
   "metadata": {},
   "outputs": [
    {
     "data": {
      "text/html": [
       "<div>\n",
       "<style scoped>\n",
       "    .dataframe tbody tr th:only-of-type {\n",
       "        vertical-align: middle;\n",
       "    }\n",
       "\n",
       "    .dataframe tbody tr th {\n",
       "        vertical-align: top;\n",
       "    }\n",
       "\n",
       "    .dataframe thead th {\n",
       "        text-align: right;\n",
       "    }\n",
       "</style>\n",
       "<table border=\"1\" class=\"dataframe\">\n",
       "  <thead>\n",
       "    <tr style=\"text-align: right;\">\n",
       "      <th></th>\n",
       "      <th>x</th>\n",
       "      <th>y</th>\n",
       "    </tr>\n",
       "  </thead>\n",
       "  <tbody>\n",
       "    <tr>\n",
       "      <th>0</th>\n",
       "      <td>1</td>\n",
       "      <td>12</td>\n",
       "    </tr>\n",
       "    <tr>\n",
       "      <th>1</th>\n",
       "      <td>2</td>\n",
       "      <td>23</td>\n",
       "    </tr>\n",
       "    <tr>\n",
       "      <th>2</th>\n",
       "      <td>3</td>\n",
       "      <td>15</td>\n",
       "    </tr>\n",
       "    <tr>\n",
       "      <th>3</th>\n",
       "      <td>4</td>\n",
       "      <td>35</td>\n",
       "    </tr>\n",
       "    <tr>\n",
       "      <th>4</th>\n",
       "      <td>5</td>\n",
       "      <td>6</td>\n",
       "    </tr>\n",
       "    <tr>\n",
       "      <th>5</th>\n",
       "      <td>6</td>\n",
       "      <td>26</td>\n",
       "    </tr>\n",
       "    <tr>\n",
       "      <th>6</th>\n",
       "      <td>7</td>\n",
       "      <td>52</td>\n",
       "    </tr>\n",
       "  </tbody>\n",
       "</table>\n",
       "</div>"
      ],
      "text/plain": [
       "   x   y\n",
       "0  1  12\n",
       "1  2  23\n",
       "2  3  15\n",
       "3  4  35\n",
       "4  5   6\n",
       "5  6  26\n",
       "6  7  52"
      ]
     },
     "execution_count": 131,
     "metadata": {},
     "output_type": "execute_result"
    }
   ],
   "source": [
    "df5"
   ]
  },
  {
   "cell_type": "code",
   "execution_count": null,
   "metadata": {},
   "outputs": [
    {
     "data": {
      "application/vnd.plotly.v1+json": {
       "config": {
        "linkText": "Export to plot.ly",
        "plotlyServerURL": "https://plot.ly",
        "showLink": true
       },
       "data": [
        {
         "marker": {
          "color": [
           "rgb(255, 153, 51)",
           "rgb(55, 128, 191)",
           "rgb(50, 171, 96)",
           "rgb(128, 0, 128)",
           "rgb(219, 64, 82)",
           "rgb(0, 128, 128)",
           "rgb(255, 255, 51)",
           "rgb(128, 128, 0)",
           "rgb(251, 128, 114)",
           "rgb(128, 177, 211)"
          ],
          "line": {
           "width": 1.3
          },
          "size": [
           70,
           55,
           71,
           107,
           80,
           79,
           78,
           40,
           71,
           15,
           70,
           55,
           63,
           61,
           87,
           53,
           70,
           50,
           42,
           59,
           104,
           59,
           81,
           51,
           28,
           86,
           55,
           54,
           52,
           44,
           78,
           66,
           95,
           72,
           47,
           76,
           74,
           65,
           80,
           63,
           68,
           52,
           47,
           57,
           56,
           106,
           50,
           12,
           61,
           86,
           79,
           34,
           51,
           65,
           74,
           78,
           79,
           47,
           50,
           66,
           104,
           85,
           85,
           53,
           81,
           27,
           84,
           80,
           58,
           27,
           27,
           56,
           101,
           104,
           55,
           100,
           68,
           48,
           46,
           64,
           94,
           88,
           98,
           59,
           93,
           102,
           49,
           58,
           82,
           105,
           44,
           62,
           112,
           52,
           86,
           64,
           58,
           19,
           67,
           99
          ],
          "symbol": "circle"
         },
         "mode": "markers",
         "text": "",
         "type": "scatter",
         "x": [
          -0.188063660154458,
          -1.2632936215608892,
          -1.2338533136735197,
          -1.8450973157721184,
          0.02449955453264642,
          0.8601323001608154,
          0.38067368984109223,
          0.6995653815506412,
          0.5541476168694509,
          0.7374222353583424,
          0.05673281912471927,
          -2.21616241674654,
          1.3146114364004926,
          0.5351940754237525,
          1.3585716412452888,
          1.2747474941958443,
          0.540820052101405,
          -0.2920562767803338,
          -0.9216187306068334,
          -0.5797221916880153,
          -1.074958815886836,
          0.8480985976500852,
          1.2732933904431714,
          0.7100315649462088,
          0.6530483640921142,
          -0.11241061379309121,
          0.7596003339162773,
          -0.6174573658289274,
          -0.6274152714266104,
          -1.759714454076701,
          0.08090720742818307,
          0.46968797060922296,
          1.0539251028076484,
          -0.48076375302806934,
          0.12860221214364298,
          0.37576869855763323,
          -0.5941143203904156,
          1.8976734231572363,
          0.7544325319736191,
          0.042558907609679585,
          1.7143020195763445,
          -1.2292626169397738,
          -0.7023236451152379,
          -1.5442950407415679,
          0.16894092256573684,
          0.12852491713843023,
          -1.163141322504226,
          0.3714401107361555,
          -0.6108242586511314,
          -0.06993290911641464,
          -0.5636096295215977,
          -0.4560454283796759,
          -0.1761692279593459,
          -1.2510189705199346,
          0.9691832014119103,
          -1.0654767661962388,
          -1.2521973102013462,
          0.6434811098881146,
          -0.13461502487014343,
          0.24856414777556626,
          0.007398367213111617,
          -0.07390101558107337,
          0.19637426558063134,
          -0.34872427756558366,
          -1.913455817256799,
          -0.6737328742650052,
          0.9269106433130302,
          0.3179698765254314,
          -1.416865605965769,
          -1.1543056516656667,
          0.5114475183041718,
          -0.196507873479626,
          -0.580062413342646,
          -0.1658270167608404,
          -1.097047939081342,
          -1.1894123995766837,
          -0.42760039077205847,
          0.39254369268186007,
          -0.4268604170934619,
          0.5241687034910859,
          0.9635612781649334,
          -0.955293738333351,
          1.4162908377535983,
          0.4417939968154291,
          1.1702099068700333,
          -1.0749028112808092,
          1.591616515143858,
          0.21881559785875182,
          0.06882859779729407,
          -0.293138438453801,
          -1.9517285977578336,
          1.1105982096654228,
          0.07642276552036524,
          0.23504464374009748,
          -0.7651055645533308,
          1.776209357241539,
          0.7672736748812959,
          -0.31083412456542375,
          0.710880480133809,
          1.573318636803399
         ],
         "y": [
          -0.5581488832598571,
          -0.2489251491578143,
          0.581600331983485,
          -0.09320674371084753,
          -0.04582386256623591,
          1.3107353815247873,
          0.035733526867066046,
          -1.054740573706953,
          -0.7342565347757056,
          -0.07845191291167745,
          0.010537914012690323,
          -0.027800273238256613,
          0.4796130297669692,
          -1.0785474630434262,
          0.5251132779544812,
          0.8832619869827804,
          -1.6554114423507493,
          0.2031683193811795,
          -0.31458638212003004,
          -1.1469269992459956,
          0.4826396776015845,
          0.2700188914867437,
          -1.3873451730534858,
          0.32423548827459664,
          -0.948052779169827,
          -2.18066766150044,
          0.3728945275311637,
          -0.681624485260982,
          0.4924983309991413,
          -1.0799811714505743,
          0.5978752323754102,
          0.6401709371110923,
          -0.3601505302654266,
          0.09064301967881237,
          -1.4064399521191875,
          0.22883117177924409,
          0.041850537455784896,
          0.3440285233832683,
          -0.46042219311683286,
          -0.2655111539503704,
          1.1473402812113929,
          0.6321067018524369,
          0.45498839564650745,
          -1.318277311840253,
          0.49154527629003564,
          -1.3137199138786713,
          1.2664098133916342,
          0.35466648285568875,
          0.252996070585558,
          -0.7374593510390862,
          -0.43094901643222444,
          0.6214433861865658,
          -0.6259736750188081,
          1.230552627754563,
          0.4046707262394784,
          1.0408726448825303,
          -1.9771648674687992,
          -1.5381746632793574,
          -0.8587439220985097,
          -1.1553015112446128,
          0.4157245733346647,
          -0.2853797593964032,
          -0.6593767372598354,
          0.5646964016234709,
          -0.3069800237495501,
          -1.0277378451619923,
          -1.00458769990729,
          0.021508415881825057,
          -0.744086138042362,
          0.7007003585764869,
          0.2744195410189256,
          0.8216238244859647,
          -0.038837913092509745,
          -1.1870763179697361,
          0.2538423204287201,
          -1.7491191238648052,
          -1.2855355177612044,
          -0.3978335319385796,
          -0.25669646922983014,
          -0.3918083289136887,
          -0.5157673373428238,
          -0.352487606031004,
          -0.4786691543511277,
          -2.111633293623881,
          0.5471268884951496,
          0.6642462774523992,
          -0.21389652653358163,
          -0.5093167794220944,
          0.2949501740198685,
          -0.7086052001861005,
          -2.591285283013292,
          -0.9965670117078276,
          0.4949594446106892,
          0.814722974189382,
          -0.20443451104751206,
          -0.7608344524900537,
          0.938305697913147,
          0.21923018337761152,
          1.0750110724803243,
          0.3697145050591898
         ]
        }
       ],
       "layout": {
        "legend": {
         "bgcolor": "#F5F6F9",
         "font": {
          "color": "#4D5663"
         }
        },
        "paper_bgcolor": "#F5F6F9",
        "plot_bgcolor": "#F5F6F9",
        "template": {
         "data": {
          "bar": [
           {
            "error_x": {
             "color": "#2a3f5f"
            },
            "error_y": {
             "color": "#2a3f5f"
            },
            "marker": {
             "line": {
              "color": "#E5ECF6",
              "width": 0.5
             },
             "pattern": {
              "fillmode": "overlay",
              "size": 10,
              "solidity": 0.2
             }
            },
            "type": "bar"
           }
          ],
          "barpolar": [
           {
            "marker": {
             "line": {
              "color": "#E5ECF6",
              "width": 0.5
             },
             "pattern": {
              "fillmode": "overlay",
              "size": 10,
              "solidity": 0.2
             }
            },
            "type": "barpolar"
           }
          ],
          "carpet": [
           {
            "aaxis": {
             "endlinecolor": "#2a3f5f",
             "gridcolor": "white",
             "linecolor": "white",
             "minorgridcolor": "white",
             "startlinecolor": "#2a3f5f"
            },
            "baxis": {
             "endlinecolor": "#2a3f5f",
             "gridcolor": "white",
             "linecolor": "white",
             "minorgridcolor": "white",
             "startlinecolor": "#2a3f5f"
            },
            "type": "carpet"
           }
          ],
          "choropleth": [
           {
            "colorbar": {
             "outlinewidth": 0,
             "ticks": ""
            },
            "type": "choropleth"
           }
          ],
          "contour": [
           {
            "colorbar": {
             "outlinewidth": 0,
             "ticks": ""
            },
            "colorscale": [
             [
              0,
              "#0d0887"
             ],
             [
              0.1111111111111111,
              "#46039f"
             ],
             [
              0.2222222222222222,
              "#7201a8"
             ],
             [
              0.3333333333333333,
              "#9c179e"
             ],
             [
              0.4444444444444444,
              "#bd3786"
             ],
             [
              0.5555555555555556,
              "#d8576b"
             ],
             [
              0.6666666666666666,
              "#ed7953"
             ],
             [
              0.7777777777777778,
              "#fb9f3a"
             ],
             [
              0.8888888888888888,
              "#fdca26"
             ],
             [
              1,
              "#f0f921"
             ]
            ],
            "type": "contour"
           }
          ],
          "contourcarpet": [
           {
            "colorbar": {
             "outlinewidth": 0,
             "ticks": ""
            },
            "type": "contourcarpet"
           }
          ],
          "heatmap": [
           {
            "colorbar": {
             "outlinewidth": 0,
             "ticks": ""
            },
            "colorscale": [
             [
              0,
              "#0d0887"
             ],
             [
              0.1111111111111111,
              "#46039f"
             ],
             [
              0.2222222222222222,
              "#7201a8"
             ],
             [
              0.3333333333333333,
              "#9c179e"
             ],
             [
              0.4444444444444444,
              "#bd3786"
             ],
             [
              0.5555555555555556,
              "#d8576b"
             ],
             [
              0.6666666666666666,
              "#ed7953"
             ],
             [
              0.7777777777777778,
              "#fb9f3a"
             ],
             [
              0.8888888888888888,
              "#fdca26"
             ],
             [
              1,
              "#f0f921"
             ]
            ],
            "type": "heatmap"
           }
          ],
          "heatmapgl": [
           {
            "colorbar": {
             "outlinewidth": 0,
             "ticks": ""
            },
            "colorscale": [
             [
              0,
              "#0d0887"
             ],
             [
              0.1111111111111111,
              "#46039f"
             ],
             [
              0.2222222222222222,
              "#7201a8"
             ],
             [
              0.3333333333333333,
              "#9c179e"
             ],
             [
              0.4444444444444444,
              "#bd3786"
             ],
             [
              0.5555555555555556,
              "#d8576b"
             ],
             [
              0.6666666666666666,
              "#ed7953"
             ],
             [
              0.7777777777777778,
              "#fb9f3a"
             ],
             [
              0.8888888888888888,
              "#fdca26"
             ],
             [
              1,
              "#f0f921"
             ]
            ],
            "type": "heatmapgl"
           }
          ],
          "histogram": [
           {
            "marker": {
             "pattern": {
              "fillmode": "overlay",
              "size": 10,
              "solidity": 0.2
             }
            },
            "type": "histogram"
           }
          ],
          "histogram2d": [
           {
            "colorbar": {
             "outlinewidth": 0,
             "ticks": ""
            },
            "colorscale": [
             [
              0,
              "#0d0887"
             ],
             [
              0.1111111111111111,
              "#46039f"
             ],
             [
              0.2222222222222222,
              "#7201a8"
             ],
             [
              0.3333333333333333,
              "#9c179e"
             ],
             [
              0.4444444444444444,
              "#bd3786"
             ],
             [
              0.5555555555555556,
              "#d8576b"
             ],
             [
              0.6666666666666666,
              "#ed7953"
             ],
             [
              0.7777777777777778,
              "#fb9f3a"
             ],
             [
              0.8888888888888888,
              "#fdca26"
             ],
             [
              1,
              "#f0f921"
             ]
            ],
            "type": "histogram2d"
           }
          ],
          "histogram2dcontour": [
           {
            "colorbar": {
             "outlinewidth": 0,
             "ticks": ""
            },
            "colorscale": [
             [
              0,
              "#0d0887"
             ],
             [
              0.1111111111111111,
              "#46039f"
             ],
             [
              0.2222222222222222,
              "#7201a8"
             ],
             [
              0.3333333333333333,
              "#9c179e"
             ],
             [
              0.4444444444444444,
              "#bd3786"
             ],
             [
              0.5555555555555556,
              "#d8576b"
             ],
             [
              0.6666666666666666,
              "#ed7953"
             ],
             [
              0.7777777777777778,
              "#fb9f3a"
             ],
             [
              0.8888888888888888,
              "#fdca26"
             ],
             [
              1,
              "#f0f921"
             ]
            ],
            "type": "histogram2dcontour"
           }
          ],
          "mesh3d": [
           {
            "colorbar": {
             "outlinewidth": 0,
             "ticks": ""
            },
            "type": "mesh3d"
           }
          ],
          "parcoords": [
           {
            "line": {
             "colorbar": {
              "outlinewidth": 0,
              "ticks": ""
             }
            },
            "type": "parcoords"
           }
          ],
          "pie": [
           {
            "automargin": true,
            "type": "pie"
           }
          ],
          "scatter": [
           {
            "fillpattern": {
             "fillmode": "overlay",
             "size": 10,
             "solidity": 0.2
            },
            "type": "scatter"
           }
          ],
          "scatter3d": [
           {
            "line": {
             "colorbar": {
              "outlinewidth": 0,
              "ticks": ""
             }
            },
            "marker": {
             "colorbar": {
              "outlinewidth": 0,
              "ticks": ""
             }
            },
            "type": "scatter3d"
           }
          ],
          "scattercarpet": [
           {
            "marker": {
             "colorbar": {
              "outlinewidth": 0,
              "ticks": ""
             }
            },
            "type": "scattercarpet"
           }
          ],
          "scattergeo": [
           {
            "marker": {
             "colorbar": {
              "outlinewidth": 0,
              "ticks": ""
             }
            },
            "type": "scattergeo"
           }
          ],
          "scattergl": [
           {
            "marker": {
             "colorbar": {
              "outlinewidth": 0,
              "ticks": ""
             }
            },
            "type": "scattergl"
           }
          ],
          "scattermapbox": [
           {
            "marker": {
             "colorbar": {
              "outlinewidth": 0,
              "ticks": ""
             }
            },
            "type": "scattermapbox"
           }
          ],
          "scatterpolar": [
           {
            "marker": {
             "colorbar": {
              "outlinewidth": 0,
              "ticks": ""
             }
            },
            "type": "scatterpolar"
           }
          ],
          "scatterpolargl": [
           {
            "marker": {
             "colorbar": {
              "outlinewidth": 0,
              "ticks": ""
             }
            },
            "type": "scatterpolargl"
           }
          ],
          "scatterternary": [
           {
            "marker": {
             "colorbar": {
              "outlinewidth": 0,
              "ticks": ""
             }
            },
            "type": "scatterternary"
           }
          ],
          "surface": [
           {
            "colorbar": {
             "outlinewidth": 0,
             "ticks": ""
            },
            "colorscale": [
             [
              0,
              "#0d0887"
             ],
             [
              0.1111111111111111,
              "#46039f"
             ],
             [
              0.2222222222222222,
              "#7201a8"
             ],
             [
              0.3333333333333333,
              "#9c179e"
             ],
             [
              0.4444444444444444,
              "#bd3786"
             ],
             [
              0.5555555555555556,
              "#d8576b"
             ],
             [
              0.6666666666666666,
              "#ed7953"
             ],
             [
              0.7777777777777778,
              "#fb9f3a"
             ],
             [
              0.8888888888888888,
              "#fdca26"
             ],
             [
              1,
              "#f0f921"
             ]
            ],
            "type": "surface"
           }
          ],
          "table": [
           {
            "cells": {
             "fill": {
              "color": "#EBF0F8"
             },
             "line": {
              "color": "white"
             }
            },
            "header": {
             "fill": {
              "color": "#C8D4E3"
             },
             "line": {
              "color": "white"
             }
            },
            "type": "table"
           }
          ]
         },
         "layout": {
          "annotationdefaults": {
           "arrowcolor": "#2a3f5f",
           "arrowhead": 0,
           "arrowwidth": 1
          },
          "autotypenumbers": "strict",
          "coloraxis": {
           "colorbar": {
            "outlinewidth": 0,
            "ticks": ""
           }
          },
          "colorscale": {
           "diverging": [
            [
             0,
             "#8e0152"
            ],
            [
             0.1,
             "#c51b7d"
            ],
            [
             0.2,
             "#de77ae"
            ],
            [
             0.3,
             "#f1b6da"
            ],
            [
             0.4,
             "#fde0ef"
            ],
            [
             0.5,
             "#f7f7f7"
            ],
            [
             0.6,
             "#e6f5d0"
            ],
            [
             0.7,
             "#b8e186"
            ],
            [
             0.8,
             "#7fbc41"
            ],
            [
             0.9,
             "#4d9221"
            ],
            [
             1,
             "#276419"
            ]
           ],
           "sequential": [
            [
             0,
             "#0d0887"
            ],
            [
             0.1111111111111111,
             "#46039f"
            ],
            [
             0.2222222222222222,
             "#7201a8"
            ],
            [
             0.3333333333333333,
             "#9c179e"
            ],
            [
             0.4444444444444444,
             "#bd3786"
            ],
            [
             0.5555555555555556,
             "#d8576b"
            ],
            [
             0.6666666666666666,
             "#ed7953"
            ],
            [
             0.7777777777777778,
             "#fb9f3a"
            ],
            [
             0.8888888888888888,
             "#fdca26"
            ],
            [
             1,
             "#f0f921"
            ]
           ],
           "sequentialminus": [
            [
             0,
             "#0d0887"
            ],
            [
             0.1111111111111111,
             "#46039f"
            ],
            [
             0.2222222222222222,
             "#7201a8"
            ],
            [
             0.3333333333333333,
             "#9c179e"
            ],
            [
             0.4444444444444444,
             "#bd3786"
            ],
            [
             0.5555555555555556,
             "#d8576b"
            ],
            [
             0.6666666666666666,
             "#ed7953"
            ],
            [
             0.7777777777777778,
             "#fb9f3a"
            ],
            [
             0.8888888888888888,
             "#fdca26"
            ],
            [
             1,
             "#f0f921"
            ]
           ]
          },
          "colorway": [
           "#636efa",
           "#EF553B",
           "#00cc96",
           "#ab63fa",
           "#FFA15A",
           "#19d3f3",
           "#FF6692",
           "#B6E880",
           "#FF97FF",
           "#FECB52"
          ],
          "font": {
           "color": "#2a3f5f"
          },
          "geo": {
           "bgcolor": "white",
           "lakecolor": "white",
           "landcolor": "#E5ECF6",
           "showlakes": true,
           "showland": true,
           "subunitcolor": "white"
          },
          "hoverlabel": {
           "align": "left"
          },
          "hovermode": "closest",
          "mapbox": {
           "style": "light"
          },
          "paper_bgcolor": "white",
          "plot_bgcolor": "#E5ECF6",
          "polar": {
           "angularaxis": {
            "gridcolor": "white",
            "linecolor": "white",
            "ticks": ""
           },
           "bgcolor": "#E5ECF6",
           "radialaxis": {
            "gridcolor": "white",
            "linecolor": "white",
            "ticks": ""
           }
          },
          "scene": {
           "xaxis": {
            "backgroundcolor": "#E5ECF6",
            "gridcolor": "white",
            "gridwidth": 2,
            "linecolor": "white",
            "showbackground": true,
            "ticks": "",
            "zerolinecolor": "white"
           },
           "yaxis": {
            "backgroundcolor": "#E5ECF6",
            "gridcolor": "white",
            "gridwidth": 2,
            "linecolor": "white",
            "showbackground": true,
            "ticks": "",
            "zerolinecolor": "white"
           },
           "zaxis": {
            "backgroundcolor": "#E5ECF6",
            "gridcolor": "white",
            "gridwidth": 2,
            "linecolor": "white",
            "showbackground": true,
            "ticks": "",
            "zerolinecolor": "white"
           }
          },
          "shapedefaults": {
           "line": {
            "color": "#2a3f5f"
           }
          },
          "ternary": {
           "aaxis": {
            "gridcolor": "white",
            "linecolor": "white",
            "ticks": ""
           },
           "baxis": {
            "gridcolor": "white",
            "linecolor": "white",
            "ticks": ""
           },
           "bgcolor": "#E5ECF6",
           "caxis": {
            "gridcolor": "white",
            "linecolor": "white",
            "ticks": ""
           }
          },
          "title": {
           "x": 0.05
          },
          "xaxis": {
           "automargin": true,
           "gridcolor": "white",
           "linecolor": "white",
           "ticks": "",
           "title": {
            "standoff": 15
           },
           "zerolinecolor": "white",
           "zerolinewidth": 2
          },
          "yaxis": {
           "automargin": true,
           "gridcolor": "white",
           "linecolor": "white",
           "ticks": "",
           "title": {
            "standoff": 15
           },
           "zerolinecolor": "white",
           "zerolinewidth": 2
          }
         }
        },
        "title": {
         "font": {
          "color": "#4D5663"
         }
        },
        "xaxis": {
         "gridcolor": "#E1E5ED",
         "showgrid": true,
         "tickfont": {
          "color": "#4D5663"
         },
         "title": {
          "font": {
           "color": "#4D5663"
          },
          "text": ""
         },
         "zerolinecolor": "#E1E5ED"
        },
        "yaxis": {
         "gridcolor": "#E1E5ED",
         "showgrid": true,
         "tickfont": {
          "color": "#4D5663"
         },
         "title": {
          "font": {
           "color": "#4D5663"
          },
          "text": ""
         },
         "zerolinecolor": "#E1E5ED"
        }
       }
      },
      "text/html": [
       "<div>                            <div id=\"923b02fc-ea1a-4b11-b987-66f6b7a36d5b\" class=\"plotly-graph-div\" style=\"height:525px; width:100%;\"></div>            <script type=\"text/javascript\">                require([\"plotly\"], function(Plotly) {                    window.PLOTLYENV=window.PLOTLYENV || {};\n",
       "                    window.PLOTLYENV.BASE_URL='https://plot.ly';                                    if (document.getElementById(\"923b02fc-ea1a-4b11-b987-66f6b7a36d5b\")) {                    Plotly.newPlot(                        \"923b02fc-ea1a-4b11-b987-66f6b7a36d5b\",                        [{\"marker\":{\"color\":[\"rgb(255, 153, 51)\",\"rgb(55, 128, 191)\",\"rgb(50, 171, 96)\",\"rgb(128, 0, 128)\",\"rgb(219, 64, 82)\",\"rgb(0, 128, 128)\",\"rgb(255, 255, 51)\",\"rgb(128, 128, 0)\",\"rgb(251, 128, 114)\",\"rgb(128, 177, 211)\"],\"line\":{\"width\":1.3},\"size\":[70,55,71,107,80,79,78,40,71,15,70,55,63,61,87,53,70,50,42,59,104,59,81,51,28,86,55,54,52,44,78,66,95,72,47,76,74,65,80,63,68,52,47,57,56,106,50,12,61,86,79,34,51,65,74,78,79,47,50,66,104,85,85,53,81,27,84,80,58,27,27,56,101,104,55,100,68,48,46,64,94,88,98,59,93,102,49,58,82,105,44,62,112,52,86,64,58,19,67,99],\"symbol\":\"circle\"},\"mode\":\"markers\",\"text\":\"\",\"x\":[-0.188063660154458,-1.2632936215608892,-1.2338533136735197,-1.8450973157721184,0.02449955453264642,0.8601323001608154,0.38067368984109223,0.6995653815506412,0.5541476168694509,0.7374222353583424,0.05673281912471927,-2.21616241674654,1.3146114364004926,0.5351940754237525,1.3585716412452888,1.2747474941958443,0.540820052101405,-0.2920562767803338,-0.9216187306068334,-0.5797221916880153,-1.074958815886836,0.8480985976500852,1.2732933904431714,0.7100315649462088,0.6530483640921142,-0.11241061379309121,0.7596003339162773,-0.6174573658289274,-0.6274152714266104,-1.759714454076701,0.08090720742818307,0.46968797060922296,1.0539251028076484,-0.48076375302806934,0.12860221214364298,0.37576869855763323,-0.5941143203904156,1.8976734231572363,0.7544325319736191,0.042558907609679585,1.7143020195763445,-1.2292626169397738,-0.7023236451152379,-1.5442950407415679,0.16894092256573684,0.12852491713843023,-1.163141322504226,0.3714401107361555,-0.6108242586511314,-0.06993290911641464,-0.5636096295215977,-0.4560454283796759,-0.1761692279593459,-1.2510189705199346,0.9691832014119103,-1.0654767661962388,-1.2521973102013462,0.6434811098881146,-0.13461502487014343,0.24856414777556626,0.007398367213111617,-0.07390101558107337,0.19637426558063134,-0.34872427756558366,-1.913455817256799,-0.6737328742650052,0.9269106433130302,0.3179698765254314,-1.416865605965769,-1.1543056516656667,0.5114475183041718,-0.196507873479626,-0.580062413342646,-0.1658270167608404,-1.097047939081342,-1.1894123995766837,-0.42760039077205847,0.39254369268186007,-0.4268604170934619,0.5241687034910859,0.9635612781649334,-0.955293738333351,1.4162908377535983,0.4417939968154291,1.1702099068700333,-1.0749028112808092,1.591616515143858,0.21881559785875182,0.06882859779729407,-0.293138438453801,-1.9517285977578336,1.1105982096654228,0.07642276552036524,0.23504464374009748,-0.7651055645533308,1.776209357241539,0.7672736748812959,-0.31083412456542375,0.710880480133809,1.573318636803399],\"y\":[-0.5581488832598571,-0.2489251491578143,0.581600331983485,-0.09320674371084753,-0.04582386256623591,1.3107353815247873,0.035733526867066046,-1.054740573706953,-0.7342565347757056,-0.07845191291167745,0.010537914012690323,-0.027800273238256613,0.4796130297669692,-1.0785474630434262,0.5251132779544812,0.8832619869827804,-1.6554114423507493,0.2031683193811795,-0.31458638212003004,-1.1469269992459956,0.4826396776015845,0.2700188914867437,-1.3873451730534858,0.32423548827459664,-0.948052779169827,-2.18066766150044,0.3728945275311637,-0.681624485260982,0.4924983309991413,-1.0799811714505743,0.5978752323754102,0.6401709371110923,-0.3601505302654266,0.09064301967881237,-1.4064399521191875,0.22883117177924409,0.041850537455784896,0.3440285233832683,-0.46042219311683286,-0.2655111539503704,1.1473402812113929,0.6321067018524369,0.45498839564650745,-1.318277311840253,0.49154527629003564,-1.3137199138786713,1.2664098133916342,0.35466648285568875,0.252996070585558,-0.7374593510390862,-0.43094901643222444,0.6214433861865658,-0.6259736750188081,1.230552627754563,0.4046707262394784,1.0408726448825303,-1.9771648674687992,-1.5381746632793574,-0.8587439220985097,-1.1553015112446128,0.4157245733346647,-0.2853797593964032,-0.6593767372598354,0.5646964016234709,-0.3069800237495501,-1.0277378451619923,-1.00458769990729,0.021508415881825057,-0.744086138042362,0.7007003585764869,0.2744195410189256,0.8216238244859647,-0.038837913092509745,-1.1870763179697361,0.2538423204287201,-1.7491191238648052,-1.2855355177612044,-0.3978335319385796,-0.25669646922983014,-0.3918083289136887,-0.5157673373428238,-0.352487606031004,-0.4786691543511277,-2.111633293623881,0.5471268884951496,0.6642462774523992,-0.21389652653358163,-0.5093167794220944,0.2949501740198685,-0.7086052001861005,-2.591285283013292,-0.9965670117078276,0.4949594446106892,0.814722974189382,-0.20443451104751206,-0.7608344524900537,0.938305697913147,0.21923018337761152,1.0750110724803243,0.3697145050591898],\"type\":\"scatter\"}],                        {\"legend\":{\"bgcolor\":\"#F5F6F9\",\"font\":{\"color\":\"#4D5663\"}},\"paper_bgcolor\":\"#F5F6F9\",\"plot_bgcolor\":\"#F5F6F9\",\"template\":{\"data\":{\"barpolar\":[{\"marker\":{\"line\":{\"color\":\"#E5ECF6\",\"width\":0.5},\"pattern\":{\"fillmode\":\"overlay\",\"size\":10,\"solidity\":0.2}},\"type\":\"barpolar\"}],\"bar\":[{\"error_x\":{\"color\":\"#2a3f5f\"},\"error_y\":{\"color\":\"#2a3f5f\"},\"marker\":{\"line\":{\"color\":\"#E5ECF6\",\"width\":0.5},\"pattern\":{\"fillmode\":\"overlay\",\"size\":10,\"solidity\":0.2}},\"type\":\"bar\"}],\"carpet\":[{\"aaxis\":{\"endlinecolor\":\"#2a3f5f\",\"gridcolor\":\"white\",\"linecolor\":\"white\",\"minorgridcolor\":\"white\",\"startlinecolor\":\"#2a3f5f\"},\"baxis\":{\"endlinecolor\":\"#2a3f5f\",\"gridcolor\":\"white\",\"linecolor\":\"white\",\"minorgridcolor\":\"white\",\"startlinecolor\":\"#2a3f5f\"},\"type\":\"carpet\"}],\"choropleth\":[{\"colorbar\":{\"outlinewidth\":0,\"ticks\":\"\"},\"type\":\"choropleth\"}],\"contourcarpet\":[{\"colorbar\":{\"outlinewidth\":0,\"ticks\":\"\"},\"type\":\"contourcarpet\"}],\"contour\":[{\"colorbar\":{\"outlinewidth\":0,\"ticks\":\"\"},\"colorscale\":[[0.0,\"#0d0887\"],[0.1111111111111111,\"#46039f\"],[0.2222222222222222,\"#7201a8\"],[0.3333333333333333,\"#9c179e\"],[0.4444444444444444,\"#bd3786\"],[0.5555555555555556,\"#d8576b\"],[0.6666666666666666,\"#ed7953\"],[0.7777777777777778,\"#fb9f3a\"],[0.8888888888888888,\"#fdca26\"],[1.0,\"#f0f921\"]],\"type\":\"contour\"}],\"heatmapgl\":[{\"colorbar\":{\"outlinewidth\":0,\"ticks\":\"\"},\"colorscale\":[[0.0,\"#0d0887\"],[0.1111111111111111,\"#46039f\"],[0.2222222222222222,\"#7201a8\"],[0.3333333333333333,\"#9c179e\"],[0.4444444444444444,\"#bd3786\"],[0.5555555555555556,\"#d8576b\"],[0.6666666666666666,\"#ed7953\"],[0.7777777777777778,\"#fb9f3a\"],[0.8888888888888888,\"#fdca26\"],[1.0,\"#f0f921\"]],\"type\":\"heatmapgl\"}],\"heatmap\":[{\"colorbar\":{\"outlinewidth\":0,\"ticks\":\"\"},\"colorscale\":[[0.0,\"#0d0887\"],[0.1111111111111111,\"#46039f\"],[0.2222222222222222,\"#7201a8\"],[0.3333333333333333,\"#9c179e\"],[0.4444444444444444,\"#bd3786\"],[0.5555555555555556,\"#d8576b\"],[0.6666666666666666,\"#ed7953\"],[0.7777777777777778,\"#fb9f3a\"],[0.8888888888888888,\"#fdca26\"],[1.0,\"#f0f921\"]],\"type\":\"heatmap\"}],\"histogram2dcontour\":[{\"colorbar\":{\"outlinewidth\":0,\"ticks\":\"\"},\"colorscale\":[[0.0,\"#0d0887\"],[0.1111111111111111,\"#46039f\"],[0.2222222222222222,\"#7201a8\"],[0.3333333333333333,\"#9c179e\"],[0.4444444444444444,\"#bd3786\"],[0.5555555555555556,\"#d8576b\"],[0.6666666666666666,\"#ed7953\"],[0.7777777777777778,\"#fb9f3a\"],[0.8888888888888888,\"#fdca26\"],[1.0,\"#f0f921\"]],\"type\":\"histogram2dcontour\"}],\"histogram2d\":[{\"colorbar\":{\"outlinewidth\":0,\"ticks\":\"\"},\"colorscale\":[[0.0,\"#0d0887\"],[0.1111111111111111,\"#46039f\"],[0.2222222222222222,\"#7201a8\"],[0.3333333333333333,\"#9c179e\"],[0.4444444444444444,\"#bd3786\"],[0.5555555555555556,\"#d8576b\"],[0.6666666666666666,\"#ed7953\"],[0.7777777777777778,\"#fb9f3a\"],[0.8888888888888888,\"#fdca26\"],[1.0,\"#f0f921\"]],\"type\":\"histogram2d\"}],\"histogram\":[{\"marker\":{\"pattern\":{\"fillmode\":\"overlay\",\"size\":10,\"solidity\":0.2}},\"type\":\"histogram\"}],\"mesh3d\":[{\"colorbar\":{\"outlinewidth\":0,\"ticks\":\"\"},\"type\":\"mesh3d\"}],\"parcoords\":[{\"line\":{\"colorbar\":{\"outlinewidth\":0,\"ticks\":\"\"}},\"type\":\"parcoords\"}],\"pie\":[{\"automargin\":true,\"type\":\"pie\"}],\"scatter3d\":[{\"line\":{\"colorbar\":{\"outlinewidth\":0,\"ticks\":\"\"}},\"marker\":{\"colorbar\":{\"outlinewidth\":0,\"ticks\":\"\"}},\"type\":\"scatter3d\"}],\"scattercarpet\":[{\"marker\":{\"colorbar\":{\"outlinewidth\":0,\"ticks\":\"\"}},\"type\":\"scattercarpet\"}],\"scattergeo\":[{\"marker\":{\"colorbar\":{\"outlinewidth\":0,\"ticks\":\"\"}},\"type\":\"scattergeo\"}],\"scattergl\":[{\"marker\":{\"colorbar\":{\"outlinewidth\":0,\"ticks\":\"\"}},\"type\":\"scattergl\"}],\"scattermapbox\":[{\"marker\":{\"colorbar\":{\"outlinewidth\":0,\"ticks\":\"\"}},\"type\":\"scattermapbox\"}],\"scatterpolargl\":[{\"marker\":{\"colorbar\":{\"outlinewidth\":0,\"ticks\":\"\"}},\"type\":\"scatterpolargl\"}],\"scatterpolar\":[{\"marker\":{\"colorbar\":{\"outlinewidth\":0,\"ticks\":\"\"}},\"type\":\"scatterpolar\"}],\"scatter\":[{\"fillpattern\":{\"fillmode\":\"overlay\",\"size\":10,\"solidity\":0.2},\"type\":\"scatter\"}],\"scatterternary\":[{\"marker\":{\"colorbar\":{\"outlinewidth\":0,\"ticks\":\"\"}},\"type\":\"scatterternary\"}],\"surface\":[{\"colorbar\":{\"outlinewidth\":0,\"ticks\":\"\"},\"colorscale\":[[0.0,\"#0d0887\"],[0.1111111111111111,\"#46039f\"],[0.2222222222222222,\"#7201a8\"],[0.3333333333333333,\"#9c179e\"],[0.4444444444444444,\"#bd3786\"],[0.5555555555555556,\"#d8576b\"],[0.6666666666666666,\"#ed7953\"],[0.7777777777777778,\"#fb9f3a\"],[0.8888888888888888,\"#fdca26\"],[1.0,\"#f0f921\"]],\"type\":\"surface\"}],\"table\":[{\"cells\":{\"fill\":{\"color\":\"#EBF0F8\"},\"line\":{\"color\":\"white\"}},\"header\":{\"fill\":{\"color\":\"#C8D4E3\"},\"line\":{\"color\":\"white\"}},\"type\":\"table\"}]},\"layout\":{\"annotationdefaults\":{\"arrowcolor\":\"#2a3f5f\",\"arrowhead\":0,\"arrowwidth\":1},\"autotypenumbers\":\"strict\",\"coloraxis\":{\"colorbar\":{\"outlinewidth\":0,\"ticks\":\"\"}},\"colorscale\":{\"diverging\":[[0,\"#8e0152\"],[0.1,\"#c51b7d\"],[0.2,\"#de77ae\"],[0.3,\"#f1b6da\"],[0.4,\"#fde0ef\"],[0.5,\"#f7f7f7\"],[0.6,\"#e6f5d0\"],[0.7,\"#b8e186\"],[0.8,\"#7fbc41\"],[0.9,\"#4d9221\"],[1,\"#276419\"]],\"sequential\":[[0.0,\"#0d0887\"],[0.1111111111111111,\"#46039f\"],[0.2222222222222222,\"#7201a8\"],[0.3333333333333333,\"#9c179e\"],[0.4444444444444444,\"#bd3786\"],[0.5555555555555556,\"#d8576b\"],[0.6666666666666666,\"#ed7953\"],[0.7777777777777778,\"#fb9f3a\"],[0.8888888888888888,\"#fdca26\"],[1.0,\"#f0f921\"]],\"sequentialminus\":[[0.0,\"#0d0887\"],[0.1111111111111111,\"#46039f\"],[0.2222222222222222,\"#7201a8\"],[0.3333333333333333,\"#9c179e\"],[0.4444444444444444,\"#bd3786\"],[0.5555555555555556,\"#d8576b\"],[0.6666666666666666,\"#ed7953\"],[0.7777777777777778,\"#fb9f3a\"],[0.8888888888888888,\"#fdca26\"],[1.0,\"#f0f921\"]]},\"colorway\":[\"#636efa\",\"#EF553B\",\"#00cc96\",\"#ab63fa\",\"#FFA15A\",\"#19d3f3\",\"#FF6692\",\"#B6E880\",\"#FF97FF\",\"#FECB52\"],\"font\":{\"color\":\"#2a3f5f\"},\"geo\":{\"bgcolor\":\"white\",\"lakecolor\":\"white\",\"landcolor\":\"#E5ECF6\",\"showlakes\":true,\"showland\":true,\"subunitcolor\":\"white\"},\"hoverlabel\":{\"align\":\"left\"},\"hovermode\":\"closest\",\"mapbox\":{\"style\":\"light\"},\"paper_bgcolor\":\"white\",\"plot_bgcolor\":\"#E5ECF6\",\"polar\":{\"angularaxis\":{\"gridcolor\":\"white\",\"linecolor\":\"white\",\"ticks\":\"\"},\"bgcolor\":\"#E5ECF6\",\"radialaxis\":{\"gridcolor\":\"white\",\"linecolor\":\"white\",\"ticks\":\"\"}},\"scene\":{\"xaxis\":{\"backgroundcolor\":\"#E5ECF6\",\"gridcolor\":\"white\",\"gridwidth\":2,\"linecolor\":\"white\",\"showbackground\":true,\"ticks\":\"\",\"zerolinecolor\":\"white\"},\"yaxis\":{\"backgroundcolor\":\"#E5ECF6\",\"gridcolor\":\"white\",\"gridwidth\":2,\"linecolor\":\"white\",\"showbackground\":true,\"ticks\":\"\",\"zerolinecolor\":\"white\"},\"zaxis\":{\"backgroundcolor\":\"#E5ECF6\",\"gridcolor\":\"white\",\"gridwidth\":2,\"linecolor\":\"white\",\"showbackground\":true,\"ticks\":\"\",\"zerolinecolor\":\"white\"}},\"shapedefaults\":{\"line\":{\"color\":\"#2a3f5f\"}},\"ternary\":{\"aaxis\":{\"gridcolor\":\"white\",\"linecolor\":\"white\",\"ticks\":\"\"},\"baxis\":{\"gridcolor\":\"white\",\"linecolor\":\"white\",\"ticks\":\"\"},\"bgcolor\":\"#E5ECF6\",\"caxis\":{\"gridcolor\":\"white\",\"linecolor\":\"white\",\"ticks\":\"\"}},\"title\":{\"x\":0.05},\"xaxis\":{\"automargin\":true,\"gridcolor\":\"white\",\"linecolor\":\"white\",\"ticks\":\"\",\"title\":{\"standoff\":15},\"zerolinecolor\":\"white\",\"zerolinewidth\":2},\"yaxis\":{\"automargin\":true,\"gridcolor\":\"white\",\"linecolor\":\"white\",\"ticks\":\"\",\"title\":{\"standoff\":15},\"zerolinecolor\":\"white\",\"zerolinewidth\":2}}},\"title\":{\"font\":{\"color\":\"#4D5663\"}},\"xaxis\":{\"gridcolor\":\"#E1E5ED\",\"showgrid\":true,\"tickfont\":{\"color\":\"#4D5663\"},\"title\":{\"font\":{\"color\":\"#4D5663\"},\"text\":\"\"},\"zerolinecolor\":\"#E1E5ED\"},\"yaxis\":{\"gridcolor\":\"#E1E5ED\",\"showgrid\":true,\"tickfont\":{\"color\":\"#4D5663\"},\"title\":{\"font\":{\"color\":\"#4D5663\"},\"text\":\"\"},\"zerolinecolor\":\"#E1E5ED\"}},                        {\"showLink\": true, \"linkText\": \"Export to plot.ly\", \"plotlyServerURL\": \"https://plot.ly\", \"responsive\": true}                    ).then(function(){\n",
       "                            \n",
       "var gd = document.getElementById('923b02fc-ea1a-4b11-b987-66f6b7a36d5b');\n",
       "var x = new MutationObserver(function (mutations, observer) {{\n",
       "        var display = window.getComputedStyle(gd).display;\n",
       "        if (!display || display === 'none') {{\n",
       "            console.log([gd, 'removed!']);\n",
       "            Plotly.purge(gd);\n",
       "            observer.disconnect();\n",
       "        }}\n",
       "}});\n",
       "\n",
       "// Listen for the removal of the full notebook cells\n",
       "var notebookContainer = gd.closest('#notebook-container');\n",
       "if (notebookContainer) {{\n",
       "    x.observe(notebookContainer, {childList: true});\n",
       "}}\n",
       "\n",
       "// Listen for the clearing of the current output cell\n",
       "var outputEl = gd.closest('.output');\n",
       "if (outputEl) {{\n",
       "    x.observe(outputEl, {childList: true});\n",
       "}}\n",
       "\n",
       "                        })                };                });            </script>        </div>"
      ]
     },
     "metadata": {},
     "output_type": "display_data"
    }
   ],
   "source": [
    "df1.iplot(kind='bubble', x='A',y='B',size='C')"
   ]
  },
  {
   "cell_type": "code",
   "execution_count": 133,
   "metadata": {},
   "outputs": [
    {
     "data": {
      "application/vnd.plotly.v1+json": {
       "config": {
        "linkText": "Export to plot.ly",
        "plotlyServerURL": "https://plot.ly",
        "showLink": true
       },
       "data": [
        {
         "histfunc": "count",
         "histnorm": "",
         "marker": {
          "color": "rgba(255, 153, 51, 1.0)",
          "line": {
           "color": "#4D5663",
           "width": 1.3
          }
         },
         "name": "A",
         "nbinsx": 10,
         "opacity": 0.8,
         "orientation": "v",
         "type": "histogram",
         "x": [
          -1.3731688173621832,
          -0.5236780566901539,
          -0.2456701124803259,
          -1.6380423135313602,
          0.9982274092034623,
          -1.15307228039646,
          -1.5618663632408445,
          0.8200192727725714,
          0.4896820037700569,
          -1.7515717647801263,
          -0.06337162209812126,
          -0.3710804808800396,
          1.334041593001444,
          -0.749371267093215,
          -0.08678441228771756,
          -1.8822514238319927,
          -0.934430313200707,
          -0.19847237614294302,
          -0.20675616177675002,
          0.8819335976960104,
          0.023120137660321772,
          -0.0937663221763038,
          1.0062716328804868,
          -0.7527872553381383,
          -1.711418215864383,
          -2.6231263089537467,
          0.5353519665610029,
          1.3611088323596643,
          -1.5553755052553273,
          -0.7900789027259035,
          -0.112099598614191,
          -0.7765022974880906,
          -1.0095700680916018,
          0.12751898362424638,
          0.48523254289941636,
          -0.08758679656614751,
          -0.6405700377096745,
          0.4508096744210774,
          -0.17729227464359826,
          -1.3703372018763402,
          0.35822387093041075,
          0.011425989559393415,
          -2.2806654962681123,
          -0.418647724918048,
          1.0416519990770345,
          -0.003226566833624996,
          -0.8009773563696257,
          -0.8028488879372703,
          0.4403941548182696,
          -0.6460565332446022,
          -1.0538901952212936,
          -0.02941339682476033,
          -0.17880153658567707,
          1.5504066876349598,
          -0.06515519216521365,
          0.2634552678872701,
          1.221545929144533,
          0.41801716583001197,
          1.5706085556631733,
          -0.5735845823969875,
          -0.8820952994521086,
          0.3274408658812476,
          0.0909898204822451,
          -2.353670135079995,
          -0.3661806770483226,
          -0.9498676077976055,
          -1.0564185103175003,
          -1.0333840929678313,
          0.14215218947690056,
          -2.024164960776577,
          -0.5104641477871487,
          0.5231634935646545,
          -0.752271124788865,
          -1.431441600474087,
          0.13510742157296052,
          0.5017877946333005,
          0.3659653905102098,
          0.07018885629698855,
          2.2459148212296487,
          0.6786454586708808,
          0.9490166345640043,
          -1.9094775520083493,
          1.728290787905516,
          0.6398327487317317,
          0.3544085374865336,
          0.11432799574217735,
          0.6589381343247359,
          0.10346767508405878,
          -1.1038727497628804,
          -0.5099896964508587,
          0.5867887413460539,
          -0.7522432291170378,
          -1.2458288997869245,
          -1.4730026290167162,
          0.16962320435120895,
          0.964513413489719,
          1.1079062496024767,
          -0.32293074154054024,
          -0.7015479463603599,
          2.1010850453068697
         ],
         "xaxis": "x",
         "yaxis": "y"
        },
        {
         "line": {
          "color": "rgba(128, 128, 128, 1.0)",
          "dash": "solid",
          "shape": "linear",
          "width": 1.3
         },
         "marker": {
          "size": 2,
          "symbol": "circle"
         },
         "mode": "markers",
         "name": "A",
         "text": "",
         "type": "scatter",
         "x": [
          -0.26049029456912903,
          -0.09714763269974377,
          0.8111103731791115,
          -1.9092793360910076,
          -0.7021805233979893,
          1.7113569273657838,
          0.5577059895260462,
          -0.04010677492691884,
          -0.6031994783562596,
          -1.0151465414034821,
          -0.65977071844508,
          -0.11373213297939189,
          -0.17642103201371448,
          -1.3127870983774748,
          -0.8121667700648396,
          0.3562560593913871,
          0.115787656807456,
          2.0304725698965473,
          -1.8962460120140843,
          -1.695481979037778,
          0.083227127103031,
          -1.6072152006989198,
          -0.791909505896926,
          -0.00226257065607172,
          0.789055363306743,
          1.6384186774393954,
          -0.9141297129748618,
          0.34878907759418426,
          1.3992320086007244,
          -1.6551017310853946,
          0.2196602310642125,
          1.2934294942744322,
          0.6188203489615133,
          -1.0477234555721597,
          0.8342357072623097,
          1.5704168087418544,
          -1.4090025076121278,
          -2.118052083579081,
          -0.2333452338485016,
          -0.07709603866845373,
          -2.8072073735768845,
          -1.687428945991679,
          -1.159580191150825,
          1.304971913099211,
          -2.6664369761159477,
          0.0006285483518210876,
          -0.22704157391863877,
          1.5959235424772875,
          0.5226701132725071,
          -0.32349048754336457,
          0.17185896219907654,
          -0.11097559458142076,
          1.032166153297779,
          -0.7377867289133496,
          -1.205653112465707,
          0.08034586127001102,
          1.0494964020796176,
          0.5737773994926414,
          1.0679595026820368,
          0.2078110294449889,
          0.497964687170021,
          -1.0040946242420055,
          1.641018339402369,
          0.6987039146589529,
          -1.5910510766375996,
          1.0567069686542072,
          0.7215190478611012,
          0.6853744281025479,
          0.34932033732412204,
          0.08720879431656639,
          -0.7592345849283544,
          -0.5346034111574133,
          0.6203389986553872,
          0.055895501280625454,
          -1.2586433955714882,
          -1.4507327058899393,
          -0.5067603413460747,
          0.22285324461662986,
          1.2794806218555201,
          -0.5698953891946154,
          1.1666766260353854,
          -0.2748556337601546,
          0.3689062378985249,
          -0.22443208712326157,
          -2.6892222066069196,
          -0.6277102895697781,
          0.9948207097804131,
          2.006791303963984,
          -2.215807367364074,
          -0.36815272094188445,
          -2.0368053672881525,
          -1.4043787604355018,
          -0.6741811066408415,
          1.895508785899313,
          1.2781476020982228,
          1.6513382173909747,
          -2.6044397766828005,
          0.24020400275439163,
          -0.5693768063211105,
          0.934438743225109
         ],
         "xaxis": "x2",
         "y": [
          -1.3731688173621832,
          -0.5236780566901539,
          -0.2456701124803259,
          -1.6380423135313602,
          0.9982274092034623,
          -1.15307228039646,
          -1.5618663632408445,
          0.8200192727725714,
          0.4896820037700569,
          -1.7515717647801263,
          -0.06337162209812126,
          -0.3710804808800396,
          1.334041593001444,
          -0.749371267093215,
          -0.08678441228771756,
          -1.8822514238319927,
          -0.934430313200707,
          -0.19847237614294302,
          -0.20675616177675002,
          0.8819335976960104,
          0.023120137660321772,
          -0.0937663221763038,
          1.0062716328804868,
          -0.7527872553381383,
          -1.711418215864383,
          -2.6231263089537467,
          0.5353519665610029,
          1.3611088323596643,
          -1.5553755052553273,
          -0.7900789027259035,
          -0.112099598614191,
          -0.7765022974880906,
          -1.0095700680916018,
          0.12751898362424638,
          0.48523254289941636,
          -0.08758679656614751,
          -0.6405700377096745,
          0.4508096744210774,
          -0.17729227464359826,
          -1.3703372018763402,
          0.35822387093041075,
          0.011425989559393415,
          -2.2806654962681123,
          -0.418647724918048,
          1.0416519990770345,
          -0.003226566833624996,
          -0.8009773563696257,
          -0.8028488879372703,
          0.4403941548182696,
          -0.6460565332446022,
          -1.0538901952212936,
          -0.02941339682476033,
          -0.17880153658567707,
          1.5504066876349598,
          -0.06515519216521365,
          0.2634552678872701,
          1.221545929144533,
          0.41801716583001197,
          1.5706085556631733,
          -0.5735845823969875,
          -0.8820952994521086,
          0.3274408658812476,
          0.0909898204822451,
          -2.353670135079995,
          -0.3661806770483226,
          -0.9498676077976055,
          -1.0564185103175003,
          -1.0333840929678313,
          0.14215218947690056,
          -2.024164960776577,
          -0.5104641477871487,
          0.5231634935646545,
          -0.752271124788865,
          -1.431441600474087,
          0.13510742157296052,
          0.5017877946333005,
          0.3659653905102098,
          0.07018885629698855,
          2.2459148212296487,
          0.6786454586708808,
          0.9490166345640043,
          -1.9094775520083493,
          1.728290787905516,
          0.6398327487317317,
          0.3544085374865336,
          0.11432799574217735,
          0.6589381343247359,
          0.10346767508405878,
          -1.1038727497628804,
          -0.5099896964508587,
          0.5867887413460539,
          -0.7522432291170378,
          -1.2458288997869245,
          -1.4730026290167162,
          0.16962320435120895,
          0.964513413489719,
          1.1079062496024767,
          -0.32293074154054024,
          -0.7015479463603599,
          2.1010850453068697
         ],
         "yaxis": "y2"
        },
        {
         "line": {
          "color": "rgba(128, 128, 128, 1.0)",
          "dash": "solid",
          "shape": "linear",
          "width": 1.3
         },
         "marker": {
          "size": 2,
          "symbol": "circle"
         },
         "mode": "markers",
         "name": "A",
         "text": "",
         "type": "scatter",
         "x": [
          1.016137061958665,
          -0.5420245082783235,
          -0.6555275772055192,
          -0.17482452802721207,
          -0.20966175827607628,
          1.1268451015087522,
          -0.3573421160038608,
          -0.1283955674793992,
          -0.966809172726611,
          1.1076046408037203,
          -0.3857180761673435,
          0.10751028698545406,
          -0.0722654270370262,
          0.5027412369328366,
          0.4586151070738453,
          -0.31358236684132984,
          -0.7294415911860292,
          0.46889357343171045,
          1.6289993484803935,
          -0.13196937501181366,
          0.13903276441007126,
          -1.8065516586311317,
          0.015244035509171621,
          -0.6693807883877644,
          -1.1417766658491864,
          -0.08255553128388488,
          -0.8202482353376133,
          -1.1406918804712243,
          1.964067336106461,
          -0.9258080012830326,
          -0.1446993961232515,
          1.3722685370982728,
          1.0744640309311915,
          -0.13315007362248654,
          -0.24258199731695324,
          -2.434755966203868,
          1.249588245085047,
          -1.9159706351612598,
          0.9028452338965627,
          0.09709163764319628,
          -1.4915115361349514,
          -0.08131167965299389,
          -0.3533067773683644,
          0.43875369576612405,
          0.16403251203894895,
          0.3327188025830961,
          0.09824955382014505,
          0.25413148419195647,
          -0.8255273384617694,
          1.1502405310973927,
          -0.23663503779656808,
          -0.10375558656850428,
          0.29597100192381026,
          0.161902165064038,
          0.8746088623238746,
          -0.4313027123686213,
          -1.5522117256973411,
          1.5822264544410984,
          -0.2100548377789055,
          -0.11466768195239925,
          0.7693212034474219,
          -0.5239181221597862,
          -0.29627797449795956,
          -0.7872581356661098,
          -0.08259776401178255,
          -0.16190735298564957,
          1.0400236333371244,
          0.7016475467736071,
          1.6061385761185691,
          -0.09389196044606382,
          -2.2984771444784005,
          1.332637670768821,
          1.4260586545811833,
          0.4993956785585622,
          -0.9885025824410877,
          -1.1500950277274034,
          0.027440551493462317,
          -0.7152163964368956,
          -0.22254785386403808,
          1.3578697515859321,
          0.7795183721417863,
          -1.0941700641779113,
          -0.3691504402687209,
          -0.17252910270078434,
          -0.22910576496372098,
          -0.5535653063181362,
          -0.11246827447795366,
          -0.5004601639160561,
          1.3972684184213935,
          0.5826640975314333,
          -0.3704108210274508,
          -0.5791163044118627,
          -1.5688427193366512,
          0.9128795909915046,
          0.23049311480694276,
          0.02602262547334177,
          2.390872078118632,
          0.8265186912628907,
          1.1563445322537906,
          0.1929179183525035
         ],
         "xaxis": "x3",
         "y": [
          -1.3731688173621832,
          -0.5236780566901539,
          -0.2456701124803259,
          -1.6380423135313602,
          0.9982274092034623,
          -1.15307228039646,
          -1.5618663632408445,
          0.8200192727725714,
          0.4896820037700569,
          -1.7515717647801263,
          -0.06337162209812126,
          -0.3710804808800396,
          1.334041593001444,
          -0.749371267093215,
          -0.08678441228771756,
          -1.8822514238319927,
          -0.934430313200707,
          -0.19847237614294302,
          -0.20675616177675002,
          0.8819335976960104,
          0.023120137660321772,
          -0.0937663221763038,
          1.0062716328804868,
          -0.7527872553381383,
          -1.711418215864383,
          -2.6231263089537467,
          0.5353519665610029,
          1.3611088323596643,
          -1.5553755052553273,
          -0.7900789027259035,
          -0.112099598614191,
          -0.7765022974880906,
          -1.0095700680916018,
          0.12751898362424638,
          0.48523254289941636,
          -0.08758679656614751,
          -0.6405700377096745,
          0.4508096744210774,
          -0.17729227464359826,
          -1.3703372018763402,
          0.35822387093041075,
          0.011425989559393415,
          -2.2806654962681123,
          -0.418647724918048,
          1.0416519990770345,
          -0.003226566833624996,
          -0.8009773563696257,
          -0.8028488879372703,
          0.4403941548182696,
          -0.6460565332446022,
          -1.0538901952212936,
          -0.02941339682476033,
          -0.17880153658567707,
          1.5504066876349598,
          -0.06515519216521365,
          0.2634552678872701,
          1.221545929144533,
          0.41801716583001197,
          1.5706085556631733,
          -0.5735845823969875,
          -0.8820952994521086,
          0.3274408658812476,
          0.0909898204822451,
          -2.353670135079995,
          -0.3661806770483226,
          -0.9498676077976055,
          -1.0564185103175003,
          -1.0333840929678313,
          0.14215218947690056,
          -2.024164960776577,
          -0.5104641477871487,
          0.5231634935646545,
          -0.752271124788865,
          -1.431441600474087,
          0.13510742157296052,
          0.5017877946333005,
          0.3659653905102098,
          0.07018885629698855,
          2.2459148212296487,
          0.6786454586708808,
          0.9490166345640043,
          -1.9094775520083493,
          1.728290787905516,
          0.6398327487317317,
          0.3544085374865336,
          0.11432799574217735,
          0.6589381343247359,
          0.10346767508405878,
          -1.1038727497628804,
          -0.5099896964508587,
          0.5867887413460539,
          -0.7522432291170378,
          -1.2458288997869245,
          -1.4730026290167162,
          0.16962320435120895,
          0.964513413489719,
          1.1079062496024767,
          -0.32293074154054024,
          -0.7015479463603599,
          2.1010850453068697
         ],
         "yaxis": "y3"
        },
        {
         "line": {
          "color": "rgba(128, 128, 128, 1.0)",
          "dash": "solid",
          "shape": "linear",
          "width": 1.3
         },
         "marker": {
          "size": 2,
          "symbol": "circle"
         },
         "mode": "markers",
         "name": "A",
         "text": "",
         "type": "scatter",
         "x": [
          0.3678728199360895,
          0.7770397311008759,
          -0.31161412554319096,
          0.36109033817175823,
          1.0958105195636665,
          -0.6153494161962141,
          0.3733739029607547,
          0.7208029853625418,
          -1.6601967483822941,
          0.5812737043064377,
          2.3976288441646996,
          -2.2775623051411698,
          -1.3700067916658192,
          0.6724836769454864,
          0.6545862845642076,
          0.8608767566123184,
          -1.0038117731243594,
          0.2654092394720436,
          0.23271099141093987,
          1.0166224389242902,
          -0.2302243018740462,
          0.38887841341583407,
          -1.1744585970201085,
          -0.3288681829338943,
          0.4320913263467357,
          0.5363338760370511,
          -0.954588837116522,
          -0.9060180130129888,
          0.08258657852706816,
          0.8690618739895999,
          -0.07454312360867822,
          0.9069401158057482,
          0.8525847408135002,
          1.7008325595940121,
          -0.31927820901311404,
          2.5839018710271704,
          -0.6615241474077949,
          -0.3513113384047537,
          -1.6447064505626163,
          -0.3381746996970631,
          0.5185703280206443,
          -0.4126600899710108,
          1.111412826450472,
          -2.1811768624324954,
          -0.7390562258230423,
          -0.19691431987782637,
          -0.8564461074613374,
          -0.2658143784041566,
          -2.63333719441065,
          1.0166617842654235,
          0.5440607019805058,
          -0.3238076409135922,
          2.301811968058974,
          0.23585547206087806,
          -0.22523633643882646,
          -0.11678596070999779,
          0.12578899821333514,
          -1.266448176678349,
          1.840156190143387,
          0.7934607654229933,
          -0.879040372028926,
          0.1106176772142058,
          0.7232055158481039,
          1.143955728091707,
          -0.6922408053305052,
          0.17111181715903606,
          1.1752227121361831,
          0.5149017248635412,
          -0.29239279311857286,
          -0.9431186110891314,
          0.6890241907223393,
          -2.736800800781161,
          -0.09193453540823339,
          0.9031472571354823,
          -1.328816012502861,
          -0.907777189110073,
          -0.6471404454248375,
          -0.21980395293017788,
          -0.6742557662560115,
          -1.080899671209913,
          -0.33771811051318523,
          -0.778554295537802,
          -1.0784224433638752,
          -0.2522855225757112,
          -0.34230578532068723,
          -0.0765594929956213,
          -0.1897062808846173,
          0.9551877414597707,
          0.030419844757999685,
          0.360806273631684,
          0.7774964204857886,
          -0.5182793271816202,
          -0.6459736843376598,
          0.13782438188531929,
          1.2245544210274506,
          -0.4206696236845781,
          0.11823720416357132,
          -0.11183220579060686,
          -1.6093667900712743,
          -0.8601587836879706
         ],
         "xaxis": "x4",
         "y": [
          -1.3731688173621832,
          -0.5236780566901539,
          -0.2456701124803259,
          -1.6380423135313602,
          0.9982274092034623,
          -1.15307228039646,
          -1.5618663632408445,
          0.8200192727725714,
          0.4896820037700569,
          -1.7515717647801263,
          -0.06337162209812126,
          -0.3710804808800396,
          1.334041593001444,
          -0.749371267093215,
          -0.08678441228771756,
          -1.8822514238319927,
          -0.934430313200707,
          -0.19847237614294302,
          -0.20675616177675002,
          0.8819335976960104,
          0.023120137660321772,
          -0.0937663221763038,
          1.0062716328804868,
          -0.7527872553381383,
          -1.711418215864383,
          -2.6231263089537467,
          0.5353519665610029,
          1.3611088323596643,
          -1.5553755052553273,
          -0.7900789027259035,
          -0.112099598614191,
          -0.7765022974880906,
          -1.0095700680916018,
          0.12751898362424638,
          0.48523254289941636,
          -0.08758679656614751,
          -0.6405700377096745,
          0.4508096744210774,
          -0.17729227464359826,
          -1.3703372018763402,
          0.35822387093041075,
          0.011425989559393415,
          -2.2806654962681123,
          -0.418647724918048,
          1.0416519990770345,
          -0.003226566833624996,
          -0.8009773563696257,
          -0.8028488879372703,
          0.4403941548182696,
          -0.6460565332446022,
          -1.0538901952212936,
          -0.02941339682476033,
          -0.17880153658567707,
          1.5504066876349598,
          -0.06515519216521365,
          0.2634552678872701,
          1.221545929144533,
          0.41801716583001197,
          1.5706085556631733,
          -0.5735845823969875,
          -0.8820952994521086,
          0.3274408658812476,
          0.0909898204822451,
          -2.353670135079995,
          -0.3661806770483226,
          -0.9498676077976055,
          -1.0564185103175003,
          -1.0333840929678313,
          0.14215218947690056,
          -2.024164960776577,
          -0.5104641477871487,
          0.5231634935646545,
          -0.752271124788865,
          -1.431441600474087,
          0.13510742157296052,
          0.5017877946333005,
          0.3659653905102098,
          0.07018885629698855,
          2.2459148212296487,
          0.6786454586708808,
          0.9490166345640043,
          -1.9094775520083493,
          1.728290787905516,
          0.6398327487317317,
          0.3544085374865336,
          0.11432799574217735,
          0.6589381343247359,
          0.10346767508405878,
          -1.1038727497628804,
          -0.5099896964508587,
          0.5867887413460539,
          -0.7522432291170378,
          -1.2458288997869245,
          -1.4730026290167162,
          0.16962320435120895,
          0.964513413489719,
          1.1079062496024767,
          -0.32293074154054024,
          -0.7015479463603599,
          2.1010850453068697
         ],
         "yaxis": "y4"
        },
        {
         "line": {
          "color": "rgba(128, 128, 128, 1.0)",
          "dash": "solid",
          "shape": "linear",
          "width": 1.3
         },
         "marker": {
          "size": 2,
          "symbol": "circle"
         },
         "mode": "markers",
         "name": "B",
         "text": "",
         "type": "scatter",
         "x": [
          -1.3731688173621832,
          -0.5236780566901539,
          -0.2456701124803259,
          -1.6380423135313602,
          0.9982274092034623,
          -1.15307228039646,
          -1.5618663632408445,
          0.8200192727725714,
          0.4896820037700569,
          -1.7515717647801263,
          -0.06337162209812126,
          -0.3710804808800396,
          1.334041593001444,
          -0.749371267093215,
          -0.08678441228771756,
          -1.8822514238319927,
          -0.934430313200707,
          -0.19847237614294302,
          -0.20675616177675002,
          0.8819335976960104,
          0.023120137660321772,
          -0.0937663221763038,
          1.0062716328804868,
          -0.7527872553381383,
          -1.711418215864383,
          -2.6231263089537467,
          0.5353519665610029,
          1.3611088323596643,
          -1.5553755052553273,
          -0.7900789027259035,
          -0.112099598614191,
          -0.7765022974880906,
          -1.0095700680916018,
          0.12751898362424638,
          0.48523254289941636,
          -0.08758679656614751,
          -0.6405700377096745,
          0.4508096744210774,
          -0.17729227464359826,
          -1.3703372018763402,
          0.35822387093041075,
          0.011425989559393415,
          -2.2806654962681123,
          -0.418647724918048,
          1.0416519990770345,
          -0.003226566833624996,
          -0.8009773563696257,
          -0.8028488879372703,
          0.4403941548182696,
          -0.6460565332446022,
          -1.0538901952212936,
          -0.02941339682476033,
          -0.17880153658567707,
          1.5504066876349598,
          -0.06515519216521365,
          0.2634552678872701,
          1.221545929144533,
          0.41801716583001197,
          1.5706085556631733,
          -0.5735845823969875,
          -0.8820952994521086,
          0.3274408658812476,
          0.0909898204822451,
          -2.353670135079995,
          -0.3661806770483226,
          -0.9498676077976055,
          -1.0564185103175003,
          -1.0333840929678313,
          0.14215218947690056,
          -2.024164960776577,
          -0.5104641477871487,
          0.5231634935646545,
          -0.752271124788865,
          -1.431441600474087,
          0.13510742157296052,
          0.5017877946333005,
          0.3659653905102098,
          0.07018885629698855,
          2.2459148212296487,
          0.6786454586708808,
          0.9490166345640043,
          -1.9094775520083493,
          1.728290787905516,
          0.6398327487317317,
          0.3544085374865336,
          0.11432799574217735,
          0.6589381343247359,
          0.10346767508405878,
          -1.1038727497628804,
          -0.5099896964508587,
          0.5867887413460539,
          -0.7522432291170378,
          -1.2458288997869245,
          -1.4730026290167162,
          0.16962320435120895,
          0.964513413489719,
          1.1079062496024767,
          -0.32293074154054024,
          -0.7015479463603599,
          2.1010850453068697
         ],
         "xaxis": "x5",
         "y": [
          -0.26049029456912903,
          -0.09714763269974377,
          0.8111103731791115,
          -1.9092793360910076,
          -0.7021805233979893,
          1.7113569273657838,
          0.5577059895260462,
          -0.04010677492691884,
          -0.6031994783562596,
          -1.0151465414034821,
          -0.65977071844508,
          -0.11373213297939189,
          -0.17642103201371448,
          -1.3127870983774748,
          -0.8121667700648396,
          0.3562560593913871,
          0.115787656807456,
          2.0304725698965473,
          -1.8962460120140843,
          -1.695481979037778,
          0.083227127103031,
          -1.6072152006989198,
          -0.791909505896926,
          -0.00226257065607172,
          0.789055363306743,
          1.6384186774393954,
          -0.9141297129748618,
          0.34878907759418426,
          1.3992320086007244,
          -1.6551017310853946,
          0.2196602310642125,
          1.2934294942744322,
          0.6188203489615133,
          -1.0477234555721597,
          0.8342357072623097,
          1.5704168087418544,
          -1.4090025076121278,
          -2.118052083579081,
          -0.2333452338485016,
          -0.07709603866845373,
          -2.8072073735768845,
          -1.687428945991679,
          -1.159580191150825,
          1.304971913099211,
          -2.6664369761159477,
          0.0006285483518210876,
          -0.22704157391863877,
          1.5959235424772875,
          0.5226701132725071,
          -0.32349048754336457,
          0.17185896219907654,
          -0.11097559458142076,
          1.032166153297779,
          -0.7377867289133496,
          -1.205653112465707,
          0.08034586127001102,
          1.0494964020796176,
          0.5737773994926414,
          1.0679595026820368,
          0.2078110294449889,
          0.497964687170021,
          -1.0040946242420055,
          1.641018339402369,
          0.6987039146589529,
          -1.5910510766375996,
          1.0567069686542072,
          0.7215190478611012,
          0.6853744281025479,
          0.34932033732412204,
          0.08720879431656639,
          -0.7592345849283544,
          -0.5346034111574133,
          0.6203389986553872,
          0.055895501280625454,
          -1.2586433955714882,
          -1.4507327058899393,
          -0.5067603413460747,
          0.22285324461662986,
          1.2794806218555201,
          -0.5698953891946154,
          1.1666766260353854,
          -0.2748556337601546,
          0.3689062378985249,
          -0.22443208712326157,
          -2.6892222066069196,
          -0.6277102895697781,
          0.9948207097804131,
          2.006791303963984,
          -2.215807367364074,
          -0.36815272094188445,
          -2.0368053672881525,
          -1.4043787604355018,
          -0.6741811066408415,
          1.895508785899313,
          1.2781476020982228,
          1.6513382173909747,
          -2.6044397766828005,
          0.24020400275439163,
          -0.5693768063211105,
          0.934438743225109
         ],
         "yaxis": "y5"
        },
        {
         "histfunc": "count",
         "histnorm": "",
         "marker": {
          "color": "rgba(55, 128, 191, 1.0)",
          "line": {
           "color": "#4D5663",
           "width": 1.3
          }
         },
         "name": "B",
         "nbinsx": 10,
         "opacity": 0.8,
         "orientation": "v",
         "type": "histogram",
         "x": [
          -0.26049029456912903,
          -0.09714763269974377,
          0.8111103731791115,
          -1.9092793360910076,
          -0.7021805233979893,
          1.7113569273657838,
          0.5577059895260462,
          -0.04010677492691884,
          -0.6031994783562596,
          -1.0151465414034821,
          -0.65977071844508,
          -0.11373213297939189,
          -0.17642103201371448,
          -1.3127870983774748,
          -0.8121667700648396,
          0.3562560593913871,
          0.115787656807456,
          2.0304725698965473,
          -1.8962460120140843,
          -1.695481979037778,
          0.083227127103031,
          -1.6072152006989198,
          -0.791909505896926,
          -0.00226257065607172,
          0.789055363306743,
          1.6384186774393954,
          -0.9141297129748618,
          0.34878907759418426,
          1.3992320086007244,
          -1.6551017310853946,
          0.2196602310642125,
          1.2934294942744322,
          0.6188203489615133,
          -1.0477234555721597,
          0.8342357072623097,
          1.5704168087418544,
          -1.4090025076121278,
          -2.118052083579081,
          -0.2333452338485016,
          -0.07709603866845373,
          -2.8072073735768845,
          -1.687428945991679,
          -1.159580191150825,
          1.304971913099211,
          -2.6664369761159477,
          0.0006285483518210876,
          -0.22704157391863877,
          1.5959235424772875,
          0.5226701132725071,
          -0.32349048754336457,
          0.17185896219907654,
          -0.11097559458142076,
          1.032166153297779,
          -0.7377867289133496,
          -1.205653112465707,
          0.08034586127001102,
          1.0494964020796176,
          0.5737773994926414,
          1.0679595026820368,
          0.2078110294449889,
          0.497964687170021,
          -1.0040946242420055,
          1.641018339402369,
          0.6987039146589529,
          -1.5910510766375996,
          1.0567069686542072,
          0.7215190478611012,
          0.6853744281025479,
          0.34932033732412204,
          0.08720879431656639,
          -0.7592345849283544,
          -0.5346034111574133,
          0.6203389986553872,
          0.055895501280625454,
          -1.2586433955714882,
          -1.4507327058899393,
          -0.5067603413460747,
          0.22285324461662986,
          1.2794806218555201,
          -0.5698953891946154,
          1.1666766260353854,
          -0.2748556337601546,
          0.3689062378985249,
          -0.22443208712326157,
          -2.6892222066069196,
          -0.6277102895697781,
          0.9948207097804131,
          2.006791303963984,
          -2.215807367364074,
          -0.36815272094188445,
          -2.0368053672881525,
          -1.4043787604355018,
          -0.6741811066408415,
          1.895508785899313,
          1.2781476020982228,
          1.6513382173909747,
          -2.6044397766828005,
          0.24020400275439163,
          -0.5693768063211105,
          0.934438743225109
         ],
         "xaxis": "x6",
         "yaxis": "y6"
        },
        {
         "line": {
          "color": "rgba(128, 128, 128, 1.0)",
          "dash": "solid",
          "shape": "linear",
          "width": 1.3
         },
         "marker": {
          "size": 2,
          "symbol": "circle"
         },
         "mode": "markers",
         "name": "B",
         "text": "",
         "type": "scatter",
         "x": [
          1.016137061958665,
          -0.5420245082783235,
          -0.6555275772055192,
          -0.17482452802721207,
          -0.20966175827607628,
          1.1268451015087522,
          -0.3573421160038608,
          -0.1283955674793992,
          -0.966809172726611,
          1.1076046408037203,
          -0.3857180761673435,
          0.10751028698545406,
          -0.0722654270370262,
          0.5027412369328366,
          0.4586151070738453,
          -0.31358236684132984,
          -0.7294415911860292,
          0.46889357343171045,
          1.6289993484803935,
          -0.13196937501181366,
          0.13903276441007126,
          -1.8065516586311317,
          0.015244035509171621,
          -0.6693807883877644,
          -1.1417766658491864,
          -0.08255553128388488,
          -0.8202482353376133,
          -1.1406918804712243,
          1.964067336106461,
          -0.9258080012830326,
          -0.1446993961232515,
          1.3722685370982728,
          1.0744640309311915,
          -0.13315007362248654,
          -0.24258199731695324,
          -2.434755966203868,
          1.249588245085047,
          -1.9159706351612598,
          0.9028452338965627,
          0.09709163764319628,
          -1.4915115361349514,
          -0.08131167965299389,
          -0.3533067773683644,
          0.43875369576612405,
          0.16403251203894895,
          0.3327188025830961,
          0.09824955382014505,
          0.25413148419195647,
          -0.8255273384617694,
          1.1502405310973927,
          -0.23663503779656808,
          -0.10375558656850428,
          0.29597100192381026,
          0.161902165064038,
          0.8746088623238746,
          -0.4313027123686213,
          -1.5522117256973411,
          1.5822264544410984,
          -0.2100548377789055,
          -0.11466768195239925,
          0.7693212034474219,
          -0.5239181221597862,
          -0.29627797449795956,
          -0.7872581356661098,
          -0.08259776401178255,
          -0.16190735298564957,
          1.0400236333371244,
          0.7016475467736071,
          1.6061385761185691,
          -0.09389196044606382,
          -2.2984771444784005,
          1.332637670768821,
          1.4260586545811833,
          0.4993956785585622,
          -0.9885025824410877,
          -1.1500950277274034,
          0.027440551493462317,
          -0.7152163964368956,
          -0.22254785386403808,
          1.3578697515859321,
          0.7795183721417863,
          -1.0941700641779113,
          -0.3691504402687209,
          -0.17252910270078434,
          -0.22910576496372098,
          -0.5535653063181362,
          -0.11246827447795366,
          -0.5004601639160561,
          1.3972684184213935,
          0.5826640975314333,
          -0.3704108210274508,
          -0.5791163044118627,
          -1.5688427193366512,
          0.9128795909915046,
          0.23049311480694276,
          0.02602262547334177,
          2.390872078118632,
          0.8265186912628907,
          1.1563445322537906,
          0.1929179183525035
         ],
         "xaxis": "x7",
         "y": [
          -0.26049029456912903,
          -0.09714763269974377,
          0.8111103731791115,
          -1.9092793360910076,
          -0.7021805233979893,
          1.7113569273657838,
          0.5577059895260462,
          -0.04010677492691884,
          -0.6031994783562596,
          -1.0151465414034821,
          -0.65977071844508,
          -0.11373213297939189,
          -0.17642103201371448,
          -1.3127870983774748,
          -0.8121667700648396,
          0.3562560593913871,
          0.115787656807456,
          2.0304725698965473,
          -1.8962460120140843,
          -1.695481979037778,
          0.083227127103031,
          -1.6072152006989198,
          -0.791909505896926,
          -0.00226257065607172,
          0.789055363306743,
          1.6384186774393954,
          -0.9141297129748618,
          0.34878907759418426,
          1.3992320086007244,
          -1.6551017310853946,
          0.2196602310642125,
          1.2934294942744322,
          0.6188203489615133,
          -1.0477234555721597,
          0.8342357072623097,
          1.5704168087418544,
          -1.4090025076121278,
          -2.118052083579081,
          -0.2333452338485016,
          -0.07709603866845373,
          -2.8072073735768845,
          -1.687428945991679,
          -1.159580191150825,
          1.304971913099211,
          -2.6664369761159477,
          0.0006285483518210876,
          -0.22704157391863877,
          1.5959235424772875,
          0.5226701132725071,
          -0.32349048754336457,
          0.17185896219907654,
          -0.11097559458142076,
          1.032166153297779,
          -0.7377867289133496,
          -1.205653112465707,
          0.08034586127001102,
          1.0494964020796176,
          0.5737773994926414,
          1.0679595026820368,
          0.2078110294449889,
          0.497964687170021,
          -1.0040946242420055,
          1.641018339402369,
          0.6987039146589529,
          -1.5910510766375996,
          1.0567069686542072,
          0.7215190478611012,
          0.6853744281025479,
          0.34932033732412204,
          0.08720879431656639,
          -0.7592345849283544,
          -0.5346034111574133,
          0.6203389986553872,
          0.055895501280625454,
          -1.2586433955714882,
          -1.4507327058899393,
          -0.5067603413460747,
          0.22285324461662986,
          1.2794806218555201,
          -0.5698953891946154,
          1.1666766260353854,
          -0.2748556337601546,
          0.3689062378985249,
          -0.22443208712326157,
          -2.6892222066069196,
          -0.6277102895697781,
          0.9948207097804131,
          2.006791303963984,
          -2.215807367364074,
          -0.36815272094188445,
          -2.0368053672881525,
          -1.4043787604355018,
          -0.6741811066408415,
          1.895508785899313,
          1.2781476020982228,
          1.6513382173909747,
          -2.6044397766828005,
          0.24020400275439163,
          -0.5693768063211105,
          0.934438743225109
         ],
         "yaxis": "y7"
        },
        {
         "line": {
          "color": "rgba(128, 128, 128, 1.0)",
          "dash": "solid",
          "shape": "linear",
          "width": 1.3
         },
         "marker": {
          "size": 2,
          "symbol": "circle"
         },
         "mode": "markers",
         "name": "B",
         "text": "",
         "type": "scatter",
         "x": [
          0.3678728199360895,
          0.7770397311008759,
          -0.31161412554319096,
          0.36109033817175823,
          1.0958105195636665,
          -0.6153494161962141,
          0.3733739029607547,
          0.7208029853625418,
          -1.6601967483822941,
          0.5812737043064377,
          2.3976288441646996,
          -2.2775623051411698,
          -1.3700067916658192,
          0.6724836769454864,
          0.6545862845642076,
          0.8608767566123184,
          -1.0038117731243594,
          0.2654092394720436,
          0.23271099141093987,
          1.0166224389242902,
          -0.2302243018740462,
          0.38887841341583407,
          -1.1744585970201085,
          -0.3288681829338943,
          0.4320913263467357,
          0.5363338760370511,
          -0.954588837116522,
          -0.9060180130129888,
          0.08258657852706816,
          0.8690618739895999,
          -0.07454312360867822,
          0.9069401158057482,
          0.8525847408135002,
          1.7008325595940121,
          -0.31927820901311404,
          2.5839018710271704,
          -0.6615241474077949,
          -0.3513113384047537,
          -1.6447064505626163,
          -0.3381746996970631,
          0.5185703280206443,
          -0.4126600899710108,
          1.111412826450472,
          -2.1811768624324954,
          -0.7390562258230423,
          -0.19691431987782637,
          -0.8564461074613374,
          -0.2658143784041566,
          -2.63333719441065,
          1.0166617842654235,
          0.5440607019805058,
          -0.3238076409135922,
          2.301811968058974,
          0.23585547206087806,
          -0.22523633643882646,
          -0.11678596070999779,
          0.12578899821333514,
          -1.266448176678349,
          1.840156190143387,
          0.7934607654229933,
          -0.879040372028926,
          0.1106176772142058,
          0.7232055158481039,
          1.143955728091707,
          -0.6922408053305052,
          0.17111181715903606,
          1.1752227121361831,
          0.5149017248635412,
          -0.29239279311857286,
          -0.9431186110891314,
          0.6890241907223393,
          -2.736800800781161,
          -0.09193453540823339,
          0.9031472571354823,
          -1.328816012502861,
          -0.907777189110073,
          -0.6471404454248375,
          -0.21980395293017788,
          -0.6742557662560115,
          -1.080899671209913,
          -0.33771811051318523,
          -0.778554295537802,
          -1.0784224433638752,
          -0.2522855225757112,
          -0.34230578532068723,
          -0.0765594929956213,
          -0.1897062808846173,
          0.9551877414597707,
          0.030419844757999685,
          0.360806273631684,
          0.7774964204857886,
          -0.5182793271816202,
          -0.6459736843376598,
          0.13782438188531929,
          1.2245544210274506,
          -0.4206696236845781,
          0.11823720416357132,
          -0.11183220579060686,
          -1.6093667900712743,
          -0.8601587836879706
         ],
         "xaxis": "x8",
         "y": [
          -0.26049029456912903,
          -0.09714763269974377,
          0.8111103731791115,
          -1.9092793360910076,
          -0.7021805233979893,
          1.7113569273657838,
          0.5577059895260462,
          -0.04010677492691884,
          -0.6031994783562596,
          -1.0151465414034821,
          -0.65977071844508,
          -0.11373213297939189,
          -0.17642103201371448,
          -1.3127870983774748,
          -0.8121667700648396,
          0.3562560593913871,
          0.115787656807456,
          2.0304725698965473,
          -1.8962460120140843,
          -1.695481979037778,
          0.083227127103031,
          -1.6072152006989198,
          -0.791909505896926,
          -0.00226257065607172,
          0.789055363306743,
          1.6384186774393954,
          -0.9141297129748618,
          0.34878907759418426,
          1.3992320086007244,
          -1.6551017310853946,
          0.2196602310642125,
          1.2934294942744322,
          0.6188203489615133,
          -1.0477234555721597,
          0.8342357072623097,
          1.5704168087418544,
          -1.4090025076121278,
          -2.118052083579081,
          -0.2333452338485016,
          -0.07709603866845373,
          -2.8072073735768845,
          -1.687428945991679,
          -1.159580191150825,
          1.304971913099211,
          -2.6664369761159477,
          0.0006285483518210876,
          -0.22704157391863877,
          1.5959235424772875,
          0.5226701132725071,
          -0.32349048754336457,
          0.17185896219907654,
          -0.11097559458142076,
          1.032166153297779,
          -0.7377867289133496,
          -1.205653112465707,
          0.08034586127001102,
          1.0494964020796176,
          0.5737773994926414,
          1.0679595026820368,
          0.2078110294449889,
          0.497964687170021,
          -1.0040946242420055,
          1.641018339402369,
          0.6987039146589529,
          -1.5910510766375996,
          1.0567069686542072,
          0.7215190478611012,
          0.6853744281025479,
          0.34932033732412204,
          0.08720879431656639,
          -0.7592345849283544,
          -0.5346034111574133,
          0.6203389986553872,
          0.055895501280625454,
          -1.2586433955714882,
          -1.4507327058899393,
          -0.5067603413460747,
          0.22285324461662986,
          1.2794806218555201,
          -0.5698953891946154,
          1.1666766260353854,
          -0.2748556337601546,
          0.3689062378985249,
          -0.22443208712326157,
          -2.6892222066069196,
          -0.6277102895697781,
          0.9948207097804131,
          2.006791303963984,
          -2.215807367364074,
          -0.36815272094188445,
          -2.0368053672881525,
          -1.4043787604355018,
          -0.6741811066408415,
          1.895508785899313,
          1.2781476020982228,
          1.6513382173909747,
          -2.6044397766828005,
          0.24020400275439163,
          -0.5693768063211105,
          0.934438743225109
         ],
         "yaxis": "y8"
        },
        {
         "line": {
          "color": "rgba(128, 128, 128, 1.0)",
          "dash": "solid",
          "shape": "linear",
          "width": 1.3
         },
         "marker": {
          "size": 2,
          "symbol": "circle"
         },
         "mode": "markers",
         "name": "C",
         "text": "",
         "type": "scatter",
         "x": [
          -1.3731688173621832,
          -0.5236780566901539,
          -0.2456701124803259,
          -1.6380423135313602,
          0.9982274092034623,
          -1.15307228039646,
          -1.5618663632408445,
          0.8200192727725714,
          0.4896820037700569,
          -1.7515717647801263,
          -0.06337162209812126,
          -0.3710804808800396,
          1.334041593001444,
          -0.749371267093215,
          -0.08678441228771756,
          -1.8822514238319927,
          -0.934430313200707,
          -0.19847237614294302,
          -0.20675616177675002,
          0.8819335976960104,
          0.023120137660321772,
          -0.0937663221763038,
          1.0062716328804868,
          -0.7527872553381383,
          -1.711418215864383,
          -2.6231263089537467,
          0.5353519665610029,
          1.3611088323596643,
          -1.5553755052553273,
          -0.7900789027259035,
          -0.112099598614191,
          -0.7765022974880906,
          -1.0095700680916018,
          0.12751898362424638,
          0.48523254289941636,
          -0.08758679656614751,
          -0.6405700377096745,
          0.4508096744210774,
          -0.17729227464359826,
          -1.3703372018763402,
          0.35822387093041075,
          0.011425989559393415,
          -2.2806654962681123,
          -0.418647724918048,
          1.0416519990770345,
          -0.003226566833624996,
          -0.8009773563696257,
          -0.8028488879372703,
          0.4403941548182696,
          -0.6460565332446022,
          -1.0538901952212936,
          -0.02941339682476033,
          -0.17880153658567707,
          1.5504066876349598,
          -0.06515519216521365,
          0.2634552678872701,
          1.221545929144533,
          0.41801716583001197,
          1.5706085556631733,
          -0.5735845823969875,
          -0.8820952994521086,
          0.3274408658812476,
          0.0909898204822451,
          -2.353670135079995,
          -0.3661806770483226,
          -0.9498676077976055,
          -1.0564185103175003,
          -1.0333840929678313,
          0.14215218947690056,
          -2.024164960776577,
          -0.5104641477871487,
          0.5231634935646545,
          -0.752271124788865,
          -1.431441600474087,
          0.13510742157296052,
          0.5017877946333005,
          0.3659653905102098,
          0.07018885629698855,
          2.2459148212296487,
          0.6786454586708808,
          0.9490166345640043,
          -1.9094775520083493,
          1.728290787905516,
          0.6398327487317317,
          0.3544085374865336,
          0.11432799574217735,
          0.6589381343247359,
          0.10346767508405878,
          -1.1038727497628804,
          -0.5099896964508587,
          0.5867887413460539,
          -0.7522432291170378,
          -1.2458288997869245,
          -1.4730026290167162,
          0.16962320435120895,
          0.964513413489719,
          1.1079062496024767,
          -0.32293074154054024,
          -0.7015479463603599,
          2.1010850453068697
         ],
         "xaxis": "x9",
         "y": [
          1.016137061958665,
          -0.5420245082783235,
          -0.6555275772055192,
          -0.17482452802721207,
          -0.20966175827607628,
          1.1268451015087522,
          -0.3573421160038608,
          -0.1283955674793992,
          -0.966809172726611,
          1.1076046408037203,
          -0.3857180761673435,
          0.10751028698545406,
          -0.0722654270370262,
          0.5027412369328366,
          0.4586151070738453,
          -0.31358236684132984,
          -0.7294415911860292,
          0.46889357343171045,
          1.6289993484803935,
          -0.13196937501181366,
          0.13903276441007126,
          -1.8065516586311317,
          0.015244035509171621,
          -0.6693807883877644,
          -1.1417766658491864,
          -0.08255553128388488,
          -0.8202482353376133,
          -1.1406918804712243,
          1.964067336106461,
          -0.9258080012830326,
          -0.1446993961232515,
          1.3722685370982728,
          1.0744640309311915,
          -0.13315007362248654,
          -0.24258199731695324,
          -2.434755966203868,
          1.249588245085047,
          -1.9159706351612598,
          0.9028452338965627,
          0.09709163764319628,
          -1.4915115361349514,
          -0.08131167965299389,
          -0.3533067773683644,
          0.43875369576612405,
          0.16403251203894895,
          0.3327188025830961,
          0.09824955382014505,
          0.25413148419195647,
          -0.8255273384617694,
          1.1502405310973927,
          -0.23663503779656808,
          -0.10375558656850428,
          0.29597100192381026,
          0.161902165064038,
          0.8746088623238746,
          -0.4313027123686213,
          -1.5522117256973411,
          1.5822264544410984,
          -0.2100548377789055,
          -0.11466768195239925,
          0.7693212034474219,
          -0.5239181221597862,
          -0.29627797449795956,
          -0.7872581356661098,
          -0.08259776401178255,
          -0.16190735298564957,
          1.0400236333371244,
          0.7016475467736071,
          1.6061385761185691,
          -0.09389196044606382,
          -2.2984771444784005,
          1.332637670768821,
          1.4260586545811833,
          0.4993956785585622,
          -0.9885025824410877,
          -1.1500950277274034,
          0.027440551493462317,
          -0.7152163964368956,
          -0.22254785386403808,
          1.3578697515859321,
          0.7795183721417863,
          -1.0941700641779113,
          -0.3691504402687209,
          -0.17252910270078434,
          -0.22910576496372098,
          -0.5535653063181362,
          -0.11246827447795366,
          -0.5004601639160561,
          1.3972684184213935,
          0.5826640975314333,
          -0.3704108210274508,
          -0.5791163044118627,
          -1.5688427193366512,
          0.9128795909915046,
          0.23049311480694276,
          0.02602262547334177,
          2.390872078118632,
          0.8265186912628907,
          1.1563445322537906,
          0.1929179183525035
         ],
         "yaxis": "y9"
        },
        {
         "line": {
          "color": "rgba(128, 128, 128, 1.0)",
          "dash": "solid",
          "shape": "linear",
          "width": 1.3
         },
         "marker": {
          "size": 2,
          "symbol": "circle"
         },
         "mode": "markers",
         "name": "C",
         "text": "",
         "type": "scatter",
         "x": [
          -0.26049029456912903,
          -0.09714763269974377,
          0.8111103731791115,
          -1.9092793360910076,
          -0.7021805233979893,
          1.7113569273657838,
          0.5577059895260462,
          -0.04010677492691884,
          -0.6031994783562596,
          -1.0151465414034821,
          -0.65977071844508,
          -0.11373213297939189,
          -0.17642103201371448,
          -1.3127870983774748,
          -0.8121667700648396,
          0.3562560593913871,
          0.115787656807456,
          2.0304725698965473,
          -1.8962460120140843,
          -1.695481979037778,
          0.083227127103031,
          -1.6072152006989198,
          -0.791909505896926,
          -0.00226257065607172,
          0.789055363306743,
          1.6384186774393954,
          -0.9141297129748618,
          0.34878907759418426,
          1.3992320086007244,
          -1.6551017310853946,
          0.2196602310642125,
          1.2934294942744322,
          0.6188203489615133,
          -1.0477234555721597,
          0.8342357072623097,
          1.5704168087418544,
          -1.4090025076121278,
          -2.118052083579081,
          -0.2333452338485016,
          -0.07709603866845373,
          -2.8072073735768845,
          -1.687428945991679,
          -1.159580191150825,
          1.304971913099211,
          -2.6664369761159477,
          0.0006285483518210876,
          -0.22704157391863877,
          1.5959235424772875,
          0.5226701132725071,
          -0.32349048754336457,
          0.17185896219907654,
          -0.11097559458142076,
          1.032166153297779,
          -0.7377867289133496,
          -1.205653112465707,
          0.08034586127001102,
          1.0494964020796176,
          0.5737773994926414,
          1.0679595026820368,
          0.2078110294449889,
          0.497964687170021,
          -1.0040946242420055,
          1.641018339402369,
          0.6987039146589529,
          -1.5910510766375996,
          1.0567069686542072,
          0.7215190478611012,
          0.6853744281025479,
          0.34932033732412204,
          0.08720879431656639,
          -0.7592345849283544,
          -0.5346034111574133,
          0.6203389986553872,
          0.055895501280625454,
          -1.2586433955714882,
          -1.4507327058899393,
          -0.5067603413460747,
          0.22285324461662986,
          1.2794806218555201,
          -0.5698953891946154,
          1.1666766260353854,
          -0.2748556337601546,
          0.3689062378985249,
          -0.22443208712326157,
          -2.6892222066069196,
          -0.6277102895697781,
          0.9948207097804131,
          2.006791303963984,
          -2.215807367364074,
          -0.36815272094188445,
          -2.0368053672881525,
          -1.4043787604355018,
          -0.6741811066408415,
          1.895508785899313,
          1.2781476020982228,
          1.6513382173909747,
          -2.6044397766828005,
          0.24020400275439163,
          -0.5693768063211105,
          0.934438743225109
         ],
         "xaxis": "x10",
         "y": [
          1.016137061958665,
          -0.5420245082783235,
          -0.6555275772055192,
          -0.17482452802721207,
          -0.20966175827607628,
          1.1268451015087522,
          -0.3573421160038608,
          -0.1283955674793992,
          -0.966809172726611,
          1.1076046408037203,
          -0.3857180761673435,
          0.10751028698545406,
          -0.0722654270370262,
          0.5027412369328366,
          0.4586151070738453,
          -0.31358236684132984,
          -0.7294415911860292,
          0.46889357343171045,
          1.6289993484803935,
          -0.13196937501181366,
          0.13903276441007126,
          -1.8065516586311317,
          0.015244035509171621,
          -0.6693807883877644,
          -1.1417766658491864,
          -0.08255553128388488,
          -0.8202482353376133,
          -1.1406918804712243,
          1.964067336106461,
          -0.9258080012830326,
          -0.1446993961232515,
          1.3722685370982728,
          1.0744640309311915,
          -0.13315007362248654,
          -0.24258199731695324,
          -2.434755966203868,
          1.249588245085047,
          -1.9159706351612598,
          0.9028452338965627,
          0.09709163764319628,
          -1.4915115361349514,
          -0.08131167965299389,
          -0.3533067773683644,
          0.43875369576612405,
          0.16403251203894895,
          0.3327188025830961,
          0.09824955382014505,
          0.25413148419195647,
          -0.8255273384617694,
          1.1502405310973927,
          -0.23663503779656808,
          -0.10375558656850428,
          0.29597100192381026,
          0.161902165064038,
          0.8746088623238746,
          -0.4313027123686213,
          -1.5522117256973411,
          1.5822264544410984,
          -0.2100548377789055,
          -0.11466768195239925,
          0.7693212034474219,
          -0.5239181221597862,
          -0.29627797449795956,
          -0.7872581356661098,
          -0.08259776401178255,
          -0.16190735298564957,
          1.0400236333371244,
          0.7016475467736071,
          1.6061385761185691,
          -0.09389196044606382,
          -2.2984771444784005,
          1.332637670768821,
          1.4260586545811833,
          0.4993956785585622,
          -0.9885025824410877,
          -1.1500950277274034,
          0.027440551493462317,
          -0.7152163964368956,
          -0.22254785386403808,
          1.3578697515859321,
          0.7795183721417863,
          -1.0941700641779113,
          -0.3691504402687209,
          -0.17252910270078434,
          -0.22910576496372098,
          -0.5535653063181362,
          -0.11246827447795366,
          -0.5004601639160561,
          1.3972684184213935,
          0.5826640975314333,
          -0.3704108210274508,
          -0.5791163044118627,
          -1.5688427193366512,
          0.9128795909915046,
          0.23049311480694276,
          0.02602262547334177,
          2.390872078118632,
          0.8265186912628907,
          1.1563445322537906,
          0.1929179183525035
         ],
         "yaxis": "y10"
        },
        {
         "histfunc": "count",
         "histnorm": "",
         "marker": {
          "color": "rgba(50, 171, 96, 1.0)",
          "line": {
           "color": "#4D5663",
           "width": 1.3
          }
         },
         "name": "C",
         "nbinsx": 10,
         "opacity": 0.8,
         "orientation": "v",
         "type": "histogram",
         "x": [
          1.016137061958665,
          -0.5420245082783235,
          -0.6555275772055192,
          -0.17482452802721207,
          -0.20966175827607628,
          1.1268451015087522,
          -0.3573421160038608,
          -0.1283955674793992,
          -0.966809172726611,
          1.1076046408037203,
          -0.3857180761673435,
          0.10751028698545406,
          -0.0722654270370262,
          0.5027412369328366,
          0.4586151070738453,
          -0.31358236684132984,
          -0.7294415911860292,
          0.46889357343171045,
          1.6289993484803935,
          -0.13196937501181366,
          0.13903276441007126,
          -1.8065516586311317,
          0.015244035509171621,
          -0.6693807883877644,
          -1.1417766658491864,
          -0.08255553128388488,
          -0.8202482353376133,
          -1.1406918804712243,
          1.964067336106461,
          -0.9258080012830326,
          -0.1446993961232515,
          1.3722685370982728,
          1.0744640309311915,
          -0.13315007362248654,
          -0.24258199731695324,
          -2.434755966203868,
          1.249588245085047,
          -1.9159706351612598,
          0.9028452338965627,
          0.09709163764319628,
          -1.4915115361349514,
          -0.08131167965299389,
          -0.3533067773683644,
          0.43875369576612405,
          0.16403251203894895,
          0.3327188025830961,
          0.09824955382014505,
          0.25413148419195647,
          -0.8255273384617694,
          1.1502405310973927,
          -0.23663503779656808,
          -0.10375558656850428,
          0.29597100192381026,
          0.161902165064038,
          0.8746088623238746,
          -0.4313027123686213,
          -1.5522117256973411,
          1.5822264544410984,
          -0.2100548377789055,
          -0.11466768195239925,
          0.7693212034474219,
          -0.5239181221597862,
          -0.29627797449795956,
          -0.7872581356661098,
          -0.08259776401178255,
          -0.16190735298564957,
          1.0400236333371244,
          0.7016475467736071,
          1.6061385761185691,
          -0.09389196044606382,
          -2.2984771444784005,
          1.332637670768821,
          1.4260586545811833,
          0.4993956785585622,
          -0.9885025824410877,
          -1.1500950277274034,
          0.027440551493462317,
          -0.7152163964368956,
          -0.22254785386403808,
          1.3578697515859321,
          0.7795183721417863,
          -1.0941700641779113,
          -0.3691504402687209,
          -0.17252910270078434,
          -0.22910576496372098,
          -0.5535653063181362,
          -0.11246827447795366,
          -0.5004601639160561,
          1.3972684184213935,
          0.5826640975314333,
          -0.3704108210274508,
          -0.5791163044118627,
          -1.5688427193366512,
          0.9128795909915046,
          0.23049311480694276,
          0.02602262547334177,
          2.390872078118632,
          0.8265186912628907,
          1.1563445322537906,
          0.1929179183525035
         ],
         "xaxis": "x11",
         "yaxis": "y11"
        },
        {
         "line": {
          "color": "rgba(128, 128, 128, 1.0)",
          "dash": "solid",
          "shape": "linear",
          "width": 1.3
         },
         "marker": {
          "size": 2,
          "symbol": "circle"
         },
         "mode": "markers",
         "name": "C",
         "text": "",
         "type": "scatter",
         "x": [
          0.3678728199360895,
          0.7770397311008759,
          -0.31161412554319096,
          0.36109033817175823,
          1.0958105195636665,
          -0.6153494161962141,
          0.3733739029607547,
          0.7208029853625418,
          -1.6601967483822941,
          0.5812737043064377,
          2.3976288441646996,
          -2.2775623051411698,
          -1.3700067916658192,
          0.6724836769454864,
          0.6545862845642076,
          0.8608767566123184,
          -1.0038117731243594,
          0.2654092394720436,
          0.23271099141093987,
          1.0166224389242902,
          -0.2302243018740462,
          0.38887841341583407,
          -1.1744585970201085,
          -0.3288681829338943,
          0.4320913263467357,
          0.5363338760370511,
          -0.954588837116522,
          -0.9060180130129888,
          0.08258657852706816,
          0.8690618739895999,
          -0.07454312360867822,
          0.9069401158057482,
          0.8525847408135002,
          1.7008325595940121,
          -0.31927820901311404,
          2.5839018710271704,
          -0.6615241474077949,
          -0.3513113384047537,
          -1.6447064505626163,
          -0.3381746996970631,
          0.5185703280206443,
          -0.4126600899710108,
          1.111412826450472,
          -2.1811768624324954,
          -0.7390562258230423,
          -0.19691431987782637,
          -0.8564461074613374,
          -0.2658143784041566,
          -2.63333719441065,
          1.0166617842654235,
          0.5440607019805058,
          -0.3238076409135922,
          2.301811968058974,
          0.23585547206087806,
          -0.22523633643882646,
          -0.11678596070999779,
          0.12578899821333514,
          -1.266448176678349,
          1.840156190143387,
          0.7934607654229933,
          -0.879040372028926,
          0.1106176772142058,
          0.7232055158481039,
          1.143955728091707,
          -0.6922408053305052,
          0.17111181715903606,
          1.1752227121361831,
          0.5149017248635412,
          -0.29239279311857286,
          -0.9431186110891314,
          0.6890241907223393,
          -2.736800800781161,
          -0.09193453540823339,
          0.9031472571354823,
          -1.328816012502861,
          -0.907777189110073,
          -0.6471404454248375,
          -0.21980395293017788,
          -0.6742557662560115,
          -1.080899671209913,
          -0.33771811051318523,
          -0.778554295537802,
          -1.0784224433638752,
          -0.2522855225757112,
          -0.34230578532068723,
          -0.0765594929956213,
          -0.1897062808846173,
          0.9551877414597707,
          0.030419844757999685,
          0.360806273631684,
          0.7774964204857886,
          -0.5182793271816202,
          -0.6459736843376598,
          0.13782438188531929,
          1.2245544210274506,
          -0.4206696236845781,
          0.11823720416357132,
          -0.11183220579060686,
          -1.6093667900712743,
          -0.8601587836879706
         ],
         "xaxis": "x12",
         "y": [
          1.016137061958665,
          -0.5420245082783235,
          -0.6555275772055192,
          -0.17482452802721207,
          -0.20966175827607628,
          1.1268451015087522,
          -0.3573421160038608,
          -0.1283955674793992,
          -0.966809172726611,
          1.1076046408037203,
          -0.3857180761673435,
          0.10751028698545406,
          -0.0722654270370262,
          0.5027412369328366,
          0.4586151070738453,
          -0.31358236684132984,
          -0.7294415911860292,
          0.46889357343171045,
          1.6289993484803935,
          -0.13196937501181366,
          0.13903276441007126,
          -1.8065516586311317,
          0.015244035509171621,
          -0.6693807883877644,
          -1.1417766658491864,
          -0.08255553128388488,
          -0.8202482353376133,
          -1.1406918804712243,
          1.964067336106461,
          -0.9258080012830326,
          -0.1446993961232515,
          1.3722685370982728,
          1.0744640309311915,
          -0.13315007362248654,
          -0.24258199731695324,
          -2.434755966203868,
          1.249588245085047,
          -1.9159706351612598,
          0.9028452338965627,
          0.09709163764319628,
          -1.4915115361349514,
          -0.08131167965299389,
          -0.3533067773683644,
          0.43875369576612405,
          0.16403251203894895,
          0.3327188025830961,
          0.09824955382014505,
          0.25413148419195647,
          -0.8255273384617694,
          1.1502405310973927,
          -0.23663503779656808,
          -0.10375558656850428,
          0.29597100192381026,
          0.161902165064038,
          0.8746088623238746,
          -0.4313027123686213,
          -1.5522117256973411,
          1.5822264544410984,
          -0.2100548377789055,
          -0.11466768195239925,
          0.7693212034474219,
          -0.5239181221597862,
          -0.29627797449795956,
          -0.7872581356661098,
          -0.08259776401178255,
          -0.16190735298564957,
          1.0400236333371244,
          0.7016475467736071,
          1.6061385761185691,
          -0.09389196044606382,
          -2.2984771444784005,
          1.332637670768821,
          1.4260586545811833,
          0.4993956785585622,
          -0.9885025824410877,
          -1.1500950277274034,
          0.027440551493462317,
          -0.7152163964368956,
          -0.22254785386403808,
          1.3578697515859321,
          0.7795183721417863,
          -1.0941700641779113,
          -0.3691504402687209,
          -0.17252910270078434,
          -0.22910576496372098,
          -0.5535653063181362,
          -0.11246827447795366,
          -0.5004601639160561,
          1.3972684184213935,
          0.5826640975314333,
          -0.3704108210274508,
          -0.5791163044118627,
          -1.5688427193366512,
          0.9128795909915046,
          0.23049311480694276,
          0.02602262547334177,
          2.390872078118632,
          0.8265186912628907,
          1.1563445322537906,
          0.1929179183525035
         ],
         "yaxis": "y12"
        },
        {
         "line": {
          "color": "rgba(128, 128, 128, 1.0)",
          "dash": "solid",
          "shape": "linear",
          "width": 1.3
         },
         "marker": {
          "size": 2,
          "symbol": "circle"
         },
         "mode": "markers",
         "name": "D",
         "text": "",
         "type": "scatter",
         "x": [
          -1.3731688173621832,
          -0.5236780566901539,
          -0.2456701124803259,
          -1.6380423135313602,
          0.9982274092034623,
          -1.15307228039646,
          -1.5618663632408445,
          0.8200192727725714,
          0.4896820037700569,
          -1.7515717647801263,
          -0.06337162209812126,
          -0.3710804808800396,
          1.334041593001444,
          -0.749371267093215,
          -0.08678441228771756,
          -1.8822514238319927,
          -0.934430313200707,
          -0.19847237614294302,
          -0.20675616177675002,
          0.8819335976960104,
          0.023120137660321772,
          -0.0937663221763038,
          1.0062716328804868,
          -0.7527872553381383,
          -1.711418215864383,
          -2.6231263089537467,
          0.5353519665610029,
          1.3611088323596643,
          -1.5553755052553273,
          -0.7900789027259035,
          -0.112099598614191,
          -0.7765022974880906,
          -1.0095700680916018,
          0.12751898362424638,
          0.48523254289941636,
          -0.08758679656614751,
          -0.6405700377096745,
          0.4508096744210774,
          -0.17729227464359826,
          -1.3703372018763402,
          0.35822387093041075,
          0.011425989559393415,
          -2.2806654962681123,
          -0.418647724918048,
          1.0416519990770345,
          -0.003226566833624996,
          -0.8009773563696257,
          -0.8028488879372703,
          0.4403941548182696,
          -0.6460565332446022,
          -1.0538901952212936,
          -0.02941339682476033,
          -0.17880153658567707,
          1.5504066876349598,
          -0.06515519216521365,
          0.2634552678872701,
          1.221545929144533,
          0.41801716583001197,
          1.5706085556631733,
          -0.5735845823969875,
          -0.8820952994521086,
          0.3274408658812476,
          0.0909898204822451,
          -2.353670135079995,
          -0.3661806770483226,
          -0.9498676077976055,
          -1.0564185103175003,
          -1.0333840929678313,
          0.14215218947690056,
          -2.024164960776577,
          -0.5104641477871487,
          0.5231634935646545,
          -0.752271124788865,
          -1.431441600474087,
          0.13510742157296052,
          0.5017877946333005,
          0.3659653905102098,
          0.07018885629698855,
          2.2459148212296487,
          0.6786454586708808,
          0.9490166345640043,
          -1.9094775520083493,
          1.728290787905516,
          0.6398327487317317,
          0.3544085374865336,
          0.11432799574217735,
          0.6589381343247359,
          0.10346767508405878,
          -1.1038727497628804,
          -0.5099896964508587,
          0.5867887413460539,
          -0.7522432291170378,
          -1.2458288997869245,
          -1.4730026290167162,
          0.16962320435120895,
          0.964513413489719,
          1.1079062496024767,
          -0.32293074154054024,
          -0.7015479463603599,
          2.1010850453068697
         ],
         "xaxis": "x13",
         "y": [
          0.3678728199360895,
          0.7770397311008759,
          -0.31161412554319096,
          0.36109033817175823,
          1.0958105195636665,
          -0.6153494161962141,
          0.3733739029607547,
          0.7208029853625418,
          -1.6601967483822941,
          0.5812737043064377,
          2.3976288441646996,
          -2.2775623051411698,
          -1.3700067916658192,
          0.6724836769454864,
          0.6545862845642076,
          0.8608767566123184,
          -1.0038117731243594,
          0.2654092394720436,
          0.23271099141093987,
          1.0166224389242902,
          -0.2302243018740462,
          0.38887841341583407,
          -1.1744585970201085,
          -0.3288681829338943,
          0.4320913263467357,
          0.5363338760370511,
          -0.954588837116522,
          -0.9060180130129888,
          0.08258657852706816,
          0.8690618739895999,
          -0.07454312360867822,
          0.9069401158057482,
          0.8525847408135002,
          1.7008325595940121,
          -0.31927820901311404,
          2.5839018710271704,
          -0.6615241474077949,
          -0.3513113384047537,
          -1.6447064505626163,
          -0.3381746996970631,
          0.5185703280206443,
          -0.4126600899710108,
          1.111412826450472,
          -2.1811768624324954,
          -0.7390562258230423,
          -0.19691431987782637,
          -0.8564461074613374,
          -0.2658143784041566,
          -2.63333719441065,
          1.0166617842654235,
          0.5440607019805058,
          -0.3238076409135922,
          2.301811968058974,
          0.23585547206087806,
          -0.22523633643882646,
          -0.11678596070999779,
          0.12578899821333514,
          -1.266448176678349,
          1.840156190143387,
          0.7934607654229933,
          -0.879040372028926,
          0.1106176772142058,
          0.7232055158481039,
          1.143955728091707,
          -0.6922408053305052,
          0.17111181715903606,
          1.1752227121361831,
          0.5149017248635412,
          -0.29239279311857286,
          -0.9431186110891314,
          0.6890241907223393,
          -2.736800800781161,
          -0.09193453540823339,
          0.9031472571354823,
          -1.328816012502861,
          -0.907777189110073,
          -0.6471404454248375,
          -0.21980395293017788,
          -0.6742557662560115,
          -1.080899671209913,
          -0.33771811051318523,
          -0.778554295537802,
          -1.0784224433638752,
          -0.2522855225757112,
          -0.34230578532068723,
          -0.0765594929956213,
          -0.1897062808846173,
          0.9551877414597707,
          0.030419844757999685,
          0.360806273631684,
          0.7774964204857886,
          -0.5182793271816202,
          -0.6459736843376598,
          0.13782438188531929,
          1.2245544210274506,
          -0.4206696236845781,
          0.11823720416357132,
          -0.11183220579060686,
          -1.6093667900712743,
          -0.8601587836879706
         ],
         "yaxis": "y13"
        },
        {
         "line": {
          "color": "rgba(128, 128, 128, 1.0)",
          "dash": "solid",
          "shape": "linear",
          "width": 1.3
         },
         "marker": {
          "size": 2,
          "symbol": "circle"
         },
         "mode": "markers",
         "name": "D",
         "text": "",
         "type": "scatter",
         "x": [
          -0.26049029456912903,
          -0.09714763269974377,
          0.8111103731791115,
          -1.9092793360910076,
          -0.7021805233979893,
          1.7113569273657838,
          0.5577059895260462,
          -0.04010677492691884,
          -0.6031994783562596,
          -1.0151465414034821,
          -0.65977071844508,
          -0.11373213297939189,
          -0.17642103201371448,
          -1.3127870983774748,
          -0.8121667700648396,
          0.3562560593913871,
          0.115787656807456,
          2.0304725698965473,
          -1.8962460120140843,
          -1.695481979037778,
          0.083227127103031,
          -1.6072152006989198,
          -0.791909505896926,
          -0.00226257065607172,
          0.789055363306743,
          1.6384186774393954,
          -0.9141297129748618,
          0.34878907759418426,
          1.3992320086007244,
          -1.6551017310853946,
          0.2196602310642125,
          1.2934294942744322,
          0.6188203489615133,
          -1.0477234555721597,
          0.8342357072623097,
          1.5704168087418544,
          -1.4090025076121278,
          -2.118052083579081,
          -0.2333452338485016,
          -0.07709603866845373,
          -2.8072073735768845,
          -1.687428945991679,
          -1.159580191150825,
          1.304971913099211,
          -2.6664369761159477,
          0.0006285483518210876,
          -0.22704157391863877,
          1.5959235424772875,
          0.5226701132725071,
          -0.32349048754336457,
          0.17185896219907654,
          -0.11097559458142076,
          1.032166153297779,
          -0.7377867289133496,
          -1.205653112465707,
          0.08034586127001102,
          1.0494964020796176,
          0.5737773994926414,
          1.0679595026820368,
          0.2078110294449889,
          0.497964687170021,
          -1.0040946242420055,
          1.641018339402369,
          0.6987039146589529,
          -1.5910510766375996,
          1.0567069686542072,
          0.7215190478611012,
          0.6853744281025479,
          0.34932033732412204,
          0.08720879431656639,
          -0.7592345849283544,
          -0.5346034111574133,
          0.6203389986553872,
          0.055895501280625454,
          -1.2586433955714882,
          -1.4507327058899393,
          -0.5067603413460747,
          0.22285324461662986,
          1.2794806218555201,
          -0.5698953891946154,
          1.1666766260353854,
          -0.2748556337601546,
          0.3689062378985249,
          -0.22443208712326157,
          -2.6892222066069196,
          -0.6277102895697781,
          0.9948207097804131,
          2.006791303963984,
          -2.215807367364074,
          -0.36815272094188445,
          -2.0368053672881525,
          -1.4043787604355018,
          -0.6741811066408415,
          1.895508785899313,
          1.2781476020982228,
          1.6513382173909747,
          -2.6044397766828005,
          0.24020400275439163,
          -0.5693768063211105,
          0.934438743225109
         ],
         "xaxis": "x14",
         "y": [
          0.3678728199360895,
          0.7770397311008759,
          -0.31161412554319096,
          0.36109033817175823,
          1.0958105195636665,
          -0.6153494161962141,
          0.3733739029607547,
          0.7208029853625418,
          -1.6601967483822941,
          0.5812737043064377,
          2.3976288441646996,
          -2.2775623051411698,
          -1.3700067916658192,
          0.6724836769454864,
          0.6545862845642076,
          0.8608767566123184,
          -1.0038117731243594,
          0.2654092394720436,
          0.23271099141093987,
          1.0166224389242902,
          -0.2302243018740462,
          0.38887841341583407,
          -1.1744585970201085,
          -0.3288681829338943,
          0.4320913263467357,
          0.5363338760370511,
          -0.954588837116522,
          -0.9060180130129888,
          0.08258657852706816,
          0.8690618739895999,
          -0.07454312360867822,
          0.9069401158057482,
          0.8525847408135002,
          1.7008325595940121,
          -0.31927820901311404,
          2.5839018710271704,
          -0.6615241474077949,
          -0.3513113384047537,
          -1.6447064505626163,
          -0.3381746996970631,
          0.5185703280206443,
          -0.4126600899710108,
          1.111412826450472,
          -2.1811768624324954,
          -0.7390562258230423,
          -0.19691431987782637,
          -0.8564461074613374,
          -0.2658143784041566,
          -2.63333719441065,
          1.0166617842654235,
          0.5440607019805058,
          -0.3238076409135922,
          2.301811968058974,
          0.23585547206087806,
          -0.22523633643882646,
          -0.11678596070999779,
          0.12578899821333514,
          -1.266448176678349,
          1.840156190143387,
          0.7934607654229933,
          -0.879040372028926,
          0.1106176772142058,
          0.7232055158481039,
          1.143955728091707,
          -0.6922408053305052,
          0.17111181715903606,
          1.1752227121361831,
          0.5149017248635412,
          -0.29239279311857286,
          -0.9431186110891314,
          0.6890241907223393,
          -2.736800800781161,
          -0.09193453540823339,
          0.9031472571354823,
          -1.328816012502861,
          -0.907777189110073,
          -0.6471404454248375,
          -0.21980395293017788,
          -0.6742557662560115,
          -1.080899671209913,
          -0.33771811051318523,
          -0.778554295537802,
          -1.0784224433638752,
          -0.2522855225757112,
          -0.34230578532068723,
          -0.0765594929956213,
          -0.1897062808846173,
          0.9551877414597707,
          0.030419844757999685,
          0.360806273631684,
          0.7774964204857886,
          -0.5182793271816202,
          -0.6459736843376598,
          0.13782438188531929,
          1.2245544210274506,
          -0.4206696236845781,
          0.11823720416357132,
          -0.11183220579060686,
          -1.6093667900712743,
          -0.8601587836879706
         ],
         "yaxis": "y14"
        },
        {
         "line": {
          "color": "rgba(128, 128, 128, 1.0)",
          "dash": "solid",
          "shape": "linear",
          "width": 1.3
         },
         "marker": {
          "size": 2,
          "symbol": "circle"
         },
         "mode": "markers",
         "name": "D",
         "text": "",
         "type": "scatter",
         "x": [
          1.016137061958665,
          -0.5420245082783235,
          -0.6555275772055192,
          -0.17482452802721207,
          -0.20966175827607628,
          1.1268451015087522,
          -0.3573421160038608,
          -0.1283955674793992,
          -0.966809172726611,
          1.1076046408037203,
          -0.3857180761673435,
          0.10751028698545406,
          -0.0722654270370262,
          0.5027412369328366,
          0.4586151070738453,
          -0.31358236684132984,
          -0.7294415911860292,
          0.46889357343171045,
          1.6289993484803935,
          -0.13196937501181366,
          0.13903276441007126,
          -1.8065516586311317,
          0.015244035509171621,
          -0.6693807883877644,
          -1.1417766658491864,
          -0.08255553128388488,
          -0.8202482353376133,
          -1.1406918804712243,
          1.964067336106461,
          -0.9258080012830326,
          -0.1446993961232515,
          1.3722685370982728,
          1.0744640309311915,
          -0.13315007362248654,
          -0.24258199731695324,
          -2.434755966203868,
          1.249588245085047,
          -1.9159706351612598,
          0.9028452338965627,
          0.09709163764319628,
          -1.4915115361349514,
          -0.08131167965299389,
          -0.3533067773683644,
          0.43875369576612405,
          0.16403251203894895,
          0.3327188025830961,
          0.09824955382014505,
          0.25413148419195647,
          -0.8255273384617694,
          1.1502405310973927,
          -0.23663503779656808,
          -0.10375558656850428,
          0.29597100192381026,
          0.161902165064038,
          0.8746088623238746,
          -0.4313027123686213,
          -1.5522117256973411,
          1.5822264544410984,
          -0.2100548377789055,
          -0.11466768195239925,
          0.7693212034474219,
          -0.5239181221597862,
          -0.29627797449795956,
          -0.7872581356661098,
          -0.08259776401178255,
          -0.16190735298564957,
          1.0400236333371244,
          0.7016475467736071,
          1.6061385761185691,
          -0.09389196044606382,
          -2.2984771444784005,
          1.332637670768821,
          1.4260586545811833,
          0.4993956785585622,
          -0.9885025824410877,
          -1.1500950277274034,
          0.027440551493462317,
          -0.7152163964368956,
          -0.22254785386403808,
          1.3578697515859321,
          0.7795183721417863,
          -1.0941700641779113,
          -0.3691504402687209,
          -0.17252910270078434,
          -0.22910576496372098,
          -0.5535653063181362,
          -0.11246827447795366,
          -0.5004601639160561,
          1.3972684184213935,
          0.5826640975314333,
          -0.3704108210274508,
          -0.5791163044118627,
          -1.5688427193366512,
          0.9128795909915046,
          0.23049311480694276,
          0.02602262547334177,
          2.390872078118632,
          0.8265186912628907,
          1.1563445322537906,
          0.1929179183525035
         ],
         "xaxis": "x15",
         "y": [
          0.3678728199360895,
          0.7770397311008759,
          -0.31161412554319096,
          0.36109033817175823,
          1.0958105195636665,
          -0.6153494161962141,
          0.3733739029607547,
          0.7208029853625418,
          -1.6601967483822941,
          0.5812737043064377,
          2.3976288441646996,
          -2.2775623051411698,
          -1.3700067916658192,
          0.6724836769454864,
          0.6545862845642076,
          0.8608767566123184,
          -1.0038117731243594,
          0.2654092394720436,
          0.23271099141093987,
          1.0166224389242902,
          -0.2302243018740462,
          0.38887841341583407,
          -1.1744585970201085,
          -0.3288681829338943,
          0.4320913263467357,
          0.5363338760370511,
          -0.954588837116522,
          -0.9060180130129888,
          0.08258657852706816,
          0.8690618739895999,
          -0.07454312360867822,
          0.9069401158057482,
          0.8525847408135002,
          1.7008325595940121,
          -0.31927820901311404,
          2.5839018710271704,
          -0.6615241474077949,
          -0.3513113384047537,
          -1.6447064505626163,
          -0.3381746996970631,
          0.5185703280206443,
          -0.4126600899710108,
          1.111412826450472,
          -2.1811768624324954,
          -0.7390562258230423,
          -0.19691431987782637,
          -0.8564461074613374,
          -0.2658143784041566,
          -2.63333719441065,
          1.0166617842654235,
          0.5440607019805058,
          -0.3238076409135922,
          2.301811968058974,
          0.23585547206087806,
          -0.22523633643882646,
          -0.11678596070999779,
          0.12578899821333514,
          -1.266448176678349,
          1.840156190143387,
          0.7934607654229933,
          -0.879040372028926,
          0.1106176772142058,
          0.7232055158481039,
          1.143955728091707,
          -0.6922408053305052,
          0.17111181715903606,
          1.1752227121361831,
          0.5149017248635412,
          -0.29239279311857286,
          -0.9431186110891314,
          0.6890241907223393,
          -2.736800800781161,
          -0.09193453540823339,
          0.9031472571354823,
          -1.328816012502861,
          -0.907777189110073,
          -0.6471404454248375,
          -0.21980395293017788,
          -0.6742557662560115,
          -1.080899671209913,
          -0.33771811051318523,
          -0.778554295537802,
          -1.0784224433638752,
          -0.2522855225757112,
          -0.34230578532068723,
          -0.0765594929956213,
          -0.1897062808846173,
          0.9551877414597707,
          0.030419844757999685,
          0.360806273631684,
          0.7774964204857886,
          -0.5182793271816202,
          -0.6459736843376598,
          0.13782438188531929,
          1.2245544210274506,
          -0.4206696236845781,
          0.11823720416357132,
          -0.11183220579060686,
          -1.6093667900712743,
          -0.8601587836879706
         ],
         "yaxis": "y15"
        },
        {
         "histfunc": "count",
         "histnorm": "",
         "marker": {
          "color": "rgba(128, 0, 128, 1.0)",
          "line": {
           "color": "#4D5663",
           "width": 1.3
          }
         },
         "name": "D",
         "nbinsx": 10,
         "opacity": 0.8,
         "orientation": "v",
         "type": "histogram",
         "x": [
          0.3678728199360895,
          0.7770397311008759,
          -0.31161412554319096,
          0.36109033817175823,
          1.0958105195636665,
          -0.6153494161962141,
          0.3733739029607547,
          0.7208029853625418,
          -1.6601967483822941,
          0.5812737043064377,
          2.3976288441646996,
          -2.2775623051411698,
          -1.3700067916658192,
          0.6724836769454864,
          0.6545862845642076,
          0.8608767566123184,
          -1.0038117731243594,
          0.2654092394720436,
          0.23271099141093987,
          1.0166224389242902,
          -0.2302243018740462,
          0.38887841341583407,
          -1.1744585970201085,
          -0.3288681829338943,
          0.4320913263467357,
          0.5363338760370511,
          -0.954588837116522,
          -0.9060180130129888,
          0.08258657852706816,
          0.8690618739895999,
          -0.07454312360867822,
          0.9069401158057482,
          0.8525847408135002,
          1.7008325595940121,
          -0.31927820901311404,
          2.5839018710271704,
          -0.6615241474077949,
          -0.3513113384047537,
          -1.6447064505626163,
          -0.3381746996970631,
          0.5185703280206443,
          -0.4126600899710108,
          1.111412826450472,
          -2.1811768624324954,
          -0.7390562258230423,
          -0.19691431987782637,
          -0.8564461074613374,
          -0.2658143784041566,
          -2.63333719441065,
          1.0166617842654235,
          0.5440607019805058,
          -0.3238076409135922,
          2.301811968058974,
          0.23585547206087806,
          -0.22523633643882646,
          -0.11678596070999779,
          0.12578899821333514,
          -1.266448176678349,
          1.840156190143387,
          0.7934607654229933,
          -0.879040372028926,
          0.1106176772142058,
          0.7232055158481039,
          1.143955728091707,
          -0.6922408053305052,
          0.17111181715903606,
          1.1752227121361831,
          0.5149017248635412,
          -0.29239279311857286,
          -0.9431186110891314,
          0.6890241907223393,
          -2.736800800781161,
          -0.09193453540823339,
          0.9031472571354823,
          -1.328816012502861,
          -0.907777189110073,
          -0.6471404454248375,
          -0.21980395293017788,
          -0.6742557662560115,
          -1.080899671209913,
          -0.33771811051318523,
          -0.778554295537802,
          -1.0784224433638752,
          -0.2522855225757112,
          -0.34230578532068723,
          -0.0765594929956213,
          -0.1897062808846173,
          0.9551877414597707,
          0.030419844757999685,
          0.360806273631684,
          0.7774964204857886,
          -0.5182793271816202,
          -0.6459736843376598,
          0.13782438188531929,
          1.2245544210274506,
          -0.4206696236845781,
          0.11823720416357132,
          -0.11183220579060686,
          -1.6093667900712743,
          -0.8601587836879706
         ],
         "xaxis": "x16",
         "yaxis": "y16"
        }
       ],
       "layout": {
        "bargap": 0.02,
        "legend": {
         "bgcolor": "#F5F6F9",
         "font": {
          "color": "#4D5663"
         }
        },
        "paper_bgcolor": "#F5F6F9",
        "plot_bgcolor": "#F5F6F9",
        "showlegend": false,
        "template": {
         "data": {
          "bar": [
           {
            "error_x": {
             "color": "#2a3f5f"
            },
            "error_y": {
             "color": "#2a3f5f"
            },
            "marker": {
             "line": {
              "color": "#E5ECF6",
              "width": 0.5
             },
             "pattern": {
              "fillmode": "overlay",
              "size": 10,
              "solidity": 0.2
             }
            },
            "type": "bar"
           }
          ],
          "barpolar": [
           {
            "marker": {
             "line": {
              "color": "#E5ECF6",
              "width": 0.5
             },
             "pattern": {
              "fillmode": "overlay",
              "size": 10,
              "solidity": 0.2
             }
            },
            "type": "barpolar"
           }
          ],
          "carpet": [
           {
            "aaxis": {
             "endlinecolor": "#2a3f5f",
             "gridcolor": "white",
             "linecolor": "white",
             "minorgridcolor": "white",
             "startlinecolor": "#2a3f5f"
            },
            "baxis": {
             "endlinecolor": "#2a3f5f",
             "gridcolor": "white",
             "linecolor": "white",
             "minorgridcolor": "white",
             "startlinecolor": "#2a3f5f"
            },
            "type": "carpet"
           }
          ],
          "choropleth": [
           {
            "colorbar": {
             "outlinewidth": 0,
             "ticks": ""
            },
            "type": "choropleth"
           }
          ],
          "contour": [
           {
            "colorbar": {
             "outlinewidth": 0,
             "ticks": ""
            },
            "colorscale": [
             [
              0,
              "#0d0887"
             ],
             [
              0.1111111111111111,
              "#46039f"
             ],
             [
              0.2222222222222222,
              "#7201a8"
             ],
             [
              0.3333333333333333,
              "#9c179e"
             ],
             [
              0.4444444444444444,
              "#bd3786"
             ],
             [
              0.5555555555555556,
              "#d8576b"
             ],
             [
              0.6666666666666666,
              "#ed7953"
             ],
             [
              0.7777777777777778,
              "#fb9f3a"
             ],
             [
              0.8888888888888888,
              "#fdca26"
             ],
             [
              1,
              "#f0f921"
             ]
            ],
            "type": "contour"
           }
          ],
          "contourcarpet": [
           {
            "colorbar": {
             "outlinewidth": 0,
             "ticks": ""
            },
            "type": "contourcarpet"
           }
          ],
          "heatmap": [
           {
            "colorbar": {
             "outlinewidth": 0,
             "ticks": ""
            },
            "colorscale": [
             [
              0,
              "#0d0887"
             ],
             [
              0.1111111111111111,
              "#46039f"
             ],
             [
              0.2222222222222222,
              "#7201a8"
             ],
             [
              0.3333333333333333,
              "#9c179e"
             ],
             [
              0.4444444444444444,
              "#bd3786"
             ],
             [
              0.5555555555555556,
              "#d8576b"
             ],
             [
              0.6666666666666666,
              "#ed7953"
             ],
             [
              0.7777777777777778,
              "#fb9f3a"
             ],
             [
              0.8888888888888888,
              "#fdca26"
             ],
             [
              1,
              "#f0f921"
             ]
            ],
            "type": "heatmap"
           }
          ],
          "heatmapgl": [
           {
            "colorbar": {
             "outlinewidth": 0,
             "ticks": ""
            },
            "colorscale": [
             [
              0,
              "#0d0887"
             ],
             [
              0.1111111111111111,
              "#46039f"
             ],
             [
              0.2222222222222222,
              "#7201a8"
             ],
             [
              0.3333333333333333,
              "#9c179e"
             ],
             [
              0.4444444444444444,
              "#bd3786"
             ],
             [
              0.5555555555555556,
              "#d8576b"
             ],
             [
              0.6666666666666666,
              "#ed7953"
             ],
             [
              0.7777777777777778,
              "#fb9f3a"
             ],
             [
              0.8888888888888888,
              "#fdca26"
             ],
             [
              1,
              "#f0f921"
             ]
            ],
            "type": "heatmapgl"
           }
          ],
          "histogram": [
           {
            "marker": {
             "pattern": {
              "fillmode": "overlay",
              "size": 10,
              "solidity": 0.2
             }
            },
            "type": "histogram"
           }
          ],
          "histogram2d": [
           {
            "colorbar": {
             "outlinewidth": 0,
             "ticks": ""
            },
            "colorscale": [
             [
              0,
              "#0d0887"
             ],
             [
              0.1111111111111111,
              "#46039f"
             ],
             [
              0.2222222222222222,
              "#7201a8"
             ],
             [
              0.3333333333333333,
              "#9c179e"
             ],
             [
              0.4444444444444444,
              "#bd3786"
             ],
             [
              0.5555555555555556,
              "#d8576b"
             ],
             [
              0.6666666666666666,
              "#ed7953"
             ],
             [
              0.7777777777777778,
              "#fb9f3a"
             ],
             [
              0.8888888888888888,
              "#fdca26"
             ],
             [
              1,
              "#f0f921"
             ]
            ],
            "type": "histogram2d"
           }
          ],
          "histogram2dcontour": [
           {
            "colorbar": {
             "outlinewidth": 0,
             "ticks": ""
            },
            "colorscale": [
             [
              0,
              "#0d0887"
             ],
             [
              0.1111111111111111,
              "#46039f"
             ],
             [
              0.2222222222222222,
              "#7201a8"
             ],
             [
              0.3333333333333333,
              "#9c179e"
             ],
             [
              0.4444444444444444,
              "#bd3786"
             ],
             [
              0.5555555555555556,
              "#d8576b"
             ],
             [
              0.6666666666666666,
              "#ed7953"
             ],
             [
              0.7777777777777778,
              "#fb9f3a"
             ],
             [
              0.8888888888888888,
              "#fdca26"
             ],
             [
              1,
              "#f0f921"
             ]
            ],
            "type": "histogram2dcontour"
           }
          ],
          "mesh3d": [
           {
            "colorbar": {
             "outlinewidth": 0,
             "ticks": ""
            },
            "type": "mesh3d"
           }
          ],
          "parcoords": [
           {
            "line": {
             "colorbar": {
              "outlinewidth": 0,
              "ticks": ""
             }
            },
            "type": "parcoords"
           }
          ],
          "pie": [
           {
            "automargin": true,
            "type": "pie"
           }
          ],
          "scatter": [
           {
            "fillpattern": {
             "fillmode": "overlay",
             "size": 10,
             "solidity": 0.2
            },
            "type": "scatter"
           }
          ],
          "scatter3d": [
           {
            "line": {
             "colorbar": {
              "outlinewidth": 0,
              "ticks": ""
             }
            },
            "marker": {
             "colorbar": {
              "outlinewidth": 0,
              "ticks": ""
             }
            },
            "type": "scatter3d"
           }
          ],
          "scattercarpet": [
           {
            "marker": {
             "colorbar": {
              "outlinewidth": 0,
              "ticks": ""
             }
            },
            "type": "scattercarpet"
           }
          ],
          "scattergeo": [
           {
            "marker": {
             "colorbar": {
              "outlinewidth": 0,
              "ticks": ""
             }
            },
            "type": "scattergeo"
           }
          ],
          "scattergl": [
           {
            "marker": {
             "colorbar": {
              "outlinewidth": 0,
              "ticks": ""
             }
            },
            "type": "scattergl"
           }
          ],
          "scattermapbox": [
           {
            "marker": {
             "colorbar": {
              "outlinewidth": 0,
              "ticks": ""
             }
            },
            "type": "scattermapbox"
           }
          ],
          "scatterpolar": [
           {
            "marker": {
             "colorbar": {
              "outlinewidth": 0,
              "ticks": ""
             }
            },
            "type": "scatterpolar"
           }
          ],
          "scatterpolargl": [
           {
            "marker": {
             "colorbar": {
              "outlinewidth": 0,
              "ticks": ""
             }
            },
            "type": "scatterpolargl"
           }
          ],
          "scatterternary": [
           {
            "marker": {
             "colorbar": {
              "outlinewidth": 0,
              "ticks": ""
             }
            },
            "type": "scatterternary"
           }
          ],
          "surface": [
           {
            "colorbar": {
             "outlinewidth": 0,
             "ticks": ""
            },
            "colorscale": [
             [
              0,
              "#0d0887"
             ],
             [
              0.1111111111111111,
              "#46039f"
             ],
             [
              0.2222222222222222,
              "#7201a8"
             ],
             [
              0.3333333333333333,
              "#9c179e"
             ],
             [
              0.4444444444444444,
              "#bd3786"
             ],
             [
              0.5555555555555556,
              "#d8576b"
             ],
             [
              0.6666666666666666,
              "#ed7953"
             ],
             [
              0.7777777777777778,
              "#fb9f3a"
             ],
             [
              0.8888888888888888,
              "#fdca26"
             ],
             [
              1,
              "#f0f921"
             ]
            ],
            "type": "surface"
           }
          ],
          "table": [
           {
            "cells": {
             "fill": {
              "color": "#EBF0F8"
             },
             "line": {
              "color": "white"
             }
            },
            "header": {
             "fill": {
              "color": "#C8D4E3"
             },
             "line": {
              "color": "white"
             }
            },
            "type": "table"
           }
          ]
         },
         "layout": {
          "annotationdefaults": {
           "arrowcolor": "#2a3f5f",
           "arrowhead": 0,
           "arrowwidth": 1
          },
          "autotypenumbers": "strict",
          "coloraxis": {
           "colorbar": {
            "outlinewidth": 0,
            "ticks": ""
           }
          },
          "colorscale": {
           "diverging": [
            [
             0,
             "#8e0152"
            ],
            [
             0.1,
             "#c51b7d"
            ],
            [
             0.2,
             "#de77ae"
            ],
            [
             0.3,
             "#f1b6da"
            ],
            [
             0.4,
             "#fde0ef"
            ],
            [
             0.5,
             "#f7f7f7"
            ],
            [
             0.6,
             "#e6f5d0"
            ],
            [
             0.7,
             "#b8e186"
            ],
            [
             0.8,
             "#7fbc41"
            ],
            [
             0.9,
             "#4d9221"
            ],
            [
             1,
             "#276419"
            ]
           ],
           "sequential": [
            [
             0,
             "#0d0887"
            ],
            [
             0.1111111111111111,
             "#46039f"
            ],
            [
             0.2222222222222222,
             "#7201a8"
            ],
            [
             0.3333333333333333,
             "#9c179e"
            ],
            [
             0.4444444444444444,
             "#bd3786"
            ],
            [
             0.5555555555555556,
             "#d8576b"
            ],
            [
             0.6666666666666666,
             "#ed7953"
            ],
            [
             0.7777777777777778,
             "#fb9f3a"
            ],
            [
             0.8888888888888888,
             "#fdca26"
            ],
            [
             1,
             "#f0f921"
            ]
           ],
           "sequentialminus": [
            [
             0,
             "#0d0887"
            ],
            [
             0.1111111111111111,
             "#46039f"
            ],
            [
             0.2222222222222222,
             "#7201a8"
            ],
            [
             0.3333333333333333,
             "#9c179e"
            ],
            [
             0.4444444444444444,
             "#bd3786"
            ],
            [
             0.5555555555555556,
             "#d8576b"
            ],
            [
             0.6666666666666666,
             "#ed7953"
            ],
            [
             0.7777777777777778,
             "#fb9f3a"
            ],
            [
             0.8888888888888888,
             "#fdca26"
            ],
            [
             1,
             "#f0f921"
            ]
           ]
          },
          "colorway": [
           "#636efa",
           "#EF553B",
           "#00cc96",
           "#ab63fa",
           "#FFA15A",
           "#19d3f3",
           "#FF6692",
           "#B6E880",
           "#FF97FF",
           "#FECB52"
          ],
          "font": {
           "color": "#2a3f5f"
          },
          "geo": {
           "bgcolor": "white",
           "lakecolor": "white",
           "landcolor": "#E5ECF6",
           "showlakes": true,
           "showland": true,
           "subunitcolor": "white"
          },
          "hoverlabel": {
           "align": "left"
          },
          "hovermode": "closest",
          "mapbox": {
           "style": "light"
          },
          "paper_bgcolor": "white",
          "plot_bgcolor": "#E5ECF6",
          "polar": {
           "angularaxis": {
            "gridcolor": "white",
            "linecolor": "white",
            "ticks": ""
           },
           "bgcolor": "#E5ECF6",
           "radialaxis": {
            "gridcolor": "white",
            "linecolor": "white",
            "ticks": ""
           }
          },
          "scene": {
           "xaxis": {
            "backgroundcolor": "#E5ECF6",
            "gridcolor": "white",
            "gridwidth": 2,
            "linecolor": "white",
            "showbackground": true,
            "ticks": "",
            "zerolinecolor": "white"
           },
           "yaxis": {
            "backgroundcolor": "#E5ECF6",
            "gridcolor": "white",
            "gridwidth": 2,
            "linecolor": "white",
            "showbackground": true,
            "ticks": "",
            "zerolinecolor": "white"
           },
           "zaxis": {
            "backgroundcolor": "#E5ECF6",
            "gridcolor": "white",
            "gridwidth": 2,
            "linecolor": "white",
            "showbackground": true,
            "ticks": "",
            "zerolinecolor": "white"
           }
          },
          "shapedefaults": {
           "line": {
            "color": "#2a3f5f"
           }
          },
          "ternary": {
           "aaxis": {
            "gridcolor": "white",
            "linecolor": "white",
            "ticks": ""
           },
           "baxis": {
            "gridcolor": "white",
            "linecolor": "white",
            "ticks": ""
           },
           "bgcolor": "#E5ECF6",
           "caxis": {
            "gridcolor": "white",
            "linecolor": "white",
            "ticks": ""
           }
          },
          "title": {
           "x": 0.05
          },
          "xaxis": {
           "automargin": true,
           "gridcolor": "white",
           "linecolor": "white",
           "ticks": "",
           "title": {
            "standoff": 15
           },
           "zerolinecolor": "white",
           "zerolinewidth": 2
          },
          "yaxis": {
           "automargin": true,
           "gridcolor": "white",
           "linecolor": "white",
           "ticks": "",
           "title": {
            "standoff": 15
           },
           "zerolinecolor": "white",
           "zerolinewidth": 2
          }
         }
        },
        "title": {
         "font": {
          "color": "#4D5663"
         }
        },
        "xaxis": {
         "anchor": "y",
         "domain": [
          0,
          0.2125
         ],
         "gridcolor": "#E1E5ED",
         "showgrid": false,
         "tickfont": {
          "color": "#4D5663"
         },
         "title": {
          "font": {
           "color": "#4D5663"
          },
          "text": ""
         },
         "zerolinecolor": "#E1E5ED"
        },
        "xaxis10": {
         "anchor": "y10",
         "domain": [
          0.2625,
          0.475
         ],
         "gridcolor": "#E1E5ED",
         "showgrid": false,
         "tickfont": {
          "color": "#4D5663"
         },
         "title": {
          "font": {
           "color": "#4D5663"
          },
          "text": ""
         },
         "zerolinecolor": "#E1E5ED"
        },
        "xaxis11": {
         "anchor": "y11",
         "domain": [
          0.525,
          0.7375
         ],
         "gridcolor": "#E1E5ED",
         "showgrid": false,
         "tickfont": {
          "color": "#4D5663"
         },
         "title": {
          "font": {
           "color": "#4D5663"
          },
          "text": ""
         },
         "zerolinecolor": "#E1E5ED"
        },
        "xaxis12": {
         "anchor": "y12",
         "domain": [
          0.7875,
          1
         ],
         "gridcolor": "#E1E5ED",
         "showgrid": false,
         "tickfont": {
          "color": "#4D5663"
         },
         "title": {
          "font": {
           "color": "#4D5663"
          },
          "text": ""
         },
         "zerolinecolor": "#E1E5ED"
        },
        "xaxis13": {
         "anchor": "y13",
         "domain": [
          0,
          0.2125
         ],
         "gridcolor": "#E1E5ED",
         "showgrid": false,
         "tickfont": {
          "color": "#4D5663"
         },
         "title": {
          "font": {
           "color": "#4D5663"
          },
          "text": ""
         },
         "zerolinecolor": "#E1E5ED"
        },
        "xaxis14": {
         "anchor": "y14",
         "domain": [
          0.2625,
          0.475
         ],
         "gridcolor": "#E1E5ED",
         "showgrid": false,
         "tickfont": {
          "color": "#4D5663"
         },
         "title": {
          "font": {
           "color": "#4D5663"
          },
          "text": ""
         },
         "zerolinecolor": "#E1E5ED"
        },
        "xaxis15": {
         "anchor": "y15",
         "domain": [
          0.525,
          0.7375
         ],
         "gridcolor": "#E1E5ED",
         "showgrid": false,
         "tickfont": {
          "color": "#4D5663"
         },
         "title": {
          "font": {
           "color": "#4D5663"
          },
          "text": ""
         },
         "zerolinecolor": "#E1E5ED"
        },
        "xaxis16": {
         "anchor": "y16",
         "domain": [
          0.7875,
          1
         ],
         "gridcolor": "#E1E5ED",
         "showgrid": false,
         "tickfont": {
          "color": "#4D5663"
         },
         "title": {
          "font": {
           "color": "#4D5663"
          },
          "text": ""
         },
         "zerolinecolor": "#E1E5ED"
        },
        "xaxis2": {
         "anchor": "y2",
         "domain": [
          0.2625,
          0.475
         ],
         "gridcolor": "#E1E5ED",
         "showgrid": false,
         "tickfont": {
          "color": "#4D5663"
         },
         "title": {
          "font": {
           "color": "#4D5663"
          },
          "text": ""
         },
         "zerolinecolor": "#E1E5ED"
        },
        "xaxis3": {
         "anchor": "y3",
         "domain": [
          0.525,
          0.7375
         ],
         "gridcolor": "#E1E5ED",
         "showgrid": false,
         "tickfont": {
          "color": "#4D5663"
         },
         "title": {
          "font": {
           "color": "#4D5663"
          },
          "text": ""
         },
         "zerolinecolor": "#E1E5ED"
        },
        "xaxis4": {
         "anchor": "y4",
         "domain": [
          0.7875,
          1
         ],
         "gridcolor": "#E1E5ED",
         "showgrid": false,
         "tickfont": {
          "color": "#4D5663"
         },
         "title": {
          "font": {
           "color": "#4D5663"
          },
          "text": ""
         },
         "zerolinecolor": "#E1E5ED"
        },
        "xaxis5": {
         "anchor": "y5",
         "domain": [
          0,
          0.2125
         ],
         "gridcolor": "#E1E5ED",
         "showgrid": false,
         "tickfont": {
          "color": "#4D5663"
         },
         "title": {
          "font": {
           "color": "#4D5663"
          },
          "text": ""
         },
         "zerolinecolor": "#E1E5ED"
        },
        "xaxis6": {
         "anchor": "y6",
         "domain": [
          0.2625,
          0.475
         ],
         "gridcolor": "#E1E5ED",
         "showgrid": false,
         "tickfont": {
          "color": "#4D5663"
         },
         "title": {
          "font": {
           "color": "#4D5663"
          },
          "text": ""
         },
         "zerolinecolor": "#E1E5ED"
        },
        "xaxis7": {
         "anchor": "y7",
         "domain": [
          0.525,
          0.7375
         ],
         "gridcolor": "#E1E5ED",
         "showgrid": false,
         "tickfont": {
          "color": "#4D5663"
         },
         "title": {
          "font": {
           "color": "#4D5663"
          },
          "text": ""
         },
         "zerolinecolor": "#E1E5ED"
        },
        "xaxis8": {
         "anchor": "y8",
         "domain": [
          0.7875,
          1
         ],
         "gridcolor": "#E1E5ED",
         "showgrid": false,
         "tickfont": {
          "color": "#4D5663"
         },
         "title": {
          "font": {
           "color": "#4D5663"
          },
          "text": ""
         },
         "zerolinecolor": "#E1E5ED"
        },
        "xaxis9": {
         "anchor": "y9",
         "domain": [
          0,
          0.2125
         ],
         "gridcolor": "#E1E5ED",
         "showgrid": false,
         "tickfont": {
          "color": "#4D5663"
         },
         "title": {
          "font": {
           "color": "#4D5663"
          },
          "text": ""
         },
         "zerolinecolor": "#E1E5ED"
        },
        "yaxis": {
         "anchor": "x",
         "domain": [
          0.8025,
          1
         ],
         "gridcolor": "#E1E5ED",
         "showgrid": false,
         "tickfont": {
          "color": "#4D5663"
         },
         "title": {
          "font": {
           "color": "#4D5663"
          },
          "text": ""
         },
         "zerolinecolor": "#E1E5ED"
        },
        "yaxis10": {
         "anchor": "x10",
         "domain": [
          0.2675,
          0.465
         ],
         "gridcolor": "#E1E5ED",
         "showgrid": false,
         "tickfont": {
          "color": "#4D5663"
         },
         "title": {
          "font": {
           "color": "#4D5663"
          },
          "text": ""
         },
         "zerolinecolor": "#E1E5ED"
        },
        "yaxis11": {
         "anchor": "x11",
         "domain": [
          0.2675,
          0.465
         ],
         "gridcolor": "#E1E5ED",
         "showgrid": false,
         "tickfont": {
          "color": "#4D5663"
         },
         "title": {
          "font": {
           "color": "#4D5663"
          },
          "text": ""
         },
         "zerolinecolor": "#E1E5ED"
        },
        "yaxis12": {
         "anchor": "x12",
         "domain": [
          0.2675,
          0.465
         ],
         "gridcolor": "#E1E5ED",
         "showgrid": false,
         "tickfont": {
          "color": "#4D5663"
         },
         "title": {
          "font": {
           "color": "#4D5663"
          },
          "text": ""
         },
         "zerolinecolor": "#E1E5ED"
        },
        "yaxis13": {
         "anchor": "x13",
         "domain": [
          0,
          0.1975
         ],
         "gridcolor": "#E1E5ED",
         "showgrid": false,
         "tickfont": {
          "color": "#4D5663"
         },
         "title": {
          "font": {
           "color": "#4D5663"
          },
          "text": ""
         },
         "zerolinecolor": "#E1E5ED"
        },
        "yaxis14": {
         "anchor": "x14",
         "domain": [
          0,
          0.1975
         ],
         "gridcolor": "#E1E5ED",
         "showgrid": false,
         "tickfont": {
          "color": "#4D5663"
         },
         "title": {
          "font": {
           "color": "#4D5663"
          },
          "text": ""
         },
         "zerolinecolor": "#E1E5ED"
        },
        "yaxis15": {
         "anchor": "x15",
         "domain": [
          0,
          0.1975
         ],
         "gridcolor": "#E1E5ED",
         "showgrid": false,
         "tickfont": {
          "color": "#4D5663"
         },
         "title": {
          "font": {
           "color": "#4D5663"
          },
          "text": ""
         },
         "zerolinecolor": "#E1E5ED"
        },
        "yaxis16": {
         "anchor": "x16",
         "domain": [
          0,
          0.1975
         ],
         "gridcolor": "#E1E5ED",
         "showgrid": false,
         "tickfont": {
          "color": "#4D5663"
         },
         "title": {
          "font": {
           "color": "#4D5663"
          },
          "text": ""
         },
         "zerolinecolor": "#E1E5ED"
        },
        "yaxis2": {
         "anchor": "x2",
         "domain": [
          0.8025,
          1
         ],
         "gridcolor": "#E1E5ED",
         "showgrid": false,
         "tickfont": {
          "color": "#4D5663"
         },
         "title": {
          "font": {
           "color": "#4D5663"
          },
          "text": ""
         },
         "zerolinecolor": "#E1E5ED"
        },
        "yaxis3": {
         "anchor": "x3",
         "domain": [
          0.8025,
          1
         ],
         "gridcolor": "#E1E5ED",
         "showgrid": false,
         "tickfont": {
          "color": "#4D5663"
         },
         "title": {
          "font": {
           "color": "#4D5663"
          },
          "text": ""
         },
         "zerolinecolor": "#E1E5ED"
        },
        "yaxis4": {
         "anchor": "x4",
         "domain": [
          0.8025,
          1
         ],
         "gridcolor": "#E1E5ED",
         "showgrid": false,
         "tickfont": {
          "color": "#4D5663"
         },
         "title": {
          "font": {
           "color": "#4D5663"
          },
          "text": ""
         },
         "zerolinecolor": "#E1E5ED"
        },
        "yaxis5": {
         "anchor": "x5",
         "domain": [
          0.535,
          0.7325
         ],
         "gridcolor": "#E1E5ED",
         "showgrid": false,
         "tickfont": {
          "color": "#4D5663"
         },
         "title": {
          "font": {
           "color": "#4D5663"
          },
          "text": ""
         },
         "zerolinecolor": "#E1E5ED"
        },
        "yaxis6": {
         "anchor": "x6",
         "domain": [
          0.535,
          0.7325
         ],
         "gridcolor": "#E1E5ED",
         "showgrid": false,
         "tickfont": {
          "color": "#4D5663"
         },
         "title": {
          "font": {
           "color": "#4D5663"
          },
          "text": ""
         },
         "zerolinecolor": "#E1E5ED"
        },
        "yaxis7": {
         "anchor": "x7",
         "domain": [
          0.535,
          0.7325
         ],
         "gridcolor": "#E1E5ED",
         "showgrid": false,
         "tickfont": {
          "color": "#4D5663"
         },
         "title": {
          "font": {
           "color": "#4D5663"
          },
          "text": ""
         },
         "zerolinecolor": "#E1E5ED"
        },
        "yaxis8": {
         "anchor": "x8",
         "domain": [
          0.535,
          0.7325
         ],
         "gridcolor": "#E1E5ED",
         "showgrid": false,
         "tickfont": {
          "color": "#4D5663"
         },
         "title": {
          "font": {
           "color": "#4D5663"
          },
          "text": ""
         },
         "zerolinecolor": "#E1E5ED"
        },
        "yaxis9": {
         "anchor": "x9",
         "domain": [
          0.2675,
          0.465
         ],
         "gridcolor": "#E1E5ED",
         "showgrid": false,
         "tickfont": {
          "color": "#4D5663"
         },
         "title": {
          "font": {
           "color": "#4D5663"
          },
          "text": ""
         },
         "zerolinecolor": "#E1E5ED"
        }
       }
      },
      "text/html": [
       "<div>                            <div id=\"2ca9ceea-a3cd-4307-a7c5-faa9c558cef7\" class=\"plotly-graph-div\" style=\"height:525px; width:100%;\"></div>            <script type=\"text/javascript\">                require([\"plotly\"], function(Plotly) {                    window.PLOTLYENV=window.PLOTLYENV || {};\n",
       "                    window.PLOTLYENV.BASE_URL='https://plot.ly';                                    if (document.getElementById(\"2ca9ceea-a3cd-4307-a7c5-faa9c558cef7\")) {                    Plotly.newPlot(                        \"2ca9ceea-a3cd-4307-a7c5-faa9c558cef7\",                        [{\"histfunc\":\"count\",\"histnorm\":\"\",\"marker\":{\"color\":\"rgba(255, 153, 51, 1.0)\",\"line\":{\"color\":\"#4D5663\",\"width\":1.3}},\"name\":\"A\",\"nbinsx\":10,\"opacity\":0.8,\"orientation\":\"v\",\"x\":[-1.3731688173621832,-0.5236780566901539,-0.2456701124803259,-1.6380423135313602,0.9982274092034623,-1.15307228039646,-1.5618663632408445,0.8200192727725714,0.4896820037700569,-1.7515717647801263,-0.06337162209812126,-0.3710804808800396,1.334041593001444,-0.749371267093215,-0.08678441228771756,-1.8822514238319927,-0.934430313200707,-0.19847237614294302,-0.20675616177675002,0.8819335976960104,0.023120137660321772,-0.0937663221763038,1.0062716328804868,-0.7527872553381383,-1.711418215864383,-2.6231263089537467,0.5353519665610029,1.3611088323596643,-1.5553755052553273,-0.7900789027259035,-0.112099598614191,-0.7765022974880906,-1.0095700680916018,0.12751898362424638,0.48523254289941636,-0.08758679656614751,-0.6405700377096745,0.4508096744210774,-0.17729227464359826,-1.3703372018763402,0.35822387093041075,0.011425989559393415,-2.2806654962681123,-0.418647724918048,1.0416519990770345,-0.003226566833624996,-0.8009773563696257,-0.8028488879372703,0.4403941548182696,-0.6460565332446022,-1.0538901952212936,-0.02941339682476033,-0.17880153658567707,1.5504066876349598,-0.06515519216521365,0.2634552678872701,1.221545929144533,0.41801716583001197,1.5706085556631733,-0.5735845823969875,-0.8820952994521086,0.3274408658812476,0.0909898204822451,-2.353670135079995,-0.3661806770483226,-0.9498676077976055,-1.0564185103175003,-1.0333840929678313,0.14215218947690056,-2.024164960776577,-0.5104641477871487,0.5231634935646545,-0.752271124788865,-1.431441600474087,0.13510742157296052,0.5017877946333005,0.3659653905102098,0.07018885629698855,2.2459148212296487,0.6786454586708808,0.9490166345640043,-1.9094775520083493,1.728290787905516,0.6398327487317317,0.3544085374865336,0.11432799574217735,0.6589381343247359,0.10346767508405878,-1.1038727497628804,-0.5099896964508587,0.5867887413460539,-0.7522432291170378,-1.2458288997869245,-1.4730026290167162,0.16962320435120895,0.964513413489719,1.1079062496024767,-0.32293074154054024,-0.7015479463603599,2.1010850453068697],\"xaxis\":\"x\",\"yaxis\":\"y\",\"type\":\"histogram\"},{\"line\":{\"color\":\"rgba(128, 128, 128, 1.0)\",\"dash\":\"solid\",\"shape\":\"linear\",\"width\":1.3},\"marker\":{\"size\":2,\"symbol\":\"circle\"},\"mode\":\"markers\",\"name\":\"A\",\"text\":\"\",\"x\":[-0.26049029456912903,-0.09714763269974377,0.8111103731791115,-1.9092793360910076,-0.7021805233979893,1.7113569273657838,0.5577059895260462,-0.04010677492691884,-0.6031994783562596,-1.0151465414034821,-0.65977071844508,-0.11373213297939189,-0.17642103201371448,-1.3127870983774748,-0.8121667700648396,0.3562560593913871,0.115787656807456,2.0304725698965473,-1.8962460120140843,-1.695481979037778,0.083227127103031,-1.6072152006989198,-0.791909505896926,-0.00226257065607172,0.789055363306743,1.6384186774393954,-0.9141297129748618,0.34878907759418426,1.3992320086007244,-1.6551017310853946,0.2196602310642125,1.2934294942744322,0.6188203489615133,-1.0477234555721597,0.8342357072623097,1.5704168087418544,-1.4090025076121278,-2.118052083579081,-0.2333452338485016,-0.07709603866845373,-2.8072073735768845,-1.687428945991679,-1.159580191150825,1.304971913099211,-2.6664369761159477,0.0006285483518210876,-0.22704157391863877,1.5959235424772875,0.5226701132725071,-0.32349048754336457,0.17185896219907654,-0.11097559458142076,1.032166153297779,-0.7377867289133496,-1.205653112465707,0.08034586127001102,1.0494964020796176,0.5737773994926414,1.0679595026820368,0.2078110294449889,0.497964687170021,-1.0040946242420055,1.641018339402369,0.6987039146589529,-1.5910510766375996,1.0567069686542072,0.7215190478611012,0.6853744281025479,0.34932033732412204,0.08720879431656639,-0.7592345849283544,-0.5346034111574133,0.6203389986553872,0.055895501280625454,-1.2586433955714882,-1.4507327058899393,-0.5067603413460747,0.22285324461662986,1.2794806218555201,-0.5698953891946154,1.1666766260353854,-0.2748556337601546,0.3689062378985249,-0.22443208712326157,-2.6892222066069196,-0.6277102895697781,0.9948207097804131,2.006791303963984,-2.215807367364074,-0.36815272094188445,-2.0368053672881525,-1.4043787604355018,-0.6741811066408415,1.895508785899313,1.2781476020982228,1.6513382173909747,-2.6044397766828005,0.24020400275439163,-0.5693768063211105,0.934438743225109],\"xaxis\":\"x2\",\"y\":[-1.3731688173621832,-0.5236780566901539,-0.2456701124803259,-1.6380423135313602,0.9982274092034623,-1.15307228039646,-1.5618663632408445,0.8200192727725714,0.4896820037700569,-1.7515717647801263,-0.06337162209812126,-0.3710804808800396,1.334041593001444,-0.749371267093215,-0.08678441228771756,-1.8822514238319927,-0.934430313200707,-0.19847237614294302,-0.20675616177675002,0.8819335976960104,0.023120137660321772,-0.0937663221763038,1.0062716328804868,-0.7527872553381383,-1.711418215864383,-2.6231263089537467,0.5353519665610029,1.3611088323596643,-1.5553755052553273,-0.7900789027259035,-0.112099598614191,-0.7765022974880906,-1.0095700680916018,0.12751898362424638,0.48523254289941636,-0.08758679656614751,-0.6405700377096745,0.4508096744210774,-0.17729227464359826,-1.3703372018763402,0.35822387093041075,0.011425989559393415,-2.2806654962681123,-0.418647724918048,1.0416519990770345,-0.003226566833624996,-0.8009773563696257,-0.8028488879372703,0.4403941548182696,-0.6460565332446022,-1.0538901952212936,-0.02941339682476033,-0.17880153658567707,1.5504066876349598,-0.06515519216521365,0.2634552678872701,1.221545929144533,0.41801716583001197,1.5706085556631733,-0.5735845823969875,-0.8820952994521086,0.3274408658812476,0.0909898204822451,-2.353670135079995,-0.3661806770483226,-0.9498676077976055,-1.0564185103175003,-1.0333840929678313,0.14215218947690056,-2.024164960776577,-0.5104641477871487,0.5231634935646545,-0.752271124788865,-1.431441600474087,0.13510742157296052,0.5017877946333005,0.3659653905102098,0.07018885629698855,2.2459148212296487,0.6786454586708808,0.9490166345640043,-1.9094775520083493,1.728290787905516,0.6398327487317317,0.3544085374865336,0.11432799574217735,0.6589381343247359,0.10346767508405878,-1.1038727497628804,-0.5099896964508587,0.5867887413460539,-0.7522432291170378,-1.2458288997869245,-1.4730026290167162,0.16962320435120895,0.964513413489719,1.1079062496024767,-0.32293074154054024,-0.7015479463603599,2.1010850453068697],\"yaxis\":\"y2\",\"type\":\"scatter\"},{\"line\":{\"color\":\"rgba(128, 128, 128, 1.0)\",\"dash\":\"solid\",\"shape\":\"linear\",\"width\":1.3},\"marker\":{\"size\":2,\"symbol\":\"circle\"},\"mode\":\"markers\",\"name\":\"A\",\"text\":\"\",\"x\":[1.016137061958665,-0.5420245082783235,-0.6555275772055192,-0.17482452802721207,-0.20966175827607628,1.1268451015087522,-0.3573421160038608,-0.1283955674793992,-0.966809172726611,1.1076046408037203,-0.3857180761673435,0.10751028698545406,-0.0722654270370262,0.5027412369328366,0.4586151070738453,-0.31358236684132984,-0.7294415911860292,0.46889357343171045,1.6289993484803935,-0.13196937501181366,0.13903276441007126,-1.8065516586311317,0.015244035509171621,-0.6693807883877644,-1.1417766658491864,-0.08255553128388488,-0.8202482353376133,-1.1406918804712243,1.964067336106461,-0.9258080012830326,-0.1446993961232515,1.3722685370982728,1.0744640309311915,-0.13315007362248654,-0.24258199731695324,-2.434755966203868,1.249588245085047,-1.9159706351612598,0.9028452338965627,0.09709163764319628,-1.4915115361349514,-0.08131167965299389,-0.3533067773683644,0.43875369576612405,0.16403251203894895,0.3327188025830961,0.09824955382014505,0.25413148419195647,-0.8255273384617694,1.1502405310973927,-0.23663503779656808,-0.10375558656850428,0.29597100192381026,0.161902165064038,0.8746088623238746,-0.4313027123686213,-1.5522117256973411,1.5822264544410984,-0.2100548377789055,-0.11466768195239925,0.7693212034474219,-0.5239181221597862,-0.29627797449795956,-0.7872581356661098,-0.08259776401178255,-0.16190735298564957,1.0400236333371244,0.7016475467736071,1.6061385761185691,-0.09389196044606382,-2.2984771444784005,1.332637670768821,1.4260586545811833,0.4993956785585622,-0.9885025824410877,-1.1500950277274034,0.027440551493462317,-0.7152163964368956,-0.22254785386403808,1.3578697515859321,0.7795183721417863,-1.0941700641779113,-0.3691504402687209,-0.17252910270078434,-0.22910576496372098,-0.5535653063181362,-0.11246827447795366,-0.5004601639160561,1.3972684184213935,0.5826640975314333,-0.3704108210274508,-0.5791163044118627,-1.5688427193366512,0.9128795909915046,0.23049311480694276,0.02602262547334177,2.390872078118632,0.8265186912628907,1.1563445322537906,0.1929179183525035],\"xaxis\":\"x3\",\"y\":[-1.3731688173621832,-0.5236780566901539,-0.2456701124803259,-1.6380423135313602,0.9982274092034623,-1.15307228039646,-1.5618663632408445,0.8200192727725714,0.4896820037700569,-1.7515717647801263,-0.06337162209812126,-0.3710804808800396,1.334041593001444,-0.749371267093215,-0.08678441228771756,-1.8822514238319927,-0.934430313200707,-0.19847237614294302,-0.20675616177675002,0.8819335976960104,0.023120137660321772,-0.0937663221763038,1.0062716328804868,-0.7527872553381383,-1.711418215864383,-2.6231263089537467,0.5353519665610029,1.3611088323596643,-1.5553755052553273,-0.7900789027259035,-0.112099598614191,-0.7765022974880906,-1.0095700680916018,0.12751898362424638,0.48523254289941636,-0.08758679656614751,-0.6405700377096745,0.4508096744210774,-0.17729227464359826,-1.3703372018763402,0.35822387093041075,0.011425989559393415,-2.2806654962681123,-0.418647724918048,1.0416519990770345,-0.003226566833624996,-0.8009773563696257,-0.8028488879372703,0.4403941548182696,-0.6460565332446022,-1.0538901952212936,-0.02941339682476033,-0.17880153658567707,1.5504066876349598,-0.06515519216521365,0.2634552678872701,1.221545929144533,0.41801716583001197,1.5706085556631733,-0.5735845823969875,-0.8820952994521086,0.3274408658812476,0.0909898204822451,-2.353670135079995,-0.3661806770483226,-0.9498676077976055,-1.0564185103175003,-1.0333840929678313,0.14215218947690056,-2.024164960776577,-0.5104641477871487,0.5231634935646545,-0.752271124788865,-1.431441600474087,0.13510742157296052,0.5017877946333005,0.3659653905102098,0.07018885629698855,2.2459148212296487,0.6786454586708808,0.9490166345640043,-1.9094775520083493,1.728290787905516,0.6398327487317317,0.3544085374865336,0.11432799574217735,0.6589381343247359,0.10346767508405878,-1.1038727497628804,-0.5099896964508587,0.5867887413460539,-0.7522432291170378,-1.2458288997869245,-1.4730026290167162,0.16962320435120895,0.964513413489719,1.1079062496024767,-0.32293074154054024,-0.7015479463603599,2.1010850453068697],\"yaxis\":\"y3\",\"type\":\"scatter\"},{\"line\":{\"color\":\"rgba(128, 128, 128, 1.0)\",\"dash\":\"solid\",\"shape\":\"linear\",\"width\":1.3},\"marker\":{\"size\":2,\"symbol\":\"circle\"},\"mode\":\"markers\",\"name\":\"A\",\"text\":\"\",\"x\":[0.3678728199360895,0.7770397311008759,-0.31161412554319096,0.36109033817175823,1.0958105195636665,-0.6153494161962141,0.3733739029607547,0.7208029853625418,-1.6601967483822941,0.5812737043064377,2.3976288441646996,-2.2775623051411698,-1.3700067916658192,0.6724836769454864,0.6545862845642076,0.8608767566123184,-1.0038117731243594,0.2654092394720436,0.23271099141093987,1.0166224389242902,-0.2302243018740462,0.38887841341583407,-1.1744585970201085,-0.3288681829338943,0.4320913263467357,0.5363338760370511,-0.954588837116522,-0.9060180130129888,0.08258657852706816,0.8690618739895999,-0.07454312360867822,0.9069401158057482,0.8525847408135002,1.7008325595940121,-0.31927820901311404,2.5839018710271704,-0.6615241474077949,-0.3513113384047537,-1.6447064505626163,-0.3381746996970631,0.5185703280206443,-0.4126600899710108,1.111412826450472,-2.1811768624324954,-0.7390562258230423,-0.19691431987782637,-0.8564461074613374,-0.2658143784041566,-2.63333719441065,1.0166617842654235,0.5440607019805058,-0.3238076409135922,2.301811968058974,0.23585547206087806,-0.22523633643882646,-0.11678596070999779,0.12578899821333514,-1.266448176678349,1.840156190143387,0.7934607654229933,-0.879040372028926,0.1106176772142058,0.7232055158481039,1.143955728091707,-0.6922408053305052,0.17111181715903606,1.1752227121361831,0.5149017248635412,-0.29239279311857286,-0.9431186110891314,0.6890241907223393,-2.736800800781161,-0.09193453540823339,0.9031472571354823,-1.328816012502861,-0.907777189110073,-0.6471404454248375,-0.21980395293017788,-0.6742557662560115,-1.080899671209913,-0.33771811051318523,-0.778554295537802,-1.0784224433638752,-0.2522855225757112,-0.34230578532068723,-0.0765594929956213,-0.1897062808846173,0.9551877414597707,0.030419844757999685,0.360806273631684,0.7774964204857886,-0.5182793271816202,-0.6459736843376598,0.13782438188531929,1.2245544210274506,-0.4206696236845781,0.11823720416357132,-0.11183220579060686,-1.6093667900712743,-0.8601587836879706],\"xaxis\":\"x4\",\"y\":[-1.3731688173621832,-0.5236780566901539,-0.2456701124803259,-1.6380423135313602,0.9982274092034623,-1.15307228039646,-1.5618663632408445,0.8200192727725714,0.4896820037700569,-1.7515717647801263,-0.06337162209812126,-0.3710804808800396,1.334041593001444,-0.749371267093215,-0.08678441228771756,-1.8822514238319927,-0.934430313200707,-0.19847237614294302,-0.20675616177675002,0.8819335976960104,0.023120137660321772,-0.0937663221763038,1.0062716328804868,-0.7527872553381383,-1.711418215864383,-2.6231263089537467,0.5353519665610029,1.3611088323596643,-1.5553755052553273,-0.7900789027259035,-0.112099598614191,-0.7765022974880906,-1.0095700680916018,0.12751898362424638,0.48523254289941636,-0.08758679656614751,-0.6405700377096745,0.4508096744210774,-0.17729227464359826,-1.3703372018763402,0.35822387093041075,0.011425989559393415,-2.2806654962681123,-0.418647724918048,1.0416519990770345,-0.003226566833624996,-0.8009773563696257,-0.8028488879372703,0.4403941548182696,-0.6460565332446022,-1.0538901952212936,-0.02941339682476033,-0.17880153658567707,1.5504066876349598,-0.06515519216521365,0.2634552678872701,1.221545929144533,0.41801716583001197,1.5706085556631733,-0.5735845823969875,-0.8820952994521086,0.3274408658812476,0.0909898204822451,-2.353670135079995,-0.3661806770483226,-0.9498676077976055,-1.0564185103175003,-1.0333840929678313,0.14215218947690056,-2.024164960776577,-0.5104641477871487,0.5231634935646545,-0.752271124788865,-1.431441600474087,0.13510742157296052,0.5017877946333005,0.3659653905102098,0.07018885629698855,2.2459148212296487,0.6786454586708808,0.9490166345640043,-1.9094775520083493,1.728290787905516,0.6398327487317317,0.3544085374865336,0.11432799574217735,0.6589381343247359,0.10346767508405878,-1.1038727497628804,-0.5099896964508587,0.5867887413460539,-0.7522432291170378,-1.2458288997869245,-1.4730026290167162,0.16962320435120895,0.964513413489719,1.1079062496024767,-0.32293074154054024,-0.7015479463603599,2.1010850453068697],\"yaxis\":\"y4\",\"type\":\"scatter\"},{\"line\":{\"color\":\"rgba(128, 128, 128, 1.0)\",\"dash\":\"solid\",\"shape\":\"linear\",\"width\":1.3},\"marker\":{\"size\":2,\"symbol\":\"circle\"},\"mode\":\"markers\",\"name\":\"B\",\"text\":\"\",\"x\":[-1.3731688173621832,-0.5236780566901539,-0.2456701124803259,-1.6380423135313602,0.9982274092034623,-1.15307228039646,-1.5618663632408445,0.8200192727725714,0.4896820037700569,-1.7515717647801263,-0.06337162209812126,-0.3710804808800396,1.334041593001444,-0.749371267093215,-0.08678441228771756,-1.8822514238319927,-0.934430313200707,-0.19847237614294302,-0.20675616177675002,0.8819335976960104,0.023120137660321772,-0.0937663221763038,1.0062716328804868,-0.7527872553381383,-1.711418215864383,-2.6231263089537467,0.5353519665610029,1.3611088323596643,-1.5553755052553273,-0.7900789027259035,-0.112099598614191,-0.7765022974880906,-1.0095700680916018,0.12751898362424638,0.48523254289941636,-0.08758679656614751,-0.6405700377096745,0.4508096744210774,-0.17729227464359826,-1.3703372018763402,0.35822387093041075,0.011425989559393415,-2.2806654962681123,-0.418647724918048,1.0416519990770345,-0.003226566833624996,-0.8009773563696257,-0.8028488879372703,0.4403941548182696,-0.6460565332446022,-1.0538901952212936,-0.02941339682476033,-0.17880153658567707,1.5504066876349598,-0.06515519216521365,0.2634552678872701,1.221545929144533,0.41801716583001197,1.5706085556631733,-0.5735845823969875,-0.8820952994521086,0.3274408658812476,0.0909898204822451,-2.353670135079995,-0.3661806770483226,-0.9498676077976055,-1.0564185103175003,-1.0333840929678313,0.14215218947690056,-2.024164960776577,-0.5104641477871487,0.5231634935646545,-0.752271124788865,-1.431441600474087,0.13510742157296052,0.5017877946333005,0.3659653905102098,0.07018885629698855,2.2459148212296487,0.6786454586708808,0.9490166345640043,-1.9094775520083493,1.728290787905516,0.6398327487317317,0.3544085374865336,0.11432799574217735,0.6589381343247359,0.10346767508405878,-1.1038727497628804,-0.5099896964508587,0.5867887413460539,-0.7522432291170378,-1.2458288997869245,-1.4730026290167162,0.16962320435120895,0.964513413489719,1.1079062496024767,-0.32293074154054024,-0.7015479463603599,2.1010850453068697],\"xaxis\":\"x5\",\"y\":[-0.26049029456912903,-0.09714763269974377,0.8111103731791115,-1.9092793360910076,-0.7021805233979893,1.7113569273657838,0.5577059895260462,-0.04010677492691884,-0.6031994783562596,-1.0151465414034821,-0.65977071844508,-0.11373213297939189,-0.17642103201371448,-1.3127870983774748,-0.8121667700648396,0.3562560593913871,0.115787656807456,2.0304725698965473,-1.8962460120140843,-1.695481979037778,0.083227127103031,-1.6072152006989198,-0.791909505896926,-0.00226257065607172,0.789055363306743,1.6384186774393954,-0.9141297129748618,0.34878907759418426,1.3992320086007244,-1.6551017310853946,0.2196602310642125,1.2934294942744322,0.6188203489615133,-1.0477234555721597,0.8342357072623097,1.5704168087418544,-1.4090025076121278,-2.118052083579081,-0.2333452338485016,-0.07709603866845373,-2.8072073735768845,-1.687428945991679,-1.159580191150825,1.304971913099211,-2.6664369761159477,0.0006285483518210876,-0.22704157391863877,1.5959235424772875,0.5226701132725071,-0.32349048754336457,0.17185896219907654,-0.11097559458142076,1.032166153297779,-0.7377867289133496,-1.205653112465707,0.08034586127001102,1.0494964020796176,0.5737773994926414,1.0679595026820368,0.2078110294449889,0.497964687170021,-1.0040946242420055,1.641018339402369,0.6987039146589529,-1.5910510766375996,1.0567069686542072,0.7215190478611012,0.6853744281025479,0.34932033732412204,0.08720879431656639,-0.7592345849283544,-0.5346034111574133,0.6203389986553872,0.055895501280625454,-1.2586433955714882,-1.4507327058899393,-0.5067603413460747,0.22285324461662986,1.2794806218555201,-0.5698953891946154,1.1666766260353854,-0.2748556337601546,0.3689062378985249,-0.22443208712326157,-2.6892222066069196,-0.6277102895697781,0.9948207097804131,2.006791303963984,-2.215807367364074,-0.36815272094188445,-2.0368053672881525,-1.4043787604355018,-0.6741811066408415,1.895508785899313,1.2781476020982228,1.6513382173909747,-2.6044397766828005,0.24020400275439163,-0.5693768063211105,0.934438743225109],\"yaxis\":\"y5\",\"type\":\"scatter\"},{\"histfunc\":\"count\",\"histnorm\":\"\",\"marker\":{\"color\":\"rgba(55, 128, 191, 1.0)\",\"line\":{\"color\":\"#4D5663\",\"width\":1.3}},\"name\":\"B\",\"nbinsx\":10,\"opacity\":0.8,\"orientation\":\"v\",\"x\":[-0.26049029456912903,-0.09714763269974377,0.8111103731791115,-1.9092793360910076,-0.7021805233979893,1.7113569273657838,0.5577059895260462,-0.04010677492691884,-0.6031994783562596,-1.0151465414034821,-0.65977071844508,-0.11373213297939189,-0.17642103201371448,-1.3127870983774748,-0.8121667700648396,0.3562560593913871,0.115787656807456,2.0304725698965473,-1.8962460120140843,-1.695481979037778,0.083227127103031,-1.6072152006989198,-0.791909505896926,-0.00226257065607172,0.789055363306743,1.6384186774393954,-0.9141297129748618,0.34878907759418426,1.3992320086007244,-1.6551017310853946,0.2196602310642125,1.2934294942744322,0.6188203489615133,-1.0477234555721597,0.8342357072623097,1.5704168087418544,-1.4090025076121278,-2.118052083579081,-0.2333452338485016,-0.07709603866845373,-2.8072073735768845,-1.687428945991679,-1.159580191150825,1.304971913099211,-2.6664369761159477,0.0006285483518210876,-0.22704157391863877,1.5959235424772875,0.5226701132725071,-0.32349048754336457,0.17185896219907654,-0.11097559458142076,1.032166153297779,-0.7377867289133496,-1.205653112465707,0.08034586127001102,1.0494964020796176,0.5737773994926414,1.0679595026820368,0.2078110294449889,0.497964687170021,-1.0040946242420055,1.641018339402369,0.6987039146589529,-1.5910510766375996,1.0567069686542072,0.7215190478611012,0.6853744281025479,0.34932033732412204,0.08720879431656639,-0.7592345849283544,-0.5346034111574133,0.6203389986553872,0.055895501280625454,-1.2586433955714882,-1.4507327058899393,-0.5067603413460747,0.22285324461662986,1.2794806218555201,-0.5698953891946154,1.1666766260353854,-0.2748556337601546,0.3689062378985249,-0.22443208712326157,-2.6892222066069196,-0.6277102895697781,0.9948207097804131,2.006791303963984,-2.215807367364074,-0.36815272094188445,-2.0368053672881525,-1.4043787604355018,-0.6741811066408415,1.895508785899313,1.2781476020982228,1.6513382173909747,-2.6044397766828005,0.24020400275439163,-0.5693768063211105,0.934438743225109],\"xaxis\":\"x6\",\"yaxis\":\"y6\",\"type\":\"histogram\"},{\"line\":{\"color\":\"rgba(128, 128, 128, 1.0)\",\"dash\":\"solid\",\"shape\":\"linear\",\"width\":1.3},\"marker\":{\"size\":2,\"symbol\":\"circle\"},\"mode\":\"markers\",\"name\":\"B\",\"text\":\"\",\"x\":[1.016137061958665,-0.5420245082783235,-0.6555275772055192,-0.17482452802721207,-0.20966175827607628,1.1268451015087522,-0.3573421160038608,-0.1283955674793992,-0.966809172726611,1.1076046408037203,-0.3857180761673435,0.10751028698545406,-0.0722654270370262,0.5027412369328366,0.4586151070738453,-0.31358236684132984,-0.7294415911860292,0.46889357343171045,1.6289993484803935,-0.13196937501181366,0.13903276441007126,-1.8065516586311317,0.015244035509171621,-0.6693807883877644,-1.1417766658491864,-0.08255553128388488,-0.8202482353376133,-1.1406918804712243,1.964067336106461,-0.9258080012830326,-0.1446993961232515,1.3722685370982728,1.0744640309311915,-0.13315007362248654,-0.24258199731695324,-2.434755966203868,1.249588245085047,-1.9159706351612598,0.9028452338965627,0.09709163764319628,-1.4915115361349514,-0.08131167965299389,-0.3533067773683644,0.43875369576612405,0.16403251203894895,0.3327188025830961,0.09824955382014505,0.25413148419195647,-0.8255273384617694,1.1502405310973927,-0.23663503779656808,-0.10375558656850428,0.29597100192381026,0.161902165064038,0.8746088623238746,-0.4313027123686213,-1.5522117256973411,1.5822264544410984,-0.2100548377789055,-0.11466768195239925,0.7693212034474219,-0.5239181221597862,-0.29627797449795956,-0.7872581356661098,-0.08259776401178255,-0.16190735298564957,1.0400236333371244,0.7016475467736071,1.6061385761185691,-0.09389196044606382,-2.2984771444784005,1.332637670768821,1.4260586545811833,0.4993956785585622,-0.9885025824410877,-1.1500950277274034,0.027440551493462317,-0.7152163964368956,-0.22254785386403808,1.3578697515859321,0.7795183721417863,-1.0941700641779113,-0.3691504402687209,-0.17252910270078434,-0.22910576496372098,-0.5535653063181362,-0.11246827447795366,-0.5004601639160561,1.3972684184213935,0.5826640975314333,-0.3704108210274508,-0.5791163044118627,-1.5688427193366512,0.9128795909915046,0.23049311480694276,0.02602262547334177,2.390872078118632,0.8265186912628907,1.1563445322537906,0.1929179183525035],\"xaxis\":\"x7\",\"y\":[-0.26049029456912903,-0.09714763269974377,0.8111103731791115,-1.9092793360910076,-0.7021805233979893,1.7113569273657838,0.5577059895260462,-0.04010677492691884,-0.6031994783562596,-1.0151465414034821,-0.65977071844508,-0.11373213297939189,-0.17642103201371448,-1.3127870983774748,-0.8121667700648396,0.3562560593913871,0.115787656807456,2.0304725698965473,-1.8962460120140843,-1.695481979037778,0.083227127103031,-1.6072152006989198,-0.791909505896926,-0.00226257065607172,0.789055363306743,1.6384186774393954,-0.9141297129748618,0.34878907759418426,1.3992320086007244,-1.6551017310853946,0.2196602310642125,1.2934294942744322,0.6188203489615133,-1.0477234555721597,0.8342357072623097,1.5704168087418544,-1.4090025076121278,-2.118052083579081,-0.2333452338485016,-0.07709603866845373,-2.8072073735768845,-1.687428945991679,-1.159580191150825,1.304971913099211,-2.6664369761159477,0.0006285483518210876,-0.22704157391863877,1.5959235424772875,0.5226701132725071,-0.32349048754336457,0.17185896219907654,-0.11097559458142076,1.032166153297779,-0.7377867289133496,-1.205653112465707,0.08034586127001102,1.0494964020796176,0.5737773994926414,1.0679595026820368,0.2078110294449889,0.497964687170021,-1.0040946242420055,1.641018339402369,0.6987039146589529,-1.5910510766375996,1.0567069686542072,0.7215190478611012,0.6853744281025479,0.34932033732412204,0.08720879431656639,-0.7592345849283544,-0.5346034111574133,0.6203389986553872,0.055895501280625454,-1.2586433955714882,-1.4507327058899393,-0.5067603413460747,0.22285324461662986,1.2794806218555201,-0.5698953891946154,1.1666766260353854,-0.2748556337601546,0.3689062378985249,-0.22443208712326157,-2.6892222066069196,-0.6277102895697781,0.9948207097804131,2.006791303963984,-2.215807367364074,-0.36815272094188445,-2.0368053672881525,-1.4043787604355018,-0.6741811066408415,1.895508785899313,1.2781476020982228,1.6513382173909747,-2.6044397766828005,0.24020400275439163,-0.5693768063211105,0.934438743225109],\"yaxis\":\"y7\",\"type\":\"scatter\"},{\"line\":{\"color\":\"rgba(128, 128, 128, 1.0)\",\"dash\":\"solid\",\"shape\":\"linear\",\"width\":1.3},\"marker\":{\"size\":2,\"symbol\":\"circle\"},\"mode\":\"markers\",\"name\":\"B\",\"text\":\"\",\"x\":[0.3678728199360895,0.7770397311008759,-0.31161412554319096,0.36109033817175823,1.0958105195636665,-0.6153494161962141,0.3733739029607547,0.7208029853625418,-1.6601967483822941,0.5812737043064377,2.3976288441646996,-2.2775623051411698,-1.3700067916658192,0.6724836769454864,0.6545862845642076,0.8608767566123184,-1.0038117731243594,0.2654092394720436,0.23271099141093987,1.0166224389242902,-0.2302243018740462,0.38887841341583407,-1.1744585970201085,-0.3288681829338943,0.4320913263467357,0.5363338760370511,-0.954588837116522,-0.9060180130129888,0.08258657852706816,0.8690618739895999,-0.07454312360867822,0.9069401158057482,0.8525847408135002,1.7008325595940121,-0.31927820901311404,2.5839018710271704,-0.6615241474077949,-0.3513113384047537,-1.6447064505626163,-0.3381746996970631,0.5185703280206443,-0.4126600899710108,1.111412826450472,-2.1811768624324954,-0.7390562258230423,-0.19691431987782637,-0.8564461074613374,-0.2658143784041566,-2.63333719441065,1.0166617842654235,0.5440607019805058,-0.3238076409135922,2.301811968058974,0.23585547206087806,-0.22523633643882646,-0.11678596070999779,0.12578899821333514,-1.266448176678349,1.840156190143387,0.7934607654229933,-0.879040372028926,0.1106176772142058,0.7232055158481039,1.143955728091707,-0.6922408053305052,0.17111181715903606,1.1752227121361831,0.5149017248635412,-0.29239279311857286,-0.9431186110891314,0.6890241907223393,-2.736800800781161,-0.09193453540823339,0.9031472571354823,-1.328816012502861,-0.907777189110073,-0.6471404454248375,-0.21980395293017788,-0.6742557662560115,-1.080899671209913,-0.33771811051318523,-0.778554295537802,-1.0784224433638752,-0.2522855225757112,-0.34230578532068723,-0.0765594929956213,-0.1897062808846173,0.9551877414597707,0.030419844757999685,0.360806273631684,0.7774964204857886,-0.5182793271816202,-0.6459736843376598,0.13782438188531929,1.2245544210274506,-0.4206696236845781,0.11823720416357132,-0.11183220579060686,-1.6093667900712743,-0.8601587836879706],\"xaxis\":\"x8\",\"y\":[-0.26049029456912903,-0.09714763269974377,0.8111103731791115,-1.9092793360910076,-0.7021805233979893,1.7113569273657838,0.5577059895260462,-0.04010677492691884,-0.6031994783562596,-1.0151465414034821,-0.65977071844508,-0.11373213297939189,-0.17642103201371448,-1.3127870983774748,-0.8121667700648396,0.3562560593913871,0.115787656807456,2.0304725698965473,-1.8962460120140843,-1.695481979037778,0.083227127103031,-1.6072152006989198,-0.791909505896926,-0.00226257065607172,0.789055363306743,1.6384186774393954,-0.9141297129748618,0.34878907759418426,1.3992320086007244,-1.6551017310853946,0.2196602310642125,1.2934294942744322,0.6188203489615133,-1.0477234555721597,0.8342357072623097,1.5704168087418544,-1.4090025076121278,-2.118052083579081,-0.2333452338485016,-0.07709603866845373,-2.8072073735768845,-1.687428945991679,-1.159580191150825,1.304971913099211,-2.6664369761159477,0.0006285483518210876,-0.22704157391863877,1.5959235424772875,0.5226701132725071,-0.32349048754336457,0.17185896219907654,-0.11097559458142076,1.032166153297779,-0.7377867289133496,-1.205653112465707,0.08034586127001102,1.0494964020796176,0.5737773994926414,1.0679595026820368,0.2078110294449889,0.497964687170021,-1.0040946242420055,1.641018339402369,0.6987039146589529,-1.5910510766375996,1.0567069686542072,0.7215190478611012,0.6853744281025479,0.34932033732412204,0.08720879431656639,-0.7592345849283544,-0.5346034111574133,0.6203389986553872,0.055895501280625454,-1.2586433955714882,-1.4507327058899393,-0.5067603413460747,0.22285324461662986,1.2794806218555201,-0.5698953891946154,1.1666766260353854,-0.2748556337601546,0.3689062378985249,-0.22443208712326157,-2.6892222066069196,-0.6277102895697781,0.9948207097804131,2.006791303963984,-2.215807367364074,-0.36815272094188445,-2.0368053672881525,-1.4043787604355018,-0.6741811066408415,1.895508785899313,1.2781476020982228,1.6513382173909747,-2.6044397766828005,0.24020400275439163,-0.5693768063211105,0.934438743225109],\"yaxis\":\"y8\",\"type\":\"scatter\"},{\"line\":{\"color\":\"rgba(128, 128, 128, 1.0)\",\"dash\":\"solid\",\"shape\":\"linear\",\"width\":1.3},\"marker\":{\"size\":2,\"symbol\":\"circle\"},\"mode\":\"markers\",\"name\":\"C\",\"text\":\"\",\"x\":[-1.3731688173621832,-0.5236780566901539,-0.2456701124803259,-1.6380423135313602,0.9982274092034623,-1.15307228039646,-1.5618663632408445,0.8200192727725714,0.4896820037700569,-1.7515717647801263,-0.06337162209812126,-0.3710804808800396,1.334041593001444,-0.749371267093215,-0.08678441228771756,-1.8822514238319927,-0.934430313200707,-0.19847237614294302,-0.20675616177675002,0.8819335976960104,0.023120137660321772,-0.0937663221763038,1.0062716328804868,-0.7527872553381383,-1.711418215864383,-2.6231263089537467,0.5353519665610029,1.3611088323596643,-1.5553755052553273,-0.7900789027259035,-0.112099598614191,-0.7765022974880906,-1.0095700680916018,0.12751898362424638,0.48523254289941636,-0.08758679656614751,-0.6405700377096745,0.4508096744210774,-0.17729227464359826,-1.3703372018763402,0.35822387093041075,0.011425989559393415,-2.2806654962681123,-0.418647724918048,1.0416519990770345,-0.003226566833624996,-0.8009773563696257,-0.8028488879372703,0.4403941548182696,-0.6460565332446022,-1.0538901952212936,-0.02941339682476033,-0.17880153658567707,1.5504066876349598,-0.06515519216521365,0.2634552678872701,1.221545929144533,0.41801716583001197,1.5706085556631733,-0.5735845823969875,-0.8820952994521086,0.3274408658812476,0.0909898204822451,-2.353670135079995,-0.3661806770483226,-0.9498676077976055,-1.0564185103175003,-1.0333840929678313,0.14215218947690056,-2.024164960776577,-0.5104641477871487,0.5231634935646545,-0.752271124788865,-1.431441600474087,0.13510742157296052,0.5017877946333005,0.3659653905102098,0.07018885629698855,2.2459148212296487,0.6786454586708808,0.9490166345640043,-1.9094775520083493,1.728290787905516,0.6398327487317317,0.3544085374865336,0.11432799574217735,0.6589381343247359,0.10346767508405878,-1.1038727497628804,-0.5099896964508587,0.5867887413460539,-0.7522432291170378,-1.2458288997869245,-1.4730026290167162,0.16962320435120895,0.964513413489719,1.1079062496024767,-0.32293074154054024,-0.7015479463603599,2.1010850453068697],\"xaxis\":\"x9\",\"y\":[1.016137061958665,-0.5420245082783235,-0.6555275772055192,-0.17482452802721207,-0.20966175827607628,1.1268451015087522,-0.3573421160038608,-0.1283955674793992,-0.966809172726611,1.1076046408037203,-0.3857180761673435,0.10751028698545406,-0.0722654270370262,0.5027412369328366,0.4586151070738453,-0.31358236684132984,-0.7294415911860292,0.46889357343171045,1.6289993484803935,-0.13196937501181366,0.13903276441007126,-1.8065516586311317,0.015244035509171621,-0.6693807883877644,-1.1417766658491864,-0.08255553128388488,-0.8202482353376133,-1.1406918804712243,1.964067336106461,-0.9258080012830326,-0.1446993961232515,1.3722685370982728,1.0744640309311915,-0.13315007362248654,-0.24258199731695324,-2.434755966203868,1.249588245085047,-1.9159706351612598,0.9028452338965627,0.09709163764319628,-1.4915115361349514,-0.08131167965299389,-0.3533067773683644,0.43875369576612405,0.16403251203894895,0.3327188025830961,0.09824955382014505,0.25413148419195647,-0.8255273384617694,1.1502405310973927,-0.23663503779656808,-0.10375558656850428,0.29597100192381026,0.161902165064038,0.8746088623238746,-0.4313027123686213,-1.5522117256973411,1.5822264544410984,-0.2100548377789055,-0.11466768195239925,0.7693212034474219,-0.5239181221597862,-0.29627797449795956,-0.7872581356661098,-0.08259776401178255,-0.16190735298564957,1.0400236333371244,0.7016475467736071,1.6061385761185691,-0.09389196044606382,-2.2984771444784005,1.332637670768821,1.4260586545811833,0.4993956785585622,-0.9885025824410877,-1.1500950277274034,0.027440551493462317,-0.7152163964368956,-0.22254785386403808,1.3578697515859321,0.7795183721417863,-1.0941700641779113,-0.3691504402687209,-0.17252910270078434,-0.22910576496372098,-0.5535653063181362,-0.11246827447795366,-0.5004601639160561,1.3972684184213935,0.5826640975314333,-0.3704108210274508,-0.5791163044118627,-1.5688427193366512,0.9128795909915046,0.23049311480694276,0.02602262547334177,2.390872078118632,0.8265186912628907,1.1563445322537906,0.1929179183525035],\"yaxis\":\"y9\",\"type\":\"scatter\"},{\"line\":{\"color\":\"rgba(128, 128, 128, 1.0)\",\"dash\":\"solid\",\"shape\":\"linear\",\"width\":1.3},\"marker\":{\"size\":2,\"symbol\":\"circle\"},\"mode\":\"markers\",\"name\":\"C\",\"text\":\"\",\"x\":[-0.26049029456912903,-0.09714763269974377,0.8111103731791115,-1.9092793360910076,-0.7021805233979893,1.7113569273657838,0.5577059895260462,-0.04010677492691884,-0.6031994783562596,-1.0151465414034821,-0.65977071844508,-0.11373213297939189,-0.17642103201371448,-1.3127870983774748,-0.8121667700648396,0.3562560593913871,0.115787656807456,2.0304725698965473,-1.8962460120140843,-1.695481979037778,0.083227127103031,-1.6072152006989198,-0.791909505896926,-0.00226257065607172,0.789055363306743,1.6384186774393954,-0.9141297129748618,0.34878907759418426,1.3992320086007244,-1.6551017310853946,0.2196602310642125,1.2934294942744322,0.6188203489615133,-1.0477234555721597,0.8342357072623097,1.5704168087418544,-1.4090025076121278,-2.118052083579081,-0.2333452338485016,-0.07709603866845373,-2.8072073735768845,-1.687428945991679,-1.159580191150825,1.304971913099211,-2.6664369761159477,0.0006285483518210876,-0.22704157391863877,1.5959235424772875,0.5226701132725071,-0.32349048754336457,0.17185896219907654,-0.11097559458142076,1.032166153297779,-0.7377867289133496,-1.205653112465707,0.08034586127001102,1.0494964020796176,0.5737773994926414,1.0679595026820368,0.2078110294449889,0.497964687170021,-1.0040946242420055,1.641018339402369,0.6987039146589529,-1.5910510766375996,1.0567069686542072,0.7215190478611012,0.6853744281025479,0.34932033732412204,0.08720879431656639,-0.7592345849283544,-0.5346034111574133,0.6203389986553872,0.055895501280625454,-1.2586433955714882,-1.4507327058899393,-0.5067603413460747,0.22285324461662986,1.2794806218555201,-0.5698953891946154,1.1666766260353854,-0.2748556337601546,0.3689062378985249,-0.22443208712326157,-2.6892222066069196,-0.6277102895697781,0.9948207097804131,2.006791303963984,-2.215807367364074,-0.36815272094188445,-2.0368053672881525,-1.4043787604355018,-0.6741811066408415,1.895508785899313,1.2781476020982228,1.6513382173909747,-2.6044397766828005,0.24020400275439163,-0.5693768063211105,0.934438743225109],\"xaxis\":\"x10\",\"y\":[1.016137061958665,-0.5420245082783235,-0.6555275772055192,-0.17482452802721207,-0.20966175827607628,1.1268451015087522,-0.3573421160038608,-0.1283955674793992,-0.966809172726611,1.1076046408037203,-0.3857180761673435,0.10751028698545406,-0.0722654270370262,0.5027412369328366,0.4586151070738453,-0.31358236684132984,-0.7294415911860292,0.46889357343171045,1.6289993484803935,-0.13196937501181366,0.13903276441007126,-1.8065516586311317,0.015244035509171621,-0.6693807883877644,-1.1417766658491864,-0.08255553128388488,-0.8202482353376133,-1.1406918804712243,1.964067336106461,-0.9258080012830326,-0.1446993961232515,1.3722685370982728,1.0744640309311915,-0.13315007362248654,-0.24258199731695324,-2.434755966203868,1.249588245085047,-1.9159706351612598,0.9028452338965627,0.09709163764319628,-1.4915115361349514,-0.08131167965299389,-0.3533067773683644,0.43875369576612405,0.16403251203894895,0.3327188025830961,0.09824955382014505,0.25413148419195647,-0.8255273384617694,1.1502405310973927,-0.23663503779656808,-0.10375558656850428,0.29597100192381026,0.161902165064038,0.8746088623238746,-0.4313027123686213,-1.5522117256973411,1.5822264544410984,-0.2100548377789055,-0.11466768195239925,0.7693212034474219,-0.5239181221597862,-0.29627797449795956,-0.7872581356661098,-0.08259776401178255,-0.16190735298564957,1.0400236333371244,0.7016475467736071,1.6061385761185691,-0.09389196044606382,-2.2984771444784005,1.332637670768821,1.4260586545811833,0.4993956785585622,-0.9885025824410877,-1.1500950277274034,0.027440551493462317,-0.7152163964368956,-0.22254785386403808,1.3578697515859321,0.7795183721417863,-1.0941700641779113,-0.3691504402687209,-0.17252910270078434,-0.22910576496372098,-0.5535653063181362,-0.11246827447795366,-0.5004601639160561,1.3972684184213935,0.5826640975314333,-0.3704108210274508,-0.5791163044118627,-1.5688427193366512,0.9128795909915046,0.23049311480694276,0.02602262547334177,2.390872078118632,0.8265186912628907,1.1563445322537906,0.1929179183525035],\"yaxis\":\"y10\",\"type\":\"scatter\"},{\"histfunc\":\"count\",\"histnorm\":\"\",\"marker\":{\"color\":\"rgba(50, 171, 96, 1.0)\",\"line\":{\"color\":\"#4D5663\",\"width\":1.3}},\"name\":\"C\",\"nbinsx\":10,\"opacity\":0.8,\"orientation\":\"v\",\"x\":[1.016137061958665,-0.5420245082783235,-0.6555275772055192,-0.17482452802721207,-0.20966175827607628,1.1268451015087522,-0.3573421160038608,-0.1283955674793992,-0.966809172726611,1.1076046408037203,-0.3857180761673435,0.10751028698545406,-0.0722654270370262,0.5027412369328366,0.4586151070738453,-0.31358236684132984,-0.7294415911860292,0.46889357343171045,1.6289993484803935,-0.13196937501181366,0.13903276441007126,-1.8065516586311317,0.015244035509171621,-0.6693807883877644,-1.1417766658491864,-0.08255553128388488,-0.8202482353376133,-1.1406918804712243,1.964067336106461,-0.9258080012830326,-0.1446993961232515,1.3722685370982728,1.0744640309311915,-0.13315007362248654,-0.24258199731695324,-2.434755966203868,1.249588245085047,-1.9159706351612598,0.9028452338965627,0.09709163764319628,-1.4915115361349514,-0.08131167965299389,-0.3533067773683644,0.43875369576612405,0.16403251203894895,0.3327188025830961,0.09824955382014505,0.25413148419195647,-0.8255273384617694,1.1502405310973927,-0.23663503779656808,-0.10375558656850428,0.29597100192381026,0.161902165064038,0.8746088623238746,-0.4313027123686213,-1.5522117256973411,1.5822264544410984,-0.2100548377789055,-0.11466768195239925,0.7693212034474219,-0.5239181221597862,-0.29627797449795956,-0.7872581356661098,-0.08259776401178255,-0.16190735298564957,1.0400236333371244,0.7016475467736071,1.6061385761185691,-0.09389196044606382,-2.2984771444784005,1.332637670768821,1.4260586545811833,0.4993956785585622,-0.9885025824410877,-1.1500950277274034,0.027440551493462317,-0.7152163964368956,-0.22254785386403808,1.3578697515859321,0.7795183721417863,-1.0941700641779113,-0.3691504402687209,-0.17252910270078434,-0.22910576496372098,-0.5535653063181362,-0.11246827447795366,-0.5004601639160561,1.3972684184213935,0.5826640975314333,-0.3704108210274508,-0.5791163044118627,-1.5688427193366512,0.9128795909915046,0.23049311480694276,0.02602262547334177,2.390872078118632,0.8265186912628907,1.1563445322537906,0.1929179183525035],\"xaxis\":\"x11\",\"yaxis\":\"y11\",\"type\":\"histogram\"},{\"line\":{\"color\":\"rgba(128, 128, 128, 1.0)\",\"dash\":\"solid\",\"shape\":\"linear\",\"width\":1.3},\"marker\":{\"size\":2,\"symbol\":\"circle\"},\"mode\":\"markers\",\"name\":\"C\",\"text\":\"\",\"x\":[0.3678728199360895,0.7770397311008759,-0.31161412554319096,0.36109033817175823,1.0958105195636665,-0.6153494161962141,0.3733739029607547,0.7208029853625418,-1.6601967483822941,0.5812737043064377,2.3976288441646996,-2.2775623051411698,-1.3700067916658192,0.6724836769454864,0.6545862845642076,0.8608767566123184,-1.0038117731243594,0.2654092394720436,0.23271099141093987,1.0166224389242902,-0.2302243018740462,0.38887841341583407,-1.1744585970201085,-0.3288681829338943,0.4320913263467357,0.5363338760370511,-0.954588837116522,-0.9060180130129888,0.08258657852706816,0.8690618739895999,-0.07454312360867822,0.9069401158057482,0.8525847408135002,1.7008325595940121,-0.31927820901311404,2.5839018710271704,-0.6615241474077949,-0.3513113384047537,-1.6447064505626163,-0.3381746996970631,0.5185703280206443,-0.4126600899710108,1.111412826450472,-2.1811768624324954,-0.7390562258230423,-0.19691431987782637,-0.8564461074613374,-0.2658143784041566,-2.63333719441065,1.0166617842654235,0.5440607019805058,-0.3238076409135922,2.301811968058974,0.23585547206087806,-0.22523633643882646,-0.11678596070999779,0.12578899821333514,-1.266448176678349,1.840156190143387,0.7934607654229933,-0.879040372028926,0.1106176772142058,0.7232055158481039,1.143955728091707,-0.6922408053305052,0.17111181715903606,1.1752227121361831,0.5149017248635412,-0.29239279311857286,-0.9431186110891314,0.6890241907223393,-2.736800800781161,-0.09193453540823339,0.9031472571354823,-1.328816012502861,-0.907777189110073,-0.6471404454248375,-0.21980395293017788,-0.6742557662560115,-1.080899671209913,-0.33771811051318523,-0.778554295537802,-1.0784224433638752,-0.2522855225757112,-0.34230578532068723,-0.0765594929956213,-0.1897062808846173,0.9551877414597707,0.030419844757999685,0.360806273631684,0.7774964204857886,-0.5182793271816202,-0.6459736843376598,0.13782438188531929,1.2245544210274506,-0.4206696236845781,0.11823720416357132,-0.11183220579060686,-1.6093667900712743,-0.8601587836879706],\"xaxis\":\"x12\",\"y\":[1.016137061958665,-0.5420245082783235,-0.6555275772055192,-0.17482452802721207,-0.20966175827607628,1.1268451015087522,-0.3573421160038608,-0.1283955674793992,-0.966809172726611,1.1076046408037203,-0.3857180761673435,0.10751028698545406,-0.0722654270370262,0.5027412369328366,0.4586151070738453,-0.31358236684132984,-0.7294415911860292,0.46889357343171045,1.6289993484803935,-0.13196937501181366,0.13903276441007126,-1.8065516586311317,0.015244035509171621,-0.6693807883877644,-1.1417766658491864,-0.08255553128388488,-0.8202482353376133,-1.1406918804712243,1.964067336106461,-0.9258080012830326,-0.1446993961232515,1.3722685370982728,1.0744640309311915,-0.13315007362248654,-0.24258199731695324,-2.434755966203868,1.249588245085047,-1.9159706351612598,0.9028452338965627,0.09709163764319628,-1.4915115361349514,-0.08131167965299389,-0.3533067773683644,0.43875369576612405,0.16403251203894895,0.3327188025830961,0.09824955382014505,0.25413148419195647,-0.8255273384617694,1.1502405310973927,-0.23663503779656808,-0.10375558656850428,0.29597100192381026,0.161902165064038,0.8746088623238746,-0.4313027123686213,-1.5522117256973411,1.5822264544410984,-0.2100548377789055,-0.11466768195239925,0.7693212034474219,-0.5239181221597862,-0.29627797449795956,-0.7872581356661098,-0.08259776401178255,-0.16190735298564957,1.0400236333371244,0.7016475467736071,1.6061385761185691,-0.09389196044606382,-2.2984771444784005,1.332637670768821,1.4260586545811833,0.4993956785585622,-0.9885025824410877,-1.1500950277274034,0.027440551493462317,-0.7152163964368956,-0.22254785386403808,1.3578697515859321,0.7795183721417863,-1.0941700641779113,-0.3691504402687209,-0.17252910270078434,-0.22910576496372098,-0.5535653063181362,-0.11246827447795366,-0.5004601639160561,1.3972684184213935,0.5826640975314333,-0.3704108210274508,-0.5791163044118627,-1.5688427193366512,0.9128795909915046,0.23049311480694276,0.02602262547334177,2.390872078118632,0.8265186912628907,1.1563445322537906,0.1929179183525035],\"yaxis\":\"y12\",\"type\":\"scatter\"},{\"line\":{\"color\":\"rgba(128, 128, 128, 1.0)\",\"dash\":\"solid\",\"shape\":\"linear\",\"width\":1.3},\"marker\":{\"size\":2,\"symbol\":\"circle\"},\"mode\":\"markers\",\"name\":\"D\",\"text\":\"\",\"x\":[-1.3731688173621832,-0.5236780566901539,-0.2456701124803259,-1.6380423135313602,0.9982274092034623,-1.15307228039646,-1.5618663632408445,0.8200192727725714,0.4896820037700569,-1.7515717647801263,-0.06337162209812126,-0.3710804808800396,1.334041593001444,-0.749371267093215,-0.08678441228771756,-1.8822514238319927,-0.934430313200707,-0.19847237614294302,-0.20675616177675002,0.8819335976960104,0.023120137660321772,-0.0937663221763038,1.0062716328804868,-0.7527872553381383,-1.711418215864383,-2.6231263089537467,0.5353519665610029,1.3611088323596643,-1.5553755052553273,-0.7900789027259035,-0.112099598614191,-0.7765022974880906,-1.0095700680916018,0.12751898362424638,0.48523254289941636,-0.08758679656614751,-0.6405700377096745,0.4508096744210774,-0.17729227464359826,-1.3703372018763402,0.35822387093041075,0.011425989559393415,-2.2806654962681123,-0.418647724918048,1.0416519990770345,-0.003226566833624996,-0.8009773563696257,-0.8028488879372703,0.4403941548182696,-0.6460565332446022,-1.0538901952212936,-0.02941339682476033,-0.17880153658567707,1.5504066876349598,-0.06515519216521365,0.2634552678872701,1.221545929144533,0.41801716583001197,1.5706085556631733,-0.5735845823969875,-0.8820952994521086,0.3274408658812476,0.0909898204822451,-2.353670135079995,-0.3661806770483226,-0.9498676077976055,-1.0564185103175003,-1.0333840929678313,0.14215218947690056,-2.024164960776577,-0.5104641477871487,0.5231634935646545,-0.752271124788865,-1.431441600474087,0.13510742157296052,0.5017877946333005,0.3659653905102098,0.07018885629698855,2.2459148212296487,0.6786454586708808,0.9490166345640043,-1.9094775520083493,1.728290787905516,0.6398327487317317,0.3544085374865336,0.11432799574217735,0.6589381343247359,0.10346767508405878,-1.1038727497628804,-0.5099896964508587,0.5867887413460539,-0.7522432291170378,-1.2458288997869245,-1.4730026290167162,0.16962320435120895,0.964513413489719,1.1079062496024767,-0.32293074154054024,-0.7015479463603599,2.1010850453068697],\"xaxis\":\"x13\",\"y\":[0.3678728199360895,0.7770397311008759,-0.31161412554319096,0.36109033817175823,1.0958105195636665,-0.6153494161962141,0.3733739029607547,0.7208029853625418,-1.6601967483822941,0.5812737043064377,2.3976288441646996,-2.2775623051411698,-1.3700067916658192,0.6724836769454864,0.6545862845642076,0.8608767566123184,-1.0038117731243594,0.2654092394720436,0.23271099141093987,1.0166224389242902,-0.2302243018740462,0.38887841341583407,-1.1744585970201085,-0.3288681829338943,0.4320913263467357,0.5363338760370511,-0.954588837116522,-0.9060180130129888,0.08258657852706816,0.8690618739895999,-0.07454312360867822,0.9069401158057482,0.8525847408135002,1.7008325595940121,-0.31927820901311404,2.5839018710271704,-0.6615241474077949,-0.3513113384047537,-1.6447064505626163,-0.3381746996970631,0.5185703280206443,-0.4126600899710108,1.111412826450472,-2.1811768624324954,-0.7390562258230423,-0.19691431987782637,-0.8564461074613374,-0.2658143784041566,-2.63333719441065,1.0166617842654235,0.5440607019805058,-0.3238076409135922,2.301811968058974,0.23585547206087806,-0.22523633643882646,-0.11678596070999779,0.12578899821333514,-1.266448176678349,1.840156190143387,0.7934607654229933,-0.879040372028926,0.1106176772142058,0.7232055158481039,1.143955728091707,-0.6922408053305052,0.17111181715903606,1.1752227121361831,0.5149017248635412,-0.29239279311857286,-0.9431186110891314,0.6890241907223393,-2.736800800781161,-0.09193453540823339,0.9031472571354823,-1.328816012502861,-0.907777189110073,-0.6471404454248375,-0.21980395293017788,-0.6742557662560115,-1.080899671209913,-0.33771811051318523,-0.778554295537802,-1.0784224433638752,-0.2522855225757112,-0.34230578532068723,-0.0765594929956213,-0.1897062808846173,0.9551877414597707,0.030419844757999685,0.360806273631684,0.7774964204857886,-0.5182793271816202,-0.6459736843376598,0.13782438188531929,1.2245544210274506,-0.4206696236845781,0.11823720416357132,-0.11183220579060686,-1.6093667900712743,-0.8601587836879706],\"yaxis\":\"y13\",\"type\":\"scatter\"},{\"line\":{\"color\":\"rgba(128, 128, 128, 1.0)\",\"dash\":\"solid\",\"shape\":\"linear\",\"width\":1.3},\"marker\":{\"size\":2,\"symbol\":\"circle\"},\"mode\":\"markers\",\"name\":\"D\",\"text\":\"\",\"x\":[-0.26049029456912903,-0.09714763269974377,0.8111103731791115,-1.9092793360910076,-0.7021805233979893,1.7113569273657838,0.5577059895260462,-0.04010677492691884,-0.6031994783562596,-1.0151465414034821,-0.65977071844508,-0.11373213297939189,-0.17642103201371448,-1.3127870983774748,-0.8121667700648396,0.3562560593913871,0.115787656807456,2.0304725698965473,-1.8962460120140843,-1.695481979037778,0.083227127103031,-1.6072152006989198,-0.791909505896926,-0.00226257065607172,0.789055363306743,1.6384186774393954,-0.9141297129748618,0.34878907759418426,1.3992320086007244,-1.6551017310853946,0.2196602310642125,1.2934294942744322,0.6188203489615133,-1.0477234555721597,0.8342357072623097,1.5704168087418544,-1.4090025076121278,-2.118052083579081,-0.2333452338485016,-0.07709603866845373,-2.8072073735768845,-1.687428945991679,-1.159580191150825,1.304971913099211,-2.6664369761159477,0.0006285483518210876,-0.22704157391863877,1.5959235424772875,0.5226701132725071,-0.32349048754336457,0.17185896219907654,-0.11097559458142076,1.032166153297779,-0.7377867289133496,-1.205653112465707,0.08034586127001102,1.0494964020796176,0.5737773994926414,1.0679595026820368,0.2078110294449889,0.497964687170021,-1.0040946242420055,1.641018339402369,0.6987039146589529,-1.5910510766375996,1.0567069686542072,0.7215190478611012,0.6853744281025479,0.34932033732412204,0.08720879431656639,-0.7592345849283544,-0.5346034111574133,0.6203389986553872,0.055895501280625454,-1.2586433955714882,-1.4507327058899393,-0.5067603413460747,0.22285324461662986,1.2794806218555201,-0.5698953891946154,1.1666766260353854,-0.2748556337601546,0.3689062378985249,-0.22443208712326157,-2.6892222066069196,-0.6277102895697781,0.9948207097804131,2.006791303963984,-2.215807367364074,-0.36815272094188445,-2.0368053672881525,-1.4043787604355018,-0.6741811066408415,1.895508785899313,1.2781476020982228,1.6513382173909747,-2.6044397766828005,0.24020400275439163,-0.5693768063211105,0.934438743225109],\"xaxis\":\"x14\",\"y\":[0.3678728199360895,0.7770397311008759,-0.31161412554319096,0.36109033817175823,1.0958105195636665,-0.6153494161962141,0.3733739029607547,0.7208029853625418,-1.6601967483822941,0.5812737043064377,2.3976288441646996,-2.2775623051411698,-1.3700067916658192,0.6724836769454864,0.6545862845642076,0.8608767566123184,-1.0038117731243594,0.2654092394720436,0.23271099141093987,1.0166224389242902,-0.2302243018740462,0.38887841341583407,-1.1744585970201085,-0.3288681829338943,0.4320913263467357,0.5363338760370511,-0.954588837116522,-0.9060180130129888,0.08258657852706816,0.8690618739895999,-0.07454312360867822,0.9069401158057482,0.8525847408135002,1.7008325595940121,-0.31927820901311404,2.5839018710271704,-0.6615241474077949,-0.3513113384047537,-1.6447064505626163,-0.3381746996970631,0.5185703280206443,-0.4126600899710108,1.111412826450472,-2.1811768624324954,-0.7390562258230423,-0.19691431987782637,-0.8564461074613374,-0.2658143784041566,-2.63333719441065,1.0166617842654235,0.5440607019805058,-0.3238076409135922,2.301811968058974,0.23585547206087806,-0.22523633643882646,-0.11678596070999779,0.12578899821333514,-1.266448176678349,1.840156190143387,0.7934607654229933,-0.879040372028926,0.1106176772142058,0.7232055158481039,1.143955728091707,-0.6922408053305052,0.17111181715903606,1.1752227121361831,0.5149017248635412,-0.29239279311857286,-0.9431186110891314,0.6890241907223393,-2.736800800781161,-0.09193453540823339,0.9031472571354823,-1.328816012502861,-0.907777189110073,-0.6471404454248375,-0.21980395293017788,-0.6742557662560115,-1.080899671209913,-0.33771811051318523,-0.778554295537802,-1.0784224433638752,-0.2522855225757112,-0.34230578532068723,-0.0765594929956213,-0.1897062808846173,0.9551877414597707,0.030419844757999685,0.360806273631684,0.7774964204857886,-0.5182793271816202,-0.6459736843376598,0.13782438188531929,1.2245544210274506,-0.4206696236845781,0.11823720416357132,-0.11183220579060686,-1.6093667900712743,-0.8601587836879706],\"yaxis\":\"y14\",\"type\":\"scatter\"},{\"line\":{\"color\":\"rgba(128, 128, 128, 1.0)\",\"dash\":\"solid\",\"shape\":\"linear\",\"width\":1.3},\"marker\":{\"size\":2,\"symbol\":\"circle\"},\"mode\":\"markers\",\"name\":\"D\",\"text\":\"\",\"x\":[1.016137061958665,-0.5420245082783235,-0.6555275772055192,-0.17482452802721207,-0.20966175827607628,1.1268451015087522,-0.3573421160038608,-0.1283955674793992,-0.966809172726611,1.1076046408037203,-0.3857180761673435,0.10751028698545406,-0.0722654270370262,0.5027412369328366,0.4586151070738453,-0.31358236684132984,-0.7294415911860292,0.46889357343171045,1.6289993484803935,-0.13196937501181366,0.13903276441007126,-1.8065516586311317,0.015244035509171621,-0.6693807883877644,-1.1417766658491864,-0.08255553128388488,-0.8202482353376133,-1.1406918804712243,1.964067336106461,-0.9258080012830326,-0.1446993961232515,1.3722685370982728,1.0744640309311915,-0.13315007362248654,-0.24258199731695324,-2.434755966203868,1.249588245085047,-1.9159706351612598,0.9028452338965627,0.09709163764319628,-1.4915115361349514,-0.08131167965299389,-0.3533067773683644,0.43875369576612405,0.16403251203894895,0.3327188025830961,0.09824955382014505,0.25413148419195647,-0.8255273384617694,1.1502405310973927,-0.23663503779656808,-0.10375558656850428,0.29597100192381026,0.161902165064038,0.8746088623238746,-0.4313027123686213,-1.5522117256973411,1.5822264544410984,-0.2100548377789055,-0.11466768195239925,0.7693212034474219,-0.5239181221597862,-0.29627797449795956,-0.7872581356661098,-0.08259776401178255,-0.16190735298564957,1.0400236333371244,0.7016475467736071,1.6061385761185691,-0.09389196044606382,-2.2984771444784005,1.332637670768821,1.4260586545811833,0.4993956785585622,-0.9885025824410877,-1.1500950277274034,0.027440551493462317,-0.7152163964368956,-0.22254785386403808,1.3578697515859321,0.7795183721417863,-1.0941700641779113,-0.3691504402687209,-0.17252910270078434,-0.22910576496372098,-0.5535653063181362,-0.11246827447795366,-0.5004601639160561,1.3972684184213935,0.5826640975314333,-0.3704108210274508,-0.5791163044118627,-1.5688427193366512,0.9128795909915046,0.23049311480694276,0.02602262547334177,2.390872078118632,0.8265186912628907,1.1563445322537906,0.1929179183525035],\"xaxis\":\"x15\",\"y\":[0.3678728199360895,0.7770397311008759,-0.31161412554319096,0.36109033817175823,1.0958105195636665,-0.6153494161962141,0.3733739029607547,0.7208029853625418,-1.6601967483822941,0.5812737043064377,2.3976288441646996,-2.2775623051411698,-1.3700067916658192,0.6724836769454864,0.6545862845642076,0.8608767566123184,-1.0038117731243594,0.2654092394720436,0.23271099141093987,1.0166224389242902,-0.2302243018740462,0.38887841341583407,-1.1744585970201085,-0.3288681829338943,0.4320913263467357,0.5363338760370511,-0.954588837116522,-0.9060180130129888,0.08258657852706816,0.8690618739895999,-0.07454312360867822,0.9069401158057482,0.8525847408135002,1.7008325595940121,-0.31927820901311404,2.5839018710271704,-0.6615241474077949,-0.3513113384047537,-1.6447064505626163,-0.3381746996970631,0.5185703280206443,-0.4126600899710108,1.111412826450472,-2.1811768624324954,-0.7390562258230423,-0.19691431987782637,-0.8564461074613374,-0.2658143784041566,-2.63333719441065,1.0166617842654235,0.5440607019805058,-0.3238076409135922,2.301811968058974,0.23585547206087806,-0.22523633643882646,-0.11678596070999779,0.12578899821333514,-1.266448176678349,1.840156190143387,0.7934607654229933,-0.879040372028926,0.1106176772142058,0.7232055158481039,1.143955728091707,-0.6922408053305052,0.17111181715903606,1.1752227121361831,0.5149017248635412,-0.29239279311857286,-0.9431186110891314,0.6890241907223393,-2.736800800781161,-0.09193453540823339,0.9031472571354823,-1.328816012502861,-0.907777189110073,-0.6471404454248375,-0.21980395293017788,-0.6742557662560115,-1.080899671209913,-0.33771811051318523,-0.778554295537802,-1.0784224433638752,-0.2522855225757112,-0.34230578532068723,-0.0765594929956213,-0.1897062808846173,0.9551877414597707,0.030419844757999685,0.360806273631684,0.7774964204857886,-0.5182793271816202,-0.6459736843376598,0.13782438188531929,1.2245544210274506,-0.4206696236845781,0.11823720416357132,-0.11183220579060686,-1.6093667900712743,-0.8601587836879706],\"yaxis\":\"y15\",\"type\":\"scatter\"},{\"histfunc\":\"count\",\"histnorm\":\"\",\"marker\":{\"color\":\"rgba(128, 0, 128, 1.0)\",\"line\":{\"color\":\"#4D5663\",\"width\":1.3}},\"name\":\"D\",\"nbinsx\":10,\"opacity\":0.8,\"orientation\":\"v\",\"x\":[0.3678728199360895,0.7770397311008759,-0.31161412554319096,0.36109033817175823,1.0958105195636665,-0.6153494161962141,0.3733739029607547,0.7208029853625418,-1.6601967483822941,0.5812737043064377,2.3976288441646996,-2.2775623051411698,-1.3700067916658192,0.6724836769454864,0.6545862845642076,0.8608767566123184,-1.0038117731243594,0.2654092394720436,0.23271099141093987,1.0166224389242902,-0.2302243018740462,0.38887841341583407,-1.1744585970201085,-0.3288681829338943,0.4320913263467357,0.5363338760370511,-0.954588837116522,-0.9060180130129888,0.08258657852706816,0.8690618739895999,-0.07454312360867822,0.9069401158057482,0.8525847408135002,1.7008325595940121,-0.31927820901311404,2.5839018710271704,-0.6615241474077949,-0.3513113384047537,-1.6447064505626163,-0.3381746996970631,0.5185703280206443,-0.4126600899710108,1.111412826450472,-2.1811768624324954,-0.7390562258230423,-0.19691431987782637,-0.8564461074613374,-0.2658143784041566,-2.63333719441065,1.0166617842654235,0.5440607019805058,-0.3238076409135922,2.301811968058974,0.23585547206087806,-0.22523633643882646,-0.11678596070999779,0.12578899821333514,-1.266448176678349,1.840156190143387,0.7934607654229933,-0.879040372028926,0.1106176772142058,0.7232055158481039,1.143955728091707,-0.6922408053305052,0.17111181715903606,1.1752227121361831,0.5149017248635412,-0.29239279311857286,-0.9431186110891314,0.6890241907223393,-2.736800800781161,-0.09193453540823339,0.9031472571354823,-1.328816012502861,-0.907777189110073,-0.6471404454248375,-0.21980395293017788,-0.6742557662560115,-1.080899671209913,-0.33771811051318523,-0.778554295537802,-1.0784224433638752,-0.2522855225757112,-0.34230578532068723,-0.0765594929956213,-0.1897062808846173,0.9551877414597707,0.030419844757999685,0.360806273631684,0.7774964204857886,-0.5182793271816202,-0.6459736843376598,0.13782438188531929,1.2245544210274506,-0.4206696236845781,0.11823720416357132,-0.11183220579060686,-1.6093667900712743,-0.8601587836879706],\"xaxis\":\"x16\",\"yaxis\":\"y16\",\"type\":\"histogram\"}],                        {\"bargap\":0.02,\"legend\":{\"bgcolor\":\"#F5F6F9\",\"font\":{\"color\":\"#4D5663\"}},\"paper_bgcolor\":\"#F5F6F9\",\"plot_bgcolor\":\"#F5F6F9\",\"showlegend\":false,\"template\":{\"data\":{\"barpolar\":[{\"marker\":{\"line\":{\"color\":\"#E5ECF6\",\"width\":0.5},\"pattern\":{\"fillmode\":\"overlay\",\"size\":10,\"solidity\":0.2}},\"type\":\"barpolar\"}],\"bar\":[{\"error_x\":{\"color\":\"#2a3f5f\"},\"error_y\":{\"color\":\"#2a3f5f\"},\"marker\":{\"line\":{\"color\":\"#E5ECF6\",\"width\":0.5},\"pattern\":{\"fillmode\":\"overlay\",\"size\":10,\"solidity\":0.2}},\"type\":\"bar\"}],\"carpet\":[{\"aaxis\":{\"endlinecolor\":\"#2a3f5f\",\"gridcolor\":\"white\",\"linecolor\":\"white\",\"minorgridcolor\":\"white\",\"startlinecolor\":\"#2a3f5f\"},\"baxis\":{\"endlinecolor\":\"#2a3f5f\",\"gridcolor\":\"white\",\"linecolor\":\"white\",\"minorgridcolor\":\"white\",\"startlinecolor\":\"#2a3f5f\"},\"type\":\"carpet\"}],\"choropleth\":[{\"colorbar\":{\"outlinewidth\":0,\"ticks\":\"\"},\"type\":\"choropleth\"}],\"contourcarpet\":[{\"colorbar\":{\"outlinewidth\":0,\"ticks\":\"\"},\"type\":\"contourcarpet\"}],\"contour\":[{\"colorbar\":{\"outlinewidth\":0,\"ticks\":\"\"},\"colorscale\":[[0.0,\"#0d0887\"],[0.1111111111111111,\"#46039f\"],[0.2222222222222222,\"#7201a8\"],[0.3333333333333333,\"#9c179e\"],[0.4444444444444444,\"#bd3786\"],[0.5555555555555556,\"#d8576b\"],[0.6666666666666666,\"#ed7953\"],[0.7777777777777778,\"#fb9f3a\"],[0.8888888888888888,\"#fdca26\"],[1.0,\"#f0f921\"]],\"type\":\"contour\"}],\"heatmapgl\":[{\"colorbar\":{\"outlinewidth\":0,\"ticks\":\"\"},\"colorscale\":[[0.0,\"#0d0887\"],[0.1111111111111111,\"#46039f\"],[0.2222222222222222,\"#7201a8\"],[0.3333333333333333,\"#9c179e\"],[0.4444444444444444,\"#bd3786\"],[0.5555555555555556,\"#d8576b\"],[0.6666666666666666,\"#ed7953\"],[0.7777777777777778,\"#fb9f3a\"],[0.8888888888888888,\"#fdca26\"],[1.0,\"#f0f921\"]],\"type\":\"heatmapgl\"}],\"heatmap\":[{\"colorbar\":{\"outlinewidth\":0,\"ticks\":\"\"},\"colorscale\":[[0.0,\"#0d0887\"],[0.1111111111111111,\"#46039f\"],[0.2222222222222222,\"#7201a8\"],[0.3333333333333333,\"#9c179e\"],[0.4444444444444444,\"#bd3786\"],[0.5555555555555556,\"#d8576b\"],[0.6666666666666666,\"#ed7953\"],[0.7777777777777778,\"#fb9f3a\"],[0.8888888888888888,\"#fdca26\"],[1.0,\"#f0f921\"]],\"type\":\"heatmap\"}],\"histogram2dcontour\":[{\"colorbar\":{\"outlinewidth\":0,\"ticks\":\"\"},\"colorscale\":[[0.0,\"#0d0887\"],[0.1111111111111111,\"#46039f\"],[0.2222222222222222,\"#7201a8\"],[0.3333333333333333,\"#9c179e\"],[0.4444444444444444,\"#bd3786\"],[0.5555555555555556,\"#d8576b\"],[0.6666666666666666,\"#ed7953\"],[0.7777777777777778,\"#fb9f3a\"],[0.8888888888888888,\"#fdca26\"],[1.0,\"#f0f921\"]],\"type\":\"histogram2dcontour\"}],\"histogram2d\":[{\"colorbar\":{\"outlinewidth\":0,\"ticks\":\"\"},\"colorscale\":[[0.0,\"#0d0887\"],[0.1111111111111111,\"#46039f\"],[0.2222222222222222,\"#7201a8\"],[0.3333333333333333,\"#9c179e\"],[0.4444444444444444,\"#bd3786\"],[0.5555555555555556,\"#d8576b\"],[0.6666666666666666,\"#ed7953\"],[0.7777777777777778,\"#fb9f3a\"],[0.8888888888888888,\"#fdca26\"],[1.0,\"#f0f921\"]],\"type\":\"histogram2d\"}],\"histogram\":[{\"marker\":{\"pattern\":{\"fillmode\":\"overlay\",\"size\":10,\"solidity\":0.2}},\"type\":\"histogram\"}],\"mesh3d\":[{\"colorbar\":{\"outlinewidth\":0,\"ticks\":\"\"},\"type\":\"mesh3d\"}],\"parcoords\":[{\"line\":{\"colorbar\":{\"outlinewidth\":0,\"ticks\":\"\"}},\"type\":\"parcoords\"}],\"pie\":[{\"automargin\":true,\"type\":\"pie\"}],\"scatter3d\":[{\"line\":{\"colorbar\":{\"outlinewidth\":0,\"ticks\":\"\"}},\"marker\":{\"colorbar\":{\"outlinewidth\":0,\"ticks\":\"\"}},\"type\":\"scatter3d\"}],\"scattercarpet\":[{\"marker\":{\"colorbar\":{\"outlinewidth\":0,\"ticks\":\"\"}},\"type\":\"scattercarpet\"}],\"scattergeo\":[{\"marker\":{\"colorbar\":{\"outlinewidth\":0,\"ticks\":\"\"}},\"type\":\"scattergeo\"}],\"scattergl\":[{\"marker\":{\"colorbar\":{\"outlinewidth\":0,\"ticks\":\"\"}},\"type\":\"scattergl\"}],\"scattermapbox\":[{\"marker\":{\"colorbar\":{\"outlinewidth\":0,\"ticks\":\"\"}},\"type\":\"scattermapbox\"}],\"scatterpolargl\":[{\"marker\":{\"colorbar\":{\"outlinewidth\":0,\"ticks\":\"\"}},\"type\":\"scatterpolargl\"}],\"scatterpolar\":[{\"marker\":{\"colorbar\":{\"outlinewidth\":0,\"ticks\":\"\"}},\"type\":\"scatterpolar\"}],\"scatter\":[{\"fillpattern\":{\"fillmode\":\"overlay\",\"size\":10,\"solidity\":0.2},\"type\":\"scatter\"}],\"scatterternary\":[{\"marker\":{\"colorbar\":{\"outlinewidth\":0,\"ticks\":\"\"}},\"type\":\"scatterternary\"}],\"surface\":[{\"colorbar\":{\"outlinewidth\":0,\"ticks\":\"\"},\"colorscale\":[[0.0,\"#0d0887\"],[0.1111111111111111,\"#46039f\"],[0.2222222222222222,\"#7201a8\"],[0.3333333333333333,\"#9c179e\"],[0.4444444444444444,\"#bd3786\"],[0.5555555555555556,\"#d8576b\"],[0.6666666666666666,\"#ed7953\"],[0.7777777777777778,\"#fb9f3a\"],[0.8888888888888888,\"#fdca26\"],[1.0,\"#f0f921\"]],\"type\":\"surface\"}],\"table\":[{\"cells\":{\"fill\":{\"color\":\"#EBF0F8\"},\"line\":{\"color\":\"white\"}},\"header\":{\"fill\":{\"color\":\"#C8D4E3\"},\"line\":{\"color\":\"white\"}},\"type\":\"table\"}]},\"layout\":{\"annotationdefaults\":{\"arrowcolor\":\"#2a3f5f\",\"arrowhead\":0,\"arrowwidth\":1},\"autotypenumbers\":\"strict\",\"coloraxis\":{\"colorbar\":{\"outlinewidth\":0,\"ticks\":\"\"}},\"colorscale\":{\"diverging\":[[0,\"#8e0152\"],[0.1,\"#c51b7d\"],[0.2,\"#de77ae\"],[0.3,\"#f1b6da\"],[0.4,\"#fde0ef\"],[0.5,\"#f7f7f7\"],[0.6,\"#e6f5d0\"],[0.7,\"#b8e186\"],[0.8,\"#7fbc41\"],[0.9,\"#4d9221\"],[1,\"#276419\"]],\"sequential\":[[0.0,\"#0d0887\"],[0.1111111111111111,\"#46039f\"],[0.2222222222222222,\"#7201a8\"],[0.3333333333333333,\"#9c179e\"],[0.4444444444444444,\"#bd3786\"],[0.5555555555555556,\"#d8576b\"],[0.6666666666666666,\"#ed7953\"],[0.7777777777777778,\"#fb9f3a\"],[0.8888888888888888,\"#fdca26\"],[1.0,\"#f0f921\"]],\"sequentialminus\":[[0.0,\"#0d0887\"],[0.1111111111111111,\"#46039f\"],[0.2222222222222222,\"#7201a8\"],[0.3333333333333333,\"#9c179e\"],[0.4444444444444444,\"#bd3786\"],[0.5555555555555556,\"#d8576b\"],[0.6666666666666666,\"#ed7953\"],[0.7777777777777778,\"#fb9f3a\"],[0.8888888888888888,\"#fdca26\"],[1.0,\"#f0f921\"]]},\"colorway\":[\"#636efa\",\"#EF553B\",\"#00cc96\",\"#ab63fa\",\"#FFA15A\",\"#19d3f3\",\"#FF6692\",\"#B6E880\",\"#FF97FF\",\"#FECB52\"],\"font\":{\"color\":\"#2a3f5f\"},\"geo\":{\"bgcolor\":\"white\",\"lakecolor\":\"white\",\"landcolor\":\"#E5ECF6\",\"showlakes\":true,\"showland\":true,\"subunitcolor\":\"white\"},\"hoverlabel\":{\"align\":\"left\"},\"hovermode\":\"closest\",\"mapbox\":{\"style\":\"light\"},\"paper_bgcolor\":\"white\",\"plot_bgcolor\":\"#E5ECF6\",\"polar\":{\"angularaxis\":{\"gridcolor\":\"white\",\"linecolor\":\"white\",\"ticks\":\"\"},\"bgcolor\":\"#E5ECF6\",\"radialaxis\":{\"gridcolor\":\"white\",\"linecolor\":\"white\",\"ticks\":\"\"}},\"scene\":{\"xaxis\":{\"backgroundcolor\":\"#E5ECF6\",\"gridcolor\":\"white\",\"gridwidth\":2,\"linecolor\":\"white\",\"showbackground\":true,\"ticks\":\"\",\"zerolinecolor\":\"white\"},\"yaxis\":{\"backgroundcolor\":\"#E5ECF6\",\"gridcolor\":\"white\",\"gridwidth\":2,\"linecolor\":\"white\",\"showbackground\":true,\"ticks\":\"\",\"zerolinecolor\":\"white\"},\"zaxis\":{\"backgroundcolor\":\"#E5ECF6\",\"gridcolor\":\"white\",\"gridwidth\":2,\"linecolor\":\"white\",\"showbackground\":true,\"ticks\":\"\",\"zerolinecolor\":\"white\"}},\"shapedefaults\":{\"line\":{\"color\":\"#2a3f5f\"}},\"ternary\":{\"aaxis\":{\"gridcolor\":\"white\",\"linecolor\":\"white\",\"ticks\":\"\"},\"baxis\":{\"gridcolor\":\"white\",\"linecolor\":\"white\",\"ticks\":\"\"},\"bgcolor\":\"#E5ECF6\",\"caxis\":{\"gridcolor\":\"white\",\"linecolor\":\"white\",\"ticks\":\"\"}},\"title\":{\"x\":0.05},\"xaxis\":{\"automargin\":true,\"gridcolor\":\"white\",\"linecolor\":\"white\",\"ticks\":\"\",\"title\":{\"standoff\":15},\"zerolinecolor\":\"white\",\"zerolinewidth\":2},\"yaxis\":{\"automargin\":true,\"gridcolor\":\"white\",\"linecolor\":\"white\",\"ticks\":\"\",\"title\":{\"standoff\":15},\"zerolinecolor\":\"white\",\"zerolinewidth\":2}}},\"title\":{\"font\":{\"color\":\"#4D5663\"}},\"xaxis\":{\"anchor\":\"y\",\"domain\":[0.0,0.2125],\"gridcolor\":\"#E1E5ED\",\"showgrid\":false,\"tickfont\":{\"color\":\"#4D5663\"},\"title\":{\"font\":{\"color\":\"#4D5663\"},\"text\":\"\"},\"zerolinecolor\":\"#E1E5ED\"},\"yaxis\":{\"anchor\":\"x\",\"domain\":[0.8025,1.0],\"gridcolor\":\"#E1E5ED\",\"showgrid\":false,\"tickfont\":{\"color\":\"#4D5663\"},\"title\":{\"font\":{\"color\":\"#4D5663\"},\"text\":\"\"},\"zerolinecolor\":\"#E1E5ED\"},\"xaxis2\":{\"anchor\":\"y2\",\"domain\":[0.2625,0.475],\"gridcolor\":\"#E1E5ED\",\"showgrid\":false,\"tickfont\":{\"color\":\"#4D5663\"},\"title\":{\"font\":{\"color\":\"#4D5663\"},\"text\":\"\"},\"zerolinecolor\":\"#E1E5ED\"},\"yaxis2\":{\"anchor\":\"x2\",\"domain\":[0.8025,1.0],\"gridcolor\":\"#E1E5ED\",\"showgrid\":false,\"tickfont\":{\"color\":\"#4D5663\"},\"title\":{\"font\":{\"color\":\"#4D5663\"},\"text\":\"\"},\"zerolinecolor\":\"#E1E5ED\"},\"xaxis3\":{\"anchor\":\"y3\",\"domain\":[0.525,0.7375],\"gridcolor\":\"#E1E5ED\",\"showgrid\":false,\"tickfont\":{\"color\":\"#4D5663\"},\"title\":{\"font\":{\"color\":\"#4D5663\"},\"text\":\"\"},\"zerolinecolor\":\"#E1E5ED\"},\"yaxis3\":{\"anchor\":\"x3\",\"domain\":[0.8025,1.0],\"gridcolor\":\"#E1E5ED\",\"showgrid\":false,\"tickfont\":{\"color\":\"#4D5663\"},\"title\":{\"font\":{\"color\":\"#4D5663\"},\"text\":\"\"},\"zerolinecolor\":\"#E1E5ED\"},\"xaxis4\":{\"anchor\":\"y4\",\"domain\":[0.7875,1.0],\"gridcolor\":\"#E1E5ED\",\"showgrid\":false,\"tickfont\":{\"color\":\"#4D5663\"},\"title\":{\"font\":{\"color\":\"#4D5663\"},\"text\":\"\"},\"zerolinecolor\":\"#E1E5ED\"},\"yaxis4\":{\"anchor\":\"x4\",\"domain\":[0.8025,1.0],\"gridcolor\":\"#E1E5ED\",\"showgrid\":false,\"tickfont\":{\"color\":\"#4D5663\"},\"title\":{\"font\":{\"color\":\"#4D5663\"},\"text\":\"\"},\"zerolinecolor\":\"#E1E5ED\"},\"xaxis5\":{\"anchor\":\"y5\",\"domain\":[0.0,0.2125],\"gridcolor\":\"#E1E5ED\",\"showgrid\":false,\"tickfont\":{\"color\":\"#4D5663\"},\"title\":{\"font\":{\"color\":\"#4D5663\"},\"text\":\"\"},\"zerolinecolor\":\"#E1E5ED\"},\"yaxis5\":{\"anchor\":\"x5\",\"domain\":[0.535,0.7325],\"gridcolor\":\"#E1E5ED\",\"showgrid\":false,\"tickfont\":{\"color\":\"#4D5663\"},\"title\":{\"font\":{\"color\":\"#4D5663\"},\"text\":\"\"},\"zerolinecolor\":\"#E1E5ED\"},\"xaxis6\":{\"anchor\":\"y6\",\"domain\":[0.2625,0.475],\"gridcolor\":\"#E1E5ED\",\"showgrid\":false,\"tickfont\":{\"color\":\"#4D5663\"},\"title\":{\"font\":{\"color\":\"#4D5663\"},\"text\":\"\"},\"zerolinecolor\":\"#E1E5ED\"},\"yaxis6\":{\"anchor\":\"x6\",\"domain\":[0.535,0.7325],\"gridcolor\":\"#E1E5ED\",\"showgrid\":false,\"tickfont\":{\"color\":\"#4D5663\"},\"title\":{\"font\":{\"color\":\"#4D5663\"},\"text\":\"\"},\"zerolinecolor\":\"#E1E5ED\"},\"xaxis7\":{\"anchor\":\"y7\",\"domain\":[0.525,0.7375],\"gridcolor\":\"#E1E5ED\",\"showgrid\":false,\"tickfont\":{\"color\":\"#4D5663\"},\"title\":{\"font\":{\"color\":\"#4D5663\"},\"text\":\"\"},\"zerolinecolor\":\"#E1E5ED\"},\"yaxis7\":{\"anchor\":\"x7\",\"domain\":[0.535,0.7325],\"gridcolor\":\"#E1E5ED\",\"showgrid\":false,\"tickfont\":{\"color\":\"#4D5663\"},\"title\":{\"font\":{\"color\":\"#4D5663\"},\"text\":\"\"},\"zerolinecolor\":\"#E1E5ED\"},\"xaxis8\":{\"anchor\":\"y8\",\"domain\":[0.7875,1.0],\"gridcolor\":\"#E1E5ED\",\"showgrid\":false,\"tickfont\":{\"color\":\"#4D5663\"},\"title\":{\"font\":{\"color\":\"#4D5663\"},\"text\":\"\"},\"zerolinecolor\":\"#E1E5ED\"},\"yaxis8\":{\"anchor\":\"x8\",\"domain\":[0.535,0.7325],\"gridcolor\":\"#E1E5ED\",\"showgrid\":false,\"tickfont\":{\"color\":\"#4D5663\"},\"title\":{\"font\":{\"color\":\"#4D5663\"},\"text\":\"\"},\"zerolinecolor\":\"#E1E5ED\"},\"xaxis9\":{\"anchor\":\"y9\",\"domain\":[0.0,0.2125],\"gridcolor\":\"#E1E5ED\",\"showgrid\":false,\"tickfont\":{\"color\":\"#4D5663\"},\"title\":{\"font\":{\"color\":\"#4D5663\"},\"text\":\"\"},\"zerolinecolor\":\"#E1E5ED\"},\"yaxis9\":{\"anchor\":\"x9\",\"domain\":[0.2675,0.465],\"gridcolor\":\"#E1E5ED\",\"showgrid\":false,\"tickfont\":{\"color\":\"#4D5663\"},\"title\":{\"font\":{\"color\":\"#4D5663\"},\"text\":\"\"},\"zerolinecolor\":\"#E1E5ED\"},\"xaxis10\":{\"anchor\":\"y10\",\"domain\":[0.2625,0.475],\"gridcolor\":\"#E1E5ED\",\"showgrid\":false,\"tickfont\":{\"color\":\"#4D5663\"},\"title\":{\"font\":{\"color\":\"#4D5663\"},\"text\":\"\"},\"zerolinecolor\":\"#E1E5ED\"},\"yaxis10\":{\"anchor\":\"x10\",\"domain\":[0.2675,0.465],\"gridcolor\":\"#E1E5ED\",\"showgrid\":false,\"tickfont\":{\"color\":\"#4D5663\"},\"title\":{\"font\":{\"color\":\"#4D5663\"},\"text\":\"\"},\"zerolinecolor\":\"#E1E5ED\"},\"xaxis11\":{\"anchor\":\"y11\",\"domain\":[0.525,0.7375],\"gridcolor\":\"#E1E5ED\",\"showgrid\":false,\"tickfont\":{\"color\":\"#4D5663\"},\"title\":{\"font\":{\"color\":\"#4D5663\"},\"text\":\"\"},\"zerolinecolor\":\"#E1E5ED\"},\"yaxis11\":{\"anchor\":\"x11\",\"domain\":[0.2675,0.465],\"gridcolor\":\"#E1E5ED\",\"showgrid\":false,\"tickfont\":{\"color\":\"#4D5663\"},\"title\":{\"font\":{\"color\":\"#4D5663\"},\"text\":\"\"},\"zerolinecolor\":\"#E1E5ED\"},\"xaxis12\":{\"anchor\":\"y12\",\"domain\":[0.7875,1.0],\"gridcolor\":\"#E1E5ED\",\"showgrid\":false,\"tickfont\":{\"color\":\"#4D5663\"},\"title\":{\"font\":{\"color\":\"#4D5663\"},\"text\":\"\"},\"zerolinecolor\":\"#E1E5ED\"},\"yaxis12\":{\"anchor\":\"x12\",\"domain\":[0.2675,0.465],\"gridcolor\":\"#E1E5ED\",\"showgrid\":false,\"tickfont\":{\"color\":\"#4D5663\"},\"title\":{\"font\":{\"color\":\"#4D5663\"},\"text\":\"\"},\"zerolinecolor\":\"#E1E5ED\"},\"xaxis13\":{\"anchor\":\"y13\",\"domain\":[0.0,0.2125],\"gridcolor\":\"#E1E5ED\",\"showgrid\":false,\"tickfont\":{\"color\":\"#4D5663\"},\"title\":{\"font\":{\"color\":\"#4D5663\"},\"text\":\"\"},\"zerolinecolor\":\"#E1E5ED\"},\"yaxis13\":{\"anchor\":\"x13\",\"domain\":[0.0,0.1975],\"gridcolor\":\"#E1E5ED\",\"showgrid\":false,\"tickfont\":{\"color\":\"#4D5663\"},\"title\":{\"font\":{\"color\":\"#4D5663\"},\"text\":\"\"},\"zerolinecolor\":\"#E1E5ED\"},\"xaxis14\":{\"anchor\":\"y14\",\"domain\":[0.2625,0.475],\"gridcolor\":\"#E1E5ED\",\"showgrid\":false,\"tickfont\":{\"color\":\"#4D5663\"},\"title\":{\"font\":{\"color\":\"#4D5663\"},\"text\":\"\"},\"zerolinecolor\":\"#E1E5ED\"},\"yaxis14\":{\"anchor\":\"x14\",\"domain\":[0.0,0.1975],\"gridcolor\":\"#E1E5ED\",\"showgrid\":false,\"tickfont\":{\"color\":\"#4D5663\"},\"title\":{\"font\":{\"color\":\"#4D5663\"},\"text\":\"\"},\"zerolinecolor\":\"#E1E5ED\"},\"xaxis15\":{\"anchor\":\"y15\",\"domain\":[0.525,0.7375],\"gridcolor\":\"#E1E5ED\",\"showgrid\":false,\"tickfont\":{\"color\":\"#4D5663\"},\"title\":{\"font\":{\"color\":\"#4D5663\"},\"text\":\"\"},\"zerolinecolor\":\"#E1E5ED\"},\"yaxis15\":{\"anchor\":\"x15\",\"domain\":[0.0,0.1975],\"gridcolor\":\"#E1E5ED\",\"showgrid\":false,\"tickfont\":{\"color\":\"#4D5663\"},\"title\":{\"font\":{\"color\":\"#4D5663\"},\"text\":\"\"},\"zerolinecolor\":\"#E1E5ED\"},\"xaxis16\":{\"anchor\":\"y16\",\"domain\":[0.7875,1.0],\"gridcolor\":\"#E1E5ED\",\"showgrid\":false,\"tickfont\":{\"color\":\"#4D5663\"},\"title\":{\"font\":{\"color\":\"#4D5663\"},\"text\":\"\"},\"zerolinecolor\":\"#E1E5ED\"},\"yaxis16\":{\"anchor\":\"x16\",\"domain\":[0.0,0.1975],\"gridcolor\":\"#E1E5ED\",\"showgrid\":false,\"tickfont\":{\"color\":\"#4D5663\"},\"title\":{\"font\":{\"color\":\"#4D5663\"},\"text\":\"\"},\"zerolinecolor\":\"#E1E5ED\"}},                        {\"showLink\": true, \"linkText\": \"Export to plot.ly\", \"plotlyServerURL\": \"https://plot.ly\", \"responsive\": true}                    ).then(function(){\n",
       "                            \n",
       "var gd = document.getElementById('2ca9ceea-a3cd-4307-a7c5-faa9c558cef7');\n",
       "var x = new MutationObserver(function (mutations, observer) {{\n",
       "        var display = window.getComputedStyle(gd).display;\n",
       "        if (!display || display === 'none') {{\n",
       "            console.log([gd, 'removed!']);\n",
       "            Plotly.purge(gd);\n",
       "            observer.disconnect();\n",
       "        }}\n",
       "}});\n",
       "\n",
       "// Listen for the removal of the full notebook cells\n",
       "var notebookContainer = gd.closest('#notebook-container');\n",
       "if (notebookContainer) {{\n",
       "    x.observe(notebookContainer, {childList: true});\n",
       "}}\n",
       "\n",
       "// Listen for the clearing of the current output cell\n",
       "var outputEl = gd.closest('.output');\n",
       "if (outputEl) {{\n",
       "    x.observe(outputEl, {childList: true});\n",
       "}}\n",
       "\n",
       "                        })                };                });            </script>        </div>"
      ]
     },
     "metadata": {},
     "output_type": "display_data"
    }
   ],
   "source": [
    "df1.scatter_matrix()"
   ]
  },
  {
   "cell_type": "code",
   "execution_count": null,
   "metadata": {},
   "outputs": [],
   "source": []
  }
 ],
 "metadata": {
  "kernelspec": {
   "display_name": "CondaEnv",
   "language": "python",
   "name": "python3"
  },
  "language_info": {
   "codemirror_mode": {
    "name": "ipython",
    "version": 3
   },
   "file_extension": ".py",
   "mimetype": "text/x-python",
   "name": "python",
   "nbconvert_exporter": "python",
   "pygments_lexer": "ipython3",
   "version": "3.12.1"
  }
 },
 "nbformat": 4,
 "nbformat_minor": 2
}
